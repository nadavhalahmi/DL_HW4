{
 "cells": [
  {
   "cell_type": "markdown",
   "metadata": {},
   "source": [
    "$$\n",
    "\\newcommand{\\mat}[1]{\\boldsymbol {#1}}\n",
    "\\newcommand{\\mattr}[1]{\\boldsymbol {#1}^\\top}\n",
    "\\newcommand{\\matinv}[1]{\\boldsymbol {#1}^{-1}}\n",
    "\\newcommand{\\vec}[1]{\\boldsymbol {#1}}\n",
    "\\newcommand{\\vectr}[1]{\\boldsymbol {#1}^\\top}\n",
    "\\newcommand{\\rvar}[1]{\\mathrm {#1}}\n",
    "\\newcommand{\\rvec}[1]{\\boldsymbol{\\mathrm{#1}}}\n",
    "\\newcommand{\\diag}{\\mathop{\\mathrm {diag}}}\n",
    "\\newcommand{\\set}[1]{\\mathbb {#1}}\n",
    "\\newcommand{\\cset}[1]{\\mathcal{#1}}\n",
    "\\newcommand{\\norm}[1]{\\left\\lVert#1\\right\\rVert}\n",
    "\\newcommand{\\pderiv}[2]{\\frac{\\partial #1}{\\partial #2}}\n",
    "\\newcommand{\\bb}[1]{\\boldsymbol{#1}}\n",
    "\\newcommand{\\E}[2][]{\\mathbb{E}_{#1}\\left[#2\\right]}\n",
    "\\newcommand{\\ip}[3]{\\left<#1,#2\\right>_{#3}}\n",
    "\\newcommand{\\given}[]{\\,\\middle\\vert\\,}\n",
    "\\newcommand{\\DKL}[2]{\\cset{D}_{\\text{KL}}\\left(#1\\,\\Vert\\, #2\\right)}\n",
    "\\newcommand{\\grad}[]{\\nabla}\n",
    "$$\n",
    "# Part 1: Deep Reinforcement Learning\n",
    "<a id=part1></a>"
   ]
  },
  {
   "cell_type": "markdown",
   "metadata": {},
   "source": [
    "In the tutorial we have seen value-based reinforcement learning, in which we learn to approximate the action-value function $q(s,a)$.\n",
    "\n",
    "In this exercise we'll explore a different approach, directly learning the agent's policy distribution, $\\pi(a|s)$\n",
    "by using *policy gradients*, in order to safely land on the moon!"
   ]
  },
  {
   "cell_type": "code",
   "execution_count": 289,
   "metadata": {
    "pycharm": {
     "is_executing": false
    }
   },
   "outputs": [
    {
     "name": "stdout",
     "output_type": "stream",
     "text": [
      "The autoreload extension is already loaded. To reload it, use:\n",
      "  %reload_ext autoreload\n"
     ]
    }
   ],
   "source": [
    "%load_ext autoreload\n",
    "%autoreload 2\n",
    "%matplotlib inline\n",
    "\n",
    "import unittest\n",
    "import os\n",
    "import sys\n",
    "import pathlib\n",
    "import urllib\n",
    "import shutil\n",
    "import re\n",
    "\n",
    "import numpy as np\n",
    "import torch\n",
    "import torch.nn as nn\n",
    "import torch.optim as optim\n",
    "import matplotlib.pyplot as plt"
   ]
  },
  {
   "cell_type": "code",
   "execution_count": 290,
   "metadata": {
    "pycharm": {
     "is_executing": false
    }
   },
   "outputs": [
    {
     "name": "stdout",
     "output_type": "stream",
     "text": [
      "Using device: cpu\n"
     ]
    }
   ],
   "source": [
    "test = unittest.TestCase()\n",
    "plt.rcParams.update({'font.size': 12})\n",
    "device = torch.device('cuda' if torch.cuda.is_available() else 'cpu')\n",
    "\n",
    "# Prefer CPU, GPU won't help much in this assignment\n",
    "device = 'cpu'\n",
    "print('Using device:', device)\n",
    "\n",
    "# Seed for deterministic tests\n",
    "SEED = 42"
   ]
  },
  {
   "cell_type": "markdown",
   "metadata": {},
   "source": [
    "Some technical notes before we begin:\n",
    "\n",
    "- This part does not require a GPU. We won't need large models, and the computation bottleneck will be the generation of episodes to train on.\n",
    "- In order to run this notebook on the server, you must prepend the `xvfb-run` command to create a virtual screen. For example,\n",
    "    - to run the jupyter lab script with `srun` do\n",
    "        ```\n",
    "        srun -c2 --gres=gpu:1 xvfb-run -a -s \"-screen 0 1440x900x24\" ./jupyter-lab.sh\n",
    "        ```\n",
    "    - To run the submission script, do\n",
    "        ```\n",
    "        srun -c2 xvfb-run -a -s \"-screen 0 1440x900x24\" python main.py prepare-submission ...\n",
    "        ```\n",
    "    and so on.\n",
    "- The OpenAI `gym` library is not officially supported on windows. However it should be possible to install and run the necessary environment for this exercise. However, we cannot provide you with technical support for this. If you have trouble installing locally, we suggest running on the course server."
   ]
  },
  {
   "cell_type": "markdown",
   "metadata": {},
   "source": [
    "## Policy gradients\n",
    "<a id=part1_1></a>"
   ]
  },
  {
   "cell_type": "markdown",
   "metadata": {},
   "source": [
    "Recall from the tutorial that we define the **policy** of an agent as the conditional distribution,\n",
    "$$\n",
    "\\pi(a|s) = \\Pr(a_t=a\\vert s_t=s),\n",
    "$$\n",
    "which defines how likely the agent is to take action $a$ at state $s$.\n",
    "\n",
    "Furthermore we define the action-value function,\n",
    "$$\n",
    "q_{\\pi}(s,a) = \\E{g_t(\\tau)|s_t = s,a_t=a,\\pi}\n",
    "$$\n",
    "where \n",
    "$$\n",
    "g_t(\\tau) = r_{t+1}+\\gamma r_{t+2} + \\dots = \\sum_{k=0}^{\\infty} \\gamma^k r_{t+1+k},\n",
    "$$\n",
    "is the total discounted reward of a specific trajectory $\\tau$ from time $t$, and the expectation in $q$ is over all possible\n",
    "trajectories,\n",
    "$\n",
    "\\tau=\\left\\{ (s_0,a_0,r_1,s_1), \\dots (s_T,a_T,r_{T+1},s_{T+1}) \\right\\}.\n",
    "$"
   ]
  },
  {
   "cell_type": "markdown",
   "metadata": {},
   "source": [
    "In the tutorial we saw that we can learn a value function starting with some random function and\n",
    "updating it iteratively by using the **Bellman optimality equation**.\n",
    "Given that we have some action-value function, we can immediately create a policy based on that\n",
    "by simply selecting an action which maximize the action-value at the current state, i.e.\n",
    "$$\n",
    "\\pi(a|s) =\n",
    "\\begin{cases}\n",
    "1, & a = \\arg\\max_{a'\\in\\cset{A}} q(s,a') \\\\\n",
    "0, & \\text{else}\n",
    "\\end{cases}.\n",
    "$$\n",
    "This is called $q$-learning. This approach aims to obtain a policy indirectly through the action-value function.\n",
    "Yet, in most cases we don't actually care about knowing the value of particular states,\n",
    "since all we need is a good policy for our agent. \n",
    "\n",
    "Here we'll take a different approach and learn a policy distribution $\\pi(a|s)$ directly - by using **policy gradients**."
   ]
  },
  {
   "cell_type": "markdown",
   "metadata": {},
   "source": [
    "### Formalism"
   ]
  },
  {
   "cell_type": "markdown",
   "metadata": {},
   "source": [
    "We define a parametric policy, $\\pi_\\vec{\\theta}(a|s)$, and maximize total discounted reward (or minimize the negative reward):\n",
    "$$\n",
    "\\mathcal{L}(\\vec{\\theta})=\\E[\\tau]{-g(\\tau)|\\pi_\\vec{\\theta}} = -\\int g(\\tau)p(\\tau|\\vec{\\theta})d\\tau,\n",
    "$$\n",
    "where $p(\\tau|\\vec{\\theta})$ is the probability of a specific trajectory $\\tau$ under the policy defined by $\\vec{\\theta}$.\n"
   ]
  },
  {
   "cell_type": "markdown",
   "metadata": {},
   "source": [
    "Since we want to find the parameters $\\vec{\\theta}$ which minimize $\\mathcal{L}(\\vec{\\theta})$, we'll compute the gradient w.r.t. $\\vec{\\theta}$:\n",
    "$$\n",
    "\\grad\\mathcal{L}(\\vec{\\theta}) = -\\int g(\\tau)\\grad p(\\tau|\\vec{\\theta})d\\tau.\n",
    "$$\n",
    "\n",
    "Unfortunately, if we try to write $p(\\tau|\\vec{\\theta})$ explicitly,\n",
    "we find that computing it's gradient with respect to $\\vec{\\theta}$ is\n",
    "quite intractable due to a huge product of terms depending on $\\vec{\\theta}$:\n",
    "$$\n",
    "p(\\tau|\\vec{\\theta})=p\\left(\\left\\{ (s_t,a_t,r_{t+1},s_{t+1})\\right\\}_{t\\geq0}\\given\\vec{\\theta}\\right)\n",
    "=p(s_0)\\prod_{t\\geq0} \\pi_{\\vec{\\theta}}(a_t|s_t)p(s_{t+1}|s_t,a_t).\n",
    "$$"
   ]
  },
  {
   "cell_type": "markdown",
   "metadata": {},
   "source": [
    "However, by using the fact that $\\grad_{x}\\log(f(x))=\\frac{\\grad_{x}f(x)}{f(x)}$, we can convert the product into a sum:\n",
    "$$\n",
    "\\begin{align}\n",
    "\\grad\\mathcal{L}(\\vec{\\theta})\n",
    "&= -\\int g(\\tau)\\grad p(\\tau|\\vec{\\theta})d\\tau\n",
    "= -\\int g(\\tau)\\frac{\\grad p(\\tau|\\vec{\\theta})}{p(\\tau|\\vec{\\theta})}p(\\tau|\\vec{\\theta})d\\tau \\\\\n",
    "&= -\\int g(\\tau)\\grad\\log\\left(p(\\tau|\\vec{\\theta})\\right)p(\\tau|\\vec{\\theta})d\\tau \\\\\n",
    "&= -\\int g(\\tau)\\grad\\log\\left( p(s_0)\\prod_{t\\geq0} \\pi_{\\vec{\\theta}}(a_t|s_t)p(s_{t+1}|s_t,a_t) \\right)\n",
    "p(\\tau|\\vec{\\theta})d\\tau \\\\\n",
    "&= -\\int g(\\tau)\\grad\\left( \\log p(s_0) + \\sum_{t\\geq0} \\log \\pi_{\\vec{\\theta}}(a_t|s_t) + \n",
    "\\sum_{t\\geq0}\\log p(s_{t+1}|s_t,a_t) \\right) p(\\tau|\\vec{\\theta})d\\tau \\\\\n",
    "&= -\\int g(\\tau)\\sum_{t\\geq0} \\grad\\log \\pi_{\\vec{\\theta}}(a_t|s_t) p(\\tau|\\vec{\\theta})d\\tau \\\\\n",
    "&= \\E[\\tau]{-g(\\tau)\\sum_{t\\geq0} \\grad\\log \\pi_{\\vec{\\theta}}(a_t|s_t)}.\n",
    "\\end{align}\n",
    "$$"
   ]
  },
  {
   "cell_type": "markdown",
   "metadata": {},
   "source": [
    "This is the \"vanilla\" version of the policy gradient. We can interpret is as a weighted log-likelihood function.\n",
    "The log-policy is the log-likelihood term we wish to maximize and the total discounted reward acts as a weight: high-return positive\n",
    "trajectories will cause the probability of actions taken during them to increase, and negative-return trajectories will cause the\n",
    "probabilities of actions taken to decrease.\n",
    "\n",
    "In the following figures we see three trajectories: high-return positive-reward (green), low-return positive-reward (yellow) and negative-return (red) and the action probabilities along the trajectories after the update. Credit: Sergey Levine.\n",
    "\n",
    "|<strong></strong>||\n",
    "|-----| ----|\n",
    "|<img src=\"imgs/pg1.png\" height=\"200\">|<img src=\"imgs/pg2.png\" height=\"200\">|\n"
   ]
  },
  {
   "cell_type": "markdown",
   "metadata": {},
   "source": [
    "The major drawback of the policy-gradient is it's high variance, which causes erratic optimization behavior and therefore slow convergence.\n",
    "One reason for this is that the log-policy weight term, $g(\\tau)$ can vary wildly between different trajectories, even if they're similar in\n",
    "actions. Later on we'll implement the loss and explore some methods of variance reduction."
   ]
  },
  {
   "cell_type": "markdown",
   "metadata": {},
   "source": [
    "### Landing on the moon with policy gradients"
   ]
  },
  {
   "cell_type": "markdown",
   "metadata": {},
   "source": [
    "In the spirit of the recent achievements of the Israeli space industry,\n",
    "we'll apply our reinforcement learning skills to solve a simple game called **LunarLander**.\n",
    "\n",
    "This game is available as an `environment` in OpenAI `gym`.\n",
    "\n",
    "<video loop autoplay src=\"http://gym.openai.com/videos/2019-04-06--My9IiAbqha/LunarLander-v2/original.mp4\" />"
   ]
  },
  {
   "cell_type": "markdown",
   "metadata": {},
   "source": [
    "In this environment, you need to control the lander and get it to land safely on the moon.\n",
    "To do so, you must apply bottom, right or left thrusters (each are either fully on or fully off)\n",
    "and get it to land within the designated zone as quickly as possible and with minimal wasted fuel."
   ]
  },
  {
   "cell_type": "code",
   "execution_count": 291,
   "metadata": {
    "pycharm": {
     "is_executing": false
    }
   },
   "outputs": [],
   "source": [
    "import gym\n",
    "\n",
    "# Just for fun :) ... but also to re-define the default max number of steps\n",
    "ENV_NAME = 'Beresheet-v2'\n",
    "MAX_EPISODE_STEPS = 300\n",
    "if ENV_NAME not in gym.envs.registry.env_specs:\n",
    "    gym.register(\n",
    "        id=ENV_NAME,\n",
    "        entry_point='gym.envs.box2d:LunarLander',\n",
    "        max_episode_steps=MAX_EPISODE_STEPS,\n",
    "        reward_threshold=200,\n",
    "    )"
   ]
  },
  {
   "cell_type": "code",
   "execution_count": 292,
   "metadata": {
    "pycharm": {
     "is_executing": false
    }
   },
   "outputs": [
    {
     "name": "stdout",
     "output_type": "stream",
     "text": [
      "<TimeLimit<LunarLander<Beresheet-v2>>>\n",
      "observations space: Box(8,)\n",
      "action space: Discrete(4)\n"
     ]
    }
   ],
   "source": [
    "import gym\n",
    "\n",
    "env = gym.make(ENV_NAME)\n",
    "\n",
    "print(env)\n",
    "print(f'observations space: {env.observation_space}')\n",
    "print(f'action space: {env.action_space}')\n",
    "\n",
    "ENV_N_ACTIONS = env.action_space.n\n",
    "ENV_N_OBSERVATIONS = env.observation_space.shape[0]"
   ]
  },
  {
   "cell_type": "markdown",
   "metadata": {},
   "source": [
    "The observations at each step is the Lander's position, velocity, angle, angular velocity and ground contact state.\n",
    "The actions are no-op, fire left truster, bottom thruster and right thruster.\n",
    "\n",
    "You are **highly encouraged** to read the [documentation](https://github.com/openai/gym/blob/master/gym/envs/box2d/lunar_lander.py) in the source code of the `LunarLander` environment to understand the reward system,\n",
    "and see how the actions and observations are created."
   ]
  },
  {
   "cell_type": "markdown",
   "metadata": {},
   "source": [
    "### Policy network and Agent"
   ]
  },
  {
   "cell_type": "markdown",
   "metadata": {},
   "source": [
    "Let's start with our policy-model. This will be a simple neural net, which should take an observation and return a score for each possible action."
   ]
  },
  {
   "cell_type": "markdown",
   "metadata": {},
   "source": [
    "**TODO**:\n",
    "1. Implement all methods in the `PolicyNet` class in the `hw4/rl_pg.py` module.\n",
    "   Start small. A simple MLP with a few hidden layers is a good starting point. You can come back and change it later based on the the experiments. The we'll use the `build_for_env` method to instantiate a `PolicyNet` based on the configuration of a given environment.\n",
    "2. If you need hyperparameters to configure your model (e.g. number of hidden layers, sizes, etc.), add them in `part1_pg_hyperparams()` in `hw4/answers.py`."
   ]
  },
  {
   "cell_type": "code",
   "execution_count": 293,
   "metadata": {
    "pycharm": {
     "is_executing": false
    }
   },
   "outputs": [
    {
     "data": {
      "text/plain": [
       "PolicyNet(\n",
       "  (our_net): Sequential(\n",
       "    (0): Linear(in_features=8, out_features=128, bias=True)\n",
       "    (1): ReLU()\n",
       "    (2): Linear(in_features=128, out_features=64, bias=True)\n",
       "    (3): ReLU()\n",
       "    (4): Linear(in_features=64, out_features=4, bias=True)\n",
       "  )\n",
       ")"
      ]
     },
     "execution_count": 293,
     "metadata": {},
     "output_type": "execute_result"
    }
   ],
   "source": [
    "import hw4.rl_pg as hw4pg\n",
    "import hw4.answers\n",
    "\n",
    "hp = hw4.answers.part1_pg_hyperparams()\n",
    "\n",
    "# You can add keyword-args to this function which will be populated from the hyperparameters dict.\n",
    "p_net = hw4pg.PolicyNet.build_for_env(env, device, **hp)\n",
    "p_net"
   ]
  },
  {
   "cell_type": "markdown",
   "metadata": {},
   "source": [
    "Now we need an **agent**. The purpose of our agent will be to act according to the current policy and generate experiences.\n",
    "Our `PolicyAgent` will use a `PolicyNet` as the current policy function.\n",
    "\n",
    "\n",
    "We'll also define some extra datatypes to help us represent the data generated by our agent.\n",
    "You can find the `Experience`, `Episode` and `TrainBatch` datatypes in the `hw4/rl_data.py` module."
   ]
  },
  {
   "cell_type": "markdown",
   "metadata": {},
   "source": [
    "**TODO**: Implement the `current_action_distribution()` method of the `PolicyAgent` class in the `hw4/rl_pg.py` module."
   ]
  },
  {
   "cell_type": "code",
   "execution_count": 294,
   "metadata": {
    "pycharm": {
     "is_executing": false
    }
   },
   "outputs": [
    {
     "name": "stdout",
     "output_type": "stream",
     "text": [
      "tensor([0.2458, 0.2513, 0.2564, 0.2465])\n"
     ]
    }
   ],
   "source": [
    "for i in range (10):\n",
    "    agent = hw4pg.PolicyAgent(env, p_net, device)\n",
    "    d = agent.current_action_distribution()\n",
    "    test.assertSequenceEqual(d.shape, (env.action_space.n,))\n",
    "    test.assertAlmostEqual(d.sum(), 1.0, delta=1e-5)\n",
    "    \n",
    "print(d)"
   ]
  },
  {
   "cell_type": "markdown",
   "metadata": {},
   "source": [
    "**TODO**: Implement the `step()` method of the `PolicyAgent`."
   ]
  },
  {
   "cell_type": "code",
   "execution_count": 295,
   "metadata": {
    "pycharm": {
     "is_executing": false
    }
   },
   "outputs": [
    {
     "name": "stdout",
     "output_type": "stream",
     "text": [
      "Experience(state=array([ 0.01464462,  1.4094971 ,  0.74064434, -0.044508  , -0.0167791 ,\n",
      "       -0.1660403 ,  0.        ,  0.        ], dtype=float32), action=0, reward=-0.7453433576763757, is_done=False)\n"
     ]
    }
   ],
   "source": [
    "agent = hw4pg.PolicyAgent(env, p_net, device)\n",
    "exp = agent.step()\n",
    "\n",
    "test.assertIsInstance(exp, hw4pg.Experience)\n",
    "print(exp)"
   ]
  },
  {
   "cell_type": "markdown",
   "metadata": {},
   "source": [
    "To test our agent, we'll write some code that allows it to play an environment. We'll use the `Monitor`\n",
    "wrapper in `gym` to generate a video of the episode for visual debugging."
   ]
  },
  {
   "cell_type": "markdown",
   "metadata": {},
   "source": [
    "**TODO**: Complete the implementation of the `monitor_episode()` method of the `PolicyAgent`."
   ]
  },
  {
   "cell_type": "code",
   "execution_count": 296,
   "metadata": {
    "pycharm": {
     "is_executing": false
    }
   },
   "outputs": [],
   "source": [
    "env, n_steps, reward = agent.monitor_episode(ENV_NAME, p_net, device=device)"
   ]
  },
  {
   "cell_type": "markdown",
   "metadata": {},
   "source": [
    "To display the Monitor video in this notebook, we'll use a helper function from our `jupyter_utils` and a small wrapper that extracts the path of the last video file. "
   ]
  },
  {
   "cell_type": "code",
   "execution_count": 297,
   "metadata": {
    "pycharm": {
     "is_executing": false
    }
   },
   "outputs": [],
   "source": [
    "import cs236781.jupyter_utils as jupyter_utils\n",
    "\n",
    "def show_monitor_video(monitor_env, idx=0, **kw):\n",
    "    # Extract video path\n",
    "    video_path = monitor_env.videos[idx][0]\n",
    "    video_path = os.path.relpath(video_path, start=os.path.curdir)\n",
    "    \n",
    "    # Use helper function to embed the video\n",
    "    return jupyter_utils.show_video_in_notebook(video_path, **kw)"
   ]
  },
  {
   "cell_type": "code",
   "execution_count": 298,
   "metadata": {
    "pycharm": {
     "is_executing": false
    }
   },
   "outputs": [
    {
     "name": "stdout",
     "output_type": "stream",
     "text": [
      "Episode ran for 80 steps. Total reward: -171.92\n"
     ]
    },
    {
     "data": {
      "text/html": [
       "<video src=\"data:video/mp4;base64,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\" controls autoplay width=\"500\" height=\"auto\" />"
      ],
      "text/plain": [
       "<IPython.core.display.HTML object>"
      ]
     },
     "execution_count": 298,
     "metadata": {},
     "output_type": "execute_result"
    }
   ],
   "source": [
    "print(f'Episode ran for {n_steps} steps. Total reward: {reward:.2f}')\n",
    "\n",
    "show_monitor_video(env, -1)"
   ]
  },
  {
   "cell_type": "markdown",
   "metadata": {},
   "source": [
    "### Training data"
   ]
  },
  {
   "cell_type": "markdown",
   "metadata": {},
   "source": [
    "The next step is to create data to train on.\n",
    "We need to train on batches of state-action pairs, so that our network can learn to predict the actions.\n",
    "\n",
    "We'll split this task into three parts:\n",
    "1. Generate a batch of `Episode`s, by using an `Agent` that's playing according to our current policy network.\n",
    "   Each `Episode` object contains the `Experience` objects created by the agent.\n",
    "2. Calculate the total discounted reward for each state we encountered and action we took. This is our action-value estimate.\n",
    "3. Convert the `Episode`s into a batch of tensors to train on.\n",
    "   Each batch will contain states, action taken per state, reward accrued, and the calculated estimated state-values.\n",
    "   These will be stored in a `TrainBatch` object.\n"
   ]
  },
  {
   "cell_type": "markdown",
   "metadata": {},
   "source": [
    "**TODO**: Complete the implementation of the `episode_batch_generator()` method in the `TrainBatchDataset` class within the `hw4.rl_data` module. This will address part 1 in the list above."
   ]
  },
  {
   "cell_type": "code",
   "execution_count": 299,
   "metadata": {
    "pycharm": {
     "is_executing": true
    }
   },
   "outputs": [
    {
     "name": "stdout",
     "output_type": "stream",
     "text": [
      "First episode: Episode(total_reward=-118.12, #experences=96)\n"
     ]
    }
   ],
   "source": [
    "import hw4.rl_data as hw4data\n",
    "\n",
    "def agent_fn():\n",
    "    env = gym.make(ENV_NAME)\n",
    "    hp = hw4.answers.part1_pg_hyperparams()\n",
    "    p_net = hw4pg.PolicyNet.build_for_env(env, device, **hp)\n",
    "    return hw4pg.PolicyAgent(env, p_net, device)\n",
    "    \n",
    "ds = hw4data.TrainBatchDataset(agent_fn, episode_batch_size=8, gamma=0.9)\n",
    "batch_gen = ds.episode_batch_generator()\n",
    "b = next(batch_gen)\n",
    "print('First episode:', b[0])\n",
    "\n",
    "test.assertEqual(len(b), 8)\n",
    "for ep in b:\n",
    "    test.assertIsInstance(ep, hw4data.Episode)\n",
    "    \n",
    "    # Check that it's a full episode\n",
    "    is_done = [exp.is_done for exp in ep.experiences]\n",
    "    test.assertFalse(any(is_done[0:-1]))\n",
    "    test.assertTrue(is_done[-1])"
   ]
  },
  {
   "cell_type": "markdown",
   "metadata": {},
   "source": [
    "**TODO**: Complete the implementation of the `calc_qvals()` method in the `Episode` class.\n",
    "This will address part 2.\n",
    "These q-values are an estimate of the actual action value function: $$\\hat{q}_{t} = \\sum_{t'\\geq t} \\gamma^{t'-t}r_{t'+1}.$$"
   ]
  },
  {
   "cell_type": "code",
   "execution_count": 300,
   "metadata": {
    "pycharm": {
     "is_executing": false
    }
   },
   "outputs": [],
   "source": [
    "np.random.seed(SEED)\n",
    "test_rewards = np.random.randint(-10, 10, 100)\n",
    "test_experiences = [hw4pg.Experience(None,None,r,False) for r in test_rewards] \n",
    "test_episode = hw4data.Episode(np.sum(test_rewards), test_experiences)\n",
    "\n",
    "qvals = test_episode.calc_qvals(0.9)\n",
    "qvals = list(qvals)\n",
    "\n",
    "expected_qvals = np.load(os.path.join('tests', 'assets', 'part1_expected_qvals.npy'))\n",
    "for i in range(len(test_rewards)):\n",
    "    test.assertAlmostEqual(expected_qvals[i], qvals[i], delta=1e-3)"
   ]
  },
  {
   "cell_type": "markdown",
   "metadata": {},
   "source": [
    "**TODO**: Complete the implementation of the `from_episodes()` method in the `TrainBatch` class.\n",
    "This will address part 3.\n",
    "\n",
    "Notes:\n",
    "- The `TrainBatchDataset` class provides a generator function that will use the above function to lazily generate batches of training samples and labels on demand.\n",
    "- This allows us to use a standard `PyTorch` dataloader to wrap our Dataset and provide us with parallel data loading for free!\n",
    "  This means we can run multiple environments with multiple agents in separate background processes to generate data for training and thus prevent the data loading bottleneck which is caused by the fact that we must generate full Episodes to train on in order to calculate the q-values.\n",
    "- We'll set the `DataLoader`'s `batch_size` to `None` because we have already implemented custom batching in our dataset."
   ]
  },
  {
   "cell_type": "code",
   "execution_count": 301,
   "metadata": {
    "pycharm": {
     "is_executing": false
    }
   },
   "outputs": [
    {
     "name": "stdout",
     "output_type": "stream",
     "text": [
      "#0: TrainBatch(states: torch.Size([852, 8]), actions: torch.Size([852]), q_vals: torch.Size([852])), num_episodes: 8)\n",
      "#1: TrainBatch(states: torch.Size([728, 8]), actions: torch.Size([728]), q_vals: torch.Size([728])), num_episodes: 8)\n",
      "#2: TrainBatch(states: torch.Size([635, 8]), actions: torch.Size([635]), q_vals: torch.Size([635])), num_episodes: 8)\n",
      "#3: TrainBatch(states: torch.Size([701, 8]), actions: torch.Size([701]), q_vals: torch.Size([701])), num_episodes: 8)\n",
      "#4: TrainBatch(states: torch.Size([715, 8]), actions: torch.Size([715]), q_vals: torch.Size([715])), num_episodes: 8)\n",
      "#5: TrainBatch(states: torch.Size([753, 8]), actions: torch.Size([753]), q_vals: torch.Size([753])), num_episodes: 8)\n",
      "#6: TrainBatch(states: torch.Size([766, 8]), actions: torch.Size([766]), q_vals: torch.Size([766])), num_episodes: 8)\n"
     ]
    }
   ],
   "source": [
    "from torch.utils.data import DataLoader\n",
    "\n",
    "ds = hw4data.TrainBatchDataset(agent_fn, episode_batch_size=8, gamma=0.9)\n",
    "dl = DataLoader(ds, batch_size=None, num_workers=2) # Run multiple agents/env in separate worker process\n",
    "\n",
    "\n",
    "for i, train_batch in enumerate(dl):\n",
    "    states, actions, qvals, reward_mean = train_batch\n",
    "    print(f'#{i}: {train_batch}')\n",
    "    test.assertEqual(states.shape[0], actions.shape[0])\n",
    "    test.assertEqual(qvals.shape[0], actions.shape[0])\n",
    "    test.assertEqual(states.shape[1], env.observation_space.shape[0])\n",
    "    if i > 5:\n",
    "        break"
   ]
  },
  {
   "cell_type": "markdown",
   "metadata": {},
   "source": [
    "### Loss functions"
   ]
  },
  {
   "cell_type": "markdown",
   "metadata": {},
   "source": [
    "As usual, we need a loss function to optimize over.\n",
    "We'll calculate three types of losses:\n",
    "1. The causal vanilla policy gradient loss.\n",
    "1. The policy gradient loss, with a baseline to reduce variance.\n",
    "2. An entropy-based loss whos purpose is to diversify the agent's action selection,\n",
    "   and prevent it from being \"too sure\" about its actions.\n",
    "   This loss will be used together with one of the above losses."
   ]
  },
  {
   "cell_type": "markdown",
   "metadata": {},
   "source": [
    "#### Causal vanilla policy-gradient"
   ]
  },
  {
   "cell_type": "markdown",
   "metadata": {},
   "source": [
    "We have derived the policy-gradient as\n",
    "$$\n",
    "\\grad\\mathcal{L}(\\vec{\\theta}) = \\E[\\tau]{-g(\\tau)\\sum_{t\\geq0} \\grad\\log \\pi_{\\vec{\\theta}}(a_t|s_t)}.\n",
    "$$\n",
    "\n",
    "By writing the discounted reward explicitly and enforcing causality, i.e. the action taken at time $t$ can't affect\n",
    "the reward at time $t'<t$, we can get a slightly lower-variance version of the policy gradient:\n",
    "\n",
    "$$\n",
    "\\grad\\mathcal{L}_{\\text{PG}}(\\vec{\\theta}) = \n",
    "\\E[\\tau]{-\\sum_{t\\geq0} \\left(\\sum_{t'\\geq t} \\gamma^{t'}r_{t'+1} \\right)\\grad\\log \\pi_{\\vec{\\theta}}(a_t|s_t)}.\n",
    "$$"
   ]
  },
  {
   "cell_type": "markdown",
   "metadata": {},
   "source": [
    "In practice, the expectation over trajectories is calculated using a Monte-Carlo approach, i.e. simply sampling $N$\n",
    "trajectories and average the term inside the expectation. Therefore, we will use the following estimated version of the policy gradient:\n",
    "\n",
    "$$\n",
    "\\begin{align}\n",
    "\\hat\\grad\\mathcal{L}_{\\text{PG}}(\\vec{\\theta})\n",
    "&=-\\frac{1}{N}\\sum_{i=1}^{N}\\sum_{t\\geq0} \\left(\\sum_{t'\\geq t} \\gamma^{t'}r_{i,t'+1} \\right)\\grad\\log \\pi_{\\vec{\\theta}}(a_{i,t}|s_{i,t}) \\\\\n",
    "&=-\\frac{1}{N}\\sum_{i=1}^{N}\\sum_{t\\geq0} \\hat{q}_{i,t} \\grad\\log \\pi_{\\vec{\\theta}}(a_{i,t}|s_{i,t}).\n",
    "\\end{align}\n",
    "$$\n",
    "\n",
    "Note the use of the notation $\\hat{q}_{i,t}$ to represent the estimated action-value at time $t$ in the sampled trajectory $i$.\n",
    "Here $\\hat{q}_{i,t}$ is acting as the weight-term for the policy gradient."
   ]
  },
  {
   "cell_type": "markdown",
   "metadata": {},
   "source": [
    "**TODO**: Complete the implementation of the `VanillaPolicyGradientLoss` class in the `hw4/rl_pg.py` module."
   ]
  },
  {
   "cell_type": "code",
   "execution_count": 302,
   "metadata": {
    "pycharm": {
     "is_executing": false
    }
   },
   "outputs": [
    {
     "name": "stdout",
     "output_type": "stream",
     "text": [
      "loss = tensor(-35.5355)\n"
     ]
    }
   ],
   "source": [
    "# Ensure deterministic run\n",
    "env = gym.make(ENV_NAME)\n",
    "env.seed(SEED)\n",
    "torch.manual_seed(SEED)\n",
    "\n",
    "def agent_fn():\n",
    "    # Use a simple \"network\" here, so that this test doesn't depend on your specific PolicyNet implementation\n",
    "    p_net_test = nn.Linear(8, 4)\n",
    "    agent = hw4pg.PolicyAgent(env, p_net_test)\n",
    "    return agent\n",
    "\n",
    "dataloader = hw4data.TrainBatchDataset(agent_fn, gamma=0.9, episode_batch_size=4)\n",
    "\n",
    "test_batch = next(iter(dataloader))\n",
    "test_action_scores = torch.randn(len(test_batch), env.action_space.n)\n",
    "\n",
    "loss_fn_p = hw4pg.VanillaPolicyGradientLoss()\n",
    "loss_p, _ = loss_fn_p(test_batch, test_action_scores)\n",
    "\n",
    "print('loss =', loss_p)\n",
    "test.assertAlmostEqual(loss_p.item(), -35.535522, delta=1e-3)"
   ]
  },
  {
   "cell_type": "markdown",
   "metadata": {},
   "source": [
    "#### Policy-gradient with baseline"
   ]
  },
  {
   "cell_type": "markdown",
   "metadata": {},
   "source": [
    "Another way to reduce the variance of our gradient is to use relative weighting of the log-policy instead of absolute reward values.\n",
    "$$\n",
    "\\hat\\grad\\mathcal{L}_{\\text{BPG}}(\\vec{\\theta})\n",
    "=-\\frac{1}{N}\\sum_{i=1}^{N}\\sum_{t\\geq0} \\left(\\hat{q}_{i,t}-b\\right) \\grad\\log \\pi_{\\vec{\\theta}}(a_{i,t}|s_{i,t}).\n",
    "$$\n",
    "In other words, we don't measure a trajectory's worth by it's total reward, but by how much better that total reward is relative to some\n",
    "expected (\"baseline\") reward value, denoted above by $b$.\n",
    "Note that subtracting a baseline has no effect on the expected value of the policy gradient. It's easy to prove this directly by definition.\n",
    "\n",
    "Here we'll implement a very simple baseline (not optimal in terms of variance reduction): the average of the estimated state-values $\\hat{q}_{i,t}$."
   ]
  },
  {
   "cell_type": "markdown",
   "metadata": {},
   "source": [
    "**TODO**: Complete the implementation of the `BaselinePolicyGradientLoss` class in the `hw4/rl_pg.py` module."
   ]
  },
  {
   "cell_type": "code",
   "execution_count": 303,
   "metadata": {
    "pycharm": {
     "is_executing": false
    }
   },
   "outputs": [
    {
     "name": "stdout",
     "output_type": "stream",
     "text": [
      "loss = tensor(-2.4665)\n"
     ]
    }
   ],
   "source": [
    "# Using the same batch and action_scores from above cell\n",
    "loss_fn_p = hw4pg.BaselinePolicyGradientLoss()\n",
    "loss_p, _ = loss_fn_p(test_batch, test_action_scores)\n",
    "\n",
    "print('loss =', loss_p)\n",
    "test.assertAlmostEqual(loss_p.item(), -2.4665009, delta=1e-3)"
   ]
  },
  {
   "cell_type": "markdown",
   "metadata": {},
   "source": [
    "#### Entropy loss"
   ]
  },
  {
   "cell_type": "markdown",
   "metadata": {},
   "source": [
    "The entropy of a probability distribution (in our case the policy), is\n",
    "$$\n",
    "H(\\pi) = -\\sum_{a} \\pi(a|s)\\log\\pi(a|s).\n",
    "$$\n",
    "The entropy is always positive and obtains it's maximum for a uniform distribution.\n",
    "We'll use the entropy of the policy as a bonus, i.e. we'll try to maximize it.\n",
    "The idea is the prevent the policy distribution from becoming too narrow and thus promote the agent's exploration."
   ]
  },
  {
   "cell_type": "markdown",
   "metadata": {},
   "source": [
    "First, we'll calculate the maximal possible entropy value of the action distribution for a set number of possible actions.\n",
    "This will be used as a normalization term.\n",
    "\n",
    "**TODO**: Complete the implementation of the `calc_max_entropy()` method in the `ActionEntropyLoss` class."
   ]
  },
  {
   "cell_type": "code",
   "execution_count": 304,
   "metadata": {
    "pycharm": {
     "is_executing": false
    }
   },
   "outputs": [
    {
     "name": "stdout",
     "output_type": "stream",
     "text": [
      "max_entropy =  tensor([1.3863])\n"
     ]
    }
   ],
   "source": [
    "loss_fn_e = hw4pg.ActionEntropyLoss(env.action_space.n)\n",
    "print('max_entropy = ', loss_fn_e.max_entropy)\n",
    "\n",
    "test.assertAlmostEqual(loss_fn_e.max_entropy, 1.38629436, delta=1e-3)"
   ]
  },
  {
   "cell_type": "markdown",
   "metadata": {},
   "source": [
    "**TODO**: Complete the implementation of the `forward()` method in the `ActionEntropyLoss` class."
   ]
  },
  {
   "cell_type": "code",
   "execution_count": 305,
   "metadata": {
    "pycharm": {
     "is_executing": false
    }
   },
   "outputs": [
    {
     "name": "stdout",
     "output_type": "stream",
     "text": [
      "loss =  tensor(-0.7927)\n"
     ]
    }
   ],
   "source": [
    "loss_e, _ = loss_fn_e(test_batch, test_action_scores)\n",
    "print('loss = ', loss_e)\n",
    "\n",
    "test.assertAlmostEqual(loss_e.item(), -0.7927002, delta=1e-3)"
   ]
  },
  {
   "cell_type": "markdown",
   "metadata": {},
   "source": [
    "### Training"
   ]
  },
  {
   "cell_type": "markdown",
   "metadata": {},
   "source": [
    "We'll implement our training procedure as follows:\n",
    "\n",
    "1. Initialize the current policy to be a random policy.\n",
    "1. Sample $N$ trajectories from the environment using the current policy.\n",
    "2. Calculate the estimated $q$-values, $\\hat{q}_{i,t} = \\sum_{t'\\geq t} \\gamma^{t'}r_{i,t'+1}$ for each trajectory $i$.\n",
    "3. Calculate policy gradient estimate $\\hat\\grad\\mathcal{L}(\\vec{\\theta})$ as defined above.\n",
    "4. Perform SGD update $\\vec{\\theta}\\leftarrow\\vec{\\theta}-\\eta\\hat\\grad\\mathcal{L}(\\vec{\\theta})$.\n",
    "5. Repeat from step 2.\n",
    "\n",
    "This is known as the **REINFORCE** algorithm."
   ]
  },
  {
   "cell_type": "markdown",
   "metadata": {},
   "source": [
    "Fortunately, we've already implemented everything we need for steps 1-4 so we need only a bit more code to put it all together.\n",
    "\n",
    "The following block implements a wrapper, `train_pg` to create all the objects we need in order to train our policy gradient model.\n"
   ]
  },
  {
   "cell_type": "code",
   "execution_count": 306,
   "metadata": {
    "pycharm": {
     "is_executing": false
    }
   },
   "outputs": [],
   "source": [
    "import hw4.answers\n",
    "from functools import partial\n",
    "\n",
    "ENV_NAME = \"Beresheet-v2\"\n",
    "\n",
    "def agent_fn_train(agent_type, p_net, seed, envs_dict):\n",
    "    winfo = torch.utils.data.get_worker_info()\n",
    "    wid = winfo.id if winfo else 0\n",
    "    seed = seed + wid if seed else wid\n",
    "\n",
    "    env = gym.make(ENV_NAME)\n",
    "    envs_dict[wid] = env\n",
    "    env.seed(seed)\n",
    "    np.random.seed(seed)\n",
    "    torch.manual_seed(seed)\n",
    "\n",
    "    return agent_type(env, p_net)\n",
    "\n",
    "def train_rl(agent_type, net_type, loss_fns, hp, seed=None, checkpoints_file=None, **train_kw):\n",
    "    print(f'hyperparams: {hp}')\n",
    "    \n",
    "    envs = {}\n",
    "    p_net = net_type(ENV_N_OBSERVATIONS, ENV_N_ACTIONS, **hp)\n",
    "    p_net.share_memory()\n",
    "    agent_fn = partial(agent_fn_train, agent_type, p_net, seed, envs)\n",
    "    \n",
    "    dataset = hw4data.TrainBatchDataset(agent_fn, hp['batch_size'], hp['gamma'])\n",
    "    dataloader = DataLoader(dataset, batch_size=None, num_workers=2)\n",
    "    optimizer = optim.Adam(p_net.parameters(), lr=hp['learn_rate'], eps=hp['eps'])\n",
    "    \n",
    "    trainer = hw4pg.PolicyTrainer(p_net, optimizer, loss_fns, dataloader, checkpoints_file)\n",
    "    try:\n",
    "        trainer.train(**train_kw)\n",
    "    except KeyboardInterrupt as e:\n",
    "        print('Training interrupted by user.')\n",
    "    finally:\n",
    "        for env in envs.values():\n",
    "            env.close()\n",
    "\n",
    "    # Include final model state\n",
    "    training_data = trainer.training_data\n",
    "    training_data['model_state'] = p_net.state_dict()\n",
    "    return training_data\n",
    "    \n",
    "def train_pg(baseline=False, entropy=False, **train_kwargs):\n",
    "    hp = hw4.answers.part1_pg_hyperparams()\n",
    "    \n",
    "    loss_fns = []\n",
    "    if baseline:\n",
    "        loss_fns.append(hw4pg.BaselinePolicyGradientLoss())\n",
    "    else:\n",
    "        loss_fns.append(hw4pg.VanillaPolicyGradientLoss())\n",
    "    if entropy:\n",
    "        loss_fns.append(hw4pg.ActionEntropyLoss(ENV_N_ACTIONS, hp['beta']))\n",
    "\n",
    "    return train_rl(hw4pg.PolicyAgent, hw4pg.PolicyNet, loss_fns, hp, **train_kwargs)"
   ]
  },
  {
   "cell_type": "markdown",
   "metadata": {},
   "source": [
    "The `PolicyTrainer` class implements the training loop, collects the losses and rewards and provides some useful checkpointing functionality.\n",
    "The training loop will generate batches of episodes and train on them until either:\n",
    "- The average total reward from the last `running_mean_len` episodes is greater than the `target_reward`, OR\n",
    "- The number of generated episodes reached `max_episodes`.\n",
    "\n",
    "Most of this class is already implemented for you. "
   ]
  },
  {
   "cell_type": "markdown",
   "metadata": {},
   "source": [
    "**TODO**:\n",
    "1. Complete the training loop by implementing the `train_batch()` method of the `PolicyTrainer`.\n",
    "2. Tweak the hyperparameters in the `part1_pg_hyperparams()` function within the `hw4/answers.py` module as needed. You get some sane defaults."
   ]
  },
  {
   "cell_type": "markdown",
   "metadata": {},
   "source": [
    "Let's check whether our model is actually training.\n",
    "We'll try to reach a very low (bad) target reward, just as a sanity check to see that training works.\n",
    "Your model should be able to reach this target reward within a few batches.\n",
    "\n",
    "You can increase the target reward and use this block to manually tweak your model and hyperparameters a few times."
   ]
  },
  {
   "cell_type": "code",
   "execution_count": 307,
   "metadata": {
    "pycharm": {
     "is_executing": false
    }
   },
   "outputs": [
    {
     "name": "stdout",
     "output_type": "stream",
     "text": [
      "hyperparams: {'batch_size': 32, 'gamma': 0.99, 'beta': 0.5, 'learn_rate': 0.0015, 'eps': 1e-08}\n",
      "=== Training...\n",
      "#1: step=00005565, loss_p=-118.58, m_reward(10)=-132.2 (best=-181.0):   3%|▎         | 64/2000 [00:02<01:09, 27.70it/s]\n",
      "\n",
      "=== 🚀 SOLVED - Target reward reached! 🚀\n"
     ]
    }
   ],
   "source": [
    "target_reward = -150 # VERY LOW target\n",
    "train_data = train_pg(target_reward=target_reward, seed=SEED, max_episodes=2000, running_mean_len=10)\n",
    "\n",
    "test.assertGreater(train_data['mean_reward'][-1], target_reward)"
   ]
  },
  {
   "cell_type": "markdown",
   "metadata": {},
   "source": [
    "### Experimenting with different losses"
   ]
  },
  {
   "cell_type": "markdown",
   "metadata": {},
   "source": [
    "We'll now run a few experiments to see the effect of diferent loss functions on the training dynamics. Namely, we'll try:\n",
    "1. Vanilla PG (`vpg`): No baseline, no entropy\n",
    "2. Baseline PG (`bpg`): Baseline, no entropy loss\n",
    "3. Entropy PG (`epg`): No baseline, with entropy loss\n",
    "3. Combined PG (`cpg`): Baseline, with entropy loss"
   ]
  },
  {
   "cell_type": "code",
   "execution_count": 308,
   "metadata": {
    "pycharm": {
     "is_executing": false
    }
   },
   "outputs": [
    {
     "name": "stdout",
     "output_type": "stream",
     "text": [
      "[ExpConfig(name='vpg', baseline=False, entropy=False),\n",
      " ExpConfig(name='epg', baseline=False, entropy=True),\n",
      " ExpConfig(name='bpg', baseline=True, entropy=False),\n",
      " ExpConfig(name='cpg', baseline=True, entropy=True)]\n"
     ]
    }
   ],
   "source": [
    "from collections import namedtuple\n",
    "from pprint import pprint\n",
    "import itertools as it\n",
    "\n",
    "\n",
    "ExpConfig = namedtuple('ExpConfig', ('name','baseline','entropy'))\n",
    "\n",
    "def exp_configs():\n",
    "    exp_names = ('vpg', 'epg', 'bpg', 'cpg')\n",
    "    z = zip(exp_names, it.product((False, True), (False, True)))\n",
    "    return (ExpConfig(n, b, e) for (n, (b, e)) in z)\n",
    "\n",
    "pprint(list(exp_configs()))"
   ]
  },
  {
   "cell_type": "markdown",
   "metadata": {},
   "source": [
    "We'll save the training data from each experiment for plotting."
   ]
  },
  {
   "cell_type": "code",
   "execution_count": 309,
   "metadata": {
    "pycharm": {
     "is_executing": false
    }
   },
   "outputs": [],
   "source": [
    "import pickle\n",
    "\n",
    "def dump_training_data(data, filename):\n",
    "    os.makedirs(os.path.dirname(filename), exist_ok=True)\n",
    "    with open(filename, mode='wb') as file:\n",
    "        pickle.dump(data, file)\n",
    "        \n",
    "def load_training_data(filename):\n",
    "    with open(filename, mode='rb') as file:\n",
    "        return pickle.load(file)"
   ]
  },
  {
   "cell_type": "markdown",
   "metadata": {},
   "source": [
    "Let's run the experiments! We'll run each configuration for a fixed number of episodes so that we can compare them.\n",
    "\n",
    "Notes:\n",
    "1. Until your models start working, you can decrease the number of episodes for each experiment, or only run one experiment.\n",
    "2.  The results will be saved in a file. To re-run the experiments, you can set `force_run` to `True`."
   ]
  },
  {
   "cell_type": "code",
   "execution_count": 310,
   "metadata": {
    "pycharm": {
     "is_executing": false
    }
   },
   "outputs": [
    {
     "name": "stdout",
     "output_type": "stream",
     "text": [
      "=== Experiment vpg\n",
      "hyperparams: {'batch_size': 32, 'gamma': 0.99, 'beta': 0.5, 'learn_rate': 0.0015, 'eps': 1e-08}\n",
      "=== Training...\n",
      "#124: step=00303645, loss_p= -0.60, m_reward(100)=-581.3 (best= -96.6): 100%|██████████| 4000/4000 [00:58<00:00, 67.81it/s]\n",
      "\n",
      "=== STOPPING - Max episode reached\n",
      "=== Experiment epg\n",
      "hyperparams: {'batch_size': 32, 'gamma': 0.99, 'beta': 0.5, 'learn_rate': 0.0015, 'eps': 1e-08}\n",
      "=== Training...\n",
      "#124: step=00370468, loss_p= -3.87, loss_e= -0.00, m_reward(100)=-582.5 (best= -31.8): 100%|██████████| 4000/4000 [01:15<00:00, 53.20it/s]\n",
      "\n",
      "=== STOPPING - Max episode reached\n",
      "=== Experiment bpg\n",
      "hyperparams: {'batch_size': 32, 'gamma': 0.99, 'beta': 0.5, 'learn_rate': 0.0015, 'eps': 1e-08}\n",
      "=== Training...\n",
      "#124: step=00548986, loss_p= -4.13, baseline= -6.42, m_reward(100)=   2.7 (best=  -1.0): 100%|██████████| 4000/4000 [02:17<00:00, 29.17it/s]\n",
      "\n",
      "=== STOPPING - Max episode reached\n",
      "=== Experiment cpg\n",
      "hyperparams: {'batch_size': 32, 'gamma': 0.99, 'beta': 0.5, 'learn_rate': 0.0015, 'eps': 1e-08}\n",
      "=== Training...\n",
      "#124: step=00610597, loss_p= -6.86, baseline=  0.73, loss_e= -0.31, m_reward(100)=  29.4 (best=  59.6): 100%|██████████| 4000/4000 [02:45<00:00, 24.24it/s]\n",
      "\n",
      "=== STOPPING - Max episode reached\n"
     ]
    }
   ],
   "source": [
    "import math\n",
    "\n",
    "exp_max_episodes = 4000\n",
    "\n",
    "results = {}\n",
    "training_data_filename = os.path.join('results', f'part1_exp.dat')\n",
    "\n",
    "# Set to True to force re-run (careful, will delete old experiment results)\n",
    "force_run = False\n",
    "\n",
    "# Skip running if results file exists.\n",
    "if os.path.isfile(training_data_filename) and not force_run:\n",
    "    print(f'=== results file {training_data_filename} exists, skipping experiments.')\n",
    "    results = load_training_data(training_data_filename)\n",
    "    \n",
    "else:\n",
    "    for n, b, e in exp_configs():\n",
    "        print(f'=== Experiment {n}')\n",
    "        results[n] = train_pg(baseline=b, entropy=e, max_episodes=exp_max_episodes, post_batch_fn=None)\n",
    "        \n",
    "    dump_training_data(results, training_data_filename)"
   ]
  },
  {
   "cell_type": "code",
   "execution_count": 311,
   "metadata": {
    "pycharm": {
     "is_executing": false
    }
   },
   "outputs": [
    {
     "data": {
      "image/png": "[encoded data removed]",
      "text/plain": [
       "<Figure size 1296x864 with 4 Axes>"
      ]
     },
     "metadata": {
      "needs_background": "light"
     },
     "output_type": "display_data"
    }
   ],
   "source": [
    "def plot_experiment_results(results, fig=None):\n",
    "    if fig is None:\n",
    "        fig, _ = plt.subplots(nrows=2, ncols=2, sharex=True, figsize=(18,12))\n",
    "    for i, plot_type in enumerate(('loss_p', 'baseline', 'loss_e', 'mean_reward')):\n",
    "        ax = fig.axes[i]\n",
    "        for exp_name, exp_res in results.items():\n",
    "            if plot_type not in exp_res:\n",
    "                continue\n",
    "            ax.plot(exp_res['episode_num'], exp_res[plot_type], label=exp_name)\n",
    "        ax.set_title(plot_type)\n",
    "        ax.set_xlabel('episode')\n",
    "        ax.legend()\n",
    "    return fig\n",
    "    \n",
    "experiments_results_fig = plot_experiment_results(results)"
   ]
  },
  {
   "cell_type": "markdown",
   "metadata": {},
   "source": [
    "You should see positive training dynamics in the graphs (reward going up).\n",
    "If you don't, use them to further update your model or hyperparams.\n",
    "\n",
    "To pass the test, you'll need to get a best total mean reward of at least 10 in the fixed number of epochs using the combined loss.\n",
    "It's possible to get much higher (over 100)."
   ]
  },
  {
   "cell_type": "code",
   "execution_count": 312,
   "metadata": {
    "pycharm": {
     "is_executing": false
    }
   },
   "outputs": [
    {
     "name": "stdout",
     "output_type": "stream",
     "text": [
      "Best CPG mean reward: 59.65\n"
     ]
    }
   ],
   "source": [
    "best_cpg_mean_reward = max(results['cpg']['mean_reward'])\n",
    "print(f'Best CPG mean reward: {best_cpg_mean_reward:.2f}')\n",
    "\n",
    "test.assertGreater(best_cpg_mean_reward, 10)"
   ]
  },
  {
   "cell_type": "markdown",
   "metadata": {},
   "source": [
    "Now let's take a look at a gameplay video of our `cpg` model after the short training!"
   ]
  },
  {
   "cell_type": "code",
   "execution_count": 315,
   "metadata": {
    "pycharm": {
     "is_executing": false
    }
   },
   "outputs": [
    {
     "name": "stdout",
     "output_type": "stream",
     "text": [
      "180 steps, total reward: 12.42\n"
     ]
    },
    {
     "data": {
      "text/html": [
       "<video src=\"data:video/mp4;base64,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\" controls autoplay width=\"500\" height=\"auto\" />"
      ],
      "text/plain": [
       "<IPython.core.display.HTML object>"
      ]
     },
     "execution_count": 315,
     "metadata": {},
     "output_type": "execute_result"
    }
   ],
   "source": [
    "hp = hw4.answers.part1_pg_hyperparams()\n",
    "p_net_cpg = hw4pg.PolicyNet.build_for_env(env, **hp)\n",
    "p_net_cpg.load_state_dict(results['cpg']['model_state'])\n",
    "\n",
    "env, n_steps, reward = hw4pg.PolicyAgent.monitor_episode(ENV_NAME, p_net_cpg)\n",
    "print(f'{n_steps} steps, total reward: {reward:.2f}')\n",
    "show_monitor_video(env, -1)"
   ]
  },
  {
   "cell_type": "markdown",
   "metadata": {},
   "source": [
    "## Advantage Actor-Critic (AAC)\n",
    "<a id=part1_2></a>"
   ]
  },
  {
   "cell_type": "markdown",
   "metadata": {},
   "source": [
    "We have seen that the policy-gradient loss can be interpreted as a log-likelihood of the policy term\n",
    "(selecting a specific action at a specific state), weighted by the future rewards of that choice of action.\n",
    "\n",
    "However, naïvely weighting by rewards has significant drawbacks in terms of the variance of the resulting gradient.\n",
    "We addressed this by adding a simple baseline term which represented our \"expected reward\" so that we increase probability of actions\n",
    "leading to trajectories which exceed this expectation and vice-versa.\n",
    "\n",
    "In this part we'll explore a more powerful baseline, which is the idea behind the AAC method."
   ]
  },
  {
   "cell_type": "markdown",
   "metadata": {},
   "source": [
    "### The advantage function"
   ]
  },
  {
   "cell_type": "markdown",
   "metadata": {},
   "source": [
    "Recall the definition of the state-value function $v_{\\pi}(s)$ and action-value function $q_{\\pi}(s,a)$:\n",
    "\n",
    "$$\n",
    "\\begin{align}\n",
    "v_{\\pi}(s) &= \\E{g(\\tau)|s_0 = s,\\pi} \\\\\n",
    "q_{\\pi}(s,a) &= \\E{g(\\tau)|s_0 = s,a_0=a,\\pi}.\n",
    "\\end{align}\n",
    "$$\n",
    "\n",
    "Both these functions represent the value of the state $s$. However, $v_\\pi$ averages over the first action according to the policy,\n",
    "while $q_\\pi$ fixes the first action and then continues according to the policy."
   ]
  },
  {
   "cell_type": "markdown",
   "metadata": {},
   "source": [
    "Their difference is known as the **advantage function**:\n",
    "$$\n",
    "a_\\pi(s,a) = q_\\pi(s,a)-v_\\pi(s).\n",
    "$$\n",
    "\n",
    "If $a_\\pi(s,a)>0$ it means that it's better (in expectation) to take action $a$ in state $s$ compared to the average action.\n",
    "In other words, $a_\\pi(s,a)$ represents the *advantage* of using action $a$ in state $s$ compared to the others."
   ]
  },
  {
   "cell_type": "markdown",
   "metadata": {},
   "source": [
    "So far we have used an estimate for $q_\\pi$ as our weighting term for the log-policy, with a fixed baseline per batch.\n",
    "\n",
    "$$\n",
    "\\hat\\grad\\mathcal{L}_{\\text{BPG}}(\\vec{\\theta})\n",
    "=-\\frac{1}{N}\\sum_{i=1}^{N}\\sum_{t\\geq0} \\left(\\hat{q}_{i,t}-b\\right) \\grad\\log \\pi_{\\vec{\\theta}}(a_{i,t}|s_{i,t}).\n",
    "$$\n"
   ]
  },
  {
   "cell_type": "markdown",
   "metadata": {},
   "source": [
    "Now, we will use the state value as a baseline, so that an estimate of the advantage function is our weighting term:\n",
    "\n",
    "$$\n",
    "\\hat\\grad\\mathcal{L}_{\\text{AAC}}(\\vec{\\theta})\n",
    "=-\\frac{1}{N}\\sum_{i=1}^{N}\\sum_{t\\geq0} \\left(\\hat{q}_{i,t}-v_\\pi(s_t)\\right) \\grad\\log \\pi_{\\vec{\\theta}}(a_{i,t}|s_{i,t}).\n",
    "$$\n",
    "\n",
    "Intuitively, using the advantage function makes sense because it means we're weighting our policy's actions according to\n",
    "how advantageous they are compared to other possible actions."
   ]
  },
  {
   "cell_type": "markdown",
   "metadata": {},
   "source": [
    "But how will we know $v_\\pi(s)$? We'll learn it of course, using another neural network.\n",
    "This is known as actor-critic learning. We simultaneously learn the policy (actor) and the value of states (critic).\n",
    "We'll treat it as a regression task: given a state $s_t$, our state-value network will output $\\hat{v}_\\pi(s_t)$,\n",
    "an estimate of the actual unknown state-value.\n",
    "Our regression targets will be the discounted rewards, $\\hat{q}_{i,t}$ (see question 2),\n",
    "and we can use a simple MSE as the loss function,\n",
    "$$\n",
    "\\mathcal{L}_{\\text{SV}} = \\frac{1}{N}\\sum_{i=1}^{N}\\sum_{t\\geq0}\\left(\\hat{v}_\\pi(s_t) - \\hat{q}_{i,t}\\right)^2.\n",
    "$$\n"
   ]
  },
  {
   "cell_type": "markdown",
   "metadata": {},
   "source": [
    "### Implementation"
   ]
  },
  {
   "cell_type": "markdown",
   "metadata": {},
   "source": [
    "We'll build heavily on our implementation of the regular policy-gradient method, and just add a new model class and a new loss class, with a small modification to the agent."
   ]
  },
  {
   "cell_type": "markdown",
   "metadata": {},
   "source": [
    "Let's start with the model. It will accept a state, and return action scores (as before), but also the value of that state.\n",
    "You can experiment with a dual-head network that has a shared base, or implement two separate parts within the network.\n",
    "\n",
    "**TODO**:\n",
    "1. Implement the model as the `AACPolicyNet` class in the `hw4/rl_ac.py` module.\n",
    "1. Set the hyperparameters in the `part1_aac_hyperparams()` function of the `hw4.answers` module."
   ]
  },
  {
   "cell_type": "code",
   "execution_count": 314,
   "metadata": {
    "pycharm": {
     "is_executing": false
    }
   },
   "outputs": [
    {
     "ename": "NotImplementedError",
     "evalue": "",
     "output_type": "error",
     "traceback": [
      "\u001b[0;31m---------------------------------------------------------------------------\u001b[0m",
      "\u001b[0;31mNotImplementedError\u001b[0m                       Traceback (most recent call last)",
      "\u001b[0;32m<ipython-input-314-f856c3b083fe>\u001b[0m in \u001b[0;36m<module>\u001b[0;34m\u001b[0m\n\u001b[1;32m      2\u001b[0m \u001b[0;34m\u001b[0m\u001b[0m\n\u001b[1;32m      3\u001b[0m \u001b[0mhp\u001b[0m \u001b[0;34m=\u001b[0m \u001b[0mhw4\u001b[0m\u001b[0;34m.\u001b[0m\u001b[0manswers\u001b[0m\u001b[0;34m.\u001b[0m\u001b[0mpart1_aac_hyperparams\u001b[0m\u001b[0;34m(\u001b[0m\u001b[0;34m)\u001b[0m\u001b[0;34m\u001b[0m\u001b[0;34m\u001b[0m\u001b[0m\n\u001b[0;32m----> 4\u001b[0;31m \u001b[0mpv_net\u001b[0m \u001b[0;34m=\u001b[0m \u001b[0mhw4ac\u001b[0m\u001b[0;34m.\u001b[0m\u001b[0mAACPolicyNet\u001b[0m\u001b[0;34m.\u001b[0m\u001b[0mbuild_for_env\u001b[0m\u001b[0;34m(\u001b[0m\u001b[0menv\u001b[0m\u001b[0;34m,\u001b[0m \u001b[0mdevice\u001b[0m\u001b[0;34m,\u001b[0m \u001b[0;34m**\u001b[0m\u001b[0mhp\u001b[0m\u001b[0;34m)\u001b[0m\u001b[0;34m\u001b[0m\u001b[0;34m\u001b[0m\u001b[0m\n\u001b[0m\u001b[1;32m      5\u001b[0m \u001b[0mpv_net\u001b[0m\u001b[0;34m\u001b[0m\u001b[0;34m\u001b[0m\u001b[0m\n",
      "\u001b[0;32m~/DL/DL_HW4/hw4/rl_ac.py\u001b[0m in \u001b[0;36mbuild_for_env\u001b[0;34m(env, device, **kw)\u001b[0m\n\u001b[1;32m     50\u001b[0m         \u001b[0;31m# TODO: Implement according to docstring.\u001b[0m\u001b[0;34m\u001b[0m\u001b[0;34m\u001b[0m\u001b[0;34m\u001b[0m\u001b[0m\n\u001b[1;32m     51\u001b[0m         \u001b[0;31m# ====== YOUR CODE: ======\u001b[0m\u001b[0;34m\u001b[0m\u001b[0;34m\u001b[0m\u001b[0;34m\u001b[0m\u001b[0m\n\u001b[0;32m---> 52\u001b[0;31m         \u001b[0;32mraise\u001b[0m \u001b[0mNotImplementedError\u001b[0m\u001b[0;34m(\u001b[0m\u001b[0;34m)\u001b[0m\u001b[0;34m\u001b[0m\u001b[0;34m\u001b[0m\u001b[0m\n\u001b[0m\u001b[1;32m     53\u001b[0m         \u001b[0;31m# ========================\u001b[0m\u001b[0;34m\u001b[0m\u001b[0;34m\u001b[0m\u001b[0;34m\u001b[0m\u001b[0m\n\u001b[1;32m     54\u001b[0m         \u001b[0;32mreturn\u001b[0m \u001b[0mnet\u001b[0m\u001b[0;34m.\u001b[0m\u001b[0mto\u001b[0m\u001b[0;34m(\u001b[0m\u001b[0mdevice\u001b[0m\u001b[0;34m)\u001b[0m\u001b[0;34m\u001b[0m\u001b[0;34m\u001b[0m\u001b[0m\n",
      "\u001b[0;31mNotImplementedError\u001b[0m: "
     ]
    }
   ],
   "source": [
    "import hw4.rl_ac as hw4ac\n",
    "\n",
    "hp = hw4.answers.part1_aac_hyperparams()\n",
    "pv_net = hw4ac.AACPolicyNet.build_for_env(env, device, **hp)\n",
    "pv_net"
   ]
  },
  {
   "cell_type": "markdown",
   "metadata": {},
   "source": [
    "**TODO**: Complete the implementation of the agent class, `AACPolicyAgent`, in the `hw4/rl_ac.py` module."
   ]
  },
  {
   "cell_type": "code",
   "execution_count": null,
   "metadata": {
    "pycharm": {
     "is_executing": false
    }
   },
   "outputs": [],
   "source": [
    "agent = hw4ac.AACPolicyAgent(env, pv_net, device)\n",
    "exp = agent.step()\n",
    "\n",
    "test.assertIsInstance(exp, hw4pg.Experience)\n",
    "print(exp)"
   ]
  },
  {
   "cell_type": "markdown",
   "metadata": {},
   "source": [
    "**TODO**: Implement the AAC loss function as the class `AACPolicyGradientLoss` in the `hw4/rl_ac.py` module."
   ]
  },
  {
   "cell_type": "code",
   "execution_count": null,
   "metadata": {
    "pycharm": {
     "is_executing": false
    }
   },
   "outputs": [],
   "source": [
    "loss_fn_aac = hw4ac.AACPolicyGradientLoss(delta=1.)\n",
    "test_state_values = torch.ones(test_action_scores.shape[0], 1)\n",
    "loss_t, _ = loss_fn_aac(test_batch, (test_action_scores, test_state_values))\n",
    "\n",
    "print('loss_t =', loss_t)\n",
    "test.assertAlmostEqual(loss_t.item(), 975.230895, delta=1e-3)"
   ]
  },
  {
   "cell_type": "markdown",
   "metadata": {},
   "source": [
    "### Experimentation"
   ]
  },
  {
   "cell_type": "markdown",
   "metadata": {},
   "source": [
    "Let's run the same experiment as before, but with the AAC method and compare the results."
   ]
  },
  {
   "cell_type": "code",
   "execution_count": null,
   "metadata": {
    "pycharm": {
     "is_executing": false
    }
   },
   "outputs": [],
   "source": [
    "def train_aac(baseline=False, entropy=False, **train_kwargs):\n",
    "    hp = hw4.answers.part1_aac_hyperparams()\n",
    "    loss_fns = [hw4ac.AACPolicyGradientLoss(hp['delta']), hw4pg.ActionEntropyLoss(ENV_N_ACTIONS, hp['beta'])]\n",
    "    return train_rl(hw4ac.AACPolicyAgent, hw4ac.AACPolicyNet, loss_fns, hp, **train_kwargs)"
   ]
  },
  {
   "cell_type": "code",
   "execution_count": null,
   "metadata": {
    "pycharm": {
     "is_executing": false
    }
   },
   "outputs": [],
   "source": [
    "training_data_filename = os.path.join('results', f'part1_exp_aac.dat')\n",
    "\n",
    "# Set to True to force re-run (careful, will delete old experiment results)\n",
    "force_run = False\n",
    "\n",
    "if os.path.isfile(training_data_filename) and not force_run:\n",
    "    print(f'=== results file {training_data_filename} exists, skipping experiments.')\n",
    "    results_aac = load_training_data(training_data_filename)\n",
    "    \n",
    "else:\n",
    "    print(f'=== Running AAC experiment')\n",
    "    training_data = train_aac(max_episodes=exp_max_episodes)\n",
    "    results_aac = dict(aac=training_data)\n",
    "    dump_training_data(results_aac, training_data_filename)"
   ]
  },
  {
   "cell_type": "code",
   "execution_count": null,
   "metadata": {
    "pycharm": {
     "is_executing": false
    }
   },
   "outputs": [],
   "source": [
    "experiments_results_fig = plot_experiment_results(results)\n",
    "plot_experiment_results(results_aac, fig=experiments_results_fig);"
   ]
  },
  {
   "cell_type": "markdown",
   "metadata": {},
   "source": [
    "You should get better results with the AAC method, so this time the bar is higher (again, you should aim for a mean reward of 100+).\n",
    "Compare the graphs with combined PG method and see if they make sense."
   ]
  },
  {
   "cell_type": "code",
   "execution_count": null,
   "metadata": {
    "pycharm": {
     "is_executing": false
    }
   },
   "outputs": [],
   "source": [
    "best_aac_mean_reward = max(results_aac['aac']['mean_reward'])\n",
    "print(f'Best AAC mean reward: {best_aac_mean_reward:.2f}')\n",
    "\n",
    "test.assertGreater(best_aac_mean_reward, 50)"
   ]
  },
  {
   "cell_type": "markdown",
   "metadata": {},
   "source": [
    "### Final model training and visualization"
   ]
  },
  {
   "cell_type": "markdown",
   "metadata": {},
   "source": [
    "Now, using your best model and hyperparams, let's train model for much longer and see the performance.\n",
    "Just for fun, we'll also visualize an episode every now and then so that we can see how well the agent is playing."
   ]
  },
  {
   "cell_type": "markdown",
   "metadata": {},
   "source": [
    "**TODO**:\n",
    "- Run the following block to train.\n",
    "- Tweak model or hyperparams as necessary.\n",
    "- Aim for high mean reward, at least 150+. It's possible to get over 200.\n",
    "- When training is done and you're satisfied with the model's outputs, rename the checkpoint file by adding `_final` to the file name.\n",
    "  This will cause the block to skip training and instead load your saved model when running the homework submission script.\n",
    "  Note that your submission zip file will not include the checkpoint file. This is OK."
   ]
  },
  {
   "cell_type": "code",
   "execution_count": null,
   "metadata": {
    "pycharm": {
     "is_executing": false
    }
   },
   "outputs": [],
   "source": [
    "import IPython.display\n",
    "\n",
    "CHECKPOINTS_FILE = f'checkpoints/{ENV_NAME}-ac.dat'\n",
    "CHECKPOINTS_FILE_FINAL = f'checkpoints/{ENV_NAME}-ac_final.dat'\n",
    "TARGET_REWARD = 125\n",
    "MAX_EPISODES = 15_000\n",
    "\n",
    "def post_batch_fn(batch_idx, p_net, batch, print_every=20, final=False):\n",
    "    if not final and batch_idx % print_every != 0:\n",
    "        return\n",
    "    env, n_steps, reward = hw4ac.AACPolicyAgent.monitor_episode(ENV_NAME, p_net)\n",
    "    html = show_monitor_video(env, width=\"500\")\n",
    "    IPython.display.clear_output(wait=True)\n",
    "    print(f'Monitor@#{batch_idx}: n_steps={n_steps}, total_reward={reward:.3f}, final={final}')\n",
    "    IPython.display.display_html(html)\n",
    "    \n",
    "    \n",
    "if os.path.isfile(CHECKPOINTS_FILE_FINAL):\n",
    "    print(f'=== {CHECKPOINTS_FILE_FINAL} exists, skipping training...')\n",
    "    checkpoint_data = torch.load(CHECKPOINTS_FILE_FINAL)\n",
    "    hp = hw4.answers.part1_aac_hyperparams()\n",
    "    pv_net = hw4ac.AACPolicyNet.build_for_env(env, **hp)\n",
    "    pv_net.load_state_dict(checkpoint_data['params'])\n",
    "    print(f'=== Running best model...')\n",
    "    env, n_steps, reward = hw4ac.AACPolicyAgent.monitor_episode(ENV_NAME, pv_net)\n",
    "    print(f'=== Best model ran for {n_steps} steps. Total reward: {reward:.2f}')\n",
    "    IPython.display.display_html(show_monitor_video(env))\n",
    "    best_mean_reward = checkpoint_data[\"best_mean_reward\"]\n",
    "else:\n",
    "    print(f'=== Starting training...')\n",
    "    train_data = train_aac(TARGET_REWARD, max_episodes=MAX_EPISODES,\n",
    "                           seed=None, checkpoints_file=CHECKPOINTS_FILE, post_batch_fn=post_batch_fn)\n",
    "    print(f'=== Done, ', end='')\n",
    "    best_mean_reward = train_data[\"best_mean_reward\"][-1]\n",
    "    print(f'num_episodes={train_data[\"episode_num\"][-1]}, best_mean_reward={best_mean_reward:.1f}')\n",
    "          \n",
    "test.assertGreaterEqual(best_mean_reward, TARGET_REWARD)"
   ]
  },
  {
   "cell_type": "markdown",
   "metadata": {},
   "source": [
    "## Questions\n",
    "<a id=part1_3></a>"
   ]
  },
  {
   "cell_type": "markdown",
   "metadata": {},
   "source": [
    "**TODO**: Answer the following questions. Write your answers in the appropriate variables in the module `hw4/answers.py`."
   ]
  },
  {
   "cell_type": "code",
   "execution_count": null,
   "metadata": {
    "pycharm": {
     "is_executing": false
    }
   },
   "outputs": [],
   "source": [
    "from cs236781.answers import display_answer\n",
    "import hw4.answers"
   ]
  },
  {
   "cell_type": "markdown",
   "metadata": {},
   "source": [
    "### Question 1\n",
    "\n",
    "Explain qualitatively why subtracting a baseline in the policy-gradient helps reduce it's variance.\n",
    "Specifically, give an example where it helps."
   ]
  },
  {
   "cell_type": "code",
   "execution_count": null,
   "metadata": {
    "pycharm": {
     "is_executing": false
    }
   },
   "outputs": [],
   "source": [
    "display_answer(hw4.answers.part1_q1)"
   ]
  },
  {
   "cell_type": "markdown",
   "metadata": {},
   "source": [
    "### Question 2\n",
    "\n",
    "In AAC, when using the estimated q-values as regression targets for our state-values, why do we get a valid approximation?\n",
    "Hint: how is $v_\\pi(s)$ expressed in terms of $q_\\pi(s,a)$?"
   ]
  },
  {
   "cell_type": "code",
   "execution_count": null,
   "metadata": {
    "pycharm": {
     "is_executing": false
    }
   },
   "outputs": [],
   "source": [
    "display_answer(hw4.answers.part1_q2)"
   ]
  },
  {
   "cell_type": "markdown",
   "metadata": {},
   "source": [
    "### Question 3\n",
    "\n",
    "1. Analyze and explain the graphs you got in first experiment run.\n",
    "2. Compare the experiment graphs you got with the AAC method to the regular PG method (`cpg`)."
   ]
  },
  {
   "cell_type": "code",
   "execution_count": null,
   "metadata": {
    "pycharm": {
     "is_executing": false
    }
   },
   "outputs": [],
   "source": [
    "display_answer(hw4.answers.part1_q3)"
   ]
  }
 ],
 "metadata": {
  "kernelspec": {
   "display_name": "Python 3",
   "language": "python",
   "name": "python3"
  },
  "language_info": {
   "codemirror_mode": {
    "name": "ipython",
    "version": 3
   },
   "file_extension": ".py",
   "mimetype": "text/x-python",
   "name": "python",
   "nbconvert_exporter": "python",
   "pygments_lexer": "ipython3",
   "version": "3.7.4"
  },
  "pycharm": {
   "stem_cell": {
    "cell_type": "raw",
    "metadata": {
     "collapsed": false
    },
    "source": []
   }
  }
 },
 "nbformat": 4,
 "nbformat_minor": 4
}
