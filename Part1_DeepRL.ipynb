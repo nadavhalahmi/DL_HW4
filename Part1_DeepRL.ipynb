{
 "cells": [
  {
   "cell_type": "markdown",
   "metadata": {},
   "source": [
    "$$\n",
    "\\newcommand{\\mat}[1]{\\boldsymbol {#1}}\n",
    "\\newcommand{\\mattr}[1]{\\boldsymbol {#1}^\\top}\n",
    "\\newcommand{\\matinv}[1]{\\boldsymbol {#1}^{-1}}\n",
    "\\newcommand{\\vec}[1]{\\boldsymbol {#1}}\n",
    "\\newcommand{\\vectr}[1]{\\boldsymbol {#1}^\\top}\n",
    "\\newcommand{\\rvar}[1]{\\mathrm {#1}}\n",
    "\\newcommand{\\rvec}[1]{\\boldsymbol{\\mathrm{#1}}}\n",
    "\\newcommand{\\diag}{\\mathop{\\mathrm {diag}}}\n",
    "\\newcommand{\\set}[1]{\\mathbb {#1}}\n",
    "\\newcommand{\\cset}[1]{\\mathcal{#1}}\n",
    "\\newcommand{\\norm}[1]{\\left\\lVert#1\\right\\rVert}\n",
    "\\newcommand{\\pderiv}[2]{\\frac{\\partial #1}{\\partial #2}}\n",
    "\\newcommand{\\bb}[1]{\\boldsymbol{#1}}\n",
    "\\newcommand{\\E}[2][]{\\mathbb{E}_{#1}\\left[#2\\right]}\n",
    "\\newcommand{\\ip}[3]{\\left<#1,#2\\right>_{#3}}\n",
    "\\newcommand{\\given}[]{\\,\\middle\\vert\\,}\n",
    "\\newcommand{\\DKL}[2]{\\cset{D}_{\\text{KL}}\\left(#1\\,\\Vert\\, #2\\right)}\n",
    "\\newcommand{\\grad}[]{\\nabla}\n",
    "$$\n",
    "# Part 1: Deep Reinforcement Learning\n",
    "<a id=part1></a>"
   ]
  },
  {
   "cell_type": "markdown",
   "metadata": {},
   "source": [
    "In the tutorial we have seen value-based reinforcement learning, in which we learn to approximate the action-value function $q(s,a)$.\n",
    "\n",
    "In this exercise we'll explore a different approach, directly learning the agent's policy distribution, $\\pi(a|s)$\n",
    "by using *policy gradients*, in order to safely land on the moon!"
   ]
  },
  {
   "cell_type": "code",
   "execution_count": 1,
   "metadata": {
    "pycharm": {
     "is_executing": false
    }
   },
   "outputs": [],
   "source": [
    "%load_ext autoreload\n",
    "%autoreload 2\n",
    "%matplotlib inline\n",
    "\n",
    "import unittest\n",
    "import os\n",
    "import sys\n",
    "import pathlib\n",
    "import urllib\n",
    "import shutil\n",
    "import re\n",
    "\n",
    "import numpy as np\n",
    "import torch\n",
    "import torch.nn as nn\n",
    "import torch.optim as optim\n",
    "import matplotlib.pyplot as plt"
   ]
  },
  {
   "cell_type": "code",
   "execution_count": 2,
   "metadata": {
    "pycharm": {
     "is_executing": false
    }
   },
   "outputs": [
    {
     "name": "stdout",
     "output_type": "stream",
     "text": [
      "Using device: cpu\n"
     ]
    }
   ],
   "source": [
    "test = unittest.TestCase()\n",
    "plt.rcParams.update({'font.size': 12})\n",
    "device = torch.device('cuda' if torch.cuda.is_available() else 'cpu')\n",
    "\n",
    "# Prefer CPU, GPU won't help much in this assignment\n",
    "device = 'cpu'\n",
    "print('Using device:', device)\n",
    "\n",
    "# Seed for deterministic tests\n",
    "SEED = 42"
   ]
  },
  {
   "cell_type": "markdown",
   "metadata": {},
   "source": [
    "Some technical notes before we begin:\n",
    "\n",
    "- This part does not require a GPU. We won't need large models, and the computation bottleneck will be the generation of episodes to train on.\n",
    "- In order to run this notebook on the server, you must prepend the `xvfb-run` command to create a virtual screen. For example,\n",
    "    - to run the jupyter lab script with `srun` do\n",
    "        ```\n",
    "        srun -c2 --gres=gpu:1 xvfb-run -a -s \"-screen 0 1440x900x24\" ./jupyter-lab.sh\n",
    "        ```\n",
    "    - To run the submission script, do\n",
    "        ```\n",
    "        srun -c2 xvfb-run -a -s \"-screen 0 1440x900x24\" python main.py prepare-submission ...\n",
    "        ```\n",
    "    and so on.\n",
    "- The OpenAI `gym` library is not officially supported on windows. However it should be possible to install and run the necessary environment for this exercise. However, we cannot provide you with technical support for this. If you have trouble installing locally, we suggest running on the course server."
   ]
  },
  {
   "cell_type": "markdown",
   "metadata": {},
   "source": [
    "## Policy gradients\n",
    "<a id=part1_1></a>"
   ]
  },
  {
   "cell_type": "markdown",
   "metadata": {},
   "source": [
    "Recall from the tutorial that we define the **policy** of an agent as the conditional distribution,\n",
    "$$\n",
    "\\pi(a|s) = \\Pr(a_t=a\\vert s_t=s),\n",
    "$$\n",
    "which defines how likely the agent is to take action $a$ at state $s$.\n",
    "\n",
    "Furthermore we define the action-value function,\n",
    "$$\n",
    "q_{\\pi}(s,a) = \\E{g_t(\\tau)|s_t = s,a_t=a,\\pi}\n",
    "$$\n",
    "where \n",
    "$$\n",
    "g_t(\\tau) = r_{t+1}+\\gamma r_{t+2} + \\dots = \\sum_{k=0}^{\\infty} \\gamma^k r_{t+1+k},\n",
    "$$\n",
    "is the total discounted reward of a specific trajectory $\\tau$ from time $t$, and the expectation in $q$ is over all possible\n",
    "trajectories,\n",
    "$\n",
    "\\tau=\\left\\{ (s_0,a_0,r_1,s_1), \\dots (s_T,a_T,r_{T+1},s_{T+1}) \\right\\}.\n",
    "$"
   ]
  },
  {
   "cell_type": "markdown",
   "metadata": {},
   "source": [
    "In the tutorial we saw that we can learn a value function starting with some random function and\n",
    "updating it iteratively by using the **Bellman optimality equation**.\n",
    "Given that we have some action-value function, we can immediately create a policy based on that\n",
    "by simply selecting an action which maximize the action-value at the current state, i.e.\n",
    "$$\n",
    "\\pi(a|s) =\n",
    "\\begin{cases}\n",
    "1, & a = \\arg\\max_{a'\\in\\cset{A}} q(s,a') \\\\\n",
    "0, & \\text{else}\n",
    "\\end{cases}.\n",
    "$$\n",
    "This is called $q$-learning. This approach aims to obtain a policy indirectly through the action-value function.\n",
    "Yet, in most cases we don't actually care about knowing the value of particular states,\n",
    "since all we need is a good policy for our agent. \n",
    "\n",
    "Here we'll take a different approach and learn a policy distribution $\\pi(a|s)$ directly - by using **policy gradients**."
   ]
  },
  {
   "cell_type": "markdown",
   "metadata": {},
   "source": [
    "### Formalism"
   ]
  },
  {
   "cell_type": "markdown",
   "metadata": {},
   "source": [
    "We define a parametric policy, $\\pi_\\vec{\\theta}(a|s)$, and maximize total discounted reward (or minimize the negative reward):\n",
    "$$\n",
    "\\mathcal{L}(\\vec{\\theta})=\\E[\\tau]{-g(\\tau)|\\pi_\\vec{\\theta}} = -\\int g(\\tau)p(\\tau|\\vec{\\theta})d\\tau,\n",
    "$$\n",
    "where $p(\\tau|\\vec{\\theta})$ is the probability of a specific trajectory $\\tau$ under the policy defined by $\\vec{\\theta}$.\n"
   ]
  },
  {
   "cell_type": "markdown",
   "metadata": {},
   "source": [
    "Since we want to find the parameters $\\vec{\\theta}$ which minimize $\\mathcal{L}(\\vec{\\theta})$, we'll compute the gradient w.r.t. $\\vec{\\theta}$:\n",
    "$$\n",
    "\\grad\\mathcal{L}(\\vec{\\theta}) = -\\int g(\\tau)\\grad p(\\tau|\\vec{\\theta})d\\tau.\n",
    "$$\n",
    "\n",
    "Unfortunately, if we try to write $p(\\tau|\\vec{\\theta})$ explicitly,\n",
    "we find that computing it's gradient with respect to $\\vec{\\theta}$ is\n",
    "quite intractable due to a huge product of terms depending on $\\vec{\\theta}$:\n",
    "$$\n",
    "p(\\tau|\\vec{\\theta})=p\\left(\\left\\{ (s_t,a_t,r_{t+1},s_{t+1})\\right\\}_{t\\geq0}\\given\\vec{\\theta}\\right)\n",
    "=p(s_0)\\prod_{t\\geq0} \\pi_{\\vec{\\theta}}(a_t|s_t)p(s_{t+1}|s_t,a_t).\n",
    "$$"
   ]
  },
  {
   "cell_type": "markdown",
   "metadata": {},
   "source": [
    "However, by using the fact that $\\grad_{x}\\log(f(x))=\\frac{\\grad_{x}f(x)}{f(x)}$, we can convert the product into a sum:\n",
    "$$\n",
    "\\begin{align}\n",
    "\\grad\\mathcal{L}(\\vec{\\theta})\n",
    "&= -\\int g(\\tau)\\grad p(\\tau|\\vec{\\theta})d\\tau\n",
    "= -\\int g(\\tau)\\frac{\\grad p(\\tau|\\vec{\\theta})}{p(\\tau|\\vec{\\theta})}p(\\tau|\\vec{\\theta})d\\tau \\\\\n",
    "&= -\\int g(\\tau)\\grad\\log\\left(p(\\tau|\\vec{\\theta})\\right)p(\\tau|\\vec{\\theta})d\\tau \\\\\n",
    "&= -\\int g(\\tau)\\grad\\log\\left( p(s_0)\\prod_{t\\geq0} \\pi_{\\vec{\\theta}}(a_t|s_t)p(s_{t+1}|s_t,a_t) \\right)\n",
    "p(\\tau|\\vec{\\theta})d\\tau \\\\\n",
    "&= -\\int g(\\tau)\\grad\\left( \\log p(s_0) + \\sum_{t\\geq0} \\log \\pi_{\\vec{\\theta}}(a_t|s_t) + \n",
    "\\sum_{t\\geq0}\\log p(s_{t+1}|s_t,a_t) \\right) p(\\tau|\\vec{\\theta})d\\tau \\\\\n",
    "&= -\\int g(\\tau)\\sum_{t\\geq0} \\grad\\log \\pi_{\\vec{\\theta}}(a_t|s_t) p(\\tau|\\vec{\\theta})d\\tau \\\\\n",
    "&= \\E[\\tau]{-g(\\tau)\\sum_{t\\geq0} \\grad\\log \\pi_{\\vec{\\theta}}(a_t|s_t)}.\n",
    "\\end{align}\n",
    "$$"
   ]
  },
  {
   "cell_type": "markdown",
   "metadata": {},
   "source": [
    "This is the \"vanilla\" version of the policy gradient. We can interpret is as a weighted log-likelihood function.\n",
    "The log-policy is the log-likelihood term we wish to maximize and the total discounted reward acts as a weight: high-return positive\n",
    "trajectories will cause the probability of actions taken during them to increase, and negative-return trajectories will cause the\n",
    "probabilities of actions taken to decrease.\n",
    "\n",
    "In the following figures we see three trajectories: high-return positive-reward (green), low-return positive-reward (yellow) and negative-return (red) and the action probabilities along the trajectories after the update. Credit: Sergey Levine.\n",
    "\n",
    "|<strong></strong>||\n",
    "|-----| ----|\n",
    "|<img src=\"imgs/pg1.png\" height=\"200\">|<img src=\"imgs/pg2.png\" height=\"200\">|\n"
   ]
  },
  {
   "cell_type": "markdown",
   "metadata": {},
   "source": [
    "The major drawback of the policy-gradient is it's high variance, which causes erratic optimization behavior and therefore slow convergence.\n",
    "One reason for this is that the log-policy weight term, $g(\\tau)$ can vary wildly between different trajectories, even if they're similar in\n",
    "actions. Later on we'll implement the loss and explore some methods of variance reduction."
   ]
  },
  {
   "cell_type": "markdown",
   "metadata": {},
   "source": [
    "### Landing on the moon with policy gradients"
   ]
  },
  {
   "cell_type": "markdown",
   "metadata": {},
   "source": [
    "In the spirit of the recent achievements of the Israeli space industry,\n",
    "we'll apply our reinforcement learning skills to solve a simple game called **LunarLander**.\n",
    "\n",
    "This game is available as an `environment` in OpenAI `gym`.\n",
    "\n",
    "<video loop autoplay src=\"http://gym.openai.com/videos/2019-04-06--My9IiAbqha/LunarLander-v2/original.mp4\" />"
   ]
  },
  {
   "cell_type": "markdown",
   "metadata": {},
   "source": [
    "In this environment, you need to control the lander and get it to land safely on the moon.\n",
    "To do so, you must apply bottom, right or left thrusters (each are either fully on or fully off)\n",
    "and get it to land within the designated zone as quickly as possible and with minimal wasted fuel."
   ]
  },
  {
   "cell_type": "code",
   "execution_count": 3,
   "metadata": {
    "pycharm": {
     "is_executing": false
    }
   },
   "outputs": [],
   "source": [
    "import gym\n",
    "\n",
    "# Just for fun :) ... but also to re-define the default max number of steps\n",
    "ENV_NAME = 'Beresheet-v2'\n",
    "MAX_EPISODE_STEPS = 300\n",
    "if ENV_NAME not in gym.envs.registry.env_specs:\n",
    "    gym.register(\n",
    "        id=ENV_NAME,\n",
    "        entry_point='gym.envs.box2d:LunarLander',\n",
    "        max_episode_steps=MAX_EPISODE_STEPS,\n",
    "        reward_threshold=200,\n",
    "    )"
   ]
  },
  {
   "cell_type": "code",
   "execution_count": 4,
   "metadata": {
    "pycharm": {
     "is_executing": false
    }
   },
   "outputs": [
    {
     "name": "stdout",
     "output_type": "stream",
     "text": [
      "<TimeLimit<LunarLander<Beresheet-v2>>>\n",
      "observations space: Box(8,)\n",
      "action space: Discrete(4)\n"
     ]
    }
   ],
   "source": [
    "import gym\n",
    "\n",
    "env = gym.make(ENV_NAME)\n",
    "\n",
    "print(env)\n",
    "print(f'observations space: {env.observation_space}')\n",
    "print(f'action space: {env.action_space}')\n",
    "\n",
    "ENV_N_ACTIONS = env.action_space.n\n",
    "ENV_N_OBSERVATIONS = env.observation_space.shape[0]"
   ]
  },
  {
   "cell_type": "markdown",
   "metadata": {},
   "source": [
    "The observations at each step is the Lander's position, velocity, angle, angular velocity and ground contact state.\n",
    "The actions are no-op, fire left truster, bottom thruster and right thruster.\n",
    "\n",
    "You are **highly encouraged** to read the [documentation](https://github.com/openai/gym/blob/master/gym/envs/box2d/lunar_lander.py) in the source code of the `LunarLander` environment to understand the reward system,\n",
    "and see how the actions and observations are created."
   ]
  },
  {
   "cell_type": "markdown",
   "metadata": {},
   "source": [
    "### Policy network and Agent"
   ]
  },
  {
   "cell_type": "markdown",
   "metadata": {},
   "source": [
    "Let's start with our policy-model. This will be a simple neural net, which should take an observation and return a score for each possible action."
   ]
  },
  {
   "cell_type": "markdown",
   "metadata": {},
   "source": [
    "**TODO**:\n",
    "1. Implement all methods in the `PolicyNet` class in the `hw4/rl_pg.py` module.\n",
    "   Start small. A simple MLP with a few hidden layers is a good starting point. You can come back and change it later based on the the experiments. The we'll use the `build_for_env` method to instantiate a `PolicyNet` based on the configuration of a given environment.\n",
    "2. If you need hyperparameters to configure your model (e.g. number of hidden layers, sizes, etc.), add them in `part1_pg_hyperparams()` in `hw4/answers.py`."
   ]
  },
  {
   "cell_type": "code",
   "execution_count": 5,
   "metadata": {
    "pycharm": {
     "is_executing": false
    }
   },
   "outputs": [
    {
     "data": {
      "text/plain": [
       "PolicyNet(\n",
       "  (our_net): Sequential(\n",
       "    (0): Linear(in_features=8, out_features=4, bias=True)\n",
       "    (1): LogSoftmax()\n",
       "  )\n",
       ")"
      ]
     },
     "execution_count": 5,
     "metadata": {},
     "output_type": "execute_result"
    }
   ],
   "source": [
    "import hw4.rl_pg as hw4pg\n",
    "import hw4.answers\n",
    "\n",
    "hp = hw4.answers.part1_pg_hyperparams()\n",
    "\n",
    "# You can add keyword-args to this function which will be populated from the hyperparameters dict.\n",
    "p_net = hw4pg.PolicyNet.build_for_env(env, device, **hp)\n",
    "p_net"
   ]
  },
  {
   "cell_type": "markdown",
   "metadata": {},
   "source": [
    "Now we need an **agent**. The purpose of our agent will be to act according to the current policy and generate experiences.\n",
    "Our `PolicyAgent` will use a `PolicyNet` as the current policy function.\n",
    "\n",
    "\n",
    "We'll also define some extra datatypes to help us represent the data generated by our agent.\n",
    "You can find the `Experience`, `Episode` and `TrainBatch` datatypes in the `hw4/rl_data.py` module."
   ]
  },
  {
   "cell_type": "markdown",
   "metadata": {},
   "source": [
    "**TODO**: Implement the `current_action_distribution()` method of the `PolicyAgent` class in the `hw4/rl_pg.py` module."
   ]
  },
  {
   "cell_type": "code",
   "execution_count": 6,
   "metadata": {
    "pycharm": {
     "is_executing": false
    }
   },
   "outputs": [
    {
     "name": "stdout",
     "output_type": "stream",
     "text": [
      "tensor([0.3176, 0.2463, 0.2238, 0.2123])\n"
     ]
    },
    {
     "name": "stderr",
     "output_type": "stream",
     "text": [
      "C:\\Users\\talin\\Anaconda3\\envs\\cs236781-hw\\lib\\site-packages\\torch\\nn\\modules\\container.py:92: UserWarning: Implicit dimension choice for log_softmax has been deprecated. Change the call to include dim=X as an argument.\n",
      "  input = module(input)\n"
     ]
    }
   ],
   "source": [
    "for i in range (10):\n",
    "    agent = hw4pg.PolicyAgent(env, p_net, device)\n",
    "    d = agent.current_action_distribution()\n",
    "    test.assertSequenceEqual(d.shape, (env.action_space.n,))\n",
    "    test.assertAlmostEqual(d.sum(), 1.0, delta=1e-5)\n",
    "    \n",
    "print(d)"
   ]
  },
  {
   "cell_type": "markdown",
   "metadata": {},
   "source": [
    "**TODO**: Implement the `step()` method of the `PolicyAgent`."
   ]
  },
  {
   "cell_type": "code",
   "execution_count": 7,
   "metadata": {
    "pycharm": {
     "is_executing": false
    }
   },
   "outputs": [
    {
     "name": "stdout",
     "output_type": "stream",
     "text": [
      "Experience(state=array([ 0.01371431,  1.3960762 ,  0.68898416, -0.342751  , -0.01423558,\n",
      "       -0.12523395,  0.        ,  0.        ], dtype=float32), action=1, reward=-0.21253218847272023, is_done=False)\n"
     ]
    }
   ],
   "source": [
    "agent = hw4pg.PolicyAgent(env, p_net, device)\n",
    "exp = agent.step()\n",
    "\n",
    "test.assertIsInstance(exp, hw4pg.Experience)\n",
    "print(exp)"
   ]
  },
  {
   "cell_type": "markdown",
   "metadata": {},
   "source": [
    "To test our agent, we'll write some code that allows it to play an environment. We'll use the `Monitor`\n",
    "wrapper in `gym` to generate a video of the episode for visual debugging."
   ]
  },
  {
   "cell_type": "markdown",
   "metadata": {},
   "source": [
    "**TODO**: Complete the implementation of the `monitor_episode()` method of the `PolicyAgent`."
   ]
  },
  {
   "cell_type": "code",
   "execution_count": 8,
   "metadata": {
    "pycharm": {
     "is_executing": false
    }
   },
   "outputs": [],
   "source": [
    "env, n_steps, reward = agent.monitor_episode(ENV_NAME, p_net, device=device)"
   ]
  },
  {
   "cell_type": "markdown",
   "metadata": {},
   "source": [
    "To display the Monitor video in this notebook, we'll use a helper function from our `jupyter_utils` and a small wrapper that extracts the path of the last video file. "
   ]
  },
  {
   "cell_type": "code",
   "execution_count": 9,
   "metadata": {
    "pycharm": {
     "is_executing": false
    }
   },
   "outputs": [],
   "source": [
    "import cs236781.jupyter_utils as jupyter_utils\n",
    "\n",
    "def show_monitor_video(monitor_env, idx=0, **kw):\n",
    "    # Extract video path\n",
    "    video_path = monitor_env.videos[idx][0]\n",
    "    video_path = os.path.relpath(video_path, start=os.path.curdir)\n",
    "    \n",
    "    # Use helper function to embed the video\n",
    "    return jupyter_utils.show_video_in_notebook(video_path, **kw)"
   ]
  },
  {
   "cell_type": "code",
   "execution_count": 10,
   "metadata": {
    "pycharm": {
     "is_executing": false
    }
   },
   "outputs": [
    {
     "name": "stdout",
     "output_type": "stream",
     "text": [
      "Episode ran for 73 steps. Total reward: -136.12\n"
     ]
    },
    {
     "data": {
      "text/html": [
       "<video src=\"data:video/mp4;base64,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\" controls autoplay width=\"500\" height=\"auto\" />"
      ],
      "text/plain": [
       "<IPython.core.display.HTML object>"
      ]
     },
     "execution_count": 10,
     "metadata": {},
     "output_type": "execute_result"
    }
   ],
   "source": [
    "print(f'Episode ran for {n_steps} steps. Total reward: {reward:.2f}')\n",
    "\n",
    "show_monitor_video(env, -1)"
   ]
  },
  {
   "cell_type": "markdown",
   "metadata": {},
   "source": [
    "### Training data"
   ]
  },
  {
   "cell_type": "markdown",
   "metadata": {},
   "source": [
    "The next step is to create data to train on.\n",
    "We need to train on batches of state-action pairs, so that our network can learn to predict the actions.\n",
    "\n",
    "We'll split this task into three parts:\n",
    "1. Generate a batch of `Episode`s, by using an `Agent` that's playing according to our current policy network.\n",
    "   Each `Episode` object contains the `Experience` objects created by the agent.\n",
    "2. Calculate the total discounted reward for each state we encountered and action we took. This is our action-value estimate.\n",
    "3. Convert the `Episode`s into a batch of tensors to train on.\n",
    "   Each batch will contain states, action taken per state, reward accrued, and the calculated estimated state-values.\n",
    "   These will be stored in a `TrainBatch` object.\n"
   ]
  },
  {
   "cell_type": "markdown",
   "metadata": {},
   "source": [
    "**TODO**: Complete the implementation of the `episode_batch_generator()` method in the `TrainBatchDataset` class within the `hw4.rl_data` module. This will address part 1 in the list above."
   ]
  },
  {
   "cell_type": "code",
   "execution_count": 11,
   "metadata": {
    "pycharm": {
     "is_executing": true
    }
   },
   "outputs": [
    {
     "name": "stdout",
     "output_type": "stream",
     "text": [
      "First episode: Episode(total_reward=-275.76, #experences=83)\n"
     ]
    }
   ],
   "source": [
    "import hw4.rl_data as hw4data\n",
    "\n",
    "def agent_fn():\n",
    "    env = gym.make(ENV_NAME)\n",
    "    hp = hw4.answers.part1_pg_hyperparams()\n",
    "    p_net = hw4pg.PolicyNet.build_for_env(env, device, **hp)\n",
    "    return hw4pg.PolicyAgent(env, p_net, device)\n",
    "    \n",
    "ds = hw4data.TrainBatchDataset(agent_fn, episode_batch_size=8, gamma=0.9)\n",
    "batch_gen = ds.episode_batch_generator()\n",
    "b = next(batch_gen)\n",
    "print('First episode:', b[0])\n",
    "\n",
    "test.assertEqual(len(b), 8)\n",
    "for ep in b:\n",
    "    test.assertIsInstance(ep, hw4data.Episode)\n",
    "    \n",
    "    # Check that it's a full episode\n",
    "    is_done = [exp.is_done for exp in ep.experiences]\n",
    "    test.assertFalse(any(is_done[0:-1]))\n",
    "    test.assertTrue(is_done[-1])"
   ]
  },
  {
   "cell_type": "markdown",
   "metadata": {},
   "source": [
    "**TODO**: Complete the implementation of the `calc_qvals()` method in the `Episode` class.\n",
    "This will address part 2.\n",
    "These q-values are an estimate of the actual action value function: $$\\hat{q}_{t} = \\sum_{t'\\geq t} \\gamma^{t'-t}r_{t'+1}.$$"
   ]
  },
  {
   "cell_type": "code",
   "execution_count": 12,
   "metadata": {
    "pycharm": {
     "is_executing": false
    }
   },
   "outputs": [],
   "source": [
    "np.random.seed(SEED)\n",
    "test_rewards = np.random.randint(-10, 10, 100)\n",
    "test_experiences = [hw4pg.Experience(None,None,r,False) for r in test_rewards] \n",
    "test_episode = hw4data.Episode(np.sum(test_rewards), test_experiences)\n",
    "\n",
    "qvals = test_episode.calc_qvals(0.9)\n",
    "qvals = list(qvals)\n",
    "\n",
    "expected_qvals = np.load(os.path.join('tests', 'assets', 'part1_expected_qvals.npy'))\n",
    "for i in range(len(test_rewards)):\n",
    "    test.assertAlmostEqual(expected_qvals[i], qvals[i], delta=1e-3)"
   ]
  },
  {
   "cell_type": "markdown",
   "metadata": {},
   "source": [
    "**TODO**: Complete the implementation of the `from_episodes()` method in the `TrainBatch` class.\n",
    "This will address part 3.\n",
    "\n",
    "Notes:\n",
    "- The `TrainBatchDataset` class provides a generator function that will use the above function to lazily generate batches of training samples and labels on demand.\n",
    "- This allows us to use a standard `PyTorch` dataloader to wrap our Dataset and provide us with parallel data loading for free!\n",
    "  This means we can run multiple environments with multiple agents in separate background processes to generate data for training and thus prevent the data loading bottleneck which is caused by the fact that we must generate full Episodes to train on in order to calculate the q-values.\n",
    "- We'll set the `DataLoader`'s `batch_size` to `None` because we have already implemented custom batching in our dataset."
   ]
  },
  {
   "cell_type": "code",
   "execution_count": 13,
   "metadata": {
    "pycharm": {
     "is_executing": false
    }
   },
   "outputs": [
    {
     "name": "stdout",
     "output_type": "stream",
     "text": [
      "#0: TrainBatch(states: torch.Size([693, 8]), actions: torch.Size([693]), q_vals: torch.Size([693])), num_episodes: 693)\n",
      "#1: TrainBatch(states: torch.Size([769, 8]), actions: torch.Size([769]), q_vals: torch.Size([769])), num_episodes: 769)\n",
      "#2: TrainBatch(states: torch.Size([808, 8]), actions: torch.Size([808]), q_vals: torch.Size([808])), num_episodes: 808)\n",
      "#3: TrainBatch(states: torch.Size([819, 8]), actions: torch.Size([819]), q_vals: torch.Size([819])), num_episodes: 819)\n",
      "#4: TrainBatch(states: torch.Size([737, 8]), actions: torch.Size([737]), q_vals: torch.Size([737])), num_episodes: 737)\n",
      "#5: TrainBatch(states: torch.Size([855, 8]), actions: torch.Size([855]), q_vals: torch.Size([855])), num_episodes: 855)\n",
      "#6: TrainBatch(states: torch.Size([724, 8]), actions: torch.Size([724]), q_vals: torch.Size([724])), num_episodes: 724)\n"
     ]
    }
   ],
   "source": [
    "from torch.utils.data import DataLoader\n",
    "\n",
    "ds = hw4data.TrainBatchDataset(agent_fn, episode_batch_size=8, gamma=0.9)\n",
    "dl = DataLoader(ds, batch_size=None, num_workers=0) # Run multiple agents/env in separate worker process\n",
    "\n",
    "\n",
    "for i, train_batch in enumerate(dl):\n",
    "    states, actions, qvals, reward_mean = train_batch\n",
    "    print(f'#{i}: {train_batch}')\n",
    "    test.assertEqual(states.shape[0], actions.shape[0])\n",
    "    test.assertEqual(qvals.shape[0], actions.shape[0])\n",
    "    test.assertEqual(states.shape[1], env.observation_space.shape[0])\n",
    "    if i > 5:\n",
    "        break"
   ]
  },
  {
   "cell_type": "markdown",
   "metadata": {},
   "source": [
    "### Loss functions"
   ]
  },
  {
   "cell_type": "markdown",
   "metadata": {},
   "source": [
    "As usual, we need a loss function to optimize over.\n",
    "We'll calculate three types of losses:\n",
    "1. The causal vanilla policy gradient loss.\n",
    "1. The policy gradient loss, with a baseline to reduce variance.\n",
    "2. An entropy-based loss whos purpose is to diversify the agent's action selection,\n",
    "   and prevent it from being \"too sure\" about its actions.\n",
    "   This loss will be used together with one of the above losses."
   ]
  },
  {
   "cell_type": "markdown",
   "metadata": {},
   "source": [
    "#### Causal vanilla policy-gradient"
   ]
  },
  {
   "cell_type": "markdown",
   "metadata": {},
   "source": [
    "We have derived the policy-gradient as\n",
    "$$\n",
    "\\grad\\mathcal{L}(\\vec{\\theta}) = \\E[\\tau]{-g(\\tau)\\sum_{t\\geq0} \\grad\\log \\pi_{\\vec{\\theta}}(a_t|s_t)}.\n",
    "$$\n",
    "\n",
    "By writing the discounted reward explicitly and enforcing causality, i.e. the action taken at time $t$ can't affect\n",
    "the reward at time $t'<t$, we can get a slightly lower-variance version of the policy gradient:\n",
    "\n",
    "$$\n",
    "\\grad\\mathcal{L}_{\\text{PG}}(\\vec{\\theta}) = \n",
    "\\E[\\tau]{-\\sum_{t\\geq0} \\left(\\sum_{t'\\geq t} \\gamma^{t'}r_{t'+1} \\right)\\grad\\log \\pi_{\\vec{\\theta}}(a_t|s_t)}.\n",
    "$$"
   ]
  },
  {
   "cell_type": "markdown",
   "metadata": {},
   "source": [
    "In practice, the expectation over trajectories is calculated using a Monte-Carlo approach, i.e. simply sampling $N$\n",
    "trajectories and average the term inside the expectation. Therefore, we will use the following estimated version of the policy gradient:\n",
    "\n",
    "$$\n",
    "\\begin{align}\n",
    "\\hat\\grad\\mathcal{L}_{\\text{PG}}(\\vec{\\theta})\n",
    "&=-\\frac{1}{N}\\sum_{i=1}^{N}\\sum_{t\\geq0} \\left(\\sum_{t'\\geq t} \\gamma^{t'}r_{i,t'+1} \\right)\\grad\\log \\pi_{\\vec{\\theta}}(a_{i,t}|s_{i,t}) \\\\\n",
    "&=-\\frac{1}{N}\\sum_{i=1}^{N}\\sum_{t\\geq0} \\hat{q}_{i,t} \\grad\\log \\pi_{\\vec{\\theta}}(a_{i,t}|s_{i,t}).\n",
    "\\end{align}\n",
    "$$\n",
    "\n",
    "Note the use of the notation $\\hat{q}_{i,t}$ to represent the estimated action-value at time $t$ in the sampled trajectory $i$.\n",
    "Here $\\hat{q}_{i,t}$ is acting as the weight-term for the policy gradient."
   ]
  },
  {
   "cell_type": "markdown",
   "metadata": {},
   "source": [
    "**TODO**: Complete the implementation of the `VanillaPolicyGradientLoss` class in the `hw4/rl_pg.py` module."
   ]
  },
  {
   "cell_type": "code",
   "execution_count": 14,
   "metadata": {
    "pycharm": {
     "is_executing": false
    }
   },
   "outputs": [
    {
     "name": "stdout",
     "output_type": "stream",
     "text": [
      "loss = tensor(-35.5355)\n"
     ]
    }
   ],
   "source": [
    "# Ensure deterministic run\n",
    "env = gym.make(ENV_NAME)\n",
    "env.seed(SEED)\n",
    "torch.manual_seed(SEED)\n",
    "\n",
    "def agent_fn():\n",
    "    # Use a simple \"network\" here, so that this test doesn't depend on your specific PolicyNet implementation\n",
    "    p_net_test = nn.Linear(8, 4)\n",
    "    agent = hw4pg.PolicyAgent(env, p_net_test)\n",
    "    return agent\n",
    "\n",
    "dataloader = hw4data.TrainBatchDataset(agent_fn, gamma=0.9, episode_batch_size=4)\n",
    "\n",
    "test_batch = next(iter(dataloader))\n",
    "test_action_scores = torch.randn(len(test_batch), env.action_space.n)\n",
    "\n",
    "loss_fn_p = hw4pg.VanillaPolicyGradientLoss()\n",
    "loss_p, _ = loss_fn_p(test_batch, test_action_scores)\n",
    "\n",
    "print('loss =', loss_p)\n",
    "test.assertAlmostEqual(loss_p.item(), -35.535522, delta=1e-3)"
   ]
  },
  {
   "cell_type": "markdown",
   "metadata": {},
   "source": [
    "#### Policy-gradient with baseline"
   ]
  },
  {
   "cell_type": "markdown",
   "metadata": {},
   "source": [
    "Another way to reduce the variance of our gradient is to use relative weighting of the log-policy instead of absolute reward values.\n",
    "$$\n",
    "\\hat\\grad\\mathcal{L}_{\\text{BPG}}(\\vec{\\theta})\n",
    "=-\\frac{1}{N}\\sum_{i=1}^{N}\\sum_{t\\geq0} \\left(\\hat{q}_{i,t}-b\\right) \\grad\\log \\pi_{\\vec{\\theta}}(a_{i,t}|s_{i,t}).\n",
    "$$\n",
    "In other words, we don't measure a trajectory's worth by it's total reward, but by how much better that total reward is relative to some\n",
    "expected (\"baseline\") reward value, denoted above by $b$.\n",
    "Note that subtracting a baseline has no effect on the expected value of the policy gradient. It's easy to prove this directly by definition.\n",
    "\n",
    "Here we'll implement a very simple baseline (not optimal in terms of variance reduction): the average of the estimated state-values $\\hat{q}_{i,t}$."
   ]
  },
  {
   "cell_type": "markdown",
   "metadata": {},
   "source": [
    "**TODO**: Complete the implementation of the `BaselinePolicyGradientLoss` class in the `hw4/rl_pg.py` module."
   ]
  },
  {
   "cell_type": "code",
   "execution_count": 16,
   "metadata": {
    "pycharm": {
     "is_executing": false
    }
   },
   "outputs": [
    {
     "name": "stdout",
     "output_type": "stream",
     "text": [
      "loss = tensor(-2.4665)\n"
     ]
    }
   ],
   "source": [
    "# Using the same batch and action_scores from above cell\n",
    "loss_fn_p = hw4pg.BaselinePolicyGradientLoss()\n",
    "loss_p, _ = loss_fn_p(test_batch, test_action_scores)\n",
    "\n",
    "print('loss =', loss_p)\n",
    "test.assertAlmostEqual(loss_p.item(), -2.4665009, delta=1e-3)"
   ]
  },
  {
   "cell_type": "markdown",
   "metadata": {},
   "source": [
    "#### Entropy loss"
   ]
  },
  {
   "cell_type": "markdown",
   "metadata": {},
   "source": [
    "The entropy of a probability distribution (in our case the policy), is\n",
    "$$\n",
    "H(\\pi) = -\\sum_{a} \\pi(a|s)\\log\\pi(a|s).\n",
    "$$\n",
    "The entropy is always positive and obtains it's maximum for a uniform distribution.\n",
    "We'll use the entropy of the policy as a bonus, i.e. we'll try to maximize it.\n",
    "The idea is the prevent the policy distribution from becoming too narrow and thus promote the agent's exploration."
   ]
  },
  {
   "cell_type": "markdown",
   "metadata": {},
   "source": [
    "First, we'll calculate the maximal possible entropy value of the action distribution for a set number of possible actions.\n",
    "This will be used as a normalization term.\n",
    "\n",
    "**TODO**: Complete the implementation of the `calc_max_entropy()` method in the `ActionEntropyLoss` class."
   ]
  },
  {
   "cell_type": "code",
   "execution_count": 20,
   "metadata": {
    "pycharm": {
     "is_executing": false
    }
   },
   "outputs": [
    {
     "name": "stdout",
     "output_type": "stream",
     "text": [
      "max_entropy =  tensor([1.3863])\n"
     ]
    }
   ],
   "source": [
    "loss_fn_e = hw4pg.ActionEntropyLoss(env.action_space.n)\n",
    "print('max_entropy = ', loss_fn_e.max_entropy)\n",
    "\n",
    "test.assertAlmostEqual(loss_fn_e.max_entropy, 1.38629436, delta=1e-3)"
   ]
  },
  {
   "cell_type": "markdown",
   "metadata": {},
   "source": [
    "**TODO**: Complete the implementation of the `forward()` method in the `ActionEntropyLoss` class."
   ]
  },
  {
   "cell_type": "code",
   "execution_count": 21,
   "metadata": {
    "pycharm": {
     "is_executing": false
    }
   },
   "outputs": [
    {
     "ename": "ValueError",
     "evalue": "only one element tensors can be converted to Python scalars",
     "output_type": "error",
     "traceback": [
      "\u001b[1;31m---------------------------------------------------------------------------\u001b[0m",
      "\u001b[1;31mValueError\u001b[0m                                Traceback (most recent call last)",
      "\u001b[1;32m<ipython-input-21-a6ea6114ff28>\u001b[0m in \u001b[0;36m<module>\u001b[1;34m\u001b[0m\n\u001b[1;32m----> 1\u001b[1;33m \u001b[0mloss_e\u001b[0m\u001b[1;33m,\u001b[0m \u001b[0m_\u001b[0m \u001b[1;33m=\u001b[0m \u001b[0mloss_fn_e\u001b[0m\u001b[1;33m(\u001b[0m\u001b[0mtest_batch\u001b[0m\u001b[1;33m,\u001b[0m \u001b[0mtest_action_scores\u001b[0m\u001b[1;33m)\u001b[0m\u001b[1;33m\u001b[0m\u001b[1;33m\u001b[0m\u001b[0m\n\u001b[0m\u001b[0;32m      2\u001b[0m \u001b[0mprint\u001b[0m\u001b[1;33m(\u001b[0m\u001b[1;34m'loss = '\u001b[0m\u001b[1;33m,\u001b[0m \u001b[0mloss_e\u001b[0m\u001b[1;33m)\u001b[0m\u001b[1;33m\u001b[0m\u001b[1;33m\u001b[0m\u001b[0m\n\u001b[0;32m      3\u001b[0m \u001b[1;33m\u001b[0m\u001b[0m\n\u001b[0;32m      4\u001b[0m \u001b[0mtest\u001b[0m\u001b[1;33m.\u001b[0m\u001b[0massertAlmostEqual\u001b[0m\u001b[1;33m(\u001b[0m\u001b[0mloss_e\u001b[0m\u001b[1;33m.\u001b[0m\u001b[0mitem\u001b[0m\u001b[1;33m(\u001b[0m\u001b[1;33m)\u001b[0m\u001b[1;33m,\u001b[0m \u001b[1;33m-\u001b[0m\u001b[1;36m0.7927002\u001b[0m\u001b[1;33m,\u001b[0m \u001b[0mdelta\u001b[0m\u001b[1;33m=\u001b[0m\u001b[1;36m1e-3\u001b[0m\u001b[1;33m)\u001b[0m\u001b[1;33m\u001b[0m\u001b[1;33m\u001b[0m\u001b[0m\n",
      "\u001b[1;32m~\\Anaconda3\\envs\\cs236781-hw\\lib\\site-packages\\torch\\nn\\modules\\module.py\u001b[0m in \u001b[0;36m__call__\u001b[1;34m(self, *input, **kwargs)\u001b[0m\n\u001b[0;32m    539\u001b[0m             \u001b[0mresult\u001b[0m \u001b[1;33m=\u001b[0m \u001b[0mself\u001b[0m\u001b[1;33m.\u001b[0m\u001b[0m_slow_forward\u001b[0m\u001b[1;33m(\u001b[0m\u001b[1;33m*\u001b[0m\u001b[0minput\u001b[0m\u001b[1;33m,\u001b[0m \u001b[1;33m**\u001b[0m\u001b[0mkwargs\u001b[0m\u001b[1;33m)\u001b[0m\u001b[1;33m\u001b[0m\u001b[1;33m\u001b[0m\u001b[0m\n\u001b[0;32m    540\u001b[0m         \u001b[1;32melse\u001b[0m\u001b[1;33m:\u001b[0m\u001b[1;33m\u001b[0m\u001b[1;33m\u001b[0m\u001b[0m\n\u001b[1;32m--> 541\u001b[1;33m             \u001b[0mresult\u001b[0m \u001b[1;33m=\u001b[0m \u001b[0mself\u001b[0m\u001b[1;33m.\u001b[0m\u001b[0mforward\u001b[0m\u001b[1;33m(\u001b[0m\u001b[1;33m*\u001b[0m\u001b[0minput\u001b[0m\u001b[1;33m,\u001b[0m \u001b[1;33m**\u001b[0m\u001b[0mkwargs\u001b[0m\u001b[1;33m)\u001b[0m\u001b[1;33m\u001b[0m\u001b[1;33m\u001b[0m\u001b[0m\n\u001b[0m\u001b[0;32m    542\u001b[0m         \u001b[1;32mfor\u001b[0m \u001b[0mhook\u001b[0m \u001b[1;32min\u001b[0m \u001b[0mself\u001b[0m\u001b[1;33m.\u001b[0m\u001b[0m_forward_hooks\u001b[0m\u001b[1;33m.\u001b[0m\u001b[0mvalues\u001b[0m\u001b[1;33m(\u001b[0m\u001b[1;33m)\u001b[0m\u001b[1;33m:\u001b[0m\u001b[1;33m\u001b[0m\u001b[1;33m\u001b[0m\u001b[0m\n\u001b[0;32m    543\u001b[0m             \u001b[0mhook_result\u001b[0m \u001b[1;33m=\u001b[0m \u001b[0mhook\u001b[0m\u001b[1;33m(\u001b[0m\u001b[0mself\u001b[0m\u001b[1;33m,\u001b[0m \u001b[0minput\u001b[0m\u001b[1;33m,\u001b[0m \u001b[0mresult\u001b[0m\u001b[1;33m)\u001b[0m\u001b[1;33m\u001b[0m\u001b[1;33m\u001b[0m\u001b[0m\n",
      "\u001b[1;32m~\\PycharmProjects\\DL_HW4\\hw4\\rl_pg.py\u001b[0m in \u001b[0;36mforward\u001b[1;34m(self, batch, action_scores, **kw)\u001b[0m\n\u001b[0;32m    296\u001b[0m \u001b[1;33m\u001b[0m\u001b[0m\n\u001b[0;32m    297\u001b[0m         \u001b[0mloss_e\u001b[0m \u001b[1;33m*=\u001b[0m \u001b[0mself\u001b[0m\u001b[1;33m.\u001b[0m\u001b[0mbeta\u001b[0m\u001b[1;33m\u001b[0m\u001b[1;33m\u001b[0m\u001b[0m\n\u001b[1;32m--> 298\u001b[1;33m         \u001b[1;32mreturn\u001b[0m \u001b[0mloss_e\u001b[0m\u001b[1;33m,\u001b[0m \u001b[0mdict\u001b[0m\u001b[1;33m(\u001b[0m\u001b[0mloss_e\u001b[0m\u001b[1;33m=\u001b[0m\u001b[0mloss_e\u001b[0m\u001b[1;33m.\u001b[0m\u001b[0mitem\u001b[0m\u001b[1;33m(\u001b[0m\u001b[1;33m)\u001b[0m\u001b[1;33m)\u001b[0m\u001b[1;33m\u001b[0m\u001b[1;33m\u001b[0m\u001b[0m\n\u001b[0m\u001b[0;32m    299\u001b[0m \u001b[1;33m\u001b[0m\u001b[0m\n\u001b[0;32m    300\u001b[0m \u001b[1;33m\u001b[0m\u001b[0m\n",
      "\u001b[1;31mValueError\u001b[0m: only one element tensors can be converted to Python scalars"
     ]
    }
   ],
   "source": [
    "loss_e, _ = loss_fn_e(test_batch, test_action_scores)\n",
    "print('loss = ', loss_e)\n",
    "\n",
    "test.assertAlmostEqual(loss_e.item(), -0.7927002, delta=1e-3)"
   ]
  },
  {
   "cell_type": "markdown",
   "metadata": {},
   "source": [
    "### Training"
   ]
  },
  {
   "cell_type": "markdown",
   "metadata": {},
   "source": [
    "We'll implement our training procedure as follows:\n",
    "\n",
    "1. Initialize the current policy to be a random policy.\n",
    "1. Sample $N$ trajectories from the environment using the current policy.\n",
    "2. Calculate the estimated $q$-values, $\\hat{q}_{i,t} = \\sum_{t'\\geq t} \\gamma^{t'}r_{i,t'+1}$ for each trajectory $i$.\n",
    "3. Calculate policy gradient estimate $\\hat\\grad\\mathcal{L}(\\vec{\\theta})$ as defined above.\n",
    "4. Perform SGD update $\\vec{\\theta}\\leftarrow\\vec{\\theta}-\\eta\\hat\\grad\\mathcal{L}(\\vec{\\theta})$.\n",
    "5. Repeat from step 2.\n",
    "\n",
    "This is known as the **REINFORCE** algorithm."
   ]
  },
  {
   "cell_type": "markdown",
   "metadata": {},
   "source": [
    "Fortunately, we've already implemented everything we need for steps 1-4 so we need only a bit more code to put it all together.\n",
    "\n",
    "The following block implements a wrapper, `train_pg` to create all the objects we need in order to train our policy gradient model.\n"
   ]
  },
  {
   "cell_type": "code",
   "execution_count": null,
   "metadata": {
    "pycharm": {
     "is_executing": false
    }
   },
   "outputs": [],
   "source": [
    "import hw4.answers\n",
    "from functools import partial\n",
    "\n",
    "ENV_NAME = \"Beresheet-v2\"\n",
    "\n",
    "def agent_fn_train(agent_type, p_net, seed, envs_dict):\n",
    "    winfo = torch.utils.data.get_worker_info()\n",
    "    wid = winfo.id if winfo else 0\n",
    "    seed = seed + wid if seed else wid\n",
    "\n",
    "    env = gym.make(ENV_NAME)\n",
    "    envs_dict[wid] = env\n",
    "    env.seed(seed)\n",
    "    np.random.seed(seed)\n",
    "    torch.manual_seed(seed)\n",
    "\n",
    "    return agent_type(env, p_net)\n",
    "\n",
    "def train_rl(agent_type, net_type, loss_fns, hp, seed=None, checkpoints_file=None, **train_kw):\n",
    "    print(f'hyperparams: {hp}')\n",
    "    \n",
    "    envs = {}\n",
    "    p_net = net_type(ENV_N_OBSERVATIONS, ENV_N_ACTIONS, **hp)\n",
    "    p_net.share_memory()\n",
    "    agent_fn = partial(agent_fn_train, agent_type, p_net, seed, envs)\n",
    "    \n",
    "    dataset = hw4data.TrainBatchDataset(agent_fn, hp['batch_size'], hp['gamma'])\n",
    "    dataloader = DataLoader(dataset, batch_size=None, num_workers=2)\n",
    "    optimizer = optim.Adam(p_net.parameters(), lr=hp['learn_rate'], eps=hp['eps'])\n",
    "    \n",
    "    trainer = hw4pg.PolicyTrainer(p_net, optimizer, loss_fns, dataloader, checkpoints_file)\n",
    "    try:\n",
    "        trainer.train(**train_kw)\n",
    "    except KeyboardInterrupt as e:\n",
    "        print('Training interrupted by user.')\n",
    "    finally:\n",
    "        for env in envs.values():\n",
    "            env.close()\n",
    "\n",
    "    # Include final model state\n",
    "    training_data = trainer.training_data\n",
    "    training_data['model_state'] = p_net.state_dict()\n",
    "    return training_data\n",
    "    \n",
    "def train_pg(baseline=False, entropy=False, **train_kwargs):\n",
    "    hp = hw4.answers.part1_pg_hyperparams()\n",
    "    \n",
    "    loss_fns = []\n",
    "    if baseline:\n",
    "        loss_fns.append(hw4pg.BaselinePolicyGradientLoss())\n",
    "    else:\n",
    "        loss_fns.append(hw4pg.VanillaPolicyGradientLoss())\n",
    "    if entropy:\n",
    "        loss_fns.append(hw4pg.ActionEntropyLoss(ENV_N_ACTIONS, hp['beta']))\n",
    "\n",
    "    return train_rl(hw4pg.PolicyAgent, hw4pg.PolicyNet, loss_fns, hp, **train_kwargs)"
   ]
  },
  {
   "cell_type": "markdown",
   "metadata": {},
   "source": [
    "The `PolicyTrainer` class implements the training loop, collects the losses and rewards and provides some useful checkpointing functionality.\n",
    "The training loop will generate batches of episodes and train on them until either:\n",
    "- The average total reward from the last `running_mean_len` episodes is greater than the `target_reward`, OR\n",
    "- The number of generated episodes reached `max_episodes`.\n",
    "\n",
    "Most of this class is already implemented for you. "
   ]
  },
  {
   "cell_type": "markdown",
   "metadata": {},
   "source": [
    "**TODO**:\n",
    "1. Complete the training loop by implementing the `train_batch()` method of the `PolicyTrainer`.\n",
    "2. Tweak the hyperparameters in the `part1_pg_hyperparams()` function within the `hw4/answers.py` module as needed. You get some sane defaults."
   ]
  },
  {
   "cell_type": "markdown",
   "metadata": {},
   "source": [
    "Let's check whether our model is actually training.\n",
    "We'll try to reach a very low (bad) target reward, just as a sanity check to see that training works.\n",
    "Your model should be able to reach this target reward within a few batches.\n",
    "\n",
    "You can increase the target reward and use this block to manually tweak your model and hyperparameters a few times."
   ]
  },
  {
   "cell_type": "code",
   "execution_count": null,
   "metadata": {
    "pycharm": {
     "is_executing": false
    }
   },
   "outputs": [],
   "source": [
    "target_reward = -150 # VERY LOW target\n",
    "train_data = train_pg(target_reward=target_reward, seed=SEED, max_episodes=2000, running_mean_len=10)\n",
    "\n",
    "test.assertGreater(train_data['mean_reward'][-1], target_reward)"
   ]
  },
  {
   "cell_type": "markdown",
   "metadata": {},
   "source": [
    "### Experimenting with different losses"
   ]
  },
  {
   "cell_type": "markdown",
   "metadata": {},
   "source": [
    "We'll now run a few experiments to see the effect of diferent loss functions on the training dynamics. Namely, we'll try:\n",
    "1. Vanilla PG (`vpg`): No baseline, no entropy\n",
    "2. Baseline PG (`bpg`): Baseline, no entropy loss\n",
    "3. Entropy PG (`epg`): No baseline, with entropy loss\n",
    "3. Combined PG (`cpg`): Baseline, with entropy loss"
   ]
  },
  {
   "cell_type": "code",
   "execution_count": null,
   "metadata": {
    "pycharm": {
     "is_executing": false
    }
   },
   "outputs": [],
   "source": [
    "from collections import namedtuple\n",
    "from pprint import pprint\n",
    "import itertools as it\n",
    "\n",
    "\n",
    "ExpConfig = namedtuple('ExpConfig', ('name','baseline','entropy'))\n",
    "\n",
    "def exp_configs():\n",
    "    exp_names = ('vpg', 'epg', 'bpg', 'cpg')\n",
    "    z = zip(exp_names, it.product((False, True), (False, True)))\n",
    "    return (ExpConfig(n, b, e) for (n, (b, e)) in z)\n",
    "\n",
    "pprint(list(exp_configs()))"
   ]
  },
  {
   "cell_type": "markdown",
   "metadata": {},
   "source": [
    "We'll save the training data from each experiment for plotting."
   ]
  },
  {
   "cell_type": "code",
   "execution_count": null,
   "metadata": {
    "pycharm": {
     "is_executing": false
    }
   },
   "outputs": [],
   "source": [
    "import pickle\n",
    "\n",
    "def dump_training_data(data, filename):\n",
    "    os.makedirs(os.path.dirname(filename), exist_ok=True)\n",
    "    with open(filename, mode='wb') as file:\n",
    "        pickle.dump(data, file)\n",
    "        \n",
    "def load_training_data(filename):\n",
    "    with open(filename, mode='rb') as file:\n",
    "        return pickle.load(file)"
   ]
  },
  {
   "cell_type": "markdown",
   "metadata": {},
   "source": [
    "Let's run the experiments! We'll run each configuration for a fixed number of episodes so that we can compare them.\n",
    "\n",
    "Notes:\n",
    "1. Until your models start working, you can decrease the number of episodes for each experiment, or only run one experiment.\n",
    "2.  The results will be saved in a file. To re-run the experiments, you can set `force_run` to `True`."
   ]
  },
  {
   "cell_type": "code",
   "execution_count": null,
   "metadata": {
    "pycharm": {
     "is_executing": false
    }
   },
   "outputs": [],
   "source": [
    "import math\n",
    "\n",
    "exp_max_episodes = 4000\n",
    "\n",
    "results = {}\n",
    "training_data_filename = os.path.join('results', f'part1_exp.dat')\n",
    "\n",
    "# Set to True to force re-run (careful, will delete old experiment results)\n",
    "force_run = False\n",
    "\n",
    "# Skip running if results file exists.\n",
    "if os.path.isfile(training_data_filename) and not force_run:\n",
    "    print(f'=== results file {training_data_filename} exists, skipping experiments.')\n",
    "    results = load_training_data(training_data_filename)\n",
    "    \n",
    "else:\n",
    "    for n, b, e in exp_configs():\n",
    "        print(f'=== Experiment {n}')\n",
    "        results[n] = train_pg(baseline=b, entropy=e, max_episodes=exp_max_episodes, post_batch_fn=None)\n",
    "        \n",
    "    dump_training_data(results, training_data_filename)"
   ]
  },
  {
   "cell_type": "code",
   "execution_count": null,
   "metadata": {
    "pycharm": {
     "is_executing": false
    }
   },
   "outputs": [],
   "source": [
    "def plot_experiment_results(results, fig=None):\n",
    "    if fig is None:\n",
    "        fig, _ = plt.subplots(nrows=2, ncols=2, sharex=True, figsize=(18,12))\n",
    "    for i, plot_type in enumerate(('loss_p', 'baseline', 'loss_e', 'mean_reward')):\n",
    "        ax = fig.axes[i]\n",
    "        for exp_name, exp_res in results.items():\n",
    "            if plot_type not in exp_res:\n",
    "                continue\n",
    "            ax.plot(exp_res['episode_num'], exp_res[plot_type], label=exp_name)\n",
    "        ax.set_title(plot_type)\n",
    "        ax.set_xlabel('episode')\n",
    "        ax.legend()\n",
    "    return fig\n",
    "    \n",
    "experiments_results_fig = plot_experiment_results(results)"
   ]
  },
  {
   "cell_type": "markdown",
   "metadata": {},
   "source": [
    "You should see positive training dynamics in the graphs (reward going up).\n",
    "If you don't, use them to further update your model or hyperparams.\n",
    "\n",
    "To pass the test, you'll need to get a best total mean reward of at least 10 in the fixed number of epochs using the combined loss.\n",
    "It's possible to get much higher (over 100)."
   ]
  },
  {
   "cell_type": "code",
   "execution_count": null,
   "metadata": {
    "pycharm": {
     "is_executing": false
    }
   },
   "outputs": [],
   "source": [
    "best_cpg_mean_reward = max(results['cpg']['mean_reward'])\n",
    "print(f'Best CPG mean reward: {best_cpg_mean_reward:.2f}')\n",
    "\n",
    "test.assertGreater(best_cpg_mean_reward, 10)"
   ]
  },
  {
   "cell_type": "markdown",
   "metadata": {},
   "source": [
    "Now let's take a look at a gameplay video of our `cpg` model after the short training!"
   ]
  },
  {
   "cell_type": "code",
   "execution_count": null,
   "metadata": {
    "pycharm": {
     "is_executing": false
    }
   },
   "outputs": [],
   "source": [
    "hp = hw4.answers.part1_pg_hyperparams()\n",
    "p_net_cpg = hw4pg.PolicyNet.build_for_env(env, **hp)\n",
    "p_net_cpg.load_state_dict(results['cpg']['model_state'])\n",
    "\n",
    "env, n_steps, reward = hw4pg.PolicyAgent.monitor_episode(ENV_NAME, p_net_cpg)\n",
    "print(f'{n_steps} steps, total reward: {reward:.2f}')\n",
    "show_monitor_video(env)"
   ]
  },
  {
   "cell_type": "markdown",
   "metadata": {},
   "source": [
    "## Advantage Actor-Critic (AAC)\n",
    "<a id=part1_2></a>"
   ]
  },
  {
   "cell_type": "markdown",
   "metadata": {},
   "source": [
    "We have seen that the policy-gradient loss can be interpreted as a log-likelihood of the policy term\n",
    "(selecting a specific action at a specific state), weighted by the future rewards of that choice of action.\n",
    "\n",
    "However, naïvely weighting by rewards has significant drawbacks in terms of the variance of the resulting gradient.\n",
    "We addressed this by adding a simple baseline term which represented our \"expected reward\" so that we increase probability of actions\n",
    "leading to trajectories which exceed this expectation and vice-versa.\n",
    "\n",
    "In this part we'll explore a more powerful baseline, which is the idea behind the AAC method."
   ]
  },
  {
   "cell_type": "markdown",
   "metadata": {},
   "source": [
    "### The advantage function"
   ]
  },
  {
   "cell_type": "markdown",
   "metadata": {},
   "source": [
    "Recall the definition of the state-value function $v_{\\pi}(s)$ and action-value function $q_{\\pi}(s,a)$:\n",
    "\n",
    "$$\n",
    "\\begin{align}\n",
    "v_{\\pi}(s) &= \\E{g(\\tau)|s_0 = s,\\pi} \\\\\n",
    "q_{\\pi}(s,a) &= \\E{g(\\tau)|s_0 = s,a_0=a,\\pi}.\n",
    "\\end{align}\n",
    "$$\n",
    "\n",
    "Both these functions represent the value of the state $s$. However, $v_\\pi$ averages over the first action according to the policy,\n",
    "while $q_\\pi$ fixes the first action and then continues according to the policy."
   ]
  },
  {
   "cell_type": "markdown",
   "metadata": {},
   "source": [
    "Their difference is known as the **advantage function**:\n",
    "$$\n",
    "a_\\pi(s,a) = q_\\pi(s,a)-v_\\pi(s).\n",
    "$$\n",
    "\n",
    "If $a_\\pi(s,a)>0$ it means that it's better (in expectation) to take action $a$ in state $s$ compared to the average action.\n",
    "In other words, $a_\\pi(s,a)$ represents the *advantage* of using action $a$ in state $s$ compared to the others."
   ]
  },
  {
   "cell_type": "markdown",
   "metadata": {},
   "source": [
    "So far we have used an estimate for $q_\\pi$ as our weighting term for the log-policy, with a fixed baseline per batch.\n",
    "\n",
    "$$\n",
    "\\hat\\grad\\mathcal{L}_{\\text{BPG}}(\\vec{\\theta})\n",
    "=-\\frac{1}{N}\\sum_{i=1}^{N}\\sum_{t\\geq0} \\left(\\hat{q}_{i,t}-b\\right) \\grad\\log \\pi_{\\vec{\\theta}}(a_{i,t}|s_{i,t}).\n",
    "$$\n"
   ]
  },
  {
   "cell_type": "markdown",
   "metadata": {},
   "source": [
    "Now, we will use the state value as a baseline, so that an estimate of the advantage function is our weighting term:\n",
    "\n",
    "$$\n",
    "\\hat\\grad\\mathcal{L}_{\\text{AAC}}(\\vec{\\theta})\n",
    "=-\\frac{1}{N}\\sum_{i=1}^{N}\\sum_{t\\geq0} \\left(\\hat{q}_{i,t}-v_\\pi(s_t)\\right) \\grad\\log \\pi_{\\vec{\\theta}}(a_{i,t}|s_{i,t}).\n",
    "$$\n",
    "\n",
    "Intuitively, using the advantage function makes sense because it means we're weighting our policy's actions according to\n",
    "how advantageous they are compared to other possible actions."
   ]
  },
  {
   "cell_type": "markdown",
   "metadata": {},
   "source": [
    "But how will we know $v_\\pi(s)$? We'll learn it of course, using another neural network.\n",
    "This is known as actor-critic learning. We simultaneously learn the policy (actor) and the value of states (critic).\n",
    "We'll treat it as a regression task: given a state $s_t$, our state-value network will output $\\hat{v}_\\pi(s_t)$,\n",
    "an estimate of the actual unknown state-value.\n",
    "Our regression targets will be the discounted rewards, $\\hat{q}_{i,t}$ (see question 2),\n",
    "and we can use a simple MSE as the loss function,\n",
    "$$\n",
    "\\mathcal{L}_{\\text{SV}} = \\frac{1}{N}\\sum_{i=1}^{N}\\sum_{t\\geq0}\\left(\\hat{v}_\\pi(s_t) - \\hat{q}_{i,t}\\right)^2.\n",
    "$$\n"
   ]
  },
  {
   "cell_type": "markdown",
   "metadata": {},
   "source": [
    "### Implementation"
   ]
  },
  {
   "cell_type": "markdown",
   "metadata": {},
   "source": [
    "We'll build heavily on our implementation of the regular policy-gradient method, and just add a new model class and a new loss class, with a small modification to the agent."
   ]
  },
  {
   "cell_type": "markdown",
   "metadata": {},
   "source": [
    "Let's start with the model. It will accept a state, and return action scores (as before), but also the value of that state.\n",
    "You can experiment with a dual-head network that has a shared base, or implement two separate parts within the network.\n",
    "\n",
    "**TODO**:\n",
    "1. Implement the model as the `AACPolicyNet` class in the `hw4/rl_ac.py` module.\n",
    "1. Set the hyperparameters in the `part1_aac_hyperparams()` function of the `hw4.answers` module."
   ]
  },
  {
   "cell_type": "code",
   "execution_count": null,
   "metadata": {
    "pycharm": {
     "is_executing": false
    }
   },
   "outputs": [],
   "source": [
    "import hw4.rl_ac as hw4ac\n",
    "\n",
    "hp = hw4.answers.part1_aac_hyperparams()\n",
    "pv_net = hw4ac.AACPolicyNet.build_for_env(env, device, **hp)\n",
    "pv_net"
   ]
  },
  {
   "cell_type": "markdown",
   "metadata": {},
   "source": [
    "**TODO**: Complete the implementation of the agent class, `AACPolicyAgent`, in the `hw4/rl_ac.py` module."
   ]
  },
  {
   "cell_type": "code",
   "execution_count": null,
   "metadata": {
    "pycharm": {
     "is_executing": false
    }
   },
   "outputs": [],
   "source": [
    "agent = hw4ac.AACPolicyAgent(env, pv_net, device)\n",
    "exp = agent.step()\n",
    "\n",
    "test.assertIsInstance(exp, hw4pg.Experience)\n",
    "print(exp)"
   ]
  },
  {
   "cell_type": "markdown",
   "metadata": {},
   "source": [
    "**TODO**: Implement the AAC loss function as the class `AACPolicyGradientLoss` in the `hw4/rl_ac.py` module."
   ]
  },
  {
   "cell_type": "code",
   "execution_count": null,
   "metadata": {
    "pycharm": {
     "is_executing": false
    }
   },
   "outputs": [],
   "source": [
    "loss_fn_aac = hw4ac.AACPolicyGradientLoss(delta=1.)\n",
    "test_state_values = torch.ones(test_action_scores.shape[0], 1)\n",
    "loss_t, _ = loss_fn_aac(test_batch, (test_action_scores, test_state_values))\n",
    "\n",
    "print('loss_t =', loss_t)\n",
    "test.assertAlmostEqual(loss_t.item(), 975.230895, delta=1e-3)"
   ]
  },
  {
   "cell_type": "markdown",
   "metadata": {},
   "source": [
    "### Experimentation"
   ]
  },
  {
   "cell_type": "markdown",
   "metadata": {},
   "source": [
    "Let's run the same experiment as before, but with the AAC method and compare the results."
   ]
  },
  {
   "cell_type": "code",
   "execution_count": null,
   "metadata": {
    "pycharm": {
     "is_executing": false
    }
   },
   "outputs": [],
   "source": [
    "def train_aac(baseline=False, entropy=False, **train_kwargs):\n",
    "    hp = hw4.answers.part1_aac_hyperparams()\n",
    "    loss_fns = [hw4ac.AACPolicyGradientLoss(hp['delta']), hw4pg.ActionEntropyLoss(ENV_N_ACTIONS, hp['beta'])]\n",
    "    return train_rl(hw4ac.AACPolicyAgent, hw4ac.AACPolicyNet, loss_fns, hp, **train_kwargs)"
   ]
  },
  {
   "cell_type": "code",
   "execution_count": null,
   "metadata": {
    "pycharm": {
     "is_executing": false
    }
   },
   "outputs": [],
   "source": [
    "training_data_filename = os.path.join('results', f'part1_exp_aac.dat')\n",
    "\n",
    "# Set to True to force re-run (careful, will delete old experiment results)\n",
    "force_run = False\n",
    "\n",
    "if os.path.isfile(training_data_filename) and not force_run:\n",
    "    print(f'=== results file {training_data_filename} exists, skipping experiments.')\n",
    "    results_aac = load_training_data(training_data_filename)\n",
    "    \n",
    "else:\n",
    "    print(f'=== Running AAC experiment')\n",
    "    training_data = train_aac(max_episodes=exp_max_episodes)\n",
    "    results_aac = dict(aac=training_data)\n",
    "    dump_training_data(results_aac, training_data_filename)"
   ]
  },
  {
   "cell_type": "code",
   "execution_count": null,
   "metadata": {
    "pycharm": {
     "is_executing": false
    }
   },
   "outputs": [],
   "source": [
    "experiments_results_fig = plot_experiment_results(results)\n",
    "plot_experiment_results(results_aac, fig=experiments_results_fig);"
   ]
  },
  {
   "cell_type": "markdown",
   "metadata": {},
   "source": [
    "You should get better results with the AAC method, so this time the bar is higher (again, you should aim for a mean reward of 100+).\n",
    "Compare the graphs with combined PG method and see if they make sense."
   ]
  },
  {
   "cell_type": "code",
   "execution_count": null,
   "metadata": {
    "pycharm": {
     "is_executing": false
    }
   },
   "outputs": [],
   "source": [
    "best_aac_mean_reward = max(results_aac['aac']['mean_reward'])\n",
    "print(f'Best AAC mean reward: {best_aac_mean_reward:.2f}')\n",
    "\n",
    "test.assertGreater(best_aac_mean_reward, 50)"
   ]
  },
  {
   "cell_type": "markdown",
   "metadata": {},
   "source": [
    "### Final model training and visualization"
   ]
  },
  {
   "cell_type": "markdown",
   "metadata": {},
   "source": [
    "Now, using your best model and hyperparams, let's train model for much longer and see the performance.\n",
    "Just for fun, we'll also visualize an episode every now and then so that we can see how well the agent is playing."
   ]
  },
  {
   "cell_type": "markdown",
   "metadata": {},
   "source": [
    "**TODO**:\n",
    "- Run the following block to train.\n",
    "- Tweak model or hyperparams as necessary.\n",
    "- Aim for high mean reward, at least 150+. It's possible to get over 200.\n",
    "- When training is done and you're satisfied with the model's outputs, rename the checkpoint file by adding `_final` to the file name.\n",
    "  This will cause the block to skip training and instead load your saved model when running the homework submission script.\n",
    "  Note that your submission zip file will not include the checkpoint file. This is OK."
   ]
  },
  {
   "cell_type": "code",
   "execution_count": null,
   "metadata": {
    "pycharm": {
     "is_executing": false
    }
   },
   "outputs": [],
   "source": [
    "import IPython.display\n",
    "\n",
    "CHECKPOINTS_FILE = f'checkpoints/{ENV_NAME}-ac.dat'\n",
    "CHECKPOINTS_FILE_FINAL = f'checkpoints/{ENV_NAME}-ac_final.dat'\n",
    "TARGET_REWARD = 125\n",
    "MAX_EPISODES = 15_000\n",
    "\n",
    "def post_batch_fn(batch_idx, p_net, batch, print_every=20, final=False):\n",
    "    if not final and batch_idx % print_every != 0:\n",
    "        return\n",
    "    env, n_steps, reward = hw4ac.AACPolicyAgent.monitor_episode(ENV_NAME, p_net)\n",
    "    html = show_monitor_video(env, width=\"500\")\n",
    "    IPython.display.clear_output(wait=True)\n",
    "    print(f'Monitor@#{batch_idx}: n_steps={n_steps}, total_reward={reward:.3f}, final={final}')\n",
    "    IPython.display.display_html(html)\n",
    "    \n",
    "    \n",
    "if os.path.isfile(CHECKPOINTS_FILE_FINAL):\n",
    "    print(f'=== {CHECKPOINTS_FILE_FINAL} exists, skipping training...')\n",
    "    checkpoint_data = torch.load(CHECKPOINTS_FILE_FINAL)\n",
    "    hp = hw4.answers.part1_aac_hyperparams()\n",
    "    pv_net = hw4ac.AACPolicyNet.build_for_env(env, **hp)\n",
    "    pv_net.load_state_dict(checkpoint_data['params'])\n",
    "    print(f'=== Running best model...')\n",
    "    env, n_steps, reward = hw4ac.AACPolicyAgent.monitor_episode(ENV_NAME, pv_net)\n",
    "    print(f'=== Best model ran for {n_steps} steps. Total reward: {reward:.2f}')\n",
    "    IPython.display.display_html(show_monitor_video(env))\n",
    "    best_mean_reward = checkpoint_data[\"best_mean_reward\"]\n",
    "else:\n",
    "    print(f'=== Starting training...')\n",
    "    train_data = train_aac(TARGET_REWARD, max_episodes=MAX_EPISODES,\n",
    "                           seed=None, checkpoints_file=CHECKPOINTS_FILE, post_batch_fn=post_batch_fn)\n",
    "    print(f'=== Done, ', end='')\n",
    "    best_mean_reward = train_data[\"best_mean_reward\"][-1]\n",
    "    print(f'num_episodes={train_data[\"episode_num\"][-1]}, best_mean_reward={best_mean_reward:.1f}')\n",
    "          \n",
    "test.assertGreaterEqual(best_mean_reward, TARGET_REWARD)"
   ]
  },
  {
   "cell_type": "markdown",
   "metadata": {},
   "source": [
    "## Questions\n",
    "<a id=part1_3></a>"
   ]
  },
  {
   "cell_type": "markdown",
   "metadata": {},
   "source": [
    "**TODO**: Answer the following questions. Write your answers in the appropriate variables in the module `hw4/answers.py`."
   ]
  },
  {
   "cell_type": "code",
   "execution_count": null,
   "metadata": {
    "pycharm": {
     "is_executing": false
    }
   },
   "outputs": [],
   "source": [
    "from cs236781.answers import display_answer\n",
    "import hw4.answers"
   ]
  },
  {
   "cell_type": "markdown",
   "metadata": {},
   "source": [
    "### Question 1\n",
    "\n",
    "Explain qualitatively why subtracting a baseline in the policy-gradient helps reduce it's variance.\n",
    "Specifically, give an example where it helps."
   ]
  },
  {
   "cell_type": "code",
   "execution_count": null,
   "metadata": {
    "pycharm": {
     "is_executing": false
    }
   },
   "outputs": [],
   "source": [
    "display_answer(hw4.answers.part1_q1)"
   ]
  },
  {
   "cell_type": "markdown",
   "metadata": {},
   "source": [
    "### Question 2\n",
    "\n",
    "In AAC, when using the estimated q-values as regression targets for our state-values, why do we get a valid approximation?\n",
    "Hint: how is $v_\\pi(s)$ expressed in terms of $q_\\pi(s,a)$?"
   ]
  },
  {
   "cell_type": "code",
   "execution_count": null,
   "metadata": {
    "pycharm": {
     "is_executing": false
    }
   },
   "outputs": [],
   "source": [
    "display_answer(hw4.answers.part1_q2)"
   ]
  },
  {
   "cell_type": "markdown",
   "metadata": {},
   "source": [
    "### Question 3\n",
    "\n",
    "1. Analyze and explain the graphs you got in first experiment run.\n",
    "2. Compare the experiment graphs you got with the AAC method to the regular PG method (`cpg`)."
   ]
  },
  {
   "cell_type": "code",
   "execution_count": null,
   "metadata": {
    "pycharm": {
     "is_executing": false
    }
   },
   "outputs": [],
   "source": [
    "display_answer(hw4.answers.part1_q3)"
   ]
  }
 ],
 "metadata": {
  "kernelspec": {
   "display_name": "Python 3",
   "language": "python",
   "name": "python3"
  },
  "language_info": {
   "codemirror_mode": {
    "name": "ipython",
    "version": 3
   },
   "file_extension": ".py",
   "mimetype": "text/x-python",
   "name": "python",
   "nbconvert_exporter": "python",
   "pygments_lexer": "ipython3",
   "version": "3.7.4"
  },
  "pycharm": {
   "stem_cell": {
    "cell_type": "raw",
    "metadata": {
     "collapsed": false
    },
    "source": []
   }
  }
 },
 "nbformat": 4,
 "nbformat_minor": 4
}
