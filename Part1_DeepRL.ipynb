{
 "cells": [
  {
   "cell_type": "markdown",
   "metadata": {},
   "source": [
    "$$\n",
    "\\newcommand{\\mat}[1]{\\boldsymbol {#1}}\n",
    "\\newcommand{\\mattr}[1]{\\boldsymbol {#1}^\\top}\n",
    "\\newcommand{\\matinv}[1]{\\boldsymbol {#1}^{-1}}\n",
    "\\newcommand{\\vec}[1]{\\boldsymbol {#1}}\n",
    "\\newcommand{\\vectr}[1]{\\boldsymbol {#1}^\\top}\n",
    "\\newcommand{\\rvar}[1]{\\mathrm {#1}}\n",
    "\\newcommand{\\rvec}[1]{\\boldsymbol{\\mathrm{#1}}}\n",
    "\\newcommand{\\diag}{\\mathop{\\mathrm {diag}}}\n",
    "\\newcommand{\\set}[1]{\\mathbb {#1}}\n",
    "\\newcommand{\\cset}[1]{\\mathcal{#1}}\n",
    "\\newcommand{\\norm}[1]{\\left\\lVert#1\\right\\rVert}\n",
    "\\newcommand{\\pderiv}[2]{\\frac{\\partial #1}{\\partial #2}}\n",
    "\\newcommand{\\bb}[1]{\\boldsymbol{#1}}\n",
    "\\newcommand{\\E}[2][]{\\mathbb{E}_{#1}\\left[#2\\right]}\n",
    "\\newcommand{\\ip}[3]{\\left<#1,#2\\right>_{#3}}\n",
    "\\newcommand{\\given}[]{\\,\\middle\\vert\\,}\n",
    "\\newcommand{\\DKL}[2]{\\cset{D}_{\\text{KL}}\\left(#1\\,\\Vert\\, #2\\right)}\n",
    "\\newcommand{\\grad}[]{\\nabla}\n",
    "$$\n",
    "# Part 1: Deep Reinforcement Learning\n",
    "<a id=part1></a>"
   ]
  },
  {
   "cell_type": "markdown",
   "metadata": {},
   "source": [
    "In the tutorial we have seen value-based reinforcement learning, in which we learn to approximate the action-value function $q(s,a)$.\n",
    "\n",
    "In this exercise we'll explore a different approach, directly learning the agent's policy distribution, $\\pi(a|s)$\n",
    "by using *policy gradients*, in order to safely land on the moon!"
   ]
  },
  {
   "cell_type": "code",
   "execution_count": 1,
   "metadata": {
    "pycharm": {
     "is_executing": false
    }
   },
   "outputs": [],
   "source": [
    "%load_ext autoreload\n",
    "%autoreload 2\n",
    "%matplotlib inline\n",
    "\n",
    "import unittest\n",
    "import os\n",
    "import sys\n",
    "import pathlib\n",
    "import urllib\n",
    "import shutil\n",
    "import re\n",
    "\n",
    "import numpy as np\n",
    "import torch\n",
    "import torch.nn as nn\n",
    "import torch.optim as optim\n",
    "import matplotlib.pyplot as plt"
   ]
  },
  {
   "cell_type": "code",
   "execution_count": 2,
   "metadata": {
    "pycharm": {
     "is_executing": false
    }
   },
   "outputs": [
    {
     "name": "stdout",
     "text": [
      "Using device: cpu\n"
     ],
     "output_type": "stream"
    }
   ],
   "source": [
    "test = unittest.TestCase()\n",
    "plt.rcParams.update({'font.size': 12})\n",
    "device = torch.device('cuda' if torch.cuda.is_available() else 'cpu')\n",
    "\n",
    "# Prefer CPU, GPU won't help much in this assignment\n",
    "device = 'cpu'\n",
    "print('Using device:', device)\n",
    "\n",
    "# Seed for deterministic tests\n",
    "SEED = 42"
   ]
  },
  {
   "cell_type": "markdown",
   "metadata": {},
   "source": [
    "Some technical notes before we begin:\n",
    "\n",
    "- This part does not require a GPU. We won't need large models, and the computation bottleneck will be the generation of episodes to train on.\n",
    "- In order to run this notebook on the server, you must prepend the `xvfb-run` command to create a virtual screen. For example,\n",
    "    - to run the jupyter lab script with `srun` do\n",
    "        ```\n",
    "        srun -c2 --gres=gpu:1 xvfb-run -a -s \"-screen 0 1440x900x24\" ./jupyter-lab.sh\n",
    "        ```\n",
    "    - To run the submission script, do\n",
    "        ```\n",
    "        srun -c2 xvfb-run -a -s \"-screen 0 1440x900x24\" python main.py prepare-submission ...\n",
    "        ```\n",
    "    and so on.\n",
    "- The OpenAI `gym` library is not officially supported on windows. However it should be possible to install and run the necessary environment for this exercise. However, we cannot provide you with technical support for this. If you have trouble installing locally, we suggest running on the course server."
   ]
  },
  {
   "cell_type": "markdown",
   "metadata": {},
   "source": [
    "## Policy gradients\n",
    "<a id=part1_1></a>"
   ]
  },
  {
   "cell_type": "markdown",
   "metadata": {},
   "source": [
    "Recall from the tutorial that we define the **policy** of an agent as the conditional distribution,\n",
    "$$\n",
    "\\pi(a|s) = \\Pr(a_t=a\\vert s_t=s),\n",
    "$$\n",
    "which defines how likely the agent is to take action $a$ at state $s$.\n",
    "\n",
    "Furthermore we define the action-value function,\n",
    "$$\n",
    "q_{\\pi}(s,a) = \\E{g_t(\\tau)|s_t = s,a_t=a,\\pi}\n",
    "$$\n",
    "where \n",
    "$$\n",
    "g_t(\\tau) = r_{t+1}+\\gamma r_{t+2} + \\dots = \\sum_{k=0}^{\\infty} \\gamma^k r_{t+1+k},\n",
    "$$\n",
    "is the total discounted reward of a specific trajectory $\\tau$ from time $t$, and the expectation in $q$ is over all possible\n",
    "trajectories,\n",
    "$\n",
    "\\tau=\\left\\{ (s_0,a_0,r_1,s_1), \\dots (s_T,a_T,r_{T+1},s_{T+1}) \\right\\}.\n",
    "$"
   ]
  },
  {
   "cell_type": "markdown",
   "metadata": {},
   "source": [
    "In the tutorial we saw that we can learn a value function starting with some random function and\n",
    "updating it iteratively by using the **Bellman optimality equation**.\n",
    "Given that we have some action-value function, we can immediately create a policy based on that\n",
    "by simply selecting an action which maximize the action-value at the current state, i.e.\n",
    "$$\n",
    "\\pi(a|s) =\n",
    "\\begin{cases}\n",
    "1, & a = \\arg\\max_{a'\\in\\cset{A}} q(s,a') \\\\\n",
    "0, & \\text{else}\n",
    "\\end{cases}.\n",
    "$$\n",
    "This is called $q$-learning. This approach aims to obtain a policy indirectly through the action-value function.\n",
    "Yet, in most cases we don't actually care about knowing the value of particular states,\n",
    "since all we need is a good policy for our agent. \n",
    "\n",
    "Here we'll take a different approach and learn a policy distribution $\\pi(a|s)$ directly - by using **policy gradients**."
   ]
  },
  {
   "cell_type": "markdown",
   "metadata": {},
   "source": [
    "### Formalism"
   ]
  },
  {
   "cell_type": "markdown",
   "metadata": {},
   "source": [
    "We define a parametric policy, $\\pi_\\vec{\\theta}(a|s)$, and maximize total discounted reward (or minimize the negative reward):\n",
    "$$\n",
    "\\mathcal{L}(\\vec{\\theta})=\\E[\\tau]{-g(\\tau)|\\pi_\\vec{\\theta}} = -\\int g(\\tau)p(\\tau|\\vec{\\theta})d\\tau,\n",
    "$$\n",
    "where $p(\\tau|\\vec{\\theta})$ is the probability of a specific trajectory $\\tau$ under the policy defined by $\\vec{\\theta}$.\n"
   ]
  },
  {
   "cell_type": "markdown",
   "metadata": {},
   "source": [
    "Since we want to find the parameters $\\vec{\\theta}$ which minimize $\\mathcal{L}(\\vec{\\theta})$, we'll compute the gradient w.r.t. $\\vec{\\theta}$:\n",
    "$$\n",
    "\\grad\\mathcal{L}(\\vec{\\theta}) = -\\int g(\\tau)\\grad p(\\tau|\\vec{\\theta})d\\tau.\n",
    "$$\n",
    "\n",
    "Unfortunately, if we try to write $p(\\tau|\\vec{\\theta})$ explicitly,\n",
    "we find that computing it's gradient with respect to $\\vec{\\theta}$ is\n",
    "quite intractable due to a huge product of terms depending on $\\vec{\\theta}$:\n",
    "$$\n",
    "p(\\tau|\\vec{\\theta})=p\\left(\\left\\{ (s_t,a_t,r_{t+1},s_{t+1})\\right\\}_{t\\geq0}\\given\\vec{\\theta}\\right)\n",
    "=p(s_0)\\prod_{t\\geq0} \\pi_{\\vec{\\theta}}(a_t|s_t)p(s_{t+1}|s_t,a_t).\n",
    "$$"
   ]
  },
  {
   "cell_type": "markdown",
   "metadata": {},
   "source": [
    "However, by using the fact that $\\grad_{x}\\log(f(x))=\\frac{\\grad_{x}f(x)}{f(x)}$, we can convert the product into a sum:\n",
    "$$\n",
    "\\begin{align}\n",
    "\\grad\\mathcal{L}(\\vec{\\theta})\n",
    "&= -\\int g(\\tau)\\grad p(\\tau|\\vec{\\theta})d\\tau\n",
    "= -\\int g(\\tau)\\frac{\\grad p(\\tau|\\vec{\\theta})}{p(\\tau|\\vec{\\theta})}p(\\tau|\\vec{\\theta})d\\tau \\\\\n",
    "&= -\\int g(\\tau)\\grad\\log\\left(p(\\tau|\\vec{\\theta})\\right)p(\\tau|\\vec{\\theta})d\\tau \\\\\n",
    "&= -\\int g(\\tau)\\grad\\log\\left( p(s_0)\\prod_{t\\geq0} \\pi_{\\vec{\\theta}}(a_t|s_t)p(s_{t+1}|s_t,a_t) \\right)\n",
    "p(\\tau|\\vec{\\theta})d\\tau \\\\\n",
    "&= -\\int g(\\tau)\\grad\\left( \\log p(s_0) + \\sum_{t\\geq0} \\log \\pi_{\\vec{\\theta}}(a_t|s_t) + \n",
    "\\sum_{t\\geq0}\\log p(s_{t+1}|s_t,a_t) \\right) p(\\tau|\\vec{\\theta})d\\tau \\\\\n",
    "&= -\\int g(\\tau)\\sum_{t\\geq0} \\grad\\log \\pi_{\\vec{\\theta}}(a_t|s_t) p(\\tau|\\vec{\\theta})d\\tau \\\\\n",
    "&= \\E[\\tau]{-g(\\tau)\\sum_{t\\geq0} \\grad\\log \\pi_{\\vec{\\theta}}(a_t|s_t)}.\n",
    "\\end{align}\n",
    "$$"
   ]
  },
  {
   "cell_type": "markdown",
   "metadata": {},
   "source": [
    "This is the \"vanilla\" version of the policy gradient. We can interpret is as a weighted log-likelihood function.\n",
    "The log-policy is the log-likelihood term we wish to maximize and the total discounted reward acts as a weight: high-return positive\n",
    "trajectories will cause the probability of actions taken during them to increase, and negative-return trajectories will cause the\n",
    "probabilities of actions taken to decrease.\n",
    "\n",
    "In the following figures we see three trajectories: high-return positive-reward (green), low-return positive-reward (yellow) and negative-return (red) and the action probabilities along the trajectories after the update. Credit: Sergey Levine.\n",
    "\n",
    "|<strong></strong>||\n",
    "|-----| ----|\n",
    "|<img src=\"imgs/pg1.png\" height=\"200\">|<img src=\"imgs/pg2.png\" height=\"200\">|\n"
   ]
  },
  {
   "cell_type": "markdown",
   "metadata": {},
   "source": [
    "The major drawback of the policy-gradient is it's high variance, which causes erratic optimization behavior and therefore slow convergence.\n",
    "One reason for this is that the log-policy weight term, $g(\\tau)$ can vary wildly between different trajectories, even if they're similar in\n",
    "actions. Later on we'll implement the loss and explore some methods of variance reduction."
   ]
  },
  {
   "cell_type": "markdown",
   "metadata": {},
   "source": [
    "### Landing on the moon with policy gradients"
   ]
  },
  {
   "cell_type": "markdown",
   "metadata": {},
   "source": [
    "In the spirit of the recent achievements of the Israeli space industry,\n",
    "we'll apply our reinforcement learning skills to solve a simple game called **LunarLander**.\n",
    "\n",
    "This game is available as an `environment` in OpenAI `gym`.\n",
    "\n",
    "<video loop autoplay src=\"http://gym.openai.com/videos/2019-04-06--My9IiAbqha/LunarLander-v2/original.mp4\" />"
   ]
  },
  {
   "cell_type": "markdown",
   "metadata": {},
   "source": [
    "In this environment, you need to control the lander and get it to land safely on the moon.\n",
    "To do so, you must apply bottom, right or left thrusters (each are either fully on or fully off)\n",
    "and get it to land within the designated zone as quickly as possible and with minimal wasted fuel."
   ]
  },
  {
   "cell_type": "code",
   "execution_count": 3,
   "metadata": {
    "pycharm": {
     "is_executing": false
    }
   },
   "outputs": [],
   "source": [
    "import gym\n",
    "\n",
    "# Just for fun :) ... but also to re-define the default max number of steps\n",
    "ENV_NAME = 'Beresheet-v2'\n",
    "MAX_EPISODE_STEPS = 300\n",
    "if ENV_NAME not in gym.envs.registry.env_specs:\n",
    "    gym.register(\n",
    "        id=ENV_NAME,\n",
    "        entry_point='gym.envs.box2d:LunarLander',\n",
    "        max_episode_steps=MAX_EPISODE_STEPS,\n",
    "        reward_threshold=200,\n",
    "    )"
   ]
  },
  {
   "cell_type": "code",
   "execution_count": 4,
   "metadata": {
    "pycharm": {
     "is_executing": false
    }
   },
   "outputs": [
    {
     "name": "stdout",
     "text": [
      "<TimeLimit<LunarLander<Beresheet-v2>>>\n",
      "observations space: Box(8,)\n",
      "action space: Discrete(4)\n"
     ],
     "output_type": "stream"
    }
   ],
   "source": [
    "import gym\n",
    "\n",
    "env = gym.make(ENV_NAME)\n",
    "\n",
    "print(env)\n",
    "print(f'observations space: {env.observation_space}')\n",
    "print(f'action space: {env.action_space}')\n",
    "\n",
    "ENV_N_ACTIONS = env.action_space.n\n",
    "ENV_N_OBSERVATIONS = env.observation_space.shape[0]"
   ]
  },
  {
   "cell_type": "markdown",
   "metadata": {},
   "source": [
    "The observations at each step is the Lander's position, velocity, angle, angular velocity and ground contact state.\n",
    "The actions are no-op, fire left truster, bottom thruster and right thruster.\n",
    "\n",
    "You are **highly encouraged** to read the [documentation](https://github.com/openai/gym/blob/master/gym/envs/box2d/lunar_lander.py) in the source code of the `LunarLander` environment to understand the reward system,\n",
    "and see how the actions and observations are created."
   ]
  },
  {
   "cell_type": "markdown",
   "metadata": {},
   "source": [
    "### Policy network and Agent"
   ]
  },
  {
   "cell_type": "markdown",
   "metadata": {},
   "source": [
    "Let's start with our policy-model. This will be a simple neural net, which should take an observation and return a score for each possible action."
   ]
  },
  {
   "cell_type": "markdown",
   "metadata": {},
   "source": [
    "**TODO**:\n",
    "1. Implement all methods in the `PolicyNet` class in the `hw4/rl_pg.py` module.\n",
    "   Start small. A simple MLP with a few hidden layers is a good starting point. You can come back and change it later based on the the experiments. The we'll use the `build_for_env` method to instantiate a `PolicyNet` based on the configuration of a given environment.\n",
    "2. If you need hyperparameters to configure your model (e.g. number of hidden layers, sizes, etc.), add them in `part1_pg_hyperparams()` in `hw4/answers.py`."
   ]
  },
  {
   "cell_type": "code",
   "execution_count": 5,
   "metadata": {
    "pycharm": {
     "is_executing": false
    }
   },
   "outputs": [
    {
     "data": {
      "text/plain": "PolicyNet(\n  (our_net): Sequential(\n    (0): Linear(in_features=8, out_features=4, bias=True)\n    (1): LogSoftmax()\n  )\n)"
     },
     "metadata": {},
     "output_type": "execute_result",
     "execution_count": 5
    }
   ],
   "source": [
    "import hw4.rl_pg as hw4pg\n",
    "import hw4.answers\n",
    "\n",
    "hp = hw4.answers.part1_pg_hyperparams()\n",
    "\n",
    "# You can add keyword-args to this function which will be populated from the hyperparameters dict.\n",
    "p_net = hw4pg.PolicyNet.build_for_env(env, device, **hp)\n",
    "p_net"
   ]
  },
  {
   "cell_type": "markdown",
   "metadata": {},
   "source": [
    "Now we need an **agent**. The purpose of our agent will be to act according to the current policy and generate experiences.\n",
    "Our `PolicyAgent` will use a `PolicyNet` as the current policy function.\n",
    "\n",
    "\n",
    "We'll also define some extra datatypes to help us represent the data generated by our agent.\n",
    "You can find the `Experience`, `Episode` and `TrainBatch` datatypes in the `hw4/rl_data.py` module."
   ]
  },
  {
   "cell_type": "markdown",
   "metadata": {},
   "source": [
    "**TODO**: Implement the `current_action_distribution()` method of the `PolicyAgent` class in the `hw4/rl_pg.py` module."
   ]
  },
  {
   "cell_type": "code",
   "execution_count": 6,
   "metadata": {
    "pycharm": {
     "is_executing": false
    }
   },
   "outputs": [
    {
     "name": "stdout",
     "text": [
      "tensor([0.1331, 0.3365, 0.3165, 0.2139])\n"
     ],
     "output_type": "stream"
    },
    {
     "name": "stderr",
     "text": [
      "C:\\Users\\User\\Anaconda3\\envs\\cs236781-hw\\lib\\site-packages\\torch\\nn\\modules\\container.py:92: UserWarning: Implicit dimension choice for log_softmax has been deprecated. Change the call to include dim=X as an argument.\n",
      "  input = module(input)\n"
     ],
     "output_type": "stream"
    }
   ],
   "source": [
    "for i in range (10):\n",
    "    agent = hw4pg.PolicyAgent(env, p_net, device)\n",
    "    d = agent.current_action_distribution()\n",
    "    test.assertSequenceEqual(d.shape, (env.action_space.n,))\n",
    "    test.assertAlmostEqual(d.sum(), 1.0, delta=1e-5)\n",
    "    \n",
    "print(d)"
   ]
  },
  {
   "cell_type": "markdown",
   "metadata": {},
   "source": [
    "**TODO**: Implement the `step()` method of the `PolicyAgent`."
   ]
  },
  {
   "cell_type": "code",
   "execution_count": 7,
   "metadata": {
    "pycharm": {
     "is_executing": false
    }
   },
   "outputs": [
    {
     "name": "stdout",
     "text": [
      "Experience(state=array([-0.00420494,  1.4311732 , -0.20689543,  0.43715736,  0.00297504,\n",
      "        0.00975195,  0.        ,  0.        ], dtype=float32), action=3, reward=1.698507065504317, is_done=False)\n"
     ],
     "output_type": "stream"
    }
   ],
   "source": [
    "agent = hw4pg.PolicyAgent(env, p_net, device)\n",
    "exp = agent.step()\n",
    "\n",
    "test.assertIsInstance(exp, hw4pg.Experience)\n",
    "print(exp)"
   ]
  },
  {
   "cell_type": "markdown",
   "metadata": {},
   "source": [
    "To test our agent, we'll write some code that allows it to play an environment. We'll use the `Monitor`\n",
    "wrapper in `gym` to generate a video of the episode for visual debugging."
   ]
  },
  {
   "cell_type": "markdown",
   "metadata": {},
   "source": [
    "**TODO**: Complete the implementation of the `monitor_episode()` method of the `PolicyAgent`."
   ]
  },
  {
   "cell_type": "code",
   "execution_count": 8,
   "metadata": {
    "pycharm": {
     "is_executing": false
    }
   },
   "outputs": [],
   "source": [
    "env, n_steps, reward = agent.monitor_episode(ENV_NAME, p_net, device=device)"
   ]
  },
  {
   "cell_type": "markdown",
   "metadata": {},
   "source": [
    "To display the Monitor video in this notebook, we'll use a helper function from our `jupyter_utils` and a small wrapper that extracts the path of the last video file. "
   ]
  },
  {
   "cell_type": "code",
   "execution_count": 9,
   "metadata": {
    "pycharm": {
     "is_executing": false
    }
   },
   "outputs": [],
   "source": [
    "import cs236781.jupyter_utils as jupyter_utils\n",
    "\n",
    "def show_monitor_video(monitor_env, idx=0, **kw):\n",
    "    # Extract video path\n",
    "    video_path = monitor_env.videos[idx][0]\n",
    "    video_path = os.path.relpath(video_path, start=os.path.curdir)\n",
    "    \n",
    "    # Use helper function to embed the video\n",
    "    return jupyter_utils.show_video_in_notebook(video_path, **kw)"
   ]
  },
  {
   "cell_type": "code",
   "execution_count": 10,
   "metadata": {
    "pycharm": {
     "is_executing": false
    }
   },
   "outputs": [
    {
     "name": "stdout",
     "text": [
      "Episode ran for 59 steps. Total reward: -120.71\n"
     ],
     "output_type": "stream"
    },
    {
     "data": {
      "text/plain": "<IPython.core.display.HTML object>",
      "text/html": "<video src=\"data:video/mp4;base64,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\" controls autoplay width=\"500\" height=\"auto\" />"
     },
     "metadata": {},
     "output_type": "execute_result",
     "execution_count": 10
    }
   ],
   "source": [
    "print(f'Episode ran for {n_steps} steps. Total reward: {reward:.2f}')\n",
    "\n",
    "show_monitor_video(env, -1)"
   ]
  },
  {
   "cell_type": "markdown",
   "metadata": {},
   "source": [
    "### Training data"
   ]
  },
  {
   "cell_type": "markdown",
   "metadata": {},
   "source": [
    "The next step is to create data to train on.\n",
    "We need to train on batches of state-action pairs, so that our network can learn to predict the actions.\n",
    "\n",
    "We'll split this task into three parts:\n",
    "1. Generate a batch of `Episode`s, by using an `Agent` that's playing according to our current policy network.\n",
    "   Each `Episode` object contains the `Experience` objects created by the agent.\n",
    "2. Calculate the total discounted reward for each state we encountered and action we took. This is our action-value estimate.\n",
    "3. Convert the `Episode`s into a batch of tensors to train on.\n",
    "   Each batch will contain states, action taken per state, reward accrued, and the calculated estimated state-values.\n",
    "   These will be stored in a `TrainBatch` object.\n"
   ]
  },
  {
   "cell_type": "markdown",
   "metadata": {},
   "source": [
    "**TODO**: Complete the implementation of the `episode_batch_generator()` method in the `TrainBatchDataset` class within the `hw4.rl_data` module. This will address part 1 in the list above."
   ]
  },
  {
   "cell_type": "code",
   "execution_count": 11,
   "metadata": {
    "pycharm": {
     "is_executing": false
    }
   },
   "outputs": [
    {
     "name": "stdout",
     "text": [
      "First episode: Episode(total_reward=-84.62, #experences=66)\n"
     ],
     "output_type": "stream"
    }
   ],
   "source": [
    "import hw4.rl_data as hw4data\n",
    "\n",
    "def agent_fn():\n",
    "    env = gym.make(ENV_NAME)\n",
    "    hp = hw4.answers.part1_pg_hyperparams()\n",
    "    p_net = hw4pg.PolicyNet.build_for_env(env, device, **hp)\n",
    "    return hw4pg.PolicyAgent(env, p_net, device)\n",
    "    \n",
    "ds = hw4data.TrainBatchDataset(agent_fn, episode_batch_size=8, gamma=0.9)\n",
    "batch_gen = ds.episode_batch_generator()\n",
    "b = next(batch_gen)\n",
    "print('First episode:', b[0])\n",
    "\n",
    "test.assertEqual(len(b), 8)\n",
    "for ep in b:\n",
    "    test.assertIsInstance(ep, hw4data.Episode)\n",
    "    \n",
    "    # Check that it's a full episode\n",
    "    is_done = [exp.is_done for exp in ep.experiences]\n",
    "    test.assertFalse(any(is_done[0:-1]))\n",
    "    test.assertTrue(is_done[-1])"
   ]
  },
  {
   "cell_type": "markdown",
   "metadata": {},
   "source": [
    "**TODO**: Complete the implementation of the `calc_qvals()` method in the `Episode` class.\n",
    "This will address part 2.\n",
    "These q-values are an estimate of the actual action value function: $$\\hat{q}_{t} = \\sum_{t'\\geq t} \\gamma^{t'-t}r_{t'+1}.$$"
   ]
  },
  {
   "cell_type": "code",
   "execution_count": 12,
   "metadata": {
    "pycharm": {
     "is_executing": false
    }
   },
   "outputs": [],
   "source": [
    "np.random.seed(SEED)\n",
    "test_rewards = np.random.randint(-10, 10, 100)\n",
    "test_experiences = [hw4pg.Experience(None,None,r,False) for r in test_rewards] \n",
    "test_episode = hw4data.Episode(np.sum(test_rewards), test_experiences)\n",
    "\n",
    "qvals = test_episode.calc_qvals(0.9)\n",
    "qvals = list(qvals)\n",
    "\n",
    "expected_qvals = np.load(os.path.join('tests', 'assets', 'part1_expected_qvals.npy'))\n",
    "for i in range(len(test_rewards)):\n",
    "    test.assertAlmostEqual(expected_qvals[i], qvals[i], delta=1e-3)"
   ]
  },
  {
   "cell_type": "markdown",
   "metadata": {},
   "source": [
    "**TODO**: Complete the implementation of the `from_episodes()` method in the `TrainBatch` class.\n",
    "This will address part 3.\n",
    "\n",
    "Notes:\n",
    "- The `TrainBatchDataset` class provides a generator function that will use the above function to lazily generate batches of training samples and labels on demand.\n",
    "- This allows us to use a standard `PyTorch` dataloader to wrap our Dataset and provide us with parallel data loading for free!\n",
    "  This means we can run multiple environments with multiple agents in separate background processes to generate data for training and thus prevent the data loading bottleneck which is caused by the fact that we must generate full Episodes to train on in order to calculate the q-values.\n",
    "- We'll set the `DataLoader`'s `batch_size` to `None` because we have already implemented custom batching in our dataset."
   ]
  },
  {
   "cell_type": "code",
   "execution_count": 13,
   "metadata": {
    "pycharm": {
     "is_executing": false
    }
   },
   "outputs": [
    {
     "name": "stdout",
     "text": [
      "#0: TrainBatch(states: torch.Size([576, 8]), actions: torch.Size([576]), q_vals: torch.Size([576])), num_episodes: 576)\n",
      "#1: TrainBatch(states: torch.Size([704, 8]), actions: torch.Size([704]), q_vals: torch.Size([704])), num_episodes: 704)\n",
      "#2: TrainBatch(states: torch.Size([600, 8]), actions: torch.Size([600]), q_vals: torch.Size([600])), num_episodes: 600)\n",
      "#3: TrainBatch(states: torch.Size([618, 8]), actions: torch.Size([618]), q_vals: torch.Size([618])), num_episodes: 618)\n",
      "#4: TrainBatch(states: torch.Size([703, 8]), actions: torch.Size([703]), q_vals: torch.Size([703])), num_episodes: 703)\n",
      "#5: TrainBatch(states: torch.Size([615, 8]), actions: torch.Size([615]), q_vals: torch.Size([615])), num_episodes: 615)\n",
      "#6: TrainBatch(states: torch.Size([627, 8]), actions: torch.Size([627]), q_vals: torch.Size([627])), num_episodes: 627)\n"
     ],
     "output_type": "stream"
    }
   ],
   "source": [
    "from torch.utils.data import DataLoader\n",
    "\n",
    "ds = hw4data.TrainBatchDataset(agent_fn, episode_batch_size=8, gamma=0.9)\n",
    "dl = DataLoader(ds, batch_size=None, num_workers=0) # Run multiple agents/env in separate worker process\n",
    "\n",
    "\n",
    "for i, train_batch in enumerate(dl):\n",
    "    states, actions, qvals, reward_mean = train_batch\n",
    "    print(f'#{i}: {train_batch}')\n",
    "    test.assertEqual(states.shape[0], actions.shape[0])\n",
    "    test.assertEqual(qvals.shape[0], actions.shape[0])\n",
    "    test.assertEqual(states.shape[1], env.observation_space.shape[0])\n",
    "    if i > 5:\n",
    "        break"
   ]
  },
  {
   "cell_type": "markdown",
   "metadata": {},
   "source": [
    "### Loss functions"
   ]
  },
  {
   "cell_type": "markdown",
   "metadata": {},
   "source": [
    "As usual, we need a loss function to optimize over.\n",
    "We'll calculate three types of losses:\n",
    "1. The causal vanilla policy gradient loss.\n",
    "1. The policy gradient loss, with a baseline to reduce variance.\n",
    "2. An entropy-based loss whos purpose is to diversify the agent's action selection,\n",
    "   and prevent it from being \"too sure\" about its actions.\n",
    "   This loss will be used together with one of the above losses."
   ]
  },
  {
   "cell_type": "markdown",
   "metadata": {},
   "source": [
    "#### Causal vanilla policy-gradient"
   ]
  },
  {
   "cell_type": "markdown",
   "metadata": {},
   "source": [
    "We have derived the policy-gradient as\n",
    "$$\n",
    "\\grad\\mathcal{L}(\\vec{\\theta}) = \\E[\\tau]{-g(\\tau)\\sum_{t\\geq0} \\grad\\log \\pi_{\\vec{\\theta}}(a_t|s_t)}.\n",
    "$$\n",
    "\n",
    "By writing the discounted reward explicitly and enforcing causality, i.e. the action taken at time $t$ can't affect\n",
    "the reward at time $t'<t$, we can get a slightly lower-variance version of the policy gradient:\n",
    "\n",
    "$$\n",
    "\\grad\\mathcal{L}_{\\text{PG}}(\\vec{\\theta}) = \n",
    "\\E[\\tau]{-\\sum_{t\\geq0} \\left(\\sum_{t'\\geq t} \\gamma^{t'}r_{t'+1} \\right)\\grad\\log \\pi_{\\vec{\\theta}}(a_t|s_t)}.\n",
    "$$"
   ]
  },
  {
   "cell_type": "markdown",
   "metadata": {},
   "source": [
    "In practice, the expectation over trajectories is calculated using a Monte-Carlo approach, i.e. simply sampling $N$\n",
    "trajectories and average the term inside the expectation. Therefore, we will use the following estimated version of the policy gradient:\n",
    "\n",
    "$$\n",
    "\\begin{align}\n",
    "\\hat\\grad\\mathcal{L}_{\\text{PG}}(\\vec{\\theta})\n",
    "&=-\\frac{1}{N}\\sum_{i=1}^{N}\\sum_{t\\geq0} \\left(\\sum_{t'\\geq t} \\gamma^{t'}r_{i,t'+1} \\right)\\grad\\log \\pi_{\\vec{\\theta}}(a_{i,t}|s_{i,t}) \\\\\n",
    "&=-\\frac{1}{N}\\sum_{i=1}^{N}\\sum_{t\\geq0} \\hat{q}_{i,t} \\grad\\log \\pi_{\\vec{\\theta}}(a_{i,t}|s_{i,t}).\n",
    "\\end{align}\n",
    "$$\n",
    "\n",
    "Note the use of the notation $\\hat{q}_{i,t}$ to represent the estimated action-value at time $t$ in the sampled trajectory $i$.\n",
    "Here $\\hat{q}_{i,t}$ is acting as the weight-term for the policy gradient."
   ]
  },
  {
   "cell_type": "markdown",
   "metadata": {},
   "source": [
    "**TODO**: Complete the implementation of the `VanillaPolicyGradientLoss` class in the `hw4/rl_pg.py` module."
   ]
  },
  {
   "cell_type": "code",
   "execution_count": 14,
   "metadata": {
    "pycharm": {
     "is_executing": false
    }
   },
   "outputs": [
    {
     "name": "stdout",
     "text": [
      "loss = tensor(-35.5355)\n"
     ],
     "output_type": "stream"
    }
   ],
   "source": [
    "# Ensure deterministic run\n",
    "env = gym.make(ENV_NAME)\n",
    "env.seed(SEED)\n",
    "torch.manual_seed(SEED)\n",
    "\n",
    "def agent_fn():\n",
    "    # Use a simple \"network\" here, so that this test doesn't depend on your specific PolicyNet implementation\n",
    "    p_net_test = nn.Linear(8, 4)\n",
    "    agent = hw4pg.PolicyAgent(env, p_net_test)\n",
    "    return agent\n",
    "\n",
    "dataloader = hw4data.TrainBatchDataset(agent_fn, gamma=0.9, episode_batch_size=4)\n",
    "\n",
    "test_batch = next(iter(dataloader))\n",
    "test_action_scores = torch.randn(len(test_batch), env.action_space.n)\n",
    "\n",
    "loss_fn_p = hw4pg.VanillaPolicyGradientLoss()\n",
    "loss_p, _ = loss_fn_p(test_batch, test_action_scores)\n",
    "\n",
    "print('loss =', loss_p)\n",
    "test.assertAlmostEqual(loss_p.item(), -35.535522, delta=1e-3)"
   ]
  },
  {
   "cell_type": "markdown",
   "metadata": {},
   "source": [
    "#### Policy-gradient with baseline"
   ]
  },
  {
   "cell_type": "markdown",
   "metadata": {},
   "source": [
    "Another way to reduce the variance of our gradient is to use relative weighting of the log-policy instead of absolute reward values.\n",
    "$$\n",
    "\\hat\\grad\\mathcal{L}_{\\text{BPG}}(\\vec{\\theta})\n",
    "=-\\frac{1}{N}\\sum_{i=1}^{N}\\sum_{t\\geq0} \\left(\\hat{q}_{i,t}-b\\right) \\grad\\log \\pi_{\\vec{\\theta}}(a_{i,t}|s_{i,t}).\n",
    "$$\n",
    "In other words, we don't measure a trajectory's worth by it's total reward, but by how much better that total reward is relative to some\n",
    "expected (\"baseline\") reward value, denoted above by $b$.\n",
    "Note that subtracting a baseline has no effect on the expected value of the policy gradient. It's easy to prove this directly by definition.\n",
    "\n",
    "Here we'll implement a very simple baseline (not optimal in terms of variance reduction): the average of the estimated state-values $\\hat{q}_{i,t}$."
   ]
  },
  {
   "cell_type": "markdown",
   "metadata": {},
   "source": [
    "**TODO**: Complete the implementation of the `BaselinePolicyGradientLoss` class in the `hw4/rl_pg.py` module."
   ]
  },
  {
   "cell_type": "code",
   "execution_count": 15,
   "metadata": {
    "pycharm": {
     "is_executing": false
    }
   },
   "outputs": [
    {
     "name": "stdout",
     "text": [
      "loss = tensor(-2.4665)\n"
     ],
     "output_type": "stream"
    }
   ],
   "source": [
    "# Using the same batch and action_scores from above cell\n",
    "loss_fn_p = hw4pg.BaselinePolicyGradientLoss()\n",
    "loss_p, _ = loss_fn_p(test_batch, test_action_scores)\n",
    "\n",
    "print('loss =', loss_p)\n",
    "test.assertAlmostEqual(loss_p.item(), -2.4665009, delta=1e-3)"
   ]
  },
  {
   "cell_type": "markdown",
   "metadata": {},
   "source": [
    "#### Entropy loss"
   ]
  },
  {
   "cell_type": "markdown",
   "metadata": {},
   "source": [
    "The entropy of a probability distribution (in our case the policy), is\n",
    "$$\n",
    "H(\\pi) = -\\sum_{a} \\pi(a|s)\\log\\pi(a|s).\n",
    "$$\n",
    "The entropy is always positive and obtains it's maximum for a uniform distribution.\n",
    "We'll use the entropy of the policy as a bonus, i.e. we'll try to maximize it.\n",
    "The idea is the prevent the policy distribution from becoming too narrow and thus promote the agent's exploration."
   ]
  },
  {
   "cell_type": "markdown",
   "metadata": {},
   "source": [
    "First, we'll calculate the maximal possible entropy value of the action distribution for a set number of possible actions.\n",
    "This will be used as a normalization term.\n",
    "\n",
    "**TODO**: Complete the implementation of the `calc_max_entropy()` method in the `ActionEntropyLoss` class."
   ]
  },
  {
   "cell_type": "code",
   "execution_count": 16,
   "metadata": {
    "pycharm": {
     "is_executing": false
    }
   },
   "outputs": [
    {
     "name": "stdout",
     "text": [
      "max_entropy =  tensor([1.3863])\n"
     ],
     "output_type": "stream"
    }
   ],
   "source": [
    "loss_fn_e = hw4pg.ActionEntropyLoss(env.action_space.n)\n",
    "print('max_entropy = ', loss_fn_e.max_entropy)\n",
    "\n",
    "test.assertAlmostEqual(loss_fn_e.max_entropy, 1.38629436, delta=1e-3)"
   ]
  },
  {
   "cell_type": "markdown",
   "metadata": {},
   "source": [
    "**TODO**: Complete the implementation of the `forward()` method in the `ActionEntropyLoss` class."
   ]
  },
  {
   "cell_type": "code",
   "execution_count": 18,
   "metadata": {
    "pycharm": {
     "is_executing": false
    }
   },
   "outputs": [
    {
     "traceback": [
      "\u001b[1;31m---------------------------------------------------------------------------\u001b[0m",
      "\u001b[1;31mKeyboardInterrupt\u001b[0m                         Traceback (most recent call last)",
      "\u001b[1;32m<ipython-input-18-a0539cab001e>\u001b[0m in \u001b[0;36m<module>\u001b[1;34m\u001b[0m\n\u001b[0;32m      1\u001b[0m \u001b[1;31m# pydev_debug_cell\u001b[0m\u001b[1;33m\u001b[0m\u001b[1;33m\u001b[0m\u001b[1;33m\u001b[0m\u001b[0m\n\u001b[1;32m----> 2\u001b[1;33m \u001b[0mloss_e\u001b[0m\u001b[1;33m,\u001b[0m \u001b[0m_\u001b[0m \u001b[1;33m=\u001b[0m \u001b[0mloss_fn_e\u001b[0m\u001b[1;33m(\u001b[0m\u001b[0mtest_batch\u001b[0m\u001b[1;33m,\u001b[0m \u001b[0mtest_action_scores\u001b[0m\u001b[1;33m)\u001b[0m\u001b[1;33m\u001b[0m\u001b[1;33m\u001b[0m\u001b[0m\n\u001b[0m\u001b[0;32m      3\u001b[0m \u001b[0mprint\u001b[0m\u001b[1;33m(\u001b[0m\u001b[1;34m'loss = '\u001b[0m\u001b[1;33m,\u001b[0m \u001b[0mloss_e\u001b[0m\u001b[1;33m)\u001b[0m\u001b[1;33m\u001b[0m\u001b[1;33m\u001b[0m\u001b[0m\n\u001b[0;32m      4\u001b[0m \u001b[1;33m\u001b[0m\u001b[0m\n\u001b[0;32m      5\u001b[0m \u001b[0mtest\u001b[0m\u001b[1;33m.\u001b[0m\u001b[0massertAlmostEqual\u001b[0m\u001b[1;33m(\u001b[0m\u001b[0mloss_e\u001b[0m\u001b[1;33m.\u001b[0m\u001b[0mitem\u001b[0m\u001b[1;33m(\u001b[0m\u001b[1;33m)\u001b[0m\u001b[1;33m,\u001b[0m \u001b[1;33m-\u001b[0m\u001b[1;36m0.7927002\u001b[0m\u001b[1;33m,\u001b[0m \u001b[0mdelta\u001b[0m\u001b[1;33m=\u001b[0m\u001b[1;36m1e-3\u001b[0m\u001b[1;33m)\u001b[0m\u001b[1;33m\u001b[0m\u001b[1;33m\u001b[0m\u001b[0m\n",
      "\u001b[1;32m~\\Anaconda3\\envs\\cs236781-hw\\lib\\site-packages\\torch\\nn\\modules\\module.py\u001b[0m in \u001b[0;36m__call__\u001b[1;34m(self, *input, **kwargs)\u001b[0m\n\u001b[0;32m    539\u001b[0m             \u001b[0mresult\u001b[0m \u001b[1;33m=\u001b[0m \u001b[0mself\u001b[0m\u001b[1;33m.\u001b[0m\u001b[0m_slow_forward\u001b[0m\u001b[1;33m(\u001b[0m\u001b[1;33m*\u001b[0m\u001b[0minput\u001b[0m\u001b[1;33m,\u001b[0m \u001b[1;33m**\u001b[0m\u001b[0mkwargs\u001b[0m\u001b[1;33m)\u001b[0m\u001b[1;33m\u001b[0m\u001b[1;33m\u001b[0m\u001b[0m\n\u001b[0;32m    540\u001b[0m         \u001b[1;32melse\u001b[0m\u001b[1;33m:\u001b[0m\u001b[1;33m\u001b[0m\u001b[1;33m\u001b[0m\u001b[0m\n\u001b[1;32m--> 541\u001b[1;33m             \u001b[0mresult\u001b[0m \u001b[1;33m=\u001b[0m \u001b[0mself\u001b[0m\u001b[1;33m.\u001b[0m\u001b[0mforward\u001b[0m\u001b[1;33m(\u001b[0m\u001b[1;33m*\u001b[0m\u001b[0minput\u001b[0m\u001b[1;33m,\u001b[0m \u001b[1;33m**\u001b[0m\u001b[0mkwargs\u001b[0m\u001b[1;33m)\u001b[0m\u001b[1;33m\u001b[0m\u001b[1;33m\u001b[0m\u001b[0m\n\u001b[0m\u001b[0;32m    542\u001b[0m         \u001b[1;32mfor\u001b[0m \u001b[0mhook\u001b[0m \u001b[1;32min\u001b[0m \u001b[0mself\u001b[0m\u001b[1;33m.\u001b[0m\u001b[0m_forward_hooks\u001b[0m\u001b[1;33m.\u001b[0m\u001b[0mvalues\u001b[0m\u001b[1;33m(\u001b[0m\u001b[1;33m)\u001b[0m\u001b[1;33m:\u001b[0m\u001b[1;33m\u001b[0m\u001b[1;33m\u001b[0m\u001b[0m\n\u001b[0;32m    543\u001b[0m             \u001b[0mhook_result\u001b[0m \u001b[1;33m=\u001b[0m \u001b[0mhook\u001b[0m\u001b[1;33m(\u001b[0m\u001b[0mself\u001b[0m\u001b[1;33m,\u001b[0m \u001b[0minput\u001b[0m\u001b[1;33m,\u001b[0m \u001b[0mresult\u001b[0m\u001b[1;33m)\u001b[0m\u001b[1;33m\u001b[0m\u001b[1;33m\u001b[0m\u001b[0m\n",
      "\u001b[1;32m~\\OneDrive - Technion\\Semester H\\DL\\hw4\\hw4\\rl_pg.py\u001b[0m in \u001b[0;36mforward\u001b[1;34m(self, batch, action_scores, **kw)\u001b[0m\n\u001b[0;32m    290\u001b[0m         \u001b[1;31m#   - Calculate loss per experience and average over all of them.\u001b[0m\u001b[1;33m\u001b[0m\u001b[1;33m\u001b[0m\u001b[1;33m\u001b[0m\u001b[0m\n\u001b[0;32m    291\u001b[0m         \u001b[1;31m# ====== YOUR CODE: ======\u001b[0m\u001b[1;33m\u001b[0m\u001b[1;33m\u001b[0m\u001b[1;33m\u001b[0m\u001b[0m\n\u001b[1;32m--> 292\u001b[1;33m         \u001b[0mdistribiutions\u001b[0m \u001b[1;33m=\u001b[0m \u001b[0mtorch\u001b[0m\u001b[1;33m.\u001b[0m\u001b[0msoftmax\u001b[0m\u001b[1;33m(\u001b[0m\u001b[0maction_scores\u001b[0m\u001b[1;33m,\u001b[0m \u001b[1;36m0\u001b[0m\u001b[1;33m)\u001b[0m\u001b[1;33m\u001b[0m\u001b[1;33m\u001b[0m\u001b[0m\n\u001b[0m\u001b[0;32m    293\u001b[0m         \u001b[0mloss_e\u001b[0m \u001b[1;33m=\u001b[0m \u001b[0msum\u001b[0m\u001b[1;33m(\u001b[0m\u001b[0mdistribiutions\u001b[0m \u001b[1;33m*\u001b[0m \u001b[0mtorch\u001b[0m\u001b[1;33m.\u001b[0m\u001b[0mlog\u001b[0m\u001b[1;33m(\u001b[0m\u001b[0mdistribiutions\u001b[0m\u001b[1;33m)\u001b[0m\u001b[1;33m)\u001b[0m\u001b[1;33m\u001b[0m\u001b[1;33m\u001b[0m\u001b[0m\n\u001b[0;32m    294\u001b[0m         \u001b[0mloss_e\u001b[0m \u001b[1;33m/=\u001b[0m \u001b[0mself\u001b[0m\u001b[1;33m.\u001b[0m\u001b[0mmax_entropy\u001b[0m\u001b[1;33m\u001b[0m\u001b[1;33m\u001b[0m\u001b[0m\n",
      "\u001b[1;32m~\\OneDrive - Technion\\Semester H\\DL\\hw4\\hw4\\rl_pg.py\u001b[0m in \u001b[0;36mforward\u001b[1;34m(self, batch, action_scores, **kw)\u001b[0m\n\u001b[0;32m    290\u001b[0m         \u001b[1;31m#   - Calculate loss per experience and average over all of them.\u001b[0m\u001b[1;33m\u001b[0m\u001b[1;33m\u001b[0m\u001b[1;33m\u001b[0m\u001b[0m\n\u001b[0;32m    291\u001b[0m         \u001b[1;31m# ====== YOUR CODE: ======\u001b[0m\u001b[1;33m\u001b[0m\u001b[1;33m\u001b[0m\u001b[1;33m\u001b[0m\u001b[0m\n\u001b[1;32m--> 292\u001b[1;33m         \u001b[0mdistribiutions\u001b[0m \u001b[1;33m=\u001b[0m \u001b[0mtorch\u001b[0m\u001b[1;33m.\u001b[0m\u001b[0msoftmax\u001b[0m\u001b[1;33m(\u001b[0m\u001b[0maction_scores\u001b[0m\u001b[1;33m,\u001b[0m \u001b[1;36m0\u001b[0m\u001b[1;33m)\u001b[0m\u001b[1;33m\u001b[0m\u001b[1;33m\u001b[0m\u001b[0m\n\u001b[0m\u001b[0;32m    293\u001b[0m         \u001b[0mloss_e\u001b[0m \u001b[1;33m=\u001b[0m \u001b[0msum\u001b[0m\u001b[1;33m(\u001b[0m\u001b[0mdistribiutions\u001b[0m \u001b[1;33m*\u001b[0m \u001b[0mtorch\u001b[0m\u001b[1;33m.\u001b[0m\u001b[0mlog\u001b[0m\u001b[1;33m(\u001b[0m\u001b[0mdistribiutions\u001b[0m\u001b[1;33m)\u001b[0m\u001b[1;33m)\u001b[0m\u001b[1;33m\u001b[0m\u001b[1;33m\u001b[0m\u001b[0m\n\u001b[0;32m    294\u001b[0m         \u001b[0mloss_e\u001b[0m \u001b[1;33m/=\u001b[0m \u001b[0mself\u001b[0m\u001b[1;33m.\u001b[0m\u001b[0mmax_entropy\u001b[0m\u001b[1;33m\u001b[0m\u001b[1;33m\u001b[0m\u001b[0m\n",
      "\u001b[1;32m_pydevd_bundle\\pydevd_cython_win32_37_64.pyx\u001b[0m in \u001b[0;36m_pydevd_bundle.pydevd_cython_win32_37_64.SafeCallWrapper.__call__\u001b[1;34m()\u001b[0m\n",
      "\u001b[1;32m_pydevd_bundle\\pydevd_cython_win32_37_64.pyx\u001b[0m in \u001b[0;36m_pydevd_bundle.pydevd_cython_win32_37_64.PyDBFrame.trace_dispatch\u001b[1;34m()\u001b[0m\n",
      "\u001b[1;32m_pydevd_bundle\\pydevd_cython_win32_37_64.pyx\u001b[0m in \u001b[0;36m_pydevd_bundle.pydevd_cython_win32_37_64.PyDBFrame.trace_dispatch\u001b[1;34m()\u001b[0m\n",
      "\u001b[1;32m_pydevd_bundle\\pydevd_cython_win32_37_64.pyx\u001b[0m in \u001b[0;36m_pydevd_bundle.pydevd_cython_win32_37_64.PyDBFrame.trace_dispatch\u001b[1;34m()\u001b[0m\n",
      "\u001b[1;32m_pydevd_bundle\\pydevd_cython_win32_37_64.pyx\u001b[0m in \u001b[0;36m_pydevd_bundle.pydevd_cython_win32_37_64.PyDBFrame.do_wait_suspend\u001b[1;34m()\u001b[0m\n",
      "\u001b[1;32mC:\\Program Files\\JetBrains\\PyCharm Professional Edition with Anaconda plugin 2019.3.1\\plugins\\python\\helpers\\pydev\\pydevd.py\u001b[0m in \u001b[0;36mdo_wait_suspend\u001b[1;34m(self, thread, frame, event, arg, send_suspend_message, is_unhandled_exception)\u001b[0m\n\u001b[0;32m   1097\u001b[0m \u001b[1;33m\u001b[0m\u001b[0m\n\u001b[0;32m   1098\u001b[0m         \u001b[1;32mwith\u001b[0m \u001b[0mself\u001b[0m\u001b[1;33m.\u001b[0m\u001b[0m_threads_suspended_single_notification\u001b[0m\u001b[1;33m.\u001b[0m\u001b[0mnotify_thread_suspended\u001b[0m\u001b[1;33m(\u001b[0m\u001b[0mthread_id\u001b[0m\u001b[1;33m,\u001b[0m \u001b[0mstop_reason\u001b[0m\u001b[1;33m)\u001b[0m\u001b[1;33m:\u001b[0m\u001b[1;33m\u001b[0m\u001b[1;33m\u001b[0m\u001b[0m\n\u001b[1;32m-> 1099\u001b[1;33m             \u001b[0mself\u001b[0m\u001b[1;33m.\u001b[0m\u001b[0m_do_wait_suspend\u001b[0m\u001b[1;33m(\u001b[0m\u001b[0mthread\u001b[0m\u001b[1;33m,\u001b[0m \u001b[0mframe\u001b[0m\u001b[1;33m,\u001b[0m \u001b[0mevent\u001b[0m\u001b[1;33m,\u001b[0m \u001b[0marg\u001b[0m\u001b[1;33m,\u001b[0m \u001b[0msuspend_type\u001b[0m\u001b[1;33m,\u001b[0m \u001b[0mfrom_this_thread\u001b[0m\u001b[1;33m)\u001b[0m\u001b[1;33m\u001b[0m\u001b[1;33m\u001b[0m\u001b[0m\n\u001b[0m\u001b[0;32m   1100\u001b[0m \u001b[1;33m\u001b[0m\u001b[0m\n\u001b[0;32m   1101\u001b[0m     \u001b[1;32mdef\u001b[0m \u001b[0m_do_wait_suspend\u001b[0m\u001b[1;33m(\u001b[0m\u001b[0mself\u001b[0m\u001b[1;33m,\u001b[0m \u001b[0mthread\u001b[0m\u001b[1;33m,\u001b[0m \u001b[0mframe\u001b[0m\u001b[1;33m,\u001b[0m \u001b[0mevent\u001b[0m\u001b[1;33m,\u001b[0m \u001b[0marg\u001b[0m\u001b[1;33m,\u001b[0m \u001b[0msuspend_type\u001b[0m\u001b[1;33m,\u001b[0m \u001b[0mfrom_this_thread\u001b[0m\u001b[1;33m)\u001b[0m\u001b[1;33m:\u001b[0m\u001b[1;33m\u001b[0m\u001b[1;33m\u001b[0m\u001b[0m\n",
      "\u001b[1;32mC:\\Program Files\\JetBrains\\PyCharm Professional Edition with Anaconda plugin 2019.3.1\\plugins\\python\\helpers\\pydev\\pydevd.py\u001b[0m in \u001b[0;36m_do_wait_suspend\u001b[1;34m(self, thread, frame, event, arg, suspend_type, from_this_thread)\u001b[0m\n\u001b[0;32m   1112\u001b[0m \u001b[1;33m\u001b[0m\u001b[0m\n\u001b[0;32m   1113\u001b[0m                 \u001b[0mself\u001b[0m\u001b[1;33m.\u001b[0m\u001b[0mprocess_internal_commands\u001b[0m\u001b[1;33m(\u001b[0m\u001b[1;33m)\u001b[0m\u001b[1;33m\u001b[0m\u001b[1;33m\u001b[0m\u001b[0m\n\u001b[1;32m-> 1114\u001b[1;33m                 \u001b[0mtime\u001b[0m\u001b[1;33m.\u001b[0m\u001b[0msleep\u001b[0m\u001b[1;33m(\u001b[0m\u001b[1;36m0.01\u001b[0m\u001b[1;33m)\u001b[0m\u001b[1;33m\u001b[0m\u001b[1;33m\u001b[0m\u001b[0m\n\u001b[0m\u001b[0;32m   1115\u001b[0m \u001b[1;33m\u001b[0m\u001b[0m\n\u001b[0;32m   1116\u001b[0m         \u001b[0mself\u001b[0m\u001b[1;33m.\u001b[0m\u001b[0mcancel_async_evaluation\u001b[0m\u001b[1;33m(\u001b[0m\u001b[0mget_current_thread_id\u001b[0m\u001b[1;33m(\u001b[0m\u001b[0mthread\u001b[0m\u001b[1;33m)\u001b[0m\u001b[1;33m,\u001b[0m \u001b[0mstr\u001b[0m\u001b[1;33m(\u001b[0m\u001b[0mid\u001b[0m\u001b[1;33m(\u001b[0m\u001b[0mframe\u001b[0m\u001b[1;33m)\u001b[0m\u001b[1;33m)\u001b[0m\u001b[1;33m)\u001b[0m\u001b[1;33m\u001b[0m\u001b[1;33m\u001b[0m\u001b[0m\n",
      "\u001b[1;31mKeyboardInterrupt\u001b[0m: "
     ],
     "ename": "KeyboardInterrupt",
     "evalue": "",
     "output_type": "error"
    }
   ],
   "source": [
    "loss_e, _ = loss_fn_e(test_batch, test_action_scores)\n",
    "print('loss = ', loss_e)\n",
    "\n",
    "test.assertAlmostEqual(loss_e.item(), -0.7927002, delta=1e-3)"
   ]
  },
  {
   "cell_type": "markdown",
   "metadata": {},
   "source": [
    "### Training"
   ]
  },
  {
   "cell_type": "markdown",
   "metadata": {},
   "source": [
    "We'll implement our training procedure as follows:\n",
    "\n",
    "1. Initialize the current policy to be a random policy.\n",
    "1. Sample $N$ trajectories from the environment using the current policy.\n",
    "2. Calculate the estimated $q$-values, $\\hat{q}_{i,t} = \\sum_{t'\\geq t} \\gamma^{t'}r_{i,t'+1}$ for each trajectory $i$.\n",
    "3. Calculate policy gradient estimate $\\hat\\grad\\mathcal{L}(\\vec{\\theta})$ as defined above.\n",
    "4. Perform SGD update $\\vec{\\theta}\\leftarrow\\vec{\\theta}-\\eta\\hat\\grad\\mathcal{L}(\\vec{\\theta})$.\n",
    "5. Repeat from step 2.\n",
    "\n",
    "This is known as the **REINFORCE** algorithm."
   ]
  },
  {
   "cell_type": "markdown",
   "metadata": {},
   "source": [
    "Fortunately, we've already implemented everything we need for steps 1-4 so we need only a bit more code to put it all together.\n",
    "\n",
    "The following block implements a wrapper, `train_pg` to create all the objects we need in order to train our policy gradient model.\n"
   ]
  },
  {
   "cell_type": "code",
   "execution_count": null,
   "metadata": {
    "pycharm": {
     "is_executing": false
    }
   },
   "outputs": [],
   "source": [
    "import hw4.answers\n",
    "from functools import partial\n",
    "\n",
    "ENV_NAME = \"Beresheet-v2\"\n",
    "\n",
    "def agent_fn_train(agent_type, p_net, seed, envs_dict):\n",
    "    winfo = torch.utils.data.get_worker_info()\n",
    "    wid = winfo.id if winfo else 0\n",
    "    seed = seed + wid if seed else wid\n",
    "\n",
    "    env = gym.make(ENV_NAME)\n",
    "    envs_dict[wid] = env\n",
    "    env.seed(seed)\n",
    "    np.random.seed(seed)\n",
    "    torch.manual_seed(seed)\n",
    "\n",
    "    return agent_type(env, p_net)\n",
    "\n",
    "def train_rl(agent_type, net_type, loss_fns, hp, seed=None, checkpoints_file=None, **train_kw):\n",
    "    print(f'hyperparams: {hp}')\n",
    "    \n",
    "    envs = {}\n",
    "    p_net = net_type(ENV_N_OBSERVATIONS, ENV_N_ACTIONS, **hp)\n",
    "    p_net.share_memory()\n",
    "    agent_fn = partial(agent_fn_train, agent_type, p_net, seed, envs)\n",
    "    \n",
    "    dataset = hw4data.TrainBatchDataset(agent_fn, hp['batch_size'], hp['gamma'])\n",
    "    dataloader = DataLoader(dataset, batch_size=None, num_workers=2)\n",
    "    optimizer = optim.Adam(p_net.parameters(), lr=hp['learn_rate'], eps=hp['eps'])\n",
    "    \n",
    "    trainer = hw4pg.PolicyTrainer(p_net, optimizer, loss_fns, dataloader, checkpoints_file)\n",
    "    try:\n",
    "        trainer.train(**train_kw)\n",
    "    except KeyboardInterrupt as e:\n",
    "        print('Training interrupted by user.')\n",
    "    finally:\n",
    "        for env in envs.values():\n",
    "            env.close()\n",
    "\n",
    "    # Include final model state\n",
    "    training_data = trainer.training_data\n",
    "    training_data['model_state'] = p_net.state_dict()\n",
    "    return training_data\n",
    "    \n",
    "def train_pg(baseline=False, entropy=False, **train_kwargs):\n",
    "    hp = hw4.answers.part1_pg_hyperparams()\n",
    "    \n",
    "    loss_fns = []\n",
    "    if baseline:\n",
    "        loss_fns.append(hw4pg.BaselinePolicyGradientLoss())\n",
    "    else:\n",
    "        loss_fns.append(hw4pg.VanillaPolicyGradientLoss())\n",
    "    if entropy:\n",
    "        loss_fns.append(hw4pg.ActionEntropyLoss(ENV_N_ACTIONS, hp['beta']))\n",
    "\n",
    "    return train_rl(hw4pg.PolicyAgent, hw4pg.PolicyNet, loss_fns, hp, **train_kwargs)"
   ]
  },
  {
   "cell_type": "markdown",
   "metadata": {},
   "source": [
    "The `PolicyTrainer` class implements the training loop, collects the losses and rewards and provides some useful checkpointing functionality.\n",
    "The training loop will generate batches of episodes and train on them until either:\n",
    "- The average total reward from the last `running_mean_len` episodes is greater than the `target_reward`, OR\n",
    "- The number of generated episodes reached `max_episodes`.\n",
    "\n",
    "Most of this class is already implemented for you. "
   ]
  },
  {
   "cell_type": "markdown",
   "metadata": {},
   "source": [
    "**TODO**:\n",
    "1. Complete the training loop by implementing the `train_batch()` method of the `PolicyTrainer`.\n",
    "2. Tweak the hyperparameters in the `part1_pg_hyperparams()` function within the `hw4/answers.py` module as needed. You get some sane defaults."
   ]
  },
  {
   "cell_type": "markdown",
   "metadata": {},
   "source": [
    "Let's check whether our model is actually training.\n",
    "We'll try to reach a very low (bad) target reward, just as a sanity check to see that training works.\n",
    "Your model should be able to reach this target reward within a few batches.\n",
    "\n",
    "You can increase the target reward and use this block to manually tweak your model and hyperparameters a few times."
   ]
  },
  {
   "cell_type": "code",
   "execution_count": null,
   "metadata": {
    "pycharm": {
     "is_executing": false
    }
   },
   "outputs": [],
   "source": [
    "target_reward = -150 # VERY LOW target\n",
    "train_data = train_pg(target_reward=target_reward, seed=SEED, max_episodes=2000, running_mean_len=10)\n",
    "\n",
    "test.assertGreater(train_data['mean_reward'][-1], target_reward)"
   ]
  },
  {
   "cell_type": "markdown",
   "metadata": {},
   "source": [
    "### Experimenting with different losses"
   ]
  },
  {
   "cell_type": "markdown",
   "metadata": {},
   "source": [
    "We'll now run a few experiments to see the effect of diferent loss functions on the training dynamics. Namely, we'll try:\n",
    "1. Vanilla PG (`vpg`): No baseline, no entropy\n",
    "2. Baseline PG (`bpg`): Baseline, no entropy loss\n",
    "3. Entropy PG (`epg`): No baseline, with entropy loss\n",
    "3. Combined PG (`cpg`): Baseline, with entropy loss"
   ]
  },
  {
   "cell_type": "code",
   "execution_count": null,
   "metadata": {
    "pycharm": {
     "is_executing": false
    }
   },
   "outputs": [],
   "source": [
    "from collections import namedtuple\n",
    "from pprint import pprint\n",
    "import itertools as it\n",
    "\n",
    "\n",
    "ExpConfig = namedtuple('ExpConfig', ('name','baseline','entropy'))\n",
    "\n",
    "def exp_configs():\n",
    "    exp_names = ('vpg', 'epg', 'bpg', 'cpg')\n",
    "    z = zip(exp_names, it.product((False, True), (False, True)))\n",
    "    return (ExpConfig(n, b, e) for (n, (b, e)) in z)\n",
    "\n",
    "pprint(list(exp_configs()))"
   ]
  },
  {
   "cell_type": "markdown",
   "metadata": {},
   "source": [
    "We'll save the training data from each experiment for plotting."
   ]
  },
  {
   "cell_type": "code",
   "execution_count": null,
   "metadata": {
    "pycharm": {
     "is_executing": false
    }
   },
   "outputs": [],
   "source": [
    "import pickle\n",
    "\n",
    "def dump_training_data(data, filename):\n",
    "    os.makedirs(os.path.dirname(filename), exist_ok=True)\n",
    "    with open(filename, mode='wb') as file:\n",
    "        pickle.dump(data, file)\n",
    "        \n",
    "def load_training_data(filename):\n",
    "    with open(filename, mode='rb') as file:\n",
    "        return pickle.load(file)"
   ]
  },
  {
   "cell_type": "markdown",
   "metadata": {},
   "source": [
    "Let's run the experiments! We'll run each configuration for a fixed number of episodes so that we can compare them.\n",
    "\n",
    "Notes:\n",
    "1. Until your models start working, you can decrease the number of episodes for each experiment, or only run one experiment.\n",
    "2.  The results will be saved in a file. To re-run the experiments, you can set `force_run` to `True`."
   ]
  },
  {
   "cell_type": "code",
   "execution_count": null,
   "metadata": {
    "pycharm": {
     "is_executing": false
    }
   },
   "outputs": [],
   "source": [
    "import math\n",
    "\n",
    "exp_max_episodes = 4000\n",
    "\n",
    "results = {}\n",
    "training_data_filename = os.path.join('results', f'part1_exp.dat')\n",
    "\n",
    "# Set to True to force re-run (careful, will delete old experiment results)\n",
    "force_run = False\n",
    "\n",
    "# Skip running if results file exists.\n",
    "if os.path.isfile(training_data_filename) and not force_run:\n",
    "    print(f'=== results file {training_data_filename} exists, skipping experiments.')\n",
    "    results = load_training_data(training_data_filename)\n",
    "    \n",
    "else:\n",
    "    for n, b, e in exp_configs():\n",
    "        print(f'=== Experiment {n}')\n",
    "        results[n] = train_pg(baseline=b, entropy=e, max_episodes=exp_max_episodes, post_batch_fn=None)\n",
    "        \n",
    "    dump_training_data(results, training_data_filename)"
   ]
  },
  {
   "cell_type": "code",
   "execution_count": null,
   "metadata": {
    "pycharm": {
     "is_executing": false
    }
   },
   "outputs": [],
   "source": [
    "def plot_experiment_results(results, fig=None):\n",
    "    if fig is None:\n",
    "        fig, _ = plt.subplots(nrows=2, ncols=2, sharex=True, figsize=(18,12))\n",
    "    for i, plot_type in enumerate(('loss_p', 'baseline', 'loss_e', 'mean_reward')):\n",
    "        ax = fig.axes[i]\n",
    "        for exp_name, exp_res in results.items():\n",
    "            if plot_type not in exp_res:\n",
    "                continue\n",
    "            ax.plot(exp_res['episode_num'], exp_res[plot_type], label=exp_name)\n",
    "        ax.set_title(plot_type)\n",
    "        ax.set_xlabel('episode')\n",
    "        ax.legend()\n",
    "    return fig\n",
    "    \n",
    "experiments_results_fig = plot_experiment_results(results)"
   ]
  },
  {
   "cell_type": "markdown",
   "metadata": {},
   "source": [
    "You should see positive training dynamics in the graphs (reward going up).\n",
    "If you don't, use them to further update your model or hyperparams.\n",
    "\n",
    "To pass the test, you'll need to get a best total mean reward of at least 10 in the fixed number of epochs using the combined loss.\n",
    "It's possible to get much higher (over 100)."
   ]
  },
  {
   "cell_type": "code",
   "execution_count": null,
   "metadata": {
    "pycharm": {
     "is_executing": false
    }
   },
   "outputs": [],
   "source": [
    "best_cpg_mean_reward = max(results['cpg']['mean_reward'])\n",
    "print(f'Best CPG mean reward: {best_cpg_mean_reward:.2f}')\n",
    "\n",
    "test.assertGreater(best_cpg_mean_reward, 10)"
   ]
  },
  {
   "cell_type": "markdown",
   "metadata": {},
   "source": [
    "Now let's take a look at a gameplay video of our `cpg` model after the short training!"
   ]
  },
  {
   "cell_type": "code",
   "execution_count": null,
   "metadata": {
    "pycharm": {
     "is_executing": false
    }
   },
   "outputs": [],
   "source": [
    "hp = hw4.answers.part1_pg_hyperparams()\n",
    "p_net_cpg = hw4pg.PolicyNet.build_for_env(env, **hp)\n",
    "p_net_cpg.load_state_dict(results['cpg']['model_state'])\n",
    "\n",
    "env, n_steps, reward = hw4pg.PolicyAgent.monitor_episode(ENV_NAME, p_net_cpg)\n",
    "print(f'{n_steps} steps, total reward: {reward:.2f}')\n",
    "show_monitor_video(env)"
   ]
  },
  {
   "cell_type": "markdown",
   "metadata": {},
   "source": [
    "## Advantage Actor-Critic (AAC)\n",
    "<a id=part1_2></a>"
   ]
  },
  {
   "cell_type": "markdown",
   "metadata": {},
   "source": [
    "We have seen that the policy-gradient loss can be interpreted as a log-likelihood of the policy term\n",
    "(selecting a specific action at a specific state), weighted by the future rewards of that choice of action.\n",
    "\n",
    "However, naïvely weighting by rewards has significant drawbacks in terms of the variance of the resulting gradient.\n",
    "We addressed this by adding a simple baseline term which represented our \"expected reward\" so that we increase probability of actions\n",
    "leading to trajectories which exceed this expectation and vice-versa.\n",
    "\n",
    "In this part we'll explore a more powerful baseline, which is the idea behind the AAC method."
   ]
  },
  {
   "cell_type": "markdown",
   "metadata": {},
   "source": [
    "### The advantage function"
   ]
  },
  {
   "cell_type": "markdown",
   "metadata": {},
   "source": [
    "Recall the definition of the state-value function $v_{\\pi}(s)$ and action-value function $q_{\\pi}(s,a)$:\n",
    "\n",
    "$$\n",
    "\\begin{align}\n",
    "v_{\\pi}(s) &= \\E{g(\\tau)|s_0 = s,\\pi} \\\\\n",
    "q_{\\pi}(s,a) &= \\E{g(\\tau)|s_0 = s,a_0=a,\\pi}.\n",
    "\\end{align}\n",
    "$$\n",
    "\n",
    "Both these functions represent the value of the state $s$. However, $v_\\pi$ averages over the first action according to the policy,\n",
    "while $q_\\pi$ fixes the first action and then continues according to the policy."
   ]
  },
  {
   "cell_type": "markdown",
   "metadata": {},
   "source": [
    "Their difference is known as the **advantage function**:\n",
    "$$\n",
    "a_\\pi(s,a) = q_\\pi(s,a)-v_\\pi(s).\n",
    "$$\n",
    "\n",
    "If $a_\\pi(s,a)>0$ it means that it's better (in expectation) to take action $a$ in state $s$ compared to the average action.\n",
    "In other words, $a_\\pi(s,a)$ represents the *advantage* of using action $a$ in state $s$ compared to the others."
   ]
  },
  {
   "cell_type": "markdown",
   "metadata": {},
   "source": [
    "So far we have used an estimate for $q_\\pi$ as our weighting term for the log-policy, with a fixed baseline per batch.\n",
    "\n",
    "$$\n",
    "\\hat\\grad\\mathcal{L}_{\\text{BPG}}(\\vec{\\theta})\n",
    "=-\\frac{1}{N}\\sum_{i=1}^{N}\\sum_{t\\geq0} \\left(\\hat{q}_{i,t}-b\\right) \\grad\\log \\pi_{\\vec{\\theta}}(a_{i,t}|s_{i,t}).\n",
    "$$\n"
   ]
  },
  {
   "cell_type": "markdown",
   "metadata": {},
   "source": [
    "Now, we will use the state value as a baseline, so that an estimate of the advantage function is our weighting term:\n",
    "\n",
    "$$\n",
    "\\hat\\grad\\mathcal{L}_{\\text{AAC}}(\\vec{\\theta})\n",
    "=-\\frac{1}{N}\\sum_{i=1}^{N}\\sum_{t\\geq0} \\left(\\hat{q}_{i,t}-v_\\pi(s_t)\\right) \\grad\\log \\pi_{\\vec{\\theta}}(a_{i,t}|s_{i,t}).\n",
    "$$\n",
    "\n",
    "Intuitively, using the advantage function makes sense because it means we're weighting our policy's actions according to\n",
    "how advantageous they are compared to other possible actions."
   ]
  },
  {
   "cell_type": "markdown",
   "metadata": {},
   "source": [
    "But how will we know $v_\\pi(s)$? We'll learn it of course, using another neural network.\n",
    "This is known as actor-critic learning. We simultaneously learn the policy (actor) and the value of states (critic).\n",
    "We'll treat it as a regression task: given a state $s_t$, our state-value network will output $\\hat{v}_\\pi(s_t)$,\n",
    "an estimate of the actual unknown state-value.\n",
    "Our regression targets will be the discounted rewards, $\\hat{q}_{i,t}$ (see question 2),\n",
    "and we can use a simple MSE as the loss function,\n",
    "$$\n",
    "\\mathcal{L}_{\\text{SV}} = \\frac{1}{N}\\sum_{i=1}^{N}\\sum_{t\\geq0}\\left(\\hat{v}_\\pi(s_t) - \\hat{q}_{i,t}\\right)^2.\n",
    "$$\n"
   ]
  },
  {
   "cell_type": "markdown",
   "metadata": {},
   "source": [
    "### Implementation"
   ]
  },
  {
   "cell_type": "markdown",
   "metadata": {},
   "source": [
    "We'll build heavily on our implementation of the regular policy-gradient method, and just add a new model class and a new loss class, with a small modification to the agent."
   ]
  },
  {
   "cell_type": "markdown",
   "metadata": {},
   "source": [
    "Let's start with the model. It will accept a state, and return action scores (as before), but also the value of that state.\n",
    "You can experiment with a dual-head network that has a shared base, or implement two separate parts within the network.\n",
    "\n",
    "**TODO**:\n",
    "1. Implement the model as the `AACPolicyNet` class in the `hw4/rl_ac.py` module.\n",
    "1. Set the hyperparameters in the `part1_aac_hyperparams()` function of the `hw4.answers` module."
   ]
  },
  {
   "cell_type": "code",
   "execution_count": null,
   "metadata": {
    "pycharm": {
     "is_executing": false
    }
   },
   "outputs": [],
   "source": [
    "import hw4.rl_ac as hw4ac\n",
    "\n",
    "hp = hw4.answers.part1_aac_hyperparams()\n",
    "pv_net = hw4ac.AACPolicyNet.build_for_env(env, device, **hp)\n",
    "pv_net"
   ]
  },
  {
   "cell_type": "markdown",
   "metadata": {},
   "source": [
    "**TODO**: Complete the implementation of the agent class, `AACPolicyAgent`, in the `hw4/rl_ac.py` module."
   ]
  },
  {
   "cell_type": "code",
   "execution_count": null,
   "metadata": {
    "pycharm": {
     "is_executing": false
    }
   },
   "outputs": [],
   "source": [
    "agent = hw4ac.AACPolicyAgent(env, pv_net, device)\n",
    "exp = agent.step()\n",
    "\n",
    "test.assertIsInstance(exp, hw4pg.Experience)\n",
    "print(exp)"
   ]
  },
  {
   "cell_type": "markdown",
   "metadata": {},
   "source": [
    "**TODO**: Implement the AAC loss function as the class `AACPolicyGradientLoss` in the `hw4/rl_ac.py` module."
   ]
  },
  {
   "cell_type": "code",
   "execution_count": null,
   "metadata": {
    "pycharm": {
     "is_executing": false
    }
   },
   "outputs": [],
   "source": [
    "loss_fn_aac = hw4ac.AACPolicyGradientLoss(delta=1.)\n",
    "test_state_values = torch.ones(test_action_scores.shape[0], 1)\n",
    "loss_t, _ = loss_fn_aac(test_batch, (test_action_scores, test_state_values))\n",
    "\n",
    "print('loss_t =', loss_t)\n",
    "test.assertAlmostEqual(loss_t.item(), 975.230895, delta=1e-3)"
   ]
  },
  {
   "cell_type": "markdown",
   "metadata": {},
   "source": [
    "### Experimentation"
   ]
  },
  {
   "cell_type": "markdown",
   "metadata": {},
   "source": [
    "Let's run the same experiment as before, but with the AAC method and compare the results."
   ]
  },
  {
   "cell_type": "code",
   "execution_count": null,
   "metadata": {
    "pycharm": {
     "is_executing": false
    }
   },
   "outputs": [],
   "source": [
    "def train_aac(baseline=False, entropy=False, **train_kwargs):\n",
    "    hp = hw4.answers.part1_aac_hyperparams()\n",
    "    loss_fns = [hw4ac.AACPolicyGradientLoss(hp['delta']), hw4pg.ActionEntropyLoss(ENV_N_ACTIONS, hp['beta'])]\n",
    "    return train_rl(hw4ac.AACPolicyAgent, hw4ac.AACPolicyNet, loss_fns, hp, **train_kwargs)"
   ]
  },
  {
   "cell_type": "code",
   "execution_count": null,
   "metadata": {
    "pycharm": {
     "is_executing": false
    }
   },
   "outputs": [],
   "source": [
    "training_data_filename = os.path.join('results', f'part1_exp_aac.dat')\n",
    "\n",
    "# Set to True to force re-run (careful, will delete old experiment results)\n",
    "force_run = False\n",
    "\n",
    "if os.path.isfile(training_data_filename) and not force_run:\n",
    "    print(f'=== results file {training_data_filename} exists, skipping experiments.')\n",
    "    results_aac = load_training_data(training_data_filename)\n",
    "    \n",
    "else:\n",
    "    print(f'=== Running AAC experiment')\n",
    "    training_data = train_aac(max_episodes=exp_max_episodes)\n",
    "    results_aac = dict(aac=training_data)\n",
    "    dump_training_data(results_aac, training_data_filename)"
   ]
  },
  {
   "cell_type": "code",
   "execution_count": null,
   "metadata": {
    "pycharm": {
     "is_executing": false
    }
   },
   "outputs": [],
   "source": [
    "experiments_results_fig = plot_experiment_results(results)\n",
    "plot_experiment_results(results_aac, fig=experiments_results_fig);"
   ]
  },
  {
   "cell_type": "markdown",
   "metadata": {},
   "source": [
    "You should get better results with the AAC method, so this time the bar is higher (again, you should aim for a mean reward of 100+).\n",
    "Compare the graphs with combined PG method and see if they make sense."
   ]
  },
  {
   "cell_type": "code",
   "execution_count": null,
   "metadata": {
    "pycharm": {
     "is_executing": false
    }
   },
   "outputs": [],
   "source": [
    "best_aac_mean_reward = max(results_aac['aac']['mean_reward'])\n",
    "print(f'Best AAC mean reward: {best_aac_mean_reward:.2f}')\n",
    "\n",
    "test.assertGreater(best_aac_mean_reward, 50)"
   ]
  },
  {
   "cell_type": "markdown",
   "metadata": {},
   "source": [
    "### Final model training and visualization"
   ]
  },
  {
   "cell_type": "markdown",
   "metadata": {},
   "source": [
    "Now, using your best model and hyperparams, let's train model for much longer and see the performance.\n",
    "Just for fun, we'll also visualize an episode every now and then so that we can see how well the agent is playing."
   ]
  },
  {
   "cell_type": "markdown",
   "metadata": {},
   "source": [
    "**TODO**:\n",
    "- Run the following block to train.\n",
    "- Tweak model or hyperparams as necessary.\n",
    "- Aim for high mean reward, at least 150+. It's possible to get over 200.\n",
    "- When training is done and you're satisfied with the model's outputs, rename the checkpoint file by adding `_final` to the file name.\n",
    "  This will cause the block to skip training and instead load your saved model when running the homework submission script.\n",
    "  Note that your submission zip file will not include the checkpoint file. This is OK."
   ]
  },
  {
   "cell_type": "code",
   "execution_count": null,
   "metadata": {
    "pycharm": {
     "is_executing": false
    }
   },
   "outputs": [],
   "source": [
    "import IPython.display\n",
    "\n",
    "CHECKPOINTS_FILE = f'checkpoints/{ENV_NAME}-ac.dat'\n",
    "CHECKPOINTS_FILE_FINAL = f'checkpoints/{ENV_NAME}-ac_final.dat'\n",
    "TARGET_REWARD = 125\n",
    "MAX_EPISODES = 15_000\n",
    "\n",
    "def post_batch_fn(batch_idx, p_net, batch, print_every=20, final=False):\n",
    "    if not final and batch_idx % print_every != 0:\n",
    "        return\n",
    "    env, n_steps, reward = hw4ac.AACPolicyAgent.monitor_episode(ENV_NAME, p_net)\n",
    "    html = show_monitor_video(env, width=\"500\")\n",
    "    IPython.display.clear_output(wait=True)\n",
    "    print(f'Monitor@#{batch_idx}: n_steps={n_steps}, total_reward={reward:.3f}, final={final}')\n",
    "    IPython.display.display_html(html)\n",
    "    \n",
    "    \n",
    "if os.path.isfile(CHECKPOINTS_FILE_FINAL):\n",
    "    print(f'=== {CHECKPOINTS_FILE_FINAL} exists, skipping training...')\n",
    "    checkpoint_data = torch.load(CHECKPOINTS_FILE_FINAL)\n",
    "    hp = hw4.answers.part1_aac_hyperparams()\n",
    "    pv_net = hw4ac.AACPolicyNet.build_for_env(env, **hp)\n",
    "    pv_net.load_state_dict(checkpoint_data['params'])\n",
    "    print(f'=== Running best model...')\n",
    "    env, n_steps, reward = hw4ac.AACPolicyAgent.monitor_episode(ENV_NAME, pv_net)\n",
    "    print(f'=== Best model ran for {n_steps} steps. Total reward: {reward:.2f}')\n",
    "    IPython.display.display_html(show_monitor_video(env))\n",
    "    best_mean_reward = checkpoint_data[\"best_mean_reward\"]\n",
    "else:\n",
    "    print(f'=== Starting training...')\n",
    "    train_data = train_aac(TARGET_REWARD, max_episodes=MAX_EPISODES,\n",
    "                           seed=None, checkpoints_file=CHECKPOINTS_FILE, post_batch_fn=post_batch_fn)\n",
    "    print(f'=== Done, ', end='')\n",
    "    best_mean_reward = train_data[\"best_mean_reward\"][-1]\n",
    "    print(f'num_episodes={train_data[\"episode_num\"][-1]}, best_mean_reward={best_mean_reward:.1f}')\n",
    "          \n",
    "test.assertGreaterEqual(best_mean_reward, TARGET_REWARD)"
   ]
  },
  {
   "cell_type": "markdown",
   "metadata": {},
   "source": [
    "## Questions\n",
    "<a id=part1_3></a>"
   ]
  },
  {
   "cell_type": "markdown",
   "metadata": {},
   "source": [
    "**TODO**: Answer the following questions. Write your answers in the appropriate variables in the module `hw4/answers.py`."
   ]
  },
  {
   "cell_type": "code",
   "execution_count": null,
   "metadata": {
    "pycharm": {
     "is_executing": false
    }
   },
   "outputs": [],
   "source": [
    "from cs236781.answers import display_answer\n",
    "import hw4.answers"
   ]
  },
  {
   "cell_type": "markdown",
   "metadata": {},
   "source": [
    "### Question 1\n",
    "\n",
    "Explain qualitatively why subtracting a baseline in the policy-gradient helps reduce it's variance.\n",
    "Specifically, give an example where it helps."
   ]
  },
  {
   "cell_type": "code",
   "execution_count": null,
   "metadata": {
    "pycharm": {
     "is_executing": false
    }
   },
   "outputs": [],
   "source": [
    "display_answer(hw4.answers.part1_q1)"
   ]
  },
  {
   "cell_type": "markdown",
   "metadata": {},
   "source": [
    "### Question 2\n",
    "\n",
    "In AAC, when using the estimated q-values as regression targets for our state-values, why do we get a valid approximation?\n",
    "Hint: how is $v_\\pi(s)$ expressed in terms of $q_\\pi(s,a)$?"
   ]
  },
  {
   "cell_type": "code",
   "execution_count": null,
   "metadata": {
    "pycharm": {
     "is_executing": false
    }
   },
   "outputs": [],
   "source": [
    "display_answer(hw4.answers.part1_q2)"
   ]
  },
  {
   "cell_type": "markdown",
   "metadata": {},
   "source": [
    "### Question 3\n",
    "\n",
    "1. Analyze and explain the graphs you got in first experiment run.\n",
    "2. Compare the experiment graphs you got with the AAC method to the regular PG method (`cpg`)."
   ]
  },
  {
   "cell_type": "code",
   "execution_count": null,
   "metadata": {
    "pycharm": {
     "is_executing": false
    }
   },
   "outputs": [],
   "source": [
    "display_answer(hw4.answers.part1_q3)"
   ]
  }
 ],
 "metadata": {
  "kernelspec": {
   "display_name": "Python 3",
   "language": "python",
   "name": "python3"
  },
  "language_info": {
   "codemirror_mode": {
    "name": "ipython",
    "version": 3
   },
   "file_extension": ".py",
   "mimetype": "text/x-python",
   "name": "python",
   "nbconvert_exporter": "python",
   "pygments_lexer": "ipython3",
   "version": "3.7.4"
  },
  "pycharm": {
   "stem_cell": {
    "cell_type": "raw",
    "metadata": {
     "collapsed": false
    },
    "source": []
   }
  }
 },
 "nbformat": 4,
 "nbformat_minor": 4
}