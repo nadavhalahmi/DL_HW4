{
 "cells": [
  {
   "cell_type": "markdown",
   "metadata": {},
   "source": [
    "$$\n",
    "\\newcommand{\\mat}[1]{\\boldsymbol {#1}}\n",
    "\\newcommand{\\mattr}[1]{\\boldsymbol {#1}^\\top}\n",
    "\\newcommand{\\matinv}[1]{\\boldsymbol {#1}^{-1}}\n",
    "\\newcommand{\\vec}[1]{\\boldsymbol {#1}}\n",
    "\\newcommand{\\vectr}[1]{\\boldsymbol {#1}^\\top}\n",
    "\\newcommand{\\rvar}[1]{\\mathrm {#1}}\n",
    "\\newcommand{\\rvec}[1]{\\boldsymbol{\\mathrm{#1}}}\n",
    "\\newcommand{\\diag}{\\mathop{\\mathrm {diag}}}\n",
    "\\newcommand{\\set}[1]{\\mathbb {#1}}\n",
    "\\newcommand{\\cset}[1]{\\mathcal{#1}}\n",
    "\\newcommand{\\norm}[1]{\\left\\lVert#1\\right\\rVert}\n",
    "\\newcommand{\\pderiv}[2]{\\frac{\\partial #1}{\\partial #2}}\n",
    "\\newcommand{\\bb}[1]{\\boldsymbol{#1}}\n",
    "\\newcommand{\\E}[2][]{\\mathbb{E}_{#1}\\left[#2\\right]}\n",
    "\\newcommand{\\ip}[3]{\\left<#1,#2\\right>_{#3}}\n",
    "\\newcommand{\\given}[]{\\,\\middle\\vert\\,}\n",
    "\\newcommand{\\DKL}[2]{\\cset{D}_{\\text{KL}}\\left(#1\\,\\Vert\\, #2\\right)}\n",
    "\\newcommand{\\grad}[]{\\nabla}\n",
    "$$\n",
    "# Part 1: Deep Reinforcement Learning\n",
    "<a id=part1></a>"
   ]
  },
  {
   "cell_type": "markdown",
   "metadata": {},
   "source": [
    "In the tutorial we have seen value-based reinforcement learning, in which we learn to approximate the action-value function $q(s,a)$.\n",
    "\n",
    "In this exercise we'll explore a different approach, directly learning the agent's policy distribution, $\\pi(a|s)$\n",
    "by using *policy gradients*, in order to safely land on the moon!"
   ]
  },
  {
   "cell_type": "code",
   "execution_count": 233,
   "metadata": {
    "pycharm": {
     "is_executing": false
    }
   },
   "outputs": [
    {
     "name": "stdout",
     "output_type": "stream",
     "text": [
      "The autoreload extension is already loaded. To reload it, use:\n",
      "  %reload_ext autoreload\n"
     ]
    }
   ],
   "source": [
    "%load_ext autoreload\n",
    "%autoreload 2\n",
    "%matplotlib inline\n",
    "\n",
    "import unittest\n",
    "import os\n",
    "import sys\n",
    "import pathlib\n",
    "import urllib\n",
    "import shutil\n",
    "import re\n",
    "\n",
    "import numpy as np\n",
    "import torch\n",
    "import torch.nn as nn\n",
    "import torch.optim as optim\n",
    "import matplotlib.pyplot as plt"
   ]
  },
  {
   "cell_type": "code",
   "execution_count": 234,
   "metadata": {
    "pycharm": {
     "is_executing": false
    }
   },
   "outputs": [
    {
     "name": "stdout",
     "output_type": "stream",
     "text": [
      "Using device: cpu\n"
     ]
    }
   ],
   "source": [
    "test = unittest.TestCase()\n",
    "plt.rcParams.update({'font.size': 12})\n",
    "device = torch.device('cuda' if torch.cuda.is_available() else 'cpu')\n",
    "\n",
    "# Prefer CPU, GPU won't help much in this assignment\n",
    "device = 'cpu'\n",
    "print('Using device:', device)\n",
    "\n",
    "# Seed for deterministic tests\n",
    "SEED = 42"
   ]
  },
  {
   "cell_type": "markdown",
   "metadata": {},
   "source": [
    "Some technical notes before we begin:\n",
    "\n",
    "- This part does not require a GPU. We won't need large models, and the computation bottleneck will be the generation of episodes to train on.\n",
    "- In order to run this notebook on the server, you must prepend the `xvfb-run` command to create a virtual screen. For example,\n",
    "    - to run the jupyter lab script with `srun` do\n",
    "        ```\n",
    "        srun -c2 --gres=gpu:1 xvfb-run -a -s \"-screen 0 1440x900x24\" ./jupyter-lab.sh\n",
    "        ```\n",
    "    - To run the submission script, do\n",
    "        ```\n",
    "        srun -c2 xvfb-run -a -s \"-screen 0 1440x900x24\" python main.py prepare-submission ...\n",
    "        ```\n",
    "    and so on.\n",
    "- The OpenAI `gym` library is not officially supported on windows. However it should be possible to install and run the necessary environment for this exercise. However, we cannot provide you with technical support for this. If you have trouble installing locally, we suggest running on the course server."
   ]
  },
  {
   "cell_type": "markdown",
   "metadata": {},
   "source": [
    "## Policy gradients\n",
    "<a id=part1_1></a>"
   ]
  },
  {
   "cell_type": "markdown",
   "metadata": {},
   "source": [
    "Recall from the tutorial that we define the **policy** of an agent as the conditional distribution,\n",
    "$$\n",
    "\\pi(a|s) = \\Pr(a_t=a\\vert s_t=s),\n",
    "$$\n",
    "which defines how likely the agent is to take action $a$ at state $s$.\n",
    "\n",
    "Furthermore we define the action-value function,\n",
    "$$\n",
    "q_{\\pi}(s,a) = \\E{g_t(\\tau)|s_t = s,a_t=a,\\pi}\n",
    "$$\n",
    "where \n",
    "$$\n",
    "g_t(\\tau) = r_{t+1}+\\gamma r_{t+2} + \\dots = \\sum_{k=0}^{\\infty} \\gamma^k r_{t+1+k},\n",
    "$$\n",
    "is the total discounted reward of a specific trajectory $\\tau$ from time $t$, and the expectation in $q$ is over all possible\n",
    "trajectories,\n",
    "$\n",
    "\\tau=\\left\\{ (s_0,a_0,r_1,s_1), \\dots (s_T,a_T,r_{T+1},s_{T+1}) \\right\\}.\n",
    "$"
   ]
  },
  {
   "cell_type": "markdown",
   "metadata": {},
   "source": [
    "In the tutorial we saw that we can learn a value function starting with some random function and\n",
    "updating it iteratively by using the **Bellman optimality equation**.\n",
    "Given that we have some action-value function, we can immediately create a policy based on that\n",
    "by simply selecting an action which maximize the action-value at the current state, i.e.\n",
    "$$\n",
    "\\pi(a|s) =\n",
    "\\begin{cases}\n",
    "1, & a = \\arg\\max_{a'\\in\\cset{A}} q(s,a') \\\\\n",
    "0, & \\text{else}\n",
    "\\end{cases}.\n",
    "$$\n",
    "This is called $q$-learning. This approach aims to obtain a policy indirectly through the action-value function.\n",
    "Yet, in most cases we don't actually care about knowing the value of particular states,\n",
    "since all we need is a good policy for our agent. \n",
    "\n",
    "Here we'll take a different approach and learn a policy distribution $\\pi(a|s)$ directly - by using **policy gradients**."
   ]
  },
  {
   "cell_type": "markdown",
   "metadata": {},
   "source": [
    "### Formalism"
   ]
  },
  {
   "cell_type": "markdown",
   "metadata": {},
   "source": [
    "We define a parametric policy, $\\pi_\\vec{\\theta}(a|s)$, and maximize total discounted reward (or minimize the negative reward):\n",
    "$$\n",
    "\\mathcal{L}(\\vec{\\theta})=\\E[\\tau]{-g(\\tau)|\\pi_\\vec{\\theta}} = -\\int g(\\tau)p(\\tau|\\vec{\\theta})d\\tau,\n",
    "$$\n",
    "where $p(\\tau|\\vec{\\theta})$ is the probability of a specific trajectory $\\tau$ under the policy defined by $\\vec{\\theta}$.\n"
   ]
  },
  {
   "cell_type": "markdown",
   "metadata": {},
   "source": [
    "Since we want to find the parameters $\\vec{\\theta}$ which minimize $\\mathcal{L}(\\vec{\\theta})$, we'll compute the gradient w.r.t. $\\vec{\\theta}$:\n",
    "$$\n",
    "\\grad\\mathcal{L}(\\vec{\\theta}) = -\\int g(\\tau)\\grad p(\\tau|\\vec{\\theta})d\\tau.\n",
    "$$\n",
    "\n",
    "Unfortunately, if we try to write $p(\\tau|\\vec{\\theta})$ explicitly,\n",
    "we find that computing it's gradient with respect to $\\vec{\\theta}$ is\n",
    "quite intractable due to a huge product of terms depending on $\\vec{\\theta}$:\n",
    "$$\n",
    "p(\\tau|\\vec{\\theta})=p\\left(\\left\\{ (s_t,a_t,r_{t+1},s_{t+1})\\right\\}_{t\\geq0}\\given\\vec{\\theta}\\right)\n",
    "=p(s_0)\\prod_{t\\geq0} \\pi_{\\vec{\\theta}}(a_t|s_t)p(s_{t+1}|s_t,a_t).\n",
    "$$"
   ]
  },
  {
   "cell_type": "markdown",
   "metadata": {},
   "source": [
    "However, by using the fact that $\\grad_{x}\\log(f(x))=\\frac{\\grad_{x}f(x)}{f(x)}$, we can convert the product into a sum:\n",
    "$$\n",
    "\\begin{align}\n",
    "\\grad\\mathcal{L}(\\vec{\\theta})\n",
    "&= -\\int g(\\tau)\\grad p(\\tau|\\vec{\\theta})d\\tau\n",
    "= -\\int g(\\tau)\\frac{\\grad p(\\tau|\\vec{\\theta})}{p(\\tau|\\vec{\\theta})}p(\\tau|\\vec{\\theta})d\\tau \\\\\n",
    "&= -\\int g(\\tau)\\grad\\log\\left(p(\\tau|\\vec{\\theta})\\right)p(\\tau|\\vec{\\theta})d\\tau \\\\\n",
    "&= -\\int g(\\tau)\\grad\\log\\left( p(s_0)\\prod_{t\\geq0} \\pi_{\\vec{\\theta}}(a_t|s_t)p(s_{t+1}|s_t,a_t) \\right)\n",
    "p(\\tau|\\vec{\\theta})d\\tau \\\\\n",
    "&= -\\int g(\\tau)\\grad\\left( \\log p(s_0) + \\sum_{t\\geq0} \\log \\pi_{\\vec{\\theta}}(a_t|s_t) + \n",
    "\\sum_{t\\geq0}\\log p(s_{t+1}|s_t,a_t) \\right) p(\\tau|\\vec{\\theta})d\\tau \\\\\n",
    "&= -\\int g(\\tau)\\sum_{t\\geq0} \\grad\\log \\pi_{\\vec{\\theta}}(a_t|s_t) p(\\tau|\\vec{\\theta})d\\tau \\\\\n",
    "&= \\E[\\tau]{-g(\\tau)\\sum_{t\\geq0} \\grad\\log \\pi_{\\vec{\\theta}}(a_t|s_t)}.\n",
    "\\end{align}\n",
    "$$"
   ]
  },
  {
   "cell_type": "markdown",
   "metadata": {},
   "source": [
    "This is the \"vanilla\" version of the policy gradient. We can interpret is as a weighted log-likelihood function.\n",
    "The log-policy is the log-likelihood term we wish to maximize and the total discounted reward acts as a weight: high-return positive\n",
    "trajectories will cause the probability of actions taken during them to increase, and negative-return trajectories will cause the\n",
    "probabilities of actions taken to decrease.\n",
    "\n",
    "In the following figures we see three trajectories: high-return positive-reward (green), low-return positive-reward (yellow) and negative-return (red) and the action probabilities along the trajectories after the update. Credit: Sergey Levine.\n",
    "\n",
    "|<strong></strong>||\n",
    "|-----| ----|\n",
    "|<img src=\"imgs/pg1.png\" height=\"200\">|<img src=\"imgs/pg2.png\" height=\"200\">|\n"
   ]
  },
  {
   "cell_type": "markdown",
   "metadata": {},
   "source": [
    "The major drawback of the policy-gradient is it's high variance, which causes erratic optimization behavior and therefore slow convergence.\n",
    "One reason for this is that the log-policy weight term, $g(\\tau)$ can vary wildly between different trajectories, even if they're similar in\n",
    "actions. Later on we'll implement the loss and explore some methods of variance reduction."
   ]
  },
  {
   "cell_type": "markdown",
   "metadata": {},
   "source": [
    "### Landing on the moon with policy gradients"
   ]
  },
  {
   "cell_type": "markdown",
   "metadata": {},
   "source": [
    "In the spirit of the recent achievements of the Israeli space industry,\n",
    "we'll apply our reinforcement learning skills to solve a simple game called **LunarLander**.\n",
    "\n",
    "This game is available as an `environment` in OpenAI `gym`.\n",
    "\n",
    "<video loop autoplay src=\"http://gym.openai.com/videos/2019-04-06--My9IiAbqha/LunarLander-v2/original.mp4\" />"
   ]
  },
  {
   "cell_type": "markdown",
   "metadata": {},
   "source": [
    "In this environment, you need to control the lander and get it to land safely on the moon.\n",
    "To do so, you must apply bottom, right or left thrusters (each are either fully on or fully off)\n",
    "and get it to land within the designated zone as quickly as possible and with minimal wasted fuel."
   ]
  },
  {
   "cell_type": "code",
   "execution_count": 235,
   "metadata": {
    "pycharm": {
     "is_executing": false
    }
   },
   "outputs": [],
   "source": [
    "import gym\n",
    "\n",
    "# Just for fun :) ... but also to re-define the default max number of steps\n",
    "ENV_NAME = 'Beresheet-v2'\n",
    "MAX_EPISODE_STEPS = 300\n",
    "if ENV_NAME not in gym.envs.registry.env_specs:\n",
    "    gym.register(\n",
    "        id=ENV_NAME,\n",
    "        entry_point='gym.envs.box2d:LunarLander',\n",
    "        max_episode_steps=MAX_EPISODE_STEPS,\n",
    "        reward_threshold=200,\n",
    "    )"
   ]
  },
  {
   "cell_type": "code",
   "execution_count": 236,
   "metadata": {
    "pycharm": {
     "is_executing": false
    }
   },
   "outputs": [
    {
     "name": "stdout",
     "output_type": "stream",
     "text": [
      "<TimeLimit<LunarLander<Beresheet-v2>>>\n",
      "observations space: Box(8,)\n",
      "action space: Discrete(4)\n"
     ]
    }
   ],
   "source": [
    "import gym\n",
    "\n",
    "env = gym.make(ENV_NAME)\n",
    "\n",
    "print(env)\n",
    "print(f'observations space: {env.observation_space}')\n",
    "print(f'action space: {env.action_space}')\n",
    "\n",
    "ENV_N_ACTIONS = env.action_space.n\n",
    "ENV_N_OBSERVATIONS = env.observation_space.shape[0]"
   ]
  },
  {
   "cell_type": "markdown",
   "metadata": {},
   "source": [
    "The observations at each step is the Lander's position, velocity, angle, angular velocity and ground contact state.\n",
    "The actions are no-op, fire left truster, bottom thruster and right thruster.\n",
    "\n",
    "You are **highly encouraged** to read the [documentation](https://github.com/openai/gym/blob/master/gym/envs/box2d/lunar_lander.py) in the source code of the `LunarLander` environment to understand the reward system,\n",
    "and see how the actions and observations are created."
   ]
  },
  {
   "cell_type": "markdown",
   "metadata": {},
   "source": [
    "### Policy network and Agent"
   ]
  },
  {
   "cell_type": "markdown",
   "metadata": {},
   "source": [
    "Let's start with our policy-model. This will be a simple neural net, which should take an observation and return a score for each possible action."
   ]
  },
  {
   "cell_type": "markdown",
   "metadata": {},
   "source": [
    "**TODO**:\n",
    "1. Implement all methods in the `PolicyNet` class in the `hw4/rl_pg.py` module.\n",
    "   Start small. A simple MLP with a few hidden layers is a good starting point. You can come back and change it later based on the the experiments. The we'll use the `build_for_env` method to instantiate a `PolicyNet` based on the configuration of a given environment.\n",
    "2. If you need hyperparameters to configure your model (e.g. number of hidden layers, sizes, etc.), add them in `part1_pg_hyperparams()` in `hw4/answers.py`."
   ]
  },
  {
   "cell_type": "code",
   "execution_count": 237,
   "metadata": {
    "pycharm": {
     "is_executing": false
    }
   },
   "outputs": [
    {
     "data": {
      "text/plain": [
       "PolicyNet(\n",
       "  (our_net): Sequential(\n",
       "    (0): Linear(in_features=8, out_features=128, bias=True)\n",
       "    (1): ReLU()\n",
       "    (2): Linear(in_features=128, out_features=64, bias=True)\n",
       "    (3): ReLU()\n",
       "    (4): Linear(in_features=64, out_features=4, bias=True)\n",
       "  )\n",
       ")"
      ]
     },
     "execution_count": 237,
     "metadata": {},
     "output_type": "execute_result"
    }
   ],
   "source": [
    "import hw4.rl_pg as hw4pg\n",
    "import hw4.answers\n",
    "\n",
    "hp = hw4.answers.part1_pg_hyperparams()\n",
    "\n",
    "# You can add keyword-args to this function which will be populated from the hyperparameters dict.\n",
    "p_net = hw4pg.PolicyNet.build_for_env(env, device, **hp)\n",
    "p_net"
   ]
  },
  {
   "cell_type": "markdown",
   "metadata": {},
   "source": [
    "Now we need an **agent**. The purpose of our agent will be to act according to the current policy and generate experiences.\n",
    "Our `PolicyAgent` will use a `PolicyNet` as the current policy function.\n",
    "\n",
    "\n",
    "We'll also define some extra datatypes to help us represent the data generated by our agent.\n",
    "You can find the `Experience`, `Episode` and `TrainBatch` datatypes in the `hw4/rl_data.py` module."
   ]
  },
  {
   "cell_type": "markdown",
   "metadata": {},
   "source": [
    "**TODO**: Implement the `current_action_distribution()` method of the `PolicyAgent` class in the `hw4/rl_pg.py` module."
   ]
  },
  {
   "cell_type": "code",
   "execution_count": 238,
   "metadata": {
    "pycharm": {
     "is_executing": false
    }
   },
   "outputs": [
    {
     "name": "stdout",
     "output_type": "stream",
     "text": [
      "tensor([0.2529, 0.2350, 0.2749, 0.2372])\n"
     ]
    }
   ],
   "source": [
    "for i in range (10):\n",
    "    agent = hw4pg.PolicyAgent(env, p_net, device)\n",
    "    d = agent.current_action_distribution()\n",
    "    test.assertSequenceEqual(d.shape, (env.action_space.n,))\n",
    "    test.assertAlmostEqual(d.sum(), 1.0, delta=1e-5)\n",
    "    \n",
    "print(d)"
   ]
  },
  {
   "cell_type": "markdown",
   "metadata": {},
   "source": [
    "**TODO**: Implement the `step()` method of the `PolicyAgent`."
   ]
  },
  {
   "cell_type": "code",
   "execution_count": 239,
   "metadata": {
    "pycharm": {
     "is_executing": false
    }
   },
   "outputs": [
    {
     "name": "stdout",
     "output_type": "stream",
     "text": [
      "Experience(state=array([-0.00315819,  1.428416  , -0.16674729,  0.376038  ,  0.00587803,\n",
      "        0.08192714,  0.        ,  0.        ], dtype=float32), action=1, reward=0.6278902364030625, is_done=False)\n"
     ]
    }
   ],
   "source": [
    "agent = hw4pg.PolicyAgent(env, p_net, device)\n",
    "exp = agent.step()\n",
    "\n",
    "test.assertIsInstance(exp, hw4pg.Experience)\n",
    "print(exp)"
   ]
  },
  {
   "cell_type": "markdown",
   "metadata": {},
   "source": [
    "To test our agent, we'll write some code that allows it to play an environment. We'll use the `Monitor`\n",
    "wrapper in `gym` to generate a video of the episode for visual debugging."
   ]
  },
  {
   "cell_type": "markdown",
   "metadata": {},
   "source": [
    "**TODO**: Complete the implementation of the `monitor_episode()` method of the `PolicyAgent`."
   ]
  },
  {
   "cell_type": "code",
   "execution_count": 240,
   "metadata": {
    "pycharm": {
     "is_executing": false
    }
   },
   "outputs": [],
   "source": [
    "env, n_steps, reward = agent.monitor_episode(ENV_NAME, p_net, device=device)"
   ]
  },
  {
   "cell_type": "markdown",
   "metadata": {},
   "source": [
    "To display the Monitor video in this notebook, we'll use a helper function from our `jupyter_utils` and a small wrapper that extracts the path of the last video file. "
   ]
  },
  {
   "cell_type": "code",
   "execution_count": 241,
   "metadata": {
    "pycharm": {
     "is_executing": false
    }
   },
   "outputs": [],
   "source": [
    "import cs236781.jupyter_utils as jupyter_utils\n",
    "\n",
    "def show_monitor_video(monitor_env, idx=0, **kw):\n",
    "    # Extract video path\n",
    "    video_path = monitor_env.videos[idx][0]\n",
    "    video_path = os.path.relpath(video_path, start=os.path.curdir)\n",
    "    \n",
    "    # Use helper function to embed the video\n",
    "    return jupyter_utils.show_video_in_notebook(video_path, **kw)"
   ]
  },
  {
   "cell_type": "code",
   "execution_count": 242,
   "metadata": {
    "pycharm": {
     "is_executing": false
    }
   },
   "outputs": [
    {
     "name": "stdout",
     "output_type": "stream",
     "text": [
      "Episode ran for 105 steps. Total reward: -282.14\n"
     ]
    },
    {
     "data": {
      "text/html": [
       "<video src=\"data:video/mp4;base64,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\" controls autoplay width=\"500\" height=\"auto\" />"
      ],
      "text/plain": [
       "<IPython.core.display.HTML object>"
      ]
     },
     "execution_count": 242,
     "metadata": {},
     "output_type": "execute_result"
    }
   ],
   "source": [
    "print(f'Episode ran for {n_steps} steps. Total reward: {reward:.2f}')\n",
    "\n",
    "show_monitor_video(env, -1)"
   ]
  },
  {
   "cell_type": "markdown",
   "metadata": {},
   "source": [
    "### Training data"
   ]
  },
  {
   "cell_type": "markdown",
   "metadata": {},
   "source": [
    "The next step is to create data to train on.\n",
    "We need to train on batches of state-action pairs, so that our network can learn to predict the actions.\n",
    "\n",
    "We'll split this task into three parts:\n",
    "1. Generate a batch of `Episode`s, by using an `Agent` that's playing according to our current policy network.\n",
    "   Each `Episode` object contains the `Experience` objects created by the agent.\n",
    "2. Calculate the total discounted reward for each state we encountered and action we took. This is our action-value estimate.\n",
    "3. Convert the `Episode`s into a batch of tensors to train on.\n",
    "   Each batch will contain states, action taken per state, reward accrued, and the calculated estimated state-values.\n",
    "   These will be stored in a `TrainBatch` object.\n"
   ]
  },
  {
   "cell_type": "markdown",
   "metadata": {},
   "source": [
    "**TODO**: Complete the implementation of the `episode_batch_generator()` method in the `TrainBatchDataset` class within the `hw4.rl_data` module. This will address part 1 in the list above."
   ]
  },
  {
   "cell_type": "code",
   "execution_count": 243,
   "metadata": {
    "pycharm": {
     "is_executing": true
    }
   },
   "outputs": [
    {
     "name": "stdout",
     "output_type": "stream",
     "text": [
      "First episode: Episode(total_reward=-60.95, #experences=64)\n"
     ]
    }
   ],
   "source": [
    "import hw4.rl_data as hw4data\n",
    "\n",
    "def agent_fn():\n",
    "    env = gym.make(ENV_NAME)\n",
    "    hp = hw4.answers.part1_pg_hyperparams()\n",
    "    p_net = hw4pg.PolicyNet.build_for_env(env, device, **hp)\n",
    "    return hw4pg.PolicyAgent(env, p_net, device)\n",
    "    \n",
    "ds = hw4data.TrainBatchDataset(agent_fn, episode_batch_size=8, gamma=0.9)\n",
    "batch_gen = ds.episode_batch_generator()\n",
    "b = next(batch_gen)\n",
    "print('First episode:', b[0])\n",
    "\n",
    "test.assertEqual(len(b), 8)\n",
    "for ep in b:\n",
    "    test.assertIsInstance(ep, hw4data.Episode)\n",
    "    \n",
    "    # Check that it's a full episode\n",
    "    is_done = [exp.is_done for exp in ep.experiences]\n",
    "    test.assertFalse(any(is_done[0:-1]))\n",
    "    test.assertTrue(is_done[-1])"
   ]
  },
  {
   "cell_type": "markdown",
   "metadata": {},
   "source": [
    "**TODO**: Complete the implementation of the `calc_qvals()` method in the `Episode` class.\n",
    "This will address part 2.\n",
    "These q-values are an estimate of the actual action value function: $$\\hat{q}_{t} = \\sum_{t'\\geq t} \\gamma^{t'-t}r_{t'+1}.$$"
   ]
  },
  {
   "cell_type": "code",
   "execution_count": 244,
   "metadata": {
    "pycharm": {
     "is_executing": false
    }
   },
   "outputs": [],
   "source": [
    "np.random.seed(SEED)\n",
    "test_rewards = np.random.randint(-10, 10, 100)\n",
    "test_experiences = [hw4pg.Experience(None,None,r,False) for r in test_rewards] \n",
    "test_episode = hw4data.Episode(np.sum(test_rewards), test_experiences)\n",
    "\n",
    "qvals = test_episode.calc_qvals(0.9)\n",
    "qvals = list(qvals)\n",
    "\n",
    "expected_qvals = np.load(os.path.join('tests', 'assets', 'part1_expected_qvals.npy'))\n",
    "for i in range(len(test_rewards)):\n",
    "    test.assertAlmostEqual(expected_qvals[i], qvals[i], delta=1e-3)"
   ]
  },
  {
   "cell_type": "markdown",
   "metadata": {},
   "source": [
    "**TODO**: Complete the implementation of the `from_episodes()` method in the `TrainBatch` class.\n",
    "This will address part 3.\n",
    "\n",
    "Notes:\n",
    "- The `TrainBatchDataset` class provides a generator function that will use the above function to lazily generate batches of training samples and labels on demand.\n",
    "- This allows us to use a standard `PyTorch` dataloader to wrap our Dataset and provide us with parallel data loading for free!\n",
    "  This means we can run multiple environments with multiple agents in separate background processes to generate data for training and thus prevent the data loading bottleneck which is caused by the fact that we must generate full Episodes to train on in order to calculate the q-values.\n",
    "- We'll set the `DataLoader`'s `batch_size` to `None` because we have already implemented custom batching in our dataset."
   ]
  },
  {
   "cell_type": "code",
   "execution_count": 245,
   "metadata": {
    "pycharm": {
     "is_executing": false
    }
   },
   "outputs": [
    {
     "name": "stdout",
     "output_type": "stream",
     "text": [
      "#0: TrainBatch(states: torch.Size([749, 8]), actions: torch.Size([749]), q_vals: torch.Size([749])), num_episodes: 8)\n",
      "#1: TrainBatch(states: torch.Size([741, 8]), actions: torch.Size([741]), q_vals: torch.Size([741])), num_episodes: 8)\n",
      "#2: TrainBatch(states: torch.Size([659, 8]), actions: torch.Size([659]), q_vals: torch.Size([659])), num_episodes: 8)\n",
      "#3: TrainBatch(states: torch.Size([801, 8]), actions: torch.Size([801]), q_vals: torch.Size([801])), num_episodes: 8)\n",
      "#4: TrainBatch(states: torch.Size([756, 8]), actions: torch.Size([756]), q_vals: torch.Size([756])), num_episodes: 8)\n",
      "#5: TrainBatch(states: torch.Size([801, 8]), actions: torch.Size([801]), q_vals: torch.Size([801])), num_episodes: 8)\n",
      "#6: TrainBatch(states: torch.Size([733, 8]), actions: torch.Size([733]), q_vals: torch.Size([733])), num_episodes: 8)\n"
     ]
    }
   ],
   "source": [
    "from torch.utils.data import DataLoader\n",
    "\n",
    "ds = hw4data.TrainBatchDataset(agent_fn, episode_batch_size=8, gamma=0.9)\n",
    "dl = DataLoader(ds, batch_size=None, num_workers=0) # Run multiple agents/env in separate worker process\n",
    "\n",
    "\n",
    "for i, train_batch in enumerate(dl):\n",
    "    states, actions, qvals, reward_mean = train_batch\n",
    "    print(f'#{i}: {train_batch}')\n",
    "    test.assertEqual(states.shape[0], actions.shape[0])\n",
    "    test.assertEqual(qvals.shape[0], actions.shape[0])\n",
    "    test.assertEqual(states.shape[1], env.observation_space.shape[0])\n",
    "    if i > 5:\n",
    "        break"
   ]
  },
  {
   "cell_type": "markdown",
   "metadata": {},
   "source": [
    "### Loss functions"
   ]
  },
  {
   "cell_type": "markdown",
   "metadata": {},
   "source": [
    "As usual, we need a loss function to optimize over.\n",
    "We'll calculate three types of losses:\n",
    "1. The causal vanilla policy gradient loss.\n",
    "1. The policy gradient loss, with a baseline to reduce variance.\n",
    "2. An entropy-based loss whos purpose is to diversify the agent's action selection,\n",
    "   and prevent it from being \"too sure\" about its actions.\n",
    "   This loss will be used together with one of the above losses."
   ]
  },
  {
   "cell_type": "markdown",
   "metadata": {},
   "source": [
    "#### Causal vanilla policy-gradient"
   ]
  },
  {
   "cell_type": "markdown",
   "metadata": {},
   "source": [
    "We have derived the policy-gradient as\n",
    "$$\n",
    "\\grad\\mathcal{L}(\\vec{\\theta}) = \\E[\\tau]{-g(\\tau)\\sum_{t\\geq0} \\grad\\log \\pi_{\\vec{\\theta}}(a_t|s_t)}.\n",
    "$$\n",
    "\n",
    "By writing the discounted reward explicitly and enforcing causality, i.e. the action taken at time $t$ can't affect\n",
    "the reward at time $t'<t$, we can get a slightly lower-variance version of the policy gradient:\n",
    "\n",
    "$$\n",
    "\\grad\\mathcal{L}_{\\text{PG}}(\\vec{\\theta}) = \n",
    "\\E[\\tau]{-\\sum_{t\\geq0} \\left(\\sum_{t'\\geq t} \\gamma^{t'}r_{t'+1} \\right)\\grad\\log \\pi_{\\vec{\\theta}}(a_t|s_t)}.\n",
    "$$"
   ]
  },
  {
   "cell_type": "markdown",
   "metadata": {},
   "source": [
    "In practice, the expectation over trajectories is calculated using a Monte-Carlo approach, i.e. simply sampling $N$\n",
    "trajectories and average the term inside the expectation. Therefore, we will use the following estimated version of the policy gradient:\n",
    "\n",
    "$$\n",
    "\\begin{align}\n",
    "\\hat\\grad\\mathcal{L}_{\\text{PG}}(\\vec{\\theta})\n",
    "&=-\\frac{1}{N}\\sum_{i=1}^{N}\\sum_{t\\geq0} \\left(\\sum_{t'\\geq t} \\gamma^{t'}r_{i,t'+1} \\right)\\grad\\log \\pi_{\\vec{\\theta}}(a_{i,t}|s_{i,t}) \\\\\n",
    "&=-\\frac{1}{N}\\sum_{i=1}^{N}\\sum_{t\\geq0} \\hat{q}_{i,t} \\grad\\log \\pi_{\\vec{\\theta}}(a_{i,t}|s_{i,t}).\n",
    "\\end{align}\n",
    "$$\n",
    "\n",
    "Note the use of the notation $\\hat{q}_{i,t}$ to represent the estimated action-value at time $t$ in the sampled trajectory $i$.\n",
    "Here $\\hat{q}_{i,t}$ is acting as the weight-term for the policy gradient."
   ]
  },
  {
   "cell_type": "markdown",
   "metadata": {},
   "source": [
    "**TODO**: Complete the implementation of the `VanillaPolicyGradientLoss` class in the `hw4/rl_pg.py` module."
   ]
  },
  {
   "cell_type": "code",
   "execution_count": 246,
   "metadata": {
    "pycharm": {
     "is_executing": false
    }
   },
   "outputs": [
    {
     "name": "stdout",
     "output_type": "stream",
     "text": [
      "loss = tensor(-35.5355)\n"
     ]
    }
   ],
   "source": [
    "# Ensure deterministic run\n",
    "env = gym.make(ENV_NAME)\n",
    "env.seed(SEED)\n",
    "torch.manual_seed(SEED)\n",
    "\n",
    "def agent_fn():\n",
    "    # Use a simple \"network\" here, so that this test doesn't depend on your specific PolicyNet implementation\n",
    "    p_net_test = nn.Linear(8, 4)\n",
    "    agent = hw4pg.PolicyAgent(env, p_net_test)\n",
    "    return agent\n",
    "\n",
    "dataloader = hw4data.TrainBatchDataset(agent_fn, gamma=0.9, episode_batch_size=4)\n",
    "\n",
    "test_batch = next(iter(dataloader))\n",
    "test_action_scores = torch.randn(len(test_batch), env.action_space.n)\n",
    "\n",
    "loss_fn_p = hw4pg.VanillaPolicyGradientLoss()\n",
    "loss_p, _ = loss_fn_p(test_batch, test_action_scores)\n",
    "\n",
    "print('loss =', loss_p)\n",
    "test.assertAlmostEqual(loss_p.item(), -35.535522, delta=1e-3)"
   ]
  },
  {
   "cell_type": "markdown",
   "metadata": {},
   "source": [
    "#### Policy-gradient with baseline"
   ]
  },
  {
   "cell_type": "markdown",
   "metadata": {},
   "source": [
    "Another way to reduce the variance of our gradient is to use relative weighting of the log-policy instead of absolute reward values.\n",
    "$$\n",
    "\\hat\\grad\\mathcal{L}_{\\text{BPG}}(\\vec{\\theta})\n",
    "=-\\frac{1}{N}\\sum_{i=1}^{N}\\sum_{t\\geq0} \\left(\\hat{q}_{i,t}-b\\right) \\grad\\log \\pi_{\\vec{\\theta}}(a_{i,t}|s_{i,t}).\n",
    "$$\n",
    "In other words, we don't measure a trajectory's worth by it's total reward, but by how much better that total reward is relative to some\n",
    "expected (\"baseline\") reward value, denoted above by $b$.\n",
    "Note that subtracting a baseline has no effect on the expected value of the policy gradient. It's easy to prove this directly by definition.\n",
    "\n",
    "Here we'll implement a very simple baseline (not optimal in terms of variance reduction): the average of the estimated state-values $\\hat{q}_{i,t}$."
   ]
  },
  {
   "cell_type": "markdown",
   "metadata": {},
   "source": [
    "**TODO**: Complete the implementation of the `BaselinePolicyGradientLoss` class in the `hw4/rl_pg.py` module."
   ]
  },
  {
   "cell_type": "code",
   "execution_count": 247,
   "metadata": {
    "pycharm": {
     "is_executing": false
    }
   },
   "outputs": [
    {
     "name": "stdout",
     "output_type": "stream",
     "text": [
      "loss = tensor(-2.4665)\n"
     ]
    }
   ],
   "source": [
    "# Using the same batch and action_scores from above cell\n",
    "loss_fn_p = hw4pg.BaselinePolicyGradientLoss()\n",
    "loss_p, _ = loss_fn_p(test_batch, test_action_scores)\n",
    "\n",
    "print('loss =', loss_p)\n",
    "test.assertAlmostEqual(loss_p.item(), -2.4665009, delta=1e-3)"
   ]
  },
  {
   "cell_type": "markdown",
   "metadata": {},
   "source": [
    "#### Entropy loss"
   ]
  },
  {
   "cell_type": "markdown",
   "metadata": {},
   "source": [
    "The entropy of a probability distribution (in our case the policy), is\n",
    "$$\n",
    "H(\\pi) = -\\sum_{a} \\pi(a|s)\\log\\pi(a|s).\n",
    "$$\n",
    "The entropy is always positive and obtains it's maximum for a uniform distribution.\n",
    "We'll use the entropy of the policy as a bonus, i.e. we'll try to maximize it.\n",
    "The idea is the prevent the policy distribution from becoming too narrow and thus promote the agent's exploration."
   ]
  },
  {
   "cell_type": "markdown",
   "metadata": {},
   "source": [
    "First, we'll calculate the maximal possible entropy value of the action distribution for a set number of possible actions.\n",
    "This will be used as a normalization term.\n",
    "\n",
    "**TODO**: Complete the implementation of the `calc_max_entropy()` method in the `ActionEntropyLoss` class."
   ]
  },
  {
   "cell_type": "code",
   "execution_count": 248,
   "metadata": {
    "pycharm": {
     "is_executing": false
    }
   },
   "outputs": [
    {
     "name": "stdout",
     "output_type": "stream",
     "text": [
      "max_entropy =  tensor([1.3863])\n"
     ]
    }
   ],
   "source": [
    "loss_fn_e = hw4pg.ActionEntropyLoss(env.action_space.n)\n",
    "print('max_entropy = ', loss_fn_e.max_entropy)\n",
    "\n",
    "test.assertAlmostEqual(loss_fn_e.max_entropy, 1.38629436, delta=1e-3)"
   ]
  },
  {
   "cell_type": "markdown",
   "metadata": {},
   "source": [
    "**TODO**: Complete the implementation of the `forward()` method in the `ActionEntropyLoss` class."
   ]
  },
  {
   "cell_type": "code",
   "execution_count": 249,
   "metadata": {
    "pycharm": {
     "is_executing": false
    }
   },
   "outputs": [
    {
     "name": "stdout",
     "output_type": "stream",
     "text": [
      "loss =  tensor(-0.7927)\n"
     ]
    }
   ],
   "source": [
    "loss_e, _ = loss_fn_e(test_batch, test_action_scores)\n",
    "print('loss = ', loss_e)\n",
    "\n",
    "test.assertAlmostEqual(loss_e.item(), -0.7927002, delta=1e-3)"
   ]
  },
  {
   "cell_type": "markdown",
   "metadata": {},
   "source": [
    "### Training"
   ]
  },
  {
   "cell_type": "markdown",
   "metadata": {},
   "source": [
    "We'll implement our training procedure as follows:\n",
    "\n",
    "1. Initialize the current policy to be a random policy.\n",
    "1. Sample $N$ trajectories from the environment using the current policy.\n",
    "2. Calculate the estimated $q$-values, $\\hat{q}_{i,t} = \\sum_{t'\\geq t} \\gamma^{t'}r_{i,t'+1}$ for each trajectory $i$.\n",
    "3. Calculate policy gradient estimate $\\hat\\grad\\mathcal{L}(\\vec{\\theta})$ as defined above.\n",
    "4. Perform SGD update $\\vec{\\theta}\\leftarrow\\vec{\\theta}-\\eta\\hat\\grad\\mathcal{L}(\\vec{\\theta})$.\n",
    "5. Repeat from step 2.\n",
    "\n",
    "This is known as the **REINFORCE** algorithm."
   ]
  },
  {
   "cell_type": "markdown",
   "metadata": {},
   "source": [
    "Fortunately, we've already implemented everything we need for steps 1-4 so we need only a bit more code to put it all together.\n",
    "\n",
    "The following block implements a wrapper, `train_pg` to create all the objects we need in order to train our policy gradient model.\n"
   ]
  },
  {
   "cell_type": "code",
   "execution_count": 250,
   "metadata": {
    "pycharm": {
     "is_executing": false
    }
   },
   "outputs": [],
   "source": [
    "import hw4.answers\n",
    "from functools import partial\n",
    "\n",
    "ENV_NAME = \"Beresheet-v2\"\n",
    "\n",
    "def agent_fn_train(agent_type, p_net, seed, envs_dict):\n",
    "    winfo = torch.utils.data.get_worker_info()\n",
    "    wid = winfo.id if winfo else 0\n",
    "    seed = seed + wid if seed else wid\n",
    "\n",
    "    env = gym.make(ENV_NAME)\n",
    "    envs_dict[wid] = env\n",
    "    env.seed(seed)\n",
    "    np.random.seed(seed)\n",
    "    torch.manual_seed(seed)\n",
    "\n",
    "    return agent_type(env, p_net)\n",
    "\n",
    "def train_rl(agent_type, net_type, loss_fns, hp, seed=None, checkpoints_file=None, **train_kw):\n",
    "    print(f'hyperparams: {hp}')\n",
    "    \n",
    "    envs = {}\n",
    "    p_net = net_type(ENV_N_OBSERVATIONS, ENV_N_ACTIONS, **hp)\n",
    "    p_net.share_memory()\n",
    "    agent_fn = partial(agent_fn_train, agent_type, p_net, seed, envs)\n",
    "    \n",
    "    dataset = hw4data.TrainBatchDataset(agent_fn, hp['batch_size'], hp['gamma'])\n",
    "    dataloader = DataLoader(dataset, batch_size=None, num_workers=0)\n",
    "    optimizer = optim.Adam(p_net.parameters(), lr=hp['learn_rate'], eps=hp['eps'])\n",
    "    \n",
    "    trainer = hw4pg.PolicyTrainer(p_net, optimizer, loss_fns, dataloader, checkpoints_file)\n",
    "    try:\n",
    "        trainer.train(**train_kw)\n",
    "    except KeyboardInterrupt as e:\n",
    "        print('Training interrupted by user.')\n",
    "    finally:\n",
    "        for env in envs.values():\n",
    "            env.close()\n",
    "\n",
    "    # Include final model state\n",
    "    training_data = trainer.training_data\n",
    "    training_data['model_state'] = p_net.state_dict()\n",
    "    return training_data\n",
    "    \n",
    "def train_pg(baseline=False, entropy=False, **train_kwargs):\n",
    "    hp = hw4.answers.part1_pg_hyperparams()\n",
    "    \n",
    "    loss_fns = []\n",
    "    if baseline:\n",
    "        loss_fns.append(hw4pg.BaselinePolicyGradientLoss())\n",
    "    else:\n",
    "        loss_fns.append(hw4pg.VanillaPolicyGradientLoss())\n",
    "    if entropy:\n",
    "        loss_fns.append(hw4pg.ActionEntropyLoss(ENV_N_ACTIONS, hp['beta']))\n",
    "\n",
    "    return train_rl(hw4pg.PolicyAgent, hw4pg.PolicyNet, loss_fns, hp, **train_kwargs)"
   ]
  },
  {
   "cell_type": "markdown",
   "metadata": {},
   "source": [
    "The `PolicyTrainer` class implements the training loop, collects the losses and rewards and provides some useful checkpointing functionality.\n",
    "The training loop will generate batches of episodes and train on them until either:\n",
    "- The average total reward from the last `running_mean_len` episodes is greater than the `target_reward`, OR\n",
    "- The number of generated episodes reached `max_episodes`.\n",
    "\n",
    "Most of this class is already implemented for you. "
   ]
  },
  {
   "cell_type": "markdown",
   "metadata": {},
   "source": [
    "**TODO**:\n",
    "1. Complete the training loop by implementing the `train_batch()` method of the `PolicyTrainer`.\n",
    "2. Tweak the hyperparameters in the `part1_pg_hyperparams()` function within the `hw4/answers.py` module as needed. You get some sane defaults."
   ]
  },
  {
   "cell_type": "markdown",
   "metadata": {},
   "source": [
    "Let's check whether our model is actually training.\n",
    "We'll try to reach a very low (bad) target reward, just as a sanity check to see that training works.\n",
    "Your model should be able to reach this target reward within a few batches.\n",
    "\n",
    "You can increase the target reward and use this block to manually tweak your model and hyperparameters a few times."
   ]
  },
  {
   "cell_type": "code",
   "execution_count": 251,
   "metadata": {
    "pycharm": {
     "is_executing": false
    }
   },
   "outputs": [
    {
     "name": "stdout",
     "output_type": "stream",
     "text": [
      "hyperparams: {'batch_size': 32, 'gamma': 0.99, 'beta': 0.5, 'learn_rate': 0.0015, 'eps': 1e-08}\n",
      "=== Training...\n",
      "#3: step=00011604, loss_p=-120.62, m_reward(10)=-136.3 (best=-181.0):   6%|▌        | 128/2000 [00:09<02:26, 12.82it/s]\n",
      "\n",
      "=== 🚀 SOLVED - Target reward reached! 🚀\n"
     ]
    }
   ],
   "source": [
    "target_reward = -150 # VERY LOW target\n",
    "train_data = train_pg(target_reward=target_reward, seed=SEED, max_episodes=2000, running_mean_len=10)\n",
    "\n",
    "test.assertGreater(train_data['mean_reward'][-1], target_reward)"
   ]
  },
  {
   "cell_type": "markdown",
   "metadata": {},
   "source": [
    "### Experimenting with different losses"
   ]
  },
  {
   "cell_type": "markdown",
   "metadata": {},
   "source": [
    "We'll now run a few experiments to see the effect of diferent loss functions on the training dynamics. Namely, we'll try:\n",
    "1. Vanilla PG (`vpg`): No baseline, no entropy\n",
    "2. Baseline PG (`bpg`): Baseline, no entropy loss\n",
    "3. Entropy PG (`epg`): No baseline, with entropy loss\n",
    "3. Combined PG (`cpg`): Baseline, with entropy loss"
   ]
  },
  {
   "cell_type": "code",
   "execution_count": 252,
   "metadata": {
    "pycharm": {
     "is_executing": false
    }
   },
   "outputs": [
    {
     "name": "stdout",
     "output_type": "stream",
     "text": [
      "[ExpConfig(name='vpg', baseline=False, entropy=False),\n",
      " ExpConfig(name='epg', baseline=False, entropy=True),\n",
      " ExpConfig(name='bpg', baseline=True, entropy=False),\n",
      " ExpConfig(name='cpg', baseline=True, entropy=True)]\n"
     ]
    }
   ],
   "source": [
    "from collections import namedtuple\n",
    "from pprint import pprint\n",
    "import itertools as it\n",
    "\n",
    "\n",
    "ExpConfig = namedtuple('ExpConfig', ('name','baseline','entropy'))\n",
    "\n",
    "def exp_configs():\n",
    "    exp_names = ('vpg', 'epg', 'bpg', 'cpg')\n",
    "    z = zip(exp_names, it.product((False, True), (False, True)))\n",
    "    return (ExpConfig(n, b, e) for (n, (b, e)) in z)\n",
    "\n",
    "pprint(list(exp_configs()))"
   ]
  },
  {
   "cell_type": "markdown",
   "metadata": {},
   "source": [
    "We'll save the training data from each experiment for plotting."
   ]
  },
  {
   "cell_type": "code",
   "execution_count": 253,
   "metadata": {
    "pycharm": {
     "is_executing": false
    }
   },
   "outputs": [],
   "source": [
    "import pickle\n",
    "\n",
    "def dump_training_data(data, filename):\n",
    "    os.makedirs(os.path.dirname(filename), exist_ok=True)\n",
    "    with open(filename, mode='wb') as file:\n",
    "        pickle.dump(data, file)\n",
    "        \n",
    "def load_training_data(filename):\n",
    "    with open(filename, mode='rb') as file:\n",
    "        return pickle.load(file)"
   ]
  },
  {
   "cell_type": "markdown",
   "metadata": {},
   "source": [
    "Let's run the experiments! We'll run each configuration for a fixed number of episodes so that we can compare them.\n",
    "\n",
    "Notes:\n",
    "1. Until your models start working, you can decrease the number of episodes for each experiment, or only run one experiment.\n",
    "2.  The results will be saved in a file. To re-run the experiments, you can set `force_run` to `True`."
   ]
  },
  {
   "cell_type": "code",
   "execution_count": 254,
   "metadata": {
    "pycharm": {
     "is_executing": false
    }
   },
   "outputs": [
    {
     "name": "stdout",
     "output_type": "stream",
     "text": [
      "=== results file results\\part1_exp.dat exists, skipping experiments.\n"
     ]
    }
   ],
   "source": [
    "import math\n",
    "\n",
    "exp_max_episodes = 4000\n",
    "\n",
    "results = {}\n",
    "training_data_filename = os.path.join('results', f'part1_exp.dat')\n",
    "\n",
    "# Set to True to force re-run (careful, will delete old experiment results)\n",
    "force_run = False\n",
    "\n",
    "# Skip running if results file exists.\n",
    "if os.path.isfile(training_data_filename) and not force_run:\n",
    "    print(f'=== results file {training_data_filename} exists, skipping experiments.')\n",
    "    results = load_training_data(training_data_filename)\n",
    "    \n",
    "else:\n",
    "    for n, b, e in exp_configs():\n",
    "        print(f'=== Experiment {n}')\n",
    "        results[n] = train_pg(baseline=b, entropy=e, max_episodes=exp_max_episodes, post_batch_fn=None)\n",
    "        \n",
    "    dump_training_data(results, training_data_filename)"
   ]
  },
  {
   "cell_type": "code",
   "execution_count": 255,
   "metadata": {
    "pycharm": {
     "is_executing": false
    }
   },
   "outputs": [
    {
     "data": {
      "image/png": "[encoded data removed]",
      "text/plain": [
       "<Figure size 1296x864 with 4 Axes>"
      ]
     },
     "metadata": {
      "needs_background": "light"
     },
     "output_type": "display_data"
    }
   ],
   "source": [
    "def plot_experiment_results(results, fig=None):\n",
    "    if fig is None:\n",
    "        fig, _ = plt.subplots(nrows=2, ncols=2, sharex=True, figsize=(18,12))\n",
    "    for i, plot_type in enumerate(('loss_p', 'baseline', 'loss_e', 'mean_reward')):\n",
    "        ax = fig.axes[i]\n",
    "        for exp_name, exp_res in results.items():\n",
    "            if plot_type not in exp_res:\n",
    "                continue\n",
    "            ax.plot(exp_res['episode_num'], exp_res[plot_type], label=exp_name)\n",
    "        ax.set_title(plot_type)\n",
    "        ax.set_xlabel('episode')\n",
    "        ax.legend()\n",
    "    return fig\n",
    "    \n",
    "experiments_results_fig = plot_experiment_results(results)"
   ]
  },
  {
   "cell_type": "markdown",
   "metadata": {},
   "source": [
    "You should see positive training dynamics in the graphs (reward going up).\n",
    "If you don't, use them to further update your model or hyperparams.\n",
    "\n",
    "To pass the test, you'll need to get a best total mean reward of at least 10 in the fixed number of epochs using the combined loss.\n",
    "It's possible to get much higher (over 100)."
   ]
  },
  {
   "cell_type": "code",
   "execution_count": 256,
   "metadata": {
    "pycharm": {
     "is_executing": false
    }
   },
   "outputs": [
    {
     "name": "stdout",
     "output_type": "stream",
     "text": [
      "Best CPG mean reward: 59.65\n"
     ]
    }
   ],
   "source": [
    "best_cpg_mean_reward = max(results['cpg']['mean_reward'])\n",
    "print(f'Best CPG mean reward: {best_cpg_mean_reward:.2f}')\n",
    "\n",
    "test.assertGreater(best_cpg_mean_reward, 10)"
   ]
  },
  {
   "cell_type": "markdown",
   "metadata": {},
   "source": [
    "Now let's take a look at a gameplay video of our `cpg` model after the short training!"
   ]
  },
  {
   "cell_type": "code",
   "execution_count": 257,
   "metadata": {
    "pycharm": {
     "is_executing": false
    }
   },
   "outputs": [
    {
     "name": "stdout",
     "output_type": "stream",
     "text": [
      "272 steps, total reward: 179.90\n"
     ]
    },
    {
     "data": {
      "text/html": [
       "<video src=\"data:video/mp4;base64,AAAAIGZ0eXBpc29tAAACAGlzb21pc28yYXZjMW1wNDEAAAAIZnJlZQABD+BtZGF0AAACoAYF//+c3EXpvebZSLeWLNgg2SPu73gyNjQgLSBjb3JlIDE1OSAtIEguMjY0L01QRUctNCBBVkMgY29kZWMgLSBDb3B5bGVmdCAyMDAzLTIwMTkgLSBodHRwOi8vd3d3LnZpZGVvbGFuLm9yZy94MjY0Lmh0bWwgLSBvcHRpb25zOiBjYWJhYz0xIHJlZj0zIGRlYmxvY2s9MTowOjAgYW5hbHlzZT0weDM6MHgxMTMgbWU9aGV4IHN1Ym1lPTcgcHN5PTEgcHN5X3JkPTEuMDA6MC4wMCBtaXhlZF9yZWY9MSBtZV9yYW5nZT0xNiBjaHJvbWFfbWU9MSB0cmVsbGlzPTEgOHg4ZGN0PTEgY3FtPTAgZGVhZHpvbmU9MjEsMTEgZmFzdF9wc2tpcD0xIGNocm9tYV9xcF9vZmZzZXQ9LTIgdGhyZWFkcz02IGxvb2thaGVhZF90aHJlYWRzPTEgc2xpY2VkX3RocmVhZHM9MCBucj0wIGRlY2ltYXRlPTEgaW50ZXJsYWNlZD0wIGJsdXJheV9jb21wYXQ9MCBjb25zdHJhaW5lZF9pbnRyYT0wIGJmcmFtZXM9MyBiX3B5cmFtaWQ9MiBiX2FkYXB0PTEgYl9iaWFzPTAgZGlyZWN0PTEgd2VpZ2h0Yj0xIG9wZW5fZ29wPTAgd2VpZ2h0cD0yIGtleWludD0yNTAga2V5aW50X21pbj0yNSBzY2VuZWN1dD00MCBpbnRyYV9yZWZyZXNoPTAgcmNfbG9va2FoZWFkPTQwIHJjPWNyZiBtYnRyZWU9MSBjcmY9MjMuMCBxY29tcD0wLjYwIHFwbWluPTAgcXBtYXg9NjkgcXBzdGVwPTQgaXBfcmF0aW89MS40MCBhcT0xOjEuMDAAgAAABk9liIQAM//+9uy+BTYUyFCXESzF2kpwPiqkgIB3NNq/w8U+rAC2zxW6Kd7NIQXtoVpFblM8dfU5gDshxkoQMIdN+XW8Ts26jBYbOv2yoxYlsEnwmuXT3iOvv5Vv1jf/3/fu7N5NZTdD/2qozQzhWibUyJ1HvjDRtJvYVHvhuoB1nO4XghLXs9CZ3TIIAYY0/wwGQ7WgVt/wYvuBDJqPUHP0Jc46tD4eaRja9pDiYg2JnzyO3GkCAR3BS2T4niCffGDBgX9MLmz9/5gAmI/erdRRHv/d1NpfngTt6xQn73zckfayFzWEV+AAAAMAABoU/7rLr9nuARy55xW5QWIAAQIIoEjgSAO4O8Q4U4ppHyPFqN0uzNlW2uGKr9WJldTB4FwXCmdsh6lF1fd03fiD+P3UmfywLvqz7nbLOTFd6ShQ9TOZwtP/pVBJFaJykeEB4JOVXEGUbA1RttPIhjLtIVK00cr7gJ6KLxx6S3dE9a8u/smZ3i47Hqb4LNobfj61/2R2JZ+QxCOSb0Otc/wDfMFTzi87jQSa05/+OUm+HvyZoHui5u9z7Z6jQLzOvn8J87PsVearLZCQ4+hS+g6mvnoa9ifFDh28HzEyxTD19cMxQGB8cgJ5xRjuru+7QK+1kyFuyWvW/3lTZMEaecd+Y03oii1BBFKzMQN8lkJnBv5h51eb1/uWBpGRSr9aCz910SY24zEF8pMiDZUTNSCIxLcnuAR4gzllH2ckj5l4HQuPBaPXgN15zt2HYBTBM85qNzjaRLeqFJ7G+pN9CD/xXeoor+74apvzY8z95gBVsM/M17aNooVHTAKCEv3S2HjHSpH4SaoZMbbD4quxP6Yq19ADw4/G9jV4ZZ49waWw6muTvL1vWEKAuJlOwxtP0NsVkRPvVb3YCKhCUHZKZLhiAoB/S1/koSQivWDN1KDrRZDLOwTOjKNIPNpTEILsyoU/OoX474Qy1moHRgxbz8IrthwTKQVxtrs5rwVGeAm/TLMerDmAJLYc8DyozdSt8S+6bZY3XMrgRCxts167MC9QwZoz8nnJpGBiaQHiXFwrvRq+RFvZwAMrz13OqnPfHYigyuW0BZ3TEgcymMxoaxfUIbinXgam+JqoS8ciOmw5yoNq0Rk6QMvhVlv1mBIn4w/ciVIsFDMvuHEaENXrNRnyJ94ETvw83rGdVR0/mgldIbvogIcZ1IYRXIRbK4rFOKSmsqVuHGea12gjfa8yVSbvbwQ8IlhEm9thx81ZIgPxdM802uAWp3vwIuL7RFueKKjSrDpcWfByuPIZYsXub2TrLzz9PwhuU22LNQqx8aWKAFgqdGDwHSZq5JKLIPWVa5A3fAechvu7ptKeDfQ6X3xwgNqcN2t9Cxd30ecRGKJS/pXFRUlQXceWX1MJXENPd4QQFVSmFDkUA01psw3RG2OVF2HGjaTgLXxgndVX/Drd3rkYo12jAAPWF+rAhtBshguSYDfHNKWYAYECOMM0cOYBD4SuNIzALaCPMIcDHoivkcBNi9IngepcZq12wxRxecm/jd+rK1uF+pQJBdx4f85Y1tY/FXD9hU5xWzBAVmPhejdVpKjQ6gZquPkff6j6c8M2cF4swS9J1jtGe7/46oFk9pJqB8Po061B39f1gUawGjfQ14isKxktyC1rKui6m9YMmvwJWzvs2e6UI2QPLO9B+dI60MI0PRH0RMnzfWkx2dWvplpFTOZW5iB/Te5W1WtlmEO8bDDMxXu5xuwk0LdlxQO3p9U3ZbfsZd3egEAEfdQrUH7vcTXbL739iz4HfWBJsnWF2/Ud+HkKgRdq/MjluWb4bX1pNSp/RyZGHLfXIS68zDKULUmaxGBcPTxhHixAAWvkXLlhgVM0mD8vci89f3MBZazIu/+1xOsFrWC+Bh+iwjR1qdFLaK0JLWQrAWdHjz/xxSnAtJAFiCboY/xewkovVQUyFuoqS7pINsOXwAAT5mgk7H9jyGutSjpNGwbofjZYoGmBLpN3CcrOICSbxYos9Nxje3TpWiw053Ve7+CF/WAT/ubeNsg2ZzIAV574ujgdWQhIOyh2DkgKh0jTbHt+2gx6V5TGp4mkE2W+H8rw7xBslEJJm5q0V+1LQo/Wxzgwp3pYJMZotrOv98PpnPvUymAAAAMD1QAAFcAAAEzBAAABN0GaJGxDP/6eLX45zaNyAIBWvQ1lgA9+YSeB06b3Q3GeHKZROb+z2S+NtDtd5yg2NIZrp5eQ8T3cYu4FtxS5HF4e7n6a8M5kildw3G1Z1dP9KUsTTD94YnN0KRNAt4uYAAA6W5CP10dFfn/N2t60i4jXF/8atQwm9SAgy1OE1l+yz7fdtUzVvjAAvWuzbnA///OV2OnR9Mrpn07WTZg5PThAtpsdbGN0uMzQSSOLdSGvGrFBESRSxwPgI0ri45GZbYdrIecyvNs/uEqLKLTlUEiWyPmLkwyScmYvp5FqvQbsOkdPkhbr6k6jNPJxOOrp72eMc4WNCYGTuaVMVu+t0chKwpuY7TtbmE60KcyS9q+OJcs4prV7lQ02TDam6Xg9AGHdfZOr7kH6h+bLG1jh1yaaGs1MyUbYAAAAhkGeQniEfw8LHG2h4a5avTUADdwqjRj0XmxuNRyAQbl9x6XJK81qyPQWmU6rNlQBUlSehJ0x+Ob0g6i0XRnX+Qi5rPTxDl9jqfsHI3+hHgfyGeSDFCGa9Kt35GNjntinOE31TLc5ZpDJCDnZjluw1U1sNFGIrjIxua3niqgIL7i0gWcgkUXBAAAAZgGeYXRH/xLlnVjkLh/8NPj1x/bcj+igNReIAW8If95F7+hR5EFHskJqeI1Fi2rmkFSocwiyFr2DBkiOT7lmxabSF3OTEAKhLfAB0FmMlQ4O2nmHKhY9mOleWxPGX4tVJF0mYAYgYAAAAG8BnmNqR/8SHSa5E2R0Hl/NUQAJwgKhiSYt8v+LB/DIzpMbcIh54FGoQLjmu8m0tw1YOI1dmAqGmbN3CsDrCVz+RMTRZAnuKYhrXu+eUHCOHY3rOjGttHnOwVieOL/Sc+3wdWpPIRQ7G2tkYPvk2YEAAADuQZpoSahBaJlMCGf//p4p2EsA1xtYuDxTfxokIALLGOOWoESd/2UUiJvYFu1B65F8FMs+GFESEz2OPpTNmfRDjFZfUMjcwumtb8wi5a3U4QAAAwAA2WLPz7oHeu1/wbhpPwZrOudduPu7QazF7/i3u2qZnqqQmqLPr58L1oSlwn25NLwioBhJfbJoykbCJQaY354gdSnUuxRfdK5OmE9Z+lkN4ztVU4XXjurZjxSHhpz1n8wNJ07GS+2rgg3TYmMFrXRaCkMAgh24nPdEML0KSRpYjWRIQorumhsJudIV5Bbw4329sCMED9Tk51v/4QAAAJxBnoZFESwj/w9tlbH+MhIjBNoO1AAumHVALbtps597tESSu8qci1nOxH8nuH6KcGTkWjk4YKva39ecAUd9Gl55Rrfi5ZHq4RetgBbAo2D9fQ2ayV/4zzxQoNumaW+BD+ZBcE4IuhR7B4qaTCRvnsUp8ApEc4BFHb0LWKufPG8vD1O4rtd2T/xUKdBey54HHdQ3IaukYhWqjEIfJuEAAABZAZ6ldEf/FQFh6y6DwQTVqdsNHDflI6tCo3Jwua8r2hTJifynP6Mj+rO03bgA2fKt2bgD2/9G62Sz3ojpJhqKZt14YGjdA0NDPBcIOnnG10E0kkFAQqGA5N0AAABwAZ6nakf/FP10YatmiG2Jg/SXBqBhfO4AKufHe+9CF1clTiUiwUBQtGSYDcRPNynQ0dNC+NXMmdSiDqHd62b4VT9JPVSEOFm8UPEATuWHCGutAeCqeUtlkuKh0W1M/SCjPOMPDo9+k6JLCGYe1XD0gAAAANlBmqxJqEFsmUwIZ//+nioy1Ft90AW9b6g9xTYG8O9BzLBz3G+jXPy7DPOQlM+34j6IKcnlQd36m4UgiGK599UFkFUok+Odx8v0BW2bw7clQ/ymf9lf5KXCIAAAAwBJynakV+aYXz7Y90eznxAawiDUlYmhTgmQ2EkRNrXvyB2DSYZvBsnsuJWHRQUYIgjoNve921TNXzDnvNKGO38q6lDB5z68XQN3cBu80j0mkyIxRgLfHCbxxMxBd4PUpHCTzcUE/wn2BjZmzY7lODs0IaQxoziAJU1AwFTAAAAAs0GeykUVLCP/D3s3/p0e+6QASnJcABRSdvlYMMxPt/NJanNvqyjucA5xoIz4uSKcs2sEnoyloqEuUOZnLeyI0xm9h7ciNrOsyYwRAgdU2FrOv6g0ryNtkk6ug7Kec1xfOe4ysnSKQHbUtfEJqScX59yiEU3oQt2FHxyLNOXC9HFyqp7hYJhM3Htbphyo1Vg1yh0lZiWA+uHDgyyczoNVoSQHdDKNM54dsrn1FsW1LPXwwBxxAAAAhQGe6XRH/xIRrK7ljaa5J3xr1361TE3wYAGd0JmrzMRmF9BWU/W97M+rLI2n/3wHzH69ySDRsQVgH81H+4NfQuLDbM/IOzaKOJVrAyzE7LuEwXDjqhdzKvJQedomkH9dVkj1W2n9yARRVe1u6NOF3SVPathhF7lp2whwkOo2LBzn3aZAC7gAAABjAZ7rakf/FQWjLDrhfIMOvT9y0FU89qk2K+u+aVa5TFVxNEe1GPIhYAbUwLlts8OpYrsLWYV3CwTtVPlVG8QDV+5v80CKsRbEy2yRPf6biL+4XihYL2omCgex6RPQyoFOsAKCAAABkkGa8EmoQWyZTAhn//6e+jhZyHqTAA11UKw9PwWmYp4D79NSE6TTtIWDejM1+ty7G7AfIj4y2VHzghcelD+cPu0v+ia7dgo05dglGJNVvYN+BA57qOpvdWq592iNyn4o25gMOK8zC1u8P4p58H+UtuO0CVlSNatQ6dD3oe1We/C+dHUd79dBI63T5RG79wuwQKMECPuyGR9Mc4FpuQjj0nUQe5xjJulx14VH+p/yB0ATQ261KBIwG8jVJYbnc0OuXqZgZVyuJ9IVrk99KLCLR/iUk1P9fLzZ8+vRDE0AkGdr9mWTkIpCVaAIitgjD1Ka8fy3fMAbUK1WdX2XSDqtI7+MAbAdR+c8s3dMjgtu84IBcqSg7lAlx3GO71XnrMIJS60IZOa4frq42zQ8adA/zBtKQj0z72EeNVxu9J0qVN++ZV3wycLGM6TMyGTRUJsCWj1OtHcJstgtMwRNrm4xMA5pIGVBpQyB36cKZ1pFTVGpnqWT6Lhc6zKHrbO6eksuhjY2+RJdjBmsSAyX8OIWn0Aq4QAAAMdBnw5FFSwj/xkouGroARVyCzSeGb/ekHgpFDd/dEne2lM0rI2an7Zi7H4dtZbZuM5bHdaIIoBuuw5thnw/ArYQDz/YVYrbgHC1oJ12Yp0w2GXwFQ+6G3olFUukiajUF3g62KLBodukRJQ+1v++AXRZIWpVkyMzy2g2YdbokJq6ZJod1fb2xjArUnQFexy0K5+Hufylp/QvfVgrSILtcrMFHPpTaR4uwTKSMi8kWt1Ri7gFYfgJIuZG+sPsimRYXctN4F1NY35VAAAAcgGfLXRH/ySwF1/wA3ihI2G727gzISQ2r3B7xXPxmIxzDv2CEIai3FQlmNm7pETFtWKYy5y+hVO/bSf/Fk9+jq7e3rX7wMryrNjgrPflocNjaA4tA2PxC7wRPmaxqr7nC/+AblzKmnEAfpQqF2EB1L+EvQAAALoBny9qR/8gbx3/AAVxZW3kHaPnJQLLs/scSKsmkXDqq/WPOMhA8FkU0HdPFpXULcfF9PKui+dVp4WLYN6DIkVySHTzxmblIpVmaeSGvbF0THPndguj1OATm1FEfBKPNnnKUgALPyODkJVVxDtH5zKMA4rFmZS4KO/6kcsk4SaBXorAU+KpHDn/URfLYG2UH3u+OVECUbHhraxzx0Wo42a2nGBRJTW3rjX/aBHgi50AB2l1zB1b9wV0Z4wAAAGHQZs0SahBbJlMCF///o2eGdOpIfqAA0b0tX2Wfod4AuLw5MtHTOD8vGGVcIu0yfoEag9Yf8CEz+5l9a9a+7URwDaVqZLrejh3RUosR2Od9FcAyLRnrkwWxdjD/MGcYKoB/QPzlmENeou+5JWk0WGeKhre9a16FqBhV5MwAGql1cOA8XXlwM/31n/dyeQh+PlRAlmfQZrgxy6Hq2cYfrGoabq7mTph+QsAAAMAAAMDe1hnW4ZqyYSG2UzrxyhR2IX4qiCedcckzjJ+UmKD3102j3xXYOdOnx5n3qn3+5Qpb5VgF7+2d3fraMxOheSsaNYZNjEzdLEooi/dQy83o1nC8qSRlSOFdGuMClgyKMb+Bg5n9FeU+IHgHMkEBpsEJWCSJY1frJS1Icjl9KQXRxVYJThDOw5J3VjHT39NlrxeAu05REWLAdhLtsCJPwsx4n81CTdLvR7J6AeOa2lFCFOJ6GTHePuUO0S9HU3hg6AranwOGdUojF3c9/XKAVTTCw/IXaf37FAR8AAAAQRBn1JFFSwj/xj9I7Ee/qrCs9Hrrmgcy1Uydz9EANRCvVdcklvA/yME/7/ctRQJ89j5dqHeFV66bCgGBizhjKGOjTNlGdnpTbA9hC0ed5So13UDr4mo9FP0ozOcHmC8HhRtC+cTAvmudv1iJU+OZPyo1l3gtsJhAdjZTiEPgGBg0oYicT3mRzzP4ExIneATT3z2iVp0xo6WOTXlShGhTXh4Qd1oJ0Ud6Lgps5MeKxnTFxqylAHqGQ8H5ezdrB2dOSaCNU+7BnCKDgRqEwXKU1UVp9wBCZ+Dltn1JAHCDUTsLt1acJtS1Aw6MhjigK8vjl8HebJjEmAvaaFNuSU94enNAnAi4QAAAMEBn3F0R/8lCkyAKU2TfPjiL2Vvm4HkLXFTs2/OFcST1DLnngu/WRMPS89n742zTJq9OlOPVDoWh2xpyEEI37azeCPlOgSdnTx0ZgDFBl04kwzLPIAELPDP04okWRxu0RqAZnqY+OBoQ4cdqWidHX09flihpA5AcYGez6LiKoTWYR2p5zqS6ZXRund4D+0PSh2oNQnPu49d58DTXwUGm44Cy40JO4Cw7sucM7OKiF4CKGMeGdmgAO2p3xiCNS++jheQAAAA1wGfc2pH/xcnVYHuVHFDABLcuZUx7LbMOweM7i0sjkPqokoSp7eDbZKkDXeGnMiT5Q04Jni4TJohUdkmLTPM5Bjb3mddlB0DSVCk5J+essTm1FE7MkhYdgNh6gUED+NTT62K5Ig6QTolO/h/JVEDvbQgnRpSDVFO7b18BPIhwdqtJNUsxuX6cb+IY3m9xclatEZWj+fm+49rrYGsHt7mMrAi9HyiEW0QHzT11hSnrE+BQhjnAtjhceRqAyurFSkROQ/4csj9QijDotc28APKD3MJzUUYm5KCAAABaEGbd0moQWyZTAhn//6e+jy3LWGJQAc7DhZRPI6mKo/4GsV9HoEONJJ8CC9ppnwfacUdmIFqklrRHHkzXwylxEPU0dREz6Adv+o/t/aD2yPbooaIpyt1ntmrEGr19qfirrPMkPtZLBuIcWQA9VwYMbW0gySXv0Gv9CgPaY0mwNcN32VjlDyzpstSUxusStBzTlNSJGWLN03sZSUHHK/tr+P17PsarczP3hsRN94ypqDVRWPE/T9fv98ExDB6FInGiJhPwZzsEaOhUHgSuA4ENDopB2re9+Gm+AkihuVa+f4jlhK/zkvWQqSFtw+Of54UzNPBkZ36EphjmXWsaQUN1HdvFtxUOOVdWVEfM9TU/OY2sPkfybM2dWfWHJRTJF2NwtwzCdPlJl3OSLZea1mSJQTwbfohrpUtt+uOoDt8PIjeBbsJtwg00pJ+0mXShP39x63/USWJmoKbVYJ2YtpBr+kEFlM5hz4i4QAAAOdBn5VFFSwj/xkotFyyTXXigBb8OSpMZi6KQuT1jo1RJEm+6/0YBk1KgNYoe5iMc8K2RaULGU2N234v2bGrK8SeyuQmTkvWauV0KAT1r5rKCcl8HMzrEX+NzrpHEKnuaUPNAMLX60BKo177TM481LdN3xsB6eLy/NWT5O8FaTwIZEgb58HihZbCGtYC8M4NSC++bwjPnrBNox+Lz88P4pBVmPE4uj4vFZe/fWeOjqSywregn6PUzvzaVO0/WFenAhtBo2iZAHGSJeAH/5Qe3/jZYKHFBgS+V/bA7DU1UR+/dqoSPjkxf4AAAADdAZ+2akf/JFPTEIxc3h7iADkTQg8vhqXwO8QafcyL7qSrBWESSLF55IJbdPwLzp1Z0xtG87DJr36I2u84KgQ59yiMj2p2t4F+CgNfNiXHk/69OtE/aHNzA7RL+h1bZn8JVIirbeGcnUm91iaARp/4HIQhf+7LAidauSvjyKO43XK3jVkzR/kh10isQY/VBGhX8shZsyPUPjfKIJ7x0iJ4qzW8c+S+Td8toU6TYBjFNZ71TlPQCMeC1kvGkd3y3VtsEMXeu5eH6lXAAcPNx0kbBTUQZ/mkpW/FJOkyrYEAAAFHQZu7SahBbJlMCGf//p7c+sGo6lAC1qoY4CUKhexJnqel7NPI2aWZq7QGuc9xtAxI5tWZdpKUhTvWTRBWhfkRY3m5SD9WYWKg8DrWMr63QeG4YZ4oDRJksWlm6kFUv3XOagrj9CYHOiihRMy9xt08N8zM0x7nKDufFfIdpnxEehDlj/8sBovuX2CXgNZgCulSe50TYH1KdQC/0SJvmRPtv2NuY5SFhmhXR4N5zKrJofTmM+XGcnbjU4qfph5YW/y0v1Gx8YOb0EM9ZR/njH63Okw2m+IyFAARx++r39iCJ71rxiP/zjidAbT6V27j6UJT/J3tmuYzsB8u+13nc5XGX75TflCwTHVo9/kkfz1W+cXvjLTI9WqSdJUbcMZwtGRjB9gwefCez5KbZEZuuNge3ctJ3Sg9GArs3CSyLHJsWiS2NBviAKqBAAABDEGf2UUVLCP/GP0vlm2tAAcbqTVGAucvNjZENXZyF6bEk/6fYwp6xOE7Wo694gvskYWonUHnAtR6/u5ZntHoFyMpA+p8lBEi/wQLY1qBKHL9KdO05tHCg0lrjxtl8e7CDuUNmSfKmYFi5Uc5nuM6kv4Xx7fTsw4KxSFLRiAqye6Z/QY2Tg1nMdorMdV7DlGQhxVjN4WS+ug/pdvT8/134RY3oIZp09/cdywR20kOhNjIpXX46HVt93Z6QNPL1O6cLWPwmJgvSv4VqyXH5a4G38qPkYovq1oENXy/Kzcadp0EOU+equE+xn5G34TBtMQpx2I7bIV7fCyxsWa4rhiYK6dBnNDKfCNqmZ9YYEAAAADhAZ/4dEf/IlSh++fGbABYpcOvPZn9J2/NVBWlXJbTzInBZ9wh01fPnbCjUrWFzjthgxfo6uyUSktS9+DIR5wgZCmU2/TslekmdiZBx/LwNdEDqeCncB+9vmSQdYqGhr2x699qZXMLKghRj65CmRdxl/1Jmmq4LtoqRqaMieyFrD21o7gNHxDeWpu7NobDe/xfGYObozBh1lAnyBlMeV2aOOswNh892n4MphMImE/B4TTvltQx7Hx3wG9G642NS76On2f3w2M+u1cgXEOgVWofzDATCQuYBd5DpcN7RDW2VuOBAAAA1AGf+mpH/xn9HQBt9qDCmFVT4N8tgfrxEQIkYrv7lNXx6Sj7co6DQ+RaBfgs904D4/mVWqZRIjn3FwxQZVb1/hvc7NuPfJxaaClgbXZynMVX0FdpMSM9qRu/NrqEikmlRMu++eBJ3gyJCyW6bKPe64RluD4Vt9YLPIbppPEWuSYdREpgxRCnPXvO1HYmRiL7fvUU70K/PnTcN1j6+tsMrdapyT7nBmATsuHgldRXAgYNh3bfjl8YpyK35DgC3xDc7p7t3KU43EAhID3Yp4qQZrs5ttUwAAABcEGb/0moQWyZTAhf//6NALR+gQCxPgi8kgAfiP+S/JBXoECAxiL7NF+jZsC0UjdNF/do6cf1pdDXxuxJbMQPNr4QeNfKzc9L4QmPAp7OF3/cAuLmvrYRLA1/uqxiatImlQ+ltqRn5weU89C3gsgEdIizybjCJJzhdxVJ88YXew5KDq1u6TIF8LrJToTPTUZ1m//YAjv30HJy/YZXQMNjM8kmGXF/gykC7hRcMl0NFlpArX/VTTEz+40VGAfx9ferkiaF3Wy8jhr0ILARl4eYX0jWy6GGcbb5TDxXNtP51qc4jhNFSI+RM8YpWl9Y7dfwFptlT9O8guljrk2xJY2IHvbY3A0L41kprGqsptY3NUEtV67iUFraJD6qDKBxbJeciTw4rhB9ZIiVvziSo1qtxmSkpyoiCPO3XtFCyy4Pj4DXfvLIwo8/RHLbUQhUawHbczPzUuVQQHkb6Mr+S0l1+QRz9n4CLtpJPL0r91fkQChhAAAA7kGeHUUVLCP/E4HkN6Kj/lhiILxQA4JXl4xg7iDGNkjYJ+mIEan9tF1nRwTdZoojt0uXZcTC4C1LVsHv/9iSlsZTWeorbVdHgWeuS3qjXOD+8PmJIDgNj8Wty/JQcSPeLFsUlRloEGll7csC5rDj/yWm/mGh5RQNX+WEOL7Mi7AT90hUkN7wc+4oG3pygKE3yxl5T3RBxFz3Z5/kfjiCLUVXW8NHkl5zXer+3rXij7euQA70UBaGgNggM0r1FHzobuyou3MdhhwmTbOp3RKwd/kr+ZBXpNrOlWGZaKRQnDELobxD2DfAdh0og1tJFlEAAADlAZ48dEf/GWi0N3g+VgAIAgce46dAWxSGW6e4KC8rPhq0+0ySnXZwgPpBa0W3MfBY1iAf0aEhDROK9XbCYEn+KLaJjYxlfCoLGiv+Vu1ljSW6qfBOp7GoJhmGssxQg7Jf/vWkiMm+O6sWiE3zQyaLKXEs1H7u1+/ZILPTGBRGyILwBn4yRvyUXfk4xWdQrFlcKvvoATrnP6VbucG+CNS+/e9dZp3pwPA6UbXrhRjo1fPiM1LkZTj/ub0uD2xw/EmNI5kcgt6Tw/iL20xfYKsYSItBvOeONMVyWifPS4F3pDBx5wuYEAAAAN4Bnj5qR/8cefIW9rUif29EdrhHgCJBSZ8tTBKUhdZv3/YEiu+hDMBLpX1cwGNby+junFtEV1Jrzdsu15mlA4/BRw1Exo+VJm8rP3XJV23CKKl8bWk+IpEdKLs4S+W7NozoZ8kGe5N8W0UfR/1AdUnBQobLYEoVr7NggVGnbFvp7Z8WUnYDX09dFaJqS3dhlCIkodDr4XQxTHKjHaBYrq20oWxMw1BZGFKcdsZmIKppF/d7m/rw0vx3eJKH/+pvqAEql/FM1Am8416LGXzbDdvOIXQF4INwc5tCrhOyfMAAAAE4QZojSahBbJlMCF///oywDKxv8KmM2ACdvUHQG71I265o5QOGhXj82zohIDcRSKAME3l6a9F9lNFYO4ngXFDNybF25Zf/4YRw1TQrxfAgSR2XuNhAn+cQcfExfv0UlbwmOWX6geZXapVHrW1/rsH8JGC8TdlPhjN4sY5VEulHn4BDi1Hrt+pXc5jYhsvt0pZffxS2S+ALivNN8IoLyG33fy2Kn9tAe3+9hj5sXTPf2hYpGo7yaHecEII5FtYE0LsxIOa6UkIpaOdQbuiawueoKobZ6dTbgDg4wjXFh7AFmvNLJMBZ8/wq9XESqHGcMvBOg66RNcjzpv4OWp4Nwn/3TCF6Fh9zoADWocH3fBLuHJJ7nkyp2yBOoos+6EQEolbrp1n3ytelDWX8He+o5DeAd+Ky1zijvYNnAAAA1UGeQUUVLCP/ArGId+YpnbHACJAWQ7uAP2/8qvdsKsr1lsFeTwn5JMANtBWTPwRSUcBR4myBC1YcKVJPuwb6KpxkAi/x8tVIKG2Ui6OEFg0JJxFXr+ahy6eWpRWw/pe/CqDXQlKAUnuqpCuV+p0Lrnh+wcsHGU1mE0N/nU0Ln70VC3/bCynLNkZGNUGLGJpL48T55rAu4XJ8pGqjz9prMnu0VV6LWyVMgekqB7hhGSs8LQ5HAMBIa8NDqEbQIAFEGzXhbdTh7o8DRbTbXyG/Njluug9jGgAAANsBnmB0R/8L9hRQp/RAE6J+3dhsTsHbJj+B4PyYwbcI9HpwG7U7G28WXOmZi6Y2MRd8yLvE16l1WGkvolbXibnh6IZf0R6QmvZC61pg4Ppz4b+FpUKxy/BQSAjvoWX2bsX0dKbDsP5qq/cigDDNeIQxf3900c+nofJfgZwDmnNYJ1IF/U7SbWykGGVA86nK0FGbGEWGhhBI1HCsQ7M769zPQccrVco3PEOk2HQwQFKreR7JO5zWaDflgvV/jsGghAhs6OSxSe+ktfZLAD8+BcHJfejj4zty34E5hwUAAAD3AZ5iakf/C+Z3SSFFnAC/1gXg514fHgYc+w7QPChxYL3iylonJZXJomBmWOi+7ykXeQeqdI9XszEVzYbSOE3FIRayahs8QvaDtxn+6zRB+8+sJ80plsHgVY5evA/sqcDIt/kPqAuX/XYFXCQbsI+HdBpkS6MGsyNxuvxpO/4SXL8BKDGG68hc7PO+eauw+DyyDBkxBtmRIOm9X8dooe15c8MazzmQeLisjRCN1hxmTqkh/cdddoQE+ExrTMAwRS/kpxl+9VgsC8Z6mKXRB10De+gev0kqqur+wJnT1mWey3GHrBO3telp5zgAlrHRU7GcrviLs4xDjgAAATRBmmVJqEFsmUwUTDP//p4QDJcWJg3muuHNWuHesD/P8T8l/L4AE60p21Ddft/JRUjbxQCVNffQQNnLT2nYvUN9tdI9hZGixakvQtVkMSEv511T4Ez3b7+PWmI5VJZuYRm6/0eeYLCr7y2k7KtwAzAcMtVg7wdqPGWTy95n6CZCTdIlvy6dmp3tgTy6SLIPQ/heNNyQtiFw+xmnxpEjvbRHxh6seqrM2Qu6xB4DRJEQEX3ujo6+gsVxyu70aDlLYeqS7IVOtCXGLhb7B2BROQQfyBGaOSUWJ73ZenZth7FQ2jc2Nnf+Cf019Bo01RFCGh/Hi+AE2Fbv3qYxEkpRPaKjkIFJURIF7H0N9ugGuO/t4ThjAAJFHbLtOJe2CXEHGSWKSDfrQDRmNOPum9F48cFQYScBgQAAAQMBnoRqR/8EVzHgBYei2E5BS8Hp9dL+QcP5n/OLM3YayCUIrXgjrPFvCT1MOTFald8LXN39AIWfR5uQW8LDW3sOO3bS8o+4Q32UfqGcB34P98p1TQTW6t3omu69fBLP3x0VwXqDhWsb+Ay0c6S41pwpj5oGGwdJynb6zQhUNtEkv4PPg1f5qxZrhFIsrGf/Ws7nerBjHsVX8wPfxtb9d5U7lOgeV0z6D97ywXvOksM76YLU/kD3ekkpCzSp4Y77hx+X0IyiX+TrY0oHEFk2h58oJDQjMeT6IEsVXGTEs40tgnfYLsN/l71KFqBJHYhf6109UmZe+tU76g7qObQBkGUMeZ/hAAABHEGaiUnhClJlMCGf/p4QAq/faIppLX0Lou7Ciw7/fjAA0/ukeIBppf3S8koC7U4pkSaEaDikRLbzlwoZFKwFN8p1fzkJUT9l4l+gFm08yd6lF3uYbZVHHBTcnmJkVULsn+/9TgLFgNbTVfT5zkP/XsLiHWzYG5MoQYB4txnygOV095qIGj9WtGLVNECF205yCJTqTKjkj9a386r2wd5a7JbNXfLfguIZJUHXD8cdI27B0fXxRDxXZeFRfgiS2mwit7nGvMzdyVNFi8X/v1ey7D96imoRFrYRMb9AGjZh0lO9c2DL6rboZk1U4tULRgBeIQCHRW2+ls5Ru5p11EWvGLAuv8Oi2r9iPWLNR/h9REkn0BHSllI5EDvINBRRAAABEUGep0U0TCP/AgwU6p1DixwS/3Oz6IgBMldUhVjReiNlxpZbTQ8lWjnI54QB03Gnz/Pnun/v1CHTCJ/aPhcHejE4YOrF5RXv4YNMDC7G9e4VAFm6XF0qTd85klCIkKpOAYUftWlLjEeUY4ppSzkGh2X0nGadYOUyUOmBjTbIVgcyHWF0WAVMzgvTYrnul20Hlnlc4kUhciOK8ahjWDJwZ0E6hDooITUza9RwM5Xhfw/fZE97e4Xg2vzGB9smhhDxL9kAzpcqpnAgr8Bhet3UyJz0pZ/pA7QdWJj+MCbEHSAi1qd9/WAIpdPDFcVg5sWSrijAhBIF0j3lHboelGxDYWuBXw4IYKx5aR1Au7fIIp5x1wAAAPwBnsZ0R/8DhRkBrSrI1X8D/tEMWiRy/gQFgHgAFqbVttBKeAEkIacL9zJxe9XaP2VcoMKzEHO4UTVdpjpJ8DfxMcc8pfXQmjML5POuy0lKMlttEgZ2Mz363GfO7RpLryv+tYlIIM6JjBBiT26oQUxzy88pv6tXrFeHzuLLs1ilOKIUBvznvhrVR+vazjMGWQlhNJ+DDcOQJ4loORFxc4A98dtzwqDc9uSS1pVDY5SOKtTxCnRx+t50AGjGyeGHkKB0pp8SO2GLSj1PqsTvm+qIi5uqxm6rdhNEfIiqBLIAIh++DulXic8zHfcOPy+hGUWnpKDaRtz9X/lApccAAAEUAZ7Iakf/A4cDgzKZzKXIpmwASk/e90VPh9gJbOiwJFJJPw/dBXrmxLSvf/ThDyxZw5qssRI9FtNGtHC0rR0oiYkRcghQUHZ6aVXdRRX86/qdP6Z0N+V1Dk1ZhC6DWIlnVa414yqdS6A7vwE7RAzILq7XKjEshLv+UH5lfe6bWUz4U8P6XYABVG6ocRz2cqrVXp2v35zJFUI6utslmnYjot++KHNCa8UdHr9k6zlLC0MnEHikP4tu2a8Ynqa9o1dRFpT3ZJUqs9/Aaa/SB5SyzytnlBiN6DCDb5yN87X9lKh7qrI8HsoWlK+BQ9LEQb1DFqZTdSrzMu1/L9dRheGXXYya/BYdC8EMoUxGnVonchoEiq6YAAABUEGazUmoQWiZTAhn//6eEAKzzLo9Eyje1WNX2XFWdVNeohMSMAB2h82l3rg/qbeR2vo61kAIfQVjU7/Th1UqMssbR02JGAL5RPk5xChI5Yo9/k0ZRdixYOyHyFbapWtyUKuxfg02VQBgqqOnK3D0dSnazqFAfmd+93/ZCEeoZoACVZHECQHAvU4LrHEvbeN4+4K3sa+/RAwZkLdGzUl9OPIPd9Ptb702jQD6G70kmaM/K7IMUk5npuU8HQFwzP6fdxybmWGZPgFXb8zHpr/lzTSC4R5v37LCQ+yME29gnOe837VPXcaFthDagINObGFyAlqA4WkPbsc5hknRjZLJeL9JPKqCpiROAsDVShjrJcfTx/RSlUE0RHBQm0xlONz0+ltdbQLx8cRs0d8HNOxTh7dpCroJnc2XNj05qIT7fMDiMVwsH7/2Y50/JepBqHAH+QAAATJBnutFESwj/wI0oqNTr4Ej27IT5M03GNiBMkckrT6AFrdJgKd1Tm+NCbXb1FsMJPpD/dYH7hdekTN7keMdjvindrfmYSZo83jJcXJuUHY90CGz7xbB0UZ22kMO6Th/mtONR5ldYHcITyF+9Y8mN2voHKfUCBQdgmfW1I+vLVaciWarcD4WfmjuSqBcbBJc7DeGhGLEJJ9dCwk4vGGOUukoJ6b7Arr81b6JX1FRUsmSuM1yZfAdznYw553+U/0+KCZ3G+gdGgr/ute+CTboVKsjgbvEujPbCJ7yGdVqJkciWG4/EhGqfWQrw17tPVOaJp3leeGxd/kVaYC66Xa7Wqtzsnda0ZbPB+uTHpEZv5YnFyZCVNBfSJ/SmFhoyLB6AaWXjhH1B5waaHYuYBEi3n/IgkYAAAD6AZ8KdEf/A4UU9tYg2nCkUTsAARgDNBQOQe6m1d3hSzJ0KvgRrtEtlzRV52iLYJt1I1zXgY6yr3iXG5RT0QIZMSW3inF7YmGeu3dburot/GXdSY+5feQyRgt5h9wXnm/U3vMcawOl0Qj1IVCiJ80u1K3OG1KK6iq/frxxkSqCXpnceBX2/a9wtOo7LgxkhobqsRNZnRC/0JWGKQ0T9GCl4efl9EyNakE4Cxxp9zYprUWoF8Wei/4Jkc+8Pw8RbiYG8le6eFoPF70s8UcZvaRl1RMALE6OXYN/KRGr/tG2VDBO4hB9XcP1SMn/UAE/jvXzMs9GFHyISQrFSQAAAOEBnwxqR/8DhwAqU2LFvjZzxYNQCgkTABJq0mmdExwk6tC5zGCkQuaShltlGj7heiDEYtEL1CKjSk5lQKUfzSGq9ZG3fINKv7eGyJIcH8WC36UeFoFV2y2udNKYmAb+/mRDtM804Iu4pIvIJe9h6czG0W6ypoPpg2QAZJ6E3j4LBZ8xDUyMz53+o/WrBgdgwDMojazo7eUurMmfT2Sq3b+6j81RWkXi/sXkepp///BOsRh3DFVGkqJLpFFnpJ31D20ifEtlQKZey5sV+n9sz2QKAFr6KizyAZZfRTWPSmZQJOEAAAEwQZsRSahBbJlMCF///oywATHjf4NVZAADjen3R63BgQA5zf2fJ7w0mDkIxNHXNLaDF6vmb8HD4Niy0/kyUo21/DoauIJt0OhMTwapDv5IDyD9gg39b2qHCn0Zd3Gq/4C9mr7YUwgcSpyNLa9L0ndYZUvoAB0drDpITUFW2YMdro9k2dSoz/pdVNQGz2DJQEta7a8BrXz1ew9BdnXmtxkfd6xgatw73tOLKP+S4asIrCXnYP23fh8vPtCU2VcVdh3gk22GciQuCxRTi7ACq2eXGez8zg7qAHG6460Clz0aMicqODf8AOyys0bXhpeq7LR2N+qyfV7PW6JxSbg0vi4vGWZFsDg6mnpmn1WaRU8Lgii49zE2tuQmHaS5v4MJrIekZBYTGVQ3lr7x+kuG1ACRgQAAAP5Bny9FFSwj/wI8U/xFvQzUaOcWkwARgCgyTIP97oyqw1FrYAX+oLPmse796LihCP76VQksTzyVe4h7uQ0gwsLXACYnHlWL0DY4llxkLjHgAxETlnyGWPgA2FI6Yi4jTeuYUmmW1u3xYQr5EE/ANDDJoIhnYnSM1cAgyAdEw9K5fC51fxmyBjFYpTERkA9DcO3uBgtlYFuT/dARkKMd/1rAnJyqSs91qmiksGHIXbD/+6gV9miHlJDfX1kboHDc0suR1sBMcpBvUTs0w8bK8HJqPNpggsocqMOLhSfkAkAsjoMcrK2KerBayW/2I6VtGoo8WrHTST3wpo0U/xNkXQAAAKoBn050R/8DhRSsl75I5/+tWjFchDKq7C14ACyprHswrQZif/hNIKwF5VtDmmmGbAL6eJYiRGMhCDSpbBkuemTqa6YjZg/Vmk2fcELiv6LioEdStnbpFJyL7h+gWH5R1MDVOjraWczzrRFv0L6dHvVyfzo1Npc/MtyS87/9qEuxJU0QaliQgiIFriIEHgLTKRtrxuajmAo/S2hnGF3WPVgYz8GWOwPxS4BTQAAAAPQBn1BqR/8Dhv/tlX7yQAhFlB0+gNUFjnbmKNcl1fLE5Me9xFfCtdIhpkrMqRFJfjSmQkuo/CrmnXrXeebe2wkafWHui21HOyzQGwg3sFKWlrKlbVmHl2CmqLLPNJcJ3HU2cTsaWgbmRaneO7+s0R0K3fUInI9KzW17dmV9167Q1eXVbonnaalWBkaykZpjIrgBbR11Qypa+snpnX9ewXoaQF0DDBHFpjh3FNoTXCluLo+Ck105VTayE2rEOg6KLhl0lzOgEWD4pjkNJyjEFmN6hx8iqydYga/n1brYchif1rh7OK1pTw97pcUwaxMsNlI+IC2gAAABJkGbVEmoQWyZTAhn//6eEAEu+LC2/IPpClACdBiHxRvF563+vmy6dCjpjdNXTs/C/ag6kATGHPCYdAobfDtVK22if34C3TmO7QqsL09RWmjjptuLjjB3m7hP4cYJAXewGZJucPkeIYQDUkiW0Mx8aCKxbH+ltZVMsZlrpfWRn2/pJFLCg/+JDccfA621MbzMZyIX24EBlmAsM0trfeD2W0fSFEEvod2wDCMJJ1wnZZ2e0ZVI1IGwytHDFx0SHXjqea3gGwInY5NpRRhIpLqkHmJQpEM6D9KjlKcy6QTVzu+vphQjzcZN1OocfPEJ5EotsoTH5kfJYMWmWcvPfp8T6tMpJa8SiBY+q89WX5EI1EXCN+sBixOA4H088JRDjnrvL9Fe5aAMCQAAARxBn3JFFSwj/wI8U/xBVa+LAkErwARVu/PQfsb4w1XkBv3y/YzO6hujhPW5LEZBoR4w+RhuzQ9R6X9Uegs+pgXz/QjuwZCdExuqJWA40SewcpnHli4/t2XRwCx2nNpdPUbsbmUNIvvfNf4b+i91oaKZpKKQHjP1bp0V93n51Y6YXDy+zAvR1Tbqqw/3DvcgF5V4ZUOgc+ufOqcsAMxWydHLJnDmTj3TeRkqJT1yhe6PgoFOgvyVUNBBDvt7HUO1IsLrTZRbXEzkcN8XqI5wUyw+bL6Ir1Z23PGpDxHbPL7vhF53UnlpROESYcDwYQGXgPksAIM7DhlEW2WKA8evQWhhuutT/r3C5zYvXMsQjR7qqlU7Q8/o5hFBTADrgAAAAQoBn5NqR/8Dhv+q9cXXWuAEdjwySV8eF9WfJLHylhaxTW1bIWaWx3TXnhPTDKTPN9gBFCBO+tawEc53OY8UzCMYdFJQ25tRiGiw194wn9i7O/Wh2qlziUFlM/suIoezNy+cpYIzB0ICo12NwsFxru5U18vlWr8Qpo/D8Vbf4G18E2gHJrCAmOPvWo3uPQ0b3GCivG3jXcJwRhYxY6S1SYSbTbP2mvWfIYHmByuQVcCgyyXTGc8HmYzvaiDs0Oj0Wf/7tppOH2ZHgpfr7b5VL2ImXpQOqF6dqse0+wWawiZIPAvARmKFiMZIfBNw91+hx6XA7pplN/dx4qo4xpD1jAMf/hEzaxDSei20UAAAAWBBm5hJqEFsmUwIZ//+nhABJvix7vNoEmc5XTrF0Ctgq95dyZjKwAS8Nv1BE5IVGN/dtRKrP+yilosP6QPl6uAip0L2GPazxtHlsW835OYdwGRHG3ahuijYu9Mos0rXdfI+f4w+MAcz+LIb7SvDWLt3f448TlruQY920bq+vsUFcVHJhJACsgBN9+bXUnDIC6ef6Lx82CbQcCQFgza2CcchR2dbdQcFjMZTfoGkJgwt5yi/atY8oOzLraHm9PBpYp4F9vm/quP8hqE1+ljRW8Lu2GifNCpdAhifrxXd5VNs6jwQi1Mr8PMAjsyY7vN5jZuln47uxiBw3xjerDit2nlscFoCNQOYv6GzGUrgQ9UEsuTAbf3E+K2RXfSZVF1urg7dbD+Kh00XjnKDL+vXIwA2nQ5YBBtxHv48X3+4XFZhOBXv0S6SRwzbN0l3MIVkZ2AcJto7tyRbVWA0zUupoELBAAAA8UGftkUVLCP/AjxT+/lj6MgBEg4MpZyaV/6h41sabKFvml7kbpayTjwx9p+pF8cK1cLskKOdkHt/hifbV1915wJ5xxPE8EPjv0Q6yAzuWOu6x/NDBSEZtxEjyUa2R8dfLDtDf1aFZCnpfbWG+fURHNBkHW9aYvyR0L8m6KWZt2G7GWGthER/Ieep5qM4YwpWhwv6GyR+PjccLI1x6lmmp8+h3rNWXkobsBpVROJrB2R00jq/LG0FdeaWbNsV0nWbv9ygihncRth4w4c6lX7NjjHiIB9z3aa0Hg7o10zFlkg/gZFJy83muvq1Q96jxG2AJuAAAADZAZ/VdEf/A4UUrId7ywgHYy4AOO474fSAMwAwz9OJ+Wls5zgSYLz6fzRQ3929+O7nszM1DoiTaAn8trYjNqIRw23Lv4sH4YWmge92oqI48HyPzsShx/gZ8QPMrPUtEoVJyI80FmDkwhH0jHpsogJ2B28fVUz2BmThR8smvIrrFGMNmPZqOYUB6aiN6tDhgZmsRforblGNLqSl3VCpxFe5BYMZZcjowor4Unlufxxgwq5Zg1KI9tvn8OklsZAWyMhhNN+dIcH+BLGFgBiwD2l+U4rJZ0cPFaD+kQAAANcBn9dqR/8Dhv/s4yUs8Sd2+Tqs/etcnIeEzUvmoe2zUxwQ/7/5QYAOMGp0E27acv78u0xa0dIE0S5xaLu5YeAT7gHnCQz8GWF22xRgFPFCtq481Jp8qSRznXgkFYAI06ECnTSugDeVmc3FGDa6JBTSDGv//0L9Ks+fKRl2e5vvWVl1ceg99mDMOBL/A+2qdtt1aMoLP0qZMwh0pThB/mk+Mn5j/ufb3dsl135hJMRTGXA9DAOr+O4KeQqwlcGbA0lwAZlElXygAMyAaooXXSs3qpRrESjWwQAAAV1Bm9xJqEFsmUwIX//+jLAAccdhYAEQZdXbHHv0HcZid5xf77svkYR9cDTchoaGYKyFS0Kbx/dTLSn4SHY9bZ3s7iJg5voNGPvh7JbmV8j/SFd6s5rLuq8VGzZInpLoD6bvSR8ARFE7ROvc61S5ox2v0Q0ofRHpERs7yZwDM9IulEGQiREYC/XQ3ZAr4mtlUVruVWh5WXGQBeTv7TLw0mdxzPnK177zGW/GuVP4hdf6kV4Js6LQCQk78N51y6pZlpoHyHHAcH7JlHNRNH+XkUAJgTWzJcL5VoxXFhU+GRq0k2cdx5+yJSONPrPYAya7zXSa6DZueU9+NNQXAWFSdjcfJ2GmbsMzBVXGCm7gg70SW2CXGrtf0M5QiMql2FhAAHvH0R0EiZHCquWPcmu71mzYjgaRWIorTYBm38QSbB2Zk9ixyUp1q5cyP484+P9kRBxlIhhxAEoKEHUmwAj4AAAA+UGf+kUVLCP/AjxT9c3W9jWedU4DyAFuDJP1sTbTt8D/tq+9wYSuPkT2np60G7fN1hhUNOT2Xg6TEbnFMkCU8uWQgAgBNV2aSpS72mAJu/P6w0qv+ve8xXLk68v9HIBQM97aHAaRYtX5a+UgTL/WWV51SryADQmiBAgGwvrBfJ0d3gyujdv/PB5GIXjuJStq2b+ksP6bYeZZYf7yjsL1rUwTtlN4aTxEcKCw78xssLczjcWETKAHsOqGQgOW6+9MJvIlHhQuyhBT30FqvjsiHPM6WO74+8PfhbRfDSr6KeKvDfzzPjCqUB2l5BOVihg+yGFHFaD/32zegQAAANUBnhl0R/8DhRSOFGyesb6I9FAKAEsiEpqqzzBKg9KJLV7nhwrW3BMRqEHJUwE35CGYMUpgJvS3VamvSkt88TzW34fWfEWNTVxEfe1iCTuKqqQzCd3jJp8UnJdfRTgihQICmg5w9I/9u+HSnHIBp1In13cvWXEcIWDj9EksB2v3lGcwMb3zrhXwfaND/j4wxBjniD64VLD3bYW9cJKQ0dQMbA6K8BgBArpshft8r9ZGX05nDE3wzeTGh/TJ9LYOgDaIPnLjgnOSnN2OKEPXB4LQxKRYA3oAAAEbAZ4bakf/A4b/1DLunR+WcJWQgAIyLr+deLwL/Ow9cdXcASh3ZbaMwVRBYGbL+YjmpF2ht9F/EVQWz78fA5Tvdth8X4LpJlyaq3mMmBWPDUeVDoEiH5xGyHW4lr/eZvv2FpjjS9NdTdaLBieTUcaKTND6+K3VOWeNHUQXcSkJmQB4Bt3+mrR5Lc2kMgrSu1WAF41l/wpycEjYXK+KtcZwsrC3ZvbFIYskHkSlHJg1OGM9iHXTa7k4H7tNCvZAdKWKZgjAv/hOm0D3Gb4VyuSMzpVmTQYIWHYE9W47hDpM3GJ/7qWhPzLPdB5WJHeL0rQVXMSJifB5nECiFIS/YI+doIEfVqlg/+M+5H4yZMQu6J/C9Bde3WdUdeTugQAAAU1Bmh9JqEFsmUwIZ//+nhAAcb2PIlon/igqHpwAJ1K6CtFldd5qW1hfya9eEIr6GrfEAWFNSuHynpK68NkxA1Xze8TYxx6kZ5RecJ22pz9A2WqpW0iZmNTa/Lkn3FMp/ykXhdAvtLitYMsGpFFU2w7fBdUJRjkcmRJU0Y/ada/YOs5MLmQDWLs7RM3H5AmbDED2355PQ0wTz8OX2Alkwf+Gx+bCb3vvi+1xn3wrEP6VAQ4FZX+X7p5tpzI9yrj0UB5nw7XpAN5/3zMAe2QddKL7Jtc+dcxHoagHyl56+ahu+A2Ea73T0AkLCA+dLfXBpOZ8qXyaxOVZpeB7qe+vKOPfqk0nKkqMdpUaM+bmhokHZRDvr/SYm1m9M4DvULj2k9Fb5awBVwWOSd0unXbC9Ftz3gLB2dJpImccSFgOOrvjKYJg1GJko0qmqRoALKEAAAD1QZ49RRUsI/8CPFP12D78jsKz0yQBEgyaq4MM/RIyhZn8UCp5nyPrSp7bV2D03yqp21rLUfB7D0TDP9IO8N0wlF2OCkjFXNrpKEXPDwDQV6vi+nMm2b41t8OPKbMZkrs0zVPUP9+IZLLhdmPZ56prdfo3Fbe6RTGVD49gOgirl7N4wW/8gszpKMpwztjXG4iuNABRze6aU/TWOw+WKgpHuD3VcM0tmIrDBHPxmG82IoedyDnFzHhzIIiyfF5gczu4JICFindCwT4654wJs3Op1X9iyUxf0MfA1rARnSnsixBXnhmEeAsYXQqhPhZ6VV8GKiSAVMAAAADDAZ5eakf/A4b/1NvjaNtYagByhPx1sgWna+4zq0EyG8GwTpfk/ZnX489FhGa8bX0D9pAzO+W60GdtKNDZAVYTzIuE8INAomZSUg6tpClnVIZr16VoPrOlNaKABhQp4IVOR0Ts19Ozf5JyAafASV1RXJ2zjj3PfmDI+YSMHWIt6a0mK2I2GxrYsYWZxNGLWZrIgkWnDKPOzMUugeQfiEbIM9sSmQo39AX3DW5EzWmpOpxvq01pSOfp0dM0UUD7LWUoYBQQAAABcEGaQ0moQWyZTAhn//6eEABWvd+sGzBV/yg/ayAF0GtUsilmG0TR0kRLr0fdrm5mdtjxg70+lwJPwnbm3V/qMD1rkXHTtQEk5ie57K2Kog+eqk3a+KQAsU+Nnysn7vIEpgTVUmrNVMazHFiI7na9uSGLQZBboBsV4+Rx9UNuJ5xcPWVHRafORr4QxaEISgcBk+GKPoEDaTu5nt6UZZSsqhxCDggvqhXA1Mv6SgyxhMjc+0g4P1SjhPuI44HZswn74GG5YwkYlLueDN0x2aSsMVFhMxFF1tuVpsbtlN+dD9DPC6LTfP6zKGowQ957/ipEwudU8Rl7YDJEwoSO84wB+Qw6qk4VpJl7TP2BtUNph01WcJmRSs3wgEEMqpGehuyK3lZARMW80m7bXAfhLg0sDI08KX+xsFRj/TfBpbaViIqwDsSeA2YGnTT1/oiyJzv/bG0EnuMwXn4ewyWS7I9Dcf+nHL2Yv6b4vWLm8QEjCAM/AAABDEGeYUUVLCP/AjxT9OhTcDgDmFjl8xALBiiYfoUO8MBK4bT9l+7UgOohvm/5o12P673eP6SaQKXIZFpK+stFFxt51OXBk1veYzKue86KtdzJWHt6IZJG86sYyGKqD76J15WXFf8LZB5+Ykbl00Mbq00niDC2Kwjxitsqj5nG//+qnS7yzCEiV1NWaEiVr/jkt//GX9QFPtHCXEcISTM4L+fIxN8EnjTG1Jzd2tKG5a+Do8STP/nujpI9d6rUJ9lyV6hkXF3bHcAI1nPT06DRMyf3Y7lReJ777kWD7SGe4acWeoDQe5KSmJoa4rJekHYB6ZiShuRdsSPVEXpwHcCGkR4KsIgpDlqna+hYAkYAAADsAZ6AdEf/A4UUixRbgZ4AhHZv514u+gtjYs3AmEaQpnwP30sCZvqCl+IkCAwtfb7XkygN+bS9scXQT88Ute2ozBfV+kJ3lRfLbGv25rXC/r+57Evd8bAOroHFNv1D1Oapiviv1QucXYry211uqOyn8r6BPoz3hJ4TNifg3A3o1iQjUgEBlU0dDPlSb+4lBI0QNmeuuP7Lfo8pDkeMJkYJJJS/LdQ4JK+uM5YpcX/tIjSAUM/N4HYATimSTPsLWdvgcwzBJGcOZYz6oKksAvQBMscu00ICTdVHeTzpqWesBnBC0zlSCIl6H69Az4EAAAEDAZ6Cakf/A4b/0jRDo86mc/ABNe1BhTDOkx/J/0vy95a/djAXVgausNPltOZQfzN1CsxpfbMB4Jw0p3nCjDA/GE8oSlIzp3wjG4AhrO8f/ohfGGmV7YM99bpTanVMlM3TBdFDS+074lFrQ1aYNx6KTbX/KKb92uqY+le42mUjIaDo2GxW2T4PfSXu+z7DXzC/6NmzE4/0xzVYWzBFKXBNXq1yE1YQEyMRO2R3PlUTqgJ3EFGFX3nptKny7zIlMFDY6thgRWZwYBwE8/Yu4Z6zUg58jPRNk4qJ8U8Okd+26oTu7KtoypBxG+y+fxwXH0Ca4vVmQGKp2xB9Z2oGMTseZxC2gAAAARdBmodJqEFsmUwIZ//+nhAAJt8WL9696cKkkwAg/MCIeo/D+mZA95hJ/QmstVSj9FWFGes5hfEeP3GCn2bBpFoAhoSPevefteaGs0174+CSU731K2zj4CbazBVhgu0QffTzVgJo1FgIXo+QDkz2F/BHV9cNo2GI0Hm2Ryw0g7U4XykVEMtmyi354JyXXXqYTq/lanyMq8VjffudjshZZ7y29FP6WjcqQ1wFsZiFegZo7unplalcxY+0qf2O0Us5nuhtK9bkONKFSJkFOBPap4fXFgNxiZbF7gircz9CnFDJI9c218oFX2o744cBQrqn+hhoy+rU5w/SQtnZQwFq9ztgFd3UnIwCyV9K/ERxCfUNnD6C+Zvgz4EAAAETQZ6lRRUsI/8CPFPzUDFG/isHBBDQxzB9/A+ABwYpNGkmq4rLI9hlphB+Vg9e8h/2mh5iRGAU4eeDgzedbwc8j+NtuDCXLqlgKmbPmVVHsF1dCKq1BKkU9fibotlsyKs+19U3Wr6yqsSUlfw2BX8UX22/a75dBuiLnfZB6a9kA1A4iV9rGlFMnqcFSJgo5glBs163aIVwJiNQ9jDymU0jkjFYWUETlh5A6Yg19c+/y8nRTKoYhQPEz3wbOIEX4v15Cg/SdphLkeVLcm0fklVcNHSQQKm34wlyrOUDn+2zpdV4q4jnKMICgUO/1bRXVyt8POv3tCmet+K5RLfJvLIxIjNcpxNgNrBFIW0nup2UO3zUjAkAAACYAZ7EdEf/A4UUga7roAbfagoXL1PkFz3iYw/JwwgtAGWgu5Lx3r18LVEHL1YDcMKKh2e+x+j+p80w3miq67vA5vVmqeDWn44FYrpG8T25UDtO04figKpANAp0GV1nZ5JFHiIg98P6OeTVf7C7+/UP0eFn0u30GF2z0McpYKmW20cC0Qef7Sq5QqIlWCAKujtMEcuBiTHSJx0AAADQAZ7Gakf/A4b/yTfGE0jv7DcAIJIhsPoU0zhz41gSlg47k8hoYxNwoQIRToazJoKPEH85gP9Bym4sMJ5sO50pGXk8InoAyKWk+0i0O0/1ztb6eWwmcsNdcUk1QeUpvB/qiHUiWJ+mksq1e8dVZgPqXilX3GEC3M67ZGoNIRyindUiOgBi0nM+JuyBFgOiGAJf/2AkRz0APWokQRWtCYME0akcK4XjMUOT2sOYeRRmWx2PoLUXdl+ZuiVbmjnk9grT3lRdRz4jT7muPm23jxEg4QAAAVhBmstJqEFsmUwIZ//+nhAAD++x3Upz8kAHZE5hqxXGuQ0hyWKMcSac28hH6QStQjkI1FE52H8rVd/7qZcUi7FFUNAZSX6uWnl9CvzBQApp+OtOLzxhv1vDpdq+/q1IxmnlJH5GEvx4R/TzsJ+RuGwf+h7VmVR541Hpd/TYfkMSNW9qKj9GAImRzK7aXS3alUgaRmdY8DbjTOfo1ziRMGRzMrcmv9JhaVbTOss5vWTYWKcmpGY1RCL3SECyKp6P03Umto9PYzjuiLBmyvRQLOfReHXBtjPqZGh1c8PgjUtcmnTYK2IZLnCyQu4kuS38BF37AQnU2CtA57skdkvrkndD2PPA1dmd+UKXFfmdM1dPBm0YyYlXs3uJwN+AsbeNk+t4AhSwh46PA+Zr+S1jYfUpSZe1n83te7eFAGwF3dDLOSEgZld+nGU3nqGdJ4nPsnDYvp0LcwAl4AAAAQ9BnulFFSwj/wI8U/NsEvrmSMJYJnbCQADf9fpAoiHlQjPayCujhkGyEFhpRes4mdRsdhQRCNUYSLiwqlbOxjlC5YBP3b4MCnZ/y06iqKkGf1RF4KTEwD1pp1DCkCzlsOWYxSfhRbDna0SwwwKwgcKBlUZ3E9QfHI1ryO1CYh2zwyZiSPtKGRc1E35BFUUFJxJUQqZ71DkLHTq2M/rB9lx89TVyTxzVFvVIYGUGq08ULyxJqHUeZXJhwtgaRmLGHnDzewxaWhDJ9edpb78VcNGwzlzfjsuq3D1zzVBN6Wy3fa7UeP7xD3owyiLOVY1EM7n5hA01gZsLf5CFPAGHokrwhMkn+2w4R2S36Zqjbm9AAAAA5gGfCHRH/wOFFIBPu7KvdcAKsoPHZPRGqQXEz7JWSoTaqcFBtG8whqiQ9isg6RP8Pb7+Leu7eNyhY/+z+l7KX84eW+9stMpSGKbYTeEQqDsXIPj7l/KitIuNAooCpzQnRQFZfyhZdeWFVWjCn58ksuBbMS2soFvyo0Fup68XLXds9L0DrN1dzF2ZZaxYoh9QdIS2vqLeNvBC3f582DqkNteRR2RPyKsQxCkGB82FOof8+V0rSs8IuL3r6xQbLzga6USr/UBpK+bK7BCfSy22wIb7I4cpJQNzXTAPHcPDQebF3Pgb/xH3AAAA8gGfCmpH/wOG/8k3xlaXajPQQHy3gABxYDJRtQK5UTf3De19ANL6DERpEHLq0WZvCU7APGIowanMMjR5Ft4uNLCTeCGdb0UvQtzqA9EwawjVDZgcQRjYas+u1urMEYQJ/sLpxiro+uABw9pID6xpz2QEAyfdUeoledszzmTWKdjPB3toJKLB7aReMmoqLcIx4J6gqG6hhUlogPY7fZxt92oa5ufpZ1EOt+v2HqlYLFuk50YUCpPp4pNGL/52mt9eDE1so9iLTAM/1nNarcOxl30V5U11SmxgZjllrJgNVVQxOHd/qZumsJQxiQRcTkaBrNvQAAABNEGbD0moQWyZTAhn//6eEAAPP7Hju2GXfwnJrTZIkPSGif8rfhejTR1T52O3i0/vySQANB5TS71wf0Q/ZyXtkn66TVB5Eq8iXNMG60T81c6UnBlt+/BGiovVqG4fCLdVb8KJIBgIV8f5Fg6dJrB9W8fXgmS4Sqb6iSoVJjkRhC4JG2EzqHpnVX7HfMAlIpqaVuiunYknXue3cYbepdM7XmI9NwOq1LSmx4etuVVXeNs0NrcWoqkKyw5jmWC8vFdzzSI7mmNnIZXlr0hR8AFaJP2WPQGgKmsvR0rerHgxuA+xmTvw18f4a9+Nj1rVRwC6wmfDVfmqWOOr0ZhUIVx54QZ8Z88qufQOZt9j4mwy2efwEYl2hQU9rQNZW3pkFWBdHbw8m3wIG22GmfWdQiSKqqfJTHzAAAAA/kGfLUUVLCP/AjxT82wS+uZCZhYArfUnBGt7wJuAG35A6YQ1sZdzPL9rrHuMPosglEBpqr5Lr8nUT44Rqm5i6tF2m+iKyH5Byi70/N7No+CKzNSwGf4PJAOkGjNCieIBSJFaD5laH4OvPOz5XJaG/Qi/S0VmH6Tz1BfB7snJ3nk3WsaHCrWOSNW8hRS2W3PlOHfMc4hVol3DgfWvXCfDyw6YoxsBhlggUFeAT7Uk67WRcKxdZehD9CpZnS6y75l6f4pm70jkJEVOGfVSvYGwq7ySWRPU1ALdgG3Rht830nIu0wA0vC5/fxHo3rE5kOiS/DKPzGv6h5FaaUMh9Mg5AAAAugGfTHRH/wOFFIBPtAngC0iKdBuFZwD29d+IvZIiDkwNUx2c/6c4ubKdo0BAqJwgEqZ1LqQ8pCmWXq30wLkaviJG2psDcdg/oHLNb39gQ5p2K23H+d7iDNT6aUgSZxcFikN0l7ri6BtaEy5rdNTIRJybGgs7rewYRz2EC1FTo7v1KQjsTRAD7RxUzLU2DrrpNrs91W0tdpSX46rOnNjBEqNNmhwoQDuLMLNDtCcbp4WJdTPh3tZdEiRNmQAAAM4Bn05qR/8Dhv/JN8Y3GUANvsU6CsFh9Ob07jcCKu1UUfb2B6esv2D2jciGQJL492egzRKpHa8n2Gp9CEo03cf7nq5da9D8sbieZi4nU5gJ21GGKtbDlAZNT+wpqDdg47e1FyodDhj2zhhbFvsTzI8yoQR5lQxYnqtOZs7JO30iRtCZsQeBUyvLI8GtBWsj89tV8mBkudxjnFROp+gM9b9sZDcdRT4Z1r2FYf8ICP6rxJEOXuum11NGNsv4uAeW7PnsABERCvWwC6k0wn/1NwAAAStBm1NJqEFsmUwIZ//+nhAABbOZeTQABnKJ0eH43DG4rUgce6Q6r1upI2FdNB8dxVVsWP03lGm2qWRSzDS+wKkLWGi0fjn9hceLpcX6rqHUyV12f1ai8T7BeRSETg0TLOBEQknPbkGP4Key7DzwXaRwEj9TdbJxZeWRxwvuLwdBf+yS5DOMLPuY8aZvp0lqtmegbZMLE/K9TAB3W5VLaj6mEoRlwlj6yF7lE1Pa1oG+ZW/giNZTJAP3BCEhINS8OhvumKdgmxMvvSMESNTykHJv7FaFd580XvKyZl9ytRgnU4BqUUGegdBCnt8zvK9yG2MoUACY3fB3mGtP+kyTgNjJa3L4v19jAoSO+VQ/UMRbqNw34s1RVc3u6Bvt2O+9x0f3qmlravClnwNLwAAAAPlBn3FFFSwj/wI8U/NsEvrmPRL/w83OoPyhdicAJac9JUPfjoPBlbHAALvZYZ5GwTN9KgzY/Ov2QCC6bcuY9910EytVyFKeLia4ByjkrZSv5kNU/4fAzTs4FALXtHSDNZuf5tFu6Sl6vgfEZFNUIjHp3o1+WQyYPLjCPfW+YUgxwlNmJnxf9q5ljqKbF6B+kLqKEr3etDqW6MEuPxMiO37vN9EzQpoCww6jVYSjCS1zcLgSzhN34nIs0VG6IgTuEYP8CYelMPV9KhQKPr3IIcbSyi4nUjwbJe6WtKdZk3Zd8Jo7kYHnxYgeZsj8Fg1FncwCJH+THf0n6rgAAADYAZ+QdEf/A4UUgE+524I7e7MF9UWnoeKKjEtx9/jXwBDz9LrRxv2M6+YP03L5V0hSkzPw96aqWPbQovP+twOw2I/04gmKQfctqYMVogJSRglUCK3miC3MyKDvzqfZLN1mWda7yLG0bC69UviIeMVKlKLXyJU9+6+JT1b9gTMa8H7Zt4HrQX2Dq1W5xRtvjTRUkZ1WwLonM2s7wfCE9lRMp+TMj5I3kTapH1I5LRu/XzDjcaUuasm4Sb5+xSzAchWxShJWzyLPB32L18kAADFBmHK3M2YbIAg5AAABMAGfkmpH/wOG/8k3xMe6cANvCOzl2vdQLw1HR3rVTxrVU0xfWZobTkIW2/TEWnWY1MAqukUj4mPtGcCKkQptX5VCMehD5mT5FIt48egV7xarXTMjg2omBXx/sDOEXOBIXV0t7BpnP4FHgzVjHF/hVZMunlIo63a02+5/56D05FmscMXUqjW0R4LbtellAKtdYqU3hCkBu5Rf/kIuGeGUUdSVcHSS/aTUssp6KjdiaJj1Eeb1rJkx9yxQFk3brnlr0aoyXICeQk6+fNWHDM8LATv3mdn6IykaPZguXKmr9eVIOgQhzQz9ophG6uRxHO0ZIYIZ2o0VxCZpm6u9wo/iIAWUydTVNMFoKw9iQ9xNZn9tqOrzCOs3QCnBeLGIKCwq/HNRF7eN/nJxT9wenEQ0Ae0AAAFIQZuXSahBbJlMCGf//p4QAAWz3frBi/hOsAYNK2kN3vAB2hKIfhT2tssjXqsugeZDFxKclnMloa4c4mnUlCwzu/iU9f1t6crBQuS+IU0lHdYYiwxaPUFnu+9oitYEFvrbP/Rdx40qS05y+uhwxDDZ9DTQ7+8z153F4LKoiHOH7QNE9sAS+UZLKDChIeGYaw6DbYoQgjvrIAkHTwfNRHHiIz2NiLH8BPkJ6YPK2Yl0S1FV+tvQQAPtO8Jht52sUDz/U/Qf5iqWzuyEoz+w5C8YxWv6TN9pr2+s6xsASQlxSZaJYA/OAklugewPcC4JE4MZs7yU27xdwnFv5h3e60nOmBpIxUfKc81f2aIKy8vX+WKrz/AlxS+ScJW4MKVlm26T4Xtp+6q+hraPJBT4Xpxd2FqC54zLmk4c9OmSjtyZNd8IgM9wYMgOOAAAAPlBn7VFFSwj/wI8U/NsEvrmPRLjkmpidAAba/hWlGMddvjggLrtI4XOxhXTT7FenLEsVnoYCz1885VkCFPC6Uu/LKQNaeJ+cDmLWmAQgpGbtWE0sNxvXcmeHvfWkmydbSzuVFHgR4m8SrMNgDUoSaggmoY2L3dBXjecAV5kIfk4m2B4pTb+SxWJqqoKj6VP7gSGoacMFwbkDpzLBjlRMGzfi+wr+ZAEiHaQn6DSoibMirrIzektyBtVNWKiOW7G9dOo9awlUbkr6LkWSwKGrNRkDgLJReeHxCUKNivPwvgdZ1DF3q4iqswrc7MOiS6jgBod812cqNHOhd0AAAD2AZ/UdEf/A4UUgE+4ws6BsLE0cOYAcFFqpqBMl5b6vDIXh9bioks95WJzBWKkMCOgtKG6qNZG/tSD7xs4cSysmcBlHDdlbGXZFxw+llnuIWlhQ/gB0wWB8yJd7yvVFybiHg39NFEzFCxGMW+NReHSttldowL9YIBk4zbPReSNiblYq5BN55dujzvdsB4I3BR9anuymv8s9kL6KMhqpYObeqdYsq/AYqvtKDqdQasU59sU5qbK4ZusY4vRVzSzh93ByURNO3UySlQpc6VxfVQJ0wODQVybMlC0dgiveixIVlGVJGacfAVO0TYbmxJ/UCngxxWzwzQQAAAA+QGf1mpH/wOG/8k3xB25VKoAVyRruNC4u6WjJmhvcEJy4uzCcOwDgknjnHvH+vwn/2Q2I4sq8OZ7B7GqCAC3VTbVZSSk/NpbZdfpfB4rmB7v9G1VeTnH0fM3HqeixBugdurWCOWRNKG9yGF+BmC861w+UgUt82R30bAhz1xePocyI7L2pDqjKFUIUJ6QGMgZC2sMu4xQN1atHbq8kmuOzpj+YUjOK1wM8nY0qulGWQM1vlPiFG1a/VIMvZcNgbPXwIgyxqAFrFdzFJ5a2mlv53H0am7oNTZwuh6BwH+xIipw/B2PlxyQmrzovxw0j8QQbEwQrX2xHh+O6QAAAUpBm9tJqEFsmUwIZ//+nhAABLvixhpQED5q2BH6eGo18KBMtHjvw8EYOADnD7hYKFdS/4thfC2BGxkqU52THnPCs6Q4WC2TDsEUs6xkzTFm8echSZladrkPRI/QicefH8axwwiT0sNom9zjFmdTwVD0CFXnTeKLWcRAE4nNNvVYzRl+Hq4vV2hyqRV+7e7V4eUMfUMYaMhyJOIDfOhTHCRe+FaDI1WxucQMbz0LtVJ0IFhGxlV/D52Oo9jdlb7bwu2mggftiUhTGEtTo1V1UeCLjTr+l2+IGIe5AkO63xdN2tt7s//H+t3JfjKZkvYxkguj2/MxPSdXSKWNTmtDDqFXcPHxSHsWLaFov7t4TyZoNF9I6gP6E+AliR+fhV2PYcsTBDXI0SRlP/DieGeFHwA0vZIHtkcUd3Pt8y5PGBOBG0WflgpUfjL57oEAAAEZQZ/5RRUsI/8CPFPzbBL65j0S44xpgxZBAAiqwMz0e7GKL+C4rFIU4RuY5surEGtP+IcJh6ejuIHjhfmW9ssp0xYQo0XzJAmzpcltW+vKLnBcHV0UQ+7rwFspQKH3HrFtkJKsXTyf5g6YdscaNreF+QFnHiIaWD+x6n2fI+Hm8CdsZo9cKG7Gf64X+IPU6k3ljYFTnpBU9ZhQNQW6ql28tEyqjwKS/BJOUD+m5sO1msMYrYE+BIwkBXQkHrSDF7CbXgt7U4g5WNJ+0zmpoXDKqLUVh8GjLE67cbJkvqMvL25dRImcHPhWGWgYmtzF7hcfFAsh78Ib/utnB4DcYcZ+2NHaZPvecPmMuSEN0D93A/8vqIGh86AXruAAAAD8AZ4YdEf/A4UUgE+4zQ4BjnEPqVQacAQ8ytaKfhv86vwNpxlyDEstqBr0Pm5nPvj5ClfBL9LWJR7WqnhGigI0iiZEN5XyKyBwzW9fbY3ZYdiFAU1bdvx+CrfyySnaOpGRaKlRzIDEeNcQY0O+10j3f96TxVDr4zTJ4HlsAh4/f3G42LXpT5gNmaZopT6LKfKpq04BY2AuNOHs+ZkktkHaNpi/yExqlPhgTQJgF65Tu9QbKrjPNseYQJAHS6zEyeHG2/CPG3HRseSVsElVMB/BXn1UIzeqdiX9m/45tCmHXRZjeqOUbFjohQR7NoPLpsbW0vrpQc4wc3Y6gBWxAAAA5wGeGmpH/wOG/8k3xB27MvkfjQBR3HtAjG1QspuMPYFexlI9+Q8/tdsVuRE+gCxjOgHC04QlIVBv7SFxe3LJef7g0UgEs6K3RuNsFmmhThC2suw6nNVeKxwzADgkfE3DN/c/PTxNSi/AGkWO7+0bcnEtux0kSn3SqmH7ohfQpOtKbIDrFfmJoZ/Ukb2skXGPyDEOt7htBTh+/uV6+H1NxWvBSm+1vccVRjqYTBROw3DLl+iBU0CE1Ei4QMo6Z5COe53+dazoDtb3BNOWbsets4u/DtAh9qpAqNwwZK3eE/MxOVl6W4BLwAAAAYtBmh9JqEFsmUwIZ//+nhAAAf31FQP58+sfNq3LIHMgACAQYx7LM52kPqsm5z6K/RZQ+QKyYJHIWua1Av09V5yXUVOkPbOpQ6/C+OsKCEF89lKdD28kyKd9LHqOBAuWiRpLrF+R3JvmEd75kMaSBoNlcGp2bAvgewQYnn8uANOxcca+dRA7eyZ/Mr0E6mi3j3jh9S2ThQ/VgqrWrMX8UrJQONO3+3Z9k+SgpZdFNoJQJwrzbTa4j2jyAb6pV3diLnFr5s7MO2y+gnyKf1x441+KIx3jgDTweFfq4tK+wR4akbzxZ4FG5c+hes8rioQrC5BOvS9bC1Tc3xGcZFQUW5H0WNvP+0Mlk+PT/Rtn9onSHyu/zVePLLy1rdS3RfVl63PlBNZ5OzUKwM0L288OciJlx8QX7hb1niF/1AdF4OSRwO0+tdrPzkkLNjN0f0SZ2739jBYdeGXC7Z1QqfWk4vpZLWquCq3jZlvNo1cOYUgPwp7lWvvHiUrW15hq8tcHIa/qEwBTFI2fAPg3LwAAAQpBnj1FFSwj/wI8U/NsEvrmPRLjjGWC/FkvZQp2+L2NgAoAwucglb5El5NNZo4Xy4fTu/hc4IXQyBS1ViWZtq1tc5JdqF0+HgX6hq5wGBsSBTujLtaRCkzkNQpQ9Oq1oKq2C9fC2itMjQ29BCofo6AxCIqVDoC9BecOkz+wtKz0VcS/KBmU+VLk08wnbWXh8BPBtd9S+HhaaOA2V7DBi4BFV3DqbXQpeKZTSdUp6dynty9kbwOPWiCjR1ok0h3D8Oh+Xw54TrJ7/+FNoYXNR/f6gPry0Lyg9IMKssLrW+pUXZQLyi0a1XOfXNBvvY/HLl/bMI901CJp7+meiq0P3bYZ1R2SEiOQTFSDuwAAAQQBnlx0R/8DhRSAT7jNDdh4DSBJOi1+QAHHceNux2Z2cueFsL8KuCVECb98HJlQxYMCsH3PS1QAFQzbhoppaEsEg8IoJiTzxsfRgpp5jmvvqyjnY4d9xm/mBQNLwt/Ub2W5xdsuJECyDSQ12hPmiMLr92p1azBc366ZdAZyxCtybf+36UxTKCBbSGU+wWHbLVwQAy2i5y9ig69kO9EVAS0YFRHx+sUqGeOg8CCym1+QVbXMorW1syAlQ4/1xK+fIHsE9VQIBTYKTiTpl5I1UG5//VkA4R5jar9i/HvN5fpNJQTqQr/iQL+5AK2yp/y1u/k1dtnqhVOn5+UPVdownIswogItGAAAARMBnl5qR/8Dhv/JN8Qdu0jJIH4OcgTpN3FzE6NwBAR2Dw+kTbq/A+4iG2XD3pNX9bgGi0yh+DdmFjF+ha0J9TGmEv/E2rrhdDi+2lw7ytKi3wVtA4VFhgbZ/rknpB7yntkKnPbRgiu5HcyhZLxLV2jxiYkgzjaEqoOEqY/wZ4NbW6gJ0eoDwmSj0OWE4VunvqhK4C2qsr5D3yR8gVDtdNzpmfPPwshETeIRj76+cjFUHst2WeOM1hzTKlXvNe/BwRm7xhZkdprjFyjI6fhfFA+l9l6XuPTVXZJdjBSTNyHYWm6gJRExYzUPsZrq+5pcUTKnU/nT3ff6ZMYiNmUMaShG6VZFdU8OJo1DAbCwN9hrGy8qCAAAASRBmkNJqEFsmUwIZ//+nhAABFvixhJf+QTs5LAqP7EdPN+AB2RtFxMps0YR6BV5uQnnzrqcaGkQyw1vOPOgqYyUzNNO0ansR+15kkNP14bgeZqmXeEQKkLVJVdjd3leu+aJg+tue1Pdw2Weq9xmKDErkatFAiraCLfSwTBvd438JoDMV0NKCyWIwkcln9609F0G/b0cYfz40UNOi138+gfGKkMY6ITLv0WFX4ut2qjkK3rkMyfGOOx8Cw1eqigi8FCGkDdcOyuncs595K1mcYbTTuKDi7AnOC2ORkFKfGbG36diObw++CWCWckEAXMm8uokWgwMX3kttjabkd07GMolP9Gh/8suhB/2Y2MBFMhSr87lwFhKVLp2E4Kyrh6uTeUGhAalAAAA8EGeYUUVLCP/AjxT82wS+uY9EuOMZZvmuwrQiTAJTEnGJKYVKFupgABdQ3JVYLVio+G1z2HKWdstnpU2aAfnoVJsiwqfr5Oo+M+AvSqq9NgqYYgP2Ro0zmDV4xuDTpPSsGxPfRwUr9USH/YVwfSEU9hFvd2Dmr5wmPjMCrBiJEcRDbsyQ8fc0cUnucIm+J2c1mqYCpg5Mut+7+LM5z6amgo5DoDNE2dJPtwffUaSHqs87IlYsDs3cG7WZLs2yG9IDGP6ntCzv7hrGdiB3t2hZWw+zcpGOxC6FxcYm4u74GLNcjCQ7LSLiwWkXaY8J/bpgAAAAOoBnoB0R/8DhRSAT7jNDX9gPUdBykSF0wXvK0vp19PAC3ieZ60/2PXZ6adV37vwUqqcycgLONb9LcwfFwrKsR4KdjqfsD+WaN6FQduQgLwZRhKEljbvdcDWTnCE2e9HadMXugCBvEIhc5jfwooxK3Vw3nHbyJKmHNQvKBVLCxNGTFYd70aRZYjwVq2+O2CmyykZ/MO6c/CwNYINdHnNBkCDvSl7Zy3OmzBaEHTiRi5MB3DnjAGbSave5Mzcvv0fKCUA53keIkZ3+opCeQkNBw/BMsTwtvF+qLSc9D6m6I3B4CE1Py5VI5zhbUEAAAD+AZ6Cakf/A4b/yTfEHbo/meFOXxUwLuVGFk/qTgA2kU6D1bpmD2ZkvOtLnYYmuQzZj+D2nr3x1Z4e5y4kTAYIvHVtzsK+dUQmn/oABClpfCsXu0yqKWqvBF5EHcw7a6oibxJ1nNYW2JmYjI9HPCI3ruLfOks57zLE4IIRVOgpjDE48aThwcFe7KvB0sQ7GlwJ+eMVlsowUu784U06PMFj3Tl23k385yVos0bO9cz7sLNHC57idta8+zio+Bz3ejAa5flElL3/F2lA++pzVc+2AA9aZxKDjaqQYC8lrT3LRm9SquCXL8d0chggB1TOT9FYoUfsrI8eGsEG3jZ8bMAAAAEwQZqHSahBbJlMCGf//p4QAADiCNkAEKc5LPmYLe+0q8/w7vwpJ4ZZXDZ6mj+f1Bepyf6+GT1mCzlGe6HIQ22G3r5g3fZrAat1S0t3CPsBeZaT6tG3Utkyz9dY0vtd9O+ASWbbmhbyu4w+Lj0HdhOia3jnQzlIdXx+9snFfjFIYL+X07Ubi86EMq4O5tlK49sKYV9IamA0UCHX2nH5oiMeup5r/Vwi9tLmdzonxEP9knU6ZWgMXvNLNwkyqBwBGUKYvFkPG7MgzCmxL/nDcAVG0DfkzASGNZhyIN2oxrVDV2gZnhXOXkQvT08TRmgkl/Apgy/AkCwKTCdV5djSwDbNIBpyeHy/RdYoyMPndsd3ygoe5sHULHG2Hp4CuY+OV6mCyrmy+Ug3rqZrY/ivL7n6QQAAANdBnqVFFSwj/wI8U/NsEvrmPRLjjFKBN32gn/wy8alEGzqAOAFgYLrsJxPAXKSG8Cg0t9idQIeNPhd8/4Okir57lheaJkWlmf0Ef0yp9D0iCoMzkVvoV7PiKEurS57KcFHPqbLcLnxOALvGlRUvseho3TLhjNZ/6a/gStEJQXIEa2ll/QjtJiOFVZD0OzVG6vwiAWsbP/dd0IUXddVSatogQT2hfHlTZRJND5XtzudB4RKI0kn8pmsNce/+d25Id5bii+azveLmCqtJtYUHow4BWAkU1mwA/wAAAPcBnsR0R/8DhRSAT7jNC76vDMo4F2IABYei2ENomcmSCV8uV351i/BLL++lsm6OEhOU0oJAtAx04z5ASl9Mr8wvn/QkZri2GZ0c2esePo8zmF896s/eH8dvLbJD1DeJhu7/K4R6E/0tN+GOgL4DiyQI60UWrf1SjzuxEtx/LqMs8os20uE2zUX1y/1L9VtwmTFsPYDgCHUeXeBzta4tDHasxtH0PxVCoZau/Dp4+30TLXrdh01iwpvx6KdAYegGb2MJo/co2oW716wt154UlaZvqmUuDOW3qozwIBF4AoDUAj83Ugxz2HgML/0jStVXWvIuOJY4jD5hAAAAuwGexmpH/wOG/8k3xB26P5l2OS6tzx2oARVBq6CKPEOyLLzXWh/XiYCq4ZRoCBoRTwj/aLEMf8g6Z2/BeHPmMEg4qvRfSKUVYgw461QBcxoHrlC16DSXsuoW73rsWVKfA5KUVZcdFcf0qdGNhwn40bqCEANJ/AGnKmf3jc/EtM0UqHeLr3n5xw3GnNyQ/ElGXid+MipRjgnYYAZgkkDtaxLja806+kRdRZ3C7qMfuRs/WCODkCZopAhm238AAAFRQZrLSahBbJlMCGf//p4QAADjex5W+FiGFVyk2dH+nKKc0tePTTbzxjUkNNK0hVMvRbDjh6kG2Pb0KLk30CiF0aVtSk1eA9IdCQkzEZg1RnUpOHxu0g+ri80qMn43mktN9Mp2JHuS4GOBRQLzLdFLB+p1mqaaoK7GRSLamhqF/2oMgWRtNLc55nJpnybYO4wVAqjoe0CZEuPrLQ8l5vINV713AEDczELJwj1FyInDdCbBTmM4N1XvtAgQKRmdwQlyItgMgIovMe5EoD+BHz2/I7HlMVsC21iBcGVLtHBklGyj16XU3NtWXEG6XyVkKhcQ44joEHnBvG9GPTU14utf8FuH4NmAUqRfacrimrYvkGmRfYrhPJbh2rzRQJWXUNVvob6rcH2QZBAt//V7ZNvgSVTjm+QZy+fzCtTjVzXsF/4kYnDXb9+ZdQU5zra9RDDpgAAAAPNBnulFFSwj/wI8U/NsEvrmPRLjjFKBN32goDKNlX0jhLzhAVDvb85QAkhZ3PRfq7OgusHkEMRLApjFz667NxlzJ9QY1v03CjZP2cqCk3Rq1cGDhV7Fn7m21xwU526NJzTxB4CwGPzgr5WzKApyzU7eDqCPiRkTsrpM2MtsXOs6UQDruFmPJo+3qXCZDmvR55ZIrT+MaROtKvYsPohQXtfKu/IVLVVpwfG56VY7+nBrjBj1OSchKPZQhwi6/22K0za7FhI03qRtIJ1mTa2sFsUsdbKd75eRn5l1IOKpV688K/mquGT/76mF7TcPFYkDLHMQAs4AAADaAZ8IdEf/A4UUgE+4zQu+rwzKN/GGAj38Hg0SsaPuK4IuiEC0AAtTfnRv00rZlrYyI6oRgnswoitLEkR6kV38Jq3X+i0tZdh089LTN1+rIC9G1d29t7rkJjTV7+pyefDihGshKyXuherCdoKWAzw3BJXuPdy4LVx5SrtsrBxoUxTuX5h3WWc8bC9hv6wNh43kDhOUav3m7F9Ozu51UusqB2TCGl9o79VIX8ZPik+pXY1QnAlACyYY1EmAiwRbTO81W6xj7/wv71DVXf/tm5czasYPds1pUL6btd0AAADcAZ8Kakf/A4b/yTfEHbo/mXY5LTiODYaDUDUjxBj8ZeAGtxiFF6glCKvNZyr1v/GH2FVV+xbtivk5i5KX2+hDihx4oOCVs0xXnUDcMsrcy2VMagZUdSA9vsMOpJufTkuGUIb9lBv8Fbi2F+w+uHOd155+gOe2tct6D6y+G58zm9sNwvIJT6HYtX76EoK7FJBcE40fW6kSgZfHW24B1/KzauwBuyI1KbQWDJ5/61ZJ6hnYXPM+UnCzQyocWqSIMZfi2he8E0G/V63DjIUCw+6voXqRQrXFPkk9BobdrQAAATJBmw9JqEFsmUwIZ//+nhAAAFP9XGJFs4eVABSqw8nIkNt3JtKfgnP4B4tvz+dHbqguPex5SZNWy1DwatH6MRRP+WY7NKLsfxebWIhYWCldiFe7rU7CQWqAT7Htq1xkexoXEwTd+2Hg1deqBgZWT2/1FrPlUJz3sJ/urRPRMHYhHaj2NJFt2HzYdEfa//v70lM8uGEG6awDzznOaVwfttig5BZqb6FINV3CyNSeV54KRI4IHVZm6CvcYoslL/oGlBetpLewdB9S1bJpI/Hg0AACITc33d/3RmFlyBrAdQNXWQ5pS/47p7j+O5TCHMRYzbPBz9xw4ENYwOJXsJvPm08bKoFJt6KblAByTgBe3SsAxAGSb8jrf+ngvk6rpVDB4RQTk42mxOQZS8kLEqaok15axYAAAAD0QZ8tRRUsI/8CPFPzbBL65j0S44xSgTd9oInyVFacyKAIwGUnLNnQ4d9btJ3n0LjPunnL7rxXRX+5zROsUkCzQ5YFJmf8GqOmaybZeN0YguZ5m+gSa/cdkUuz4nGZ6Jur624hmN+oS7b8Ue0Cs5NsoT78eMPU8/kU3yrNk/aEu+9BA6bqGJBNXNrZuZS5CvwZ546Ius9aopBUUlrstThraIEIN5ZXGABNyprYWm3Wuk/T13jbcCFeUvIYHNahXXRCUy9xxPdmNgTmwhrPocRpIAlrN21M/EX7b11h4puANiX4ra6YYWMsfRlpFN3gLcp0nXgBiwAAAN8Bn0x0R/8DhRSAT7jNC76vDMoxs0ce+QLqPEfc4ABGAiIJNfebkHJls7lF1y/Jl3HHABJCC47YdHmUqQczmVsQVyyYp8KEsyWhXpcPid7T0R6aSawHyqyD5PVzg9AsUkwY/cYogmynO+B1GhoBAE399iL3YqT/dlWZt++9vd4WPJJv8qeNnSlWlsZPZ33fPFa6fX+tk8Wu47Ojy9K6d+l40WmjTtti2UYAABE5k9P9WXl2Ma/54zD9LodlhTVGHcwdyVUbBL7eu0bDwV9ztTqLtku/r+XgOy50ubhG9kMDAAAA7AGfTmpH/wOG/8k3xB26P5l2OSx547pHgNrMgsGkkQAC6i9KGc6QXz/M5X4D/tNnbOaTBXZgZlLSSEqdWnY6ZxTmNq0mgPxFTepTc25QiCJgcwTTvgh/iUpRGwH5BF2fbGPbSyG+vACmA/oMRKMkOTEkbob4/bA/A9jd9e+dUqwTcFyklESsuwFbkzRH6/XMl+ao6NM1hdnYPjKRf9ED16oi8GAl6JMglHf4vsetor+5TBYpmWir28BVh+tJ+4gLLnchuRpM15L/JMwBulRJlAhb5tZ+dhYVyyk2Ojpr0P5n0N2RiQM9VcOFObGhAAABQEGbU0moQWyZTAhn//6eEAAAWHF6AAcb14d3BUyB/4CBz7B2cwXZXRT4Gk7Yz15VeruSnDPpFC18nHCYRrbAobkBX+OfNXruQuU+CZTDs7H7+eOBEW+RUXp0xT2d7BWXvSxa+V8bz6Iy9Nda0MzMuy89g372ChwEFESWNY4HuCPF8NHO3h+6jRAeNmFhuctm7XtVmFM0h3e1hd9xXqzUWZJJwBWGIOyQvnqHt+xU24y+gjvNJjaHz4a7bugcm+DA5Dxl3FVpky9JryVBbMqKjvlvzs3HW71APb3b+2N9yeFhFWuRq4kf9pEaDVBUThEbPR+P22WVuq+ZK6Q3Rf1EmXnRCR021ydL2XwpJyd/hnmdopFffpwO2myfngKrAqVrrtz+Nqy5KVwhrqf//f1QAy2BPJt/tbctNtWSP+o6/3zQAAABBkGfcUUVLCP/AjxT82wS+uY9EuOMUoE3faCKATr+Owg2oAabs1vN7R5yL0UGJWcCpgYTcEZhaubCIFfdGP3ZmVUU7RNEe4f7btaj2L/hk5eTscBisS4QfvlLYgO0ttkKP7Kz2VB0rKeShFFFm4f6BgE2lvu2RlGJ7p+3ozR7+hPHhLD18NSg/lclwTSYFpGs2yfTYl/U2+cCl2Unc4FQoNPjWApGJtixH1hOHxz6MCwO7+XFCagrXmo3eR2uSzEP1mQBHdEnAxzXT+DsYDk66BOweS4e9Q4XKX4UarY7iSlGM8XDi+9xqIb9tTo33aaDPyEuzBOc6OXY7whG7tnDszrrLDU6BiwAAAEHAZ+QdEf/A4UUgE+4zQu+rwzKMH99TVcAFoTykQ/mwStnt3Gdf9OasFw8bS2ksUM14SbbWEuJoxmzzbAwDiEPtVmTac8T7znfwJxRWXS1C4VC3fXlds+JsMNucMgbY0DyjxYtotmq4ouWbEgwDpiQ93NuY/trb6rEwQU0rRLeOeT1nAhA2CfFCZptTUEWdO4rIIer8C0BXmcgM1TMB/az5jOrZiT5JqH0h3txbQn1SX1RuquWppTSiiHwQZUUXPALpsa1hR7S1d4gZWBBrzNNosspTrCzxqu7U8MbHWAhW8RXE/yDcEtvIdKqUu9zbAeg+brQXPrSrnnAcnC97Vt0tjhaft9AsoEAAAD3AZ+Sakf/A4b/yTfEHbo/mXY5LCWOpRsAOVWaeTP8L+e2bVH/k6yyOB4QmWKUOTH1tJw7Q3e4Or4vLq8IWawvrbsTfoxz8bKCVlapJHMKmbwxxmr85zZHMQPBoSGgkhjTm9AoEN88I/Z3qqvHkRr4nzX8L3sVlXMl+rXKKXmApM2jTI9cKUqY8iS2XythtMU83RcxO6SyXPP/6v24t5QniDYzuBxSBMro7ET9PkUEzeV/Boj0qG8Ogngi7Fm992qcvVkpG7z+8b3zUG3bqvnvaxb3fvHUN9W+suCByuWRWWVZy4wD4j2iliKHiMComs2PTrA4j68z0gAAAVZBm5dJqEFsmUwIZ//+nhAAAFj936wb8vWpGxa4W/c4I5FYZH+yQZ93q3FRSoeLJaL/CgNk8v1BE58rrqqCYnAIetxBukNbHpB6T9RfDa5nB/FaA41D3wRHa8/83wwGyQ2Nqsy+dusbBm2RoGsVHqy60WeQZtjBA5tdbO04o9PA6Gz1gk7UKGnTG3CotDQ9hQQRhHW28keMulr8DW832JhB8DMNRwhBFp96+W8hdmbit7lkJx9z30STvGp17fTK4H5SVhLXDJ/0iQ4khP/WlOVdlSGeAb3EgP+iGTQRG21ZfgBhNq82yTzgLPCGDW97wZDtY6ZKaM1NxE+zCMaFDdrx/zc+yo6z4zobqetsMH8UCaqEhD1FBB7thhrw9eP3XbPVw9MmZCxDtYDxMYNBQYIAt/1am1w0zT+fZsiUiaryQPXlXBrZTZXsHY7+XemF3VDNMII17swAAAEIQZ+1RRUsI/8CPFPzbBL65j0S44xSgTd9oIoBOyIQ288xwgwh/0Uzur/o6AOgEm/mczf82eoydoHr8gnaPwr/BNb4eaN1JYS2EqDcWc6baab2JQN2K1xgkRmGvm5KkuGkzADuJ3hk+B/JPEemnrSMvy92E1JLt33N+7zsCuxyAcwSOrr9n22roX6Vl7OSLThUTRdLfHJmVvuq8qe+ta6oWpHvRYHm7dmcGf/sSdBWXLbPcufSz1+o8AcaN13HJeRaT1vWKB79V5Kv2DPYU+usljSh4hm2rmA4b/URTDSILvj5Ro6jl8XH69AdZkh/9cR/Okf9/3tm9e2V4m7w1tE/Tu3eR6lKaA3pAAAA9QGf1HRH/wOFFIBPuM0Lvq8MyjCGvEmBHaNpj6OLGOQBCqz+ANYeZiWQ80eiQ9uavptVtQRxtz64kXdI1tjYdUc7Ibv4RSgTd6QMAydjABSSuiAPknj9QzHB2HyAYL+9HsO27zkz5Ln1DZ7nSKdM/tKa6wZ1CKYxxZqn8I9V+8hN78RSQ4wsDJSXlL2WhXFRrhnomtfJEXf3oVF930Qlq3hTtGlNiT4EJ2+eGiUGiS8aqTSRfsZYT2FblGWqR7RyGmFXA4yaz3z+egd2ioDkbtO5wViV8lT0MVlsdox4f/Xo+XQoxHtUAd6bytkPKHwQMUpUxi7gAAAAuwGf1mpH/wOG/8k3xB26P5l2OSwijGs9har4/Mn05TL66AF5K+wG1fuvDxMUcmoCq4cFYnq7Qn8N4gpvnCs5PtO9GZOT9E0dOajOmGEGEroUIt2yvruwEQb0DQk2SCw48LuKzdgQiq0582wjAtDqMj6FQoiJy91q+zaTY8sbLl9U65t/QXBkA3jG+CGEODJVYjZ8WDIaSX32dhRq0/CsLDOMsNMpbPTj/hUeRBYSteEdtlHK2YDuaEBE6YEAAAFRQZvbSahBbJlMCGf//p4QAAAdHXPHv65I4AQnQO8UNcIPUFfSNsaRE7L9PDtEzKOraIwlK8JFuRh195+G48SDXwdjALYNWkNf2KNipQeMooYqIZwYIOQZrO7SepPPOPYny1jRU5bIGMx02Nv8vmYpdK2bxwTJ70PF+N2/+m+CZM6VYUTap6BIo/wOPKfT3v1bLucJ41MeeAYfyieKNQCi/nVmt23ckYJyniTjr2/n3Wmq93WdjEQupvONws3sZFOmLfwkIk68EF8nfrwuRdXG7XxTj/1itUg9zBHRkThrsV2KUqqzLrvZ4voB17q2CikZY5uMv4kmRsf8Y1TH/PyT8vYsirEd/ktMU/F9HSxEUcNw/1E7NEwXjOEAqolCFjPVRhNelEYmWcnzs2ovjTH/RhQAYXmqy938P9UFtlacHcK91+UxivacxXoq+KUseaH+fQAAAP9Bn/lFFSwj/wI8U/NsEvrmPRLjjFKBN32gigE2s2Ug7m60ZVlcqDpOcvLFWEdKYpUIRQBW97VED2NPDz4odi+GeOg4JIWTg2sGwzvPB31OkZZT66zRbcNU5egJahrDtyKk4x4PAt8j9y7CzDQW/QQOhvIyz1XjbGqPegNU4NuO58LBLmwKLlsSNd3lEkQHG+Y1F+4iTqeXwgOOQOcf5WYFtJZ8rizpWS6sWhosuZMnOkL/xhFegGu152h2uGLqEvMFJkoXlOrvmXQY62BAeNxdZgC1gpkLrcka3f4E1BS8XmKPgi6ipCgcajAn02MyEpZHD+npBQTUGkJx/uogBbQAAADFAZ4YdEf/A4UUgE+4zQu+rwzKMHtsXf8tS1x35RL+pBhawBzCPKT38oTu613GtP/mfI3DKvtJ0rJzZwk9YghRc7OCButV5opypI5VhoK2rda1bLuP7+u3heww3ArWtZFCjfxu6ShQscsbHBMVOsH8qE4cvEZf4iI3SJpje4uT35a6cs8fHTnI5ZDteSqeL2A2XJ3CHRjekZbb7zQLMsler458DPbM0RIaeeX/WEKmhPikZA9DAuqzt7aFjmi6K3g7EbroNCEAAADUAZ4aakf/A4b/yTfEHbo/mXY5LCKJG6DRGwGcrCUEbDxZHwAlRBPpY92WFw1CjBmyB4sxP3kR0qjNIYA3ReiaYMWife+iBUBuj6giCrIFi4kLKnM219XuvueAKm7N+2bFdqXZAmDz3YA94Qtk6CPlP1whRzW5RqzCHd7kJIQrT9/IdDx+XcEDLmaTvSJNUNcit5C2xLHJKsZLbkKJDrhnle/VUdpoW9DGXri8vSsrRAzqvlVHu0J0+UY2Wi0iuxm8l+c54jt8y/jPx8FwLL8r+czmLUgAAAFdQZofSahBbJlMCGf//p4QAAAfLgxnLNgAXNRjxVTWIdA409yW1D2u1244jDGwCT03sKQE9+47SQ+NofPbNAHFDWXl4GfFOCy9QTKuRe0EkPQnN12dmXm1v5soNnmiQOU9DDmeYE8UC2deMogmo6JC0Z2w1/5lj9qD1wp/I8H1nUIgBxVhWjWitlIkg2hRD6crYyxzx6uDd7THyhKseOgLFecEA+20xONIgjRnUFKk38LDZhdRKmMbZNYgNzyWCe/ojWhy1DtQufh278K9L6f2ltVfzF3fEjVwiH6WegAvl0w1aiCrIqBphMDo7pjB0s1/5phHIULc+YB8v+5l9ygwE3dECpxDtf63ATzkaRyAX5vaolI8TdZ/nfOPwC2vxSpltUUu/Yeyl9/LCMHvgVpMvmnEOlaU9Ypdza1abVHL/9yS8DvOrD5gIWECL/lbeuMJWIkO26yAB5ZTQlNGNQAAARBBnj1FFSwj/wI8U/NsEvrmPRLjjFKBN32gigE2s2U0hpjNkG6PUALZ3hXaEhN9lsvebPy7jcIaERI0ln1SmzXaaTho/6XW0xvSDK43eZyvKPTx5Sd/RU0BJoxCph6hDjYgL9qV3ZF7/oykz6r4kiXeo/LRRJqwUXEpFUBO5S5iyOKPJY0cSxHs/hFrkaEBFLSYyWcBUJsF/5byCR6Pf1HIAKncEKnlsjQ7fPV9oVjj7G1ijHbAgBZkWnrtGNrutg6EL1w13vvCPdLQ10aeLzMJfFEhagRJ6iwUINtEY8aqfVeFAOiE+IuwL3NtryCYro9BQhuhbjGNiBCKoGiZYKhOgVaiGtmScQFqgtsAQSgFbQAAALgBnlx0R/8DhRSAT7jNC76vDMowe23H67vZ+qAC59LewTuuDDfKXXmHalKCKUiSGjolf+xoSB70K6RRSsihHqmDiy2jmdd47w4W5brdmdTlfma+YSzjLo31b840HCdqd7hM/fyXvvTk9ZA5TYbVoboljyPM9Z0iuRKMibrIt9WGTFeZVkDCEf0iEkHZntMcIOJQaeWJaNsJ7qdtSzCkcwXCa2J20PuNQFo3wI9eXhbXiQozhJrtaWpuAAAA1wGeXmpH/wOG/8k3xB26P5l2OSwiiYRmNgCdles8etyzO6nP8omrN6SfII85b7Lnz8tDhgIuNtHNLNk+N1W+GINox7s5nGLTo/lrec+cMb8hltbZPYpKFDnia6zNZebydR+rpXE90Ao8dwccNlYctr7Uehb+YHoVRrjIvY6wACOcTePdjRfXuwQh9hLWjUFo0GhBgmIXvXhYOudtV8/rsJ/2IOZmlhIwXhYSPtVdD3PqO4EQhhdgAZBssr0MUjQgUqzSHwpRDI+3eUQlqJVW6TClk9IxMRnwAAABgUGaQ0moQWyZTAhn//6eEAAAHy1z8EnHsACo6E6ITsnBfQK0BqThRr00rlk+vXXK9o409Q5p6L8Pdd5VGu13V3cFm+O3butQZ5QUpVL1YwTOnJ+3cLUOTnrUsRkcbytMCi2dyqsq83cIFvoeBVYPBCpIQqpd7q9F42W3N72uNCbJP85IME0/vsiOj2/VhON0gtqmXQdzSzZYLZAj4uRhoRi9M3OjcwEs25JTAnaxDDBhgLcwhdYCEDbipsd5DJFiKbgefa/TvNeuCIVP/12xb4+FvZ7j1ZQYDpUc6E7Oi/VxDgebg+sEJWNn404gprMInOEkAMLgdmP3+v6MVukb63CEorQ+E8MxM1OlifQmvNhTAbVoziBtwLJe6xoNsSLVHcEAivlz384xqf1kKZLX9I4qsInVwXU07pL3YMc932YcBGLeeTxr9wzmYiQPKKQxlD4YGn0hX0ivVZLIzP45p3nX9/vxWJFnkl8npV8NF20nmRvEZRn2BzkgDg10mJVU6R8AAAECQZ5hRRUsI/8CPFPzbBL65j0S44xSgTd9oIoBNrNvbE/EmgAjAIsJ/39tnNBmdXPOs/94ZQ4RtbkXkpIK6DafpGh6U60xCaTdehfLLlPcj8p2Em3R7fkJ4iNbbnQE8u7q1Fag/2jH3BklaAWf8QFBcI6RlPBe2WN8s9FeJ0UhF3OaQsIxQ0SIUHVNvDzJo0BBHOfpgDVbQReQlg3wGI3YneKB/8kusPGxzrKq4ud/5RK03dYcFXGX2d02SQnSbdYaGrsKMBjhY+apijgg3pP3lKq1vt/LPwWV8uyb276TmxqbJniyZh2/o5zyW6j/ss/3aJTKntxj0cikIq8xXOQXWMFbAAABAwGegHRH/wOFFIBPuM0Lvq8MyjB7bjRj4NesUlF3DJPgBuuSl+fVe5pnALhQ37FS342lDcyvlk7hGhichf1h0e4aXBhf1/3qUXNJj3LWzuBOYpnIPwdoA7vAQ/pLF0sryAXXvoHt0QG46+qmBJPl7OKhR+CkGNFCTmDIPYc3vU+0D6oSlcx2obpJ8KmWNEgukMjmTeN9J/dlrHPV9kM1KEl6qew9YbPw9LkW3ITNJ3YDfSFHwv9IZAAXcEOH9HaCoKXnmY6WFqSjsrg4nhvX1gSKuHClINk2YzyZudEoRwd6NmwIs7bwK1aWyRf8Yk79zrLhwxrQhVYeTkJIKzUdi4VVk3EAAAEXAZ6Cakf/A4b/yTfEHbo/mXY5LCKJnDRWOjrjDABxu0h8nwP8nP/skt1DGMJV3u5cql3BfXvmOpBAXWBJZmGNTGwUaQ/fcCv0ucQgYnpqvlgf7tuU1xACQi7tI5Z2mZ7lnWMkcfussw+cRWAtBmi7mNx2X6Tcjd5NuhkgAIGdnLSXnbQ5lHVT19zu01GgaLD9ZBOXY7Jhd7Wfe384DdsDv16nEbwZZ7mN6wKUCkUvNrJlma3V+0lXksV5Iq+zobYun+ch8P+hvLpWLw2I1kwWtocB8rWbY7CW+ntfhdOi6GWVq+HOZKCL11C0mtArqfilvKfAISDVgytx0lxHSwG5b9XqxzC4IeBW8OgJLwVXVtqkcO88Dt+AAAABP0Gah0moQWyZTAhn//6eEAAAHy9jUk9aAFvHqsiIbsM/+/0RzJy+oiAy/auA0B63tfdLer7vzM9ZRfav902Um427Y0i+Zf1Y6lM/yd74F4p7EwIj/N9vGkPOX1nCO4fR1gaP65cIEfB37/tjBfedpqvEyqQVnc/3ZH6NrSyCRDwo6SDp7JlXBNIM1ZTUb6rSOphYwKvdQ/zBT3hSNCqc4cGtbSH4vtOMjlc2T3BVoafGuKhvN4exdITVCHsa4t5527dXKCkA9l5iJBwbGmL3Zz5CSfySHyGGqeVgCRNAHV2KgX6ElY1fteCjodhXG6k04VH4evwBXbGNCsrYpVa+vRKtTcU8pMCYsaSQ8Bn3MdoAnOeLnDARt4fnaCRK1gvREDQwYXxYa6ECf3e+XANdBxk68ZmolsjToQyNaMB/fMEAAAEIQZ6lRRUsI/8CPFPzbBL65j0S44xSgTd9oIoBNrNuQIcXABx6weRIYW7+RoQ+8lOdAVryBff4Vl2QNLvBQHAmhe0hOW6+gKRkyU+fzdRQPyHdhO2hsgh4Ni5JVVAWFp3orV/kuES4ptHzV93m9ydMDQzwGxZA3Xj457tI/yBXdHFHpdnk0+x2OjtsUY6OyCS5nHQIMnCdshzhuHHpOMhDwsrgh5wJGz0CW/hHzrZEq/BCJ3nZkwxtZUmrL2XaGk0hxSKlJpElyabxFvIF5NZTAuSq62+VEI4haB0Q6zRf2s7rrwLUi8MrfKt7U4rpLOS9NUv3WYlZYNcvsTaA847+mOxNNPMCAA/xAAABBgGexHRH/wOFFIBPuM0Lvq8MyjB7bnF5Cp8ABGAC9xYsrgH1x698UAEYDVBCZ6cIgbGP1nU89iIZp1JZ3T93l2JehoYwYIUxJ81dtRI6RnlEkeQR5cPrPVVU9jFcOqz0dLnA0cx2g4+mbPdsuY/ls4VhZ9ibEf33ZF8wYi7R7d5KFgTqJpBbsgHyaSgMpIDAWe2R0r80ueujQvZeaoYpMwhP5xl2mn3qcjdLaV4vdhOU469Fv/Sa0cTTQ5e0+E56aUdcPI58TE/Llm1wTlT81zcHs1l/Fl4ldYxYs/A+M66sTLhAfEpfZJ11hfurJ/yxIomh1rprtA4n0Ax58u4fw6DyA9TemYEAAAD8AZ7Gakf/A4b/yTfEHbo/mXY5LCKJmuTQmrr6kAXwqnUTSfO7/vpeIQBOnbSuCfpGSjlh0EG8KC+IMnEZG/dy6AKrVUyb3HASgldqnQNct2HYoj7lhKWwiaG8o6iGpBecRXpBQt//wjoY2MiKzBKMyeO0oUXNmJE124dDP3qwUrSoVadI+OlymVlAEq8AlKYe/4SojuBXcKlMS6X97ueRqrnO6wYdC4r7a3mIcx4zHuMzpEYtXzF1QMoBTfYVJ3YNEOu+dnP+gAgPodOXmDndxbKPJmZBX8SIKB1du8NqQgjFZM2RBN98KJESQt2n4Pie6ILFoJaNblj0Yh7RAAABG0Gay0moQWyZTAhn//6eEAAAHn9jygc6fHNUbAIdJCu1SwA1J1ycyeIxSFzI8Wo9ras2F8O57SgpzlZPhRmCvjHAFdNmy3nkSLU7JnlM90sGfJYTADf667UYZBZS4mxHVfVbYOaIcOmZBMNB5Kzss3yD5p8TJSne/1vIjzTs9sruW9pfS5/lflHwfXauvxXMHz+ZdEzoRNRFpogvROmljvAY/28zn6ZvPsighnIQKmjDVZVjedo39Kpij6UDQPOCSeUgs63u0sTm+4UAFuLNrthNfdYnPI2s5v6kKqQv6mMGbGcF99+t28hxbnGGNAbEvItibH09hBkR1Y6tBiwcWsHr0Poi1fIspmcvYs5ibttVHsQ1nkU2Vmdh3xYAAADSQZ7pRRUsI/8CPFPzbBL65j0S44xSgTd9oIoBNrNuNR1+ALV3ijo33Lz1qA5nDI/6yfd9MZ58dP6XAHNBCUVc/a00FqXcU6sLI7R/kql1z6GN5DQuHe3Q4GZhDM/xQbue9LKGFp8zD6hn6lVV9a1BBMkUa9B5Esx+HgT9Y4wSfkYlpehnl51GB1+9cTwnnaFf1U7rCoozq2RFB/WkgYTe67Il3ZGlX8YIMSoESGYw0HaI/iSKhUSiMwR1wQUEmhf0Ax66NGjtK6C7qMfptermAHXAAAABDAGfCHRH/wOFFIBPuM0Lvq8MyjB7bnECSL/QBqTAvD/xIyTYhWCO7EK5nPwQiyodGtf7JJOGjpQDvLBjrIdS7PTD8e4amveEHlyUlQ1rl3VUbb/jW+6oAzT8KKNrum7XFXW3B9tuBbcqgQ24g7K1Fh7S0G4ZwZ9d0rmNPMk8+Gmp2CS65f0/l8g6lFHpcLTYiGuzwj+g6llMPeZLv9eUDyogITYdKSJteFIT2jU656LBaMkCQxLkMU4ntJDqmmX7BK4LXDrilkxVbjUQ2NDso89hZqQYq77VfiBTwDTUJlrZ6DYT0dseMJrqMCCTMO8NtCelI0u5etl9FqMEPG8y2DUFcPJlv8cMDaYB2PEAAADYAZ8Kakf/A4b/yTfEHbo/mXY5LCKJnDReRgG0Z65WqHtTtXiEt0AhU5v3QZWqKrQ/nZHfWoi7CvFU+DrDJNWnEjPcZaogNyfKyqsV0b69pbc77TBje+T4iGB1srTa5RXWIAQu7wIIRaACXZZSlgy0jI2LUJjyVN2+o/LeTvvb2IcK1N0WB60lsiWWT44+HM4dsXQWBn+zgFAh3FkznkAONn322flMxluuCfSvutvrxaMqYceW9cJwn1qelNlc0oyiYto2lyg4FOM0lLS5hZgQG15tUmyaEDjgAAABJEGbD0moQWyZTAhn//6eEAAACx8y6QxlsBsZNYcN2dRvTCA/mgC1ZXn5POzgZZVOkgsPsr2XDTajxD/mb0cCpgJlJPxjqAgy8Rj59DH5lMZ1zH7CA7fLB07WAZFN4CCyXdFIR3Zr1HTAmo928mIBz/ktbJ44GDCzsRMUsZgHSmCOQR5ggBE9l4GBxpeguQuXsOWMjgB9Jg+gAfm+apvAlsYcMRMHpLVEaoPCggNP/8vSB/eCP5svEA9B27RgzGdUFfOebChJDq9RnqWm57V5TyMB5+STNCTzn02FyrdKJEP01RjmfHBLPey5rgxty1nhrdIfkk9WBhyJ/FRHGkfpahfJEYJIBwM1uI6TQbc4QDd944bg4OfcXikHUo6vhUDKJv9SduAAAADQQZ8tRRUsI/8CPFPzbBL65j0S44xSgTd9oIoBNrNuF4MuDlVoueI6geAEtT0ZC2so8Qn28lH0JfYBGT9dJ5/K9gHV4p61z0g3hvlkNiSy6ruA7Mfm++bga24f2aghjaTaV1rZHDrBVf32DqidshorYxek4moipvDWf3vkZJffH+95DmIfZ14/QYl7P5X8FpjRMMB4ZuYz4NySJXwS9ThDxYkVIINiX3/1K/aE9ybXY7Q/wmv5RukYyBkh7pEWzPWvwwD/H2qyu52qcxD0c+AC7wAAAKsBn0x0R/8DhRSAT7jNC76vDMowe25wcO8KhWC31urJCcNVUEeQ72J4UQSjJHd0YCpM0ABO1NoNBOGraDmKibdot4VL1a+UWak7zQCd3S1FAPO5R3GNPth+454QkMMOdX7ju0uxOvL83O/HGkJQHiiL88XVI9jb5I4j3Z6IpRVQQY1OISlWLfnyWsV/h0oIYFENvMkHxYyKdH0UKOGvVLgnvXHF00BZYjTMKCEAAADfAZ9Oakf/A4b/yTfEHbo/mXY5LCKJnBkQRIycGbxreyffAAOLDShtOvVxHZrae4ZWgx00CePlYn52KrpppLCiaPVkb3w4M7nSpr4xh0n4zTQARJPKsOe+9qZiEcXjn49bhSdvJY4U+bwfnewdF+H5CUihFgn5U3tA692TWxqZ/DVGMxC3rmdc1MI0E+jDzs6BbdmZ6T6X3ehpRb2qQA5enUpMdOFGZ5wKSTHJiLUMtHbuNFbAPtnkKqn75cHff/JVm6MO12I7/8iyv948bBSSsJgoobdhzflSnqEN3BIr0wAAAQVBm1NJqEFsmUwIZ//+nhAAAAvr18cAJq8Vbht0xvMU+afCeSzxWPC50R8aUmb0afx62WUCjMpVQ826q3HRMtdZ7C5jwtC3hclM2bejZV3GdgdFbfLUI4z8MFUSKiiPfNzEBS9nFL4XXkUddTVzKBk+9XlZiuJUweVIZS/g6+rlyWkNM0q5Qwt8q5kczxZZ1t7bxek0Q+Yz8grAwDIsNzJPrJz/WB+5cgFZP6HKux19LFvfLtMAVbj7+opaGwGjLT+JlcFAaWkesIoJhCI/NRpSb9Zk0vjRqOR6c+SeOjRRvC2S2NLHJjGBIRyNiRIha1DpYZEPyHCqBMEQItOUujkz+s+Ne2AAAAEGQZ9xRRUsI/8CPFPzbBL65j0S44xSgTd9oIoBNrNuF4MuEaowB8AI7RiyTmcYfPvoN/IiqYO3v9Eo1jj8Zugdas4uc/AJ2SUvJk0ijnt/jg+MkpoP6W/WIni6mb4xR5uZV4cszskrVXG293LQzlYugP9C392vgM06blTwHJQa1XT9vc2UM43ikJzohmyOqL11Ld2xOFeSABduyHd12D64LEDpXpLQplRJ5vEZf2GLKEdvyMCZa+2nz5UFxi46GdOFNyyJf01T0Gittq3KcJAgK8uN8BaJlp5wsV6zMMrRZByzNtyU9JsSHF2/u7IjpYHbt/Yr8gNSiK7DxbU4bl0o8KbXI3QFxAAAAOEBn5B0R/8DhRSAT7jNC76vDMowe25wcO8KjDGmvttUAHFc3ujhFPlXMTFdOW1Apu5rZXjzW2xilAN5ft99HN2Z2tuQ6Sm3yWjk6exNYcrwG6lk4pMbM+PPkdPKoAb0FUclvIITWOdToafNFMgZ1R3qwqeev7Qg8s8XRP7SKDE00T5xOZ2PbVYXe4y5og+hFEbBtZJjDWZ4diaxyCRGKshePfUZ25Obdi92K4fFrNskiukTZgpc1ehcFbDHjZo9Q+nBsL2+x5SGdrN47s/iMAqlfAh0xL59E25onaIWPKpoVD0AAADdAZ+Sakf/A4b/yTfEHbo/mXY5LCKJnBkQRI99vdDH7v8fAHKFQYUwpxWcTu7bz+2Z9T8siVXYhBih4H4zzUN7Y7PRCaUa2ujf8AMjtn5Z1MSNHNH1idXA17MNGJhjMxqN8Py/u4WGouzvbLXUGO3b5TYNfLhEmxGCdY8h94qpciTi2lE6aRp3mH0UBs1yw//hifyoQhxNrpvo/4ig8om0W5aXTgwfXDbvSh1I7bslUS3cSV7N4MBkLAWVe9K/hc7f6e4sqs5yIGY1zVD+cf0LFne95X0UVtgwgrVoZ8AAAAElQZuXSahBbJlMCGf//p4QAAAL/7Hju2GXfzRITD6FUK/gFH395bKuu9kLe8XdmyV1ca8LSmPydHsfSgN/DJdn9HtUYu+h7ePWINFrT86s5Jsqf2Smv1p1m5vcpcYgsOeCR+i3qOZid3P8FTCkdfYkQ2If/vj2JrQ0oSc1+JMmgueI/qidbUzUIeFEkFdxQr7xJ9lORJ78qGt2fs1IMeZ1ztzj3WCCyRSRglUkGDjOKuhb+HwOqTDahPlE2bHTFYys69K4hxhfIU+dmPkasVQ8cvYVI9/OXExDp8qA5i/ET6s8uC4a0GLzWHvX7ZgspIrHxHYJ1j0IAOjMgaSl+UAoGHECE150NT6xjaND5ZWFB0kYtQ73TiS8e5lQUHzkLE9CyYCuoeAAAADjQZ+1RRUsI/8CPFPzbBL65j0S44xSgTd9oIoBNrNuF4MuF6FSAHQCTgZ9GEg3ONZdVAqn9DYC4O1Pa/RSZOoePpeeIJhN/3ASFJAHPyJnRmBemel1zJ7V0eTZNReeIF/Kx9Gi33W2Y1EXmKtI65B3FnV/4Zrq6xjAgMP9Bh6DapbFUxJuRZE8G6GCVBxfw8ngodEN2RPGcUbAjFTYtXpM9nMwi5BST3T0YabtoGULOjKlJ4QpZWS586w9mrpz6RDiQv3EE+3qrrxDw95rOrZHDNfaYukhOMAbYUbORPhrRmRaBSUAAADhAZ/UdEf/A4UUgE+4zQu+rwzKMHtucHDvCqobQcADmEt62GAvrIHDMU+FTCrCR7XZbgjxjA1oCFAMDdSTIdDWFbJNG7IFXl7wkLZc5YtB4WM/2Y5NeMu8imZDpwYV/Dkh3YRsYtpSrAM7H9F2cqtko1hg7FZAmrq2+usE6D7/PXjjU8+DmsqBTnp16Oi4r2CCkTD6KBT06lKbytl9s5KFPCkRlnMRklkbwgj48q2MgtXO1MV858ESonFAa24KI/MwdYnIVeY3a9kj/voFkYYfzf4peUM2Yq0AcQMVj8tePJZQAAAAygGf1mpH/wOG/8k3xB26P5l2OSwiiZwZEESSsaSUiIOg3GCogBLHybUb3I3Nmw+doPG8v/PFzZSoLkPh3BRZLhk8GiJ0OA+5eQH5KsdC+1ST/CGWvISDs1NToxoaS4+lDK7a+JhyikqIktSgSIBc5rUo4O6QZke68GRhQlng5QO7OA7c9vbSWCmD2JxZCpeznxRMs/1eZimK1b9JjvgoSj812lBgfFp5oc4PIKRBwB6+G2r8IQo+Qid8nXJW4ISOqsCNPdsnjm9lQcEAAAE+QZvbSahBbJlMCGf//p4QAAAEFEZudTNNCPU0qBG+1z8HlThoAOcPkSDkOgWO0cxJk7Ai0g7I9zOwwy8AiX1gCb6uhOfLZrmrDPZMWiTZUuiU3el7Yvw9XOjKL0d1v7+U6MI3YQc9i2wkkhuLvGM+f/7urgnEh7EPabwdB8JCW4Vrf+EBWZCHebpsdLrlCxgsthHaS7FEK6TCDrd2lK4wfMjZW3S6i6FS3TY2Nhr26GhZcMQnt6YZqtc9Sj60oGpPmIwphuM4DMYrzSNKcxQVEzD2s1IbHEaABVR+ARfjB3nchm4ji3zo3IAVydwO+1funZ3o9lJcqf3V9fgyc6g+F4XTMF4p3pAB78Be56LuQM209QcRFxzK7LLSsiekKCFVAZgu8TZraBUGcD402yHQ3RxdckQbe9eNVVDvH2uBAAABFkGf+UUVLCP/AjxT82wS+uY9EuOMUoE3faCKATazbheDLgt+jO7sB/gb4mTQOeY3ACau8KOmjGcM0WsDGmp/BMoi/BDHHgpSlJC5vHgx/sqH4IX0u3hazig1xIbHWcFNQIH33F1UASLm9xdvv/GukuQZdHRT953U4CkG5ZlFCkgR/pRA1C/WEIoiYbYhR26pqD23aOuOGuXfkYV9BnP++McV2mJllEJFsuhOpkE4nJOXdCiAS3vgLcKLQf72IvksH3YyWsBejw8UDZzub8/v4nQY4u+SjZH48+Kl2cv96bvhOCY35WAq828hZHqIed2fKqwQ/B62P0f0uFnq6LFkO6yepb8OvAscuy+N4iog4lvu2gUsAMeAAAAAxgGeGHRH/wOFFIBPuM0Lvq8MyjB7bnBw7wp34ESjqqwR9nGUF0LMtU8JuvFz4ACDVlHqoKsm5KR4lqewTdXWuLBvqlJWS62WZW46+NZ5kl98IBI98CuUu4w9k/1UVfv6gHlOPaYg2ZtUAHIrHzK/clHS5f619zzenJAPw/RxeM7B8sJ+zHisxnBmw/wC6+By1IjiPhkjYyGyfp0snFq1NgRrwUNvw8jUsQsw0pgIUHZbyAt0Clss8O+Z+yzYYs22HVM44yVrBwAAANwBnhpqR/8Dhv/JN8Qduj+ZdjksIomcGRBEilwIiePQFsXz2htXYgQimjABa5n6Zus60vxLQmWXJr/yckXDsu4UbScynb2Tu4iarsw56NKsufdcyQe8XwU3X/cagaT/4W9eXf4AxTfKsTr94rFpBDWphSSRFdAignSj5iStR+cBz1oh/ZGMr+VuWp6vHtRU+1CogvhPuKs4EDeXc24nVFZbOoSc+V6iPZmZgRbfpr7AQLCgb4L3d9GENFFMpF2zoIGPjiRfdh88Nz4FSPjF9LbCU2sR2gDByaJucDHgAAABg0GaH0moQWyZTAhn//6eEAAABBv0poy6sRNtZlPuq12x99a/aQ1LpoMfZdgs6go8FjrPqy/ycvWrQrPaPJoLoTiW9oULtZtwnh7JVGCbNy/z3EoPcPTzpU5SBdIdrLKJvh6yf/8UH8Q4reMs3wD8+FtyXlg1LfGexM3RZoTzkojsW3ni2xO/8pFOhFY1grR9zI1XrkBtnUDLqehI/9mejsXjjdUvA+FVk1ws7Qe61oCni+xajhEAFpW9136VcNmMSqtvhbijXgfUnlfRt+k+hnkLiQX+MddHBy59Z9jYXoI621adImAm48FEjfG3Zm5UFwJ11DAPQbfUr/I65VkpUUQfJodLJzhUWVOWi910jj0qPLi5q7n3TG2dXNW9fv1Gqk46IPMPVVn+oElol+JiYGFgoUk1+b52MQZMLkfUwy0rwvY8mHTSj3jjTaXMzXq0XF+1jIJtVpa1Xob7QXZe7BptluC8moGqx6ruIYvz+HKZ+ijrYS4bfI3sP/5X4M0b10TIuQAAAQxBnj1FFSwj/wI8U/NsEvrmPRLjjFKBN32gigE2s24Xgy4Lfozu6mhwJ/fTQBWoOxtCWR/ykh5XTfsK+cI1atKvaxtAZ/PjhGu8wTQSVch+8PdIvtmByX+r2yvfyXfPS8x4V1duiSL6xOt+l23O12610/lorGk7wOJb+sqN9QcmKfruQoonNrNwV9/J51KKwbjUa3m9PHxn6KeC0k65jMIGmUrsEfYOA1yyM98sELXxOk6qzbGpfT2UDrPwRxwHlaNYz44/XOY1vsVc2ct1pDSmoj8hbToVtVcD55hQuoPqHC+/KrtyP6LUDDtt1Rxo7Tf1km9XmihDStQmjWvTC6KEsFG7tmmMPJIoigS9AAAA8wGeXHRH/wOFFIBPuM0Lvq8MyjB7bnBw7wp34ESjmVAXOcn06CGPJ38fAFahn7nTZm/1B0FpTcroHuG5lXWc6DmelZqDc1q2ib0eGM6llV48UNzOAtuFo0Mpz3a39voEj5kPsxqiAwvYysDjTc9m0srnAP9iz8YhgZscQZ8UJX+0RYOibLK9ct1/KQBt0BBrVhD+OMXChL39IseWYdDmAVvlfdMGjxI6o5KKsvGZ6HTZStJyefddF5LBBJR/iAjZcAkFRn0PSaZRlZGpTlAMtTH2FmDCpe1K2qva1LEsAFsbqk0u7UGc4ql5AGn/tCI5qDB0fAAAANwBnl5qR/8Dhv/JN8Qduj+ZdjksIomcGRBEilwIidUuLisAUkvQ4GrbUMRHRI5bU6KV+Bd5IQLjPCXeMYq7UqngWXG/RelwrWM6R7vOTBmHDLjuctztVpc0V1EylvAs8Qd18Gi6o7Sz3UXpiMDfs71oc/82VoOFtdObpgvQFNL4nJBeTgchvU5332+uQz9CXR359gEUm0zLJ2gN8t23dD3MJxO93/rW3JngE6jlXmKejDNSqYS3ZIq30GNYPvzAzhRyaBSraj9mBATEHhg/ma9XP55hrtAXKkamkmkbAAABT0GaQ0moQWyZTAhn//6eEAAAAwHG1z17ZuSOADmjcc5mfy2sg+HR1QD1KEjqe4eyxUn5X+lQ06Xw4PCkSkw2N9QGKetlHjh2UdZ8gOFHvhyAW/23s8nxl3DUUA42wraB+vGLtK3vwfk/34hUcnhLOsYOAoFyAiWIno65Jfysoydypy8RprC2k3+QsX7VmAyjfSH9w0GeKNpLQnIHaEYns7yDoS1Hk/Ccqbskp0MiUsOhcG/UtOzfWVlWDhXdiZDblkADiA4mgLJoOp18eW+k70qAaUtyeR8zPi/yBxKldlGQW9x+QeaGQVi10YZZHMIpGqSgR0HzzzYu4Z5fzhvdwqFxnSQPk+mGTRg6fbMEuG3lLq7H/Pp4y6RZSOfW9dJtXJlO9B3xaRgkl5xxb7FsIg/5ViTAP1XytWsk4o5Km54PvpEdbEkl8O2vI5pAfDJ5AAAA/0GeYUUVLCP/AjxT82wS+uY9EuOMUoE3faCKATazbheDLgt+jO4g7PTz9+HEBAyAFrbu+TRz+M05qOkGUHWpGlvjQCcIis0he6ysdyb+ciKLVM0FA9SIQYDEFrkOyYZcawhR5LPQhpdTjllUSGeZ5Q+/evGeQqRLQkRT9faKxKB+tcxk1++WvFfJwUf5UIsdEf/ZzOXfUvVDlrCKH3sd9ewMFFgAAJEe9PagyagEmTbQ/8K/41QXJCQYwwej3Xn/6hluSuRTtROz+wRJlg9knywbF3onPP47LnFOGENr3uV9Fb7md9vZzS3EjaY8mnq7A1a2RanFO6W+5TTxcZAyoAAAANIBnoB0R/8DhRSAT7jNC76vDMowe25wcO8Kd+BExjbJiAtgBf5oLAosmdEHEGFmclhUNqG0kQ8PqmrrCFCKCYbTrtjHMsywNKUqFuIWs0+hV/+1HuiuUIN4i4/dCEP13pCC6bPadbO/yzxo2rP5kdAZUSTU2tBxslNgxEPEXzUau/F5j7+5rgQzOvvTef5lf8QfZvuTZiLeqOlcBl3YC+gcqxlG7l7vzAYbUzAihA759mZruF2GX+TBEfK8+fB1jC2FMkfJ3qhTR8A/lCkD96GEBx0AAADdAZ6Cakf/A4b/yTfEHbo/mXY5LCKJnBkQRIpcCI6XXv6uohAT89GAADgzVJ1NGUHJScm6FUb1ql/rc4DHGzFLNCuMy5lQg4Ue8olsoaekQg9sfEZFNHkIS4gsxz+fDyGu5q6zMghcAkX9OiutCM9dZo9x+kZSLdhhsa8P3otawG2mA609RmOslcnZegt/BR+vQwOlYI8YGph4yLxIIWTHiupPAYdTCp8aM0NmJ3UEEjI4pQPr8nRPEXJxDJ+OwifPzUF94bXop05TspBB8BAOlEXeHcFoApSsJSpEu4AAAAFyQZqHSahBbJlMCGf//p4QAAADAcb2OtD5voaSAAHWcBSFot0bThwHsO/zSll8pgDULugyMNRlMnexplnvKw+/WhN9q1MlvQo/4687C/j0Kq9QhDMPHTnx4kgJvw9VTyJDZ7TRKPpKMbOk4MRutxfpIivg/KWzQVl4dxo2jGzabYXtnSLaU3UbmTwdlF24XAQAoQjJDM/WUqdTyaF7+TBAcgFylOXXfPeZygj04oESUiw7pF5TMTTP9o1yUGjJA9a4vxcwRdsxNlNjn7ANV1xCTtCwXBqvuBsQiigASvD415iJXgBaSzXd2+eOs69v5l4SPbKsyoAFwwYIZeWmVJl9KvArjG6KfRLgdwSTn2glRHv8BtF2+G5xcgEDMo4Hfoc8oqD8yUgGxU+DiNLLRWMT1X9LCUcZoGyU0lAqQ623X/6LT/hsnxzXZ/V8GzK++1/ywUlP7Hu0tBm62QScbh4s4CC4gcSprYbYEN3r1BpfJEa9bQAAARdBnqVFFSwj/wI8U/NsEvrmPRLjjFKBN32gigE2s24Xgy4Lfoz3Tb/87x0+z/af7UACMdYslbX+wbtHEp1Ugd7yk/gKfvGFdVsi5t8tLhNUscKhekBKoVq9c8pLLE6hPr+7phZkrxAfcqmIWBi4tQkpyp+RUypR+tDPmEKOh3v/Q2vl/ssJWsemqPfLUdQimLHRzRGMarbVSv4nlKdA1iicBJIgsVyGE1c+Z6lXpcEEoyHb/8iQqxXGxoifxwxL7n6iYGtRtb4xDuC23WFtcbsgltHBGvgKfupauTrumZaAhHi/PHl1ZZkNdLIV7F40ZbKNJLokAwOL3P0keShP6JCviH0tcFxBeQehGODLXmBJzSjoAbggEXEAAADVAZ7EdEf/A4UUgE+4zQu+rwzKMHtucHDvCnfgRKIx6i4bQFzge4S8AIyJCxYEanXWzraOn/wrdOC0fWVM8rwBqL42VV3al7A2eCvk1GOh4DFLxNLY9A+0t4WZPmmc4OssLP9ocUdgFff9LQ0Q6yoV/XH8Fw9u6YPOXhgPIpWOJOxfOHXMKUn4D1FvJscYkx+mzr71nHmSKgEY9d0fAt0XmB/DAHwwej5ngeQjuglogi/mHzCMQoYkBZJzbpZPwZpwieIbl2rzbxWFOf+d3XgXyGlJ7KzhAAAA4wGexmpH/wOG/8k3xB26P5l2OSwiiZwZEESKXAiJjTtm5nFIWJBbBcAHBoKmfBYXmBJD1j9BIWgcVg2c1LvNGdg+W/LfciTCNx24y2i8GqXFF4pnNNVXHLjMxGmHIkvIiYvrpwnS6uW3avK/fEakjzxoseDbx0GdcXkLgJ00orBLMGmdfrbOJr79vgLkYM9D2NIOa6uJ3k1dwciFJVNLPk+9ZcMIhxbDsAcJmc3fwbnbrZnp2SgZzQ3EPsI0LngY2Q9sjOWeEmrfiWZrg7ZaMf/lmd0FniGSZ8kbSgHrrXkztj5hAAABYkGay0moQWyZTAhn//6eEAAAAwHG1z8ILOiYAOcN/gl41a5VIAOlk+JNRvEJscWDGFvD6mEF4ZihVUmyxdIvy3V6oVxib5R6UNIbM1e4JGf0CepZ/tVPC1xpoAeslWV8Iayk5lKV1DAYbFl11Jl04VZbmSeDMmepskgyjJNyj/tnRvQf/OF4vyVCRCHo3hrPakwTmq2XGheqwnlCiGSi714Y892Xj+UsjcTy5S0xH01oN7Nkxj+p2/yxHv7ar+Zi9iBXh/YqoUnwbNHoOBaRcp7bwQPN1pq9dytrEHKHmciUlRzHBlrj4zjuiyhHu9kK7dLvGgLKfrmJwVeylLvhUtG85QDIqfEMWzfi1p6g1z5+BR3TJOq5bDNpDfM8GNWWFZiPWufMUIABeVHiyzVX/VHwdEUO4880xIL99gEOwJ4bfK4AKXwobF206XLEJdZoSZ8n3UoLmXGtpvh9BQMTC8QFiwAAAR1BnulFFSwj/wI8U/NsEvrmPRLjjFKBN32gigE2s24Xgy4LfozufgHWGeAHHsdPt8i8X+/gtfJF6TJoEQb4ZvCXFKTyhe1oPtv3GzIO/BqOl2CNOUXXkgAlWW3kbSiDYtln2H107tLmlzR10Sj0eRiRZ+wE7EPNrcI0KWeFdlct/k8qc4Bo54Fv5Vgaa5uDbubMdkz09Nt+KaQFdFOlkX69emJYmRGco3rICwIF5T5fMRYdVGmk3Yet0ApDs15nvd+RFijciahT23UqZx3+5d5b2YFR4O6XRv99vYzz/rQoUkpt62ocf1M0jr4fz1KxfnmQgVE3r8boV7we3Rx8VqOjDQRXPEhSk8MD5G6Um6MXOF1C7AY54ye96V8QGDAAAADZAZ8IdEf/A4UUgE+4zQu+rwzKMHtucHDvCnfgRKB0x+AWGNxAEDYx5GAIFNtTXguF9gey9PgCF1JvP1WyjxchuRbMqyUl4OK4iz0EELGOWb7nxwUHG+2mWxUI0cRD1UNh1RBKn06lQls77+9YHls5ZvwAs9HyZ2yKzgowmAuupUypxSruH9xN5tfMw7GTyDRfqvADQhFNFLVMLwZxC2q50Qyum2by5YwS872ANHEPxm4IcbMFEvzLu2L1ZbeepNwox++aMwz7vhlF4fx7VSNqXzdjtkuuPXRnwQAAAOgBnwpqR/8Dhv/JN8Qduj+ZdjksIomcGRBEilwIia9rLTodEEpF9VGACwB4uQvEX0IlfppvJ2xJDGJ0lxq0sK/gvOu4gCCAyxh/ocoejq1rsB9eL3ab+J9KwgMIlyRm9xWHXt+/ftA5/tM3cFqZw2zB9vAZ3+02kCjdbDuQXK+muOl5i+Qo0l3mEhOpRzbAdeHZtOLnqHwUfVwhFKMMUSk7SlM2qnIBXU6e3hcIV+3/rAoYC7dfs5xXBsyQM9OQiWU7ZJCwQwmVOqkPIw/uBgSv/Unrabq+BzBWdsIyxLNfQX/UKxNrmDugAAABXEGbD0moQWyZTAhn//6eEAAAAwHG9RIQzsAJ1pU+tPDOOAtveHbPJ+vONXQvtVuZEh5GGInHjFyJ2uKQESNwHs5zchNdjl4vVOUTfos3gcjdOd8TFOd/XtPpa4bwCzpkjBhuOVxHzTNbL0rq4NQOzrkxlU+dr15QpzSHxsZqX9JaUUFCmO5O++Mrkb1xc0ERA5biezZl0hwb5bJliWENnrus0cZEvoJBNSyraphOEl1l2nNcc3jmv3AXI4jbLKxlDdoPI/DtmgJpQ/LU41LIVa37PCQ7zW1fy3at+h3WsOtZZjCZhLw6g0MlKsxC5gtXijRBloxwHGgIuBGY8pTqj3RwMTKho9tQSzYtU/wkqyDn0cE2X3fM7SqcZmY70xQhjYX71jtWmibZ+BZWQAPGmg424O4nUTAB9iPug47CpVmfdezwcGCYbwChmIleC3oahfMlFIYkY3fB+qb8wAAAARRBny1FFSwj/wI8U/NsEvrmPRLjjFKBN32gigE2s24Xgy4LfozueqcwaQmwtd2AIkCUvXxyyWdEuqhxLX7gh8gFhqwNS1TBvzL+a6DT2wggibWhp/z0dIQ6m9zjXYuNZ+t0mdR3w1Tojws/ZlqqzGX26mWkklGyS4In+HYDjapNH9pFAvhKkOVd0TOhnk4EAPBme4jWUjupEHHeHOxad9myBszUTVm8cgYuSgySx8qzOaUJF2ersMs7F5SUmoWrvQ3jNOwmR7D+kTmUnCgPi9BGEKgx9+tATo/wsnO1ROerKe0LN6xk2ndKk832TcFfn96SbZH7/apyazfRofXQ8/ezO52zs6dSqo2AhMttdIzr+vrwBX0AAADSAZ9MdEf/A4UUgE+4zQu+rwzKMHtucHDvCnfgRKG6asiJCHx3tM7ABwVBcteG3fJEb6lbey2oGw235H73jftpUHkGUR7IPPQQF/4ZquyCkva1HSvc+dap6FQTZFcBm0cs14qCXquBDfmHeZf9tc+hteTexYbBpsl61uwFszLPP4OAon1SIx6ROMJ4a31pbiScl4n3/rNd4kL3QSMMh9q+vOkOFn23IeuVaNV157HSrxbrYb6yW+CT3FQel8jwoMtP+ucqUfnU9cFnCLeOja5DLZNxAAAA+QGfTmpH/wOG/8k3xB26P5l2OSwiiZwZEESKXAiJr2ucJ3HVwAcX5lTHuLq+rB8QyvYQKJHTBlVmVGTU3wWiTEgTBqT4QnagXRHwQJiOqjhdh44EACPlJ8keeM43XoFdfvXihQ+DtacQq+8DDfPIjZpgJ0HFXFLA0oBCNkq31/dEm8RJyOzXwv83ybkzOGNdaDWQ/u71Aw7+9AF6sDGJY4oz94pz248pLMzqJG3ej5vq36XEghHgPQTfRwhvCkHLedzlqfuXd+POVcs1y9qwGsA98mkonO8nll2nzeUlV2UnHt1a/6SYF02y5eIxQwBngYDAnfkx3+7sGQAAAXtBm1NJqEFsmUwIZ//+nhAAAAMBu/Y8y//jyGXlGs/xXBUADjeTK0w8L3wuF0IrHNxr+SU9zQvcxw3u9E2Pjv4WNACgCsQdgnLxAH7pGZeBJ2Xzr5a4Oz1Dk4ZijZTOwS72uTaGeFD1wVftmKljQ+3Oa76D+Dm/dCWVkQg2FeprE/Wv7R1cp2qfJ0+kndFhEQ1hq9jsy1pjF6j/tUbCJqNufYsAny4j+2wDbLoHIeC7pP4Am9ifg3Kz5j8fK02NaZ93kgNPhZQxbv87qK5Q4WbpQmT9c4kU7MsK0DArSBFS9rud5OOJI2NgfNzN9vAfFHVRNbXoUZQz2GrXu2p27RsjsxGQxZ84vHd+Y1SEKwCFjc/hlqkJxFIDJpDXktP9pwqxXwUiHDFOFZAYLhL65X7tjIOyHe6ci4ve1aaddhBIm6SEjdLIONOtkWLQO44uuSOXpf+5qg+xP2UdJkmOl84AagsAzHpA2JxszegnvSdrDI/EqHoA4VzmoLugAAABAUGfcUUVLCP/AjxT82wS+uY9EuOMUoE3faCKATazbheDLgt+jO56ojlfAPnWUWjYAiQIm/uXUoBc+0UxelHBOkFmEn0TgXMDGm368dSMbiLPXx1nbL0J4tacVroVyn1rH4WupsN2BL+4T6yMtiIIeuZ3ee0GvFUChxVeKpWaDlmw3sk+fIpGS4BAmyNMZ9w+AbgoNdIaZXiWzbee+EtovmtdLm3wLUpCWc+UrYHV0HsbZkeO6UzOU24rlOzFg3nwyvaK7fiDeB1XIUmlmhhK/cRgCtykK/LqJJh6EsGLtLH0b7NQiFnbHxVhjmOmrqE7hdhVo7Ca59IKPcDQrRVLAEPAAAAAxgGfkHRH/wOFFIBPuM0Lvq8MyjB7bnBw7wp34EShuma9Z/YRd0Tx2yaoAOK3ypiOp9O12AIGz9Oa+hgESg/jFNRmPAZLIQTRSrvSOnjNMqfQhFFU00hTqDxh9Udbz4wZe1Gr1EWodZj0YhhvuN0CGllcG3FAg6rjzilFbKBKZdmFCCtmmdqjd1wGJdIypCJAZxd/g0lwFnQoiuemxwFkNG8eLN2rr0F5mc3+foPQCpGOzGFv776u6zw6ZkGSn9a0kzENjuojAwAAAOwBn5JqR/8Dhv/JN8Qduj+ZdjksIomcGRBEilwIia9rK02gtWR3H0ABHY8MG34rnf85OHAWfx8pCYCOtJUaC3/vuWIslNCF868TPA7RsOVuMfQQkhMsFUUATFC2+L/3Wz6/nE/a53mQ7zGItEx1szBylsCBZo8hFw+PsPVFOdSMoDBH4M33mgHQ1J6RHrMhiuJ++NCUY5R9zKaIEBDUlreiNRYmHEpJXe3NK3pN5TmgfeI4o8GYJ5ngs7qaDsurayjBIw37jngKKa3QiX8VMJXNPX3+VA6HUGw/oTAd9hxhgpkzUlny4k7Br9J8wAAAAWZBm5dJqEFsmUwIZ//+nhAAAAMBu9c/BJvrABdBvBaDLr4EYm+0pd5kBosr4ngX0a52zDaLDXm7O96a9/pE4NjGYWmL2UMr0/SmWrdB2ecOxV7OQtyvG0JnZ1QUNW9uQPSrex5amEK/m9FaiJeiLRYEJtSmTfhl1MrlPBICvqwiGHN5U1wruB/3Rkw1ezB3kK+VWpvHKVoblOCAu1NfKvQZWbbynAfaKsqZDCpVqVMqxXhH8BW9WfcSORM17C17nP5MqcJFLblSssGGfhfR8pK6KG1bbM4mIpEwLB1FeITy/Q/ybqkAWivfhTrWlvuW9RV/hDDSB5YpHbP+g5D8+jS/5mdFYlmRvq0PbEERqgyoZVXDstbzxeaqIbP9IAVreqOqcx0PlJazMncKBFzhKwZvz9K2FS2Wg3lnBJ7DJrHRwdQQqQJXt1jE20UD1dg9hfYQ5Qdzy8PZBv+ONNqwlk0l+kGMcr4QAAABDkGftUUVLCP/AjxT82wS+uY9EuOMUoE3faCKATazbheDLgt+jO4f7PTxgl0QZlq7tx/6r4AHFeBQtGnwusZV7+91YBn/cv8aSwoz72IJqDBRlaTVmbyuAM/quBvKi+EeHANnMIo73dipHQMBx7qtCFLa0rXVNUYryEZ/30Km+APBjy0iTU/zuCNHf90nOi4UyX7QqjPILGOQeaSYMUfCjh19+A0OI8f5NGl5oaZi41yeZCwz245KcnPYtnpprksmJUKamSbyVf5cbuvMlvSgKjSnjhgOC9ZzhqKU6q3C+EhCNBSEa3nv2QZdHriGQCsZbI45cnjzVwneAPNm5vV3/j39MvTFfXs3axvr024CmwAAANsBn9R0R/8DhRSAT7jNC76vDMowe25wcO8Kd+BEoF07Lay7gNGe+AIR0K8ttX7sEQNPVb1wf/VUYJFxPRJ6pcuPWznpPgnci4vVE15kDVBT1LdQHAR8rlMv08epM93Bb3lmXVDOz1YwIotNprK/q4B/R1VnTOJFA3gt2JtzNhofDTmj0YHAOxxzJrmaINfVTA+2UZ+QEu55r40oIWmQjch5mR7bifqcTk6xkhQ282I1uo6RajSCthCI0OU2kITLB7YXcRKPEFhaHwtbkEgGRt46VzXrYUsi5m90Y9YAAADrAZ/Wakf/A4b/yTfEHbo/mXY5LCKJnBkQRIpcCImL5Ury9kxAz59whdk/9jwAEYCKdB4NbvSmP6WHbHuSC8PRZMErjeoNH+Zph1mAzyfvO5Yl+epaid8R5lYcABTQftuNb6uXtQn3ZBVvDpWnwWEHZW6U64KvliwZOILnjTrKmrRkEI50ndZ2b7UnydsgarncUDs/TQRpMPkkzl5iZyTot3gl0crZ+hGzlVQxN/EZC8BwqQ+p7XpPocQ80PLnvyLnzAuoT+W9dJdju3s8D+Qhk6TFggwCe/8yidDmd8CUl0DOCgRw79nOs2LW0QAAAapBm9tJqEFsmUwIZ//+nhAAAAMBu/Y8Hr0VAHtR8v8MM0AAXRPPrGPvOS4oIzL9uGLA1gTwBjFekYDU7vmYfFYhJsyD0Qd4jRbA4TlZkZkdZ93eiRRlO7i/O/a2cE2a+X3U9MDPA6hm+Fy3Lty3YXO4OGj6+btA5ECLaRjUwwsVCHwDNjn8FcvgMahtCOCIb3+Osy1qsuKIh3w5xe9lDHFsGuGc2JdTJvvAtEHxpCgG8txROoWxm0Bj4eVeVnR6vKimdG2oeahnSVHsGrgNBiJDpGhAQj1oOoWqs8tFcUYYsbH1/vPUm4d/X/hXThMrLYz0uxQEOFrlO0PxPupuA2bChlhX1N5TIGxPN9fiWHeYRCoy/lNfojJGo8FgjwOF4PvJHD0eh5JWAU2tEKyiYHj9SWXUD3F90mEGf8bt7pwX6f7xnlcd+vP7kVypqqdOVwPBHuQhzW7u6WIH/mXwsFBP6g0fLZB0Pfubevdx/TwovQazoxpEfI0leWEcEV3loFniDlOYotzXDONfeR6pUWwcUTAS/sUI200CkyIL47JbipkvSWNFxto/k40AAAD8QZ/5RRUsI/8CPFPzbBL65j0S44xSgTd9oIoBNrNuF4MuC36M7iIL+IALBCOtGt7vRu9RBChRsSRSndtR8wBuLMiTC7p1odFTuX+l1Itj496mSAxEZZPCuY5gi1y7H5hEwGkEJMRU+EEmAdHLaUmVhVJKYErEACNNyq8H0Ys29Dpq9hKWCU/w8JUadyaIgA57RZ2yVyJ3QusMfPLsgRmvNOJR+gG/LqU/LPIgLLD7gJU/G2bOCKSYupWppiFWyiOmij+Lv6kw8PuynUxrIHk6xpEFDVxCL/q+5lbGFNUfaaZ4IDta9o8RwQgxxjyD00SPtEyOHIRMfohTe8HHAAAA9QGeGHRH/wOFFIBPuM0Lvq8MyjB7bnBw7wp34ESgdMOBWADoCkiBgpf3xG3SoCcU8L8oJDtbk1zxXaheY67pYMcXgFCCnU+YyY1flimokXYxJnd5jfLvFmw382b1SK+tP+d1d4CpNOjKyjcwZsLPOQkLgPejVPo/SqulfeuQshn7UXJ9ju8yoRiSNulu5/h33gLbuVYeLsRKuCjAmaliRX77cAbnUINpWpjR+LBOvNpl+KZVT/w02vUL297ahstry2EqquTCCzywvP0i476PvdmX+7glwApJgCfDVLo6Z+YDeqbIgVnZrA2ONzZoepcwOXawqVJBAAAA5gGeGmpH/wOG/8k3xB26P5l2OSwiiZwZEESKXAiJjNnMoAn/OKXiLgYZpZZeujKah5HapyYpamKzn1BXy6zgXblKn+gQZDwr9T33/1dmgBpsTKc5qURUk0DvRewrx3kqQv6l6c09pguBWwuZ/ctgHoIPb9gKSdsI+tMwBEMo1ilzgNZM/pUGjDv54prbjEd1QIzOdnEwybcgUSrlcR9bUSGiP83AG+QcbgiCnEoKHIKBXKjxNo5EbYn2SxDW/DuFGQE6tA2QAZX67KbJzks5h+vhWKq+UCz4cQPTYd+p+FJwJ6Hu1pWwAAAB1UGaH0moQWyZTAhn//6eEAAAAwC2b7/Zrh10wAbGId1ZeONEz4bDJLc7FLXkErVX2zuQs09fIHp2lDPT1Y+f7oXw7RYgXcIV8n5GSaKiQR7wlqYuNehDg+/VxVKhDHR8A4TSsbzc3pMf0MfOfqrcl5A1ZHqJdYF84/3oqFRfn2qOgcoTy2OIW4DV8yUmp13yKk44G1oy8AUH8GIlqBpLKVg6RUcB+2HbboPgYlRBgprXQJTsioZRyJx/WynajOwqSCv6fz5dUVQaCpZL2XTSrTkmUC83fAMUgWiJ9esWeoA3c6JXUHv9Jp6agNKH0pWuaRsrciED8KxGSJ92Obhic6m341/V0Hgw07SFVGualeBuobYjZJREdGa/CP4/kazYU7EgI1Mtxj41lr7bTzsO7wxdtZXj1ebarM+YrOmtiE53mpf/vRM7OQzt+RXEOB4h0j0lIqHGIrj+b7E4Phg0TlqQI4By8iXIxVqIltIudGdzlyfwDnIykTaPeXsWw0yK+6ZH0Sm+Y0YA3nQAik4SZkW1KbvV5X0AyvwFGsV35neTpxLTRVjOK2BRrv9pbp+I729SuGfDPCPfT/HASSkDN1yrofJfy1nSiouqJP8zz7kuAD3AJmEAAAEDQZ49RRUsI/8CPFPzbBL65j0S44xSgTd9oIoBNrNuF4MuC36M7h8AZnhEnh07ETaoAWiKyw52k6TYd1D14v/Cpi7YBL7BgZksjHjQDOw32QTDG+Qco+N2OrdR6dnGETseS1kcGJhsIZ0yEOVX4KiMmY4PWaFd4ZPYBgXULCR3lomWhx8RX5HcWKowKZOw/4V/AU5up2DZfKbhRxmFBwWKjoNevb/vrDDXcRvmsSxy5k9aO0YkJGV6kuNNUGnHhCY8YY206bAnE5VmUXzHAp/UNr5DSEBKCq+aA1LG22mRGv9vE9CEOb2XT41WdO/Ss7w0t5CbUyDjn0Zj41sYBmdTVuECzwAAALYBnlx0R/8DhRSAT7jNC76vDMowe25wcO8Kd+BEoCOTxBxULEXxUgADgysioiL5PB/8vbGE03AuLU4lO3PqvAh+dC1C5LRr3wBeUWu6oB8D7FIGgd/SvCNO/sEJ/fNiqBC7r7KEp4qVevL36ciYMBpeIYPwsTSgcU0m/EQnl/7D9yPjF9jmcAH/cXWzLvrDPyblYlZIsUNJMAsEClqArzgp81N6AIFYNVhIzWZW4dnQJCHzmeZhQAAAAMMBnl5qR/8Dhv/JN8Qduj+ZdjksIomcGRBEilwIiYPVw4h8AQ8+H56WhMiJgHYfA/wpHrHyyYoAzaSSh0xo3TgH+BufTbanHmup3vJuuZ/LCW+grLQEiiEDlKqjF00VfO05eQntF+4BRk8lAFLtkdcEm/JeH29thnq8yjF6VX+hKnObPBbMhmdPTI+MK75hFCqHQZFmJk+hr+a9i2TnGwOI9GO+wJEe3UYhXXIqoaMon5prF436STF+UIImofMuXtAhXhAAAAIOQZpDSahBbJlMCGf//p4QAAADALZ7v6MA7z57AF5ZLdnogm6r21MAuRIFby8hlFV/lJAk/t+1GeHKZ3a9FXkiAlWhkXyuxD+Il6aoRtymz2VHqs35pEaogDaN9ZRGXLj2WCneFqXGdtQ+uf2OFm2kvo77e0MSyF8EXA1DMaLpQSlM8tTtht+SRqLR4fF8BR9mxLI8Q80SIid0Kek4AEsX0Gm93CdxCMse2CRALyQiByjL+41S6WmRRCPyueDQI+bAj7l5wv0tFsSVUldzalDsT61rTlabD1gJlWclwANtr5AlEUZKyAtzoz6e1LACiIB2XYTa93T5saQuuRr3M1iPrGztA8Dn2xN9LtjRgbWNBDedjAVdnws97YxhqLJfEB4aYwd0c0lNJ6mdVudaFT1Ms7CIACT3L5OBb3U+DfYodoVaynVF+bWnifTbpnNQHFG1MKRGBBZ0PUecxObnVs2g3hQTe+D2aKrMfNJM2ICNLm7TCj/q0od7L6StONAZmS6EE7+P6dzo2lEH9+u8ccNjUubLiCqDdrDjwTsk4w6DUHDg55ch98gB2zDOQy0ZLQtd3usGwJvEtg2Reg+e44+Idu976PoxNSgwiuNmuY0AJ6agQ2+TT5QesBWQ/trRP0x+pn56mNHIM5SFnrubkWLRrpxvknrZ5GWFomfg+8wn4Gw/7tIKT5tYlvOuZA9YeQAAAV1BnmFFFSwj/wI8U/NsEvrmPRLjjFKBN32gigE2s24Xgy4LfozuHwBnOEzuB9dQAN53WPXQJ+48wfDHzevoGNtX0NQIjJQa/JDeRlsa/298qHltuNMyYdPqTaN0mx+N90CyZgWMyoaSKQXBv2WW6ByVo7ki8cWyprohlBag4SvCTi+drUF71K7d6mww83cEnAviIU9e/wW3PjpERpzKAMRNvWdklDL+9hyePf/MBKKKr2aK9Wex6zd9ioLUvfzjnvqOeG8eRhMvJdO2uNwCMzcPgE8E99OZOCdePTMn/Rc6hHh9BORErco5920ivzh0vy5Q3TbYiPsGohO8a4sWaswEbA3BtpSoPMSg1dWfdEBRMc7GzgGNoitZuv98XpBgtJwrlJorCekXBr+vZ9j4N6nbfVauBhxTl1nbJHp3Qashm7v/HTcplJUilsHqywvp1P/tcw1vvpBlyjVZ6AS8AAAAqQGegHRH/wOFFIBPuM0Lvq8MyjB7bnBw7wp34ESgI4zjZz9ke704AJ2aeY7d2iHCQIpRkTdDu7KrMUgWqsopt9ts/aT7VDeNoresChysbljCYA6aLZRxv7q1EXO/0zV/95T2Q1bn3FGdPRg2eYJ68lEd4zZuO/5vsWZ4IViwhaHBv0sbbL7wcl6IvVWxZZsdRLscFuwHCgR00fbW0/+2bguC6zMkJNRYNZUAAACwAZ6Cakf/A4b/yTfEHbo/mXY5LCKJnBkQRIpcCImDYia6H65/KtwwN6abrQ4xxu+AAhmmoF5yqRhZm2PePefYScG7tpo1dD3C6io2NNyJAbbDh74VLBpIx2t84BN54b6UV0AmSEp0ti9B0l9HIg1hELtqTbDYUr007BywhIfBlCslPnIKZvNAhdesVB+tQPIwMdr/8y6bESG/CvICllshvFNKg1QuI3ZZmoR/KoOnej4AAAJNQZqHSahBbJlMCGf//p4QAAADAJqI7V+aQH98wgj5Ts2xs++qp6SWLO1mTuis1XL4M+34t+lH3HVmwHnL62f8blAt8wxlXzTd8k2OHCo9KD0vM5NQpJk5dNL9KhiAZDJGVaFFqn+cpkzrn450sR0pFxHIq+k9/PoHB2g+KLkMUn13uoMLpTxcyv8LprUD9fbVSynSDwZA1PqU8Su7kwWf2Suu29I+J6FUug2YzcBRxnRTq3gvCWnpFrlJEdwXYfJPxCrLED0O3IOkn8i/VmjVw16SF9LaIak2X92RhLr0vxqe4LeqWRANmITqUnrfS0c/0aL4c7LUNtlguEKRxgDAnhsb86NCmbASb0HNt44bEbe23hhj8MImsD9/2Gknen2/StWOoxb8GUffTBt1ODZMx7Du90dLHlNQRWI8kDbii/miof9Jd7+zpS8c6NGjJoE9U5vDhdNUDzSpZ921wP1esiGJAaXh7+3ukK44ydF6ykeU09a5tHTM6cBhxuTNUHgHmzzC+M9ZUPHos/Au5hYLeHFi0XalhAIIm5r/xeJimEi4+fHv0PxaI2INBqc4LjNxu3Yt2LAan9DLzMj0Knc+7Tfz71x6ofXIk6dis4K1Lq5toHmIrdiGlFDr21tTMtON6ZAAETf/UoC35EumSsbpJDf5qEONv9A6z7P/R71y7ORtKLwGcN5c7RPOyv4AiJxcqXYJwFqT7el75K315sbie323ZJFsBy2+YXT7gw4MaKmNohaBToYHPpAsRW+QtdS30ypFL/r4XOkmd/1egQAAATVBnqVFFSwj/wI8U/NsEvrmPRLjjFKBN32gigE2s24Xgy4LfozuHwBkKJG0HEqY+dFQALngio7E9I+7tL6+YV2lCJ7soptXn+E2fAnYzdxhSSyAHoSsss2FVgvevi7HzYacAi95U2AeVXC0OK7SqJOVbsX8zcRRGYg44wqgvFtgrql+BYEi790XIfeOLjZVm3gaVMhlDbYXeYIO3P2Y67gw+kc7otuBI/IZSz4Fz5a9HFYxjLXuMaL2B5/WD1OK6PD44BZLqReZ5LCYTepY8LYFF7Xt6ULJhnoRWAWMKuTr8RbuH+JMMWU+E7y6MJf8Q2ZDVuy/QTpqwgoJvXowmiNOIWudwi897fKcMBWW4UZ7ty0XTCX67vQAuTOWjy9f4h9Z7lWge1MeHxvD6SO5pxFQ2uQAekEAAADZAZ7EdEf/A4UUgE+4zQu+rwzKMHtucHDvCnfgRKAeaYv/a2gTcAFLVlpz5KeiqJqoDx8iuE8oJ9qlfSzw1MnJNP1mAkIFRSB8JEYHRPT0QHGL11BoPHO9cirQ1QE1fGxwYYzgN1CPsEUfe5Eu7QZzNoiiVW0QqGQsvwMZEG/Tpu35YBImZE6nHH/qVOObyrccwCAKhmFHNIltLl8JHPTsn06ic889eqEkF15q89tVOgAzhN6Wo78d9PAw//Yl52yZ0vvaC4N4vYXj22KROpkn7UJSGtHLONDBgQAAAM8BnsZqR/8Dhv/JN8Qduj+ZdjksIomcGRBEilwIiYNbsR+w+AwAGwDWHaUD8SNb+raTX3HIcUJOqm6Q8rzIuAUaqhJf0YQ5H2b7KAAAhIc6qKqUZ0cRdarXMTkFj2CJjbLmf2NINHCQ8dR/LA9NkZR4bNYh8CYWnwOJNrj/Qo7k5DakGbw2RdKNyMgHmhki2iQoKCO5KrEUkke+wp+NcRhof3TU+QTgTXjxd5aaOOk0DOyBJH7c2FMi6gtjo66YHGXk6PdBfCCKcApw8MaAdB0AAAGZQZrLSahBbJlMCF///oywAAADAJwohEh/qdIktVpZHMATdwIodHe3UuZFsIOaLOYEEoNZj98tQTd/VA6KGH0gBYiCmG5Jva5ZTcD9HtZXkyWq4o35312RLEBofWeXgQBvGBmsj9Ze+KlzktZfVqnKtFZem7hFrT3mriKocjlFnOi7sltN1d0lUZ9N16YveVwi4eNE+bJQor9V8iblyi8XKxWCupYGsTWYHIDkDkDlz/CzsP/9fvMgrTSMiTYEtnId+H7WSPwdiY3Su1oQGpcR7XGdc7+7xv3nwaMVmTsBrerZb9mBNaKgJyS/nPjH1uPLtjeLZrJPhiCfFv8buO8sOcGXdJPz4GjfVevzoD7fssPtWKbYsexYGWdrBKqaq3LONT4xvFZ+dtJ6dv6p4nhAaW3SfaCNdqXehgdknnM7UA4jZYINjhiyTaeSFt4jtAPSWyHf0N8mXVH7TWKNjpy7HydZK6FIfKtFG77y6l2sSxSQLlGZGr4UYBxzgzw7cC47XG6+ywyqlxaP/PDqpImCF5a1Mw8OzsQmNAAAAPFBnulFFSwj/wI8U/NsEvrmPRLjjFKBN32gigE2s24Xgy4LfozuHwBkKG9p7MCOfXwLHld8NSs9p7Ms5zf/wUAE6YFYQ+6/lyZxdrlQr8y7Mv4Co/mWonG2lFFwBKwRLE2vca0Wpwxt1OtYAKOARwWAKZRcrnCNvegWjghdNq6BX/TAObnOlM5FYNNJTCuZqWB6VEJio91palRsOOaidExTqpP1z8z/0dwS0aEOr9xfS/sYkuSwK5EmVlnMG05Q3frwmSVZOWv+o7KJialYzNwoEJUyFr5O+5pkrkVop1jWUz0PI2yxFlJv8C8J7tWYSgPmAAAA0wGfCHRH/wOFFIBPuM0Lvq8MyjB7bnBw7wp34ESgHmm2VjVj5D/PCX/7tACHEAAFImD2gscyqOdJb6ryIVr2r1Eg1mdNUwftbF83KAcaU/6x20nlZSA+H64W6jyNR6wIezTRir8Gu0FbEXnhRqClgaLqS+4dYZMj2EgEYoZutzBohayEHXclRs1e8mIVfk32g0gikZIiIUoPxDvT5UNDewH9pyIS5tFWutpO3o3a7nRf3YKHKXGbmfc3P115+3zO+GlZizi4/DnESaR1QSXgtr58ouEAAACuAZ8Kakf/A4b/yTfEHbo/mXY5LCKJnBkQRIpcCImDRgYPEfXGxjNwWAvPi6ABCFKZbkciWa4qIwKFgH/XoBeyEQaltF3k65aEec4FH2vN1jQZeL1g657ZiFCWM5dGk63ZmMyS0qF8cyNqreWZlsnrwx/MboKmyfZOyRweGlIm9D1ddwcMXf/0EQ8OFT275hYkkXtU0N8cxDhduRgc8udcDF2EJFuAxTVs929+SEOOAAABPEGbD0moQWyZTAhf//6MsAAAAwA9Xra8gFJ0AoNrqYpEVlv58uyIArQXmEFPjYKLKWGlj7K7CZi7rNmGX7J8NYABawAqqM5VnI+XL/TikbqiU5koY69PDOyJ/BWFCo6RGh7BuLoGyUi+J8NnvYZrdVZD23uGrOBETzpu2vIRfsLNN4r2QTiPWO+2lDG9BsOzHNRlRBdBf7BjRwyJr//Sczldl93hKD16HM4anWmRpmLC79gFxGsEUFLJk7D5QhDHpwjv+HPj8aw4OBCFLUUwi97XGcw5ngi6krwli/0JRoY8tC4rzB8mVfPJgea7zqomhswLQAc4NxAFSbgL/7Ws/7iehyiBznj1QOyl0lTBWB5xiYCIAZfR33LAzF0uXRC/GjRmyJvpT0kmBF9IdnlybuUfEDq9ti/GmJEjLl4AAADLQZ8tRRUsI/8CPFPzbBL65j0S44xSgTd9oIoBNrNuF4MuC36M7h8AZCfDkxcZPw5ZISJAiNgGJu822gAcElB+GQNTJvdWkNsN6w02H44X2m34Ke4H1uCi3zdoYjdrTGwLQp/0uSwaKW7LZP9I59aL4dTyrHr0QGzAkUmZam+G/msAinKek0/n8GM9/umNqFW1WB+VrF8NkSw6oDtKF8fNfVoxC0cSughumcLjPJdji4qaZAlwQBRK85q/Ihtb3L2uVAxrNBVQN2eAk4EAAACbAZ9MdEf/A4UUgE+4zQu+rwzKMHtucHDvCnfgRKAeXPJ7I88FjCiC6XJQCIVQAE5vARGS3DCdkb/xZ3RhuyMHGjiaxYSfaAu1a2gaTs8Ro94u2fL445yMsZ1hvR2KMtOyn159z74w35U8tFeGVYL+4JNs+Rdb6S0zQJ9b50jmApdTTlxMlcb8c5FnDrVJGikHVSu5x5m0po0K7oEAAACNAZ9Oakf/A4b/yTfEHbo/mXY5LCKJnBkQRIpcCImDWfS6hkjct75b7Uf3KbvkACWISKJNxkbSKNI1fv5sG19UvTJW1E0h0akoQP0GxiJ1sHeBEfy/1EkG8ZZu71bTbsGkzpMRaYeKsiuyvZvlHiOsQ1hZ2z4qQx0fap1iqMAmKrZ+Nzpmvqqki/4QaFd1AAABNkGbUkmoQWyZTAhf//6MsAAAAwCb+HuYDGhby2aaUx1twhr3kjmrD39G/Hls9FvHTx54oNcPA+xGuE/Bn+PIl+5M5+vxOnI6TmVqVevU32TPl2JMYl1mFi4IlmASxsavIPEYjGzfxQuJlExiUR8fJuVjX73C8ZJFe0QMAsBUktaWN/7QNC+iR06vqMXoZH4FzoMU3ziV5BeZBoWVtkPszygFGrRCiLAQMSKHUyHL8v9Ln6d9QDx4mOKdE3reFcjb3zc9MkKYrkyPGsbG5yIW8aXMwKfQf0abSxCSGtesPnaivNe+UrzDZ67o4xCqWHcFGWYN+zv8JpaEOintMQmBd18xnShMIvXUwd/1wABKC+mRM1Wf8CZlSofCl6zAi1loRKXcYX2DNCxC518S2JN79ZE1424bJMAAAACUQZ9wRRUsI/8CPFPzbBL65j0S44xSgTd9oIoBNrNuF4MuC36M7h8AZCVUrQGgMT9BjWeDwWv2hrv7pdF59uhgAbFzs1Oytq8f0k+fo83Obuxhv6/lZG8nLWxpYveaZCsaL9xAC0xTfEf7lOVPzxer2gqV0hf3RE4dY5+ZypCL9JC06Rvs0ZYWkD4Wz6OgKXcf2QAbMAAAAJABn5FqR/8Dhv/JN8Qduj+ZdjksIomcGRBEilwIiYNaBK8Rsq6UnqDWMAG+0VdxT9FABaPr+1yjgoKIwtA/fPHaHdtBzYSaNPaNShTI2dtOfDogGDnI35tD1ck0LDu3zG+o9GZrn3e8MOzJRWXmjEDkbx5x465m0o9d08g+yyNUpEjZhUNKvksh+7WWcqdXaMEAAAErQZuUSahBbJlMFEwz//6eEAAAAwCaoygLAHyEULP0rwXRr3AopLmuUbryFnGhgQaZ0YOlSP/tkRQUbEV7SfGYvFCQAW9/ysON/KRI/TgXityTf0H71QtpFZmO47yyYqiluWvfW9//TXyuzL7aqbxihR/cBp+1GLZ1/gvIGhsm13HFZMhSqyoxY1R4EDm+BnKtAhkZ/GZioiGtZnrw9b8azMdipZkvRuP9+NHno8Sdqvp77HEQkV0gVlaaqGHg49tN1mA0jw6iG8pNhxuYqt75d5vW2Mu1KcH47uB7NFyRN1J2NzYyRtpYoMiUkGLU0PTsGdhnivks7F2wU+aUbI1flcwuIX7W27O8SKIvLGJlvIiY276J9AO2KIBRc1ZvvnlQVSWnTAGcie6uFBwAAACGAZ+zakf/A4fexVhWBd486dY0ZgZqDSIjej2iMFiIgCJxklZNcH6O1Ov1l7XetPSO/YJa36WvozG1uYnhPACaj2ixNyfSNI8JZAVhJP1fuOnD/ibNp1Bo1NQeNQwmHAfSweM7Lv3Y0wLgVlnooYXaboL6Hixnfux/0Jpl5kmcfQOcGv93ZcAAAAEYQZu4SeEKUmUwIX/+jLAAAAMAnAes2AzbwdC/48LqvXWsHZaHApT6yfNhm3vc4Q5p5qS5raK67T9TC/28YTSC+NxfHhwevswIkC2rX1J+GW04JjCUevxS74eHXAwFwc+guafdZTj6XArizf6RtJYofgEX7AR+75cCtFnyZljnZmTK1Dt9ZG4uNcgWTtS1Z7nPgOFRHHt+7dlMGur1Hs5d0oTcWHsI0K6s5xa6ulOhBReKQEcb3KOGI95YND0AsqTFP29+Gv5AdF4KyKUeYCRk7h1IzYEzEhDuRBNFrnzrqs1CVKPUphQ0phNtdHrYMfY49cQcSezenpuuo91Hvdg8eF/Mbva5UOBGh4OKma5pfIJCjKwxUrm3GQAAAMRBn9ZFNEwj/wI8FNff3i9wLJzQNwRCUlI+XMdgenSxtAMfIRgSSR5B46Vrv9jQBqmpF/7SABakSwbuVNHPj31VMvjE0bFiRh8hANeXzgrm2LTAISnRl8gn82hZarxQj+y/63wkj1Wv86FvGrwty1VggUTVrm3rhmOJk7FPSbawG30vnl+kMA8ZbXBAYF1b+uDd4FNH7YK01dWVlxcxhaIjR7lz7op4x85NgCBob3mGfsMBUuskfhCOCTu48c1TP4nNAARsAAAAZwGf9XRH/wOFFIBPuM0Lvq8MyjB7bnBw7wp34ESgHlzyf1FhEwXSHx0qs3ONooALpXnzbjX/4w7ezotcCr5mXNjLyrMwQlUYPR6D46s8mVZ+GLzNgGCWzpMmOO2GsodVL38F7bvl6BkAAACLAZ/3akf/A4b/yTfEHbo/mXY5LCKJnBkQRIpcCImBVLZnR3URkqlKACbzDHnY8A+njHMOdzdmyQO6R96mKKVzsr5hpU6Dy6TON5+8OTWtk5+1dXqbCYntE6IMJDM1tHRcxNBTFsrBzIAAgiEvIRciLNGn6uDl0p8uQUzOyxLSlHUDxncxsKC0Bj8IOQAAASNBm/xJqEFomUwIX//+jLAAAAMAnB1ozAPlyTQw6FOachIHFIzuFkAW/yPT2vUp/9fmn+t7vYI1hg4uEJ5xM843kd3Jpauvq1yXY2mCbP+gzjpyCeYmfl2v5msjDCRhEPAscVZYf37eEMKeoA5JzNiYPq+5IEpaKWcMbSd+qlhHG3KT6m8T0946XmTs7IGDqPbD6lwz+g+X3UUIB8uvOn1I7DuzUg+uQwF2Xnuks68WKtWoFTnRkesE0j7920I77bOuQoM6/zwOKc2bVXl45LC6cI48vWHD8KDgW+I98TQiBGlKXjUM5pa4T7il5yRA0WPoTvMvSoBTVWIkox8aeR/ocBoSeXn7XKo/i1YobTdtzAmfa/XOVrVsA9B/SEj2WZ+LxbAAAACSQZ4aRREsI/8CPFPzbBL65ivPjrP9nPDRj/2xVkPtFoAzNSJWPX14q28R7fmNNGGGvm8kHNF/q2SCJk5arABCia3ZZxkHOpaoWaQb5mNEXE+pfNfZ85TUC8wCh3HNCPhd4RRAiYM380AwHWT0qOBMNHuO/BJ+nUxAzcLwuTSPJwUH2FYwNXiWTxO8NX4VX2RADmkAAACmAZ45dEf/A4UUgE+4zQu+rwzKMHtucHDvCnfgRKAeXPK6th4KMgAB+Hr+TGUOKcRWhI90o9gyVKGCHalbwH6UBeN+V1Z7LvO1W5NCNjorenvjMCQQie2s04Vbs2z/QxP3+G6kufjq71ma6zjAgo813iRC88sjYuaLxs7mqDu0uOxEWyA7Dbu/BloDsyK1dC4WYM+MfcIAmxyAKqMSAtOkd4iPkNgb0AAAAKkBnjtqR/8Dhv/JN8Qduj+ZdjksIomcGRBEilwIiYNaA+JyyOH67IAIU7N/OvF4AyM9XbTH7jOm59ClWSlLRSO4udYs5O8UGl764AurDHSwJ0u9rblRd/P7lCyTc13Qt63LS7icI5zsr3lngTP9R939fcIjV3TpBU8N0zrBj3rij9ApykwQSBMwqzwwT9bLzcR03H2w94oisUnmkPJnsaLK6fLrgTG1gdpvAAAA70GaPkmoQWyZTBRMM//+nhAAAAMAlsrDpCoFBJ+2ACwPITxMR/6UzG6AFJd9Wy3SXVIWAX7tLdkYI+ypS9F/fDopDKrkZUp2wrEJtS/uMzUakGohn9xDN+0Hp+q0dWqgQg8MCCwlN9+U1g3lWMxEBl+f2v2G32JzFGHih3U0OG/SqRbVZ/HhH3T7TqyKLTyQi8rgKhEle9+68zrjBHVZcV7NfKex8at3jvKJr8TicAXUd8c28tlMNBUkFrqiNa/QcjjkQBqjhvIrpwi9JPrt8iRzO6kVtWTKRlTdVQwvUzBuXc0vWHKO5Ier904fKzGhAAAAmAGeXWpH/wOH3sVYVgXeC4rr6F0+5gLOWTeGO6YugGqzpgSd33y2RZ9r3+aAABtRLW4cm1TTl0AUUy+cfJYovo/Dy2geSbT/5KqJ3zVnnTog/IehzK33go2aMn+GYWsOXFihjyImy7gCUHxyJmqXxEwF3n57Bjg9w3XRM07iK/JzRbEH45tQWFzesEnYNxNOWg4oEGONHDFVAAABIEGaQknhClJlMCGf/p4QAAADAJqE2/ADb3y2Ct+rAs3h4jZYd66XtS8Vu+73+eOHq8K29RgUWuxkW2tCQVgdWtD2TZ96tq2Ck5vkunBJaiSRKPO9zG3hDwbcDaE+1K0i8hVjV5TmaDej3KJSU+0kZuXQcIMuPwj6pBeUDART4cjdjIs09szoWNfPn/drEVYyijpQvZWZNddecOsr9SGUn1UTGalqo5jfKiMtuP8B7IAsVnFs78xg4tlEItx+GT7LL+C9whr3dA+jF7/mPq1hTYBnOvVBibZsMYLajyFzP4l27PsCXpBlVMS5Qmv0xXR6a3ZToTXzp9Pepw8WIdL8Wuk9zM+PxwvkcAptoBYaP+l7FQQa5rW5mJt7+GnVCuV0UAAAAKhBnmBFNEwj/wI8FNff3i9wLJzQNwRCUlI+XMdgenSxtAMfIRgSSR5B46Vrv9c+P1ah1/ylRhACaumMJZMd0151fzhT38w6+F6khsWn4WgWT9klRCLzQbozUqEq1VmJZ9rslm5JTCuoRRxuznMNW/IzAB+2No6CB22GytgzecWUcpyG9ccCQa9PUh+82wleYZmDPvmtabeORhmhz5uyVmNAvxPsC+AAEHEAAACPAZ6fdEf/A4UUgE+4zQu+rwzKMHtucHDvCnfgRKAeXPaNX2ZV1uABtRdfzrxeDQXIu9EejBXtKyco0cuAMUDFc/7vdT/aKb2Jg9dhJ97FWf87Bgst9HfwXnSH5vzu4zYzfEJjfUd3vRot1F334zVPO4RalpPr6aMgEsHfEMxbgGuACoBto3Dc2CPhfXRGATcAAACgAZ6Bakf/A4b/yTfEHbo/mXY5LCKJnBkQRIpcCImBWdXWdAF5Noeyxw0yoO7PGPTq418EteT55exAABHR0DqRYGBLiL/qmuq/yRLJhaLi53ihZCGMCYDbCSkzqhCdYy/bjYNr9b+bVGn3QmuP3toonkP4Def189o01kkbsPs5QPntAhuPgi4mjYxwTmFft/saF3GvmRcSzDyfJ95+ZyIpbQAAAStBmoZJqEFomUwIZ//+nhAAAAMAmn978ANqisXapwQRM13smZTgI6IEVOqrnfHj46zs7zOuq9WGPlNYuzhgomvqbet8m5vNmJp2rQz/bAi+dgzk/v0yW3LjYoiwqVoh3Ebarmf668zUIr11TYKB9YlHln9bK2z4Nxwps0hEsFShcMABnY1AGTc6GjwwZpTKAyMzkfnANHMbsOH/MGpWZC50gZBttkV8QV23vlRK1iNResCAoeeiWCaSWhgO7A+/3wSn6ZuZi1RBjJQNk6+fQ+P9p6A1KyXDBjsYRIPvUsl7oBvBeQBPvIycrqtoNjKfBTW9gBD4GLMta2HKYnxMrADe8ykrOcy5n9xfAS7XQez7Gysw9uH7oQUgsFo81yl3LsGdaFH4cGXpAkyELQAAALdBnqRFESwj/wI8U/NsEvrmK8+Os/2c8NGP/bFWQ+0WgDM1IlY9fXi5FOuACah0SKHMkNrsSPBvcT92XJ8SnSoKxDkkg8RlE0Pb7vmNJCmKjdr4ZYJde/7s15b+boicu7toO606XeZQphC2nacJLyUXn6lr9AoUKnkSNFJa35+7//FOhzi8aCoAbI0pz8WETDt0rbSUhMQx1/FGC/yy2rejJAnUJaCnyCRjmQlYk1Q4LSWoHsYQIuEAAACYAZ7DdEf/A4UUgE+4zQu+rwzKMHtucHDvCnfgRKAeI94kIAtccceACLzj3R9p0E1m2UT1XaJsGsUqWwK58dCQ1z9nHsv//MR5UNa5ZmV4fHkZA1ZGLYtB04/QwhvCbV5PbGx3iNC2BkB7d7Mjeaa5gVslu4HjRncUgk2fLU9BKrhlKsCx0cmrBCBMK7e/ugZFYuniXsfAjAkAAACLAZ7Fakf/A4b/yTfEHbo/mXY5LCKJnBkQRIpcCImDVGSttWJ4EddbPHGzJ81HEjYB8DKOD+g/KAC3DHvMJhCXsQ+ikcjsqaGKFpdcH8QG+HZZFd30rR4sIqJ1F2VXNWGOkrTyfXuZNwyo+PZMPtXC8EhtFiZItvvHm4ihyMPV0P1RqxoDpAOss9ZQ8QAAASVBmspJqEFsmUwIX//+jLAAAAMAnB9eWsBkoUOqiCZWkLH0nD35GSVgRtiSqv/TN1Hc0geS5O948HXv+l/8iVlVa2+kZkWiopQtN5nlw9q24L1jdutvsV/ESB2Kx4bipXfCreipSaj4/jf29kS/ul22xDctZY21EI6+KyW4rf1qFCvn2PTBxCAmXQFIdlebpfhYMld5qf+KbTxJWc8YVQj3Vgq9p01UgE4VBhQgDTDgst4mdg6HiV8yZv/fb7Fm/MgVOPQAtOC1+zhPL2Hb8JoXMdnkmzCZQ5un2td6lVYyFjko+VSyFp/bWUa/k+aPi2rUbA7nRm4Kvm1HVPEngKWQtkp/w41HEM0489yI0bOqzZi7ilRHaREgd2oLmfSYphYs7p1LgQAAAK1BnuhFFSwj/wI8U/NsEvrmK8+Os/2c8NGP/bFWQ+0WgDM1IlY9fXirbxHt+Zb/4FNCGDqqAG64jOC+eIoVJooqNbCvMOTbQHW18N9MsHMpTx+uQuJzccimTkyPxh5T+HEOOz91/8xZQKqiCFVCP8sMFK9WLIY+SKiRs7g35xCFskmOpquDIFbtpwbyEGCyvVnFaBkCYYHLb7F9fGCmNa8M2MKOs+yRAgjQDUgLOAAAAIsBnwd0R/8DhRSAT7jNC76vDMowe25wcO8Kd+BEoB1z9CQUukaOFidS41/sAKviHSBcJmbXI+NcnllPKNTr4bfTyuwL4Enfm4ncKdD02wCOqDIp39ANotXHoTCtEzV3Oje0da4tq0rcNQ6ThtNWs+PiPjsU9i5L2V9nBQQU0gSBT3kK6nHYVIEL1raAAAAAjwGfCWpH/wOG/8k3xB26P5l2OSwiiZwZEESKXAiJg1oErxF0eS7euKTWgBA5S4+Ze332ELhd+oK25h3QkZMVldUwEIHpL23qoRMtguSVQHh+D5IoclnxnkdPxP0rKJlPqkWCh8z1aFcZhIx7UuGFgXJ7kHUt34i/WvUpSxTy8L6cToKo9dvGMckSJRiK/ZlBAAABT0GbDkmoQWyZTAhf//6MsAAAAwCb+IJ4Bh3vvBAijB9ndlDgY7VTJwxmvN3F33/zyBETDYctuNjSS0hSR7Rza1xZLVWJ4FjyPNdS5Bendu8rfXymse0+1So/KZEq48Lsmv26JDBFfO5AcEC06Uw5/fmb8ojMQCsyx9n8+xCC1D89cu29BaERfhyRzIdAt5YmDlWU5FV2ML5FKoeMg+1vxbS+lWgezFzZaWgZwcSnu55BuntrWmnjY3r2Z/6tV6IBBiSIQjJBgQW9BH2e7Du+h9aGp6tnkEofvv1VIugPZCjTL0l37DCap/30qrlq22c1VNFLrnCA6qgmGMcBuoGSu6Xy0dfxhSO5Yp/H5NhdBzuiyPf44CCzLUuuiH5b8XQq+RAP6M9RBuIsRt2hTkEv8x/Bpx/Nfhp9tluzCHzVXyhgQpNKrfaRmlQ1kER6/FFgAAAAlUGfLEUVLCP/AjxT82wS+uYrz46z/Zzw0Y/9sVZD7RaAMzUiVj19eLWz9BWyNuKbl/1WNKStzmG0FUHH2+gBtkaGsE3UY509GoPpQzxq2L6VjgbCyPxMveRUD4ThhPwxHaUbAhnvYw1JrH9pQaNAV3HlJ6bms2ylXziEnNZZciYPaly54fbb9TRbntRPW5Zyr0UgQAj4AAAAoAGfS3RH/wOFFIBPuM0Lvq8MyjB7bnBw7wp34ESgHjHxuv71zmy7MenG/Jzhk5PjoAAPlDxk/IDQaQ+EUoRXBSrnL1nbKT73grdRMZ7TlnlEPjpC12F/876YsWL2dAHnSqtAETyN9oSmpXQeQF5bjrUVTKbC0ci+2DW+JgmzvRUalqdX7U4B2FiqveiUjzof/0CZB8BQUoh2QAkC2QBUSbkAAAB6AZ9Nakf/A4b/yTfEHbo/mXY5LCKJnBkQRIpcCImDWgSvEWWrXFXa9USjpgN8r11CHwIALQ83YaIF0Zp8wKJuq3GkMym0azTuSoQNGBvE4t+45+YB1lGm4Yiz8AAkPCtC3yyoUD+rcH3b/DYHcwj1auuDNgOTWRxOLuEAAAE+QZtSSahBbJlMCF///oywAAADAJwrOkDAKKqv91xZqFSov5KXny/aKrNyfGZ8ikzrNkaSUZWtMbiPPdQwlbIudwNW6UhZHt3oNWWviVjfERfSqlmQx9FBwLcHgF1e4yz727vMJJTlmg7cFFsUdcL9fdntI90CSXDs/Pt/jyfGYFexncfFqxfMBkEch7epMWWSLOB3HaFJ0vtclFkAf5jDFxZeXoiqU/RR97/wCcCJ9m5RkawqbsxQKY5tPZcaB3ntXYzRrOtOIOkRUN0NzG/7DUXXgbojxk5NeoM2YlBqF3oBJ6l02iTC6kx6WxGRA8LKNdZF8YrqkEbP4IK49dnQgt8esOOqwjEP7iBrpRvpEbKffPv/GS/9P2fZjvd4GH1xg6lYFY+MMf8I0pO9x8I/XaUyQ9r5nFPudY3eYvFtAAAAp0GfcEUVLCP/AjxT82wS+uYrz46z/Zzw0Y/9sVZD7RaAMzUiVj19eLlUr0KF0/7/UPrIg6V3XvBI/SADhME7l0Ewu21i3o90BBQP7RnUTD7hH46HFnff+/rRgmu706ct79PsXFHZSdCUb2Gc4EnnR6AF4O8nc/XR19BMhE9nn3x8Mxuz3giX4FCLI64oOtlz7pG9dYvhFJxWCaBt7kuNulAs6JpPcCdgAAAAmQGfj3RH/wOFFIBPuM0Lvq8MyjB7bnBw7wp34ESgHmC1dSqnRbiKeY2l4AIVCFlNCiiynX9HtmQdj6PIVQt2Nk2gxsLGKpCXqwFYu2GXRjB7GwRlsBwiiJ7ZCDJ2bv7aNVEYIjbvAo7BlJbUgyFXr6VInIFjh+JP14Bg/ckvJb8PtnO+jQUWMtOgcZLUxWVeCtkSn4htvpjGVAAAAJIBn5FqR/8Dhv/JN8Qduj+ZdjksIomcGRBEilwIiYFZ1dWmW+RRCmAEsiEPBwCCMXNCwkhMHLawD4Z7ekRyDPUbrX9jZ5w4UuwBZVez+dzqIIbbQYBm7dhoz9wLLzzuuDGyjhRrJMjz70l6GF/OQ9cZLDq6rAHnKehL5gzU0perz7QSMGQPyogmZ7EQseDhOfLikwAAAO9Bm5VJqEFsmUwIX//+jLAAAAMAm/WlYCEl+OymYvzVXgrH9IK3ou81Gddi2qXxepqYmHzOEEChklNua7COL5LO77jkTFJP32AP1Wy2T1AH2S25/7lhEZmOVDQCbdRKkFv7Co3Siqxok9BxvSfQqQhOv4aYfbMiRSAIWjAreHSOep+SbnIT/a4dOo3/M1to8rM3Z1D4MTV4UO5UYg9VmWOe/aKFIEO5eqrC5pqWuitD9QqpTjpCrk4D2F7yGJUiPX6cH0uZLOsjbfn70sOfb/88vNCxW2leoF6hE+n3GKCEMVKguBD7F/qED966VCOWcAAAAJpBn7NFFSwj/wI8U/NsEvrmK8+Os/2c8NGP/bFWQ+0WgDM1IlY9fXi5VK9ChgnpdFGscX7W6+oVsq6qWVT96xpafn8AAmKXH1Ps+ArPK56+kdlPUnonW1lIYS1hz6U546kjPtHhH1za7ob1pz1AeRodEruwZ7sJAnf/6fWp8TciyV24jZy3hp5a8CLbk6ZTfVtm4gI/PyDOZAFTAAAAigGf1GpH/wOG/8k3xB26P5l2OSwiiZwZEESKXAiJgVnV2G43WmgA2ogw5gk9I9gc+aYo1S/Rc0Hpql90cb0vDPUX6P2Lz3+0OnTP1VvPZKR21GyGk1qNNTN+NR4CZvwkA2LqQshcI/AlTe6Hcmyh7vLO9rfFN6cTIkIRLIAbZZ6O6vLy8Ksc2b/MeQAAAMlBm9ZJqEFsmUwIZ//+nhAAAAMATVH19eO4nwCYGLYEoQF6F/z43L7M1FSLn8oE0RDc6fk1WrCpN6MfC5OFJqcrMmLfRlMj3ZWqBvCUKPty+eWhF9OrKUC3dWkqo8GDrT7jwVFwmlWJUFP5TdH9Owz9lvPeTjPaYIy154p6WoCKYpXYcKOz+x7sxD/rBRDk5exwKjf+eFF0hD1xu0pHt3SleoqRMv0n9iJp/ZP0tttALQcexwTzMuAnHruE6kxlwtSjks0KE4HmFSQAAABtQZv5SeEKUmUwI//8hAAAAwAM6ZgTcWDfUgBD9atIJz0ul3muGzkEpzbSCmWvpe0I8MWkv1SIauIP0K84mTHllICgYKyuU4QO+qZFeSOzDvDTkULZ3WnU//UFyxllu873tO0oSOuA55/XdxkvvQAAAJRBnhdFNEx/A4dyAH+nQuUtXoiBOXWPJVaYNbrYVRAcWNiSA741In0/M5h/VZHgBmQ+koCCv7atf9RFCo4Z7K9D7CuPtEdjmycWNU0w3ANAuIGclx9Jb6jSh0/+pZ2wgQOBlJpims+/6EG6oBFl/tH3/IVzK4pE8HvKz4gs7c5gI89TuEFhM2Lyn0sfrESUL3jlboOBAAAAgQGeOGpH/wOG/8k3xB26P5i9Ae/pQzEXv1ocLGsAqHS1sX5qAAcaQu6TJI4ozdDG5kWOmLM5FsD0tUASUNMBUnQCLzA+0a2MhWzJDFYf8MvZb9FbH7za7r6rfpzMPqMFE73CaI1IvEScjyP/oxeUZ40rnmd2Mi5yJyWxGAfXwQAGVAAACOxliIIADv/+906/AptUwioDklcK9sqkJlm5UmsB8qYAAAMAAAMAAAMC2vR4kzvk1PE2AAADAQcAKGFTESEgFLG8KgSIkhcDjL813/OH0n+AAsDBVIOTY+guOkVbs2tWtTi9uh8C7LI0DgZaX5/1KAtvM6rrrFN6cnpCwm76vYGHGjkY5CqxdN2Gx+21yR1B+jNboD2BvO4jCY0iC9wuGDfWCc4x47ISnWu4G/b9pBdI7QBUXrfyHT9LmtzIqCaDTvhYjN8jTOAWhjjQpBZAYv24+YpoljPgNh/bpdNLzIxOXMg80XdBgP3WnTvp1xj9vg6ntsZMSWIv1D19kzTaub7OJc9jkStzuY6O/Fkcqot7ePlgb8IomYcKx2+GbFt1cZgnIu9wZhuDDdq3CUWjlIADeVCdjw/i5id7nbSLV0QrkS7T27vPssMT0B1prbIOvn3q78uJ8iY32ETsrHur/K55qhQuRTvBN8sm2oW9TIFAy27aGkkyS8iNlDBvOP5qA1XsZEIYrv8V4s2ewsH3pq2ryGa4avKjzu9xDfjwB+BamJSWULh1JliiYk26z7WSMLSmqhLt7835ZpNPnHsMAOXr4GuyYlY9bsO3oN64zYTCSlOcryFArIIZwZq0zzDSvykUQTU9yLQj3mavKKXTIr/CCt8oHqmpDnaGLTiJr0q0bQuJfkMsEQproJtkuBBy7whyjaka41rgdM2+oXuQ8KZT8tNe+0GiZSjH4Rqfskv5sw431qMcXb6X5pbxOQt+EF6nQRa4S5MJaGRXrgpFvUTCrT12XSlNA/DNoKSHCY+IRp54s43x2ZT2Airtfgt7IfEvY7nhTNPfFQ9zWX23uYn0slsUjlrycmUPvM70mL1qalfGQqvGIai+YNANM7dN5qIbkAQyhGOXZsqHwHf6Uev5Uqd7xwX+I4y6brsMZteKgXELHt7aud0zWqc1IWoIh+9tfA6+v0WCdiu2BcCPvH77t2PkdgN2Ep7J5oOcOo3PLlKP4PUGKF43LlbjvoI+5p/3ugypO7lM4q++sRWqobhtc91x7EdaDNcPwhvjYhb+SBIts2UU9HE3PZLtR51raNEXRoYxKjAHeXNZMrnNlWbg6rxg2B/WgRLHcuoLj8DY+tSAP1txWCu8DHXd0mwlT55/c4BuS9M7pGvS3ZexAAAxf4Lj71va0IHDGpl2L4hC2dVLjvgXX2OVRlIxpSOzf1DIMMge8xgYamqwbpzPCuOYBaQGMqPBzlZ8tU67gXRgjkNN6Yl6IUZCg71jioFlEtbtOByHYr96IJCNzlJoaUIH4g0/uKaF/CVGG5ijI5NqdNVD3LZinvKoOJEVl+qpma29o95i4tYl9QMMJ8SsbILMrhFgIIPxh7BlBtDwDnRzdhlJx8slGAA+In9G+0bvwfqK0vJhQhX2PlDQ0rqihhw+ILCrlJtS2lVL4cmhZRfXcHTFhe12tMs3ZGgUb07LBkrpQLyeVjUtFcZbZ8J6Im25cDcLOj1jN//3snM+P7/fD/GnLG/0wJAftEVqNDoc0X/J20x3qvpN5aDjEnrGUHsPSL7lze1Vv70NW+QvR1hnrtJLS1NRZJ4+y4l+BpYHTLU/OLSdkyRMP628lyFRMa8FEhamNwIO1psjQPlAMqZR82sBeAYn7vtouw0CGnsm4KKS522RB2QhWFP/dW5aYstRpstNC9bfIZsKnrQ8qvvR61klrfZmHQSDpKwPvd4jrfo5wXxvphiNpsHFZ/SfXDMDx5LKQWaf7ZIYNvzHNe08q8XgLUuQ1ekZt43OHB/etWp6WSA82IhqodW1r0+JKjoJ/96SBF4RnekGG+/X/gdkWQSAAr/5mcekHYOjAKNE3Tk9ZEPPGeAyNxQDvrne8ABlzJ0DvRWLxnkrONNbuZvK1yxwHjIOUHQPwwrzMJBs/6q/KwI+1xRPL1LxaBxdQaxNfdRJfH0cYLEHeOekRScyMBwuHG3Y/1ST8Augal4TNXe+7ZHbnSYm/qXWISC0zTBtmzeJ1WM3JBQVLZYXTphA3+B/XCeRKFLpGhBYk5TRl+MfGsAAAGW2Y7EAG5TWp2c/g/rT50AUcoS32CuEM45+8Cm0432E5UQes7wG5UTpy4gbX87mYd2Vr9npz/1YLmwTK8OAbhryadMaasRqjiFKLt4o2i3Ihlzk6prXZ/mcv+hj3dEianv9rM8rUGTvZySJvVGVNVy9SbGCc3/BgHRac0BEhvg+7RrxV71ohyIdE4cx4PJftx1xPjrzBtm/h2CuMGlTO6ouEE7cNa+8H7g1efwqsZ6sFRzy1ZZ7E9TDTm3ipdh38e7TNElNGg3UVf7MyxqNSlJtBd0ULqnMuTZ6jS2nAYttcq8Py/KxyjBq7MP5xJCaVm32WMojYy5nYGAW0Xuxb6GcLZbrSNU8TVUJGnMOHSYE3b8naon6+TF34tC7ZtkH3g8SpKrfnRNS9grSE9nvN2QtBRokhyVuBvSRNbux4c3BUKNvGDPc/qXUMQpGX72AjGTts3/jjh9f+/Xyab9bEbvfuoRsleGIg6dhTZh25k1aw8U0GUBL0ayqL3RJof64dqcBUynzoIeWW/I2WYC7ytP6WzqsoeNVr3KoqawJ0UO+pYswFQ0kTC2gFQzBw8P46fu9xMiXN1z2tl+7fv3Cm8W+epQO7MmaXqzqpfEFZF3LC+cX2gU/u+vWq+WnL//bMw1Mg86Rtm8svyqVEFTozG4C+HKGR4Ahf2P57OmaNvG/TUkCvWgSs/bq3vMoGffgYXQLkC51+a2cJqeDVsN/ycPpHBj2AwfQTLRXLPaF/g+pM4+EbQ0JlXwj8DkUn6Y3IKwlKpXLAAADABljA9bsfmJzO8M4nmOSJoDh3yUiH9flsibfa5oKWYbPGKit/TuMabwZUijYkFEoYCdZ6qWsvHk6GDRg/BTWcfvOr0Bf6Cqn5vp/6ZbKHYJEVEyf91E1sapgfPEXRGz/PMyYiwK2avLUAER4pdDXspL/hXFaLjwIBQskchGe0b9S0wr8MkD9I2Ou5qUvbri3LwAAAwALpAAAHigK4CQhAAAA3UGaJGxDP/6eEAAAAwBHVQnAA1RxwihqwOAcI0e79nTjHlnFX/2vZ2nE0EWFV/vg3872CGe7kElPmvIdhyB4grHzVjCm19lpXWVN7Uc8cOFkvedmY9Wdr1NlzUbS4om/zQUQ96lfjTVwXHrFIOZnchngi3gq2zz6WPqJQ+m1oRiWwtUZySLGBtsHiBZ3wttWVCC0fqRIQoCdPDHYSPrXUoDEoEGzEsVYatIKnd8ktSkeDB5N6u5TYCw3yzWqlfI1/CMD8+Vq7kSH3JfJm66wtC+VdcXqddCcEt6RgDjgAAAAe0GeQniEfwAAAwAR2LLwAmrvNsd2O+xK9OpX7YJD/t+qYASBSQQapxgHidredrFEKO/F0+VEPm3gGr+V0ZxUTxrG0faIzDH04n/ovhXSVEXOw7av/8Pe8nquDdIziAnMb02IDnMbAxZH05ZREQq5p82q16YKZ5ACjhw3oQAAAG0BnmF0R/8AAAMAG+565uxlomAEFzO6iNoxe0j4+2saLTZ5sLGpwQkv79NOx1otWBSefpkxuaGHiHRiZKE//w7xo4egoUPQHc6Z4zLMgEVNG76yWrRiNP9nYB02+rlJU0j+KBg/jf7k7/aaQCkhAAAAYQGeY2pH/wAAAwAb8kB24h0QnWTtSADWru9qMc7QDq6h11gJE3zRqjOptG0aivQvjOU/WJowN7XzLUCeSjge50cWQ217kpqG3vKwEPteB02tKZuZlJGhcKrMqrotgs54SDgAAACtQZpoSahBaJlMCF///oywAAADADZAzq2ra5jTABOm4OFNlLuBJqWBe+xeGeOV6+fKvNNqe1E/3K/V49AVMgjRGnfvAvdET+f/EFAHNdMoIeOFYO8Ct/3IL9mgtukYTeTogOTek5gpZsdEaqfVHMXUam7nO31vGHOEPDdgUe869pdIUPFlU3GmoZFTXYpNMPx0fuNAdo6t3Zd5OoijYfPqpAWyTvUOgUy7wAkg+ekAAACOQZ6GRREsI/8AAAMAEZtAASPmlAA6i6t4H4lgXrJyEC0oLtVLZXnze1clemO4tILXOFvBQlcHTCs42xN3IYjQWwuBc654/6z2WlrFsebkrtlDADXbUkAwDNsVlVmb9qPgC0vGApUpjh1+aCXIWOSDSSepdLSF6o/ipBrwZq0sp4aLR4DjWOTd2dFeMSaKmQAAAG8BnqV0R/8AAAMAHFq5bh/rm3QAKxw2zG6dmZW9ilQWLEjjvOx2xaXMNApokgp0qgem8m3CWbiDDy2GUPn8W1oSlSEjUv2JVpJ+j52wRoY4Y2xJ7ddzN2u8tu4S/WGGDYI4vL0I171fG3vDVulu8gwAAAB3AZ6nakf/AAADABvyQD+Sf4gAh+Ag78N3FqbjN5kZvS+pSSU/3poJ9xFSgCrPYFVSFPHPEUwOb+shIQ8XLBN7mZr9TTQ3ycAWwwabK7c7490i/9/e3iNSBT/5LBeLPtI71JVwAbfmi5nZVoRzoaJ3fM+b9uNoH4EAAACQQZqsSahBbJlMCF///oywAAADADZCJfOPChXWwA3Cus8AVLpdeYcKVgFbDL2eCZnz5WqCuv+8bzJTl1/RaUDQaakihbl1xbSXmehJOduV8cttZAEqJYNdBXSHyYXh6NJyrCRd/QReoZVsijOdbHlvNxd8I/pc1++OduvmobsOSTTSo8G7aKnhieEoDpn0AdhAAAAAkEGeykUVLCP/AAADABHppGAEKd4vTTP/9OrAxpqevoaP+7O7JRRZTP7XL5r005Z/h6vI1p/hRjdQUtMSVrzWHyhjBxDM/zSVEpyEyGF0B974wpJXQY7u/lwOj76k5dmnn+HfjGjoZNMM3tuY+5MM2Aod3m/Hy0Ga0BGTR07/iUaJ7xaTdLr6s2KnfPHyqFSJQwAAAIEBnul0R/8AAAMAG/JGlJTVABBYFZzSyMBqB46BlmI2DfCDNEMKNCR6aYL23y5jyN/MMLecFu4QzR+JRVKJnjIe30dJgsl39nYeIEdB0QSz0XWDUHKwJj+yl0M9kpt4j0y+6YXDf69SgSX50d4e0I7jHBtvK0a3coPrH8pl9BJIRg0AAACDAZ7rakf/AAADABxMaga0Tip6q/dliJFABcVl52BWS7n7h0bRuo7NVnOjftB9SryKP/OOl5pA2VlO1ROR/2Te/7QxxdiYMdnpUGcQpcmMA30SUHJ29ECsHx+ahd2Zx2mrLdSz0O0Hr058oMYCrvZD+vShCHI0E1EfYCvRE+JY1MxiseEAAACiQZrwSahBbJlMCF///oywAAADADZEWxlNnGTbACydaKSVNw2z4rjPHU9Kykh0aXFs6JilYu16a3fbu88Oc2YGo+2xidULXXvbo8+pfmAOddPDEIm2C8Blj2ZBPrKq6RPj/MDRHFElS/7YoslDv8vZTbvLh7rP2s7qY1nquYhXOoNiseiN/3J+vOkgRFxVw854niysZEpcjzyMwfLg0zIQwe+hAAAAmEGfDkUVLCP/AAADABGbQSt+4d4AOPahsWNHvEAtnGBLxGSgINYvlJvZY+wPj0CW0u0NUCTccYHJFXVppMHFbZ0Hj1ePSKmCXkgqABET9orYDLkmQbt5jNEiFAOYTHAd4qrHawUUcUxtb2clOwTVOyhHZztD9MboqDMpfc31K3/HEv8joWkggxKo80zmnllbczMPLpaFWSEEAAAAcAGfLXRH/wAAAwAcWrQa/MWAC0AAHb/ZdBIRoNJDOpj5NP2Gy7oeGmakrMrkyGsaH2Ol4KuDJQvYDA1WM/adGTngI6BnDBaRENKZcyn1kOPWOE/cFhR9eq3UeN6sdXhSyCTIirlvQwyb6WxTgdCJKhAAAABlAZ8vakf/AAADABxL80iaCm9L0AF0QJuErtNdz/+18Sq6exu9amRAUHXqe/2RHBgZ36Yv6Wt8TNSfoBbE0TUCteyIxTeo0jX+7DMMziA5Tn8G8Ao4hetR4HYgl62EQuF9qF/LgvEAAACjQZs0SahBbJlMCE///fEAAAMAAgkotA85aLvV0hzTL3oltQEikyvjTTEABNvBXw3vu3mgNWosF/GFCf6LfkfL/O9jIVMmWqYEW6659pz6InnMm5gCNd7irHxSLWVQ6YHnnRMvmgtbZzRe9Do4FHbPv7NmzTXoNUtSP7VnJU4U1wwEkqV/RvFI1QoHLeKYbZfNSuxq/VAQsBA01TG/NC/jDlfZSAAAAGBBn1JFFSwj/wAAAwAR3jMlymQbjndA94q/XQAbuPPHIYVBm9iHE8Ia0/aTWgc6YKT1N7yHmKzcb6DzHfoxBaRVxuyLJZxVJZemZtl1WIyEGNzasxgp7XnhBI60PAjjgEAAAAB9AZ9xdEf/AAADABuOo0l+YAiYTy4GKWQbArb7Bsh0EAzp/5f/Jgv18MqZTYOIUkU2CNBPGZWPWZxC46jfNZt7fyZsxDCd3GtS+RN9NmZlfnhGS87v0QEo34KhygR7J2WoKmJ2gJQ64nShdZb0V398BPlJnDbyxofVwnpWXCEAAABrAZ9zakf/AAADABxXx7UzhYAAJap3mrTwI9ocWlXMcmOQ35qTyjUGBJERhi4uo0KRaQqrOsdSTMhGjtuykmwOH3qDZolQhZPP2GpkThNOSQYUyAMYlE7cuYE4wVJQ5OoH5pUlLfew3vtgF4EAAACUQZt2SahBbJlMFEx//IQAAAMADNm9EAEQS/ml9oxNJ9TP6iRXlV7eZTgMBS0FyPfvgaC/NT3HKvjvrPqqJ32Q6lt9a9kPdkl7orpgKbAmtjlSw3UEt8EkOpGCeEnU5tk096Rjps4SAFpyIyw6inInoSgsCr7T6CEsGOU2JSHfHfOLM1VZ8pAA2ZXJKZey4FX0O7d6oQAAAF8Bn5VqR/8AAAMAG/JA1SBWT8kAFsVfHnMv9QAU/5WLbWnMItbCrsbQvdbekP5McWS/oAlB/TghXuVph9ZtnG0Fs4c8fgopjeX5VNgzU2XAKFWnWFlX8ksotEfigcal4AAAD7Ntb292AAAAbG12aGQAAAAAAAAAAAAAAAAAAAPoAAAVVAABAAABAAAAAAAAAAAAAAAAAQAAAAAAAAAAAAAAAAAAAAEAAAAAAAAAAAAAAAAAAEAAAAAAAAAAAAAAAAAAAAAAAAAAAAAAAAAAAAAAAAACAAAO3XRyYWsAAABcdGtoZAAAAAMAAAAAAAAAAAAAAAEAAAAAAAAVVAAAAAAAAAAAAAAAAAAAAAAAAQAAAAAAAAAAAAAAAAAAAAEAAAAAAAAAAAAAAAAAAEAAAAACWAAAAZAAAAAAACRlZHRzAAAAHGVsc3QAAAAAAAAAAQAAFVQAAAIAAAEAAAAADlVtZGlhAAAAIG1kaGQAAAAAAAAAAAAAAAAAADIAAAERAFXEAAAAAAAtaGRscgAAAAAAAAAAdmlkZQAAAAAAAAAAAAAAAFZpZGVvSGFuZGxlcgAAAA4AbWluZgAAABR2bWhkAAAAAQAAAAAAAAAAAAAAJGRpbmYAAAAcZHJlZgAAAAAAAAABAAAADHVybCAAAAABAAANwHN0YmwAAACYc3RzZAAAAAAAAAABAAAAiGF2YzEAAAAAAAAAAQAAAAAAAAAAAAAAAAAAAAACWAGQAEgAAABIAAAAAAAAAAEAAAAAAAAAAAAAAAAAAAAAAAAAAAAAAAAAAAAAAAAAAAAY//8AAAAyYXZjQwFkAB//4QAZZ2QAH6zZQJgz5eEAAAMAAQAAAwBkDxgxlgEABmjr48siwAAAABhzdHRzAAAAAAAAAAEAAAERAAABAAAAABhzdHNzAAAAAAAAAAIAAAABAAAA+wAACGhjdHRzAAAAAAAAAQsAAAABAAACAAAAAAEAAAUAAAAAAQAAAgAAAAABAAAAAAAAAAEAAAEAAAAAAQAABQAAAAABAAACAAAAAAEAAAAAAAAAAQAAAQAAAAABAAAFAAAAAAEAAAIAAAAAAQAAAAAAAAABAAABAAAAAAEAAAUAAAAAAQAAAgAAAAABAAAAAAAAAAEAAAEAAAAAAQAABQAAAAABAAACAAAAAAEAAAAAAAAAAQAAAQAAAAABAAAEAAAAAAIAAAEAAAAAAQAABQAAAAABAAACAAAAAAEAAAAAAAAAAQAAAQAAAAABAAAFAAAAAAEAAAIAAAAAAQAAAAAAAAABAAABAAAAAAEAAAUAAAAAAQAAAgAAAAABAAAAAAAAAAEAAAEAAAAAAQAAAwAAAAABAAABAAAAAAEAAAUAAAAAAQAAAgAAAAABAAAAAAAAAAEAAAEAAAAAAQAABQAAAAABAAACAAAAAAEAAAAAAAAAAQAAAQAAAAABAAAFAAAAAAEAAAIAAAAAAQAAAAAAAAABAAABAAAAAAEAAAQAAAAAAgAAAQAAAAABAAAFAAAAAAEAAAIAAAAAAQAAAAAAAAABAAABAAAAAAEAAAUAAAAAAQAAAgAAAAABAAAAAAAAAAEAAAEAAAAAAQAABAAAAAACAAABAAAAAAEAAAUAAAAAAQAAAgAAAAABAAAAAAAAAAEAAAEAAAAAAQAABQAAAAABAAACAAAAAAEAAAAAAAAAAQAAAQAAAAABAAAFAAAAAAEAAAIAAAAAAQAAAAAAAAABAAABAAAAAAEAAAUAAAAAAQAAAgAAAAABAAAAAAAAAAEAAAEAAAAAAQAABQAAAAABAAACAAAAAAEAAAAAAAAAAQAAAQAAAAABAAAFAAAAAAEAAAIAAAAAAQAAAAAAAAABAAABAAAAAAEAAAUAAAAAAQAAAgAAAAABAAAAAAAAAAEAAAEAAAAAAQAABQAAAAABAAACAAAAAAEAAAAAAAAAAQAAAQAAAAABAAAFAAAAAAEAAAIAAAAAAQAAAAAAAAABAAABAAAAAAEAAAUAAAAAAQAAAgAAAAABAAAAAAAAAAEAAAEAAAAAAQAABQAAAAABAAACAAAAAAEAAAAAAAAAAQAAAQAAAAABAAAFAAAAAAEAAAIAAAAAAQAAAAAAAAABAAABAAAAAAEAAAUAAAAAAQAAAgAAAAABAAAAAAAAAAEAAAEAAAAAAQAABQAAAAABAAACAAAAAAEAAAAAAAAAAQAAAQAAAAABAAAFAAAAAAEAAAIAAAAAAQAAAAAAAAABAAABAAAAAAEAAAUAAAAAAQAAAgAAAAABAAAAAAAAAAEAAAEAAAAAAQAABQAAAAABAAACAAAAAAEAAAAAAAAAAQAAAQAAAAABAAAFAAAAAAEAAAIAAAAAAQAAAAAAAAABAAABAAAAAAEAAAUAAAAAAQAAAgAAAAABAAAAAAAAAAEAAAEAAAAAAQAABQAAAAABAAACAAAAAAEAAAAAAAAAAQAAAQAAAAABAAAFAAAAAAEAAAIAAAAAAQAAAAAAAAABAAABAAAAAAEAAAUAAAAAAQAAAgAAAAABAAAAAAAAAAEAAAEAAAAAAQAABQAAAAABAAACAAAAAAEAAAAAAAAAAQAAAQAAAAABAAAFAAAAAAEAAAIAAAAAAQAAAAAAAAABAAABAAAAAAEAAAUAAAAAAQAAAgAAAAABAAAAAAAAAAEAAAEAAAAAAQAABQAAAAABAAACAAAAAAEAAAAAAAAAAQAAAQAAAAABAAAFAAAAAAEAAAIAAAAAAQAAAAAAAAABAAABAAAAAAEAAAUAAAAAAQAAAgAAAAABAAAAAAAAAAEAAAEAAAAAAQAABQAAAAABAAACAAAAAAEAAAAAAAAAAQAAAQAAAAABAAAFAAAAAAEAAAIAAAAAAQAAAAAAAAABAAABAAAAAAEAAAUAAAAAAQAAAgAAAAABAAAAAAAAAAEAAAEAAAAAAQAABQAAAAABAAACAAAAAAEAAAAAAAAAAQAAAQAAAAABAAAFAAAAAAEAAAIAAAAAAQAAAAAAAAABAAABAAAAAAEAAAUAAAAAAQAAAgAAAAABAAAAAAAAAAEAAAEAAAAAAQAABQAAAAABAAACAAAAAAEAAAAAAAAAAQAAAQAAAAABAAAFAAAAAAEAAAIAAAAAAQAAAAAAAAABAAABAAAAAAEAAAQAAAAAAgAAAQAAAAABAAADAAAAAAEAAAEAAAAAAQAABQAAAAABAAACAAAAAAEAAAAAAAAAAQAAAQAAAAABAAAFAAAAAAEAAAIAAAAAAQAAAAAAAAABAAABAAAAAAEAAAMAAAAAAQAAAQAAAAABAAAFAAAAAAEAAAIAAAAAAQAAAAAAAAABAAABAAAAAAEAAAUAAAAAAQAAAgAAAAABAAAAAAAAAAEAAAEAAAAAAQAABQAAAAABAAACAAAAAAEAAAAAAAAAAQAAAQAAAAABAAAFAAAAAAEAAAIAAAAAAQAAAAAAAAABAAABAAAAAAEAAAUAAAAAAQAAAgAAAAABAAAAAAAAAAEAAAEAAAAAAQAABAAAAAACAAABAAAAAAEAAAIAAAAAAQAABAAAAAACAAABAAAAAAEAAAIAAAAAAQAABQAAAAABAAACAAAAAAEAAAAAAAAAAQAAAQAAAAABAAAFAAAAAAEAAAIAAAAAAQAAAAAAAAABAAABAAAAAAEAAAUAAAAAAQAAAgAAAAABAAAAAAAAAAEAAAEAAAAAAQAABQAAAAABAAACAAAAAAEAAAAAAAAAAQAAAQAAAAABAAAFAAAAAAEAAAIAAAAAAQAAAAAAAAABAAABAAAAAAEAAAMAAAAAAQAAAQAAAAAcc3RzYwAAAAAAAAABAAAAAQAAAREAAAABAAAEWHN0c3oAAAAAAAAAAAAAAREAAAj3AAABOwAAAIoAAABqAAAAcwAAAPIAAACgAAAAXQAAAHQAAADdAAAAtwAAAIkAAABnAAABlgAAAMsAAAB2AAAAvgAAAYsAAAEIAAAAxQAAANsAAAFsAAAA6wAAAOEAAAFLAAABEAAAAOUAAADYAAABdAAAAPIAAADpAAAA4gAAATwAAADZAAAA3wAAAPsAAAE4AAABBwAAASAAAAEVAAABAAAAARgAAAFUAAABNgAAAP4AAADlAAABNAAAAQIAAACuAAAA+AAAASoAAAEgAAABDgAAAWQAAAD1AAAA3QAAANsAAAFhAAAA/QAAANkAAAEfAAABUQAAAPkAAADHAAABdAAAARAAAADwAAABBwAAARsAAAEXAAAAnAAAANQAAAFcAAABEwAAAOoAAAD2AAABOAAAAQIAAAC+AAAA0gAAAS8AAAD9AAAA3AAAATQAAAFMAAAA/QAAAPoAAAD9AAABTgAAAR0AAAEAAAAA6wAAAY8AAAEOAAABCAAAARcAAAEoAAAA9AAAAO4AAAECAAABNAAAANsAAAD7AAAAvwAAAVUAAAD3AAAA3gAAAOAAAAE2AAAA+AAAAOMAAADwAAABRAAAAQoAAAELAAAA+wAAAVoAAAEMAAAA+QAAAL8AAAFVAAABAwAAAMkAAADYAAABYQAAARQAAAC8AAAA2wAAAYUAAAEGAAABBwAAARsAAAFDAAABDAAAAQoAAAEAAAABHwAAANYAAAEQAAAA3AAAASgAAADUAAAArwAAAOMAAAEJAAABCgAAAOUAAADhAAABKQAAAOcAAADlAAAAzgAAAUIAAAEaAAAAygAAAOAAAAGHAAABEAAAAPcAAADgAAABUwAAAQMAAADWAAAA4QAAAXYAAAEbAAAA2QAAAOcAAAFmAAABIQAAAN0AAADsAAABYAAAARgAAADWAAAA/QAAAX8AAAEFAAAAygAAAPAAAAFqAAABEgAAAN8AAADvAAABrgAAAQAAAAD5AAAA6gAAAdkAAAEHAAAAugAAAMcAAAISAAABYQAAAK0AAAC0AAACUQAAATkAAADdAAAA0wAAAZ0AAAD1AAAA1wAAALIAAAFAAAAAzwAAAJ8AAACRAAABOgAAAJgAAACUAAABLwAAAIoAAAEcAAAAyAAAAGsAAACPAAABJwAAAJYAAACqAAAArQAAAPMAAACcAAABJAAAAKwAAACTAAAApAAAAS8AAAC7AAAAnAAAAI8AAAEpAAAAsQAAAI8AAACTAAABUwAAAJkAAACkAAAAfgAAAUIAAACrAAAAnQAAAJYAAADzAAAAngAAAI4AAADNAAAAcQAAAJgAAACFAAAI8AAAAOEAAAB/AAAAcQAAAGUAAACxAAAAkgAAAHMAAAB7AAAAlAAAAJQAAACFAAAAhwAAAKYAAACcAAAAdAAAAGkAAACnAAAAZAAAAIEAAABvAAAAmAAAAGMAAAAUc3RjbwAAAAAAAAABAAAAMAAAAGJ1ZHRhAAAAWm1ldGEAAAAAAAAAIWhkbHIAAAAAAAAAAG1kaXJhcHBsAAAAAAAAAAAAAAAALWlsc3QAAAAlqXRvbwAAAB1kYXRhAAAAAQAAAABMYXZmNTguMjkuMTAw\" controls autoplay width=\"500\" height=\"auto\" />"
      ],
      "text/plain": [
       "<IPython.core.display.HTML object>"
      ]
     },
     "execution_count": 257,
     "metadata": {},
     "output_type": "execute_result"
    }
   ],
   "source": [
    "hp = hw4.answers.part1_pg_hyperparams()\n",
    "p_net_cpg = hw4pg.PolicyNet.build_for_env(env, **hp)\n",
    "p_net_cpg.load_state_dict(results['cpg']['model_state'])\n",
    "\n",
    "env, n_steps, reward = hw4pg.PolicyAgent.monitor_episode(ENV_NAME, p_net_cpg)\n",
    "print(f'{n_steps} steps, total reward: {reward:.2f}')\n",
    "show_monitor_video(env, -1)"
   ]
  },
  {
   "cell_type": "markdown",
   "metadata": {},
   "source": [
    "## Advantage Actor-Critic (AAC)\n",
    "<a id=part1_2></a>"
   ]
  },
  {
   "cell_type": "markdown",
   "metadata": {},
   "source": [
    "We have seen that the policy-gradient loss can be interpreted as a log-likelihood of the policy term\n",
    "(selecting a specific action at a specific state), weighted by the future rewards of that choice of action.\n",
    "\n",
    "However, naïvely weighting by rewards has significant drawbacks in terms of the variance of the resulting gradient.\n",
    "We addressed this by adding a simple baseline term which represented our \"expected reward\" so that we increase probability of actions\n",
    "leading to trajectories which exceed this expectation and vice-versa.\n",
    "\n",
    "In this part we'll explore a more powerful baseline, which is the idea behind the AAC method."
   ]
  },
  {
   "cell_type": "markdown",
   "metadata": {},
   "source": [
    "### The advantage function"
   ]
  },
  {
   "cell_type": "markdown",
   "metadata": {},
   "source": [
    "Recall the definition of the state-value function $v_{\\pi}(s)$ and action-value function $q_{\\pi}(s,a)$:\n",
    "\n",
    "$$\n",
    "\\begin{align}\n",
    "v_{\\pi}(s) &= \\E{g(\\tau)|s_0 = s,\\pi} \\\\\n",
    "q_{\\pi}(s,a) &= \\E{g(\\tau)|s_0 = s,a_0=a,\\pi}.\n",
    "\\end{align}\n",
    "$$\n",
    "\n",
    "Both these functions represent the value of the state $s$. However, $v_\\pi$ averages over the first action according to the policy,\n",
    "while $q_\\pi$ fixes the first action and then continues according to the policy."
   ]
  },
  {
   "cell_type": "markdown",
   "metadata": {},
   "source": [
    "Their difference is known as the **advantage function**:\n",
    "$$\n",
    "a_\\pi(s,a) = q_\\pi(s,a)-v_\\pi(s).\n",
    "$$\n",
    "\n",
    "If $a_\\pi(s,a)>0$ it means that it's better (in expectation) to take action $a$ in state $s$ compared to the average action.\n",
    "In other words, $a_\\pi(s,a)$ represents the *advantage* of using action $a$ in state $s$ compared to the others."
   ]
  },
  {
   "cell_type": "markdown",
   "metadata": {},
   "source": [
    "So far we have used an estimate for $q_\\pi$ as our weighting term for the log-policy, with a fixed baseline per batch.\n",
    "\n",
    "$$\n",
    "\\hat\\grad\\mathcal{L}_{\\text{BPG}}(\\vec{\\theta})\n",
    "=-\\frac{1}{N}\\sum_{i=1}^{N}\\sum_{t\\geq0} \\left(\\hat{q}_{i,t}-b\\right) \\grad\\log \\pi_{\\vec{\\theta}}(a_{i,t}|s_{i,t}).\n",
    "$$\n"
   ]
  },
  {
   "cell_type": "markdown",
   "metadata": {},
   "source": [
    "Now, we will use the state value as a baseline, so that an estimate of the advantage function is our weighting term:\n",
    "\n",
    "$$\n",
    "\\hat\\grad\\mathcal{L}_{\\text{AAC}}(\\vec{\\theta})\n",
    "=-\\frac{1}{N}\\sum_{i=1}^{N}\\sum_{t\\geq0} \\left(\\hat{q}_{i,t}-v_\\pi(s_t)\\right) \\grad\\log \\pi_{\\vec{\\theta}}(a_{i,t}|s_{i,t}).\n",
    "$$\n",
    "\n",
    "Intuitively, using the advantage function makes sense because it means we're weighting our policy's actions according to\n",
    "how advantageous they are compared to other possible actions."
   ]
  },
  {
   "cell_type": "markdown",
   "metadata": {},
   "source": [
    "But how will we know $v_\\pi(s)$? We'll learn it of course, using another neural network.\n",
    "This is known as actor-critic learning. We simultaneously learn the policy (actor) and the value of states (critic).\n",
    "We'll treat it as a regression task: given a state $s_t$, our state-value network will output $\\hat{v}_\\pi(s_t)$,\n",
    "an estimate of the actual unknown state-value.\n",
    "Our regression targets will be the discounted rewards, $\\hat{q}_{i,t}$ (see question 2),\n",
    "and we can use a simple MSE as the loss function,\n",
    "$$\n",
    "\\mathcal{L}_{\\text{SV}} = \\frac{1}{N}\\sum_{i=1}^{N}\\sum_{t\\geq0}\\left(\\hat{v}_\\pi(s_t) - \\hat{q}_{i,t}\\right)^2.\n",
    "$$\n"
   ]
  },
  {
   "cell_type": "markdown",
   "metadata": {},
   "source": [
    "### Implementation"
   ]
  },
  {
   "cell_type": "markdown",
   "metadata": {},
   "source": [
    "We'll build heavily on our implementation of the regular policy-gradient method, and just add a new model class and a new loss class, with a small modification to the agent."
   ]
  },
  {
   "cell_type": "markdown",
   "metadata": {},
   "source": [
    "Let's start with the model. It will accept a state, and return action scores (as before), but also the value of that state.\n",
    "You can experiment with a dual-head network that has a shared base, or implement two separate parts within the network.\n",
    "\n",
    "**TODO**:\n",
    "1. Implement the model as the `AACPolicyNet` class in the `hw4/rl_ac.py` module.\n",
    "1. Set the hyperparameters in the `part1_aac_hyperparams()` function of the `hw4.answers` module."
   ]
  },
  {
   "cell_type": "code",
   "execution_count": 259,
   "metadata": {
    "pycharm": {
     "is_executing": false
    }
   },
   "outputs": [
    {
     "data": {
      "text/plain": [
       "AACPolicyNet(\n",
       "  (our_net): Sequential(\n",
       "    (0): Linear(in_features=8, out_features=128, bias=True)\n",
       "    (1): ReLU()\n",
       "    (2): Linear(in_features=128, out_features=64, bias=True)\n",
       "    (3): ReLU()\n",
       "    (4): Linear(in_features=64, out_features=5, bias=True)\n",
       "  )\n",
       ")"
      ]
     },
     "execution_count": 259,
     "metadata": {},
     "output_type": "execute_result"
    }
   ],
   "source": [
    "import hw4.rl_ac as hw4ac\n",
    "\n",
    "hp = hw4.answers.part1_aac_hyperparams()\n",
    "pv_net = hw4ac.AACPolicyNet.build_for_env(env, device, **hp)\n",
    "pv_net"
   ]
  },
  {
   "cell_type": "markdown",
   "metadata": {},
   "source": [
    "**TODO**: Complete the implementation of the agent class, `AACPolicyAgent`, in the `hw4/rl_ac.py` module."
   ]
  },
  {
   "cell_type": "code",
   "execution_count": 97,
   "metadata": {
    "pycharm": {
     "is_executing": false
    }
   },
   "outputs": [
    {
     "name": "stdout",
     "text": [
      "Experience(state=array([ 0.01419554,  1.429455  ,  0.71793073,  0.3989839 , -0.01626421,\n",
      "       -0.16094501,  0.        ,  0.        ], dtype=float32), action=0, reward=-0.34453469109735124, is_done=False)\n"
     ],
     "output_type": "stream"
    }
   ],
   "source": [
    "agent = hw4ac.AACPolicyAgent(env, pv_net, device)\n",
    "exp = agent.step()\n",
    "\n",
    "test.assertIsInstance(exp, hw4pg.Experience)\n",
    "print(exp)"
   ]
  },
  {
   "cell_type": "markdown",
   "metadata": {},
   "source": [
    "**TODO**: Implement the AAC loss function as the class `AACPolicyGradientLoss` in the `hw4/rl_ac.py` module."
   ]
  },
  {
   "cell_type": "code",
   "execution_count": 98,
   "metadata": {
    "pycharm": {
     "is_executing": false
    }
   },
   "outputs": [
    {
     "traceback": [
      "\u001b[1;31m---------------------------------------------------------------------------\u001b[0m",
      "\u001b[1;31mKeyboardInterrupt\u001b[0m                         Traceback (most recent call last)",
      "\u001b[1;32m<ipython-input-98-7d292077bbeb>\u001b[0m in \u001b[0;36m<module>\u001b[1;34m\u001b[0m\n\u001b[0;32m      2\u001b[0m \u001b[0mloss_fn_aac\u001b[0m \u001b[1;33m=\u001b[0m \u001b[0mhw4ac\u001b[0m\u001b[1;33m.\u001b[0m\u001b[0mAACPolicyGradientLoss\u001b[0m\u001b[1;33m(\u001b[0m\u001b[0mdelta\u001b[0m\u001b[1;33m=\u001b[0m\u001b[1;36m1.\u001b[0m\u001b[1;33m)\u001b[0m\u001b[1;33m\u001b[0m\u001b[1;33m\u001b[0m\u001b[0m\n\u001b[0;32m      3\u001b[0m \u001b[0mtest_state_values\u001b[0m \u001b[1;33m=\u001b[0m \u001b[0mtorch\u001b[0m\u001b[1;33m.\u001b[0m\u001b[0mones\u001b[0m\u001b[1;33m(\u001b[0m\u001b[0mtest_action_scores\u001b[0m\u001b[1;33m.\u001b[0m\u001b[0mshape\u001b[0m\u001b[1;33m[\u001b[0m\u001b[1;36m0\u001b[0m\u001b[1;33m]\u001b[0m\u001b[1;33m,\u001b[0m \u001b[1;36m1\u001b[0m\u001b[1;33m)\u001b[0m\u001b[1;33m\u001b[0m\u001b[1;33m\u001b[0m\u001b[0m\n\u001b[1;32m----> 4\u001b[1;33m \u001b[0mloss_t\u001b[0m\u001b[1;33m,\u001b[0m \u001b[0m_\u001b[0m \u001b[1;33m=\u001b[0m \u001b[0mloss_fn_aac\u001b[0m\u001b[1;33m(\u001b[0m\u001b[0mtest_batch\u001b[0m\u001b[1;33m,\u001b[0m \u001b[1;33m(\u001b[0m\u001b[0mtest_action_scores\u001b[0m\u001b[1;33m,\u001b[0m \u001b[0mtest_state_values\u001b[0m\u001b[1;33m)\u001b[0m\u001b[1;33m)\u001b[0m\u001b[1;33m\u001b[0m\u001b[1;33m\u001b[0m\u001b[0m\n\u001b[0m\u001b[0;32m      5\u001b[0m \u001b[1;33m\u001b[0m\u001b[0m\n\u001b[0;32m      6\u001b[0m \u001b[0mprint\u001b[0m\u001b[1;33m(\u001b[0m\u001b[1;34m'loss_t ='\u001b[0m\u001b[1;33m,\u001b[0m \u001b[0mloss_t\u001b[0m\u001b[1;33m)\u001b[0m\u001b[1;33m\u001b[0m\u001b[1;33m\u001b[0m\u001b[0m\n",
      "\u001b[1;32m~\\Anaconda3\\envs\\cs236781-hw\\lib\\site-packages\\torch\\nn\\modules\\module.py\u001b[0m in \u001b[0;36m__call__\u001b[1;34m(self, *input, **kwargs)\u001b[0m\n\u001b[0;32m    539\u001b[0m             \u001b[0mresult\u001b[0m \u001b[1;33m=\u001b[0m \u001b[0mself\u001b[0m\u001b[1;33m.\u001b[0m\u001b[0m_slow_forward\u001b[0m\u001b[1;33m(\u001b[0m\u001b[1;33m*\u001b[0m\u001b[0minput\u001b[0m\u001b[1;33m,\u001b[0m \u001b[1;33m**\u001b[0m\u001b[0mkwargs\u001b[0m\u001b[1;33m)\u001b[0m\u001b[1;33m\u001b[0m\u001b[1;33m\u001b[0m\u001b[0m\n\u001b[0;32m    540\u001b[0m         \u001b[1;32melse\u001b[0m\u001b[1;33m:\u001b[0m\u001b[1;33m\u001b[0m\u001b[1;33m\u001b[0m\u001b[0m\n\u001b[1;32m--> 541\u001b[1;33m             \u001b[0mresult\u001b[0m \u001b[1;33m=\u001b[0m \u001b[0mself\u001b[0m\u001b[1;33m.\u001b[0m\u001b[0mforward\u001b[0m\u001b[1;33m(\u001b[0m\u001b[1;33m*\u001b[0m\u001b[0minput\u001b[0m\u001b[1;33m,\u001b[0m \u001b[1;33m**\u001b[0m\u001b[0mkwargs\u001b[0m\u001b[1;33m)\u001b[0m\u001b[1;33m\u001b[0m\u001b[1;33m\u001b[0m\u001b[0m\n\u001b[0m\u001b[0;32m    542\u001b[0m         \u001b[1;32mfor\u001b[0m \u001b[0mhook\u001b[0m \u001b[1;32min\u001b[0m \u001b[0mself\u001b[0m\u001b[1;33m.\u001b[0m\u001b[0m_forward_hooks\u001b[0m\u001b[1;33m.\u001b[0m\u001b[0mvalues\u001b[0m\u001b[1;33m(\u001b[0m\u001b[1;33m)\u001b[0m\u001b[1;33m:\u001b[0m\u001b[1;33m\u001b[0m\u001b[1;33m\u001b[0m\u001b[0m\n\u001b[0;32m    543\u001b[0m             \u001b[0mhook_result\u001b[0m \u001b[1;33m=\u001b[0m \u001b[0mhook\u001b[0m\u001b[1;33m(\u001b[0m\u001b[0mself\u001b[0m\u001b[1;33m,\u001b[0m \u001b[0minput\u001b[0m\u001b[1;33m,\u001b[0m \u001b[0mresult\u001b[0m\u001b[1;33m)\u001b[0m\u001b[1;33m\u001b[0m\u001b[1;33m\u001b[0m\u001b[0m\n",
      "\u001b[1;32m~\\OneDrive - Technion\\Semester H\\DL\\hw4\\hw4\\rl_ac.py\u001b[0m in \u001b[0;36mforward\u001b[1;34m(self, batch, model_output, **kw)\u001b[0m\n\u001b[0;32m    101\u001b[0m         \u001b[1;31m# ========================\u001b[0m\u001b[1;33m\u001b[0m\u001b[1;33m\u001b[0m\u001b[1;33m\u001b[0m\u001b[0m\n\u001b[0;32m    102\u001b[0m \u001b[1;33m\u001b[0m\u001b[0m\n\u001b[1;32m--> 103\u001b[1;33m         \u001b[0mloss_v\u001b[0m \u001b[1;33m*=\u001b[0m \u001b[0mself\u001b[0m\u001b[1;33m.\u001b[0m\u001b[0mdelta\u001b[0m\u001b[1;33m\u001b[0m\u001b[1;33m\u001b[0m\u001b[0m\n\u001b[0m\u001b[0;32m    104\u001b[0m         \u001b[0mloss_t\u001b[0m \u001b[1;33m=\u001b[0m \u001b[0mloss_p\u001b[0m \u001b[1;33m+\u001b[0m \u001b[0mloss_v\u001b[0m\u001b[1;33m\u001b[0m\u001b[1;33m\u001b[0m\u001b[0m\n\u001b[0;32m    105\u001b[0m         return loss_t, dict(loss_p=loss_p.item(), loss_v=loss_v.item(),\n",
      "\u001b[1;32m~\\OneDrive - Technion\\Semester H\\DL\\hw4\\hw4\\rl_ac.py\u001b[0m in \u001b[0;36mforward\u001b[1;34m(self, batch, model_output, **kw)\u001b[0m\n\u001b[0;32m    101\u001b[0m         \u001b[1;31m# ========================\u001b[0m\u001b[1;33m\u001b[0m\u001b[1;33m\u001b[0m\u001b[1;33m\u001b[0m\u001b[0m\n\u001b[0;32m    102\u001b[0m \u001b[1;33m\u001b[0m\u001b[0m\n\u001b[1;32m--> 103\u001b[1;33m         \u001b[0mloss_v\u001b[0m \u001b[1;33m*=\u001b[0m \u001b[0mself\u001b[0m\u001b[1;33m.\u001b[0m\u001b[0mdelta\u001b[0m\u001b[1;33m\u001b[0m\u001b[1;33m\u001b[0m\u001b[0m\n\u001b[0m\u001b[0;32m    104\u001b[0m         \u001b[0mloss_t\u001b[0m \u001b[1;33m=\u001b[0m \u001b[0mloss_p\u001b[0m \u001b[1;33m+\u001b[0m \u001b[0mloss_v\u001b[0m\u001b[1;33m\u001b[0m\u001b[1;33m\u001b[0m\u001b[0m\n\u001b[0;32m    105\u001b[0m         return loss_t, dict(loss_p=loss_p.item(), loss_v=loss_v.item(),\n",
      "\u001b[1;32m_pydevd_bundle\\pydevd_cython_win32_37_64.pyx\u001b[0m in \u001b[0;36m_pydevd_bundle.pydevd_cython_win32_37_64.SafeCallWrapper.__call__\u001b[1;34m()\u001b[0m\n",
      "\u001b[1;32m_pydevd_bundle\\pydevd_cython_win32_37_64.pyx\u001b[0m in \u001b[0;36m_pydevd_bundle.pydevd_cython_win32_37_64.PyDBFrame.trace_dispatch\u001b[1;34m()\u001b[0m\n",
      "\u001b[1;32m_pydevd_bundle\\pydevd_cython_win32_37_64.pyx\u001b[0m in \u001b[0;36m_pydevd_bundle.pydevd_cython_win32_37_64.PyDBFrame.trace_dispatch\u001b[1;34m()\u001b[0m\n",
      "\u001b[1;32m_pydevd_bundle\\pydevd_cython_win32_37_64.pyx\u001b[0m in \u001b[0;36m_pydevd_bundle.pydevd_cython_win32_37_64.PyDBFrame.trace_dispatch\u001b[1;34m()\u001b[0m\n",
      "\u001b[1;32m_pydevd_bundle\\pydevd_cython_win32_37_64.pyx\u001b[0m in \u001b[0;36m_pydevd_bundle.pydevd_cython_win32_37_64.PyDBFrame.do_wait_suspend\u001b[1;34m()\u001b[0m\n",
      "\u001b[1;32mC:\\Program Files\\JetBrains\\PyCharm Professional Edition with Anaconda plugin 2019.3.1\\plugins\\python\\helpers\\pydev\\pydevd.py\u001b[0m in \u001b[0;36mdo_wait_suspend\u001b[1;34m(self, thread, frame, event, arg, send_suspend_message, is_unhandled_exception)\u001b[0m\n\u001b[0;32m   1097\u001b[0m \u001b[1;33m\u001b[0m\u001b[0m\n\u001b[0;32m   1098\u001b[0m         \u001b[1;32mwith\u001b[0m \u001b[0mself\u001b[0m\u001b[1;33m.\u001b[0m\u001b[0m_threads_suspended_single_notification\u001b[0m\u001b[1;33m.\u001b[0m\u001b[0mnotify_thread_suspended\u001b[0m\u001b[1;33m(\u001b[0m\u001b[0mthread_id\u001b[0m\u001b[1;33m,\u001b[0m \u001b[0mstop_reason\u001b[0m\u001b[1;33m)\u001b[0m\u001b[1;33m:\u001b[0m\u001b[1;33m\u001b[0m\u001b[1;33m\u001b[0m\u001b[0m\n\u001b[1;32m-> 1099\u001b[1;33m             \u001b[0mself\u001b[0m\u001b[1;33m.\u001b[0m\u001b[0m_do_wait_suspend\u001b[0m\u001b[1;33m(\u001b[0m\u001b[0mthread\u001b[0m\u001b[1;33m,\u001b[0m \u001b[0mframe\u001b[0m\u001b[1;33m,\u001b[0m \u001b[0mevent\u001b[0m\u001b[1;33m,\u001b[0m \u001b[0marg\u001b[0m\u001b[1;33m,\u001b[0m \u001b[0msuspend_type\u001b[0m\u001b[1;33m,\u001b[0m \u001b[0mfrom_this_thread\u001b[0m\u001b[1;33m)\u001b[0m\u001b[1;33m\u001b[0m\u001b[1;33m\u001b[0m\u001b[0m\n\u001b[0m\u001b[0;32m   1100\u001b[0m \u001b[1;33m\u001b[0m\u001b[0m\n\u001b[0;32m   1101\u001b[0m     \u001b[1;32mdef\u001b[0m \u001b[0m_do_wait_suspend\u001b[0m\u001b[1;33m(\u001b[0m\u001b[0mself\u001b[0m\u001b[1;33m,\u001b[0m \u001b[0mthread\u001b[0m\u001b[1;33m,\u001b[0m \u001b[0mframe\u001b[0m\u001b[1;33m,\u001b[0m \u001b[0mevent\u001b[0m\u001b[1;33m,\u001b[0m \u001b[0marg\u001b[0m\u001b[1;33m,\u001b[0m \u001b[0msuspend_type\u001b[0m\u001b[1;33m,\u001b[0m \u001b[0mfrom_this_thread\u001b[0m\u001b[1;33m)\u001b[0m\u001b[1;33m:\u001b[0m\u001b[1;33m\u001b[0m\u001b[1;33m\u001b[0m\u001b[0m\n",
      "\u001b[1;32mC:\\Program Files\\JetBrains\\PyCharm Professional Edition with Anaconda plugin 2019.3.1\\plugins\\python\\helpers\\pydev\\pydevd.py\u001b[0m in \u001b[0;36m_do_wait_suspend\u001b[1;34m(self, thread, frame, event, arg, suspend_type, from_this_thread)\u001b[0m\n\u001b[0;32m   1112\u001b[0m \u001b[1;33m\u001b[0m\u001b[0m\n\u001b[0;32m   1113\u001b[0m                 \u001b[0mself\u001b[0m\u001b[1;33m.\u001b[0m\u001b[0mprocess_internal_commands\u001b[0m\u001b[1;33m(\u001b[0m\u001b[1;33m)\u001b[0m\u001b[1;33m\u001b[0m\u001b[1;33m\u001b[0m\u001b[0m\n\u001b[1;32m-> 1114\u001b[1;33m                 \u001b[0mtime\u001b[0m\u001b[1;33m.\u001b[0m\u001b[0msleep\u001b[0m\u001b[1;33m(\u001b[0m\u001b[1;36m0.01\u001b[0m\u001b[1;33m)\u001b[0m\u001b[1;33m\u001b[0m\u001b[1;33m\u001b[0m\u001b[0m\n\u001b[0m\u001b[0;32m   1115\u001b[0m \u001b[1;33m\u001b[0m\u001b[0m\n\u001b[0;32m   1116\u001b[0m         \u001b[0mself\u001b[0m\u001b[1;33m.\u001b[0m\u001b[0mcancel_async_evaluation\u001b[0m\u001b[1;33m(\u001b[0m\u001b[0mget_current_thread_id\u001b[0m\u001b[1;33m(\u001b[0m\u001b[0mthread\u001b[0m\u001b[1;33m)\u001b[0m\u001b[1;33m,\u001b[0m \u001b[0mstr\u001b[0m\u001b[1;33m(\u001b[0m\u001b[0mid\u001b[0m\u001b[1;33m(\u001b[0m\u001b[0mframe\u001b[0m\u001b[1;33m)\u001b[0m\u001b[1;33m)\u001b[0m\u001b[1;33m)\u001b[0m\u001b[1;33m\u001b[0m\u001b[1;33m\u001b[0m\u001b[0m\n",
      "\u001b[1;31mKeyboardInterrupt\u001b[0m: "
     ],
     "ename": "KeyboardInterrupt",
     "evalue": "",
     "output_type": "error"
    }
   ],
   "source": [
    "loss_fn_aac = hw4ac.AACPolicyGradientLoss(delta=1.)\n",
    "test_state_values = torch.ones(test_action_scores.shape[0], 1)\n",
    "loss_t, _ = loss_fn_aac(test_batch, (test_action_scores, test_state_values))\n",
    "\n",
    "print('loss_t =', loss_t)\n",
    "test.assertAlmostEqual(loss_t.item(), 975.230895, delta=1e-3)"
   ]
  },
  {
   "cell_type": "markdown",
   "metadata": {},
   "source": [
    "### Experimentation"
   ]
  },
  {
   "cell_type": "markdown",
   "metadata": {},
   "source": [
    "Let's run the same experiment as before, but with the AAC method and compare the results."
   ]
  },
  {
   "cell_type": "code",
   "execution_count": null,
   "metadata": {
    "pycharm": {
     "is_executing": false
    }
   },
   "outputs": [],
   "source": [
    "def train_aac(baseline=False, entropy=False, **train_kwargs):\n",
    "    hp = hw4.answers.part1_aac_hyperparams()\n",
    "    loss_fns = [hw4ac.AACPolicyGradientLoss(hp['delta']), hw4pg.ActionEntropyLoss(ENV_N_ACTIONS, hp['beta'])]\n",
    "    return train_rl(hw4ac.AACPolicyAgent, hw4ac.AACPolicyNet, loss_fns, hp, **train_kwargs)"
   ]
  },
  {
   "cell_type": "code",
   "execution_count": null,
   "metadata": {
    "pycharm": {
     "is_executing": false
    }
   },
   "outputs": [],
   "source": [
    "training_data_filename = os.path.join('results', f'part1_exp_aac.dat')\n",
    "\n",
    "# Set to True to force re-run (careful, will delete old experiment results)\n",
    "force_run = False\n",
    "\n",
    "if os.path.isfile(training_data_filename) and not force_run:\n",
    "    print(f'=== results file {training_data_filename} exists, skipping experiments.')\n",
    "    results_aac = load_training_data(training_data_filename)\n",
    "    \n",
    "else:\n",
    "    print(f'=== Running AAC experiment')\n",
    "    training_data = train_aac(max_episodes=exp_max_episodes)\n",
    "    results_aac = dict(aac=training_data)\n",
    "    dump_training_data(results_aac, training_data_filename)"
   ]
  },
  {
   "cell_type": "code",
   "execution_count": null,
   "metadata": {
    "pycharm": {
     "is_executing": false
    }
   },
   "outputs": [],
   "source": [
    "experiments_results_fig = plot_experiment_results(results)\n",
    "plot_experiment_results(results_aac, fig=experiments_results_fig);"
   ]
  },
  {
   "cell_type": "markdown",
   "metadata": {},
   "source": [
    "You should get better results with the AAC method, so this time the bar is higher (again, you should aim for a mean reward of 100+).\n",
    "Compare the graphs with combined PG method and see if they make sense."
   ]
  },
  {
   "cell_type": "code",
   "execution_count": null,
   "metadata": {
    "pycharm": {
     "is_executing": false
    }
   },
   "outputs": [],
   "source": [
    "best_aac_mean_reward = max(results_aac['aac']['mean_reward'])\n",
    "print(f'Best AAC mean reward: {best_aac_mean_reward:.2f}')\n",
    "\n",
    "test.assertGreater(best_aac_mean_reward, 50)"
   ]
  },
  {
   "cell_type": "markdown",
   "metadata": {},
   "source": [
    "### Final model training and visualization"
   ]
  },
  {
   "cell_type": "markdown",
   "metadata": {},
   "source": [
    "Now, using your best model and hyperparams, let's train model for much longer and see the performance.\n",
    "Just for fun, we'll also visualize an episode every now and then so that we can see how well the agent is playing."
   ]
  },
  {
   "cell_type": "markdown",
   "metadata": {},
   "source": [
    "**TODO**:\n",
    "- Run the following block to train.\n",
    "- Tweak model or hyperparams as necessary.\n",
    "- Aim for high mean reward, at least 150+. It's possible to get over 200.\n",
    "- When training is done and you're satisfied with the model's outputs, rename the checkpoint file by adding `_final` to the file name.\n",
    "  This will cause the block to skip training and instead load your saved model when running the homework submission script.\n",
    "  Note that your submission zip file will not include the checkpoint file. This is OK."
   ]
  },
  {
   "cell_type": "code",
   "execution_count": null,
   "metadata": {
    "pycharm": {
     "is_executing": false
    }
   },
   "outputs": [],
   "source": [
    "import IPython.display\n",
    "\n",
    "CHECKPOINTS_FILE = f'checkpoints/{ENV_NAME}-ac.dat'\n",
    "CHECKPOINTS_FILE_FINAL = f'checkpoints/{ENV_NAME}-ac_final.dat'\n",
    "TARGET_REWARD = 125\n",
    "MAX_EPISODES = 15_000\n",
    "\n",
    "def post_batch_fn(batch_idx, p_net, batch, print_every=20, final=False):\n",
    "    if not final and batch_idx % print_every != 0:\n",
    "        return\n",
    "    env, n_steps, reward = hw4ac.AACPolicyAgent.monitor_episode(ENV_NAME, p_net)\n",
    "    html = show_monitor_video(env, width=\"500\")\n",
    "    IPython.display.clear_output(wait=True)\n",
    "    print(f'Monitor@#{batch_idx}: n_steps={n_steps}, total_reward={reward:.3f}, final={final}')\n",
    "    IPython.display.display_html(html)\n",
    "    \n",
    "    \n",
    "if os.path.isfile(CHECKPOINTS_FILE_FINAL):\n",
    "    print(f'=== {CHECKPOINTS_FILE_FINAL} exists, skipping training...')\n",
    "    checkpoint_data = torch.load(CHECKPOINTS_FILE_FINAL)\n",
    "    hp = hw4.answers.part1_aac_hyperparams()\n",
    "    pv_net = hw4ac.AACPolicyNet.build_for_env(env, **hp)\n",
    "    pv_net.load_state_dict(checkpoint_data['params'])\n",
    "    print(f'=== Running best model...')\n",
    "    env, n_steps, reward = hw4ac.AACPolicyAgent.monitor_episode(ENV_NAME, pv_net)\n",
    "    print(f'=== Best model ran for {n_steps} steps. Total reward: {reward:.2f}')\n",
    "    IPython.display.display_html(show_monitor_video(env))\n",
    "    best_mean_reward = checkpoint_data[\"best_mean_reward\"]\n",
    "else:\n",
    "    print(f'=== Starting training...')\n",
    "    train_data = train_aac(TARGET_REWARD, max_episodes=MAX_EPISODES,\n",
    "                           seed=None, checkpoints_file=CHECKPOINTS_FILE, post_batch_fn=post_batch_fn)\n",
    "    print(f'=== Done, ', end='')\n",
    "    best_mean_reward = train_data[\"best_mean_reward\"][-1]\n",
    "    print(f'num_episodes={train_data[\"episode_num\"][-1]}, best_mean_reward={best_mean_reward:.1f}')\n",
    "          \n",
    "test.assertGreaterEqual(best_mean_reward, TARGET_REWARD)"
   ]
  },
  {
   "cell_type": "markdown",
   "metadata": {},
   "source": [
    "## Questions\n",
    "<a id=part1_3></a>"
   ]
  },
  {
   "cell_type": "markdown",
   "metadata": {},
   "source": [
    "**TODO**: Answer the following questions. Write your answers in the appropriate variables in the module `hw4/answers.py`."
   ]
  },
  {
   "cell_type": "code",
   "execution_count": null,
   "metadata": {
    "pycharm": {
     "is_executing": false
    }
   },
   "outputs": [],
   "source": [
    "from cs236781.answers import display_answer\n",
    "import hw4.answers"
   ]
  },
  {
   "cell_type": "markdown",
   "metadata": {},
   "source": [
    "### Question 1\n",
    "\n",
    "Explain qualitatively why subtracting a baseline in the policy-gradient helps reduce it's variance.\n",
    "Specifically, give an example where it helps."
   ]
  },
  {
   "cell_type": "code",
   "execution_count": null,
   "metadata": {
    "pycharm": {
     "is_executing": false
    }
   },
   "outputs": [],
   "source": [
    "display_answer(hw4.answers.part1_q1)"
   ]
  },
  {
   "cell_type": "markdown",
   "metadata": {},
   "source": [
    "### Question 2\n",
    "\n",
    "In AAC, when using the estimated q-values as regression targets for our state-values, why do we get a valid approximation?\n",
    "Hint: how is $v_\\pi(s)$ expressed in terms of $q_\\pi(s,a)$?"
   ]
  },
  {
   "cell_type": "code",
   "execution_count": null,
   "metadata": {
    "pycharm": {
     "is_executing": false
    }
   },
   "outputs": [],
   "source": [
    "display_answer(hw4.answers.part1_q2)"
   ]
  },
  {
   "cell_type": "markdown",
   "metadata": {},
   "source": [
    "### Question 3\n",
    "\n",
    "1. Analyze and explain the graphs you got in first experiment run.\n",
    "2. Compare the experiment graphs you got with the AAC method to the regular PG method (`cpg`)."
   ]
  },
  {
   "cell_type": "code",
   "execution_count": null,
   "metadata": {
    "pycharm": {
     "is_executing": false
    }
   },
   "outputs": [],
   "source": [
    "display_answer(hw4.answers.part1_q3)"
   ]
  }
 ],
 "metadata": {
  "kernelspec": {
   "display_name": "Python 3",
   "language": "python",
   "name": "python3"
  },
  "language_info": {
   "codemirror_mode": {
    "name": "ipython",
    "version": 3
   },
   "file_extension": ".py",
   "mimetype": "text/x-python",
   "name": "python",
   "nbconvert_exporter": "python",
   "pygments_lexer": "ipython3",
   "version": "3.7.4"
  },
  "pycharm": {
   "stem_cell": {
    "cell_type": "raw",
    "metadata": {
     "collapsed": false
    },
    "source": []
   }
  }
 },
 "nbformat": 4,
 "nbformat_minor": 4
}