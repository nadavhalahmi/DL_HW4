{
 "cells": [
  {
   "cell_type": "markdown",
   "metadata": {},
   "source": [
    "$$\n",
    "\\newcommand{\\mat}[1]{\\boldsymbol {#1}}\n",
    "\\newcommand{\\mattr}[1]{\\boldsymbol {#1}^\\top}\n",
    "\\newcommand{\\matinv}[1]{\\boldsymbol {#1}^{-1}}\n",
    "\\newcommand{\\vec}[1]{\\boldsymbol {#1}}\n",
    "\\newcommand{\\vectr}[1]{\\boldsymbol {#1}^\\top}\n",
    "\\newcommand{\\rvar}[1]{\\mathrm {#1}}\n",
    "\\newcommand{\\rvec}[1]{\\boldsymbol{\\mathrm{#1}}}\n",
    "\\newcommand{\\diag}{\\mathop{\\mathrm {diag}}}\n",
    "\\newcommand{\\set}[1]{\\mathbb {#1}}\n",
    "\\newcommand{\\cset}[1]{\\mathcal{#1}}\n",
    "\\newcommand{\\norm}[1]{\\left\\lVert#1\\right\\rVert}\n",
    "\\newcommand{\\pderiv}[2]{\\frac{\\partial #1}{\\partial #2}}\n",
    "\\newcommand{\\bb}[1]{\\boldsymbol{#1}}\n",
    "\\newcommand{\\E}[2][]{\\mathbb{E}_{#1}\\left[#2\\right]}\n",
    "\\newcommand{\\ip}[3]{\\left<#1,#2\\right>_{#3}}\n",
    "\\newcommand{\\given}[]{\\,\\middle\\vert\\,}\n",
    "\\newcommand{\\DKL}[2]{\\cset{D}_{\\text{KL}}\\left(#1\\,\\Vert\\, #2\\right)}\n",
    "\\newcommand{\\grad}[]{\\nabla}\n",
    "$$\n",
    "# Part 1: Deep Reinforcement Learning\n",
    "<a id=part1></a>"
   ]
  },
  {
   "cell_type": "markdown",
   "metadata": {},
   "source": [
    "In the tutorial we have seen value-based reinforcement learning, in which we learn to approximate the action-value function $q(s,a)$.\n",
    "\n",
    "In this exercise we'll explore a different approach, directly learning the agent's policy distribution, $\\pi(a|s)$\n",
    "by using *policy gradients*, in order to safely land on the moon!"
   ]
  },
  {
   "cell_type": "code",
   "execution_count": 16,
   "metadata": {
    "pycharm": {
     "is_executing": false
    }
   },
   "outputs": [
    {
     "name": "stdout",
     "output_type": "stream",
     "text": [
      "The autoreload extension is already loaded. To reload it, use:\n",
      "  %reload_ext autoreload\n"
     ]
    }
   ],
   "source": [
    "%load_ext autoreload\n",
    "%autoreload 2\n",
    "%matplotlib inline\n",
    "\n",
    "import unittest\n",
    "import os\n",
    "import sys\n",
    "import pathlib\n",
    "import urllib\n",
    "import shutil\n",
    "import re\n",
    "\n",
    "import numpy as np\n",
    "import torch\n",
    "import torch.nn as nn\n",
    "import torch.optim as optim\n",
    "import matplotlib.pyplot as plt"
   ]
  },
  {
   "cell_type": "code",
   "execution_count": 17,
   "metadata": {
    "pycharm": {
     "is_executing": false
    }
   },
   "outputs": [
    {
     "name": "stdout",
     "output_type": "stream",
     "text": [
      "Using device: cpu\n"
     ]
    }
   ],
   "source": [
    "test = unittest.TestCase()\n",
    "plt.rcParams.update({'font.size': 12})\n",
    "device = torch.device('cuda' if torch.cuda.is_available() else 'cpu')\n",
    "\n",
    "# Prefer CPU, GPU won't help much in this assignment\n",
    "device = 'cpu'\n",
    "print('Using device:', device)\n",
    "\n",
    "# Seed for deterministic tests\n",
    "SEED = 42"
   ]
  },
  {
   "cell_type": "markdown",
   "metadata": {},
   "source": [
    "Some technical notes before we begin:\n",
    "\n",
    "- This part does not require a GPU. We won't need large models, and the computation bottleneck will be the generation of episodes to train on.\n",
    "- In order to run this notebook on the server, you must prepend the `xvfb-run` command to create a virtual screen. For example,\n",
    "    - to run the jupyter lab script with `srun` do\n",
    "        ```\n",
    "        srun -c2 --gres=gpu:1 xvfb-run -a -s \"-screen 0 1440x900x24\" ./jupyter-lab.sh\n",
    "        ```\n",
    "    - To run the submission script, do\n",
    "        ```\n",
    "        srun -c2 xvfb-run -a -s \"-screen 0 1440x900x24\" python main.py prepare-submission ...\n",
    "        ```\n",
    "    and so on.\n",
    "- The OpenAI `gym` library is not officially supported on windows. However it should be possible to install and run the necessary environment for this exercise. However, we cannot provide you with technical support for this. If you have trouble installing locally, we suggest running on the course server."
   ]
  },
  {
   "cell_type": "markdown",
   "metadata": {},
   "source": [
    "## Policy gradients\n",
    "<a id=part1_1></a>"
   ]
  },
  {
   "cell_type": "markdown",
   "metadata": {},
   "source": [
    "Recall from the tutorial that we define the **policy** of an agent as the conditional distribution,\n",
    "$$\n",
    "\\pi(a|s) = \\Pr(a_t=a\\vert s_t=s),\n",
    "$$\n",
    "which defines how likely the agent is to take action $a$ at state $s$.\n",
    "\n",
    "Furthermore we define the action-value function,\n",
    "$$\n",
    "q_{\\pi}(s,a) = \\E{g_t(\\tau)|s_t = s,a_t=a,\\pi}\n",
    "$$\n",
    "where \n",
    "$$\n",
    "g_t(\\tau) = r_{t+1}+\\gamma r_{t+2} + \\dots = \\sum_{k=0}^{\\infty} \\gamma^k r_{t+1+k},\n",
    "$$\n",
    "is the total discounted reward of a specific trajectory $\\tau$ from time $t$, and the expectation in $q$ is over all possible\n",
    "trajectories,\n",
    "$\n",
    "\\tau=\\left\\{ (s_0,a_0,r_1,s_1), \\dots (s_T,a_T,r_{T+1},s_{T+1}) \\right\\}.\n",
    "$"
   ]
  },
  {
   "cell_type": "markdown",
   "metadata": {},
   "source": [
    "In the tutorial we saw that we can learn a value function starting with some random function and\n",
    "updating it iteratively by using the **Bellman optimality equation**.\n",
    "Given that we have some action-value function, we can immediately create a policy based on that\n",
    "by simply selecting an action which maximize the action-value at the current state, i.e.\n",
    "$$\n",
    "\\pi(a|s) =\n",
    "\\begin{cases}\n",
    "1, & a = \\arg\\max_{a'\\in\\cset{A}} q(s,a') \\\\\n",
    "0, & \\text{else}\n",
    "\\end{cases}.\n",
    "$$\n",
    "This is called $q$-learning. This approach aims to obtain a policy indirectly through the action-value function.\n",
    "Yet, in most cases we don't actually care about knowing the value of particular states,\n",
    "since all we need is a good policy for our agent. \n",
    "\n",
    "Here we'll take a different approach and learn a policy distribution $\\pi(a|s)$ directly - by using **policy gradients**."
   ]
  },
  {
   "cell_type": "markdown",
   "metadata": {},
   "source": [
    "### Formalism"
   ]
  },
  {
   "cell_type": "markdown",
   "metadata": {},
   "source": [
    "We define a parametric policy, $\\pi_\\vec{\\theta}(a|s)$, and maximize total discounted reward (or minimize the negative reward):\n",
    "$$\n",
    "\\mathcal{L}(\\vec{\\theta})=\\E[\\tau]{-g(\\tau)|\\pi_\\vec{\\theta}} = -\\int g(\\tau)p(\\tau|\\vec{\\theta})d\\tau,\n",
    "$$\n",
    "where $p(\\tau|\\vec{\\theta})$ is the probability of a specific trajectory $\\tau$ under the policy defined by $\\vec{\\theta}$.\n"
   ]
  },
  {
   "cell_type": "markdown",
   "metadata": {},
   "source": [
    "Since we want to find the parameters $\\vec{\\theta}$ which minimize $\\mathcal{L}(\\vec{\\theta})$, we'll compute the gradient w.r.t. $\\vec{\\theta}$:\n",
    "$$\n",
    "\\grad\\mathcal{L}(\\vec{\\theta}) = -\\int g(\\tau)\\grad p(\\tau|\\vec{\\theta})d\\tau.\n",
    "$$\n",
    "\n",
    "Unfortunately, if we try to write $p(\\tau|\\vec{\\theta})$ explicitly,\n",
    "we find that computing it's gradient with respect to $\\vec{\\theta}$ is\n",
    "quite intractable due to a huge product of terms depending on $\\vec{\\theta}$:\n",
    "$$\n",
    "p(\\tau|\\vec{\\theta})=p\\left(\\left\\{ (s_t,a_t,r_{t+1},s_{t+1})\\right\\}_{t\\geq0}\\given\\vec{\\theta}\\right)\n",
    "=p(s_0)\\prod_{t\\geq0} \\pi_{\\vec{\\theta}}(a_t|s_t)p(s_{t+1}|s_t,a_t).\n",
    "$$"
   ]
  },
  {
   "cell_type": "markdown",
   "metadata": {},
   "source": [
    "However, by using the fact that $\\grad_{x}\\log(f(x))=\\frac{\\grad_{x}f(x)}{f(x)}$, we can convert the product into a sum:\n",
    "$$\n",
    "\\begin{align}\n",
    "\\grad\\mathcal{L}(\\vec{\\theta})\n",
    "&= -\\int g(\\tau)\\grad p(\\tau|\\vec{\\theta})d\\tau\n",
    "= -\\int g(\\tau)\\frac{\\grad p(\\tau|\\vec{\\theta})}{p(\\tau|\\vec{\\theta})}p(\\tau|\\vec{\\theta})d\\tau \\\\\n",
    "&= -\\int g(\\tau)\\grad\\log\\left(p(\\tau|\\vec{\\theta})\\right)p(\\tau|\\vec{\\theta})d\\tau \\\\\n",
    "&= -\\int g(\\tau)\\grad\\log\\left( p(s_0)\\prod_{t\\geq0} \\pi_{\\vec{\\theta}}(a_t|s_t)p(s_{t+1}|s_t,a_t) \\right)\n",
    "p(\\tau|\\vec{\\theta})d\\tau \\\\\n",
    "&= -\\int g(\\tau)\\grad\\left( \\log p(s_0) + \\sum_{t\\geq0} \\log \\pi_{\\vec{\\theta}}(a_t|s_t) + \n",
    "\\sum_{t\\geq0}\\log p(s_{t+1}|s_t,a_t) \\right) p(\\tau|\\vec{\\theta})d\\tau \\\\\n",
    "&= -\\int g(\\tau)\\sum_{t\\geq0} \\grad\\log \\pi_{\\vec{\\theta}}(a_t|s_t) p(\\tau|\\vec{\\theta})d\\tau \\\\\n",
    "&= \\E[\\tau]{-g(\\tau)\\sum_{t\\geq0} \\grad\\log \\pi_{\\vec{\\theta}}(a_t|s_t)}.\n",
    "\\end{align}\n",
    "$$"
   ]
  },
  {
   "cell_type": "markdown",
   "metadata": {},
   "source": [
    "This is the \"vanilla\" version of the policy gradient. We can interpret is as a weighted log-likelihood function.\n",
    "The log-policy is the log-likelihood term we wish to maximize and the total discounted reward acts as a weight: high-return positive\n",
    "trajectories will cause the probability of actions taken during them to increase, and negative-return trajectories will cause the\n",
    "probabilities of actions taken to decrease.\n",
    "\n",
    "In the following figures we see three trajectories: high-return positive-reward (green), low-return positive-reward (yellow) and negative-return (red) and the action probabilities along the trajectories after the update. Credit: Sergey Levine.\n",
    "\n",
    "|<strong></strong>||\n",
    "|-----| ----|\n",
    "|<img src=\"imgs/pg1.png\" height=\"200\">|<img src=\"imgs/pg2.png\" height=\"200\">|\n"
   ]
  },
  {
   "cell_type": "markdown",
   "metadata": {},
   "source": [
    "The major drawback of the policy-gradient is it's high variance, which causes erratic optimization behavior and therefore slow convergence.\n",
    "One reason for this is that the log-policy weight term, $g(\\tau)$ can vary wildly between different trajectories, even if they're similar in\n",
    "actions. Later on we'll implement the loss and explore some methods of variance reduction."
   ]
  },
  {
   "cell_type": "markdown",
   "metadata": {},
   "source": [
    "### Landing on the moon with policy gradients"
   ]
  },
  {
   "cell_type": "markdown",
   "metadata": {},
   "source": [
    "In the spirit of the recent achievements of the Israeli space industry,\n",
    "we'll apply our reinforcement learning skills to solve a simple game called **LunarLander**.\n",
    "\n",
    "This game is available as an `environment` in OpenAI `gym`.\n",
    "\n",
    "<video loop autoplay src=\"http://gym.openai.com/videos/2019-04-06--My9IiAbqha/LunarLander-v2/original.mp4\" />"
   ]
  },
  {
   "cell_type": "markdown",
   "metadata": {},
   "source": [
    "In this environment, you need to control the lander and get it to land safely on the moon.\n",
    "To do so, you must apply bottom, right or left thrusters (each are either fully on or fully off)\n",
    "and get it to land within the designated zone as quickly as possible and with minimal wasted fuel."
   ]
  },
  {
   "cell_type": "code",
   "execution_count": 18,
   "metadata": {
    "pycharm": {
     "is_executing": false
    }
   },
   "outputs": [],
   "source": [
    "import gym\n",
    "\n",
    "# Just for fun :) ... but also to re-define the default max number of steps\n",
    "ENV_NAME = 'Beresheet-v2'\n",
    "MAX_EPISODE_STEPS = 300\n",
    "if ENV_NAME not in gym.envs.registry.env_specs:\n",
    "    gym.register(\n",
    "        id=ENV_NAME,\n",
    "        entry_point='gym.envs.box2d:LunarLander',\n",
    "        max_episode_steps=MAX_EPISODE_STEPS,\n",
    "        reward_threshold=200,\n",
    "    )"
   ]
  },
  {
   "cell_type": "code",
   "execution_count": 19,
   "metadata": {
    "pycharm": {
     "is_executing": false
    }
   },
   "outputs": [
    {
     "name": "stdout",
     "output_type": "stream",
     "text": [
      "<TimeLimit<LunarLander<Beresheet-v2>>>\n",
      "observations space: Box(8,)\n",
      "action space: Discrete(4)\n"
     ]
    }
   ],
   "source": [
    "import gym\n",
    "\n",
    "env = gym.make(ENV_NAME)\n",
    "\n",
    "print(env)\n",
    "print(f'observations space: {env.observation_space}')\n",
    "print(f'action space: {env.action_space}')\n",
    "\n",
    "ENV_N_ACTIONS = env.action_space.n\n",
    "ENV_N_OBSERVATIONS = env.observation_space.shape[0]"
   ]
  },
  {
   "cell_type": "markdown",
   "metadata": {},
   "source": [
    "The observations at each step is the Lander's position, velocity, angle, angular velocity and ground contact state.\n",
    "The actions are no-op, fire left truster, bottom thruster and right thruster.\n",
    "\n",
    "You are **highly encouraged** to read the [documentation](https://github.com/openai/gym/blob/master/gym/envs/box2d/lunar_lander.py) in the source code of the `LunarLander` environment to understand the reward system,\n",
    "and see how the actions and observations are created."
   ]
  },
  {
   "cell_type": "markdown",
   "metadata": {},
   "source": [
    "### Policy network and Agent"
   ]
  },
  {
   "cell_type": "markdown",
   "metadata": {},
   "source": [
    "Let's start with our policy-model. This will be a simple neural net, which should take an observation and return a score for each possible action."
   ]
  },
  {
   "cell_type": "markdown",
   "metadata": {},
   "source": [
    "**TODO**:\n",
    "1. Implement all methods in the `PolicyNet` class in the `hw4/rl_pg.py` module.\n",
    "   Start small. A simple MLP with a few hidden layers is a good starting point. You can come back and change it later based on the the experiments. The we'll use the `build_for_env` method to instantiate a `PolicyNet` based on the configuration of a given environment.\n",
    "2. If you need hyperparameters to configure your model (e.g. number of hidden layers, sizes, etc.), add them in `part1_pg_hyperparams()` in `hw4/answers.py`."
   ]
  },
  {
   "cell_type": "code",
   "execution_count": 20,
   "metadata": {
    "pycharm": {
     "is_executing": false
    }
   },
   "outputs": [
    {
     "data": {
      "text/plain": [
       "PolicyNet(\n",
       "  (our_net): Sequential(\n",
       "    (0): Linear(in_features=8, out_features=4, bias=True)\n",
       "    (1): LogSoftmax()\n",
       "  )\n",
       ")"
      ]
     },
     "execution_count": 20,
     "metadata": {},
     "output_type": "execute_result"
    }
   ],
   "source": [
    "import hw4.rl_pg as hw4pg\n",
    "import hw4.answers\n",
    "\n",
    "hp = hw4.answers.part1_pg_hyperparams()\n",
    "\n",
    "# You can add keyword-args to this function which will be populated from the hyperparameters dict.\n",
    "p_net = hw4pg.PolicyNet.build_for_env(env, device, **hp)\n",
    "p_net"
   ]
  },
  {
   "cell_type": "markdown",
   "metadata": {},
   "source": [
    "Now we need an **agent**. The purpose of our agent will be to act according to the current policy and generate experiences.\n",
    "Our `PolicyAgent` will use a `PolicyNet` as the current policy function.\n",
    "\n",
    "\n",
    "We'll also define some extra datatypes to help us represent the data generated by our agent.\n",
    "You can find the `Experience`, `Episode` and `TrainBatch` datatypes in the `hw4/rl_data.py` module."
   ]
  },
  {
   "cell_type": "markdown",
   "metadata": {},
   "source": [
    "**TODO**: Implement the `current_action_distribution()` method of the `PolicyAgent` class in the `hw4/rl_pg.py` module."
   ]
  },
  {
   "cell_type": "code",
   "execution_count": 21,
   "metadata": {
    "pycharm": {
     "is_executing": false
    }
   },
   "outputs": [
    {
     "name": "stdout",
     "output_type": "stream",
     "text": [
      "tensor([0.2999, 0.2846, 0.2331, 0.1824], grad_fn=<ExpBackward>)\n"
     ]
    }
   ],
   "source": [
    "for i in range (10):\n",
    "    agent = hw4pg.PolicyAgent(env, p_net, device)\n",
    "    d = agent.current_action_distribution()\n",
    "    test.assertSequenceEqual(d.shape, (env.action_space.n,))\n",
    "    test.assertAlmostEqual(d.sum(), 1.0, delta=1e-5)\n",
    "    \n",
    "print(d)"
   ]
  },
  {
   "cell_type": "markdown",
   "metadata": {},
   "source": [
    "**TODO**: Implement the `step()` method of the `PolicyAgent`."
   ]
  },
  {
   "cell_type": "code",
   "execution_count": 22,
   "metadata": {
    "pycharm": {
     "is_executing": false
    }
   },
   "outputs": [
    {
     "name": "stdout",
     "output_type": "stream",
     "text": [
      "Experience(state=array([ 0.00538092,  1.4243852 ,  0.27212644,  0.286367  , -0.00616069,\n",
      "       -0.06100404,  0.        ,  0.        ], dtype=float32), action=0, reward=0.9751528504334033, is_done=False)\n"
     ]
    }
   ],
   "source": [
    "agent = hw4pg.PolicyAgent(env, p_net, device)\n",
    "exp = agent.step()\n",
    "\n",
    "test.assertIsInstance(exp, hw4pg.Experience)\n",
    "print(exp)"
   ]
  },
  {
   "cell_type": "markdown",
   "metadata": {},
   "source": [
    "To test our agent, we'll write some code that allows it to play an environment. We'll use the `Monitor`\n",
    "wrapper in `gym` to generate a video of the episode for visual debugging."
   ]
  },
  {
   "cell_type": "markdown",
   "metadata": {},
   "source": [
    "**TODO**: Complete the implementation of the `monitor_episode()` method of the `PolicyAgent`."
   ]
  },
  {
   "cell_type": "code",
   "execution_count": 23,
   "metadata": {
    "pycharm": {
     "is_executing": false
    }
   },
   "outputs": [],
   "source": [
    "env, n_steps, reward = agent.monitor_episode(ENV_NAME, p_net, device=device)"
   ]
  },
  {
   "cell_type": "markdown",
   "metadata": {},
   "source": [
    "To display the Monitor video in this notebook, we'll use a helper function from our `jupyter_utils` and a small wrapper that extracts the path of the last video file. "
   ]
  },
  {
   "cell_type": "code",
   "execution_count": 24,
   "metadata": {
    "pycharm": {
     "is_executing": false
    }
   },
   "outputs": [],
   "source": [
    "import cs236781.jupyter_utils as jupyter_utils\n",
    "\n",
    "def show_monitor_video(monitor_env, idx=0, **kw):\n",
    "    # Extract video path\n",
    "    video_path = monitor_env.videos[idx][0]\n",
    "    video_path = os.path.relpath(video_path, start=os.path.curdir)\n",
    "    \n",
    "    # Use helper function to embed the video\n",
    "    return jupyter_utils.show_video_in_notebook(video_path, **kw)"
   ]
  },
  {
   "cell_type": "code",
   "execution_count": 25,
   "metadata": {
    "pycharm": {
     "is_executing": false
    }
   },
   "outputs": [
    {
     "name": "stdout",
     "output_type": "stream",
     "text": [
      "Episode ran for 70 steps. Total reward: -582.28\n"
     ]
    },
    {
     "data": {
      "text/html": [
       "<video src=\"data:video/mp4;base64,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\" controls autoplay width=\"500\" height=\"auto\" />"
      ],
      "text/plain": [
       "<IPython.core.display.HTML object>"
      ]
     },
     "execution_count": 25,
     "metadata": {},
     "output_type": "execute_result"
    }
   ],
   "source": [
    "print(f'Episode ran for {n_steps} steps. Total reward: {reward:.2f}')\n",
    "\n",
    "show_monitor_video(env, -1)"
   ]
  },
  {
   "cell_type": "markdown",
   "metadata": {},
   "source": [
    "### Training data"
   ]
  },
  {
   "cell_type": "markdown",
   "metadata": {},
   "source": [
    "The next step is to create data to train on.\n",
    "We need to train on batches of state-action pairs, so that our network can learn to predict the actions.\n",
    "\n",
    "We'll split this task into three parts:\n",
    "1. Generate a batch of `Episode`s, by using an `Agent` that's playing according to our current policy network.\n",
    "   Each `Episode` object contains the `Experience` objects created by the agent.\n",
    "2. Calculate the total discounted reward for each state we encountered and action we took. This is our action-value estimate.\n",
    "3. Convert the `Episode`s into a batch of tensors to train on.\n",
    "   Each batch will contain states, action taken per state, reward accrued, and the calculated estimated state-values.\n",
    "   These will be stored in a `TrainBatch` object.\n"
   ]
  },
  {
   "cell_type": "markdown",
   "metadata": {},
   "source": [
    "**TODO**: Complete the implementation of the `episode_batch_generator()` method in the `TrainBatchDataset` class within the `hw4.rl_data` module. This will address part 1 in the list above."
   ]
  },
  {
   "cell_type": "code",
   "execution_count": 36,
   "metadata": {
    "pycharm": {
     "is_executing": true
    }
   },
   "outputs": [
    {
     "name": "stdout",
     "output_type": "stream",
     "text": [
      "First episode: Episode(total_reward=-178.81, #experences=70)\n"
     ]
    }
   ],
   "source": [
    "import hw4.rl_data as hw4data\n",
    "\n",
    "def agent_fn():\n",
    "    env = gym.make(ENV_NAME)\n",
    "    hp = hw4.answers.part1_pg_hyperparams()\n",
    "    p_net = hw4pg.PolicyNet.build_for_env(env, device, **hp)\n",
    "    return hw4pg.PolicyAgent(env, p_net, device)\n",
    "    \n",
    "ds = hw4data.TrainBatchDataset(agent_fn, episode_batch_size=8, gamma=0.9)\n",
    "batch_gen = ds.episode_batch_generator()\n",
    "b = next(batch_gen)\n",
    "print('First episode:', b[0])\n",
    "\n",
    "test.assertEqual(len(b), 8)\n",
    "for ep in b:\n",
    "    test.assertIsInstance(ep, hw4data.Episode)\n",
    "    \n",
    "    # Check that it's a full episode\n",
    "    is_done = [exp.is_done for exp in ep.experiences]\n",
    "    test.assertFalse(any(is_done[0:-1]))\n",
    "    test.assertTrue(is_done[-1])"
   ]
  },
  {
   "cell_type": "markdown",
   "metadata": {},
   "source": [
    "**TODO**: Complete the implementation of the `calc_qvals()` method in the `Episode` class.\n",
    "This will address part 2.\n",
    "These q-values are an estimate of the actual action value function: $$\\hat{q}_{t} = \\sum_{t'\\geq t} \\gamma^{t'-t}r_{t'+1}.$$"
   ]
  },
  {
   "cell_type": "code",
   "execution_count": 37,
   "metadata": {
    "pycharm": {
     "is_executing": false
    }
   },
   "outputs": [],
   "source": [
    "np.random.seed(SEED)\n",
    "test_rewards = np.random.randint(-10, 10, 100)\n",
    "test_experiences = [hw4pg.Experience(None,None,r,False) for r in test_rewards] \n",
    "test_episode = hw4data.Episode(np.sum(test_rewards), test_experiences)\n",
    "\n",
    "qvals = test_episode.calc_qvals(0.9)\n",
    "qvals = list(qvals)\n",
    "\n",
    "expected_qvals = np.load(os.path.join('tests', 'assets', 'part1_expected_qvals.npy'))\n",
    "for i in range(len(test_rewards)):\n",
    "    test.assertAlmostEqual(expected_qvals[i], qvals[i], delta=1e-3)"
   ]
  },
  {
   "cell_type": "markdown",
   "metadata": {},
   "source": [
    "**TODO**: Complete the implementation of the `from_episodes()` method in the `TrainBatch` class.\n",
    "This will address part 3.\n",
    "\n",
    "Notes:\n",
    "- The `TrainBatchDataset` class provides a generator function that will use the above function to lazily generate batches of training samples and labels on demand.\n",
    "- This allows us to use a standard `PyTorch` dataloader to wrap our Dataset and provide us with parallel data loading for free!\n",
    "  This means we can run multiple environments with multiple agents in separate background processes to generate data for training and thus prevent the data loading bottleneck which is caused by the fact that we must generate full Episodes to train on in order to calculate the q-values.\n",
    "- We'll set the `DataLoader`'s `batch_size` to `None` because we have already implemented custom batching in our dataset."
   ]
  },
  {
   "cell_type": "code",
   "execution_count": 46,
   "metadata": {
    "pycharm": {
     "is_executing": false
    }
   },
   "outputs": [
    {
     "ename": "RuntimeError",
     "evalue": "DataLoader worker (pid(s) 13012, 9336) exited unexpectedly",
     "output_type": "error",
     "traceback": [
      "\u001b[1;31m---------------------------------------------------------------------------\u001b[0m",
      "\u001b[1;31mEmpty\u001b[0m                                     Traceback (most recent call last)",
      "\u001b[1;32m~\\Anaconda3\\envs\\cs236781-hw\\lib\\site-packages\\torch\\utils\\data\\dataloader.py\u001b[0m in \u001b[0;36m_try_get_data\u001b[1;34m(self, timeout)\u001b[0m\n\u001b[0;32m    723\u001b[0m         \u001b[1;32mtry\u001b[0m\u001b[1;33m:\u001b[0m\u001b[1;33m\u001b[0m\u001b[1;33m\u001b[0m\u001b[0m\n\u001b[1;32m--> 724\u001b[1;33m             \u001b[0mdata\u001b[0m \u001b[1;33m=\u001b[0m \u001b[0mself\u001b[0m\u001b[1;33m.\u001b[0m\u001b[0m_data_queue\u001b[0m\u001b[1;33m.\u001b[0m\u001b[0mget\u001b[0m\u001b[1;33m(\u001b[0m\u001b[0mtimeout\u001b[0m\u001b[1;33m=\u001b[0m\u001b[0mtimeout\u001b[0m\u001b[1;33m)\u001b[0m\u001b[1;33m\u001b[0m\u001b[1;33m\u001b[0m\u001b[0m\n\u001b[0m\u001b[0;32m    725\u001b[0m             \u001b[1;32mreturn\u001b[0m \u001b[1;33m(\u001b[0m\u001b[1;32mTrue\u001b[0m\u001b[1;33m,\u001b[0m \u001b[0mdata\u001b[0m\u001b[1;33m)\u001b[0m\u001b[1;33m\u001b[0m\u001b[1;33m\u001b[0m\u001b[0m\n",
      "\u001b[1;32m~\\Anaconda3\\envs\\cs236781-hw\\lib\\multiprocessing\\queues.py\u001b[0m in \u001b[0;36mget\u001b[1;34m(self, block, timeout)\u001b[0m\n\u001b[0;32m    104\u001b[0m                     \u001b[1;32mif\u001b[0m \u001b[1;32mnot\u001b[0m \u001b[0mself\u001b[0m\u001b[1;33m.\u001b[0m\u001b[0m_poll\u001b[0m\u001b[1;33m(\u001b[0m\u001b[0mtimeout\u001b[0m\u001b[1;33m)\u001b[0m\u001b[1;33m:\u001b[0m\u001b[1;33m\u001b[0m\u001b[1;33m\u001b[0m\u001b[0m\n\u001b[1;32m--> 105\u001b[1;33m                         \u001b[1;32mraise\u001b[0m \u001b[0mEmpty\u001b[0m\u001b[1;33m\u001b[0m\u001b[1;33m\u001b[0m\u001b[0m\n\u001b[0m\u001b[0;32m    106\u001b[0m                 \u001b[1;32melif\u001b[0m \u001b[1;32mnot\u001b[0m \u001b[0mself\u001b[0m\u001b[1;33m.\u001b[0m\u001b[0m_poll\u001b[0m\u001b[1;33m(\u001b[0m\u001b[1;33m)\u001b[0m\u001b[1;33m:\u001b[0m\u001b[1;33m\u001b[0m\u001b[1;33m\u001b[0m\u001b[0m\n",
      "\u001b[1;31mEmpty\u001b[0m: ",
      "\nDuring handling of the above exception, another exception occurred:\n",
      "\u001b[1;31mRuntimeError\u001b[0m                              Traceback (most recent call last)",
      "\u001b[1;32m<ipython-input-46-69b7a9c2d8ce>\u001b[0m in \u001b[0;36m<module>\u001b[1;34m\u001b[0m\n\u001b[0;32m      5\u001b[0m \u001b[1;33m\u001b[0m\u001b[0m\n\u001b[0;32m      6\u001b[0m \u001b[1;33m\u001b[0m\u001b[0m\n\u001b[1;32m----> 7\u001b[1;33m \u001b[1;32mfor\u001b[0m \u001b[0mi\u001b[0m\u001b[1;33m,\u001b[0m \u001b[0mtrain_batch\u001b[0m \u001b[1;32min\u001b[0m \u001b[0menumerate\u001b[0m\u001b[1;33m(\u001b[0m\u001b[0mdl\u001b[0m\u001b[1;33m)\u001b[0m\u001b[1;33m:\u001b[0m\u001b[1;33m\u001b[0m\u001b[1;33m\u001b[0m\u001b[0m\n\u001b[0m\u001b[0;32m      8\u001b[0m     \u001b[0mstates\u001b[0m\u001b[1;33m,\u001b[0m \u001b[0mactions\u001b[0m\u001b[1;33m,\u001b[0m \u001b[0mqvals\u001b[0m\u001b[1;33m,\u001b[0m \u001b[0mreward_mean\u001b[0m \u001b[1;33m=\u001b[0m \u001b[0mtrain_batch\u001b[0m\u001b[1;33m\u001b[0m\u001b[1;33m\u001b[0m\u001b[0m\n\u001b[0;32m      9\u001b[0m     \u001b[0mprint\u001b[0m\u001b[1;33m(\u001b[0m\u001b[1;34mf'#{i}: {train_batch}'\u001b[0m\u001b[1;33m)\u001b[0m\u001b[1;33m\u001b[0m\u001b[1;33m\u001b[0m\u001b[0m\n",
      "\u001b[1;32m~\\Anaconda3\\envs\\cs236781-hw\\lib\\site-packages\\torch\\utils\\data\\dataloader.py\u001b[0m in \u001b[0;36m__next__\u001b[1;34m(self)\u001b[0m\n\u001b[0;32m    802\u001b[0m \u001b[1;33m\u001b[0m\u001b[0m\n\u001b[0;32m    803\u001b[0m             \u001b[1;32massert\u001b[0m \u001b[1;32mnot\u001b[0m \u001b[0mself\u001b[0m\u001b[1;33m.\u001b[0m\u001b[0m_shutdown\u001b[0m \u001b[1;32mand\u001b[0m \u001b[0mself\u001b[0m\u001b[1;33m.\u001b[0m\u001b[0m_tasks_outstanding\u001b[0m \u001b[1;33m>\u001b[0m \u001b[1;36m0\u001b[0m\u001b[1;33m\u001b[0m\u001b[1;33m\u001b[0m\u001b[0m\n\u001b[1;32m--> 804\u001b[1;33m             \u001b[0midx\u001b[0m\u001b[1;33m,\u001b[0m \u001b[0mdata\u001b[0m \u001b[1;33m=\u001b[0m \u001b[0mself\u001b[0m\u001b[1;33m.\u001b[0m\u001b[0m_get_data\u001b[0m\u001b[1;33m(\u001b[0m\u001b[1;33m)\u001b[0m\u001b[1;33m\u001b[0m\u001b[1;33m\u001b[0m\u001b[0m\n\u001b[0m\u001b[0;32m    805\u001b[0m             \u001b[0mself\u001b[0m\u001b[1;33m.\u001b[0m\u001b[0m_tasks_outstanding\u001b[0m \u001b[1;33m-=\u001b[0m \u001b[1;36m1\u001b[0m\u001b[1;33m\u001b[0m\u001b[1;33m\u001b[0m\u001b[0m\n\u001b[0;32m    806\u001b[0m \u001b[1;33m\u001b[0m\u001b[0m\n",
      "\u001b[1;32m~\\Anaconda3\\envs\\cs236781-hw\\lib\\site-packages\\torch\\utils\\data\\dataloader.py\u001b[0m in \u001b[0;36m_get_data\u001b[1;34m(self)\u001b[0m\n\u001b[0;32m    769\u001b[0m         \u001b[1;32melse\u001b[0m\u001b[1;33m:\u001b[0m\u001b[1;33m\u001b[0m\u001b[1;33m\u001b[0m\u001b[0m\n\u001b[0;32m    770\u001b[0m             \u001b[1;32mwhile\u001b[0m \u001b[1;32mTrue\u001b[0m\u001b[1;33m:\u001b[0m\u001b[1;33m\u001b[0m\u001b[1;33m\u001b[0m\u001b[0m\n\u001b[1;32m--> 771\u001b[1;33m                 \u001b[0msuccess\u001b[0m\u001b[1;33m,\u001b[0m \u001b[0mdata\u001b[0m \u001b[1;33m=\u001b[0m \u001b[0mself\u001b[0m\u001b[1;33m.\u001b[0m\u001b[0m_try_get_data\u001b[0m\u001b[1;33m(\u001b[0m\u001b[1;33m)\u001b[0m\u001b[1;33m\u001b[0m\u001b[1;33m\u001b[0m\u001b[0m\n\u001b[0m\u001b[0;32m    772\u001b[0m                 \u001b[1;32mif\u001b[0m \u001b[0msuccess\u001b[0m\u001b[1;33m:\u001b[0m\u001b[1;33m\u001b[0m\u001b[1;33m\u001b[0m\u001b[0m\n\u001b[0;32m    773\u001b[0m                     \u001b[1;32mreturn\u001b[0m \u001b[0mdata\u001b[0m\u001b[1;33m\u001b[0m\u001b[1;33m\u001b[0m\u001b[0m\n",
      "\u001b[1;32m~\\Anaconda3\\envs\\cs236781-hw\\lib\\site-packages\\torch\\utils\\data\\dataloader.py\u001b[0m in \u001b[0;36m_try_get_data\u001b[1;34m(self, timeout)\u001b[0m\n\u001b[0;32m    735\u001b[0m             \u001b[1;32mif\u001b[0m \u001b[0mlen\u001b[0m\u001b[1;33m(\u001b[0m\u001b[0mfailed_workers\u001b[0m\u001b[1;33m)\u001b[0m \u001b[1;33m>\u001b[0m \u001b[1;36m0\u001b[0m\u001b[1;33m:\u001b[0m\u001b[1;33m\u001b[0m\u001b[1;33m\u001b[0m\u001b[0m\n\u001b[0;32m    736\u001b[0m                 \u001b[0mpids_str\u001b[0m \u001b[1;33m=\u001b[0m \u001b[1;34m', '\u001b[0m\u001b[1;33m.\u001b[0m\u001b[0mjoin\u001b[0m\u001b[1;33m(\u001b[0m\u001b[0mstr\u001b[0m\u001b[1;33m(\u001b[0m\u001b[0mw\u001b[0m\u001b[1;33m.\u001b[0m\u001b[0mpid\u001b[0m\u001b[1;33m)\u001b[0m \u001b[1;32mfor\u001b[0m \u001b[0mw\u001b[0m \u001b[1;32min\u001b[0m \u001b[0mfailed_workers\u001b[0m\u001b[1;33m)\u001b[0m\u001b[1;33m\u001b[0m\u001b[1;33m\u001b[0m\u001b[0m\n\u001b[1;32m--> 737\u001b[1;33m                 \u001b[1;32mraise\u001b[0m \u001b[0mRuntimeError\u001b[0m\u001b[1;33m(\u001b[0m\u001b[1;34m'DataLoader worker (pid(s) {}) exited unexpectedly'\u001b[0m\u001b[1;33m.\u001b[0m\u001b[0mformat\u001b[0m\u001b[1;33m(\u001b[0m\u001b[0mpids_str\u001b[0m\u001b[1;33m)\u001b[0m\u001b[1;33m)\u001b[0m\u001b[1;33m\u001b[0m\u001b[1;33m\u001b[0m\u001b[0m\n\u001b[0m\u001b[0;32m    738\u001b[0m             \u001b[1;32mif\u001b[0m \u001b[0misinstance\u001b[0m\u001b[1;33m(\u001b[0m\u001b[0me\u001b[0m\u001b[1;33m,\u001b[0m \u001b[0mqueue\u001b[0m\u001b[1;33m.\u001b[0m\u001b[0mEmpty\u001b[0m\u001b[1;33m)\u001b[0m\u001b[1;33m:\u001b[0m\u001b[1;33m\u001b[0m\u001b[1;33m\u001b[0m\u001b[0m\n\u001b[0;32m    739\u001b[0m                 \u001b[1;32mreturn\u001b[0m \u001b[1;33m(\u001b[0m\u001b[1;32mFalse\u001b[0m\u001b[1;33m,\u001b[0m \u001b[1;32mNone\u001b[0m\u001b[1;33m)\u001b[0m\u001b[1;33m\u001b[0m\u001b[1;33m\u001b[0m\u001b[0m\n",
      "\u001b[1;31mRuntimeError\u001b[0m: DataLoader worker (pid(s) 13012, 9336) exited unexpectedly"
     ]
    }
   ],
   "source": [
    "from torch.utils.data import DataLoader\n",
    "\n",
    "ds = hw4data.TrainBatchDataset(agent_fn, episode_batch_size=8, gamma=0.9)\n",
    "dl = DataLoader(ds, batch_size=None, num_workers=2) # Run multiple agents/env in separate worker process\n",
    "\n",
    "\n",
    "for i, train_batch in enumerate(dl):\n",
    "    states, actions, qvals, reward_mean = train_batch\n",
    "    print(f'#{i}: {train_batch}')\n",
    "    test.assertEqual(states.shape[0], actions.shape[0])\n",
    "    test.assertEqual(qvals.shape[0], actions.shape[0])\n",
    "    test.assertEqual(states.shape[1], env.observation_space.shape[0])\n",
    "    if i > 5:\n",
    "        break"
   ]
  },
  {
   "cell_type": "markdown",
   "metadata": {},
   "source": [
    "### Loss functions"
   ]
  },
  {
   "cell_type": "markdown",
   "metadata": {},
   "source": [
    "As usual, we need a loss function to optimize over.\n",
    "We'll calculate three types of losses:\n",
    "1. The causal vanilla policy gradient loss.\n",
    "1. The policy gradient loss, with a baseline to reduce variance.\n",
    "2. An entropy-based loss whos purpose is to diversify the agent's action selection,\n",
    "   and prevent it from being \"too sure\" about its actions.\n",
    "   This loss will be used together with one of the above losses."
   ]
  },
  {
   "cell_type": "markdown",
   "metadata": {},
   "source": [
    "#### Causal vanilla policy-gradient"
   ]
  },
  {
   "cell_type": "markdown",
   "metadata": {},
   "source": [
    "We have derived the policy-gradient as\n",
    "$$\n",
    "\\grad\\mathcal{L}(\\vec{\\theta}) = \\E[\\tau]{-g(\\tau)\\sum_{t\\geq0} \\grad\\log \\pi_{\\vec{\\theta}}(a_t|s_t)}.\n",
    "$$\n",
    "\n",
    "By writing the discounted reward explicitly and enforcing causality, i.e. the action taken at time $t$ can't affect\n",
    "the reward at time $t'<t$, we can get a slightly lower-variance version of the policy gradient:\n",
    "\n",
    "$$\n",
    "\\grad\\mathcal{L}_{\\text{PG}}(\\vec{\\theta}) = \n",
    "\\E[\\tau]{-\\sum_{t\\geq0} \\left(\\sum_{t'\\geq t} \\gamma^{t'}r_{t'+1} \\right)\\grad\\log \\pi_{\\vec{\\theta}}(a_t|s_t)}.\n",
    "$$"
   ]
  },
  {
   "cell_type": "markdown",
   "metadata": {},
   "source": [
    "In practice, the expectation over trajectories is calculated using a Monte-Carlo approach, i.e. simply sampling $N$\n",
    "trajectories and average the term inside the expectation. Therefore, we will use the following estimated version of the policy gradient:\n",
    "\n",
    "$$\n",
    "\\begin{align}\n",
    "\\hat\\grad\\mathcal{L}_{\\text{PG}}(\\vec{\\theta})\n",
    "&=-\\frac{1}{N}\\sum_{i=1}^{N}\\sum_{t\\geq0} \\left(\\sum_{t'\\geq t} \\gamma^{t'}r_{i,t'+1} \\right)\\grad\\log \\pi_{\\vec{\\theta}}(a_{i,t}|s_{i,t}) \\\\\n",
    "&=-\\frac{1}{N}\\sum_{i=1}^{N}\\sum_{t\\geq0} \\hat{q}_{i,t} \\grad\\log \\pi_{\\vec{\\theta}}(a_{i,t}|s_{i,t}).\n",
    "\\end{align}\n",
    "$$\n",
    "\n",
    "Note the use of the notation $\\hat{q}_{i,t}$ to represent the estimated action-value at time $t$ in the sampled trajectory $i$.\n",
    "Here $\\hat{q}_{i,t}$ is acting as the weight-term for the policy gradient."
   ]
  },
  {
   "cell_type": "markdown",
   "metadata": {},
   "source": [
    "**TODO**: Complete the implementation of the `VanillaPolicyGradientLoss` class in the `hw4/rl_pg.py` module."
   ]
  },
  {
   "cell_type": "code",
   "execution_count": null,
   "metadata": {
    "pycharm": {
     "is_executing": false
    }
   },
   "outputs": [],
   "source": [
    "# Ensure deterministic run\n",
    "env = gym.make(ENV_NAME)\n",
    "env.seed(SEED)\n",
    "torch.manual_seed(SEED)\n",
    "\n",
    "def agent_fn():\n",
    "    # Use a simple \"network\" here, so that this test doesn't depend on your specific PolicyNet implementation\n",
    "    p_net_test = nn.Linear(8, 4)\n",
    "    agent = hw4pg.PolicyAgent(env, p_net_test)\n",
    "    return agent\n",
    "\n",
    "dataloader = hw4data.TrainBatchDataset(agent_fn, gamma=0.9, episode_batch_size=4)\n",
    "\n",
    "test_batch = next(iter(dataloader))\n",
    "test_action_scores = torch.randn(len(test_batch), env.action_space.n)\n",
    "\n",
    "loss_fn_p = hw4pg.VanillaPolicyGradientLoss()\n",
    "loss_p, _ = loss_fn_p(test_batch, test_action_scores)\n",
    "\n",
    "print('loss =', loss_p)\n",
    "test.assertAlmostEqual(loss_p.item(), -35.535522, delta=1e-3)"
   ]
  },
  {
   "cell_type": "markdown",
   "metadata": {},
   "source": [
    "#### Policy-gradient with baseline"
   ]
  },
  {
   "cell_type": "markdown",
   "metadata": {},
   "source": [
    "Another way to reduce the variance of our gradient is to use relative weighting of the log-policy instead of absolute reward values.\n",
    "$$\n",
    "\\hat\\grad\\mathcal{L}_{\\text{BPG}}(\\vec{\\theta})\n",
    "=-\\frac{1}{N}\\sum_{i=1}^{N}\\sum_{t\\geq0} \\left(\\hat{q}_{i,t}-b\\right) \\grad\\log \\pi_{\\vec{\\theta}}(a_{i,t}|s_{i,t}).\n",
    "$$\n",
    "In other words, we don't measure a trajectory's worth by it's total reward, but by how much better that total reward is relative to some\n",
    "expected (\"baseline\") reward value, denoted above by $b$.\n",
    "Note that subtracting a baseline has no effect on the expected value of the policy gradient. It's easy to prove this directly by definition.\n",
    "\n",
    "Here we'll implement a very simple baseline (not optimal in terms of variance reduction): the average of the estimated state-values $\\hat{q}_{i,t}$."
   ]
  },
  {
   "cell_type": "markdown",
   "metadata": {},
   "source": [
    "**TODO**: Complete the implementation of the `BaselinePolicyGradientLoss` class in the `hw4/rl_pg.py` module."
   ]
  },
  {
   "cell_type": "code",
   "execution_count": null,
   "metadata": {
    "pycharm": {
     "is_executing": false
    }
   },
   "outputs": [],
   "source": [
    "# Using the same batch and action_scores from above cell\n",
    "loss_fn_p = hw4pg.BaselinePolicyGradientLoss()\n",
    "loss_p, _ = loss_fn_p(test_batch, test_action_scores)\n",
    "\n",
    "print('loss =', loss_p)\n",
    "test.assertAlmostEqual(loss_p.item(), -2.4665009, delta=1e-3)"
   ]
  },
  {
   "cell_type": "markdown",
   "metadata": {},
   "source": [
    "#### Entropy loss"
   ]
  },
  {
   "cell_type": "markdown",
   "metadata": {},
   "source": [
    "The entropy of a probability distribution (in our case the policy), is\n",
    "$$\n",
    "H(\\pi) = -\\sum_{a} \\pi(a|s)\\log\\pi(a|s).\n",
    "$$\n",
    "The entropy is always positive and obtains it's maximum for a uniform distribution.\n",
    "We'll use the entropy of the policy as a bonus, i.e. we'll try to maximize it.\n",
    "The idea is the prevent the policy distribution from becoming too narrow and thus promote the agent's exploration."
   ]
  },
  {
   "cell_type": "markdown",
   "metadata": {},
   "source": [
    "First, we'll calculate the maximal possible entropy value of the action distribution for a set number of possible actions.\n",
    "This will be used as a normalization term.\n",
    "\n",
    "**TODO**: Complete the implementation of the `calc_max_entropy()` method in the `ActionEntropyLoss` class."
   ]
  },
  {
   "cell_type": "code",
   "execution_count": null,
   "metadata": {
    "pycharm": {
     "is_executing": false
    }
   },
   "outputs": [],
   "source": [
    "loss_fn_e = hw4pg.ActionEntropyLoss(env.action_space.n)\n",
    "print('max_entropy = ', loss_fn_e.max_entropy)\n",
    "\n",
    "test.assertAlmostEqual(loss_fn_e.max_entropy, 1.38629436, delta=1e-3)"
   ]
  },
  {
   "cell_type": "markdown",
   "metadata": {},
   "source": [
    "**TODO**: Complete the implementation of the `forward()` method in the `ActionEntropyLoss` class."
   ]
  },
  {
   "cell_type": "code",
   "execution_count": null,
   "metadata": {
    "pycharm": {
     "is_executing": false
    }
   },
   "outputs": [],
   "source": [
    "loss_e, _ = loss_fn_e(test_batch, test_action_scores)\n",
    "print('loss = ', loss_e)\n",
    "\n",
    "test.assertAlmostEqual(loss_e.item(), -0.7927002, delta=1e-3)"
   ]
  },
  {
   "cell_type": "markdown",
   "metadata": {},
   "source": [
    "### Training"
   ]
  },
  {
   "cell_type": "markdown",
   "metadata": {},
   "source": [
    "We'll implement our training procedure as follows:\n",
    "\n",
    "1. Initialize the current policy to be a random policy.\n",
    "1. Sample $N$ trajectories from the environment using the current policy.\n",
    "2. Calculate the estimated $q$-values, $\\hat{q}_{i,t} = \\sum_{t'\\geq t} \\gamma^{t'}r_{i,t'+1}$ for each trajectory $i$.\n",
    "3. Calculate policy gradient estimate $\\hat\\grad\\mathcal{L}(\\vec{\\theta})$ as defined above.\n",
    "4. Perform SGD update $\\vec{\\theta}\\leftarrow\\vec{\\theta}-\\eta\\hat\\grad\\mathcal{L}(\\vec{\\theta})$.\n",
    "5. Repeat from step 2.\n",
    "\n",
    "This is known as the **REINFORCE** algorithm."
   ]
  },
  {
   "cell_type": "markdown",
   "metadata": {},
   "source": [
    "Fortunately, we've already implemented everything we need for steps 1-4 so we need only a bit more code to put it all together.\n",
    "\n",
    "The following block implements a wrapper, `train_pg` to create all the objects we need in order to train our policy gradient model.\n"
   ]
  },
  {
   "cell_type": "code",
   "execution_count": null,
   "metadata": {
    "pycharm": {
     "is_executing": false
    }
   },
   "outputs": [],
   "source": [
    "import hw4.answers\n",
    "from functools import partial\n",
    "\n",
    "ENV_NAME = \"Beresheet-v2\"\n",
    "\n",
    "def agent_fn_train(agent_type, p_net, seed, envs_dict):\n",
    "    winfo = torch.utils.data.get_worker_info()\n",
    "    wid = winfo.id if winfo else 0\n",
    "    seed = seed + wid if seed else wid\n",
    "\n",
    "    env = gym.make(ENV_NAME)\n",
    "    envs_dict[wid] = env\n",
    "    env.seed(seed)\n",
    "    np.random.seed(seed)\n",
    "    torch.manual_seed(seed)\n",
    "\n",
    "    return agent_type(env, p_net)\n",
    "\n",
    "def train_rl(agent_type, net_type, loss_fns, hp, seed=None, checkpoints_file=None, **train_kw):\n",
    "    print(f'hyperparams: {hp}')\n",
    "    \n",
    "    envs = {}\n",
    "    p_net = net_type(ENV_N_OBSERVATIONS, ENV_N_ACTIONS, **hp)\n",
    "    p_net.share_memory()\n",
    "    agent_fn = partial(agent_fn_train, agent_type, p_net, seed, envs)\n",
    "    \n",
    "    dataset = hw4data.TrainBatchDataset(agent_fn, hp['batch_size'], hp['gamma'])\n",
    "    dataloader = DataLoader(dataset, batch_size=None, num_workers=2)\n",
    "    optimizer = optim.Adam(p_net.parameters(), lr=hp['learn_rate'], eps=hp['eps'])\n",
    "    \n",
    "    trainer = hw4pg.PolicyTrainer(p_net, optimizer, loss_fns, dataloader, checkpoints_file)\n",
    "    try:\n",
    "        trainer.train(**train_kw)\n",
    "    except KeyboardInterrupt as e:\n",
    "        print('Training interrupted by user.')\n",
    "    finally:\n",
    "        for env in envs.values():\n",
    "            env.close()\n",
    "\n",
    "    # Include final model state\n",
    "    training_data = trainer.training_data\n",
    "    training_data['model_state'] = p_net.state_dict()\n",
    "    return training_data\n",
    "    \n",
    "def train_pg(baseline=False, entropy=False, **train_kwargs):\n",
    "    hp = hw4.answers.part1_pg_hyperparams()\n",
    "    \n",
    "    loss_fns = []\n",
    "    if baseline:\n",
    "        loss_fns.append(hw4pg.BaselinePolicyGradientLoss())\n",
    "    else:\n",
    "        loss_fns.append(hw4pg.VanillaPolicyGradientLoss())\n",
    "    if entropy:\n",
    "        loss_fns.append(hw4pg.ActionEntropyLoss(ENV_N_ACTIONS, hp['beta']))\n",
    "\n",
    "    return train_rl(hw4pg.PolicyAgent, hw4pg.PolicyNet, loss_fns, hp, **train_kwargs)"
   ]
  },
  {
   "cell_type": "markdown",
   "metadata": {},
   "source": [
    "The `PolicyTrainer` class implements the training loop, collects the losses and rewards and provides some useful checkpointing functionality.\n",
    "The training loop will generate batches of episodes and train on them until either:\n",
    "- The average total reward from the last `running_mean_len` episodes is greater than the `target_reward`, OR\n",
    "- The number of generated episodes reached `max_episodes`.\n",
    "\n",
    "Most of this class is already implemented for you. "
   ]
  },
  {
   "cell_type": "markdown",
   "metadata": {},
   "source": [
    "**TODO**:\n",
    "1. Complete the training loop by implementing the `train_batch()` method of the `PolicyTrainer`.\n",
    "2. Tweak the hyperparameters in the `part1_pg_hyperparams()` function within the `hw4/answers.py` module as needed. You get some sane defaults."
   ]
  },
  {
   "cell_type": "markdown",
   "metadata": {},
   "source": [
    "Let's check whether our model is actually training.\n",
    "We'll try to reach a very low (bad) target reward, just as a sanity check to see that training works.\n",
    "Your model should be able to reach this target reward within a few batches.\n",
    "\n",
    "You can increase the target reward and use this block to manually tweak your model and hyperparameters a few times."
   ]
  },
  {
   "cell_type": "code",
   "execution_count": null,
   "metadata": {
    "pycharm": {
     "is_executing": false
    }
   },
   "outputs": [],
   "source": [
    "target_reward = -150 # VERY LOW target\n",
    "train_data = train_pg(target_reward=target_reward, seed=SEED, max_episodes=2000, running_mean_len=10)\n",
    "\n",
    "test.assertGreater(train_data['mean_reward'][-1], target_reward)"
   ]
  },
  {
   "cell_type": "markdown",
   "metadata": {},
   "source": [
    "### Experimenting with different losses"
   ]
  },
  {
   "cell_type": "markdown",
   "metadata": {},
   "source": [
    "We'll now run a few experiments to see the effect of diferent loss functions on the training dynamics. Namely, we'll try:\n",
    "1. Vanilla PG (`vpg`): No baseline, no entropy\n",
    "2. Baseline PG (`bpg`): Baseline, no entropy loss\n",
    "3. Entropy PG (`epg`): No baseline, with entropy loss\n",
    "3. Combined PG (`cpg`): Baseline, with entropy loss"
   ]
  },
  {
   "cell_type": "code",
   "execution_count": null,
   "metadata": {
    "pycharm": {
     "is_executing": false
    }
   },
   "outputs": [],
   "source": [
    "from collections import namedtuple\n",
    "from pprint import pprint\n",
    "import itertools as it\n",
    "\n",
    "\n",
    "ExpConfig = namedtuple('ExpConfig', ('name','baseline','entropy'))\n",
    "\n",
    "def exp_configs():\n",
    "    exp_names = ('vpg', 'epg', 'bpg', 'cpg')\n",
    "    z = zip(exp_names, it.product((False, True), (False, True)))\n",
    "    return (ExpConfig(n, b, e) for (n, (b, e)) in z)\n",
    "\n",
    "pprint(list(exp_configs()))"
   ]
  },
  {
   "cell_type": "markdown",
   "metadata": {},
   "source": [
    "We'll save the training data from each experiment for plotting."
   ]
  },
  {
   "cell_type": "code",
   "execution_count": null,
   "metadata": {
    "pycharm": {
     "is_executing": false
    }
   },
   "outputs": [],
   "source": [
    "import pickle\n",
    "\n",
    "def dump_training_data(data, filename):\n",
    "    os.makedirs(os.path.dirname(filename), exist_ok=True)\n",
    "    with open(filename, mode='wb') as file:\n",
    "        pickle.dump(data, file)\n",
    "        \n",
    "def load_training_data(filename):\n",
    "    with open(filename, mode='rb') as file:\n",
    "        return pickle.load(file)"
   ]
  },
  {
   "cell_type": "markdown",
   "metadata": {},
   "source": [
    "Let's run the experiments! We'll run each configuration for a fixed number of episodes so that we can compare them.\n",
    "\n",
    "Notes:\n",
    "1. Until your models start working, you can decrease the number of episodes for each experiment, or only run one experiment.\n",
    "2.  The results will be saved in a file. To re-run the experiments, you can set `force_run` to `True`."
   ]
  },
  {
   "cell_type": "code",
   "execution_count": null,
   "metadata": {
    "pycharm": {
     "is_executing": false
    }
   },
   "outputs": [],
   "source": [
    "import math\n",
    "\n",
    "exp_max_episodes = 4000\n",
    "\n",
    "results = {}\n",
    "training_data_filename = os.path.join('results', f'part1_exp.dat')\n",
    "\n",
    "# Set to True to force re-run (careful, will delete old experiment results)\n",
    "force_run = False\n",
    "\n",
    "# Skip running if results file exists.\n",
    "if os.path.isfile(training_data_filename) and not force_run:\n",
    "    print(f'=== results file {training_data_filename} exists, skipping experiments.')\n",
    "    results = load_training_data(training_data_filename)\n",
    "    \n",
    "else:\n",
    "    for n, b, e in exp_configs():\n",
    "        print(f'=== Experiment {n}')\n",
    "        results[n] = train_pg(baseline=b, entropy=e, max_episodes=exp_max_episodes, post_batch_fn=None)\n",
    "        \n",
    "    dump_training_data(results, training_data_filename)"
   ]
  },
  {
   "cell_type": "code",
   "execution_count": null,
   "metadata": {
    "pycharm": {
     "is_executing": false
    }
   },
   "outputs": [],
   "source": [
    "def plot_experiment_results(results, fig=None):\n",
    "    if fig is None:\n",
    "        fig, _ = plt.subplots(nrows=2, ncols=2, sharex=True, figsize=(18,12))\n",
    "    for i, plot_type in enumerate(('loss_p', 'baseline', 'loss_e', 'mean_reward')):\n",
    "        ax = fig.axes[i]\n",
    "        for exp_name, exp_res in results.items():\n",
    "            if plot_type not in exp_res:\n",
    "                continue\n",
    "            ax.plot(exp_res['episode_num'], exp_res[plot_type], label=exp_name)\n",
    "        ax.set_title(plot_type)\n",
    "        ax.set_xlabel('episode')\n",
    "        ax.legend()\n",
    "    return fig\n",
    "    \n",
    "experiments_results_fig = plot_experiment_results(results)"
   ]
  },
  {
   "cell_type": "markdown",
   "metadata": {},
   "source": [
    "You should see positive training dynamics in the graphs (reward going up).\n",
    "If you don't, use them to further update your model or hyperparams.\n",
    "\n",
    "To pass the test, you'll need to get a best total mean reward of at least 10 in the fixed number of epochs using the combined loss.\n",
    "It's possible to get much higher (over 100)."
   ]
  },
  {
   "cell_type": "code",
   "execution_count": null,
   "metadata": {
    "pycharm": {
     "is_executing": false
    }
   },
   "outputs": [],
   "source": [
    "best_cpg_mean_reward = max(results['cpg']['mean_reward'])\n",
    "print(f'Best CPG mean reward: {best_cpg_mean_reward:.2f}')\n",
    "\n",
    "test.assertGreater(best_cpg_mean_reward, 10)"
   ]
  },
  {
   "cell_type": "markdown",
   "metadata": {},
   "source": [
    "Now let's take a look at a gameplay video of our `cpg` model after the short training!"
   ]
  },
  {
   "cell_type": "code",
   "execution_count": null,
   "metadata": {
    "pycharm": {
     "is_executing": false
    }
   },
   "outputs": [],
   "source": [
    "hp = hw4.answers.part1_pg_hyperparams()\n",
    "p_net_cpg = hw4pg.PolicyNet.build_for_env(env, **hp)\n",
    "p_net_cpg.load_state_dict(results['cpg']['model_state'])\n",
    "\n",
    "env, n_steps, reward = hw4pg.PolicyAgent.monitor_episode(ENV_NAME, p_net_cpg)\n",
    "print(f'{n_steps} steps, total reward: {reward:.2f}')\n",
    "show_monitor_video(env)"
   ]
  },
  {
   "cell_type": "markdown",
   "metadata": {},
   "source": [
    "## Advantage Actor-Critic (AAC)\n",
    "<a id=part1_2></a>"
   ]
  },
  {
   "cell_type": "markdown",
   "metadata": {},
   "source": [
    "We have seen that the policy-gradient loss can be interpreted as a log-likelihood of the policy term\n",
    "(selecting a specific action at a specific state), weighted by the future rewards of that choice of action.\n",
    "\n",
    "However, naïvely weighting by rewards has significant drawbacks in terms of the variance of the resulting gradient.\n",
    "We addressed this by adding a simple baseline term which represented our \"expected reward\" so that we increase probability of actions\n",
    "leading to trajectories which exceed this expectation and vice-versa.\n",
    "\n",
    "In this part we'll explore a more powerful baseline, which is the idea behind the AAC method."
   ]
  },
  {
   "cell_type": "markdown",
   "metadata": {},
   "source": [
    "### The advantage function"
   ]
  },
  {
   "cell_type": "markdown",
   "metadata": {},
   "source": [
    "Recall the definition of the state-value function $v_{\\pi}(s)$ and action-value function $q_{\\pi}(s,a)$:\n",
    "\n",
    "$$\n",
    "\\begin{align}\n",
    "v_{\\pi}(s) &= \\E{g(\\tau)|s_0 = s,\\pi} \\\\\n",
    "q_{\\pi}(s,a) &= \\E{g(\\tau)|s_0 = s,a_0=a,\\pi}.\n",
    "\\end{align}\n",
    "$$\n",
    "\n",
    "Both these functions represent the value of the state $s$. However, $v_\\pi$ averages over the first action according to the policy,\n",
    "while $q_\\pi$ fixes the first action and then continues according to the policy."
   ]
  },
  {
   "cell_type": "markdown",
   "metadata": {},
   "source": [
    "Their difference is known as the **advantage function**:\n",
    "$$\n",
    "a_\\pi(s,a) = q_\\pi(s,a)-v_\\pi(s).\n",
    "$$\n",
    "\n",
    "If $a_\\pi(s,a)>0$ it means that it's better (in expectation) to take action $a$ in state $s$ compared to the average action.\n",
    "In other words, $a_\\pi(s,a)$ represents the *advantage* of using action $a$ in state $s$ compared to the others."
   ]
  },
  {
   "cell_type": "markdown",
   "metadata": {},
   "source": [
    "So far we have used an estimate for $q_\\pi$ as our weighting term for the log-policy, with a fixed baseline per batch.\n",
    "\n",
    "$$\n",
    "\\hat\\grad\\mathcal{L}_{\\text{BPG}}(\\vec{\\theta})\n",
    "=-\\frac{1}{N}\\sum_{i=1}^{N}\\sum_{t\\geq0} \\left(\\hat{q}_{i,t}-b\\right) \\grad\\log \\pi_{\\vec{\\theta}}(a_{i,t}|s_{i,t}).\n",
    "$$\n"
   ]
  },
  {
   "cell_type": "markdown",
   "metadata": {},
   "source": [
    "Now, we will use the state value as a baseline, so that an estimate of the advantage function is our weighting term:\n",
    "\n",
    "$$\n",
    "\\hat\\grad\\mathcal{L}_{\\text{AAC}}(\\vec{\\theta})\n",
    "=-\\frac{1}{N}\\sum_{i=1}^{N}\\sum_{t\\geq0} \\left(\\hat{q}_{i,t}-v_\\pi(s_t)\\right) \\grad\\log \\pi_{\\vec{\\theta}}(a_{i,t}|s_{i,t}).\n",
    "$$\n",
    "\n",
    "Intuitively, using the advantage function makes sense because it means we're weighting our policy's actions according to\n",
    "how advantageous they are compared to other possible actions."
   ]
  },
  {
   "cell_type": "markdown",
   "metadata": {},
   "source": [
    "But how will we know $v_\\pi(s)$? We'll learn it of course, using another neural network.\n",
    "This is known as actor-critic learning. We simultaneously learn the policy (actor) and the value of states (critic).\n",
    "We'll treat it as a regression task: given a state $s_t$, our state-value network will output $\\hat{v}_\\pi(s_t)$,\n",
    "an estimate of the actual unknown state-value.\n",
    "Our regression targets will be the discounted rewards, $\\hat{q}_{i,t}$ (see question 2),\n",
    "and we can use a simple MSE as the loss function,\n",
    "$$\n",
    "\\mathcal{L}_{\\text{SV}} = \\frac{1}{N}\\sum_{i=1}^{N}\\sum_{t\\geq0}\\left(\\hat{v}_\\pi(s_t) - \\hat{q}_{i,t}\\right)^2.\n",
    "$$\n"
   ]
  },
  {
   "cell_type": "markdown",
   "metadata": {},
   "source": [
    "### Implementation"
   ]
  },
  {
   "cell_type": "markdown",
   "metadata": {},
   "source": [
    "We'll build heavily on our implementation of the regular policy-gradient method, and just add a new model class and a new loss class, with a small modification to the agent."
   ]
  },
  {
   "cell_type": "markdown",
   "metadata": {},
   "source": [
    "Let's start with the model. It will accept a state, and return action scores (as before), but also the value of that state.\n",
    "You can experiment with a dual-head network that has a shared base, or implement two separate parts within the network.\n",
    "\n",
    "**TODO**:\n",
    "1. Implement the model as the `AACPolicyNet` class in the `hw4/rl_ac.py` module.\n",
    "1. Set the hyperparameters in the `part1_aac_hyperparams()` function of the `hw4.answers` module."
   ]
  },
  {
   "cell_type": "code",
   "execution_count": null,
   "metadata": {
    "pycharm": {
     "is_executing": false
    }
   },
   "outputs": [],
   "source": [
    "import hw4.rl_ac as hw4ac\n",
    "\n",
    "hp = hw4.answers.part1_aac_hyperparams()\n",
    "pv_net = hw4ac.AACPolicyNet.build_for_env(env, device, **hp)\n",
    "pv_net"
   ]
  },
  {
   "cell_type": "markdown",
   "metadata": {},
   "source": [
    "**TODO**: Complete the implementation of the agent class, `AACPolicyAgent`, in the `hw4/rl_ac.py` module."
   ]
  },
  {
   "cell_type": "code",
   "execution_count": null,
   "metadata": {
    "pycharm": {
     "is_executing": false
    }
   },
   "outputs": [],
   "source": [
    "agent = hw4ac.AACPolicyAgent(env, pv_net, device)\n",
    "exp = agent.step()\n",
    "\n",
    "test.assertIsInstance(exp, hw4pg.Experience)\n",
    "print(exp)"
   ]
  },
  {
   "cell_type": "markdown",
   "metadata": {},
   "source": [
    "**TODO**: Implement the AAC loss function as the class `AACPolicyGradientLoss` in the `hw4/rl_ac.py` module."
   ]
  },
  {
   "cell_type": "code",
   "execution_count": null,
   "metadata": {
    "pycharm": {
     "is_executing": false
    }
   },
   "outputs": [],
   "source": [
    "loss_fn_aac = hw4ac.AACPolicyGradientLoss(delta=1.)\n",
    "test_state_values = torch.ones(test_action_scores.shape[0], 1)\n",
    "loss_t, _ = loss_fn_aac(test_batch, (test_action_scores, test_state_values))\n",
    "\n",
    "print('loss_t =', loss_t)\n",
    "test.assertAlmostEqual(loss_t.item(), 975.230895, delta=1e-3)"
   ]
  },
  {
   "cell_type": "markdown",
   "metadata": {},
   "source": [
    "### Experimentation"
   ]
  },
  {
   "cell_type": "markdown",
   "metadata": {},
   "source": [
    "Let's run the same experiment as before, but with the AAC method and compare the results."
   ]
  },
  {
   "cell_type": "code",
   "execution_count": null,
   "metadata": {
    "pycharm": {
     "is_executing": false
    }
   },
   "outputs": [],
   "source": [
    "def train_aac(baseline=False, entropy=False, **train_kwargs):\n",
    "    hp = hw4.answers.part1_aac_hyperparams()\n",
    "    loss_fns = [hw4ac.AACPolicyGradientLoss(hp['delta']), hw4pg.ActionEntropyLoss(ENV_N_ACTIONS, hp['beta'])]\n",
    "    return train_rl(hw4ac.AACPolicyAgent, hw4ac.AACPolicyNet, loss_fns, hp, **train_kwargs)"
   ]
  },
  {
   "cell_type": "code",
   "execution_count": null,
   "metadata": {
    "pycharm": {
     "is_executing": false
    }
   },
   "outputs": [],
   "source": [
    "training_data_filename = os.path.join('results', f'part1_exp_aac.dat')\n",
    "\n",
    "# Set to True to force re-run (careful, will delete old experiment results)\n",
    "force_run = False\n",
    "\n",
    "if os.path.isfile(training_data_filename) and not force_run:\n",
    "    print(f'=== results file {training_data_filename} exists, skipping experiments.')\n",
    "    results_aac = load_training_data(training_data_filename)\n",
    "    \n",
    "else:\n",
    "    print(f'=== Running AAC experiment')\n",
    "    training_data = train_aac(max_episodes=exp_max_episodes)\n",
    "    results_aac = dict(aac=training_data)\n",
    "    dump_training_data(results_aac, training_data_filename)"
   ]
  },
  {
   "cell_type": "code",
   "execution_count": null,
   "metadata": {
    "pycharm": {
     "is_executing": false
    }
   },
   "outputs": [],
   "source": [
    "experiments_results_fig = plot_experiment_results(results)\n",
    "plot_experiment_results(results_aac, fig=experiments_results_fig);"
   ]
  },
  {
   "cell_type": "markdown",
   "metadata": {},
   "source": [
    "You should get better results with the AAC method, so this time the bar is higher (again, you should aim for a mean reward of 100+).\n",
    "Compare the graphs with combined PG method and see if they make sense."
   ]
  },
  {
   "cell_type": "code",
   "execution_count": null,
   "metadata": {
    "pycharm": {
     "is_executing": false
    }
   },
   "outputs": [],
   "source": [
    "best_aac_mean_reward = max(results_aac['aac']['mean_reward'])\n",
    "print(f'Best AAC mean reward: {best_aac_mean_reward:.2f}')\n",
    "\n",
    "test.assertGreater(best_aac_mean_reward, 50)"
   ]
  },
  {
   "cell_type": "markdown",
   "metadata": {},
   "source": [
    "### Final model training and visualization"
   ]
  },
  {
   "cell_type": "markdown",
   "metadata": {},
   "source": [
    "Now, using your best model and hyperparams, let's train model for much longer and see the performance.\n",
    "Just for fun, we'll also visualize an episode every now and then so that we can see how well the agent is playing."
   ]
  },
  {
   "cell_type": "markdown",
   "metadata": {},
   "source": [
    "**TODO**:\n",
    "- Run the following block to train.\n",
    "- Tweak model or hyperparams as necessary.\n",
    "- Aim for high mean reward, at least 150+. It's possible to get over 200.\n",
    "- When training is done and you're satisfied with the model's outputs, rename the checkpoint file by adding `_final` to the file name.\n",
    "  This will cause the block to skip training and instead load your saved model when running the homework submission script.\n",
    "  Note that your submission zip file will not include the checkpoint file. This is OK."
   ]
  },
  {
   "cell_type": "code",
   "execution_count": null,
   "metadata": {
    "pycharm": {
     "is_executing": false
    }
   },
   "outputs": [],
   "source": [
    "import IPython.display\n",
    "\n",
    "CHECKPOINTS_FILE = f'checkpoints/{ENV_NAME}-ac.dat'\n",
    "CHECKPOINTS_FILE_FINAL = f'checkpoints/{ENV_NAME}-ac_final.dat'\n",
    "TARGET_REWARD = 125\n",
    "MAX_EPISODES = 15_000\n",
    "\n",
    "def post_batch_fn(batch_idx, p_net, batch, print_every=20, final=False):\n",
    "    if not final and batch_idx % print_every != 0:\n",
    "        return\n",
    "    env, n_steps, reward = hw4ac.AACPolicyAgent.monitor_episode(ENV_NAME, p_net)\n",
    "    html = show_monitor_video(env, width=\"500\")\n",
    "    IPython.display.clear_output(wait=True)\n",
    "    print(f'Monitor@#{batch_idx}: n_steps={n_steps}, total_reward={reward:.3f}, final={final}')\n",
    "    IPython.display.display_html(html)\n",
    "    \n",
    "    \n",
    "if os.path.isfile(CHECKPOINTS_FILE_FINAL):\n",
    "    print(f'=== {CHECKPOINTS_FILE_FINAL} exists, skipping training...')\n",
    "    checkpoint_data = torch.load(CHECKPOINTS_FILE_FINAL)\n",
    "    hp = hw4.answers.part1_aac_hyperparams()\n",
    "    pv_net = hw4ac.AACPolicyNet.build_for_env(env, **hp)\n",
    "    pv_net.load_state_dict(checkpoint_data['params'])\n",
    "    print(f'=== Running best model...')\n",
    "    env, n_steps, reward = hw4ac.AACPolicyAgent.monitor_episode(ENV_NAME, pv_net)\n",
    "    print(f'=== Best model ran for {n_steps} steps. Total reward: {reward:.2f}')\n",
    "    IPython.display.display_html(show_monitor_video(env))\n",
    "    best_mean_reward = checkpoint_data[\"best_mean_reward\"]\n",
    "else:\n",
    "    print(f'=== Starting training...')\n",
    "    train_data = train_aac(TARGET_REWARD, max_episodes=MAX_EPISODES,\n",
    "                           seed=None, checkpoints_file=CHECKPOINTS_FILE, post_batch_fn=post_batch_fn)\n",
    "    print(f'=== Done, ', end='')\n",
    "    best_mean_reward = train_data[\"best_mean_reward\"][-1]\n",
    "    print(f'num_episodes={train_data[\"episode_num\"][-1]}, best_mean_reward={best_mean_reward:.1f}')\n",
    "          \n",
    "test.assertGreaterEqual(best_mean_reward, TARGET_REWARD)"
   ]
  },
  {
   "cell_type": "markdown",
   "metadata": {},
   "source": [
    "## Questions\n",
    "<a id=part1_3></a>"
   ]
  },
  {
   "cell_type": "markdown",
   "metadata": {},
   "source": [
    "**TODO**: Answer the following questions. Write your answers in the appropriate variables in the module `hw4/answers.py`."
   ]
  },
  {
   "cell_type": "code",
   "execution_count": null,
   "metadata": {
    "pycharm": {
     "is_executing": false
    }
   },
   "outputs": [],
   "source": [
    "from cs236781.answers import display_answer\n",
    "import hw4.answers"
   ]
  },
  {
   "cell_type": "markdown",
   "metadata": {},
   "source": [
    "### Question 1\n",
    "\n",
    "Explain qualitatively why subtracting a baseline in the policy-gradient helps reduce it's variance.\n",
    "Specifically, give an example where it helps."
   ]
  },
  {
   "cell_type": "code",
   "execution_count": null,
   "metadata": {
    "pycharm": {
     "is_executing": false
    }
   },
   "outputs": [],
   "source": [
    "display_answer(hw4.answers.part1_q1)"
   ]
  },
  {
   "cell_type": "markdown",
   "metadata": {},
   "source": [
    "### Question 2\n",
    "\n",
    "In AAC, when using the estimated q-values as regression targets for our state-values, why do we get a valid approximation?\n",
    "Hint: how is $v_\\pi(s)$ expressed in terms of $q_\\pi(s,a)$?"
   ]
  },
  {
   "cell_type": "code",
   "execution_count": null,
   "metadata": {
    "pycharm": {
     "is_executing": false
    }
   },
   "outputs": [],
   "source": [
    "display_answer(hw4.answers.part1_q2)"
   ]
  },
  {
   "cell_type": "markdown",
   "metadata": {},
   "source": [
    "### Question 3\n",
    "\n",
    "1. Analyze and explain the graphs you got in first experiment run.\n",
    "2. Compare the experiment graphs you got with the AAC method to the regular PG method (`cpg`)."
   ]
  },
  {
   "cell_type": "code",
   "execution_count": null,
   "metadata": {
    "pycharm": {
     "is_executing": false
    }
   },
   "outputs": [],
   "source": [
    "display_answer(hw4.answers.part1_q3)"
   ]
  }
 ],
 "metadata": {
  "kernelspec": {
   "display_name": "Python 3",
   "language": "python",
   "name": "python3"
  },
  "language_info": {
   "codemirror_mode": {
    "name": "ipython",
    "version": 3
   },
   "file_extension": ".py",
   "mimetype": "text/x-python",
   "name": "python",
   "nbconvert_exporter": "python",
   "pygments_lexer": "ipython3",
   "version": "3.7.4"
  },
  "pycharm": {
   "stem_cell": {
    "cell_type": "raw",
    "metadata": {
     "collapsed": false
    },
    "source": []
   }
  }
 },
 "nbformat": 4,
 "nbformat_minor": 4
}
