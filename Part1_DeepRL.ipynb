{
 "cells": [
  {
   "cell_type": "markdown",
   "metadata": {},
   "source": [
    "$$\n",
    "\\newcommand{\\mat}[1]{\\boldsymbol {#1}}\n",
    "\\newcommand{\\mattr}[1]{\\boldsymbol {#1}^\\top}\n",
    "\\newcommand{\\matinv}[1]{\\boldsymbol {#1}^{-1}}\n",
    "\\newcommand{\\vec}[1]{\\boldsymbol {#1}}\n",
    "\\newcommand{\\vectr}[1]{\\boldsymbol {#1}^\\top}\n",
    "\\newcommand{\\rvar}[1]{\\mathrm {#1}}\n",
    "\\newcommand{\\rvec}[1]{\\boldsymbol{\\mathrm{#1}}}\n",
    "\\newcommand{\\diag}{\\mathop{\\mathrm {diag}}}\n",
    "\\newcommand{\\set}[1]{\\mathbb {#1}}\n",
    "\\newcommand{\\cset}[1]{\\mathcal{#1}}\n",
    "\\newcommand{\\norm}[1]{\\left\\lVert#1\\right\\rVert}\n",
    "\\newcommand{\\pderiv}[2]{\\frac{\\partial #1}{\\partial #2}}\n",
    "\\newcommand{\\bb}[1]{\\boldsymbol{#1}}\n",
    "\\newcommand{\\E}[2][]{\\mathbb{E}_{#1}\\left[#2\\right]}\n",
    "\\newcommand{\\ip}[3]{\\left<#1,#2\\right>_{#3}}\n",
    "\\newcommand{\\given}[]{\\,\\middle\\vert\\,}\n",
    "\\newcommand{\\DKL}[2]{\\cset{D}_{\\text{KL}}\\left(#1\\,\\Vert\\, #2\\right)}\n",
    "\\newcommand{\\grad}[]{\\nabla}\n",
    "$$\n",
    "# Part 1: Deep Reinforcement Learning\n",
    "<a id=part1></a>"
   ]
  },
  {
   "cell_type": "markdown",
   "metadata": {},
   "source": [
    "In the tutorial we have seen value-based reinforcement learning, in which we learn to approximate the action-value function $q(s,a)$.\n",
    "\n",
    "In this exercise we'll explore a different approach, directly learning the agent's policy distribution, $\\pi(a|s)$\n",
    "by using *policy gradients*, in order to safely land on the moon!"
   ]
  },
  {
   "cell_type": "code",
   "execution_count": 23,
   "metadata": {
    "pycharm": {
     "is_executing": false
    }
   },
   "outputs": [
    {
     "name": "stdout",
     "output_type": "stream",
     "text": [
      "The autoreload extension is already loaded. To reload it, use:\n",
      "  %reload_ext autoreload\n"
     ]
    }
   ],
   "source": [
    "%load_ext autoreload\n",
    "%autoreload 2\n",
    "%matplotlib inline\n",
    "\n",
    "import unittest\n",
    "import os\n",
    "import sys\n",
    "import pathlib\n",
    "import urllib\n",
    "import shutil\n",
    "import re\n",
    "\n",
    "import numpy as np\n",
    "import torch\n",
    "import torch.nn as nn\n",
    "import torch.optim as optim\n",
    "import matplotlib.pyplot as plt"
   ]
  },
  {
   "cell_type": "code",
   "execution_count": 24,
   "metadata": {
    "pycharm": {
     "is_executing": false
    }
   },
   "outputs": [
    {
     "name": "stdout",
     "output_type": "stream",
     "text": [
      "Using device: cpu\n"
     ]
    }
   ],
   "source": [
    "test = unittest.TestCase()\n",
    "plt.rcParams.update({'font.size': 12})\n",
    "device = torch.device('cuda' if torch.cuda.is_available() else 'cpu')\n",
    "\n",
    "# Prefer CPU, GPU won't help much in this assignment\n",
    "device = 'cpu'\n",
    "print('Using device:', device)\n",
    "\n",
    "# Seed for deterministic tests\n",
    "SEED = 42"
   ]
  },
  {
   "cell_type": "markdown",
   "metadata": {},
   "source": [
    "Some technical notes before we begin:\n",
    "\n",
    "- This part does not require a GPU. We won't need large models, and the computation bottleneck will be the generation of episodes to train on.\n",
    "- In order to run this notebook on the server, you must prepend the `xvfb-run` command to create a virtual screen. For example,\n",
    "    - to run the jupyter lab script with `srun` do\n",
    "        ```\n",
    "        srun -c2 --gres=gpu:1 xvfb-run -a -s \"-screen 0 1440x900x24\" ./jupyter-lab.sh\n",
    "        ```\n",
    "    - To run the submission script, do\n",
    "        ```\n",
    "        srun -c2 xvfb-run -a -s \"-screen 0 1440x900x24\" python main.py prepare-submission ...\n",
    "        ```\n",
    "    and so on.\n",
    "- The OpenAI `gym` library is not officially supported on windows. However it should be possible to install and run the necessary environment for this exercise. However, we cannot provide you with technical support for this. If you have trouble installing locally, we suggest running on the course server."
   ]
  },
  {
   "cell_type": "markdown",
   "metadata": {},
   "source": [
    "## Policy gradients\n",
    "<a id=part1_1></a>"
   ]
  },
  {
   "cell_type": "markdown",
   "metadata": {},
   "source": [
    "Recall from the tutorial that we define the **policy** of an agent as the conditional distribution,\n",
    "$$\n",
    "\\pi(a|s) = \\Pr(a_t=a\\vert s_t=s),\n",
    "$$\n",
    "which defines how likely the agent is to take action $a$ at state $s$.\n",
    "\n",
    "Furthermore we define the action-value function,\n",
    "$$\n",
    "q_{\\pi}(s,a) = \\E{g_t(\\tau)|s_t = s,a_t=a,\\pi}\n",
    "$$\n",
    "where \n",
    "$$\n",
    "g_t(\\tau) = r_{t+1}+\\gamma r_{t+2} + \\dots = \\sum_{k=0}^{\\infty} \\gamma^k r_{t+1+k},\n",
    "$$\n",
    "is the total discounted reward of a specific trajectory $\\tau$ from time $t$, and the expectation in $q$ is over all possible\n",
    "trajectories,\n",
    "$\n",
    "\\tau=\\left\\{ (s_0,a_0,r_1,s_1), \\dots (s_T,a_T,r_{T+1},s_{T+1}) \\right\\}.\n",
    "$"
   ]
  },
  {
   "cell_type": "markdown",
   "metadata": {},
   "source": [
    "In the tutorial we saw that we can learn a value function starting with some random function and\n",
    "updating it iteratively by using the **Bellman optimality equation**.\n",
    "Given that we have some action-value function, we can immediately create a policy based on that\n",
    "by simply selecting an action which maximize the action-value at the current state, i.e.\n",
    "$$\n",
    "\\pi(a|s) =\n",
    "\\begin{cases}\n",
    "1, & a = \\arg\\max_{a'\\in\\cset{A}} q(s,a') \\\\\n",
    "0, & \\text{else}\n",
    "\\end{cases}.\n",
    "$$\n",
    "This is called $q$-learning. This approach aims to obtain a policy indirectly through the action-value function.\n",
    "Yet, in most cases we don't actually care about knowing the value of particular states,\n",
    "since all we need is a good policy for our agent. \n",
    "\n",
    "Here we'll take a different approach and learn a policy distribution $\\pi(a|s)$ directly - by using **policy gradients**."
   ]
  },
  {
   "cell_type": "markdown",
   "metadata": {},
   "source": [
    "### Formalism"
   ]
  },
  {
   "cell_type": "markdown",
   "metadata": {},
   "source": [
    "We define a parametric policy, $\\pi_\\vec{\\theta}(a|s)$, and maximize total discounted reward (or minimize the negative reward):\n",
    "$$\n",
    "\\mathcal{L}(\\vec{\\theta})=\\E[\\tau]{-g(\\tau)|\\pi_\\vec{\\theta}} = -\\int g(\\tau)p(\\tau|\\vec{\\theta})d\\tau,\n",
    "$$\n",
    "where $p(\\tau|\\vec{\\theta})$ is the probability of a specific trajectory $\\tau$ under the policy defined by $\\vec{\\theta}$.\n"
   ]
  },
  {
   "cell_type": "markdown",
   "metadata": {},
   "source": [
    "Since we want to find the parameters $\\vec{\\theta}$ which minimize $\\mathcal{L}(\\vec{\\theta})$, we'll compute the gradient w.r.t. $\\vec{\\theta}$:\n",
    "$$\n",
    "\\grad\\mathcal{L}(\\vec{\\theta}) = -\\int g(\\tau)\\grad p(\\tau|\\vec{\\theta})d\\tau.\n",
    "$$\n",
    "\n",
    "Unfortunately, if we try to write $p(\\tau|\\vec{\\theta})$ explicitly,\n",
    "we find that computing it's gradient with respect to $\\vec{\\theta}$ is\n",
    "quite intractable due to a huge product of terms depending on $\\vec{\\theta}$:\n",
    "$$\n",
    "p(\\tau|\\vec{\\theta})=p\\left(\\left\\{ (s_t,a_t,r_{t+1},s_{t+1})\\right\\}_{t\\geq0}\\given\\vec{\\theta}\\right)\n",
    "=p(s_0)\\prod_{t\\geq0} \\pi_{\\vec{\\theta}}(a_t|s_t)p(s_{t+1}|s_t,a_t).\n",
    "$$"
   ]
  },
  {
   "cell_type": "markdown",
   "metadata": {},
   "source": [
    "However, by using the fact that $\\grad_{x}\\log(f(x))=\\frac{\\grad_{x}f(x)}{f(x)}$, we can convert the product into a sum:\n",
    "$$\n",
    "\\begin{align}\n",
    "\\grad\\mathcal{L}(\\vec{\\theta})\n",
    "&= -\\int g(\\tau)\\grad p(\\tau|\\vec{\\theta})d\\tau\n",
    "= -\\int g(\\tau)\\frac{\\grad p(\\tau|\\vec{\\theta})}{p(\\tau|\\vec{\\theta})}p(\\tau|\\vec{\\theta})d\\tau \\\\\n",
    "&= -\\int g(\\tau)\\grad\\log\\left(p(\\tau|\\vec{\\theta})\\right)p(\\tau|\\vec{\\theta})d\\tau \\\\\n",
    "&= -\\int g(\\tau)\\grad\\log\\left( p(s_0)\\prod_{t\\geq0} \\pi_{\\vec{\\theta}}(a_t|s_t)p(s_{t+1}|s_t,a_t) \\right)\n",
    "p(\\tau|\\vec{\\theta})d\\tau \\\\\n",
    "&= -\\int g(\\tau)\\grad\\left( \\log p(s_0) + \\sum_{t\\geq0} \\log \\pi_{\\vec{\\theta}}(a_t|s_t) + \n",
    "\\sum_{t\\geq0}\\log p(s_{t+1}|s_t,a_t) \\right) p(\\tau|\\vec{\\theta})d\\tau \\\\\n",
    "&= -\\int g(\\tau)\\sum_{t\\geq0} \\grad\\log \\pi_{\\vec{\\theta}}(a_t|s_t) p(\\tau|\\vec{\\theta})d\\tau \\\\\n",
    "&= \\E[\\tau]{-g(\\tau)\\sum_{t\\geq0} \\grad\\log \\pi_{\\vec{\\theta}}(a_t|s_t)}.\n",
    "\\end{align}\n",
    "$$"
   ]
  },
  {
   "cell_type": "markdown",
   "metadata": {},
   "source": [
    "This is the \"vanilla\" version of the policy gradient. We can interpret is as a weighted log-likelihood function.\n",
    "The log-policy is the log-likelihood term we wish to maximize and the total discounted reward acts as a weight: high-return positive\n",
    "trajectories will cause the probability of actions taken during them to increase, and negative-return trajectories will cause the\n",
    "probabilities of actions taken to decrease.\n",
    "\n",
    "In the following figures we see three trajectories: high-return positive-reward (green), low-return positive-reward (yellow) and negative-return (red) and the action probabilities along the trajectories after the update. Credit: Sergey Levine.\n",
    "\n",
    "|<strong></strong>||\n",
    "|-----| ----|\n",
    "|<img src=\"imgs/pg1.png\" height=\"200\">|<img src=\"imgs/pg2.png\" height=\"200\">|\n"
   ]
  },
  {
   "cell_type": "markdown",
   "metadata": {},
   "source": [
    "The major drawback of the policy-gradient is it's high variance, which causes erratic optimization behavior and therefore slow convergence.\n",
    "One reason for this is that the log-policy weight term, $g(\\tau)$ can vary wildly between different trajectories, even if they're similar in\n",
    "actions. Later on we'll implement the loss and explore some methods of variance reduction."
   ]
  },
  {
   "cell_type": "markdown",
   "metadata": {},
   "source": [
    "### Landing on the moon with policy gradients"
   ]
  },
  {
   "cell_type": "markdown",
   "metadata": {},
   "source": [
    "In the spirit of the recent achievements of the Israeli space industry,\n",
    "we'll apply our reinforcement learning skills to solve a simple game called **LunarLander**.\n",
    "\n",
    "This game is available as an `environment` in OpenAI `gym`.\n",
    "\n",
    "<video loop autoplay src=\"http://gym.openai.com/videos/2019-04-06--My9IiAbqha/LunarLander-v2/original.mp4\" />"
   ]
  },
  {
   "cell_type": "markdown",
   "metadata": {},
   "source": [
    "In this environment, you need to control the lander and get it to land safely on the moon.\n",
    "To do so, you must apply bottom, right or left thrusters (each are either fully on or fully off)\n",
    "and get it to land within the designated zone as quickly as possible and with minimal wasted fuel."
   ]
  },
  {
   "cell_type": "code",
   "execution_count": 25,
   "metadata": {
    "pycharm": {
     "is_executing": false
    }
   },
   "outputs": [],
   "source": [
    "import gym\n",
    "\n",
    "# Just for fun :) ... but also to re-define the default max number of steps\n",
    "ENV_NAME = 'Beresheet-v2'\n",
    "MAX_EPISODE_STEPS = 300\n",
    "if ENV_NAME not in gym.envs.registry.env_specs:\n",
    "    gym.register(\n",
    "        id=ENV_NAME,\n",
    "        entry_point='gym.envs.box2d:LunarLander',\n",
    "        max_episode_steps=MAX_EPISODE_STEPS,\n",
    "        reward_threshold=200,\n",
    "    )"
   ]
  },
  {
   "cell_type": "code",
   "execution_count": 26,
   "metadata": {
    "pycharm": {
     "is_executing": false
    }
   },
   "outputs": [
    {
     "name": "stdout",
     "output_type": "stream",
     "text": [
      "<TimeLimit<LunarLander<Beresheet-v2>>>\n",
      "observations space: Box(8,)\n",
      "action space: Discrete(4)\n"
     ]
    }
   ],
   "source": [
    "import gym\n",
    "\n",
    "env = gym.make(ENV_NAME)\n",
    "\n",
    "print(env)\n",
    "print(f'observations space: {env.observation_space}')\n",
    "print(f'action space: {env.action_space}')\n",
    "\n",
    "ENV_N_ACTIONS = env.action_space.n\n",
    "ENV_N_OBSERVATIONS = env.observation_space.shape[0]"
   ]
  },
  {
   "cell_type": "markdown",
   "metadata": {},
   "source": [
    "The observations at each step is the Lander's position, velocity, angle, angular velocity and ground contact state.\n",
    "The actions are no-op, fire left truster, bottom thruster and right thruster.\n",
    "\n",
    "You are **highly encouraged** to read the [documentation](https://github.com/openai/gym/blob/master/gym/envs/box2d/lunar_lander.py) in the source code of the `LunarLander` environment to understand the reward system,\n",
    "and see how the actions and observations are created."
   ]
  },
  {
   "cell_type": "markdown",
   "metadata": {},
   "source": [
    "### Policy network and Agent"
   ]
  },
  {
   "cell_type": "markdown",
   "metadata": {},
   "source": [
    "Let's start with our policy-model. This will be a simple neural net, which should take an observation and return a score for each possible action."
   ]
  },
  {
   "cell_type": "markdown",
   "metadata": {},
   "source": [
    "**TODO**:\n",
    "1. Implement all methods in the `PolicyNet` class in the `hw4/rl_pg.py` module.\n",
    "   Start small. A simple MLP with a few hidden layers is a good starting point. You can come back and change it later based on the the experiments. The we'll use the `build_for_env` method to instantiate a `PolicyNet` based on the configuration of a given environment.\n",
    "2. If you need hyperparameters to configure your model (e.g. number of hidden layers, sizes, etc.), add them in `part1_pg_hyperparams()` in `hw4/answers.py`."
   ]
  },
  {
   "cell_type": "code",
   "execution_count": 27,
   "metadata": {
    "pycharm": {
     "is_executing": false
    }
   },
   "outputs": [
    {
     "data": {
      "text/plain": [
       "PolicyNet(\n",
       "  (our_net): Sequential(\n",
       "    (0): Linear(in_features=8, out_features=4, bias=True)\n",
       "    (1): LogSoftmax()\n",
       "  )\n",
       ")"
      ]
     },
     "execution_count": 27,
     "metadata": {},
     "output_type": "execute_result"
    }
   ],
   "source": [
    "import hw4.rl_pg as hw4pg\n",
    "import hw4.answers\n",
    "\n",
    "hp = hw4.answers.part1_pg_hyperparams()\n",
    "\n",
    "# You can add keyword-args to this function which will be populated from the hyperparameters dict.\n",
    "p_net = hw4pg.PolicyNet.build_for_env(env, device, **hp)\n",
    "p_net"
   ]
  },
  {
   "cell_type": "markdown",
   "metadata": {},
   "source": [
    "Now we need an **agent**. The purpose of our agent will be to act according to the current policy and generate experiences.\n",
    "Our `PolicyAgent` will use a `PolicyNet` as the current policy function.\n",
    "\n",
    "\n",
    "We'll also define some extra datatypes to help us represent the data generated by our agent.\n",
    "You can find the `Experience`, `Episode` and `TrainBatch` datatypes in the `hw4/rl_data.py` module."
   ]
  },
  {
   "cell_type": "markdown",
   "metadata": {},
   "source": [
    "**TODO**: Implement the `current_action_distribution()` method of the `PolicyAgent` class in the `hw4/rl_pg.py` module."
   ]
  },
  {
   "cell_type": "code",
   "execution_count": 28,
   "metadata": {
    "pycharm": {
     "is_executing": false
    }
   },
   "outputs": [
    {
     "name": "stdout",
     "output_type": "stream",
     "text": [
      "tensor([0.3047, 0.2966, 0.1498, 0.2490])\n"
     ]
    }
   ],
   "source": [
    "for i in range (10):\n",
    "    agent = hw4pg.PolicyAgent(env, p_net, device)\n",
    "    d = agent.current_action_distribution()\n",
    "    test.assertSequenceEqual(d.shape, (env.action_space.n,))\n",
    "    test.assertAlmostEqual(d.sum(), 1.0, delta=1e-5)\n",
    "    \n",
    "print(d)"
   ]
  },
  {
   "cell_type": "markdown",
   "metadata": {},
   "source": [
    "**TODO**: Implement the `step()` method of the `PolicyAgent`."
   ]
  },
  {
   "cell_type": "code",
   "execution_count": 29,
   "metadata": {
    "pycharm": {
     "is_executing": false
    }
   },
   "outputs": [
    {
     "name": "stdout",
     "output_type": "stream",
     "text": [
      "Experience(state=array([-0.00353298,  1.4047396 , -0.18332218, -0.15043235,  0.0055446 ,\n",
      "        0.07054631,  0.        ,  0.        ], dtype=float32), action=1, reward=-2.2321592991093824, is_done=False)\n"
     ]
    }
   ],
   "source": [
    "agent = hw4pg.PolicyAgent(env, p_net, device)\n",
    "exp = agent.step()\n",
    "\n",
    "test.assertIsInstance(exp, hw4pg.Experience)\n",
    "print(exp)"
   ]
  },
  {
   "cell_type": "markdown",
   "metadata": {},
   "source": [
    "To test our agent, we'll write some code that allows it to play an environment. We'll use the `Monitor`\n",
    "wrapper in `gym` to generate a video of the episode for visual debugging."
   ]
  },
  {
   "cell_type": "markdown",
   "metadata": {},
   "source": [
    "**TODO**: Complete the implementation of the `monitor_episode()` method of the `PolicyAgent`."
   ]
  },
  {
   "cell_type": "code",
   "execution_count": 30,
   "metadata": {
    "pycharm": {
     "is_executing": false
    }
   },
   "outputs": [
    {
     "name": "stderr",
     "output_type": "stream",
     "text": [
      "/home/nadavhalahmi/miniconda3/envs/cs236781-hw/lib/python3.7/site-packages/torch/nn/modules/container.py:92: UserWarning: Implicit dimension choice for log_softmax has been deprecated. Change the call to include dim=X as an argument.\n",
      "  input = module(input)\n"
     ]
    }
   ],
   "source": [
    "env, n_steps, reward = agent.monitor_episode(ENV_NAME, p_net, device=device)"
   ]
  },
  {
   "cell_type": "markdown",
   "metadata": {},
   "source": [
    "To display the Monitor video in this notebook, we'll use a helper function from our `jupyter_utils` and a small wrapper that extracts the path of the last video file. "
   ]
  },
  {
   "cell_type": "code",
   "execution_count": 31,
   "metadata": {
    "pycharm": {
     "is_executing": false
    }
   },
   "outputs": [],
   "source": [
    "import cs236781.jupyter_utils as jupyter_utils\n",
    "\n",
    "def show_monitor_video(monitor_env, idx=0, **kw):\n",
    "    # Extract video path\n",
    "    video_path = monitor_env.videos[idx][0]\n",
    "    video_path = os.path.relpath(video_path, start=os.path.curdir)\n",
    "    \n",
    "    # Use helper function to embed the video\n",
    "    return jupyter_utils.show_video_in_notebook(video_path, **kw)"
   ]
  },
  {
   "cell_type": "code",
   "execution_count": 32,
   "metadata": {
    "pycharm": {
     "is_executing": false
    }
   },
   "outputs": [
    {
     "name": "stdout",
     "output_type": "stream",
     "text": [
      "Episode ran for 102 steps. Total reward: -123.61\n"
     ]
    },
    {
     "data": {
      "text/html": [
       "<video src=\"data:video/mp4;base64,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\" controls autoplay width=\"500\" height=\"auto\" />"
      ],
      "text/plain": [
       "<IPython.core.display.HTML object>"
      ]
     },
     "execution_count": 32,
     "metadata": {},
     "output_type": "execute_result"
    }
   ],
   "source": [
    "print(f'Episode ran for {n_steps} steps. Total reward: {reward:.2f}')\n",
    "\n",
    "show_monitor_video(env, -1)"
   ]
  },
  {
   "cell_type": "markdown",
   "metadata": {},
   "source": [
    "### Training data"
   ]
  },
  {
   "cell_type": "markdown",
   "metadata": {},
   "source": [
    "The next step is to create data to train on.\n",
    "We need to train on batches of state-action pairs, so that our network can learn to predict the actions.\n",
    "\n",
    "We'll split this task into three parts:\n",
    "1. Generate a batch of `Episode`s, by using an `Agent` that's playing according to our current policy network.\n",
    "   Each `Episode` object contains the `Experience` objects created by the agent.\n",
    "2. Calculate the total discounted reward for each state we encountered and action we took. This is our action-value estimate.\n",
    "3. Convert the `Episode`s into a batch of tensors to train on.\n",
    "   Each batch will contain states, action taken per state, reward accrued, and the calculated estimated state-values.\n",
    "   These will be stored in a `TrainBatch` object.\n"
   ]
  },
  {
   "cell_type": "markdown",
   "metadata": {},
   "source": [
    "**TODO**: Complete the implementation of the `episode_batch_generator()` method in the `TrainBatchDataset` class within the `hw4.rl_data` module. This will address part 1 in the list above."
   ]
  },
  {
   "cell_type": "code",
   "execution_count": 33,
   "metadata": {
    "pycharm": {
     "is_executing": true
    }
   },
   "outputs": [
    {
     "name": "stdout",
     "output_type": "stream",
     "text": [
      "First episode: Episode(total_reward=-398.92, #experences=84)\n"
     ]
    }
   ],
   "source": [
    "import hw4.rl_data as hw4data\n",
    "\n",
    "def agent_fn():\n",
    "    env = gym.make(ENV_NAME)\n",
    "    hp = hw4.answers.part1_pg_hyperparams()\n",
    "    p_net = hw4pg.PolicyNet.build_for_env(env, device, **hp)\n",
    "    return hw4pg.PolicyAgent(env, p_net, device)\n",
    "    \n",
    "ds = hw4data.TrainBatchDataset(agent_fn, episode_batch_size=8, gamma=0.9)\n",
    "batch_gen = ds.episode_batch_generator()\n",
    "b = next(batch_gen)\n",
    "print('First episode:', b[0])\n",
    "\n",
    "test.assertEqual(len(b), 8)\n",
    "for ep in b:\n",
    "    test.assertIsInstance(ep, hw4data.Episode)\n",
    "    \n",
    "    # Check that it's a full episode\n",
    "    is_done = [exp.is_done for exp in ep.experiences]\n",
    "    test.assertFalse(any(is_done[0:-1]))\n",
    "    test.assertTrue(is_done[-1])"
   ]
  },
  {
   "cell_type": "markdown",
   "metadata": {},
   "source": [
    "**TODO**: Complete the implementation of the `calc_qvals()` method in the `Episode` class.\n",
    "This will address part 2.\n",
    "These q-values are an estimate of the actual action value function: $$\\hat{q}_{t} = \\sum_{t'\\geq t} \\gamma^{t'-t}r_{t'+1}.$$"
   ]
  },
  {
   "cell_type": "code",
   "execution_count": 34,
   "metadata": {
    "pycharm": {
     "is_executing": false
    }
   },
   "outputs": [],
   "source": [
    "np.random.seed(SEED)\n",
    "test_rewards = np.random.randint(-10, 10, 100)\n",
    "test_experiences = [hw4pg.Experience(None,None,r,False) for r in test_rewards] \n",
    "test_episode = hw4data.Episode(np.sum(test_rewards), test_experiences)\n",
    "\n",
    "qvals = test_episode.calc_qvals(0.9)\n",
    "qvals = list(qvals)\n",
    "\n",
    "expected_qvals = np.load(os.path.join('tests', 'assets', 'part1_expected_qvals.npy'))\n",
    "for i in range(len(test_rewards)):\n",
    "    test.assertAlmostEqual(expected_qvals[i], qvals[i], delta=1e-3)"
   ]
  },
  {
   "cell_type": "markdown",
   "metadata": {},
   "source": [
    "**TODO**: Complete the implementation of the `from_episodes()` method in the `TrainBatch` class.\n",
    "This will address part 3.\n",
    "\n",
    "Notes:\n",
    "- The `TrainBatchDataset` class provides a generator function that will use the above function to lazily generate batches of training samples and labels on demand.\n",
    "- This allows us to use a standard `PyTorch` dataloader to wrap our Dataset and provide us with parallel data loading for free!\n",
    "  This means we can run multiple environments with multiple agents in separate background processes to generate data for training and thus prevent the data loading bottleneck which is caused by the fact that we must generate full Episodes to train on in order to calculate the q-values.\n",
    "- We'll set the `DataLoader`'s `batch_size` to `None` because we have already implemented custom batching in our dataset."
   ]
  },
  {
   "cell_type": "code",
   "execution_count": 35,
   "metadata": {
    "pycharm": {
     "is_executing": false
    }
   },
   "outputs": [
    {
     "name": "stdout",
     "output_type": "stream",
     "text": [
      "#0: TrainBatch(states: torch.Size([703, 8]), actions: torch.Size([703]), q_vals: torch.Size([703])), num_episodes: 8)\n",
      "#1: TrainBatch(states: torch.Size([927, 8]), actions: torch.Size([927]), q_vals: torch.Size([927])), num_episodes: 8)\n",
      "#2: TrainBatch(states: torch.Size([787, 8]), actions: torch.Size([787]), q_vals: torch.Size([787])), num_episodes: 8)\n",
      "#3: TrainBatch(states: torch.Size([896, 8]), actions: torch.Size([896]), q_vals: torch.Size([896])), num_episodes: 8)\n",
      "#4: TrainBatch(states: torch.Size([790, 8]), actions: torch.Size([790]), q_vals: torch.Size([790])), num_episodes: 8)\n",
      "#5: TrainBatch(states: torch.Size([751, 8]), actions: torch.Size([751]), q_vals: torch.Size([751])), num_episodes: 8)\n",
      "#6: TrainBatch(states: torch.Size([776, 8]), actions: torch.Size([776]), q_vals: torch.Size([776])), num_episodes: 8)\n"
     ]
    }
   ],
   "source": [
    "from torch.utils.data import DataLoader\n",
    "\n",
    "ds = hw4data.TrainBatchDataset(agent_fn, episode_batch_size=8, gamma=0.9)\n",
    "dl = DataLoader(ds, batch_size=None, num_workers=2) # Run multiple agents/env in separate worker process\n",
    "\n",
    "\n",
    "for i, train_batch in enumerate(dl):\n",
    "    states, actions, qvals, reward_mean = train_batch\n",
    "    print(f'#{i}: {train_batch}')\n",
    "    test.assertEqual(states.shape[0], actions.shape[0])\n",
    "    test.assertEqual(qvals.shape[0], actions.shape[0])\n",
    "    test.assertEqual(states.shape[1], env.observation_space.shape[0])\n",
    "    if i > 5:\n",
    "        break"
   ]
  },
  {
   "cell_type": "markdown",
   "metadata": {},
   "source": [
    "### Loss functions"
   ]
  },
  {
   "cell_type": "markdown",
   "metadata": {},
   "source": [
    "As usual, we need a loss function to optimize over.\n",
    "We'll calculate three types of losses:\n",
    "1. The causal vanilla policy gradient loss.\n",
    "1. The policy gradient loss, with a baseline to reduce variance.\n",
    "2. An entropy-based loss whos purpose is to diversify the agent's action selection,\n",
    "   and prevent it from being \"too sure\" about its actions.\n",
    "   This loss will be used together with one of the above losses."
   ]
  },
  {
   "cell_type": "markdown",
   "metadata": {},
   "source": [
    "#### Causal vanilla policy-gradient"
   ]
  },
  {
   "cell_type": "markdown",
   "metadata": {},
   "source": [
    "We have derived the policy-gradient as\n",
    "$$\n",
    "\\grad\\mathcal{L}(\\vec{\\theta}) = \\E[\\tau]{-g(\\tau)\\sum_{t\\geq0} \\grad\\log \\pi_{\\vec{\\theta}}(a_t|s_t)}.\n",
    "$$\n",
    "\n",
    "By writing the discounted reward explicitly and enforcing causality, i.e. the action taken at time $t$ can't affect\n",
    "the reward at time $t'<t$, we can get a slightly lower-variance version of the policy gradient:\n",
    "\n",
    "$$\n",
    "\\grad\\mathcal{L}_{\\text{PG}}(\\vec{\\theta}) = \n",
    "\\E[\\tau]{-\\sum_{t\\geq0} \\left(\\sum_{t'\\geq t} \\gamma^{t'}r_{t'+1} \\right)\\grad\\log \\pi_{\\vec{\\theta}}(a_t|s_t)}.\n",
    "$$"
   ]
  },
  {
   "cell_type": "markdown",
   "metadata": {},
   "source": [
    "In practice, the expectation over trajectories is calculated using a Monte-Carlo approach, i.e. simply sampling $N$\n",
    "trajectories and average the term inside the expectation. Therefore, we will use the following estimated version of the policy gradient:\n",
    "\n",
    "$$\n",
    "\\begin{align}\n",
    "\\hat\\grad\\mathcal{L}_{\\text{PG}}(\\vec{\\theta})\n",
    "&=-\\frac{1}{N}\\sum_{i=1}^{N}\\sum_{t\\geq0} \\left(\\sum_{t'\\geq t} \\gamma^{t'}r_{i,t'+1} \\right)\\grad\\log \\pi_{\\vec{\\theta}}(a_{i,t}|s_{i,t}) \\\\\n",
    "&=-\\frac{1}{N}\\sum_{i=1}^{N}\\sum_{t\\geq0} \\hat{q}_{i,t} \\grad\\log \\pi_{\\vec{\\theta}}(a_{i,t}|s_{i,t}).\n",
    "\\end{align}\n",
    "$$\n",
    "\n",
    "Note the use of the notation $\\hat{q}_{i,t}$ to represent the estimated action-value at time $t$ in the sampled trajectory $i$.\n",
    "Here $\\hat{q}_{i,t}$ is acting as the weight-term for the policy gradient."
   ]
  },
  {
   "cell_type": "markdown",
   "metadata": {},
   "source": [
    "**TODO**: Complete the implementation of the `VanillaPolicyGradientLoss` class in the `hw4/rl_pg.py` module."
   ]
  },
  {
   "cell_type": "code",
   "execution_count": 36,
   "metadata": {
    "pycharm": {
     "is_executing": false
    }
   },
   "outputs": [
    {
     "name": "stdout",
     "output_type": "stream",
     "text": [
      "loss = tensor(-35.5355)\n"
     ]
    }
   ],
   "source": [
    "# Ensure deterministic run\n",
    "env = gym.make(ENV_NAME)\n",
    "env.seed(SEED)\n",
    "torch.manual_seed(SEED)\n",
    "\n",
    "def agent_fn():\n",
    "    # Use a simple \"network\" here, so that this test doesn't depend on your specific PolicyNet implementation\n",
    "    p_net_test = nn.Linear(8, 4)\n",
    "    agent = hw4pg.PolicyAgent(env, p_net_test)\n",
    "    return agent\n",
    "\n",
    "dataloader = hw4data.TrainBatchDataset(agent_fn, gamma=0.9, episode_batch_size=4)\n",
    "\n",
    "test_batch = next(iter(dataloader))\n",
    "test_action_scores = torch.randn(len(test_batch), env.action_space.n)\n",
    "\n",
    "loss_fn_p = hw4pg.VanillaPolicyGradientLoss()\n",
    "loss_p, _ = loss_fn_p(test_batch, test_action_scores)\n",
    "\n",
    "print('loss =', loss_p)\n",
    "test.assertAlmostEqual(loss_p.item(), -35.535522, delta=1e-3)"
   ]
  },
  {
   "cell_type": "markdown",
   "metadata": {},
   "source": [
    "#### Policy-gradient with baseline"
   ]
  },
  {
   "cell_type": "markdown",
   "metadata": {},
   "source": [
    "Another way to reduce the variance of our gradient is to use relative weighting of the log-policy instead of absolute reward values.\n",
    "$$\n",
    "\\hat\\grad\\mathcal{L}_{\\text{BPG}}(\\vec{\\theta})\n",
    "=-\\frac{1}{N}\\sum_{i=1}^{N}\\sum_{t\\geq0} \\left(\\hat{q}_{i,t}-b\\right) \\grad\\log \\pi_{\\vec{\\theta}}(a_{i,t}|s_{i,t}).\n",
    "$$\n",
    "In other words, we don't measure a trajectory's worth by it's total reward, but by how much better that total reward is relative to some\n",
    "expected (\"baseline\") reward value, denoted above by $b$.\n",
    "Note that subtracting a baseline has no effect on the expected value of the policy gradient. It's easy to prove this directly by definition.\n",
    "\n",
    "Here we'll implement a very simple baseline (not optimal in terms of variance reduction): the average of the estimated state-values $\\hat{q}_{i,t}$."
   ]
  },
  {
   "cell_type": "markdown",
   "metadata": {},
   "source": [
    "**TODO**: Complete the implementation of the `BaselinePolicyGradientLoss` class in the `hw4/rl_pg.py` module."
   ]
  },
  {
   "cell_type": "code",
   "execution_count": 37,
   "metadata": {
    "pycharm": {
     "is_executing": false
    }
   },
   "outputs": [
    {
     "name": "stdout",
     "output_type": "stream",
     "text": [
      "loss = tensor(-2.4665)\n"
     ]
    }
   ],
   "source": [
    "# Using the same batch and action_scores from above cell\n",
    "loss_fn_p = hw4pg.BaselinePolicyGradientLoss()\n",
    "loss_p, _ = loss_fn_p(test_batch, test_action_scores)\n",
    "\n",
    "print('loss =', loss_p)\n",
    "test.assertAlmostEqual(loss_p.item(), -2.4665009, delta=1e-3)"
   ]
  },
  {
   "cell_type": "markdown",
   "metadata": {},
   "source": [
    "#### Entropy loss"
   ]
  },
  {
   "cell_type": "markdown",
   "metadata": {},
   "source": [
    "The entropy of a probability distribution (in our case the policy), is\n",
    "$$\n",
    "H(\\pi) = -\\sum_{a} \\pi(a|s)\\log\\pi(a|s).\n",
    "$$\n",
    "The entropy is always positive and obtains it's maximum for a uniform distribution.\n",
    "We'll use the entropy of the policy as a bonus, i.e. we'll try to maximize it.\n",
    "The idea is the prevent the policy distribution from becoming too narrow and thus promote the agent's exploration."
   ]
  },
  {
   "cell_type": "markdown",
   "metadata": {},
   "source": [
    "First, we'll calculate the maximal possible entropy value of the action distribution for a set number of possible actions.\n",
    "This will be used as a normalization term.\n",
    "\n",
    "**TODO**: Complete the implementation of the `calc_max_entropy()` method in the `ActionEntropyLoss` class."
   ]
  },
  {
   "cell_type": "code",
   "execution_count": 38,
   "metadata": {
    "pycharm": {
     "is_executing": false
    }
   },
   "outputs": [
    {
     "name": "stdout",
     "output_type": "stream",
     "text": [
      "max_entropy =  tensor([1.3863])\n"
     ]
    }
   ],
   "source": [
    "loss_fn_e = hw4pg.ActionEntropyLoss(env.action_space.n)\n",
    "print('max_entropy = ', loss_fn_e.max_entropy)\n",
    "\n",
    "test.assertAlmostEqual(loss_fn_e.max_entropy, 1.38629436, delta=1e-3)"
   ]
  },
  {
   "cell_type": "markdown",
   "metadata": {},
   "source": [
    "**TODO**: Complete the implementation of the `forward()` method in the `ActionEntropyLoss` class."
   ]
  },
  {
   "cell_type": "code",
   "execution_count": 39,
   "metadata": {
    "pycharm": {
     "is_executing": false
    }
   },
   "outputs": [
    {
     "name": "stdout",
     "output_type": "stream",
     "text": [
      "loss =  tensor(-0.7927)\n"
     ]
    }
   ],
   "source": [
    "loss_e, _ = loss_fn_e(test_batch, test_action_scores)\n",
    "print('loss = ', loss_e)\n",
    "\n",
    "test.assertAlmostEqual(loss_e.item(), -0.7927002, delta=1e-3)"
   ]
  },
  {
   "cell_type": "markdown",
   "metadata": {},
   "source": [
    "### Training"
   ]
  },
  {
   "cell_type": "markdown",
   "metadata": {},
   "source": [
    "We'll implement our training procedure as follows:\n",
    "\n",
    "1. Initialize the current policy to be a random policy.\n",
    "1. Sample $N$ trajectories from the environment using the current policy.\n",
    "2. Calculate the estimated $q$-values, $\\hat{q}_{i,t} = \\sum_{t'\\geq t} \\gamma^{t'}r_{i,t'+1}$ for each trajectory $i$.\n",
    "3. Calculate policy gradient estimate $\\hat\\grad\\mathcal{L}(\\vec{\\theta})$ as defined above.\n",
    "4. Perform SGD update $\\vec{\\theta}\\leftarrow\\vec{\\theta}-\\eta\\hat\\grad\\mathcal{L}(\\vec{\\theta})$.\n",
    "5. Repeat from step 2.\n",
    "\n",
    "This is known as the **REINFORCE** algorithm."
   ]
  },
  {
   "cell_type": "markdown",
   "metadata": {},
   "source": [
    "Fortunately, we've already implemented everything we need for steps 1-4 so we need only a bit more code to put it all together.\n",
    "\n",
    "The following block implements a wrapper, `train_pg` to create all the objects we need in order to train our policy gradient model.\n"
   ]
  },
  {
   "cell_type": "code",
   "execution_count": 40,
   "metadata": {
    "pycharm": {
     "is_executing": false
    }
   },
   "outputs": [],
   "source": [
    "import hw4.answers\n",
    "from functools import partial\n",
    "\n",
    "ENV_NAME = \"Beresheet-v2\"\n",
    "\n",
    "def agent_fn_train(agent_type, p_net, seed, envs_dict):\n",
    "    winfo = torch.utils.data.get_worker_info()\n",
    "    wid = winfo.id if winfo else 0\n",
    "    seed = seed + wid if seed else wid\n",
    "\n",
    "    env = gym.make(ENV_NAME)\n",
    "    envs_dict[wid] = env\n",
    "    env.seed(seed)\n",
    "    np.random.seed(seed)\n",
    "    torch.manual_seed(seed)\n",
    "\n",
    "    return agent_type(env, p_net)\n",
    "\n",
    "def train_rl(agent_type, net_type, loss_fns, hp, seed=None, checkpoints_file=None, **train_kw):\n",
    "    print(f'hyperparams: {hp}')\n",
    "    \n",
    "    envs = {}\n",
    "    p_net = net_type(ENV_N_OBSERVATIONS, ENV_N_ACTIONS, **hp)\n",
    "    p_net.share_memory()\n",
    "    agent_fn = partial(agent_fn_train, agent_type, p_net, seed, envs)\n",
    "    \n",
    "    dataset = hw4data.TrainBatchDataset(agent_fn, hp['batch_size'], hp['gamma'])\n",
    "    dataloader = DataLoader(dataset, batch_size=None, num_workers=2)\n",
    "    optimizer = optim.Adam(p_net.parameters(), lr=hp['learn_rate'], eps=hp['eps'])\n",
    "    \n",
    "    trainer = hw4pg.PolicyTrainer(p_net, optimizer, loss_fns, dataloader, checkpoints_file)\n",
    "    try:\n",
    "        trainer.train(**train_kw)\n",
    "    except KeyboardInterrupt as e:\n",
    "        print('Training interrupted by user.')\n",
    "    finally:\n",
    "        for env in envs.values():\n",
    "            env.close()\n",
    "\n",
    "    # Include final model state\n",
    "    training_data = trainer.training_data\n",
    "    training_data['model_state'] = p_net.state_dict()\n",
    "    return training_data\n",
    "    \n",
    "def train_pg(baseline=False, entropy=False, **train_kwargs):\n",
    "    hp = hw4.answers.part1_pg_hyperparams()\n",
    "    \n",
    "    loss_fns = []\n",
    "    if baseline:\n",
    "        loss_fns.append(hw4pg.BaselinePolicyGradientLoss())\n",
    "    else:\n",
    "        loss_fns.append(hw4pg.VanillaPolicyGradientLoss())\n",
    "    if entropy:\n",
    "        loss_fns.append(hw4pg.ActionEntropyLoss(ENV_N_ACTIONS, hp['beta']))\n",
    "\n",
    "    return train_rl(hw4pg.PolicyAgent, hw4pg.PolicyNet, loss_fns, hp, **train_kwargs)"
   ]
  },
  {
   "cell_type": "markdown",
   "metadata": {},
   "source": [
    "The `PolicyTrainer` class implements the training loop, collects the losses and rewards and provides some useful checkpointing functionality.\n",
    "The training loop will generate batches of episodes and train on them until either:\n",
    "- The average total reward from the last `running_mean_len` episodes is greater than the `target_reward`, OR\n",
    "- The number of generated episodes reached `max_episodes`.\n",
    "\n",
    "Most of this class is already implemented for you. "
   ]
  },
  {
   "cell_type": "markdown",
   "metadata": {},
   "source": [
    "**TODO**:\n",
    "1. Complete the training loop by implementing the `train_batch()` method of the `PolicyTrainer`.\n",
    "2. Tweak the hyperparameters in the `part1_pg_hyperparams()` function within the `hw4/answers.py` module as needed. You get some sane defaults."
   ]
  },
  {
   "cell_type": "markdown",
   "metadata": {},
   "source": [
    "Let's check whether our model is actually training.\n",
    "We'll try to reach a very low (bad) target reward, just as a sanity check to see that training works.\n",
    "Your model should be able to reach this target reward within a few batches.\n",
    "\n",
    "You can increase the target reward and use this block to manually tweak your model and hyperparameters a few times."
   ]
  },
  {
   "cell_type": "code",
   "execution_count": 41,
   "metadata": {
    "pycharm": {
     "is_executing": false
    }
   },
   "outputs": [
    {
     "name": "stdout",
     "output_type": "stream",
     "text": [
      "hyperparams: {'batch_size': 32, 'gamma': 0.99, 'beta': 0.5, 'learn_rate': 0.001, 'eps': 1e-08}\n",
      "=== Training...\n",
      "#2: step=00007613, loss_p=-120.27, m_reward(10)=-146.9 (best=-154.9):   5%|▍         | 96/2000 [00:02<00:47, 40.27it/s]\n",
      "\n",
      "=== 🚀 SOLVED - Target reward reached! 🚀\n"
     ]
    }
   ],
   "source": [
    "target_reward = -150 # VERY LOW target\n",
    "train_data = train_pg(target_reward=target_reward, seed=SEED, max_episodes=2000, running_mean_len=10)\n",
    "\n",
    "test.assertGreater(train_data['mean_reward'][-1], target_reward)"
   ]
  },
  {
   "cell_type": "markdown",
   "metadata": {},
   "source": [
    "### Experimenting with different losses"
   ]
  },
  {
   "cell_type": "markdown",
   "metadata": {},
   "source": [
    "We'll now run a few experiments to see the effect of diferent loss functions on the training dynamics. Namely, we'll try:\n",
    "1. Vanilla PG (`vpg`): No baseline, no entropy\n",
    "2. Baseline PG (`bpg`): Baseline, no entropy loss\n",
    "3. Entropy PG (`epg`): No baseline, with entropy loss\n",
    "3. Combined PG (`cpg`): Baseline, with entropy loss"
   ]
  },
  {
   "cell_type": "code",
   "execution_count": 42,
   "metadata": {
    "pycharm": {
     "is_executing": false
    }
   },
   "outputs": [
    {
     "name": "stdout",
     "output_type": "stream",
     "text": [
      "[ExpConfig(name='vpg', baseline=False, entropy=False),\n",
      " ExpConfig(name='epg', baseline=False, entropy=True),\n",
      " ExpConfig(name='bpg', baseline=True, entropy=False),\n",
      " ExpConfig(name='cpg', baseline=True, entropy=True)]\n"
     ]
    }
   ],
   "source": [
    "from collections import namedtuple\n",
    "from pprint import pprint\n",
    "import itertools as it\n",
    "\n",
    "\n",
    "ExpConfig = namedtuple('ExpConfig', ('name','baseline','entropy'))\n",
    "\n",
    "def exp_configs():\n",
    "    exp_names = ('vpg', 'epg', 'bpg', 'cpg')\n",
    "    z = zip(exp_names, it.product((False, True), (False, True)))\n",
    "    return (ExpConfig(n, b, e) for (n, (b, e)) in z)\n",
    "\n",
    "pprint(list(exp_configs()))"
   ]
  },
  {
   "cell_type": "markdown",
   "metadata": {},
   "source": [
    "We'll save the training data from each experiment for plotting."
   ]
  },
  {
   "cell_type": "code",
   "execution_count": 43,
   "metadata": {
    "pycharm": {
     "is_executing": false
    }
   },
   "outputs": [],
   "source": [
    "import pickle\n",
    "\n",
    "def dump_training_data(data, filename):\n",
    "    os.makedirs(os.path.dirname(filename), exist_ok=True)\n",
    "    with open(filename, mode='wb') as file:\n",
    "        pickle.dump(data, file)\n",
    "        \n",
    "def load_training_data(filename):\n",
    "    with open(filename, mode='rb') as file:\n",
    "        return pickle.load(file)"
   ]
  },
  {
   "cell_type": "markdown",
   "metadata": {},
   "source": [
    "Let's run the experiments! We'll run each configuration for a fixed number of episodes so that we can compare them.\n",
    "\n",
    "Notes:\n",
    "1. Until your models start working, you can decrease the number of episodes for each experiment, or only run one experiment.\n",
    "2.  The results will be saved in a file. To re-run the experiments, you can set `force_run` to `True`."
   ]
  },
  {
   "cell_type": "code",
   "execution_count": 44,
   "metadata": {
    "pycharm": {
     "is_executing": false
    }
   },
   "outputs": [
    {
     "name": "stdout",
     "output_type": "stream",
     "text": [
      "=== Experiment vpg\n",
      "hyperparams: {'batch_size': 32, 'gamma': 0.99, 'beta': 0.5, 'learn_rate': 0.001, 'eps': 1e-08}\n",
      "=== Training...\n",
      "#124: step=00329452, loss_p=-121.62, m_reward(100)=-148.0 (best=-128.3): 100%|██████████| 4000/4000 [00:52<00:00, 75.55it/s]\n",
      "\n",
      "=== STOPPING - Max episode reached\n",
      "=== Experiment epg\n",
      "hyperparams: {'batch_size': 32, 'gamma': 0.99, 'beta': 0.5, 'learn_rate': 0.001, 'eps': 1e-08}\n",
      "=== Training...\n",
      "#124: step=00378365, loss_p=-191.46, loss_e= -0.47, m_reward(100)=-249.6 (best=-198.7): 100%|██████████| 4000/4000 [01:04<00:00, 62.04it/s]\n",
      "\n",
      "=== STOPPING - Max episode reached\n",
      "=== Experiment bpg\n",
      "hyperparams: {'batch_size': 32, 'gamma': 0.99, 'beta': 0.5, 'learn_rate': 0.001, 'eps': 1e-08}\n",
      "=== Training...\n",
      "#124: step=00328243, loss_p=  0.19, baseline=-73.92, m_reward(100)=-134.7 (best=-125.5): 100%|██████████| 4000/4000 [00:50<00:00, 78.67it/s]\n",
      "\n",
      "=== STOPPING - Max episode reached\n",
      "=== Experiment cpg\n",
      "hyperparams: {'batch_size': 32, 'gamma': 0.99, 'beta': 0.5, 'learn_rate': 0.001, 'eps': 1e-08}\n",
      "=== Training...\n",
      "#124: step=00363684, loss_p=  0.13, baseline=-86.53, loss_e= -0.49, m_reward(100)=-158.0 (best=-152.5): 100%|██████████| 4000/4000 [01:00<00:00, 65.89it/s] \n",
      "\n",
      "=== STOPPING - Max episode reached\n"
     ]
    }
   ],
   "source": [
    "import math\n",
    "\n",
    "exp_max_episodes = 4000\n",
    "\n",
    "results = {}\n",
    "training_data_filename = os.path.join('results', f'part1_exp.dat')\n",
    "\n",
    "# Set to True to force re-run (careful, will delete old experiment results)\n",
    "force_run = True\n",
    "\n",
    "# Skip running if results file exists.\n",
    "if os.path.isfile(training_data_filename) and not force_run:\n",
    "    print(f'=== results file {training_data_filename} exists, skipping experiments.')\n",
    "    results = load_training_data(training_data_filename)\n",
    "    \n",
    "else:\n",
    "    for n, b, e in exp_configs():\n",
    "        print(f'=== Experiment {n}')\n",
    "        results[n] = train_pg(baseline=b, entropy=e, max_episodes=exp_max_episodes, post_batch_fn=None)\n",
    "        \n",
    "    dump_training_data(results, training_data_filename)"
   ]
  },
  {
   "cell_type": "code",
   "execution_count": 45,
   "metadata": {
    "pycharm": {
     "is_executing": false
    }
   },
   "outputs": [
    {
     "data": {
      "image/png": "[encoded data removed]",
      "text/plain": [
       "<Figure size 1296x864 with 4 Axes>"
      ]
     },
     "metadata": {
      "needs_background": "light"
     },
     "output_type": "display_data"
    }
   ],
   "source": [
    "def plot_experiment_results(results, fig=None):\n",
    "    if fig is None:\n",
    "        fig, _ = plt.subplots(nrows=2, ncols=2, sharex=True, figsize=(18,12))\n",
    "    for i, plot_type in enumerate(('loss_p', 'baseline', 'loss_e', 'mean_reward')):\n",
    "        ax = fig.axes[i]\n",
    "        for exp_name, exp_res in results.items():\n",
    "            if plot_type not in exp_res:\n",
    "                continue\n",
    "            ax.plot(exp_res['episode_num'], exp_res[plot_type], label=exp_name)\n",
    "        ax.set_title(plot_type)\n",
    "        ax.set_xlabel('episode')\n",
    "        ax.legend()\n",
    "    return fig\n",
    "    \n",
    "experiments_results_fig = plot_experiment_results(results)"
   ]
  },
  {
   "cell_type": "markdown",
   "metadata": {},
   "source": [
    "You should see positive training dynamics in the graphs (reward going up).\n",
    "If you don't, use them to further update your model or hyperparams.\n",
    "\n",
    "To pass the test, you'll need to get a best total mean reward of at least 10 in the fixed number of epochs using the combined loss.\n",
    "It's possible to get much higher (over 100)."
   ]
  },
  {
   "cell_type": "code",
   "execution_count": 46,
   "metadata": {
    "pycharm": {
     "is_executing": false
    }
   },
   "outputs": [
    {
     "name": "stdout",
     "output_type": "stream",
     "text": [
      "Best CPG mean reward: -152.53\n"
     ]
    },
    {
     "ename": "AssertionError",
     "evalue": "-152.52962 not greater than 10",
     "output_type": "error",
     "traceback": [
      "\u001b[0;31m---------------------------------------------------------------------------\u001b[0m",
      "\u001b[0;31mAssertionError\u001b[0m                            Traceback (most recent call last)",
      "\u001b[0;32m<ipython-input-46-af5dbee774ce>\u001b[0m in \u001b[0;36m<module>\u001b[0;34m\u001b[0m\n\u001b[1;32m      2\u001b[0m \u001b[0mprint\u001b[0m\u001b[0;34m(\u001b[0m\u001b[0;34mf'Best CPG mean reward: {best_cpg_mean_reward:.2f}'\u001b[0m\u001b[0;34m)\u001b[0m\u001b[0;34m\u001b[0m\u001b[0;34m\u001b[0m\u001b[0m\n\u001b[1;32m      3\u001b[0m \u001b[0;34m\u001b[0m\u001b[0m\n\u001b[0;32m----> 4\u001b[0;31m \u001b[0mtest\u001b[0m\u001b[0;34m.\u001b[0m\u001b[0massertGreater\u001b[0m\u001b[0;34m(\u001b[0m\u001b[0mbest_cpg_mean_reward\u001b[0m\u001b[0;34m,\u001b[0m \u001b[0;36m10\u001b[0m\u001b[0;34m)\u001b[0m\u001b[0;34m\u001b[0m\u001b[0;34m\u001b[0m\u001b[0m\n\u001b[0m",
      "\u001b[0;32m~/miniconda3/envs/cs236781-hw/lib/python3.7/unittest/case.py\u001b[0m in \u001b[0;36massertGreater\u001b[0;34m(self, a, b, msg)\u001b[0m\n\u001b[1;32m   1249\u001b[0m         \u001b[0;32mif\u001b[0m \u001b[0;32mnot\u001b[0m \u001b[0ma\u001b[0m \u001b[0;34m>\u001b[0m \u001b[0mb\u001b[0m\u001b[0;34m:\u001b[0m\u001b[0;34m\u001b[0m\u001b[0;34m\u001b[0m\u001b[0m\n\u001b[1;32m   1250\u001b[0m             \u001b[0mstandardMsg\u001b[0m \u001b[0;34m=\u001b[0m \u001b[0;34m'%s not greater than %s'\u001b[0m \u001b[0;34m%\u001b[0m \u001b[0;34m(\u001b[0m\u001b[0msafe_repr\u001b[0m\u001b[0;34m(\u001b[0m\u001b[0ma\u001b[0m\u001b[0;34m)\u001b[0m\u001b[0;34m,\u001b[0m \u001b[0msafe_repr\u001b[0m\u001b[0;34m(\u001b[0m\u001b[0mb\u001b[0m\u001b[0;34m)\u001b[0m\u001b[0;34m)\u001b[0m\u001b[0;34m\u001b[0m\u001b[0;34m\u001b[0m\u001b[0m\n\u001b[0;32m-> 1251\u001b[0;31m             \u001b[0mself\u001b[0m\u001b[0;34m.\u001b[0m\u001b[0mfail\u001b[0m\u001b[0;34m(\u001b[0m\u001b[0mself\u001b[0m\u001b[0;34m.\u001b[0m\u001b[0m_formatMessage\u001b[0m\u001b[0;34m(\u001b[0m\u001b[0mmsg\u001b[0m\u001b[0;34m,\u001b[0m \u001b[0mstandardMsg\u001b[0m\u001b[0;34m)\u001b[0m\u001b[0;34m)\u001b[0m\u001b[0;34m\u001b[0m\u001b[0;34m\u001b[0m\u001b[0m\n\u001b[0m\u001b[1;32m   1252\u001b[0m \u001b[0;34m\u001b[0m\u001b[0m\n\u001b[1;32m   1253\u001b[0m     \u001b[0;32mdef\u001b[0m \u001b[0massertGreaterEqual\u001b[0m\u001b[0;34m(\u001b[0m\u001b[0mself\u001b[0m\u001b[0;34m,\u001b[0m \u001b[0ma\u001b[0m\u001b[0;34m,\u001b[0m \u001b[0mb\u001b[0m\u001b[0;34m,\u001b[0m \u001b[0mmsg\u001b[0m\u001b[0;34m=\u001b[0m\u001b[0;32mNone\u001b[0m\u001b[0;34m)\u001b[0m\u001b[0;34m:\u001b[0m\u001b[0;34m\u001b[0m\u001b[0;34m\u001b[0m\u001b[0m\n",
      "\u001b[0;32m~/miniconda3/envs/cs236781-hw/lib/python3.7/unittest/case.py\u001b[0m in \u001b[0;36mfail\u001b[0;34m(self, msg)\u001b[0m\n\u001b[1;32m    691\u001b[0m     \u001b[0;32mdef\u001b[0m \u001b[0mfail\u001b[0m\u001b[0;34m(\u001b[0m\u001b[0mself\u001b[0m\u001b[0;34m,\u001b[0m \u001b[0mmsg\u001b[0m\u001b[0;34m=\u001b[0m\u001b[0;32mNone\u001b[0m\u001b[0;34m)\u001b[0m\u001b[0;34m:\u001b[0m\u001b[0;34m\u001b[0m\u001b[0;34m\u001b[0m\u001b[0m\n\u001b[1;32m    692\u001b[0m         \u001b[0;34m\"\"\"Fail immediately, with the given message.\"\"\"\u001b[0m\u001b[0;34m\u001b[0m\u001b[0;34m\u001b[0m\u001b[0m\n\u001b[0;32m--> 693\u001b[0;31m         \u001b[0;32mraise\u001b[0m \u001b[0mself\u001b[0m\u001b[0;34m.\u001b[0m\u001b[0mfailureException\u001b[0m\u001b[0;34m(\u001b[0m\u001b[0mmsg\u001b[0m\u001b[0;34m)\u001b[0m\u001b[0;34m\u001b[0m\u001b[0;34m\u001b[0m\u001b[0m\n\u001b[0m\u001b[1;32m    694\u001b[0m \u001b[0;34m\u001b[0m\u001b[0m\n\u001b[1;32m    695\u001b[0m     \u001b[0;32mdef\u001b[0m \u001b[0massertFalse\u001b[0m\u001b[0;34m(\u001b[0m\u001b[0mself\u001b[0m\u001b[0;34m,\u001b[0m \u001b[0mexpr\u001b[0m\u001b[0;34m,\u001b[0m \u001b[0mmsg\u001b[0m\u001b[0;34m=\u001b[0m\u001b[0;32mNone\u001b[0m\u001b[0;34m)\u001b[0m\u001b[0;34m:\u001b[0m\u001b[0;34m\u001b[0m\u001b[0;34m\u001b[0m\u001b[0m\n",
      "\u001b[0;31mAssertionError\u001b[0m: -152.52962 not greater than 10"
     ]
    }
   ],
   "source": [
    "best_cpg_mean_reward = max(results['cpg']['mean_reward'])\n",
    "print(f'Best CPG mean reward: {best_cpg_mean_reward:.2f}')\n",
    "\n",
    "test.assertGreater(best_cpg_mean_reward, 10)"
   ]
  },
  {
   "cell_type": "markdown",
   "metadata": {},
   "source": [
    "Now let's take a look at a gameplay video of our `cpg` model after the short training!"
   ]
  },
  {
   "cell_type": "code",
   "execution_count": null,
   "metadata": {
    "pycharm": {
     "is_executing": false
    }
   },
   "outputs": [],
   "source": [
    "hp = hw4.answers.part1_pg_hyperparams()\n",
    "p_net_cpg = hw4pg.PolicyNet.build_for_env(env, **hp)\n",
    "p_net_cpg.load_state_dict(results['cpg']['model_state'])\n",
    "\n",
    "env, n_steps, reward = hw4pg.PolicyAgent.monitor_episode(ENV_NAME, p_net_cpg)\n",
    "print(f'{n_steps} steps, total reward: {reward:.2f}')\n",
    "show_monitor_video(env)"
   ]
  },
  {
   "cell_type": "markdown",
   "metadata": {},
   "source": [
    "## Advantage Actor-Critic (AAC)\n",
    "<a id=part1_2></a>"
   ]
  },
  {
   "cell_type": "markdown",
   "metadata": {},
   "source": [
    "We have seen that the policy-gradient loss can be interpreted as a log-likelihood of the policy term\n",
    "(selecting a specific action at a specific state), weighted by the future rewards of that choice of action.\n",
    "\n",
    "However, naïvely weighting by rewards has significant drawbacks in terms of the variance of the resulting gradient.\n",
    "We addressed this by adding a simple baseline term which represented our \"expected reward\" so that we increase probability of actions\n",
    "leading to trajectories which exceed this expectation and vice-versa.\n",
    "\n",
    "In this part we'll explore a more powerful baseline, which is the idea behind the AAC method."
   ]
  },
  {
   "cell_type": "markdown",
   "metadata": {},
   "source": [
    "### The advantage function"
   ]
  },
  {
   "cell_type": "markdown",
   "metadata": {},
   "source": [
    "Recall the definition of the state-value function $v_{\\pi}(s)$ and action-value function $q_{\\pi}(s,a)$:\n",
    "\n",
    "$$\n",
    "\\begin{align}\n",
    "v_{\\pi}(s) &= \\E{g(\\tau)|s_0 = s,\\pi} \\\\\n",
    "q_{\\pi}(s,a) &= \\E{g(\\tau)|s_0 = s,a_0=a,\\pi}.\n",
    "\\end{align}\n",
    "$$\n",
    "\n",
    "Both these functions represent the value of the state $s$. However, $v_\\pi$ averages over the first action according to the policy,\n",
    "while $q_\\pi$ fixes the first action and then continues according to the policy."
   ]
  },
  {
   "cell_type": "markdown",
   "metadata": {},
   "source": [
    "Their difference is known as the **advantage function**:\n",
    "$$\n",
    "a_\\pi(s,a) = q_\\pi(s,a)-v_\\pi(s).\n",
    "$$\n",
    "\n",
    "If $a_\\pi(s,a)>0$ it means that it's better (in expectation) to take action $a$ in state $s$ compared to the average action.\n",
    "In other words, $a_\\pi(s,a)$ represents the *advantage* of using action $a$ in state $s$ compared to the others."
   ]
  },
  {
   "cell_type": "markdown",
   "metadata": {},
   "source": [
    "So far we have used an estimate for $q_\\pi$ as our weighting term for the log-policy, with a fixed baseline per batch.\n",
    "\n",
    "$$\n",
    "\\hat\\grad\\mathcal{L}_{\\text{BPG}}(\\vec{\\theta})\n",
    "=-\\frac{1}{N}\\sum_{i=1}^{N}\\sum_{t\\geq0} \\left(\\hat{q}_{i,t}-b\\right) \\grad\\log \\pi_{\\vec{\\theta}}(a_{i,t}|s_{i,t}).\n",
    "$$\n"
   ]
  },
  {
   "cell_type": "markdown",
   "metadata": {},
   "source": [
    "Now, we will use the state value as a baseline, so that an estimate of the advantage function is our weighting term:\n",
    "\n",
    "$$\n",
    "\\hat\\grad\\mathcal{L}_{\\text{AAC}}(\\vec{\\theta})\n",
    "=-\\frac{1}{N}\\sum_{i=1}^{N}\\sum_{t\\geq0} \\left(\\hat{q}_{i,t}-v_\\pi(s_t)\\right) \\grad\\log \\pi_{\\vec{\\theta}}(a_{i,t}|s_{i,t}).\n",
    "$$\n",
    "\n",
    "Intuitively, using the advantage function makes sense because it means we're weighting our policy's actions according to\n",
    "how advantageous they are compared to other possible actions."
   ]
  },
  {
   "cell_type": "markdown",
   "metadata": {},
   "source": [
    "But how will we know $v_\\pi(s)$? We'll learn it of course, using another neural network.\n",
    "This is known as actor-critic learning. We simultaneously learn the policy (actor) and the value of states (critic).\n",
    "We'll treat it as a regression task: given a state $s_t$, our state-value network will output $\\hat{v}_\\pi(s_t)$,\n",
    "an estimate of the actual unknown state-value.\n",
    "Our regression targets will be the discounted rewards, $\\hat{q}_{i,t}$ (see question 2),\n",
    "and we can use a simple MSE as the loss function,\n",
    "$$\n",
    "\\mathcal{L}_{\\text{SV}} = \\frac{1}{N}\\sum_{i=1}^{N}\\sum_{t\\geq0}\\left(\\hat{v}_\\pi(s_t) - \\hat{q}_{i,t}\\right)^2.\n",
    "$$\n"
   ]
  },
  {
   "cell_type": "markdown",
   "metadata": {},
   "source": [
    "### Implementation"
   ]
  },
  {
   "cell_type": "markdown",
   "metadata": {},
   "source": [
    "We'll build heavily on our implementation of the regular policy-gradient method, and just add a new model class and a new loss class, with a small modification to the agent."
   ]
  },
  {
   "cell_type": "markdown",
   "metadata": {},
   "source": [
    "Let's start with the model. It will accept a state, and return action scores (as before), but also the value of that state.\n",
    "You can experiment with a dual-head network that has a shared base, or implement two separate parts within the network.\n",
    "\n",
    "**TODO**:\n",
    "1. Implement the model as the `AACPolicyNet` class in the `hw4/rl_ac.py` module.\n",
    "1. Set the hyperparameters in the `part1_aac_hyperparams()` function of the `hw4.answers` module."
   ]
  },
  {
   "cell_type": "code",
   "execution_count": null,
   "metadata": {
    "pycharm": {
     "is_executing": false
    }
   },
   "outputs": [],
   "source": [
    "import hw4.rl_ac as hw4ac\n",
    "\n",
    "hp = hw4.answers.part1_aac_hyperparams()\n",
    "pv_net = hw4ac.AACPolicyNet.build_for_env(env, device, **hp)\n",
    "pv_net"
   ]
  },
  {
   "cell_type": "markdown",
   "metadata": {},
   "source": [
    "**TODO**: Complete the implementation of the agent class, `AACPolicyAgent`, in the `hw4/rl_ac.py` module."
   ]
  },
  {
   "cell_type": "code",
   "execution_count": null,
   "metadata": {
    "pycharm": {
     "is_executing": false
    }
   },
   "outputs": [],
   "source": [
    "agent = hw4ac.AACPolicyAgent(env, pv_net, device)\n",
    "exp = agent.step()\n",
    "\n",
    "test.assertIsInstance(exp, hw4pg.Experience)\n",
    "print(exp)"
   ]
  },
  {
   "cell_type": "markdown",
   "metadata": {},
   "source": [
    "**TODO**: Implement the AAC loss function as the class `AACPolicyGradientLoss` in the `hw4/rl_ac.py` module."
   ]
  },
  {
   "cell_type": "code",
   "execution_count": null,
   "metadata": {
    "pycharm": {
     "is_executing": false
    }
   },
   "outputs": [],
   "source": [
    "loss_fn_aac = hw4ac.AACPolicyGradientLoss(delta=1.)\n",
    "test_state_values = torch.ones(test_action_scores.shape[0], 1)\n",
    "loss_t, _ = loss_fn_aac(test_batch, (test_action_scores, test_state_values))\n",
    "\n",
    "print('loss_t =', loss_t)\n",
    "test.assertAlmostEqual(loss_t.item(), 975.230895, delta=1e-3)"
   ]
  },
  {
   "cell_type": "markdown",
   "metadata": {},
   "source": [
    "### Experimentation"
   ]
  },
  {
   "cell_type": "markdown",
   "metadata": {},
   "source": [
    "Let's run the same experiment as before, but with the AAC method and compare the results."
   ]
  },
  {
   "cell_type": "code",
   "execution_count": null,
   "metadata": {
    "pycharm": {
     "is_executing": false
    }
   },
   "outputs": [],
   "source": [
    "def train_aac(baseline=False, entropy=False, **train_kwargs):\n",
    "    hp = hw4.answers.part1_aac_hyperparams()\n",
    "    loss_fns = [hw4ac.AACPolicyGradientLoss(hp['delta']), hw4pg.ActionEntropyLoss(ENV_N_ACTIONS, hp['beta'])]\n",
    "    return train_rl(hw4ac.AACPolicyAgent, hw4ac.AACPolicyNet, loss_fns, hp, **train_kwargs)"
   ]
  },
  {
   "cell_type": "code",
   "execution_count": null,
   "metadata": {
    "pycharm": {
     "is_executing": false
    }
   },
   "outputs": [],
   "source": [
    "training_data_filename = os.path.join('results', f'part1_exp_aac.dat')\n",
    "\n",
    "# Set to True to force re-run (careful, will delete old experiment results)\n",
    "force_run = False\n",
    "\n",
    "if os.path.isfile(training_data_filename) and not force_run:\n",
    "    print(f'=== results file {training_data_filename} exists, skipping experiments.')\n",
    "    results_aac = load_training_data(training_data_filename)\n",
    "    \n",
    "else:\n",
    "    print(f'=== Running AAC experiment')\n",
    "    training_data = train_aac(max_episodes=exp_max_episodes)\n",
    "    results_aac = dict(aac=training_data)\n",
    "    dump_training_data(results_aac, training_data_filename)"
   ]
  },
  {
   "cell_type": "code",
   "execution_count": null,
   "metadata": {
    "pycharm": {
     "is_executing": false
    }
   },
   "outputs": [],
   "source": [
    "experiments_results_fig = plot_experiment_results(results)\n",
    "plot_experiment_results(results_aac, fig=experiments_results_fig);"
   ]
  },
  {
   "cell_type": "markdown",
   "metadata": {},
   "source": [
    "You should get better results with the AAC method, so this time the bar is higher (again, you should aim for a mean reward of 100+).\n",
    "Compare the graphs with combined PG method and see if they make sense."
   ]
  },
  {
   "cell_type": "code",
   "execution_count": null,
   "metadata": {
    "pycharm": {
     "is_executing": false
    }
   },
   "outputs": [],
   "source": [
    "best_aac_mean_reward = max(results_aac['aac']['mean_reward'])\n",
    "print(f'Best AAC mean reward: {best_aac_mean_reward:.2f}')\n",
    "\n",
    "test.assertGreater(best_aac_mean_reward, 50)"
   ]
  },
  {
   "cell_type": "markdown",
   "metadata": {},
   "source": [
    "### Final model training and visualization"
   ]
  },
  {
   "cell_type": "markdown",
   "metadata": {},
   "source": [
    "Now, using your best model and hyperparams, let's train model for much longer and see the performance.\n",
    "Just for fun, we'll also visualize an episode every now and then so that we can see how well the agent is playing."
   ]
  },
  {
   "cell_type": "markdown",
   "metadata": {},
   "source": [
    "**TODO**:\n",
    "- Run the following block to train.\n",
    "- Tweak model or hyperparams as necessary.\n",
    "- Aim for high mean reward, at least 150+. It's possible to get over 200.\n",
    "- When training is done and you're satisfied with the model's outputs, rename the checkpoint file by adding `_final` to the file name.\n",
    "  This will cause the block to skip training and instead load your saved model when running the homework submission script.\n",
    "  Note that your submission zip file will not include the checkpoint file. This is OK."
   ]
  },
  {
   "cell_type": "code",
   "execution_count": null,
   "metadata": {
    "pycharm": {
     "is_executing": false
    }
   },
   "outputs": [],
   "source": [
    "import IPython.display\n",
    "\n",
    "CHECKPOINTS_FILE = f'checkpoints/{ENV_NAME}-ac.dat'\n",
    "CHECKPOINTS_FILE_FINAL = f'checkpoints/{ENV_NAME}-ac_final.dat'\n",
    "TARGET_REWARD = 125\n",
    "MAX_EPISODES = 15_000\n",
    "\n",
    "def post_batch_fn(batch_idx, p_net, batch, print_every=20, final=False):\n",
    "    if not final and batch_idx % print_every != 0:\n",
    "        return\n",
    "    env, n_steps, reward = hw4ac.AACPolicyAgent.monitor_episode(ENV_NAME, p_net)\n",
    "    html = show_monitor_video(env, width=\"500\")\n",
    "    IPython.display.clear_output(wait=True)\n",
    "    print(f'Monitor@#{batch_idx}: n_steps={n_steps}, total_reward={reward:.3f}, final={final}')\n",
    "    IPython.display.display_html(html)\n",
    "    \n",
    "    \n",
    "if os.path.isfile(CHECKPOINTS_FILE_FINAL):\n",
    "    print(f'=== {CHECKPOINTS_FILE_FINAL} exists, skipping training...')\n",
    "    checkpoint_data = torch.load(CHECKPOINTS_FILE_FINAL)\n",
    "    hp = hw4.answers.part1_aac_hyperparams()\n",
    "    pv_net = hw4ac.AACPolicyNet.build_for_env(env, **hp)\n",
    "    pv_net.load_state_dict(checkpoint_data['params'])\n",
    "    print(f'=== Running best model...')\n",
    "    env, n_steps, reward = hw4ac.AACPolicyAgent.monitor_episode(ENV_NAME, pv_net)\n",
    "    print(f'=== Best model ran for {n_steps} steps. Total reward: {reward:.2f}')\n",
    "    IPython.display.display_html(show_monitor_video(env))\n",
    "    best_mean_reward = checkpoint_data[\"best_mean_reward\"]\n",
    "else:\n",
    "    print(f'=== Starting training...')\n",
    "    train_data = train_aac(TARGET_REWARD, max_episodes=MAX_EPISODES,\n",
    "                           seed=None, checkpoints_file=CHECKPOINTS_FILE, post_batch_fn=post_batch_fn)\n",
    "    print(f'=== Done, ', end='')\n",
    "    best_mean_reward = train_data[\"best_mean_reward\"][-1]\n",
    "    print(f'num_episodes={train_data[\"episode_num\"][-1]}, best_mean_reward={best_mean_reward:.1f}')\n",
    "          \n",
    "test.assertGreaterEqual(best_mean_reward, TARGET_REWARD)"
   ]
  },
  {
   "cell_type": "markdown",
   "metadata": {},
   "source": [
    "## Questions\n",
    "<a id=part1_3></a>"
   ]
  },
  {
   "cell_type": "markdown",
   "metadata": {},
   "source": [
    "**TODO**: Answer the following questions. Write your answers in the appropriate variables in the module `hw4/answers.py`."
   ]
  },
  {
   "cell_type": "code",
   "execution_count": null,
   "metadata": {
    "pycharm": {
     "is_executing": false
    }
   },
   "outputs": [],
   "source": [
    "from cs236781.answers import display_answer\n",
    "import hw4.answers"
   ]
  },
  {
   "cell_type": "markdown",
   "metadata": {},
   "source": [
    "### Question 1\n",
    "\n",
    "Explain qualitatively why subtracting a baseline in the policy-gradient helps reduce it's variance.\n",
    "Specifically, give an example where it helps."
   ]
  },
  {
   "cell_type": "code",
   "execution_count": null,
   "metadata": {
    "pycharm": {
     "is_executing": false
    }
   },
   "outputs": [],
   "source": [
    "display_answer(hw4.answers.part1_q1)"
   ]
  },
  {
   "cell_type": "markdown",
   "metadata": {},
   "source": [
    "### Question 2\n",
    "\n",
    "In AAC, when using the estimated q-values as regression targets for our state-values, why do we get a valid approximation?\n",
    "Hint: how is $v_\\pi(s)$ expressed in terms of $q_\\pi(s,a)$?"
   ]
  },
  {
   "cell_type": "code",
   "execution_count": null,
   "metadata": {
    "pycharm": {
     "is_executing": false
    }
   },
   "outputs": [],
   "source": [
    "display_answer(hw4.answers.part1_q2)"
   ]
  },
  {
   "cell_type": "markdown",
   "metadata": {},
   "source": [
    "### Question 3\n",
    "\n",
    "1. Analyze and explain the graphs you got in first experiment run.\n",
    "2. Compare the experiment graphs you got with the AAC method to the regular PG method (`cpg`)."
   ]
  },
  {
   "cell_type": "code",
   "execution_count": null,
   "metadata": {
    "pycharm": {
     "is_executing": false
    }
   },
   "outputs": [],
   "source": [
    "display_answer(hw4.answers.part1_q3)"
   ]
  }
 ],
 "metadata": {
  "kernelspec": {
   "display_name": "Python 3",
   "language": "python",
   "name": "python3"
  },
  "language_info": {
   "codemirror_mode": {
    "name": "ipython",
    "version": 3
   },
   "file_extension": ".py",
   "mimetype": "text/x-python",
   "name": "python",
   "nbconvert_exporter": "python",
   "pygments_lexer": "ipython3",
   "version": "3.7.4"
  },
  "pycharm": {
   "stem_cell": {
    "cell_type": "raw",
    "metadata": {
     "collapsed": false
    },
    "source": []
   }
  }
 },
 "nbformat": 4,
 "nbformat_minor": 4
}
