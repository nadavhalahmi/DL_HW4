{
 "cells": [
  {
   "cell_type": "markdown",
   "metadata": {},
   "source": [
    "$$\n",
    "\\newcommand{\\mat}[1]{\\boldsymbol {#1}}\n",
    "\\newcommand{\\mattr}[1]{\\boldsymbol {#1}^\\top}\n",
    "\\newcommand{\\matinv}[1]{\\boldsymbol {#1}^{-1}}\n",
    "\\newcommand{\\vec}[1]{\\boldsymbol {#1}}\n",
    "\\newcommand{\\vectr}[1]{\\boldsymbol {#1}^\\top}\n",
    "\\newcommand{\\rvar}[1]{\\mathrm {#1}}\n",
    "\\newcommand{\\rvec}[1]{\\boldsymbol{\\mathrm{#1}}}\n",
    "\\newcommand{\\diag}{\\mathop{\\mathrm {diag}}}\n",
    "\\newcommand{\\set}[1]{\\mathbb {#1}}\n",
    "\\newcommand{\\cset}[1]{\\mathcal{#1}}\n",
    "\\newcommand{\\norm}[1]{\\left\\lVert#1\\right\\rVert}\n",
    "\\newcommand{\\pderiv}[2]{\\frac{\\partial #1}{\\partial #2}}\n",
    "\\newcommand{\\bb}[1]{\\boldsymbol{#1}}\n",
    "\\newcommand{\\E}[2][]{\\mathbb{E}_{#1}\\left[#2\\right]}\n",
    "\\newcommand{\\ip}[3]{\\left<#1,#2\\right>_{#3}}\n",
    "\\newcommand{\\given}[]{\\,\\middle\\vert\\,}\n",
    "\\newcommand{\\DKL}[2]{\\cset{D}_{\\text{KL}}\\left(#1\\,\\Vert\\, #2\\right)}\n",
    "\\newcommand{\\grad}[]{\\nabla}\n",
    "$$\n",
    "# Part 1: Deep Reinforcement Learning\n",
    "<a id=part1></a>"
   ]
  },
  {
   "cell_type": "markdown",
   "metadata": {},
   "source": [
    "In the tutorial we have seen value-based reinforcement learning, in which we learn to approximate the action-value function $q(s,a)$.\n",
    "\n",
    "In this exercise we'll explore a different approach, directly learning the agent's policy distribution, $\\pi(a|s)$\n",
    "by using *policy gradients*, in order to safely land on the moon!"
   ]
  },
  {
   "cell_type": "code",
   "execution_count": 19,
   "metadata": {
    "pycharm": {
     "is_executing": false
    }
   },
   "outputs": [
    {
     "name": "stdout",
     "text": [
      "The autoreload extension is already loaded. To reload it, use:\n",
      "  %reload_ext autoreload\n"
     ],
     "output_type": "stream"
    }
   ],
   "source": [
    "%load_ext autoreload\n",
    "%autoreload 2\n",
    "%matplotlib inline\n",
    "\n",
    "import unittest\n",
    "import os\n",
    "import sys\n",
    "import pathlib\n",
    "import urllib\n",
    "import shutil\n",
    "import re\n",
    "\n",
    "import numpy as np\n",
    "import torch\n",
    "import torch.nn as nn\n",
    "import torch.optim as optim\n",
    "import matplotlib.pyplot as plt"
   ]
  },
  {
   "cell_type": "code",
   "execution_count": 20,
   "metadata": {
    "pycharm": {
     "is_executing": false
    }
   },
   "outputs": [
    {
     "name": "stdout",
     "text": [
      "Using device: cpu\n"
     ],
     "output_type": "stream"
    }
   ],
   "source": [
    "test = unittest.TestCase()\n",
    "plt.rcParams.update({'font.size': 12})\n",
    "device = torch.device('cuda' if torch.cuda.is_available() else 'cpu')\n",
    "\n",
    "# Prefer CPU, GPU won't help much in this assignment\n",
    "device = 'cpu'\n",
    "print('Using device:', device)\n",
    "\n",
    "# Seed for deterministic tests\n",
    "SEED = 42"
   ]
  },
  {
   "cell_type": "markdown",
   "metadata": {},
   "source": [
    "Some technical notes before we begin:\n",
    "\n",
    "- This part does not require a GPU. We won't need large models, and the computation bottleneck will be the generation of episodes to train on.\n",
    "- In order to run this notebook on the server, you must prepend the `xvfb-run` command to create a virtual screen. For example,\n",
    "    - to run the jupyter lab script with `srun` do\n",
    "        ```\n",
    "        srun -c2 --gres=gpu:1 xvfb-run -a -s \"-screen 0 1440x900x24\" ./jupyter-lab.sh\n",
    "        ```\n",
    "    - To run the submission script, do\n",
    "        ```\n",
    "        srun -c2 xvfb-run -a -s \"-screen 0 1440x900x24\" python main.py prepare-submission ...\n",
    "        ```\n",
    "    and so on.\n",
    "- The OpenAI `gym` library is not officially supported on windows. However it should be possible to install and run the necessary environment for this exercise. However, we cannot provide you with technical support for this. If you have trouble installing locally, we suggest running on the course server."
   ]
  },
  {
   "cell_type": "markdown",
   "metadata": {},
   "source": [
    "## Policy gradients\n",
    "<a id=part1_1></a>"
   ]
  },
  {
   "cell_type": "markdown",
   "metadata": {},
   "source": [
    "Recall from the tutorial that we define the **policy** of an agent as the conditional distribution,\n",
    "$$\n",
    "\\pi(a|s) = \\Pr(a_t=a\\vert s_t=s),\n",
    "$$\n",
    "which defines how likely the agent is to take action $a$ at state $s$.\n",
    "\n",
    "Furthermore we define the action-value function,\n",
    "$$\n",
    "q_{\\pi}(s,a) = \\E{g_t(\\tau)|s_t = s,a_t=a,\\pi}\n",
    "$$\n",
    "where \n",
    "$$\n",
    "g_t(\\tau) = r_{t+1}+\\gamma r_{t+2} + \\dots = \\sum_{k=0}^{\\infty} \\gamma^k r_{t+1+k},\n",
    "$$\n",
    "is the total discounted reward of a specific trajectory $\\tau$ from time $t$, and the expectation in $q$ is over all possible\n",
    "trajectories,\n",
    "$\n",
    "\\tau=\\left\\{ (s_0,a_0,r_1,s_1), \\dots (s_T,a_T,r_{T+1},s_{T+1}) \\right\\}.\n",
    "$"
   ]
  },
  {
   "cell_type": "markdown",
   "metadata": {},
   "source": [
    "In the tutorial we saw that we can learn a value function starting with some random function and\n",
    "updating it iteratively by using the **Bellman optimality equation**.\n",
    "Given that we have some action-value function, we can immediately create a policy based on that\n",
    "by simply selecting an action which maximize the action-value at the current state, i.e.\n",
    "$$\n",
    "\\pi(a|s) =\n",
    "\\begin{cases}\n",
    "1, & a = \\arg\\max_{a'\\in\\cset{A}} q(s,a') \\\\\n",
    "0, & \\text{else}\n",
    "\\end{cases}.\n",
    "$$\n",
    "This is called $q$-learning. This approach aims to obtain a policy indirectly through the action-value function.\n",
    "Yet, in most cases we don't actually care about knowing the value of particular states,\n",
    "since all we need is a good policy for our agent. \n",
    "\n",
    "Here we'll take a different approach and learn a policy distribution $\\pi(a|s)$ directly - by using **policy gradients**."
   ]
  },
  {
   "cell_type": "markdown",
   "metadata": {},
   "source": [
    "### Formalism"
   ]
  },
  {
   "cell_type": "markdown",
   "metadata": {},
   "source": [
    "We define a parametric policy, $\\pi_\\vec{\\theta}(a|s)$, and maximize total discounted reward (or minimize the negative reward):\n",
    "$$\n",
    "\\mathcal{L}(\\vec{\\theta})=\\E[\\tau]{-g(\\tau)|\\pi_\\vec{\\theta}} = -\\int g(\\tau)p(\\tau|\\vec{\\theta})d\\tau,\n",
    "$$\n",
    "where $p(\\tau|\\vec{\\theta})$ is the probability of a specific trajectory $\\tau$ under the policy defined by $\\vec{\\theta}$.\n"
   ]
  },
  {
   "cell_type": "markdown",
   "metadata": {},
   "source": [
    "Since we want to find the parameters $\\vec{\\theta}$ which minimize $\\mathcal{L}(\\vec{\\theta})$, we'll compute the gradient w.r.t. $\\vec{\\theta}$:\n",
    "$$\n",
    "\\grad\\mathcal{L}(\\vec{\\theta}) = -\\int g(\\tau)\\grad p(\\tau|\\vec{\\theta})d\\tau.\n",
    "$$\n",
    "\n",
    "Unfortunately, if we try to write $p(\\tau|\\vec{\\theta})$ explicitly,\n",
    "we find that computing it's gradient with respect to $\\vec{\\theta}$ is\n",
    "quite intractable due to a huge product of terms depending on $\\vec{\\theta}$:\n",
    "$$\n",
    "p(\\tau|\\vec{\\theta})=p\\left(\\left\\{ (s_t,a_t,r_{t+1},s_{t+1})\\right\\}_{t\\geq0}\\given\\vec{\\theta}\\right)\n",
    "=p(s_0)\\prod_{t\\geq0} \\pi_{\\vec{\\theta}}(a_t|s_t)p(s_{t+1}|s_t,a_t).\n",
    "$$"
   ]
  },
  {
   "cell_type": "markdown",
   "metadata": {},
   "source": [
    "However, by using the fact that $\\grad_{x}\\log(f(x))=\\frac{\\grad_{x}f(x)}{f(x)}$, we can convert the product into a sum:\n",
    "$$\n",
    "\\begin{align}\n",
    "\\grad\\mathcal{L}(\\vec{\\theta})\n",
    "&= -\\int g(\\tau)\\grad p(\\tau|\\vec{\\theta})d\\tau\n",
    "= -\\int g(\\tau)\\frac{\\grad p(\\tau|\\vec{\\theta})}{p(\\tau|\\vec{\\theta})}p(\\tau|\\vec{\\theta})d\\tau \\\\\n",
    "&= -\\int g(\\tau)\\grad\\log\\left(p(\\tau|\\vec{\\theta})\\right)p(\\tau|\\vec{\\theta})d\\tau \\\\\n",
    "&= -\\int g(\\tau)\\grad\\log\\left( p(s_0)\\prod_{t\\geq0} \\pi_{\\vec{\\theta}}(a_t|s_t)p(s_{t+1}|s_t,a_t) \\right)\n",
    "p(\\tau|\\vec{\\theta})d\\tau \\\\\n",
    "&= -\\int g(\\tau)\\grad\\left( \\log p(s_0) + \\sum_{t\\geq0} \\log \\pi_{\\vec{\\theta}}(a_t|s_t) + \n",
    "\\sum_{t\\geq0}\\log p(s_{t+1}|s_t,a_t) \\right) p(\\tau|\\vec{\\theta})d\\tau \\\\\n",
    "&= -\\int g(\\tau)\\sum_{t\\geq0} \\grad\\log \\pi_{\\vec{\\theta}}(a_t|s_t) p(\\tau|\\vec{\\theta})d\\tau \\\\\n",
    "&= \\E[\\tau]{-g(\\tau)\\sum_{t\\geq0} \\grad\\log \\pi_{\\vec{\\theta}}(a_t|s_t)}.\n",
    "\\end{align}\n",
    "$$"
   ]
  },
  {
   "cell_type": "markdown",
   "metadata": {},
   "source": [
    "This is the \"vanilla\" version of the policy gradient. We can interpret is as a weighted log-likelihood function.\n",
    "The log-policy is the log-likelihood term we wish to maximize and the total discounted reward acts as a weight: high-return positive\n",
    "trajectories will cause the probability of actions taken during them to increase, and negative-return trajectories will cause the\n",
    "probabilities of actions taken to decrease.\n",
    "\n",
    "In the following figures we see three trajectories: high-return positive-reward (green), low-return positive-reward (yellow) and negative-return (red) and the action probabilities along the trajectories after the update. Credit: Sergey Levine.\n",
    "\n",
    "|<strong></strong>||\n",
    "|-----| ----|\n",
    "|<img src=\"imgs/pg1.png\" height=\"200\">|<img src=\"imgs/pg2.png\" height=\"200\">|\n"
   ]
  },
  {
   "cell_type": "markdown",
   "metadata": {},
   "source": [
    "The major drawback of the policy-gradient is it's high variance, which causes erratic optimization behavior and therefore slow convergence.\n",
    "One reason for this is that the log-policy weight term, $g(\\tau)$ can vary wildly between different trajectories, even if they're similar in\n",
    "actions. Later on we'll implement the loss and explore some methods of variance reduction."
   ]
  },
  {
   "cell_type": "markdown",
   "metadata": {},
   "source": [
    "### Landing on the moon with policy gradients"
   ]
  },
  {
   "cell_type": "markdown",
   "metadata": {},
   "source": [
    "In the spirit of the recent achievements of the Israeli space industry,\n",
    "we'll apply our reinforcement learning skills to solve a simple game called **LunarLander**.\n",
    "\n",
    "This game is available as an `environment` in OpenAI `gym`.\n",
    "\n",
    "<video loop autoplay src=\"http://gym.openai.com/videos/2019-04-06--My9IiAbqha/LunarLander-v2/original.mp4\" />"
   ]
  },
  {
   "cell_type": "markdown",
   "metadata": {},
   "source": [
    "In this environment, you need to control the lander and get it to land safely on the moon.\n",
    "To do so, you must apply bottom, right or left thrusters (each are either fully on or fully off)\n",
    "and get it to land within the designated zone as quickly as possible and with minimal wasted fuel."
   ]
  },
  {
   "cell_type": "code",
   "execution_count": 21,
   "metadata": {
    "pycharm": {
     "is_executing": false
    }
   },
   "outputs": [],
   "source": [
    "import gym\n",
    "\n",
    "# Just for fun :) ... but also to re-define the default max number of steps\n",
    "ENV_NAME = 'Beresheet-v2'\n",
    "MAX_EPISODE_STEPS = 300\n",
    "if ENV_NAME not in gym.envs.registry.env_specs:\n",
    "    gym.register(\n",
    "        id=ENV_NAME,\n",
    "        entry_point='gym.envs.box2d:LunarLander',\n",
    "        max_episode_steps=MAX_EPISODE_STEPS,\n",
    "        reward_threshold=200,\n",
    "    )"
   ]
  },
  {
   "cell_type": "code",
   "execution_count": 22,
   "metadata": {
    "pycharm": {
     "is_executing": false
    }
   },
   "outputs": [
    {
     "name": "stdout",
     "text": [
      "<TimeLimit<LunarLander<Beresheet-v2>>>\n",
      "observations space: Box(8,)\n",
      "action space: Discrete(4)\n"
     ],
     "output_type": "stream"
    }
   ],
   "source": [
    "import gym\n",
    "\n",
    "env = gym.make(ENV_NAME)\n",
    "\n",
    "print(env)\n",
    "print(f'observations space: {env.observation_space}')\n",
    "print(f'action space: {env.action_space}')\n",
    "\n",
    "ENV_N_ACTIONS = env.action_space.n\n",
    "ENV_N_OBSERVATIONS = env.observation_space.shape[0]"
   ]
  },
  {
   "cell_type": "markdown",
   "metadata": {},
   "source": [
    "The observations at each step is the Lander's position, velocity, angle, angular velocity and ground contact state.\n",
    "The actions are no-op, fire left truster, bottom thruster and right thruster.\n",
    "\n",
    "You are **highly encouraged** to read the [documentation](https://github.com/openai/gym/blob/master/gym/envs/box2d/lunar_lander.py) in the source code of the `LunarLander` environment to understand the reward system,\n",
    "and see how the actions and observations are created."
   ]
  },
  {
   "cell_type": "markdown",
   "metadata": {},
   "source": [
    "### Policy network and Agent"
   ]
  },
  {
   "cell_type": "markdown",
   "metadata": {},
   "source": [
    "Let's start with our policy-model. This will be a simple neural net, which should take an observation and return a score for each possible action."
   ]
  },
  {
   "cell_type": "markdown",
   "metadata": {},
   "source": [
    "**TODO**:\n",
    "1. Implement all methods in the `PolicyNet` class in the `hw4/rl_pg.py` module.\n",
    "   Start small. A simple MLP with a few hidden layers is a good starting point. You can come back and change it later based on the the experiments. The we'll use the `build_for_env` method to instantiate a `PolicyNet` based on the configuration of a given environment.\n",
    "2. If you need hyperparameters to configure your model (e.g. number of hidden layers, sizes, etc.), add them in `part1_pg_hyperparams()` in `hw4/answers.py`."
   ]
  },
  {
   "cell_type": "code",
   "execution_count": 23,
   "metadata": {
    "pycharm": {
     "is_executing": false
    }
   },
   "outputs": [
    {
     "data": {
      "text/plain": "PolicyNet(\n  (our_net): Sequential(\n    (0): Linear(in_features=8, out_features=4, bias=True)\n    (1): LogSoftmax()\n  )\n)"
     },
     "metadata": {},
     "output_type": "execute_result",
     "execution_count": 23
    }
   ],
   "source": [
    "import hw4.rl_pg as hw4pg\n",
    "import hw4.answers\n",
    "\n",
    "hp = hw4.answers.part1_pg_hyperparams()\n",
    "\n",
    "# You can add keyword-args to this function which will be populated from the hyperparameters dict.\n",
    "p_net = hw4pg.PolicyNet.build_for_env(env, device, **hp)\n",
    "p_net"
   ]
  },
  {
   "cell_type": "markdown",
   "metadata": {},
   "source": [
    "Now we need an **agent**. The purpose of our agent will be to act according to the current policy and generate experiences.\n",
    "Our `PolicyAgent` will use a `PolicyNet` as the current policy function.\n",
    "\n",
    "\n",
    "We'll also define some extra datatypes to help us represent the data generated by our agent.\n",
    "You can find the `Experience`, `Episode` and `TrainBatch` datatypes in the `hw4/rl_data.py` module."
   ]
  },
  {
   "cell_type": "markdown",
   "metadata": {},
   "source": [
    "**TODO**: Implement the `current_action_distribution()` method of the `PolicyAgent` class in the `hw4/rl_pg.py` module."
   ]
  },
  {
   "cell_type": "code",
   "execution_count": 24,
   "metadata": {
    "pycharm": {
     "is_executing": false
    }
   },
   "outputs": [
    {
     "name": "stdout",
     "text": [
      "tensor([0.1929, 0.4049, 0.1210, 0.2811])\n"
     ],
     "output_type": "stream"
    },
    {
     "name": "stderr",
     "text": [
      "C:\\Users\\User\\Anaconda3\\envs\\cs236781-hw\\lib\\site-packages\\torch\\nn\\modules\\container.py:92: UserWarning: Implicit dimension choice for log_softmax has been deprecated. Change the call to include dim=X as an argument.\n",
      "  input = module(input)\n"
     ],
     "output_type": "stream"
    }
   ],
   "source": [
    "for i in range (10):\n",
    "    agent = hw4pg.PolicyAgent(env, p_net, device)\n",
    "    d = agent.current_action_distribution()\n",
    "    test.assertSequenceEqual(d.shape, (env.action_space.n,))\n",
    "    test.assertAlmostEqual(d.sum(), 1.0, delta=1e-5)\n",
    "    \n",
    "print(d)"
   ]
  },
  {
   "cell_type": "markdown",
   "metadata": {},
   "source": [
    "**TODO**: Implement the `step()` method of the `PolicyAgent`."
   ]
  },
  {
   "cell_type": "code",
   "execution_count": 25,
   "metadata": {
    "pycharm": {
     "is_executing": false
    }
   },
   "outputs": [
    {
     "name": "stdout",
     "text": [
      "Experience(state=array([-0.00397253,  1.3873216 , -0.20091343, -0.5372296 ,  0.0045599 ,\n",
      "        0.04503927,  0.        ,  0.        ], dtype=float32), action=0, reward=-1.3997984345101315, is_done=False)\n"
     ],
     "output_type": "stream"
    }
   ],
   "source": [
    "agent = hw4pg.PolicyAgent(env, p_net, device)\n",
    "exp = agent.step()\n",
    "\n",
    "test.assertIsInstance(exp, hw4pg.Experience)\n",
    "print(exp)"
   ]
  },
  {
   "cell_type": "markdown",
   "metadata": {},
   "source": [
    "To test our agent, we'll write some code that allows it to play an environment. We'll use the `Monitor`\n",
    "wrapper in `gym` to generate a video of the episode for visual debugging."
   ]
  },
  {
   "cell_type": "markdown",
   "metadata": {},
   "source": [
    "**TODO**: Complete the implementation of the `monitor_episode()` method of the `PolicyAgent`."
   ]
  },
  {
   "cell_type": "code",
   "execution_count": 26,
   "metadata": {
    "pycharm": {
     "is_executing": false
    }
   },
   "outputs": [],
   "source": [
    "env, n_steps, reward = agent.monitor_episode(ENV_NAME, p_net, device=device)"
   ]
  },
  {
   "cell_type": "markdown",
   "metadata": {},
   "source": [
    "To display the Monitor video in this notebook, we'll use a helper function from our `jupyter_utils` and a small wrapper that extracts the path of the last video file. "
   ]
  },
  {
   "cell_type": "code",
   "execution_count": 27,
   "metadata": {
    "pycharm": {
     "is_executing": false
    }
   },
   "outputs": [],
   "source": [
    "import cs236781.jupyter_utils as jupyter_utils\n",
    "\n",
    "def show_monitor_video(monitor_env, idx=0, **kw):\n",
    "    # Extract video path\n",
    "    video_path = monitor_env.videos[idx][0]\n",
    "    video_path = os.path.relpath(video_path, start=os.path.curdir)\n",
    "    \n",
    "    # Use helper function to embed the video\n",
    "    return jupyter_utils.show_video_in_notebook(video_path, **kw)"
   ]
  },
  {
   "cell_type": "code",
   "execution_count": 28,
   "metadata": {
    "pycharm": {
     "is_executing": false
    }
   },
   "outputs": [
    {
     "name": "stdout",
     "text": [
      "Episode ran for 72 steps. Total reward: -180.55\n"
     ],
     "output_type": "stream"
    },
    {
     "data": {
      "text/plain": "<IPython.core.display.HTML object>",
      "text/html": "<video src=\"data:video/mp4;base64,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\" controls autoplay width=\"500\" height=\"auto\" />"
     },
     "metadata": {},
     "output_type": "execute_result",
     "execution_count": 28
    }
   ],
   "source": [
    "print(f'Episode ran for {n_steps} steps. Total reward: {reward:.2f}')\n",
    "\n",
    "show_monitor_video(env, -1)"
   ]
  },
  {
   "cell_type": "markdown",
   "metadata": {},
   "source": [
    "### Training data"
   ]
  },
  {
   "cell_type": "markdown",
   "metadata": {},
   "source": [
    "The next step is to create data to train on.\n",
    "We need to train on batches of state-action pairs, so that our network can learn to predict the actions.\n",
    "\n",
    "We'll split this task into three parts:\n",
    "1. Generate a batch of `Episode`s, by using an `Agent` that's playing according to our current policy network.\n",
    "   Each `Episode` object contains the `Experience` objects created by the agent.\n",
    "2. Calculate the total discounted reward for each state we encountered and action we took. This is our action-value estimate.\n",
    "3. Convert the `Episode`s into a batch of tensors to train on.\n",
    "   Each batch will contain states, action taken per state, reward accrued, and the calculated estimated state-values.\n",
    "   These will be stored in a `TrainBatch` object.\n"
   ]
  },
  {
   "cell_type": "markdown",
   "metadata": {},
   "source": [
    "**TODO**: Complete the implementation of the `episode_batch_generator()` method in the `TrainBatchDataset` class within the `hw4.rl_data` module. This will address part 1 in the list above."
   ]
  },
  {
   "cell_type": "code",
   "execution_count": 29,
   "metadata": {
    "pycharm": {
     "is_executing": false
    }
   },
   "outputs": [
    {
     "name": "stdout",
     "text": [
      "First episode: Episode(total_reward=-103.86, #experences=69)\n"
     ],
     "output_type": "stream"
    }
   ],
   "source": [
    "import hw4.rl_data as hw4data\n",
    "\n",
    "def agent_fn():\n",
    "    env = gym.make(ENV_NAME)\n",
    "    hp = hw4.answers.part1_pg_hyperparams()\n",
    "    p_net = hw4pg.PolicyNet.build_for_env(env, device, **hp)\n",
    "    return hw4pg.PolicyAgent(env, p_net, device)\n",
    "    \n",
    "ds = hw4data.TrainBatchDataset(agent_fn, episode_batch_size=8, gamma=0.9)\n",
    "batch_gen = ds.episode_batch_generator()\n",
    "b = next(batch_gen)\n",
    "print('First episode:', b[0])\n",
    "\n",
    "test.assertEqual(len(b), 8)\n",
    "for ep in b:\n",
    "    test.assertIsInstance(ep, hw4data.Episode)\n",
    "    \n",
    "    # Check that it's a full episode\n",
    "    is_done = [exp.is_done for exp in ep.experiences]\n",
    "    test.assertFalse(any(is_done[0:-1]))\n",
    "    test.assertTrue(is_done[-1])"
   ]
  },
  {
   "cell_type": "markdown",
   "metadata": {},
   "source": [
    "**TODO**: Complete the implementation of the `calc_qvals()` method in the `Episode` class.\n",
    "This will address part 2.\n",
    "These q-values are an estimate of the actual action value function: $$\\hat{q}_{t} = \\sum_{t'\\geq t} \\gamma^{t'-t}r_{t'+1}.$$"
   ]
  },
  {
   "cell_type": "code",
   "execution_count": 30,
   "metadata": {
    "pycharm": {
     "is_executing": false
    }
   },
   "outputs": [],
   "source": [
    "np.random.seed(SEED)\n",
    "test_rewards = np.random.randint(-10, 10, 100)\n",
    "test_experiences = [hw4pg.Experience(None,None,r,False) for r in test_rewards] \n",
    "test_episode = hw4data.Episode(np.sum(test_rewards), test_experiences)\n",
    "\n",
    "qvals = test_episode.calc_qvals(0.9)\n",
    "qvals = list(qvals)\n",
    "\n",
    "expected_qvals = np.load(os.path.join('tests', 'assets', 'part1_expected_qvals.npy'))\n",
    "for i in range(len(test_rewards)):\n",
    "    test.assertAlmostEqual(expected_qvals[i], qvals[i], delta=1e-3)"
   ]
  },
  {
   "cell_type": "markdown",
   "metadata": {},
   "source": [
    "**TODO**: Complete the implementation of the `from_episodes()` method in the `TrainBatch` class.\n",
    "This will address part 3.\n",
    "\n",
    "Notes:\n",
    "- The `TrainBatchDataset` class provides a generator function that will use the above function to lazily generate batches of training samples and labels on demand.\n",
    "- This allows us to use a standard `PyTorch` dataloader to wrap our Dataset and provide us with parallel data loading for free!\n",
    "  This means we can run multiple environments with multiple agents in separate background processes to generate data for training and thus prevent the data loading bottleneck which is caused by the fact that we must generate full Episodes to train on in order to calculate the q-values.\n",
    "- We'll set the `DataLoader`'s `batch_size` to `None` because we have already implemented custom batching in our dataset."
   ]
  },
  {
   "cell_type": "code",
   "execution_count": 31,
   "metadata": {
    "pycharm": {
     "is_executing": false
    }
   },
   "outputs": [
    {
     "name": "stdout",
     "text": [
      "#0: TrainBatch(states: torch.Size([708, 8]), actions: torch.Size([708]), q_vals: torch.Size([708])), num_episodes: 708)\n",
      "#1: TrainBatch(states: torch.Size([700, 8]), actions: torch.Size([700]), q_vals: torch.Size([700])), num_episodes: 700)\n",
      "#2: TrainBatch(states: torch.Size([683, 8]), actions: torch.Size([683]), q_vals: torch.Size([683])), num_episodes: 683)\n",
      "#3: TrainBatch(states: torch.Size([652, 8]), actions: torch.Size([652]), q_vals: torch.Size([652])), num_episodes: 652)\n",
      "#4: TrainBatch(states: torch.Size([666, 8]), actions: torch.Size([666]), q_vals: torch.Size([666])), num_episodes: 666)\n",
      "#5: TrainBatch(states: torch.Size([682, 8]), actions: torch.Size([682]), q_vals: torch.Size([682])), num_episodes: 682)\n",
      "#6: TrainBatch(states: torch.Size([609, 8]), actions: torch.Size([609]), q_vals: torch.Size([609])), num_episodes: 609)\n"
     ],
     "output_type": "stream"
    }
   ],
   "source": [
    "from torch.utils.data import DataLoader\n",
    "\n",
    "ds = hw4data.TrainBatchDataset(agent_fn, episode_batch_size=8, gamma=0.9)\n",
    "dl = DataLoader(ds, batch_size=None, num_workers=0) # Run multiple agents/env in separate worker process\n",
    "\n",
    "\n",
    "for i, train_batch in enumerate(dl):\n",
    "    states, actions, qvals, reward_mean = train_batch\n",
    "    print(f'#{i}: {train_batch}')\n",
    "    test.assertEqual(states.shape[0], actions.shape[0])\n",
    "    test.assertEqual(qvals.shape[0], actions.shape[0])\n",
    "    test.assertEqual(states.shape[1], env.observation_space.shape[0])\n",
    "    if i > 5:\n",
    "        break"
   ]
  },
  {
   "cell_type": "markdown",
   "metadata": {},
   "source": [
    "### Loss functions"
   ]
  },
  {
   "cell_type": "markdown",
   "metadata": {},
   "source": [
    "As usual, we need a loss function to optimize over.\n",
    "We'll calculate three types of losses:\n",
    "1. The causal vanilla policy gradient loss.\n",
    "1. The policy gradient loss, with a baseline to reduce variance.\n",
    "2. An entropy-based loss whos purpose is to diversify the agent's action selection,\n",
    "   and prevent it from being \"too sure\" about its actions.\n",
    "   This loss will be used together with one of the above losses."
   ]
  },
  {
   "cell_type": "markdown",
   "metadata": {},
   "source": [
    "#### Causal vanilla policy-gradient"
   ]
  },
  {
   "cell_type": "markdown",
   "metadata": {},
   "source": [
    "We have derived the policy-gradient as\n",
    "$$\n",
    "\\grad\\mathcal{L}(\\vec{\\theta}) = \\E[\\tau]{-g(\\tau)\\sum_{t\\geq0} \\grad\\log \\pi_{\\vec{\\theta}}(a_t|s_t)}.\n",
    "$$\n",
    "\n",
    "By writing the discounted reward explicitly and enforcing causality, i.e. the action taken at time $t$ can't affect\n",
    "the reward at time $t'<t$, we can get a slightly lower-variance version of the policy gradient:\n",
    "\n",
    "$$\n",
    "\\grad\\mathcal{L}_{\\text{PG}}(\\vec{\\theta}) = \n",
    "\\E[\\tau]{-\\sum_{t\\geq0} \\left(\\sum_{t'\\geq t} \\gamma^{t'}r_{t'+1} \\right)\\grad\\log \\pi_{\\vec{\\theta}}(a_t|s_t)}.\n",
    "$$"
   ]
  },
  {
   "cell_type": "markdown",
   "metadata": {},
   "source": [
    "In practice, the expectation over trajectories is calculated using a Monte-Carlo approach, i.e. simply sampling $N$\n",
    "trajectories and average the term inside the expectation. Therefore, we will use the following estimated version of the policy gradient:\n",
    "\n",
    "$$\n",
    "\\begin{align}\n",
    "\\hat\\grad\\mathcal{L}_{\\text{PG}}(\\vec{\\theta})\n",
    "&=-\\frac{1}{N}\\sum_{i=1}^{N}\\sum_{t\\geq0} \\left(\\sum_{t'\\geq t} \\gamma^{t'}r_{i,t'+1} \\right)\\grad\\log \\pi_{\\vec{\\theta}}(a_{i,t}|s_{i,t}) \\\\\n",
    "&=-\\frac{1}{N}\\sum_{i=1}^{N}\\sum_{t\\geq0} \\hat{q}_{i,t} \\grad\\log \\pi_{\\vec{\\theta}}(a_{i,t}|s_{i,t}).\n",
    "\\end{align}\n",
    "$$\n",
    "\n",
    "Note the use of the notation $\\hat{q}_{i,t}$ to represent the estimated action-value at time $t$ in the sampled trajectory $i$.\n",
    "Here $\\hat{q}_{i,t}$ is acting as the weight-term for the policy gradient."
   ]
  },
  {
   "cell_type": "markdown",
   "metadata": {},
   "source": [
    "**TODO**: Complete the implementation of the `VanillaPolicyGradientLoss` class in the `hw4/rl_pg.py` module."
   ]
  },
  {
   "cell_type": "code",
   "execution_count": 32,
   "metadata": {
    "pycharm": {
     "is_executing": false
    }
   },
   "outputs": [
    {
     "name": "stdout",
     "text": [
      "loss = tensor(-35.5355)\n"
     ],
     "output_type": "stream"
    }
   ],
   "source": [
    "# Ensure deterministic run\n",
    "env = gym.make(ENV_NAME)\n",
    "env.seed(SEED)\n",
    "torch.manual_seed(SEED)\n",
    "\n",
    "def agent_fn():\n",
    "    # Use a simple \"network\" here, so that this test doesn't depend on your specific PolicyNet implementation\n",
    "    p_net_test = nn.Linear(8, 4)\n",
    "    agent = hw4pg.PolicyAgent(env, p_net_test)\n",
    "    return agent\n",
    "\n",
    "dataloader = hw4data.TrainBatchDataset(agent_fn, gamma=0.9, episode_batch_size=4)\n",
    "\n",
    "test_batch = next(iter(dataloader))\n",
    "test_action_scores = torch.randn(len(test_batch), env.action_space.n)\n",
    "\n",
    "loss_fn_p = hw4pg.VanillaPolicyGradientLoss()\n",
    "loss_p, _ = loss_fn_p(test_batch, test_action_scores)\n",
    "\n",
    "print('loss =', loss_p)\n",
    "test.assertAlmostEqual(loss_p.item(), -35.535522, delta=1e-3)"
   ]
  },
  {
   "cell_type": "markdown",
   "metadata": {},
   "source": [
    "#### Policy-gradient with baseline"
   ]
  },
  {
   "cell_type": "markdown",
   "metadata": {},
   "source": [
    "Another way to reduce the variance of our gradient is to use relative weighting of the log-policy instead of absolute reward values.\n",
    "$$\n",
    "\\hat\\grad\\mathcal{L}_{\\text{BPG}}(\\vec{\\theta})\n",
    "=-\\frac{1}{N}\\sum_{i=1}^{N}\\sum_{t\\geq0} \\left(\\hat{q}_{i,t}-b\\right) \\grad\\log \\pi_{\\vec{\\theta}}(a_{i,t}|s_{i,t}).\n",
    "$$\n",
    "In other words, we don't measure a trajectory's worth by it's total reward, but by how much better that total reward is relative to some\n",
    "expected (\"baseline\") reward value, denoted above by $b$.\n",
    "Note that subtracting a baseline has no effect on the expected value of the policy gradient. It's easy to prove this directly by definition.\n",
    "\n",
    "Here we'll implement a very simple baseline (not optimal in terms of variance reduction): the average of the estimated state-values $\\hat{q}_{i,t}$."
   ]
  },
  {
   "cell_type": "markdown",
   "metadata": {},
   "source": [
    "**TODO**: Complete the implementation of the `BaselinePolicyGradientLoss` class in the `hw4/rl_pg.py` module."
   ]
  },
  {
   "cell_type": "code",
   "execution_count": 33,
   "metadata": {
    "pycharm": {
     "is_executing": false
    }
   },
   "outputs": [
    {
     "name": "stdout",
     "text": [
      "loss = tensor(-2.4665)\n"
     ],
     "output_type": "stream"
    }
   ],
   "source": [
    "# Using the same batch and action_scores from above cell\n",
    "loss_fn_p = hw4pg.BaselinePolicyGradientLoss()\n",
    "loss_p, _ = loss_fn_p(test_batch, test_action_scores)\n",
    "\n",
    "print('loss =', loss_p)\n",
    "test.assertAlmostEqual(loss_p.item(), -2.4665009, delta=1e-3)"
   ]
  },
  {
   "cell_type": "markdown",
   "metadata": {},
   "source": [
    "#### Entropy loss"
   ]
  },
  {
   "cell_type": "markdown",
   "metadata": {},
   "source": [
    "The entropy of a probability distribution (in our case the policy), is\n",
    "$$\n",
    "H(\\pi) = -\\sum_{a} \\pi(a|s)\\log\\pi(a|s).\n",
    "$$\n",
    "The entropy is always positive and obtains it's maximum for a uniform distribution.\n",
    "We'll use the entropy of the policy as a bonus, i.e. we'll try to maximize it.\n",
    "The idea is the prevent the policy distribution from becoming too narrow and thus promote the agent's exploration."
   ]
  },
  {
   "cell_type": "markdown",
   "metadata": {},
   "source": [
    "First, we'll calculate the maximal possible entropy value of the action distribution for a set number of possible actions.\n",
    "This will be used as a normalization term.\n",
    "\n",
    "**TODO**: Complete the implementation of the `calc_max_entropy()` method in the `ActionEntropyLoss` class."
   ]
  },
  {
   "cell_type": "code",
   "execution_count": 34,
   "metadata": {
    "pycharm": {
     "is_executing": false
    }
   },
   "outputs": [
    {
     "name": "stdout",
     "text": [
      "max_entropy =  tensor([1.3863])\n"
     ],
     "output_type": "stream"
    }
   ],
   "source": [
    "loss_fn_e = hw4pg.ActionEntropyLoss(env.action_space.n)\n",
    "print('max_entropy = ', loss_fn_e.max_entropy)\n",
    "\n",
    "test.assertAlmostEqual(loss_fn_e.max_entropy, 1.38629436, delta=1e-3)"
   ]
  },
  {
   "cell_type": "markdown",
   "metadata": {},
   "source": [
    "**TODO**: Complete the implementation of the `forward()` method in the `ActionEntropyLoss` class."
   ]
  },
  {
   "cell_type": "code",
   "execution_count": 35,
   "metadata": {
    "pycharm": {
     "is_executing": false
    }
   },
   "outputs": [
    {
     "name": "stdout",
     "text": [
      "loss =  tensor(-0.7927)\n"
     ],
     "output_type": "stream"
    }
   ],
   "source": [
    "loss_e, _ = loss_fn_e(test_batch, test_action_scores)\n",
    "print('loss = ', loss_e)\n",
    "\n",
    "test.assertAlmostEqual(loss_e.item(), -0.7927002, delta=1e-3)"
   ]
  },
  {
   "cell_type": "markdown",
   "metadata": {},
   "source": [
    "### Training"
   ]
  },
  {
   "cell_type": "markdown",
   "metadata": {},
   "source": [
    "We'll implement our training procedure as follows:\n",
    "\n",
    "1. Initialize the current policy to be a random policy.\n",
    "1. Sample $N$ trajectories from the environment using the current policy.\n",
    "2. Calculate the estimated $q$-values, $\\hat{q}_{i,t} = \\sum_{t'\\geq t} \\gamma^{t'}r_{i,t'+1}$ for each trajectory $i$.\n",
    "3. Calculate policy gradient estimate $\\hat\\grad\\mathcal{L}(\\vec{\\theta})$ as defined above.\n",
    "4. Perform SGD update $\\vec{\\theta}\\leftarrow\\vec{\\theta}-\\eta\\hat\\grad\\mathcal{L}(\\vec{\\theta})$.\n",
    "5. Repeat from step 2.\n",
    "\n",
    "This is known as the **REINFORCE** algorithm."
   ]
  },
  {
   "cell_type": "markdown",
   "metadata": {},
   "source": [
    "Fortunately, we've already implemented everything we need for steps 1-4 so we need only a bit more code to put it all together.\n",
    "\n",
    "The following block implements a wrapper, `train_pg` to create all the objects we need in order to train our policy gradient model.\n"
   ]
  },
  {
   "cell_type": "code",
   "execution_count": 36,
   "metadata": {
    "pycharm": {
     "is_executing": false
    }
   },
   "outputs": [],
   "source": [
    "import hw4.answers\n",
    "from functools import partial\n",
    "\n",
    "ENV_NAME = \"Beresheet-v2\"\n",
    "\n",
    "def agent_fn_train(agent_type, p_net, seed, envs_dict):\n",
    "    winfo = torch.utils.data.get_worker_info()\n",
    "    wid = winfo.id if winfo else 0\n",
    "    seed = seed + wid if seed else wid\n",
    "\n",
    "    env = gym.make(ENV_NAME)\n",
    "    envs_dict[wid] = env\n",
    "    env.seed(seed)\n",
    "    np.random.seed(seed)\n",
    "    torch.manual_seed(seed)\n",
    "\n",
    "    return agent_type(env, p_net)\n",
    "\n",
    "def train_rl(agent_type, net_type, loss_fns, hp, seed=None, checkpoints_file=None, **train_kw):\n",
    "    print(f'hyperparams: {hp}')\n",
    "    \n",
    "    envs = {}\n",
    "    p_net = net_type(ENV_N_OBSERVATIONS, ENV_N_ACTIONS, **hp)\n",
    "    p_net.share_memory()\n",
    "    agent_fn = partial(agent_fn_train, agent_type, p_net, seed, envs)\n",
    "    \n",
    "    dataset = hw4data.TrainBatchDataset(agent_fn, hp['batch_size'], hp['gamma'])\n",
    "    dataloader = DataLoader(dataset, batch_size=None, num_workers=2)\n",
    "    optimizer = optim.Adam(p_net.parameters(), lr=hp['learn_rate'], eps=hp['eps'])\n",
    "    \n",
    "    trainer = hw4pg.PolicyTrainer(p_net, optimizer, loss_fns, dataloader, checkpoints_file)\n",
    "    try:\n",
    "        trainer.train(**train_kw)\n",
    "    except KeyboardInterrupt as e:\n",
    "        print('Training interrupted by user.')\n",
    "    finally:\n",
    "        for env in envs.values():\n",
    "            env.close()\n",
    "\n",
    "    # Include final model state\n",
    "    training_data = trainer.training_data\n",
    "    training_data['model_state'] = p_net.state_dict()\n",
    "    return training_data\n",
    "    \n",
    "def train_pg(baseline=False, entropy=False, **train_kwargs):\n",
    "    hp = hw4.answers.part1_pg_hyperparams()\n",
    "    \n",
    "    loss_fns = []\n",
    "    if baseline:\n",
    "        loss_fns.append(hw4pg.BaselinePolicyGradientLoss())\n",
    "    else:\n",
    "        loss_fns.append(hw4pg.VanillaPolicyGradientLoss())\n",
    "    if entropy:\n",
    "        loss_fns.append(hw4pg.ActionEntropyLoss(ENV_N_ACTIONS, hp['beta']))\n",
    "\n",
    "    return train_rl(hw4pg.PolicyAgent, hw4pg.PolicyNet, loss_fns, hp, **train_kwargs)"
   ]
  },
  {
   "cell_type": "markdown",
   "metadata": {},
   "source": [
    "The `PolicyTrainer` class implements the training loop, collects the losses and rewards and provides some useful checkpointing functionality.\n",
    "The training loop will generate batches of episodes and train on them until either:\n",
    "- The average total reward from the last `running_mean_len` episodes is greater than the `target_reward`, OR\n",
    "- The number of generated episodes reached `max_episodes`.\n",
    "\n",
    "Most of this class is already implemented for you. "
   ]
  },
  {
   "cell_type": "markdown",
   "metadata": {},
   "source": [
    "**TODO**:\n",
    "1. Complete the training loop by implementing the `train_batch()` method of the `PolicyTrainer`.\n",
    "2. Tweak the hyperparameters in the `part1_pg_hyperparams()` function within the `hw4/answers.py` module as needed. You get some sane defaults."
   ]
  },
  {
   "cell_type": "markdown",
   "metadata": {},
   "source": [
    "Let's check whether our model is actually training.\n",
    "We'll try to reach a very low (bad) target reward, just as a sanity check to see that training works.\n",
    "Your model should be able to reach this target reward within a few batches.\n",
    "\n",
    "You can increase the target reward and use this block to manually tweak your model and hyperparameters a few times."
   ]
  },
  {
   "cell_type": "code",
   "execution_count": 39,
   "metadata": {
    "pycharm": {
     "is_executing": false
    }
   },
   "outputs": [
    {
     "name": "stdout",
     "text": [
      "hyperparams: {'batch_size': 32, 'gamma': 0.99, 'beta': 0.5, 'learn_rate': 0.001, 'eps': 1e-08}\n",
      "=== Training...\n",
      "  0%|          | 0/2000 [00:07<?, ?it/s]\n"
     ],
     "output_type": "stream"
    },
    {
     "traceback": [
      "\u001b[1;31m---------------------------------------------------------------------------\u001b[0m",
      "\u001b[1;31mEmpty\u001b[0m                                     Traceback (most recent call last)",
      "\u001b[1;32m~\\Anaconda3\\envs\\cs236781-hw\\lib\\site-packages\\torch\\utils\\data\\dataloader.py\u001b[0m in \u001b[0;36m_try_get_data\u001b[1;34m(self, timeout)\u001b[0m\n\u001b[0;32m    723\u001b[0m         \u001b[1;32mtry\u001b[0m\u001b[1;33m:\u001b[0m\u001b[1;33m\u001b[0m\u001b[1;33m\u001b[0m\u001b[0m\n\u001b[1;32m--> 724\u001b[1;33m             \u001b[0mdata\u001b[0m \u001b[1;33m=\u001b[0m \u001b[0mself\u001b[0m\u001b[1;33m.\u001b[0m\u001b[0m_data_queue\u001b[0m\u001b[1;33m.\u001b[0m\u001b[0mget\u001b[0m\u001b[1;33m(\u001b[0m\u001b[0mtimeout\u001b[0m\u001b[1;33m=\u001b[0m\u001b[0mtimeout\u001b[0m\u001b[1;33m)\u001b[0m\u001b[1;33m\u001b[0m\u001b[1;33m\u001b[0m\u001b[0m\n\u001b[0m\u001b[0;32m    725\u001b[0m             \u001b[1;32mreturn\u001b[0m \u001b[1;33m(\u001b[0m\u001b[1;32mTrue\u001b[0m\u001b[1;33m,\u001b[0m \u001b[0mdata\u001b[0m\u001b[1;33m)\u001b[0m\u001b[1;33m\u001b[0m\u001b[1;33m\u001b[0m\u001b[0m\n",
      "\u001b[1;32m~\\Anaconda3\\envs\\cs236781-hw\\lib\\multiprocessing\\queues.py\u001b[0m in \u001b[0;36mget\u001b[1;34m(self, block, timeout)\u001b[0m\n\u001b[0;32m    104\u001b[0m                     \u001b[1;32mif\u001b[0m \u001b[1;32mnot\u001b[0m \u001b[0mself\u001b[0m\u001b[1;33m.\u001b[0m\u001b[0m_poll\u001b[0m\u001b[1;33m(\u001b[0m\u001b[0mtimeout\u001b[0m\u001b[1;33m)\u001b[0m\u001b[1;33m:\u001b[0m\u001b[1;33m\u001b[0m\u001b[1;33m\u001b[0m\u001b[0m\n\u001b[1;32m--> 105\u001b[1;33m                         \u001b[1;32mraise\u001b[0m \u001b[0mEmpty\u001b[0m\u001b[1;33m\u001b[0m\u001b[1;33m\u001b[0m\u001b[0m\n\u001b[0m\u001b[0;32m    106\u001b[0m                 \u001b[1;32melif\u001b[0m \u001b[1;32mnot\u001b[0m \u001b[0mself\u001b[0m\u001b[1;33m.\u001b[0m\u001b[0m_poll\u001b[0m\u001b[1;33m(\u001b[0m\u001b[1;33m)\u001b[0m\u001b[1;33m:\u001b[0m\u001b[1;33m\u001b[0m\u001b[1;33m\u001b[0m\u001b[0m\n",
      "\u001b[1;31mEmpty\u001b[0m: ",
      "\nDuring handling of the above exception, another exception occurred:\n",
      "\u001b[1;31mRuntimeError\u001b[0m                              Traceback (most recent call last)",
      "\u001b[1;32m<ipython-input-39-db82704df0be>\u001b[0m in \u001b[0;36m<module>\u001b[1;34m\u001b[0m\n\u001b[0;32m      1\u001b[0m \u001b[1;31m# pydev_debug_cell\u001b[0m\u001b[1;33m\u001b[0m\u001b[1;33m\u001b[0m\u001b[1;33m\u001b[0m\u001b[0m\n\u001b[0;32m      2\u001b[0m \u001b[0mtarget_reward\u001b[0m \u001b[1;33m=\u001b[0m \u001b[1;33m-\u001b[0m\u001b[1;36m150\u001b[0m \u001b[1;31m# VERY LOW target\u001b[0m\u001b[1;33m\u001b[0m\u001b[1;33m\u001b[0m\u001b[0m\n\u001b[1;32m----> 3\u001b[1;33m \u001b[0mtrain_data\u001b[0m \u001b[1;33m=\u001b[0m \u001b[0mtrain_pg\u001b[0m\u001b[1;33m(\u001b[0m\u001b[0mtarget_reward\u001b[0m\u001b[1;33m=\u001b[0m\u001b[0mtarget_reward\u001b[0m\u001b[1;33m,\u001b[0m \u001b[0mseed\u001b[0m\u001b[1;33m=\u001b[0m\u001b[0mSEED\u001b[0m\u001b[1;33m,\u001b[0m \u001b[0mmax_episodes\u001b[0m\u001b[1;33m=\u001b[0m\u001b[1;36m2000\u001b[0m\u001b[1;33m,\u001b[0m \u001b[0mrunning_mean_len\u001b[0m\u001b[1;33m=\u001b[0m\u001b[1;36m10\u001b[0m\u001b[1;33m)\u001b[0m\u001b[1;33m\u001b[0m\u001b[1;33m\u001b[0m\u001b[0m\n\u001b[0m\u001b[0;32m      4\u001b[0m \u001b[1;33m\u001b[0m\u001b[0m\n\u001b[0;32m      5\u001b[0m \u001b[0mtest\u001b[0m\u001b[1;33m.\u001b[0m\u001b[0massertGreater\u001b[0m\u001b[1;33m(\u001b[0m\u001b[0mtrain_data\u001b[0m\u001b[1;33m[\u001b[0m\u001b[1;34m'mean_reward'\u001b[0m\u001b[1;33m]\u001b[0m\u001b[1;33m[\u001b[0m\u001b[1;33m-\u001b[0m\u001b[1;36m1\u001b[0m\u001b[1;33m]\u001b[0m\u001b[1;33m,\u001b[0m \u001b[0mtarget_reward\u001b[0m\u001b[1;33m)\u001b[0m\u001b[1;33m\u001b[0m\u001b[1;33m\u001b[0m\u001b[0m\n",
      "\u001b[1;32m<ipython-input-36-c2d0296a00f0>\u001b[0m in \u001b[0;36mtrain_pg\u001b[1;34m(baseline, entropy, **train_kwargs)\u001b[0m\n\u001b[0;32m     54\u001b[0m         \u001b[0mloss_fns\u001b[0m\u001b[1;33m.\u001b[0m\u001b[0mappend\u001b[0m\u001b[1;33m(\u001b[0m\u001b[0mhw4pg\u001b[0m\u001b[1;33m.\u001b[0m\u001b[0mActionEntropyLoss\u001b[0m\u001b[1;33m(\u001b[0m\u001b[0mENV_N_ACTIONS\u001b[0m\u001b[1;33m,\u001b[0m \u001b[0mhp\u001b[0m\u001b[1;33m[\u001b[0m\u001b[1;34m'beta'\u001b[0m\u001b[1;33m]\u001b[0m\u001b[1;33m)\u001b[0m\u001b[1;33m)\u001b[0m\u001b[1;33m\u001b[0m\u001b[1;33m\u001b[0m\u001b[0m\n\u001b[0;32m     55\u001b[0m \u001b[1;33m\u001b[0m\u001b[0m\n\u001b[1;32m---> 56\u001b[1;33m     \u001b[1;32mreturn\u001b[0m \u001b[0mtrain_rl\u001b[0m\u001b[1;33m(\u001b[0m\u001b[0mhw4pg\u001b[0m\u001b[1;33m.\u001b[0m\u001b[0mPolicyAgent\u001b[0m\u001b[1;33m,\u001b[0m \u001b[0mhw4pg\u001b[0m\u001b[1;33m.\u001b[0m\u001b[0mPolicyNet\u001b[0m\u001b[1;33m,\u001b[0m \u001b[0mloss_fns\u001b[0m\u001b[1;33m,\u001b[0m \u001b[0mhp\u001b[0m\u001b[1;33m,\u001b[0m \u001b[1;33m**\u001b[0m\u001b[0mtrain_kwargs\u001b[0m\u001b[1;33m)\u001b[0m\u001b[1;33m\u001b[0m\u001b[1;33m\u001b[0m\u001b[0m\n\u001b[0m\u001b[0;32m     57\u001b[0m \u001b[1;33m\u001b[0m\u001b[0m\n",
      "\u001b[1;32m<ipython-input-36-c2d0296a00f0>\u001b[0m in \u001b[0;36mtrain_rl\u001b[1;34m(agent_type, net_type, loss_fns, hp, seed, checkpoints_file, **train_kw)\u001b[0m\n\u001b[0;32m     31\u001b[0m     \u001b[0mtrainer\u001b[0m \u001b[1;33m=\u001b[0m \u001b[0mhw4pg\u001b[0m\u001b[1;33m.\u001b[0m\u001b[0mPolicyTrainer\u001b[0m\u001b[1;33m(\u001b[0m\u001b[0mp_net\u001b[0m\u001b[1;33m,\u001b[0m \u001b[0moptimizer\u001b[0m\u001b[1;33m,\u001b[0m \u001b[0mloss_fns\u001b[0m\u001b[1;33m,\u001b[0m \u001b[0mdataloader\u001b[0m\u001b[1;33m,\u001b[0m \u001b[0mcheckpoints_file\u001b[0m\u001b[1;33m)\u001b[0m\u001b[1;33m\u001b[0m\u001b[1;33m\u001b[0m\u001b[0m\n\u001b[0;32m     32\u001b[0m     \u001b[1;32mtry\u001b[0m\u001b[1;33m:\u001b[0m\u001b[1;33m\u001b[0m\u001b[1;33m\u001b[0m\u001b[0m\n\u001b[1;32m---> 33\u001b[1;33m         \u001b[0mtrainer\u001b[0m\u001b[1;33m.\u001b[0m\u001b[0mtrain\u001b[0m\u001b[1;33m(\u001b[0m\u001b[1;33m**\u001b[0m\u001b[0mtrain_kw\u001b[0m\u001b[1;33m)\u001b[0m\u001b[1;33m\u001b[0m\u001b[1;33m\u001b[0m\u001b[0m\n\u001b[0m\u001b[0;32m     34\u001b[0m     \u001b[1;32mexcept\u001b[0m \u001b[0mKeyboardInterrupt\u001b[0m \u001b[1;32mas\u001b[0m \u001b[0me\u001b[0m\u001b[1;33m:\u001b[0m\u001b[1;33m\u001b[0m\u001b[1;33m\u001b[0m\u001b[0m\n\u001b[0;32m     35\u001b[0m         \u001b[0mprint\u001b[0m\u001b[1;33m(\u001b[0m\u001b[1;34m'Training interrupted by user.'\u001b[0m\u001b[1;33m)\u001b[0m\u001b[1;33m\u001b[0m\u001b[1;33m\u001b[0m\u001b[0m\n",
      "\u001b[1;32m~\\OneDrive - Technion\\Semester H\\DL\\hw4\\hw4\\rl_pg.py\u001b[0m in \u001b[0;36mtrain\u001b[1;34m(self, target_reward, running_mean_len, max_episodes, post_batch_fn)\u001b[0m\n\u001b[0;32m    377\u001b[0m         \u001b[0mprint\u001b[0m\u001b[1;33m(\u001b[0m\u001b[1;34m'=== Training...'\u001b[0m\u001b[1;33m)\u001b[0m\u001b[1;33m\u001b[0m\u001b[1;33m\u001b[0m\u001b[0m\n\u001b[0;32m    378\u001b[0m         \u001b[1;32mwith\u001b[0m \u001b[0mtqdm\u001b[0m\u001b[1;33m.\u001b[0m\u001b[0mtqdm\u001b[0m\u001b[1;33m(\u001b[0m\u001b[0mtotal\u001b[0m\u001b[1;33m=\u001b[0m\u001b[0mmax_episodes\u001b[0m\u001b[1;33m,\u001b[0m \u001b[0mfile\u001b[0m\u001b[1;33m=\u001b[0m\u001b[0mpbar_file\u001b[0m\u001b[1;33m)\u001b[0m \u001b[1;32mas\u001b[0m \u001b[0mpbar\u001b[0m\u001b[1;33m:\u001b[0m\u001b[1;33m\u001b[0m\u001b[1;33m\u001b[0m\u001b[0m\n\u001b[1;32m--> 379\u001b[1;33m             \u001b[1;32mfor\u001b[0m \u001b[0mi\u001b[0m\u001b[1;33m,\u001b[0m \u001b[0mbatch\u001b[0m \u001b[1;32min\u001b[0m \u001b[0menumerate\u001b[0m\u001b[1;33m(\u001b[0m\u001b[0mself\u001b[0m\u001b[1;33m.\u001b[0m\u001b[0mdataloader\u001b[0m\u001b[1;33m,\u001b[0m \u001b[0mstart\u001b[0m\u001b[1;33m=\u001b[0m\u001b[0mi\u001b[0m\u001b[1;33m)\u001b[0m\u001b[1;33m:\u001b[0m\u001b[1;33m\u001b[0m\u001b[1;33m\u001b[0m\u001b[0m\n\u001b[0m\u001b[0;32m    380\u001b[0m                 \u001b[0mstep_num\u001b[0m \u001b[1;33m+=\u001b[0m \u001b[0mlen\u001b[0m\u001b[1;33m(\u001b[0m\u001b[0mbatch\u001b[0m\u001b[1;33m.\u001b[0m\u001b[0mstates\u001b[0m\u001b[1;33m)\u001b[0m\u001b[1;33m\u001b[0m\u001b[1;33m\u001b[0m\u001b[0m\n\u001b[0;32m    381\u001b[0m                 \u001b[0mepisode_num\u001b[0m \u001b[1;33m+=\u001b[0m \u001b[0mbatch\u001b[0m\u001b[1;33m.\u001b[0m\u001b[0mnum_episodes\u001b[0m\u001b[1;33m\u001b[0m\u001b[1;33m\u001b[0m\u001b[0m\n",
      "\u001b[1;32m~\\Anaconda3\\envs\\cs236781-hw\\lib\\site-packages\\torch\\utils\\data\\dataloader.py\u001b[0m in \u001b[0;36m__next__\u001b[1;34m(self)\u001b[0m\n\u001b[0;32m    802\u001b[0m \u001b[1;33m\u001b[0m\u001b[0m\n\u001b[0;32m    803\u001b[0m             \u001b[1;32massert\u001b[0m \u001b[1;32mnot\u001b[0m \u001b[0mself\u001b[0m\u001b[1;33m.\u001b[0m\u001b[0m_shutdown\u001b[0m \u001b[1;32mand\u001b[0m \u001b[0mself\u001b[0m\u001b[1;33m.\u001b[0m\u001b[0m_tasks_outstanding\u001b[0m \u001b[1;33m>\u001b[0m \u001b[1;36m0\u001b[0m\u001b[1;33m\u001b[0m\u001b[1;33m\u001b[0m\u001b[0m\n\u001b[1;32m--> 804\u001b[1;33m             \u001b[0midx\u001b[0m\u001b[1;33m,\u001b[0m \u001b[0mdata\u001b[0m \u001b[1;33m=\u001b[0m \u001b[0mself\u001b[0m\u001b[1;33m.\u001b[0m\u001b[0m_get_data\u001b[0m\u001b[1;33m(\u001b[0m\u001b[1;33m)\u001b[0m\u001b[1;33m\u001b[0m\u001b[1;33m\u001b[0m\u001b[0m\n\u001b[0m\u001b[0;32m    805\u001b[0m             \u001b[0mself\u001b[0m\u001b[1;33m.\u001b[0m\u001b[0m_tasks_outstanding\u001b[0m \u001b[1;33m-=\u001b[0m \u001b[1;36m1\u001b[0m\u001b[1;33m\u001b[0m\u001b[1;33m\u001b[0m\u001b[0m\n\u001b[0;32m    806\u001b[0m \u001b[1;33m\u001b[0m\u001b[0m\n",
      "\u001b[1;32m~\\Anaconda3\\envs\\cs236781-hw\\lib\\site-packages\\torch\\utils\\data\\dataloader.py\u001b[0m in \u001b[0;36m_get_data\u001b[1;34m(self)\u001b[0m\n\u001b[0;32m    769\u001b[0m         \u001b[1;32melse\u001b[0m\u001b[1;33m:\u001b[0m\u001b[1;33m\u001b[0m\u001b[1;33m\u001b[0m\u001b[0m\n\u001b[0;32m    770\u001b[0m             \u001b[1;32mwhile\u001b[0m \u001b[1;32mTrue\u001b[0m\u001b[1;33m:\u001b[0m\u001b[1;33m\u001b[0m\u001b[1;33m\u001b[0m\u001b[0m\n\u001b[1;32m--> 771\u001b[1;33m                 \u001b[0msuccess\u001b[0m\u001b[1;33m,\u001b[0m \u001b[0mdata\u001b[0m \u001b[1;33m=\u001b[0m \u001b[0mself\u001b[0m\u001b[1;33m.\u001b[0m\u001b[0m_try_get_data\u001b[0m\u001b[1;33m(\u001b[0m\u001b[1;33m)\u001b[0m\u001b[1;33m\u001b[0m\u001b[1;33m\u001b[0m\u001b[0m\n\u001b[0m\u001b[0;32m    772\u001b[0m                 \u001b[1;32mif\u001b[0m \u001b[0msuccess\u001b[0m\u001b[1;33m:\u001b[0m\u001b[1;33m\u001b[0m\u001b[1;33m\u001b[0m\u001b[0m\n\u001b[0;32m    773\u001b[0m                     \u001b[1;32mreturn\u001b[0m \u001b[0mdata\u001b[0m\u001b[1;33m\u001b[0m\u001b[1;33m\u001b[0m\u001b[0m\n",
      "\u001b[1;32m~\\Anaconda3\\envs\\cs236781-hw\\lib\\site-packages\\torch\\utils\\data\\dataloader.py\u001b[0m in \u001b[0;36m_try_get_data\u001b[1;34m(self, timeout)\u001b[0m\n\u001b[0;32m    735\u001b[0m             \u001b[1;32mif\u001b[0m \u001b[0mlen\u001b[0m\u001b[1;33m(\u001b[0m\u001b[0mfailed_workers\u001b[0m\u001b[1;33m)\u001b[0m \u001b[1;33m>\u001b[0m \u001b[1;36m0\u001b[0m\u001b[1;33m:\u001b[0m\u001b[1;33m\u001b[0m\u001b[1;33m\u001b[0m\u001b[0m\n\u001b[0;32m    736\u001b[0m                 \u001b[0mpids_str\u001b[0m \u001b[1;33m=\u001b[0m \u001b[1;34m', '\u001b[0m\u001b[1;33m.\u001b[0m\u001b[0mjoin\u001b[0m\u001b[1;33m(\u001b[0m\u001b[0mstr\u001b[0m\u001b[1;33m(\u001b[0m\u001b[0mw\u001b[0m\u001b[1;33m.\u001b[0m\u001b[0mpid\u001b[0m\u001b[1;33m)\u001b[0m \u001b[1;32mfor\u001b[0m \u001b[0mw\u001b[0m \u001b[1;32min\u001b[0m \u001b[0mfailed_workers\u001b[0m\u001b[1;33m)\u001b[0m\u001b[1;33m\u001b[0m\u001b[1;33m\u001b[0m\u001b[0m\n\u001b[1;32m--> 737\u001b[1;33m                 \u001b[1;32mraise\u001b[0m \u001b[0mRuntimeError\u001b[0m\u001b[1;33m(\u001b[0m\u001b[1;34m'DataLoader worker (pid(s) {}) exited unexpectedly'\u001b[0m\u001b[1;33m.\u001b[0m\u001b[0mformat\u001b[0m\u001b[1;33m(\u001b[0m\u001b[0mpids_str\u001b[0m\u001b[1;33m)\u001b[0m\u001b[1;33m)\u001b[0m\u001b[1;33m\u001b[0m\u001b[1;33m\u001b[0m\u001b[0m\n\u001b[0m\u001b[0;32m    738\u001b[0m             \u001b[1;32mif\u001b[0m \u001b[0misinstance\u001b[0m\u001b[1;33m(\u001b[0m\u001b[0me\u001b[0m\u001b[1;33m,\u001b[0m \u001b[0mqueue\u001b[0m\u001b[1;33m.\u001b[0m\u001b[0mEmpty\u001b[0m\u001b[1;33m)\u001b[0m\u001b[1;33m:\u001b[0m\u001b[1;33m\u001b[0m\u001b[1;33m\u001b[0m\u001b[0m\n\u001b[0;32m    739\u001b[0m                 \u001b[1;32mreturn\u001b[0m \u001b[1;33m(\u001b[0m\u001b[1;32mFalse\u001b[0m\u001b[1;33m,\u001b[0m \u001b[1;32mNone\u001b[0m\u001b[1;33m)\u001b[0m\u001b[1;33m\u001b[0m\u001b[1;33m\u001b[0m\u001b[0m\n",
      "\u001b[1;31mRuntimeError\u001b[0m: DataLoader worker (pid(s) 3128, 104) exited unexpectedly"
     ],
     "ename": "RuntimeError",
     "evalue": "DataLoader worker (pid(s) 3128, 104) exited unexpectedly",
     "output_type": "error"
    }
   ],
   "source": [
    "target_reward = -150 # VERY LOW target\n",
    "train_data = train_pg(target_reward=target_reward, seed=SEED, max_episodes=2000, running_mean_len=10)\n",
    "\n",
    "test.assertGreater(train_data['mean_reward'][-1], target_reward)"
   ]
  },
  {
   "cell_type": "markdown",
   "metadata": {},
   "source": [
    "### Experimenting with different losses"
   ]
  },
  {
   "cell_type": "markdown",
   "metadata": {},
   "source": [
    "We'll now run a few experiments to see the effect of diferent loss functions on the training dynamics. Namely, we'll try:\n",
    "1. Vanilla PG (`vpg`): No baseline, no entropy\n",
    "2. Baseline PG (`bpg`): Baseline, no entropy loss\n",
    "3. Entropy PG (`epg`): No baseline, with entropy loss\n",
    "3. Combined PG (`cpg`): Baseline, with entropy loss"
   ]
  },
  {
   "cell_type": "code",
   "execution_count": null,
   "metadata": {
    "pycharm": {
     "is_executing": false
    }
   },
   "outputs": [],
   "source": [
    "from collections import namedtuple\n",
    "from pprint import pprint\n",
    "import itertools as it\n",
    "\n",
    "\n",
    "ExpConfig = namedtuple('ExpConfig', ('name','baseline','entropy'))\n",
    "\n",
    "def exp_configs():\n",
    "    exp_names = ('vpg', 'epg', 'bpg', 'cpg')\n",
    "    z = zip(exp_names, it.product((False, True), (False, True)))\n",
    "    return (ExpConfig(n, b, e) for (n, (b, e)) in z)\n",
    "\n",
    "pprint(list(exp_configs()))"
   ]
  },
  {
   "cell_type": "markdown",
   "metadata": {},
   "source": [
    "We'll save the training data from each experiment for plotting."
   ]
  },
  {
   "cell_type": "code",
   "execution_count": null,
   "metadata": {
    "pycharm": {
     "is_executing": false
    }
   },
   "outputs": [],
   "source": [
    "import pickle\n",
    "\n",
    "def dump_training_data(data, filename):\n",
    "    os.makedirs(os.path.dirname(filename), exist_ok=True)\n",
    "    with open(filename, mode='wb') as file:\n",
    "        pickle.dump(data, file)\n",
    "        \n",
    "def load_training_data(filename):\n",
    "    with open(filename, mode='rb') as file:\n",
    "        return pickle.load(file)"
   ]
  },
  {
   "cell_type": "markdown",
   "metadata": {},
   "source": [
    "Let's run the experiments! We'll run each configuration for a fixed number of episodes so that we can compare them.\n",
    "\n",
    "Notes:\n",
    "1. Until your models start working, you can decrease the number of episodes for each experiment, or only run one experiment.\n",
    "2.  The results will be saved in a file. To re-run the experiments, you can set `force_run` to `True`."
   ]
  },
  {
   "cell_type": "code",
   "execution_count": null,
   "metadata": {
    "pycharm": {
     "is_executing": false
    }
   },
   "outputs": [],
   "source": [
    "import math\n",
    "\n",
    "exp_max_episodes = 4000\n",
    "\n",
    "results = {}\n",
    "training_data_filename = os.path.join('results', f'part1_exp.dat')\n",
    "\n",
    "# Set to True to force re-run (careful, will delete old experiment results)\n",
    "force_run = False\n",
    "\n",
    "# Skip running if results file exists.\n",
    "if os.path.isfile(training_data_filename) and not force_run:\n",
    "    print(f'=== results file {training_data_filename} exists, skipping experiments.')\n",
    "    results = load_training_data(training_data_filename)\n",
    "    \n",
    "else:\n",
    "    for n, b, e in exp_configs():\n",
    "        print(f'=== Experiment {n}')\n",
    "        results[n] = train_pg(baseline=b, entropy=e, max_episodes=exp_max_episodes, post_batch_fn=None)\n",
    "        \n",
    "    dump_training_data(results, training_data_filename)"
   ]
  },
  {
   "cell_type": "code",
   "execution_count": null,
   "metadata": {
    "pycharm": {
     "is_executing": false
    }
   },
   "outputs": [],
   "source": [
    "def plot_experiment_results(results, fig=None):\n",
    "    if fig is None:\n",
    "        fig, _ = plt.subplots(nrows=2, ncols=2, sharex=True, figsize=(18,12))\n",
    "    for i, plot_type in enumerate(('loss_p', 'baseline', 'loss_e', 'mean_reward')):\n",
    "        ax = fig.axes[i]\n",
    "        for exp_name, exp_res in results.items():\n",
    "            if plot_type not in exp_res:\n",
    "                continue\n",
    "            ax.plot(exp_res['episode_num'], exp_res[plot_type], label=exp_name)\n",
    "        ax.set_title(plot_type)\n",
    "        ax.set_xlabel('episode')\n",
    "        ax.legend()\n",
    "    return fig\n",
    "    \n",
    "experiments_results_fig = plot_experiment_results(results)"
   ]
  },
  {
   "cell_type": "markdown",
   "metadata": {},
   "source": [
    "You should see positive training dynamics in the graphs (reward going up).\n",
    "If you don't, use them to further update your model or hyperparams.\n",
    "\n",
    "To pass the test, you'll need to get a best total mean reward of at least 10 in the fixed number of epochs using the combined loss.\n",
    "It's possible to get much higher (over 100)."
   ]
  },
  {
   "cell_type": "code",
   "execution_count": null,
   "metadata": {
    "pycharm": {
     "is_executing": false
    }
   },
   "outputs": [],
   "source": [
    "best_cpg_mean_reward = max(results['cpg']['mean_reward'])\n",
    "print(f'Best CPG mean reward: {best_cpg_mean_reward:.2f}')\n",
    "\n",
    "test.assertGreater(best_cpg_mean_reward, 10)"
   ]
  },
  {
   "cell_type": "markdown",
   "metadata": {},
   "source": [
    "Now let's take a look at a gameplay video of our `cpg` model after the short training!"
   ]
  },
  {
   "cell_type": "code",
   "execution_count": null,
   "metadata": {
    "pycharm": {
     "is_executing": false
    }
   },
   "outputs": [],
   "source": [
    "hp = hw4.answers.part1_pg_hyperparams()\n",
    "p_net_cpg = hw4pg.PolicyNet.build_for_env(env, **hp)\n",
    "p_net_cpg.load_state_dict(results['cpg']['model_state'])\n",
    "\n",
    "env, n_steps, reward = hw4pg.PolicyAgent.monitor_episode(ENV_NAME, p_net_cpg)\n",
    "print(f'{n_steps} steps, total reward: {reward:.2f}')\n",
    "show_monitor_video(env)"
   ]
  },
  {
   "cell_type": "markdown",
   "metadata": {},
   "source": [
    "## Advantage Actor-Critic (AAC)\n",
    "<a id=part1_2></a>"
   ]
  },
  {
   "cell_type": "markdown",
   "metadata": {},
   "source": [
    "We have seen that the policy-gradient loss can be interpreted as a log-likelihood of the policy term\n",
    "(selecting a specific action at a specific state), weighted by the future rewards of that choice of action.\n",
    "\n",
    "However, naïvely weighting by rewards has significant drawbacks in terms of the variance of the resulting gradient.\n",
    "We addressed this by adding a simple baseline term which represented our \"expected reward\" so that we increase probability of actions\n",
    "leading to trajectories which exceed this expectation and vice-versa.\n",
    "\n",
    "In this part we'll explore a more powerful baseline, which is the idea behind the AAC method."
   ]
  },
  {
   "cell_type": "markdown",
   "metadata": {},
   "source": [
    "### The advantage function"
   ]
  },
  {
   "cell_type": "markdown",
   "metadata": {},
   "source": [
    "Recall the definition of the state-value function $v_{\\pi}(s)$ and action-value function $q_{\\pi}(s,a)$:\n",
    "\n",
    "$$\n",
    "\\begin{align}\n",
    "v_{\\pi}(s) &= \\E{g(\\tau)|s_0 = s,\\pi} \\\\\n",
    "q_{\\pi}(s,a) &= \\E{g(\\tau)|s_0 = s,a_0=a,\\pi}.\n",
    "\\end{align}\n",
    "$$\n",
    "\n",
    "Both these functions represent the value of the state $s$. However, $v_\\pi$ averages over the first action according to the policy,\n",
    "while $q_\\pi$ fixes the first action and then continues according to the policy."
   ]
  },
  {
   "cell_type": "markdown",
   "metadata": {},
   "source": [
    "Their difference is known as the **advantage function**:\n",
    "$$\n",
    "a_\\pi(s,a) = q_\\pi(s,a)-v_\\pi(s).\n",
    "$$\n",
    "\n",
    "If $a_\\pi(s,a)>0$ it means that it's better (in expectation) to take action $a$ in state $s$ compared to the average action.\n",
    "In other words, $a_\\pi(s,a)$ represents the *advantage* of using action $a$ in state $s$ compared to the others."
   ]
  },
  {
   "cell_type": "markdown",
   "metadata": {},
   "source": [
    "So far we have used an estimate for $q_\\pi$ as our weighting term for the log-policy, with a fixed baseline per batch.\n",
    "\n",
    "$$\n",
    "\\hat\\grad\\mathcal{L}_{\\text{BPG}}(\\vec{\\theta})\n",
    "=-\\frac{1}{N}\\sum_{i=1}^{N}\\sum_{t\\geq0} \\left(\\hat{q}_{i,t}-b\\right) \\grad\\log \\pi_{\\vec{\\theta}}(a_{i,t}|s_{i,t}).\n",
    "$$\n"
   ]
  },
  {
   "cell_type": "markdown",
   "metadata": {},
   "source": [
    "Now, we will use the state value as a baseline, so that an estimate of the advantage function is our weighting term:\n",
    "\n",
    "$$\n",
    "\\hat\\grad\\mathcal{L}_{\\text{AAC}}(\\vec{\\theta})\n",
    "=-\\frac{1}{N}\\sum_{i=1}^{N}\\sum_{t\\geq0} \\left(\\hat{q}_{i,t}-v_\\pi(s_t)\\right) \\grad\\log \\pi_{\\vec{\\theta}}(a_{i,t}|s_{i,t}).\n",
    "$$\n",
    "\n",
    "Intuitively, using the advantage function makes sense because it means we're weighting our policy's actions according to\n",
    "how advantageous they are compared to other possible actions."
   ]
  },
  {
   "cell_type": "markdown",
   "metadata": {},
   "source": [
    "But how will we know $v_\\pi(s)$? We'll learn it of course, using another neural network.\n",
    "This is known as actor-critic learning. We simultaneously learn the policy (actor) and the value of states (critic).\n",
    "We'll treat it as a regression task: given a state $s_t$, our state-value network will output $\\hat{v}_\\pi(s_t)$,\n",
    "an estimate of the actual unknown state-value.\n",
    "Our regression targets will be the discounted rewards, $\\hat{q}_{i,t}$ (see question 2),\n",
    "and we can use a simple MSE as the loss function,\n",
    "$$\n",
    "\\mathcal{L}_{\\text{SV}} = \\frac{1}{N}\\sum_{i=1}^{N}\\sum_{t\\geq0}\\left(\\hat{v}_\\pi(s_t) - \\hat{q}_{i,t}\\right)^2.\n",
    "$$\n"
   ]
  },
  {
   "cell_type": "markdown",
   "metadata": {},
   "source": [
    "### Implementation"
   ]
  },
  {
   "cell_type": "markdown",
   "metadata": {},
   "source": [
    "We'll build heavily on our implementation of the regular policy-gradient method, and just add a new model class and a new loss class, with a small modification to the agent."
   ]
  },
  {
   "cell_type": "markdown",
   "metadata": {},
   "source": [
    "Let's start with the model. It will accept a state, and return action scores (as before), but also the value of that state.\n",
    "You can experiment with a dual-head network that has a shared base, or implement two separate parts within the network.\n",
    "\n",
    "**TODO**:\n",
    "1. Implement the model as the `AACPolicyNet` class in the `hw4/rl_ac.py` module.\n",
    "1. Set the hyperparameters in the `part1_aac_hyperparams()` function of the `hw4.answers` module."
   ]
  },
  {
   "cell_type": "code",
   "execution_count": null,
   "metadata": {
    "pycharm": {
     "is_executing": false
    }
   },
   "outputs": [],
   "source": [
    "import hw4.rl_ac as hw4ac\n",
    "\n",
    "hp = hw4.answers.part1_aac_hyperparams()\n",
    "pv_net = hw4ac.AACPolicyNet.build_for_env(env, device, **hp)\n",
    "pv_net"
   ]
  },
  {
   "cell_type": "markdown",
   "metadata": {},
   "source": [
    "**TODO**: Complete the implementation of the agent class, `AACPolicyAgent`, in the `hw4/rl_ac.py` module."
   ]
  },
  {
   "cell_type": "code",
   "execution_count": null,
   "metadata": {
    "pycharm": {
     "is_executing": false
    }
   },
   "outputs": [],
   "source": [
    "agent = hw4ac.AACPolicyAgent(env, pv_net, device)\n",
    "exp = agent.step()\n",
    "\n",
    "test.assertIsInstance(exp, hw4pg.Experience)\n",
    "print(exp)"
   ]
  },
  {
   "cell_type": "markdown",
   "metadata": {},
   "source": [
    "**TODO**: Implement the AAC loss function as the class `AACPolicyGradientLoss` in the `hw4/rl_ac.py` module."
   ]
  },
  {
   "cell_type": "code",
   "execution_count": null,
   "metadata": {
    "pycharm": {
     "is_executing": false
    }
   },
   "outputs": [],
   "source": [
    "loss_fn_aac = hw4ac.AACPolicyGradientLoss(delta=1.)\n",
    "test_state_values = torch.ones(test_action_scores.shape[0], 1)\n",
    "loss_t, _ = loss_fn_aac(test_batch, (test_action_scores, test_state_values))\n",
    "\n",
    "print('loss_t =', loss_t)\n",
    "test.assertAlmostEqual(loss_t.item(), 975.230895, delta=1e-3)"
   ]
  },
  {
   "cell_type": "markdown",
   "metadata": {},
   "source": [
    "### Experimentation"
   ]
  },
  {
   "cell_type": "markdown",
   "metadata": {},
   "source": [
    "Let's run the same experiment as before, but with the AAC method and compare the results."
   ]
  },
  {
   "cell_type": "code",
   "execution_count": null,
   "metadata": {
    "pycharm": {
     "is_executing": false
    }
   },
   "outputs": [],
   "source": [
    "def train_aac(baseline=False, entropy=False, **train_kwargs):\n",
    "    hp = hw4.answers.part1_aac_hyperparams()\n",
    "    loss_fns = [hw4ac.AACPolicyGradientLoss(hp['delta']), hw4pg.ActionEntropyLoss(ENV_N_ACTIONS, hp['beta'])]\n",
    "    return train_rl(hw4ac.AACPolicyAgent, hw4ac.AACPolicyNet, loss_fns, hp, **train_kwargs)"
   ]
  },
  {
   "cell_type": "code",
   "execution_count": null,
   "metadata": {
    "pycharm": {
     "is_executing": false
    }
   },
   "outputs": [],
   "source": [
    "training_data_filename = os.path.join('results', f'part1_exp_aac.dat')\n",
    "\n",
    "# Set to True to force re-run (careful, will delete old experiment results)\n",
    "force_run = False\n",
    "\n",
    "if os.path.isfile(training_data_filename) and not force_run:\n",
    "    print(f'=== results file {training_data_filename} exists, skipping experiments.')\n",
    "    results_aac = load_training_data(training_data_filename)\n",
    "    \n",
    "else:\n",
    "    print(f'=== Running AAC experiment')\n",
    "    training_data = train_aac(max_episodes=exp_max_episodes)\n",
    "    results_aac = dict(aac=training_data)\n",
    "    dump_training_data(results_aac, training_data_filename)"
   ]
  },
  {
   "cell_type": "code",
   "execution_count": null,
   "metadata": {
    "pycharm": {
     "is_executing": false
    }
   },
   "outputs": [],
   "source": [
    "experiments_results_fig = plot_experiment_results(results)\n",
    "plot_experiment_results(results_aac, fig=experiments_results_fig);"
   ]
  },
  {
   "cell_type": "markdown",
   "metadata": {},
   "source": [
    "You should get better results with the AAC method, so this time the bar is higher (again, you should aim for a mean reward of 100+).\n",
    "Compare the graphs with combined PG method and see if they make sense."
   ]
  },
  {
   "cell_type": "code",
   "execution_count": null,
   "metadata": {
    "pycharm": {
     "is_executing": false
    }
   },
   "outputs": [],
   "source": [
    "best_aac_mean_reward = max(results_aac['aac']['mean_reward'])\n",
    "print(f'Best AAC mean reward: {best_aac_mean_reward:.2f}')\n",
    "\n",
    "test.assertGreater(best_aac_mean_reward, 50)"
   ]
  },
  {
   "cell_type": "markdown",
   "metadata": {},
   "source": [
    "### Final model training and visualization"
   ]
  },
  {
   "cell_type": "markdown",
   "metadata": {},
   "source": [
    "Now, using your best model and hyperparams, let's train model for much longer and see the performance.\n",
    "Just for fun, we'll also visualize an episode every now and then so that we can see how well the agent is playing."
   ]
  },
  {
   "cell_type": "markdown",
   "metadata": {},
   "source": [
    "**TODO**:\n",
    "- Run the following block to train.\n",
    "- Tweak model or hyperparams as necessary.\n",
    "- Aim for high mean reward, at least 150+. It's possible to get over 200.\n",
    "- When training is done and you're satisfied with the model's outputs, rename the checkpoint file by adding `_final` to the file name.\n",
    "  This will cause the block to skip training and instead load your saved model when running the homework submission script.\n",
    "  Note that your submission zip file will not include the checkpoint file. This is OK."
   ]
  },
  {
   "cell_type": "code",
   "execution_count": null,
   "metadata": {
    "pycharm": {
     "is_executing": false
    }
   },
   "outputs": [],
   "source": [
    "import IPython.display\n",
    "\n",
    "CHECKPOINTS_FILE = f'checkpoints/{ENV_NAME}-ac.dat'\n",
    "CHECKPOINTS_FILE_FINAL = f'checkpoints/{ENV_NAME}-ac_final.dat'\n",
    "TARGET_REWARD = 125\n",
    "MAX_EPISODES = 15_000\n",
    "\n",
    "def post_batch_fn(batch_idx, p_net, batch, print_every=20, final=False):\n",
    "    if not final and batch_idx % print_every != 0:\n",
    "        return\n",
    "    env, n_steps, reward = hw4ac.AACPolicyAgent.monitor_episode(ENV_NAME, p_net)\n",
    "    html = show_monitor_video(env, width=\"500\")\n",
    "    IPython.display.clear_output(wait=True)\n",
    "    print(f'Monitor@#{batch_idx}: n_steps={n_steps}, total_reward={reward:.3f}, final={final}')\n",
    "    IPython.display.display_html(html)\n",
    "    \n",
    "    \n",
    "if os.path.isfile(CHECKPOINTS_FILE_FINAL):\n",
    "    print(f'=== {CHECKPOINTS_FILE_FINAL} exists, skipping training...')\n",
    "    checkpoint_data = torch.load(CHECKPOINTS_FILE_FINAL)\n",
    "    hp = hw4.answers.part1_aac_hyperparams()\n",
    "    pv_net = hw4ac.AACPolicyNet.build_for_env(env, **hp)\n",
    "    pv_net.load_state_dict(checkpoint_data['params'])\n",
    "    print(f'=== Running best model...')\n",
    "    env, n_steps, reward = hw4ac.AACPolicyAgent.monitor_episode(ENV_NAME, pv_net)\n",
    "    print(f'=== Best model ran for {n_steps} steps. Total reward: {reward:.2f}')\n",
    "    IPython.display.display_html(show_monitor_video(env))\n",
    "    best_mean_reward = checkpoint_data[\"best_mean_reward\"]\n",
    "else:\n",
    "    print(f'=== Starting training...')\n",
    "    train_data = train_aac(TARGET_REWARD, max_episodes=MAX_EPISODES,\n",
    "                           seed=None, checkpoints_file=CHECKPOINTS_FILE, post_batch_fn=post_batch_fn)\n",
    "    print(f'=== Done, ', end='')\n",
    "    best_mean_reward = train_data[\"best_mean_reward\"][-1]\n",
    "    print(f'num_episodes={train_data[\"episode_num\"][-1]}, best_mean_reward={best_mean_reward:.1f}')\n",
    "          \n",
    "test.assertGreaterEqual(best_mean_reward, TARGET_REWARD)"
   ]
  },
  {
   "cell_type": "markdown",
   "metadata": {},
   "source": [
    "## Questions\n",
    "<a id=part1_3></a>"
   ]
  },
  {
   "cell_type": "markdown",
   "metadata": {},
   "source": [
    "**TODO**: Answer the following questions. Write your answers in the appropriate variables in the module `hw4/answers.py`."
   ]
  },
  {
   "cell_type": "code",
   "execution_count": null,
   "metadata": {
    "pycharm": {
     "is_executing": false
    }
   },
   "outputs": [],
   "source": [
    "from cs236781.answers import display_answer\n",
    "import hw4.answers"
   ]
  },
  {
   "cell_type": "markdown",
   "metadata": {},
   "source": [
    "### Question 1\n",
    "\n",
    "Explain qualitatively why subtracting a baseline in the policy-gradient helps reduce it's variance.\n",
    "Specifically, give an example where it helps."
   ]
  },
  {
   "cell_type": "code",
   "execution_count": null,
   "metadata": {
    "pycharm": {
     "is_executing": false
    }
   },
   "outputs": [],
   "source": [
    "display_answer(hw4.answers.part1_q1)"
   ]
  },
  {
   "cell_type": "markdown",
   "metadata": {},
   "source": [
    "### Question 2\n",
    "\n",
    "In AAC, when using the estimated q-values as regression targets for our state-values, why do we get a valid approximation?\n",
    "Hint: how is $v_\\pi(s)$ expressed in terms of $q_\\pi(s,a)$?"
   ]
  },
  {
   "cell_type": "code",
   "execution_count": null,
   "metadata": {
    "pycharm": {
     "is_executing": false
    }
   },
   "outputs": [],
   "source": [
    "display_answer(hw4.answers.part1_q2)"
   ]
  },
  {
   "cell_type": "markdown",
   "metadata": {},
   "source": [
    "### Question 3\n",
    "\n",
    "1. Analyze and explain the graphs you got in first experiment run.\n",
    "2. Compare the experiment graphs you got with the AAC method to the regular PG method (`cpg`)."
   ]
  },
  {
   "cell_type": "code",
   "execution_count": null,
   "metadata": {
    "pycharm": {
     "is_executing": false
    }
   },
   "outputs": [],
   "source": [
    "display_answer(hw4.answers.part1_q3)"
   ]
  }
 ],
 "metadata": {
  "kernelspec": {
   "display_name": "Python 3",
   "language": "python",
   "name": "python3"
  },
  "language_info": {
   "codemirror_mode": {
    "name": "ipython",
    "version": 3
   },
   "file_extension": ".py",
   "mimetype": "text/x-python",
   "name": "python",
   "nbconvert_exporter": "python",
   "pygments_lexer": "ipython3",
   "version": "3.7.4"
  },
  "pycharm": {
   "stem_cell": {
    "cell_type": "raw",
    "metadata": {
     "collapsed": false
    },
    "source": []
   }
  }
 },
 "nbformat": 4,
 "nbformat_minor": 4
}