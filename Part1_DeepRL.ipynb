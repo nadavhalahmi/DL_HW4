{
 "cells": [
  {
   "cell_type": "markdown",
   "metadata": {},
   "source": [
    "$$\n",
    "\\newcommand{\\mat}[1]{\\boldsymbol {#1}}\n",
    "\\newcommand{\\mattr}[1]{\\boldsymbol {#1}^\\top}\n",
    "\\newcommand{\\matinv}[1]{\\boldsymbol {#1}^{-1}}\n",
    "\\newcommand{\\vec}[1]{\\boldsymbol {#1}}\n",
    "\\newcommand{\\vectr}[1]{\\boldsymbol {#1}^\\top}\n",
    "\\newcommand{\\rvar}[1]{\\mathrm {#1}}\n",
    "\\newcommand{\\rvec}[1]{\\boldsymbol{\\mathrm{#1}}}\n",
    "\\newcommand{\\diag}{\\mathop{\\mathrm {diag}}}\n",
    "\\newcommand{\\set}[1]{\\mathbb {#1}}\n",
    "\\newcommand{\\cset}[1]{\\mathcal{#1}}\n",
    "\\newcommand{\\norm}[1]{\\left\\lVert#1\\right\\rVert}\n",
    "\\newcommand{\\pderiv}[2]{\\frac{\\partial #1}{\\partial #2}}\n",
    "\\newcommand{\\bb}[1]{\\boldsymbol{#1}}\n",
    "\\newcommand{\\E}[2][]{\\mathbb{E}_{#1}\\left[#2\\right]}\n",
    "\\newcommand{\\ip}[3]{\\left<#1,#2\\right>_{#3}}\n",
    "\\newcommand{\\given}[]{\\,\\middle\\vert\\,}\n",
    "\\newcommand{\\DKL}[2]{\\cset{D}_{\\text{KL}}\\left(#1\\,\\Vert\\, #2\\right)}\n",
    "\\newcommand{\\grad}[]{\\nabla}\n",
    "$$\n",
    "# Part 1: Deep Reinforcement Learning\n",
    "<a id=part1></a>"
   ]
  },
  {
   "cell_type": "markdown",
   "metadata": {},
   "source": [
    "In the tutorial we have seen value-based reinforcement learning, in which we learn to approximate the action-value function $q(s,a)$.\n",
    "\n",
    "In this exercise we'll explore a different approach, directly learning the agent's policy distribution, $\\pi(a|s)$\n",
    "by using *policy gradients*, in order to safely land on the moon!"
   ]
  },
  {
   "cell_type": "code",
   "execution_count": 1,
   "metadata": {
    "pycharm": {
     "is_executing": false
    }
   },
   "outputs": [],
   "source": [
    "%load_ext autoreload\n",
    "%autoreload 2\n",
    "%matplotlib inline\n",
    "\n",
    "import unittest\n",
    "import os\n",
    "import sys\n",
    "import pathlib\n",
    "import urllib\n",
    "import shutil\n",
    "import re\n",
    "\n",
    "import numpy as np\n",
    "import torch\n",
    "import torch.nn as nn\n",
    "import torch.optim as optim\n",
    "import matplotlib.pyplot as plt"
   ]
  },
  {
   "cell_type": "code",
   "execution_count": 2,
   "metadata": {
    "pycharm": {
     "is_executing": false
    }
   },
   "outputs": [
    {
     "name": "stdout",
     "output_type": "stream",
     "text": [
      "Using device: cpu\n"
     ]
    }
   ],
   "source": [
    "test = unittest.TestCase()\n",
    "plt.rcParams.update({'font.size': 12})\n",
    "device = torch.device('cuda' if torch.cuda.is_available() else 'cpu')\n",
    "\n",
    "# Prefer CPU, GPU won't help much in this assignment\n",
    "device = 'cpu'\n",
    "print('Using device:', device)\n",
    "\n",
    "# Seed for deterministic tests\n",
    "SEED = 42"
   ]
  },
  {
   "cell_type": "markdown",
   "metadata": {},
   "source": [
    "Some technical notes before we begin:\n",
    "\n",
    "- This part does not require a GPU. We won't need large models, and the computation bottleneck will be the generation of episodes to train on.\n",
    "- In order to run this notebook on the server, you must prepend the `xvfb-run` command to create a virtual screen. For example,\n",
    "    - to run the jupyter lab script with `srun` do\n",
    "        ```\n",
    "        srun -c2 --gres=gpu:1 xvfb-run -a -s \"-screen 0 1440x900x24\" ./jupyter-lab.sh\n",
    "        ```\n",
    "    - To run the submission script, do\n",
    "        ```\n",
    "        srun -c2 xvfb-run -a -s \"-screen 0 1440x900x24\" python main.py prepare-submission ...\n",
    "        ```\n",
    "    and so on.\n",
    "- The OpenAI `gym` library is not officially supported on windows. However it should be possible to install and run the necessary environment for this exercise. However, we cannot provide you with technical support for this. If you have trouble installing locally, we suggest running on the course server."
   ]
  },
  {
   "cell_type": "markdown",
   "metadata": {},
   "source": [
    "## Policy gradients\n",
    "<a id=part1_1></a>"
   ]
  },
  {
   "cell_type": "markdown",
   "metadata": {},
   "source": [
    "Recall from the tutorial that we define the **policy** of an agent as the conditional distribution,\n",
    "$$\n",
    "\\pi(a|s) = \\Pr(a_t=a\\vert s_t=s),\n",
    "$$\n",
    "which defines how likely the agent is to take action $a$ at state $s$.\n",
    "\n",
    "Furthermore we define the action-value function,\n",
    "$$\n",
    "q_{\\pi}(s,a) = \\E{g_t(\\tau)|s_t = s,a_t=a,\\pi}\n",
    "$$\n",
    "where \n",
    "$$\n",
    "g_t(\\tau) = r_{t+1}+\\gamma r_{t+2} + \\dots = \\sum_{k=0}^{\\infty} \\gamma^k r_{t+1+k},\n",
    "$$\n",
    "is the total discounted reward of a specific trajectory $\\tau$ from time $t$, and the expectation in $q$ is over all possible\n",
    "trajectories,\n",
    "$\n",
    "\\tau=\\left\\{ (s_0,a_0,r_1,s_1), \\dots (s_T,a_T,r_{T+1},s_{T+1}) \\right\\}.\n",
    "$"
   ]
  },
  {
   "cell_type": "markdown",
   "metadata": {},
   "source": [
    "In the tutorial we saw that we can learn a value function starting with some random function and\n",
    "updating it iteratively by using the **Bellman optimality equation**.\n",
    "Given that we have some action-value function, we can immediately create a policy based on that\n",
    "by simply selecting an action which maximize the action-value at the current state, i.e.\n",
    "$$\n",
    "\\pi(a|s) =\n",
    "\\begin{cases}\n",
    "1, & a = \\arg\\max_{a'\\in\\cset{A}} q(s,a') \\\\\n",
    "0, & \\text{else}\n",
    "\\end{cases}.\n",
    "$$\n",
    "This is called $q$-learning. This approach aims to obtain a policy indirectly through the action-value function.\n",
    "Yet, in most cases we don't actually care about knowing the value of particular states,\n",
    "since all we need is a good policy for our agent. \n",
    "\n",
    "Here we'll take a different approach and learn a policy distribution $\\pi(a|s)$ directly - by using **policy gradients**."
   ]
  },
  {
   "cell_type": "markdown",
   "metadata": {},
   "source": [
    "### Formalism"
   ]
  },
  {
   "cell_type": "markdown",
   "metadata": {},
   "source": [
    "We define a parametric policy, $\\pi_\\vec{\\theta}(a|s)$, and maximize total discounted reward (or minimize the negative reward):\n",
    "$$\n",
    "\\mathcal{L}(\\vec{\\theta})=\\E[\\tau]{-g(\\tau)|\\pi_\\vec{\\theta}} = -\\int g(\\tau)p(\\tau|\\vec{\\theta})d\\tau,\n",
    "$$\n",
    "where $p(\\tau|\\vec{\\theta})$ is the probability of a specific trajectory $\\tau$ under the policy defined by $\\vec{\\theta}$.\n"
   ]
  },
  {
   "cell_type": "markdown",
   "metadata": {},
   "source": [
    "Since we want to find the parameters $\\vec{\\theta}$ which minimize $\\mathcal{L}(\\vec{\\theta})$, we'll compute the gradient w.r.t. $\\vec{\\theta}$:\n",
    "$$\n",
    "\\grad\\mathcal{L}(\\vec{\\theta}) = -\\int g(\\tau)\\grad p(\\tau|\\vec{\\theta})d\\tau.\n",
    "$$\n",
    "\n",
    "Unfortunately, if we try to write $p(\\tau|\\vec{\\theta})$ explicitly,\n",
    "we find that computing it's gradient with respect to $\\vec{\\theta}$ is\n",
    "quite intractable due to a huge product of terms depending on $\\vec{\\theta}$:\n",
    "$$\n",
    "p(\\tau|\\vec{\\theta})=p\\left(\\left\\{ (s_t,a_t,r_{t+1},s_{t+1})\\right\\}_{t\\geq0}\\given\\vec{\\theta}\\right)\n",
    "=p(s_0)\\prod_{t\\geq0} \\pi_{\\vec{\\theta}}(a_t|s_t)p(s_{t+1}|s_t,a_t).\n",
    "$$"
   ]
  },
  {
   "cell_type": "markdown",
   "metadata": {},
   "source": [
    "However, by using the fact that $\\grad_{x}\\log(f(x))=\\frac{\\grad_{x}f(x)}{f(x)}$, we can convert the product into a sum:\n",
    "$$\n",
    "\\begin{align}\n",
    "\\grad\\mathcal{L}(\\vec{\\theta})\n",
    "&= -\\int g(\\tau)\\grad p(\\tau|\\vec{\\theta})d\\tau\n",
    "= -\\int g(\\tau)\\frac{\\grad p(\\tau|\\vec{\\theta})}{p(\\tau|\\vec{\\theta})}p(\\tau|\\vec{\\theta})d\\tau \\\\\n",
    "&= -\\int g(\\tau)\\grad\\log\\left(p(\\tau|\\vec{\\theta})\\right)p(\\tau|\\vec{\\theta})d\\tau \\\\\n",
    "&= -\\int g(\\tau)\\grad\\log\\left( p(s_0)\\prod_{t\\geq0} \\pi_{\\vec{\\theta}}(a_t|s_t)p(s_{t+1}|s_t,a_t) \\right)\n",
    "p(\\tau|\\vec{\\theta})d\\tau \\\\\n",
    "&= -\\int g(\\tau)\\grad\\left( \\log p(s_0) + \\sum_{t\\geq0} \\log \\pi_{\\vec{\\theta}}(a_t|s_t) + \n",
    "\\sum_{t\\geq0}\\log p(s_{t+1}|s_t,a_t) \\right) p(\\tau|\\vec{\\theta})d\\tau \\\\\n",
    "&= -\\int g(\\tau)\\sum_{t\\geq0} \\grad\\log \\pi_{\\vec{\\theta}}(a_t|s_t) p(\\tau|\\vec{\\theta})d\\tau \\\\\n",
    "&= \\E[\\tau]{-g(\\tau)\\sum_{t\\geq0} \\grad\\log \\pi_{\\vec{\\theta}}(a_t|s_t)}.\n",
    "\\end{align}\n",
    "$$"
   ]
  },
  {
   "cell_type": "markdown",
   "metadata": {},
   "source": [
    "This is the \"vanilla\" version of the policy gradient. We can interpret is as a weighted log-likelihood function.\n",
    "The log-policy is the log-likelihood term we wish to maximize and the total discounted reward acts as a weight: high-return positive\n",
    "trajectories will cause the probability of actions taken during them to increase, and negative-return trajectories will cause the\n",
    "probabilities of actions taken to decrease.\n",
    "\n",
    "In the following figures we see three trajectories: high-return positive-reward (green), low-return positive-reward (yellow) and negative-return (red) and the action probabilities along the trajectories after the update. Credit: Sergey Levine.\n",
    "\n",
    "|<strong></strong>||\n",
    "|-----| ----|\n",
    "|<img src=\"imgs/pg1.png\" height=\"200\">|<img src=\"imgs/pg2.png\" height=\"200\">|\n"
   ]
  },
  {
   "cell_type": "markdown",
   "metadata": {},
   "source": [
    "The major drawback of the policy-gradient is it's high variance, which causes erratic optimization behavior and therefore slow convergence.\n",
    "One reason for this is that the log-policy weight term, $g(\\tau)$ can vary wildly between different trajectories, even if they're similar in\n",
    "actions. Later on we'll implement the loss and explore some methods of variance reduction."
   ]
  },
  {
   "cell_type": "markdown",
   "metadata": {},
   "source": [
    "### Landing on the moon with policy gradients"
   ]
  },
  {
   "cell_type": "markdown",
   "metadata": {},
   "source": [
    "In the spirit of the recent achievements of the Israeli space industry,\n",
    "we'll apply our reinforcement learning skills to solve a simple game called **LunarLander**.\n",
    "\n",
    "This game is available as an `environment` in OpenAI `gym`.\n",
    "\n",
    "<video loop autoplay src=\"http://gym.openai.com/videos/2019-04-06--My9IiAbqha/LunarLander-v2/original.mp4\" />"
   ]
  },
  {
   "cell_type": "markdown",
   "metadata": {},
   "source": [
    "In this environment, you need to control the lander and get it to land safely on the moon.\n",
    "To do so, you must apply bottom, right or left thrusters (each are either fully on or fully off)\n",
    "and get it to land within the designated zone as quickly as possible and with minimal wasted fuel."
   ]
  },
  {
   "cell_type": "code",
   "execution_count": 3,
   "metadata": {
    "pycharm": {
     "is_executing": false
    }
   },
   "outputs": [],
   "source": [
    "import gym\n",
    "\n",
    "# Just for fun :) ... but also to re-define the default max number of steps\n",
    "ENV_NAME = 'Beresheet-v2'\n",
    "MAX_EPISODE_STEPS = 300\n",
    "if ENV_NAME not in gym.envs.registry.env_specs:\n",
    "    gym.register(\n",
    "        id=ENV_NAME,\n",
    "        entry_point='gym.envs.box2d:LunarLander',\n",
    "        max_episode_steps=MAX_EPISODE_STEPS,\n",
    "        reward_threshold=200,\n",
    "    )"
   ]
  },
  {
   "cell_type": "code",
   "execution_count": 4,
   "metadata": {
    "pycharm": {
     "is_executing": false
    }
   },
   "outputs": [
    {
     "name": "stdout",
     "output_type": "stream",
     "text": [
      "<TimeLimit<LunarLander<Beresheet-v2>>>\n",
      "observations space: Box(8,)\n",
      "action space: Discrete(4)\n"
     ]
    }
   ],
   "source": [
    "import gym\n",
    "\n",
    "env = gym.make(ENV_NAME)\n",
    "\n",
    "print(env)\n",
    "print(f'observations space: {env.observation_space}')\n",
    "print(f'action space: {env.action_space}')\n",
    "\n",
    "ENV_N_ACTIONS = env.action_space.n\n",
    "ENV_N_OBSERVATIONS = env.observation_space.shape[0]"
   ]
  },
  {
   "cell_type": "markdown",
   "metadata": {},
   "source": [
    "The observations at each step is the Lander's position, velocity, angle, angular velocity and ground contact state.\n",
    "The actions are no-op, fire left truster, bottom thruster and right thruster.\n",
    "\n",
    "You are **highly encouraged** to read the [documentation](https://github.com/openai/gym/blob/master/gym/envs/box2d/lunar_lander.py) in the source code of the `LunarLander` environment to understand the reward system,\n",
    "and see how the actions and observations are created."
   ]
  },
  {
   "cell_type": "markdown",
   "metadata": {},
   "source": [
    "### Policy network and Agent"
   ]
  },
  {
   "cell_type": "markdown",
   "metadata": {},
   "source": [
    "Let's start with our policy-model. This will be a simple neural net, which should take an observation and return a score for each possible action."
   ]
  },
  {
   "cell_type": "markdown",
   "metadata": {},
   "source": [
    "**TODO**:\n",
    "1. Implement all methods in the `PolicyNet` class in the `hw4/rl_pg.py` module.\n",
    "   Start small. A simple MLP with a few hidden layers is a good starting point. You can come back and change it later based on the the experiments. The we'll use the `build_for_env` method to instantiate a `PolicyNet` based on the configuration of a given environment.\n",
    "2. If you need hyperparameters to configure your model (e.g. number of hidden layers, sizes, etc.), add them in `part1_pg_hyperparams()` in `hw4/answers.py`."
   ]
  },
  {
   "cell_type": "code",
   "execution_count": 5,
   "metadata": {
    "pycharm": {
     "is_executing": false
    }
   },
   "outputs": [
    {
     "data": {
      "text/plain": [
       "PolicyNet(\n",
       "  (our_net): Sequential(\n",
       "    (0): Linear(in_features=8, out_features=128, bias=True)\n",
       "    (1): ReLU()\n",
       "    (2): Linear(in_features=128, out_features=64, bias=True)\n",
       "    (3): ReLU()\n",
       "    (4): Linear(in_features=64, out_features=4, bias=True)\n",
       "  )\n",
       ")"
      ]
     },
     "execution_count": 5,
     "metadata": {},
     "output_type": "execute_result"
    }
   ],
   "source": [
    "import hw4.rl_pg as hw4pg\n",
    "import hw4.answers\n",
    "\n",
    "hp = hw4.answers.part1_pg_hyperparams()\n",
    "\n",
    "# You can add keyword-args to this function which will be populated from the hyperparameters dict.\n",
    "p_net = hw4pg.PolicyNet.build_for_env(env, device, **hp)\n",
    "p_net"
   ]
  },
  {
   "cell_type": "markdown",
   "metadata": {},
   "source": [
    "Now we need an **agent**. The purpose of our agent will be to act according to the current policy and generate experiences.\n",
    "Our `PolicyAgent` will use a `PolicyNet` as the current policy function.\n",
    "\n",
    "\n",
    "We'll also define some extra datatypes to help us represent the data generated by our agent.\n",
    "You can find the `Experience`, `Episode` and `TrainBatch` datatypes in the `hw4/rl_data.py` module."
   ]
  },
  {
   "cell_type": "markdown",
   "metadata": {},
   "source": [
    "**TODO**: Implement the `current_action_distribution()` method of the `PolicyAgent` class in the `hw4/rl_pg.py` module."
   ]
  },
  {
   "cell_type": "code",
   "execution_count": 6,
   "metadata": {
    "pycharm": {
     "is_executing": false
    }
   },
   "outputs": [
    {
     "name": "stdout",
     "output_type": "stream",
     "text": [
      "tensor([0.2289, 0.2629, 0.2378, 0.2704])\n"
     ]
    }
   ],
   "source": [
    "for i in range (10):\n",
    "    agent = hw4pg.PolicyAgent(env, p_net, device)\n",
    "    d = agent.current_action_distribution()\n",
    "    test.assertSequenceEqual(d.shape, (env.action_space.n,))\n",
    "    test.assertAlmostEqual(d.sum(), 1.0, delta=1e-5)\n",
    "    \n",
    "print(d)"
   ]
  },
  {
   "cell_type": "markdown",
   "metadata": {},
   "source": [
    "**TODO**: Implement the `step()` method of the `PolicyAgent`."
   ]
  },
  {
   "cell_type": "code",
   "execution_count": 7,
   "metadata": {
    "pycharm": {
     "is_executing": false
    }
   },
   "outputs": [
    {
     "name": "stdout",
     "output_type": "stream",
     "text": [
      "Experience(state=array([ 0.01168261,  1.3912275 ,  0.5961326 , -0.45074403, -0.01508303,\n",
      "       -0.16726017,  0.        ,  0.        ], dtype=float32), action=3, reward=-2.061561854744268, is_done=False)\n"
     ]
    }
   ],
   "source": [
    "agent = hw4pg.PolicyAgent(env, p_net, device)\n",
    "exp = agent.step()\n",
    "\n",
    "test.assertIsInstance(exp, hw4pg.Experience)\n",
    "print(exp)"
   ]
  },
  {
   "cell_type": "markdown",
   "metadata": {},
   "source": [
    "To test our agent, we'll write some code that allows it to play an environment. We'll use the `Monitor`\n",
    "wrapper in `gym` to generate a video of the episode for visual debugging."
   ]
  },
  {
   "cell_type": "markdown",
   "metadata": {},
   "source": [
    "**TODO**: Complete the implementation of the `monitor_episode()` method of the `PolicyAgent`."
   ]
  },
  {
   "cell_type": "code",
   "execution_count": 8,
   "metadata": {
    "pycharm": {
     "is_executing": false
    }
   },
   "outputs": [],
   "source": [
    "env, n_steps, reward = agent.monitor_episode(ENV_NAME, p_net, device=device)"
   ]
  },
  {
   "cell_type": "markdown",
   "metadata": {},
   "source": [
    "To display the Monitor video in this notebook, we'll use a helper function from our `jupyter_utils` and a small wrapper that extracts the path of the last video file. "
   ]
  },
  {
   "cell_type": "code",
   "execution_count": 9,
   "metadata": {
    "pycharm": {
     "is_executing": false
    }
   },
   "outputs": [],
   "source": [
    "import cs236781.jupyter_utils as jupyter_utils\n",
    "\n",
    "def show_monitor_video(monitor_env, idx=0, **kw):\n",
    "    # Extract video path\n",
    "    video_path = monitor_env.videos[idx][0]\n",
    "    video_path = os.path.relpath(video_path, start=os.path.curdir)\n",
    "    \n",
    "    # Use helper function to embed the video\n",
    "    return jupyter_utils.show_video_in_notebook(video_path, **kw)"
   ]
  },
  {
   "cell_type": "code",
   "execution_count": 10,
   "metadata": {
    "pycharm": {
     "is_executing": false
    }
   },
   "outputs": [
    {
     "name": "stdout",
     "output_type": "stream",
     "text": [
      "Episode ran for 102 steps. Total reward: -291.26\n"
     ]
    },
    {
     "data": {
      "text/html": [
       "<video src=\"data:video/mp4;base64,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\" controls autoplay width=\"500\" height=\"auto\" />"
      ],
      "text/plain": [
       "<IPython.core.display.HTML object>"
      ]
     },
     "execution_count": 10,
     "metadata": {},
     "output_type": "execute_result"
    }
   ],
   "source": [
    "print(f'Episode ran for {n_steps} steps. Total reward: {reward:.2f}')\n",
    "\n",
    "show_monitor_video(env, -1)"
   ]
  },
  {
   "cell_type": "markdown",
   "metadata": {},
   "source": [
    "### Training data"
   ]
  },
  {
   "cell_type": "markdown",
   "metadata": {},
   "source": [
    "The next step is to create data to train on.\n",
    "We need to train on batches of state-action pairs, so that our network can learn to predict the actions.\n",
    "\n",
    "We'll split this task into three parts:\n",
    "1. Generate a batch of `Episode`s, by using an `Agent` that's playing according to our current policy network.\n",
    "   Each `Episode` object contains the `Experience` objects created by the agent.\n",
    "2. Calculate the total discounted reward for each state we encountered and action we took. This is our action-value estimate.\n",
    "3. Convert the `Episode`s into a batch of tensors to train on.\n",
    "   Each batch will contain states, action taken per state, reward accrued, and the calculated estimated state-values.\n",
    "   These will be stored in a `TrainBatch` object.\n"
   ]
  },
  {
   "cell_type": "markdown",
   "metadata": {},
   "source": [
    "**TODO**: Complete the implementation of the `episode_batch_generator()` method in the `TrainBatchDataset` class within the `hw4.rl_data` module. This will address part 1 in the list above."
   ]
  },
  {
   "cell_type": "code",
   "execution_count": 11,
   "metadata": {
    "pycharm": {
     "is_executing": true
    }
   },
   "outputs": [
    {
     "name": "stdout",
     "output_type": "stream",
     "text": [
      "First episode: Episode(total_reward=-415.18, #experences=93)\n"
     ]
    }
   ],
   "source": [
    "import hw4.rl_data as hw4data\n",
    "\n",
    "def agent_fn():\n",
    "    env = gym.make(ENV_NAME)\n",
    "    hp = hw4.answers.part1_pg_hyperparams()\n",
    "    p_net = hw4pg.PolicyNet.build_for_env(env, device, **hp)\n",
    "    return hw4pg.PolicyAgent(env, p_net, device)\n",
    "    \n",
    "ds = hw4data.TrainBatchDataset(agent_fn, episode_batch_size=8, gamma=0.9)\n",
    "batch_gen = ds.episode_batch_generator()\n",
    "b = next(batch_gen)\n",
    "print('First episode:', b[0])\n",
    "\n",
    "test.assertEqual(len(b), 8)\n",
    "for ep in b:\n",
    "    test.assertIsInstance(ep, hw4data.Episode)\n",
    "    \n",
    "    # Check that it's a full episode\n",
    "    is_done = [exp.is_done for exp in ep.experiences]\n",
    "    test.assertFalse(any(is_done[0:-1]))\n",
    "    test.assertTrue(is_done[-1])"
   ]
  },
  {
   "cell_type": "markdown",
   "metadata": {},
   "source": [
    "**TODO**: Complete the implementation of the `calc_qvals()` method in the `Episode` class.\n",
    "This will address part 2.\n",
    "These q-values are an estimate of the actual action value function: $$\\hat{q}_{t} = \\sum_{t'\\geq t} \\gamma^{t'-t}r_{t'+1}.$$"
   ]
  },
  {
   "cell_type": "code",
   "execution_count": 12,
   "metadata": {
    "pycharm": {
     "is_executing": false
    }
   },
   "outputs": [],
   "source": [
    "np.random.seed(SEED)\n",
    "test_rewards = np.random.randint(-10, 10, 100)\n",
    "test_experiences = [hw4pg.Experience(None,None,r,False) for r in test_rewards] \n",
    "test_episode = hw4data.Episode(np.sum(test_rewards), test_experiences)\n",
    "\n",
    "qvals = test_episode.calc_qvals(0.9)\n",
    "qvals = list(qvals)\n",
    "\n",
    "expected_qvals = np.load(os.path.join('tests', 'assets', 'part1_expected_qvals.npy'))\n",
    "for i in range(len(test_rewards)):\n",
    "    test.assertAlmostEqual(expected_qvals[i], qvals[i], delta=1e-3)"
   ]
  },
  {
   "cell_type": "markdown",
   "metadata": {},
   "source": [
    "**TODO**: Complete the implementation of the `from_episodes()` method in the `TrainBatch` class.\n",
    "This will address part 3.\n",
    "\n",
    "Notes:\n",
    "- The `TrainBatchDataset` class provides a generator function that will use the above function to lazily generate batches of training samples and labels on demand.\n",
    "- This allows us to use a standard `PyTorch` dataloader to wrap our Dataset and provide us with parallel data loading for free!\n",
    "  This means we can run multiple environments with multiple agents in separate background processes to generate data for training and thus prevent the data loading bottleneck which is caused by the fact that we must generate full Episodes to train on in order to calculate the q-values.\n",
    "- We'll set the `DataLoader`'s `batch_size` to `None` because we have already implemented custom batching in our dataset."
   ]
  },
  {
   "cell_type": "code",
   "execution_count": 13,
   "metadata": {
    "pycharm": {
     "is_executing": false
    }
   },
   "outputs": [
    {
     "name": "stdout",
     "output_type": "stream",
     "text": [
      "#0: TrainBatch(states: torch.Size([753, 8]), actions: torch.Size([753]), q_vals: torch.Size([753])), num_episodes: 8)\n",
      "#1: TrainBatch(states: torch.Size([752, 8]), actions: torch.Size([752]), q_vals: torch.Size([752])), num_episodes: 8)\n",
      "#2: TrainBatch(states: torch.Size([708, 8]), actions: torch.Size([708]), q_vals: torch.Size([708])), num_episodes: 8)\n",
      "#3: TrainBatch(states: torch.Size([667, 8]), actions: torch.Size([667]), q_vals: torch.Size([667])), num_episodes: 8)\n",
      "#4: TrainBatch(states: torch.Size([706, 8]), actions: torch.Size([706]), q_vals: torch.Size([706])), num_episodes: 8)\n",
      "#5: TrainBatch(states: torch.Size([603, 8]), actions: torch.Size([603]), q_vals: torch.Size([603])), num_episodes: 8)\n",
      "#6: TrainBatch(states: torch.Size([807, 8]), actions: torch.Size([807]), q_vals: torch.Size([807])), num_episodes: 8)\n"
     ]
    }
   ],
   "source": [
    "from torch.utils.data import DataLoader\n",
    "\n",
    "ds = hw4data.TrainBatchDataset(agent_fn, episode_batch_size=8, gamma=0.9)\n",
    "dl = DataLoader(ds, batch_size=None, num_workers=2) # Run multiple agents/env in separate worker process\n",
    "\n",
    "\n",
    "for i, train_batch in enumerate(dl):\n",
    "    states, actions, qvals, reward_mean = train_batch\n",
    "    print(f'#{i}: {train_batch}')\n",
    "    test.assertEqual(states.shape[0], actions.shape[0])\n",
    "    test.assertEqual(qvals.shape[0], actions.shape[0])\n",
    "    test.assertEqual(states.shape[1], env.observation_space.shape[0])\n",
    "    if i > 5:\n",
    "        break"
   ]
  },
  {
   "cell_type": "markdown",
   "metadata": {},
   "source": [
    "### Loss functions"
   ]
  },
  {
   "cell_type": "markdown",
   "metadata": {},
   "source": [
    "As usual, we need a loss function to optimize over.\n",
    "We'll calculate three types of losses:\n",
    "1. The causal vanilla policy gradient loss.\n",
    "1. The policy gradient loss, with a baseline to reduce variance.\n",
    "2. An entropy-based loss whos purpose is to diversify the agent's action selection,\n",
    "   and prevent it from being \"too sure\" about its actions.\n",
    "   This loss will be used together with one of the above losses."
   ]
  },
  {
   "cell_type": "markdown",
   "metadata": {},
   "source": [
    "#### Causal vanilla policy-gradient"
   ]
  },
  {
   "cell_type": "markdown",
   "metadata": {},
   "source": [
    "We have derived the policy-gradient as\n",
    "$$\n",
    "\\grad\\mathcal{L}(\\vec{\\theta}) = \\E[\\tau]{-g(\\tau)\\sum_{t\\geq0} \\grad\\log \\pi_{\\vec{\\theta}}(a_t|s_t)}.\n",
    "$$\n",
    "\n",
    "By writing the discounted reward explicitly and enforcing causality, i.e. the action taken at time $t$ can't affect\n",
    "the reward at time $t'<t$, we can get a slightly lower-variance version of the policy gradient:\n",
    "\n",
    "$$\n",
    "\\grad\\mathcal{L}_{\\text{PG}}(\\vec{\\theta}) = \n",
    "\\E[\\tau]{-\\sum_{t\\geq0} \\left(\\sum_{t'\\geq t} \\gamma^{t'}r_{t'+1} \\right)\\grad\\log \\pi_{\\vec{\\theta}}(a_t|s_t)}.\n",
    "$$"
   ]
  },
  {
   "cell_type": "markdown",
   "metadata": {},
   "source": [
    "In practice, the expectation over trajectories is calculated using a Monte-Carlo approach, i.e. simply sampling $N$\n",
    "trajectories and average the term inside the expectation. Therefore, we will use the following estimated version of the policy gradient:\n",
    "\n",
    "$$\n",
    "\\begin{align}\n",
    "\\hat\\grad\\mathcal{L}_{\\text{PG}}(\\vec{\\theta})\n",
    "&=-\\frac{1}{N}\\sum_{i=1}^{N}\\sum_{t\\geq0} \\left(\\sum_{t'\\geq t} \\gamma^{t'}r_{i,t'+1} \\right)\\grad\\log \\pi_{\\vec{\\theta}}(a_{i,t}|s_{i,t}) \\\\\n",
    "&=-\\frac{1}{N}\\sum_{i=1}^{N}\\sum_{t\\geq0} \\hat{q}_{i,t} \\grad\\log \\pi_{\\vec{\\theta}}(a_{i,t}|s_{i,t}).\n",
    "\\end{align}\n",
    "$$\n",
    "\n",
    "Note the use of the notation $\\hat{q}_{i,t}$ to represent the estimated action-value at time $t$ in the sampled trajectory $i$.\n",
    "Here $\\hat{q}_{i,t}$ is acting as the weight-term for the policy gradient."
   ]
  },
  {
   "cell_type": "markdown",
   "metadata": {},
   "source": [
    "**TODO**: Complete the implementation of the `VanillaPolicyGradientLoss` class in the `hw4/rl_pg.py` module."
   ]
  },
  {
   "cell_type": "code",
   "execution_count": 14,
   "metadata": {
    "pycharm": {
     "is_executing": false
    }
   },
   "outputs": [
    {
     "name": "stdout",
     "output_type": "stream",
     "text": [
      "loss = tensor(-35.5355)\n"
     ]
    }
   ],
   "source": [
    "# Ensure deterministic run\n",
    "env = gym.make(ENV_NAME)\n",
    "env.seed(SEED)\n",
    "torch.manual_seed(SEED)\n",
    "\n",
    "def agent_fn():\n",
    "    # Use a simple \"network\" here, so that this test doesn't depend on your specific PolicyNet implementation\n",
    "    p_net_test = nn.Linear(8, 4)\n",
    "    agent = hw4pg.PolicyAgent(env, p_net_test)\n",
    "    return agent\n",
    "\n",
    "dataloader = hw4data.TrainBatchDataset(agent_fn, gamma=0.9, episode_batch_size=4)\n",
    "\n",
    "test_batch = next(iter(dataloader))\n",
    "test_action_scores = torch.randn(len(test_batch), env.action_space.n)\n",
    "\n",
    "loss_fn_p = hw4pg.VanillaPolicyGradientLoss()\n",
    "loss_p, _ = loss_fn_p(test_batch, test_action_scores)\n",
    "\n",
    "print('loss =', loss_p)\n",
    "test.assertAlmostEqual(loss_p.item(), -35.535522, delta=1e-3)"
   ]
  },
  {
   "cell_type": "markdown",
   "metadata": {},
   "source": [
    "#### Policy-gradient with baseline"
   ]
  },
  {
   "cell_type": "markdown",
   "metadata": {},
   "source": [
    "Another way to reduce the variance of our gradient is to use relative weighting of the log-policy instead of absolute reward values.\n",
    "$$\n",
    "\\hat\\grad\\mathcal{L}_{\\text{BPG}}(\\vec{\\theta})\n",
    "=-\\frac{1}{N}\\sum_{i=1}^{N}\\sum_{t\\geq0} \\left(\\hat{q}_{i,t}-b\\right) \\grad\\log \\pi_{\\vec{\\theta}}(a_{i,t}|s_{i,t}).\n",
    "$$\n",
    "In other words, we don't measure a trajectory's worth by it's total reward, but by how much better that total reward is relative to some\n",
    "expected (\"baseline\") reward value, denoted above by $b$.\n",
    "Note that subtracting a baseline has no effect on the expected value of the policy gradient. It's easy to prove this directly by definition.\n",
    "\n",
    "Here we'll implement a very simple baseline (not optimal in terms of variance reduction): the average of the estimated state-values $\\hat{q}_{i,t}$."
   ]
  },
  {
   "cell_type": "markdown",
   "metadata": {},
   "source": [
    "**TODO**: Complete the implementation of the `BaselinePolicyGradientLoss` class in the `hw4/rl_pg.py` module."
   ]
  },
  {
   "cell_type": "code",
   "execution_count": 15,
   "metadata": {
    "pycharm": {
     "is_executing": false
    }
   },
   "outputs": [
    {
     "name": "stdout",
     "output_type": "stream",
     "text": [
      "loss = tensor(-2.4665)\n"
     ]
    }
   ],
   "source": [
    "# Using the same batch and action_scores from above cell\n",
    "loss_fn_p = hw4pg.BaselinePolicyGradientLoss()\n",
    "loss_p, _ = loss_fn_p(test_batch, test_action_scores)\n",
    "\n",
    "print('loss =', loss_p)\n",
    "test.assertAlmostEqual(loss_p.item(), -2.4665009, delta=1e-3)"
   ]
  },
  {
   "cell_type": "markdown",
   "metadata": {},
   "source": [
    "#### Entropy loss"
   ]
  },
  {
   "cell_type": "markdown",
   "metadata": {},
   "source": [
    "The entropy of a probability distribution (in our case the policy), is\n",
    "$$\n",
    "H(\\pi) = -\\sum_{a} \\pi(a|s)\\log\\pi(a|s).\n",
    "$$\n",
    "The entropy is always positive and obtains it's maximum for a uniform distribution.\n",
    "We'll use the entropy of the policy as a bonus, i.e. we'll try to maximize it.\n",
    "The idea is the prevent the policy distribution from becoming too narrow and thus promote the agent's exploration."
   ]
  },
  {
   "cell_type": "markdown",
   "metadata": {},
   "source": [
    "First, we'll calculate the maximal possible entropy value of the action distribution for a set number of possible actions.\n",
    "This will be used as a normalization term.\n",
    "\n",
    "**TODO**: Complete the implementation of the `calc_max_entropy()` method in the `ActionEntropyLoss` class."
   ]
  },
  {
   "cell_type": "code",
   "execution_count": 16,
   "metadata": {
    "pycharm": {
     "is_executing": false
    }
   },
   "outputs": [
    {
     "name": "stdout",
     "output_type": "stream",
     "text": [
      "max_entropy =  tensor([1.3863])\n"
     ]
    }
   ],
   "source": [
    "loss_fn_e = hw4pg.ActionEntropyLoss(env.action_space.n)\n",
    "print('max_entropy = ', loss_fn_e.max_entropy)\n",
    "\n",
    "test.assertAlmostEqual(loss_fn_e.max_entropy, 1.38629436, delta=1e-3)"
   ]
  },
  {
   "cell_type": "markdown",
   "metadata": {},
   "source": [
    "**TODO**: Complete the implementation of the `forward()` method in the `ActionEntropyLoss` class."
   ]
  },
  {
   "cell_type": "code",
   "execution_count": 17,
   "metadata": {
    "pycharm": {
     "is_executing": false
    }
   },
   "outputs": [
    {
     "name": "stdout",
     "output_type": "stream",
     "text": [
      "loss =  tensor(-0.7927)\n"
     ]
    }
   ],
   "source": [
    "loss_e, _ = loss_fn_e(test_batch, test_action_scores)\n",
    "print('loss = ', loss_e)\n",
    "\n",
    "test.assertAlmostEqual(loss_e.item(), -0.7927002, delta=1e-3)"
   ]
  },
  {
   "cell_type": "markdown",
   "metadata": {},
   "source": [
    "### Training"
   ]
  },
  {
   "cell_type": "markdown",
   "metadata": {},
   "source": [
    "We'll implement our training procedure as follows:\n",
    "\n",
    "1. Initialize the current policy to be a random policy.\n",
    "1. Sample $N$ trajectories from the environment using the current policy.\n",
    "2. Calculate the estimated $q$-values, $\\hat{q}_{i,t} = \\sum_{t'\\geq t} \\gamma^{t'}r_{i,t'+1}$ for each trajectory $i$.\n",
    "3. Calculate policy gradient estimate $\\hat\\grad\\mathcal{L}(\\vec{\\theta})$ as defined above.\n",
    "4. Perform SGD update $\\vec{\\theta}\\leftarrow\\vec{\\theta}-\\eta\\hat\\grad\\mathcal{L}(\\vec{\\theta})$.\n",
    "5. Repeat from step 2.\n",
    "\n",
    "This is known as the **REINFORCE** algorithm."
   ]
  },
  {
   "cell_type": "markdown",
   "metadata": {},
   "source": [
    "Fortunately, we've already implemented everything we need for steps 1-4 so we need only a bit more code to put it all together.\n",
    "\n",
    "The following block implements a wrapper, `train_pg` to create all the objects we need in order to train our policy gradient model.\n"
   ]
  },
  {
   "cell_type": "code",
   "execution_count": 18,
   "metadata": {
    "pycharm": {
     "is_executing": false
    }
   },
   "outputs": [],
   "source": [
    "import hw4.answers\n",
    "from functools import partial\n",
    "\n",
    "ENV_NAME = \"Beresheet-v2\"\n",
    "\n",
    "def agent_fn_train(agent_type, p_net, seed, envs_dict):\n",
    "    winfo = torch.utils.data.get_worker_info()\n",
    "    wid = winfo.id if winfo else 0\n",
    "    seed = seed + wid if seed else wid\n",
    "\n",
    "    env = gym.make(ENV_NAME)\n",
    "    envs_dict[wid] = env\n",
    "    env.seed(seed)\n",
    "    np.random.seed(seed)\n",
    "    torch.manual_seed(seed)\n",
    "\n",
    "    return agent_type(env, p_net)\n",
    "\n",
    "def train_rl(agent_type, net_type, loss_fns, hp, seed=None, checkpoints_file=None, **train_kw):\n",
    "    print(f'hyperparams: {hp}')\n",
    "    \n",
    "    envs = {}\n",
    "    p_net = net_type(ENV_N_OBSERVATIONS, ENV_N_ACTIONS, **hp)\n",
    "    p_net.share_memory()\n",
    "    agent_fn = partial(agent_fn_train, agent_type, p_net, seed, envs)\n",
    "    \n",
    "    dataset = hw4data.TrainBatchDataset(agent_fn, hp['batch_size'], hp['gamma'])\n",
    "    dataloader = DataLoader(dataset, batch_size=None, num_workers=2)\n",
    "    optimizer = optim.Adam(p_net.parameters(), lr=hp['learn_rate'], eps=hp['eps'])\n",
    "    \n",
    "    trainer = hw4pg.PolicyTrainer(p_net, optimizer, loss_fns, dataloader, checkpoints_file)\n",
    "    try:\n",
    "        trainer.train(**train_kw)\n",
    "    except KeyboardInterrupt as e:\n",
    "        print('Training interrupted by user.')\n",
    "    finally:\n",
    "        for env in envs.values():\n",
    "            env.close()\n",
    "\n",
    "    # Include final model state\n",
    "    training_data = trainer.training_data\n",
    "    training_data['model_state'] = p_net.state_dict()\n",
    "    return training_data\n",
    "    \n",
    "def train_pg(baseline=False, entropy=False, **train_kwargs):\n",
    "    hp = hw4.answers.part1_pg_hyperparams()\n",
    "    \n",
    "    loss_fns = []\n",
    "    if baseline:\n",
    "        loss_fns.append(hw4pg.BaselinePolicyGradientLoss())\n",
    "    else:\n",
    "        loss_fns.append(hw4pg.VanillaPolicyGradientLoss())\n",
    "    if entropy:\n",
    "        loss_fns.append(hw4pg.ActionEntropyLoss(ENV_N_ACTIONS, hp['beta']))\n",
    "\n",
    "    return train_rl(hw4pg.PolicyAgent, hw4pg.PolicyNet, loss_fns, hp, **train_kwargs)"
   ]
  },
  {
   "cell_type": "markdown",
   "metadata": {},
   "source": [
    "The `PolicyTrainer` class implements the training loop, collects the losses and rewards and provides some useful checkpointing functionality.\n",
    "The training loop will generate batches of episodes and train on them until either:\n",
    "- The average total reward from the last `running_mean_len` episodes is greater than the `target_reward`, OR\n",
    "- The number of generated episodes reached `max_episodes`.\n",
    "\n",
    "Most of this class is already implemented for you. "
   ]
  },
  {
   "cell_type": "markdown",
   "metadata": {},
   "source": [
    "**TODO**:\n",
    "1. Complete the training loop by implementing the `train_batch()` method of the `PolicyTrainer`.\n",
    "2. Tweak the hyperparameters in the `part1_pg_hyperparams()` function within the `hw4/answers.py` module as needed. You get some sane defaults."
   ]
  },
  {
   "cell_type": "markdown",
   "metadata": {},
   "source": [
    "Let's check whether our model is actually training.\n",
    "We'll try to reach a very low (bad) target reward, just as a sanity check to see that training works.\n",
    "Your model should be able to reach this target reward within a few batches.\n",
    "\n",
    "You can increase the target reward and use this block to manually tweak your model and hyperparameters a few times."
   ]
  },
  {
   "cell_type": "code",
   "execution_count": 19,
   "metadata": {
    "pycharm": {
     "is_executing": false
    }
   },
   "outputs": [
    {
     "name": "stdout",
     "output_type": "stream",
     "text": [
      "hyperparams: {'batch_size': 32, 'gamma': 0.99, 'beta': 0.5, 'learn_rate': 0.0015, 'eps': 1e-08}\n",
      "=== Training...\n",
      "#1: step=00005565, loss_p=-118.58, m_reward(10)=-132.2 (best=-181.0):   3%|▎         | 64/2000 [00:02<01:16, 25.33it/s]\n",
      "\n",
      "=== 🚀 SOLVED - Target reward reached! 🚀\n"
     ]
    }
   ],
   "source": [
    "target_reward = -150 # VERY LOW target\n",
    "train_data = train_pg(target_reward=target_reward, seed=SEED, max_episodes=2000, running_mean_len=10)\n",
    "\n",
    "test.assertGreater(train_data['mean_reward'][-1], target_reward)"
   ]
  },
  {
   "cell_type": "markdown",
   "metadata": {},
   "source": [
    "### Experimenting with different losses"
   ]
  },
  {
   "cell_type": "markdown",
   "metadata": {},
   "source": [
    "We'll now run a few experiments to see the effect of diferent loss functions on the training dynamics. Namely, we'll try:\n",
    "1. Vanilla PG (`vpg`): No baseline, no entropy\n",
    "2. Baseline PG (`bpg`): Baseline, no entropy loss\n",
    "3. Entropy PG (`epg`): No baseline, with entropy loss\n",
    "3. Combined PG (`cpg`): Baseline, with entropy loss"
   ]
  },
  {
   "cell_type": "code",
   "execution_count": 20,
   "metadata": {
    "pycharm": {
     "is_executing": false
    }
   },
   "outputs": [
    {
     "name": "stdout",
     "output_type": "stream",
     "text": [
      "[ExpConfig(name='vpg', baseline=False, entropy=False),\n",
      " ExpConfig(name='epg', baseline=False, entropy=True),\n",
      " ExpConfig(name='bpg', baseline=True, entropy=False),\n",
      " ExpConfig(name='cpg', baseline=True, entropy=True)]\n"
     ]
    }
   ],
   "source": [
    "from collections import namedtuple\n",
    "from pprint import pprint\n",
    "import itertools as it\n",
    "\n",
    "\n",
    "ExpConfig = namedtuple('ExpConfig', ('name','baseline','entropy'))\n",
    "\n",
    "def exp_configs():\n",
    "    exp_names = ('vpg', 'epg', 'bpg', 'cpg')\n",
    "    z = zip(exp_names, it.product((False, True), (False, True)))\n",
    "    return (ExpConfig(n, b, e) for (n, (b, e)) in z)\n",
    "\n",
    "pprint(list(exp_configs()))"
   ]
  },
  {
   "cell_type": "markdown",
   "metadata": {},
   "source": [
    "We'll save the training data from each experiment for plotting."
   ]
  },
  {
   "cell_type": "code",
   "execution_count": 21,
   "metadata": {
    "pycharm": {
     "is_executing": false
    }
   },
   "outputs": [],
   "source": [
    "import pickle\n",
    "\n",
    "def dump_training_data(data, filename):\n",
    "    os.makedirs(os.path.dirname(filename), exist_ok=True)\n",
    "    with open(filename, mode='wb') as file:\n",
    "        pickle.dump(data, file)\n",
    "        \n",
    "def load_training_data(filename):\n",
    "    with open(filename, mode='rb') as file:\n",
    "        return pickle.load(file)"
   ]
  },
  {
   "cell_type": "markdown",
   "metadata": {},
   "source": [
    "Let's run the experiments! We'll run each configuration for a fixed number of episodes so that we can compare them.\n",
    "\n",
    "Notes:\n",
    "1. Until your models start working, you can decrease the number of episodes for each experiment, or only run one experiment.\n",
    "2.  The results will be saved in a file. To re-run the experiments, you can set `force_run` to `True`."
   ]
  },
  {
   "cell_type": "code",
   "execution_count": 22,
   "metadata": {
    "pycharm": {
     "is_executing": false
    }
   },
   "outputs": [
    {
     "name": "stdout",
     "output_type": "stream",
     "text": [
      "=== results file results/part1_exp.dat exists, skipping experiments.\n"
     ]
    }
   ],
   "source": [
    "import math\n",
    "\n",
    "exp_max_episodes = 4000\n",
    "\n",
    "results = {}\n",
    "training_data_filename = os.path.join('results', f'part1_exp.dat')\n",
    "\n",
    "# Set to True to force re-run (careful, will delete old experiment results)\n",
    "force_run = False\n",
    "\n",
    "# Skip running if results file exists.\n",
    "if os.path.isfile(training_data_filename) and not force_run:\n",
    "    print(f'=== results file {training_data_filename} exists, skipping experiments.')\n",
    "    results = load_training_data(training_data_filename)\n",
    "    \n",
    "else:\n",
    "    for n, b, e in exp_configs():\n",
    "        print(f'=== Experiment {n}')\n",
    "        results[n] = train_pg(baseline=b, entropy=e, max_episodes=exp_max_episodes, post_batch_fn=None)\n",
    "        \n",
    "    dump_training_data(results, training_data_filename)"
   ]
  },
  {
   "cell_type": "code",
   "execution_count": 23,
   "metadata": {
    "pycharm": {
     "is_executing": false
    }
   },
   "outputs": [
    {
     "data": {
      "image/png": "[encoded data removed]",
      "text/plain": [
       "<Figure size 1296x864 with 4 Axes>"
      ]
     },
     "metadata": {
      "needs_background": "light"
     },
     "output_type": "display_data"
    }
   ],
   "source": [
    "def plot_experiment_results(results, fig=None):\n",
    "    if fig is None:\n",
    "        fig, _ = plt.subplots(nrows=2, ncols=2, sharex=True, figsize=(18,12))\n",
    "    for i, plot_type in enumerate(('loss_p', 'baseline', 'loss_e', 'mean_reward')):\n",
    "        ax = fig.axes[i]\n",
    "        for exp_name, exp_res in results.items():\n",
    "            if plot_type not in exp_res:\n",
    "                continue\n",
    "            ax.plot(exp_res['episode_num'], exp_res[plot_type], label=exp_name)\n",
    "        ax.set_title(plot_type)\n",
    "        ax.set_xlabel('episode')\n",
    "        ax.legend()\n",
    "    return fig\n",
    "    \n",
    "experiments_results_fig = plot_experiment_results(results)"
   ]
  },
  {
   "cell_type": "markdown",
   "metadata": {},
   "source": [
    "You should see positive training dynamics in the graphs (reward going up).\n",
    "If you don't, use them to further update your model or hyperparams.\n",
    "\n",
    "To pass the test, you'll need to get a best total mean reward of at least 10 in the fixed number of epochs using the combined loss.\n",
    "It's possible to get much higher (over 100)."
   ]
  },
  {
   "cell_type": "code",
   "execution_count": 24,
   "metadata": {
    "pycharm": {
     "is_executing": false
    }
   },
   "outputs": [
    {
     "name": "stdout",
     "output_type": "stream",
     "text": [
      "Best CPG mean reward: 59.65\n"
     ]
    }
   ],
   "source": [
    "best_cpg_mean_reward = max(results['cpg']['mean_reward'])\n",
    "print(f'Best CPG mean reward: {best_cpg_mean_reward:.2f}')\n",
    "\n",
    "test.assertGreater(best_cpg_mean_reward, 10)"
   ]
  },
  {
   "cell_type": "markdown",
   "metadata": {},
   "source": [
    "Now let's take a look at a gameplay video of our `cpg` model after the short training!"
   ]
  },
  {
   "cell_type": "code",
   "execution_count": 25,
   "metadata": {
    "pycharm": {
     "is_executing": false
    }
   },
   "outputs": [
    {
     "name": "stdout",
     "output_type": "stream",
     "text": [
      "120 steps, total reward: 8.84\n"
     ]
    },
    {
     "data": {
      "text/html": [
       "<video src=\"data:video/mp4;base64,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\" controls autoplay width=\"500\" height=\"auto\" />"
      ],
      "text/plain": [
       "<IPython.core.display.HTML object>"
      ]
     },
     "execution_count": 25,
     "metadata": {},
     "output_type": "execute_result"
    }
   ],
   "source": [
    "hp = hw4.answers.part1_pg_hyperparams()\n",
    "p_net_cpg = hw4pg.PolicyNet.build_for_env(env, **hp)\n",
    "p_net_cpg.load_state_dict(results['cpg']['model_state'])\n",
    "\n",
    "env, n_steps, reward = hw4pg.PolicyAgent.monitor_episode(ENV_NAME, p_net_cpg)\n",
    "print(f'{n_steps} steps, total reward: {reward:.2f}')\n",
    "show_monitor_video(env, -1)"
   ]
  },
  {
   "cell_type": "markdown",
   "metadata": {},
   "source": [
    "## Advantage Actor-Critic (AAC)\n",
    "<a id=part1_2></a>"
   ]
  },
  {
   "cell_type": "markdown",
   "metadata": {},
   "source": [
    "We have seen that the policy-gradient loss can be interpreted as a log-likelihood of the policy term\n",
    "(selecting a specific action at a specific state), weighted by the future rewards of that choice of action.\n",
    "\n",
    "However, naïvely weighting by rewards has significant drawbacks in terms of the variance of the resulting gradient.\n",
    "We addressed this by adding a simple baseline term which represented our \"expected reward\" so that we increase probability of actions\n",
    "leading to trajectories which exceed this expectation and vice-versa.\n",
    "\n",
    "In this part we'll explore a more powerful baseline, which is the idea behind the AAC method."
   ]
  },
  {
   "cell_type": "markdown",
   "metadata": {},
   "source": [
    "### The advantage function"
   ]
  },
  {
   "cell_type": "markdown",
   "metadata": {},
   "source": [
    "Recall the definition of the state-value function $v_{\\pi}(s)$ and action-value function $q_{\\pi}(s,a)$:\n",
    "\n",
    "$$\n",
    "\\begin{align}\n",
    "v_{\\pi}(s) &= \\E{g(\\tau)|s_0 = s,\\pi} \\\\\n",
    "q_{\\pi}(s,a) &= \\E{g(\\tau)|s_0 = s,a_0=a,\\pi}.\n",
    "\\end{align}\n",
    "$$\n",
    "\n",
    "Both these functions represent the value of the state $s$. However, $v_\\pi$ averages over the first action according to the policy,\n",
    "while $q_\\pi$ fixes the first action and then continues according to the policy."
   ]
  },
  {
   "cell_type": "markdown",
   "metadata": {},
   "source": [
    "Their difference is known as the **advantage function**:\n",
    "$$\n",
    "a_\\pi(s,a) = q_\\pi(s,a)-v_\\pi(s).\n",
    "$$\n",
    "\n",
    "If $a_\\pi(s,a)>0$ it means that it's better (in expectation) to take action $a$ in state $s$ compared to the average action.\n",
    "In other words, $a_\\pi(s,a)$ represents the *advantage* of using action $a$ in state $s$ compared to the others."
   ]
  },
  {
   "cell_type": "markdown",
   "metadata": {},
   "source": [
    "So far we have used an estimate for $q_\\pi$ as our weighting term for the log-policy, with a fixed baseline per batch.\n",
    "\n",
    "$$\n",
    "\\hat\\grad\\mathcal{L}_{\\text{BPG}}(\\vec{\\theta})\n",
    "=-\\frac{1}{N}\\sum_{i=1}^{N}\\sum_{t\\geq0} \\left(\\hat{q}_{i,t}-b\\right) \\grad\\log \\pi_{\\vec{\\theta}}(a_{i,t}|s_{i,t}).\n",
    "$$\n"
   ]
  },
  {
   "cell_type": "markdown",
   "metadata": {},
   "source": [
    "Now, we will use the state value as a baseline, so that an estimate of the advantage function is our weighting term:\n",
    "\n",
    "$$\n",
    "\\hat\\grad\\mathcal{L}_{\\text{AAC}}(\\vec{\\theta})\n",
    "=-\\frac{1}{N}\\sum_{i=1}^{N}\\sum_{t\\geq0} \\left(\\hat{q}_{i,t}-v_\\pi(s_t)\\right) \\grad\\log \\pi_{\\vec{\\theta}}(a_{i,t}|s_{i,t}).\n",
    "$$\n",
    "\n",
    "Intuitively, using the advantage function makes sense because it means we're weighting our policy's actions according to\n",
    "how advantageous they are compared to other possible actions."
   ]
  },
  {
   "cell_type": "markdown",
   "metadata": {},
   "source": [
    "But how will we know $v_\\pi(s)$? We'll learn it of course, using another neural network.\n",
    "This is known as actor-critic learning. We simultaneously learn the policy (actor) and the value of states (critic).\n",
    "We'll treat it as a regression task: given a state $s_t$, our state-value network will output $\\hat{v}_\\pi(s_t)$,\n",
    "an estimate of the actual unknown state-value.\n",
    "Our regression targets will be the discounted rewards, $\\hat{q}_{i,t}$ (see question 2),\n",
    "and we can use a simple MSE as the loss function,\n",
    "$$\n",
    "\\mathcal{L}_{\\text{SV}} = \\frac{1}{N}\\sum_{i=1}^{N}\\sum_{t\\geq0}\\left(\\hat{v}_\\pi(s_t) - \\hat{q}_{i,t}\\right)^2.\n",
    "$$\n"
   ]
  },
  {
   "cell_type": "markdown",
   "metadata": {},
   "source": [
    "### Implementation"
   ]
  },
  {
   "cell_type": "markdown",
   "metadata": {},
   "source": [
    "We'll build heavily on our implementation of the regular policy-gradient method, and just add a new model class and a new loss class, with a small modification to the agent."
   ]
  },
  {
   "cell_type": "markdown",
   "metadata": {},
   "source": [
    "Let's start with the model. It will accept a state, and return action scores (as before), but also the value of that state.\n",
    "You can experiment with a dual-head network that has a shared base, or implement two separate parts within the network.\n",
    "\n",
    "**TODO**:\n",
    "1. Implement the model as the `AACPolicyNet` class in the `hw4/rl_ac.py` module.\n",
    "1. Set the hyperparameters in the `part1_aac_hyperparams()` function of the `hw4.answers` module."
   ]
  },
  {
   "cell_type": "code",
   "execution_count": 26,
   "metadata": {
    "pycharm": {
     "is_executing": false
    }
   },
   "outputs": [
    {
     "data": {
      "text/plain": [
       "AACPolicyNet(\n",
       "  (shared_net): Sequential(\n",
       "    (0): Linear(in_features=8, out_features=64, bias=True)\n",
       "    (1): ReLU()\n",
       "  )\n",
       "  (action_net): Sequential(\n",
       "    (0): Linear(in_features=64, out_features=4, bias=True)\n",
       "  )\n",
       "  (state_net): Sequential(\n",
       "    (0): Linear(in_features=64, out_features=1, bias=True)\n",
       "  )\n",
       ")"
      ]
     },
     "execution_count": 26,
     "metadata": {},
     "output_type": "execute_result"
    }
   ],
   "source": [
    "import hw4.rl_ac as hw4ac\n",
    "\n",
    "hp = hw4.answers.part1_aac_hyperparams()\n",
    "pv_net = hw4ac.AACPolicyNet.build_for_env(env, device, **hp)\n",
    "pv_net"
   ]
  },
  {
   "cell_type": "markdown",
   "metadata": {},
   "source": [
    "**TODO**: Complete the implementation of the agent class, `AACPolicyAgent`, in the `hw4/rl_ac.py` module."
   ]
  },
  {
   "cell_type": "code",
   "execution_count": 27,
   "metadata": {
    "pycharm": {
     "is_executing": false
    }
   },
   "outputs": [
    {
     "name": "stdout",
     "output_type": "stream",
     "text": [
      "Experience(state=array([-0.01096077,  1.3929503 , -0.5543457 , -0.41217738,  0.01257   ,\n",
      "        0.12427411,  0.        ,  0.        ], dtype=float32), action=0, reward=-1.1342764390703906, is_done=False)\n"
     ]
    }
   ],
   "source": [
    "agent = hw4ac.AACPolicyAgent(env, pv_net, device)\n",
    "exp = agent.step()\n",
    "\n",
    "test.assertIsInstance(exp, hw4pg.Experience)\n",
    "print(exp)"
   ]
  },
  {
   "cell_type": "markdown",
   "metadata": {},
   "source": [
    "**TODO**: Implement the AAC loss function as the class `AACPolicyGradientLoss` in the `hw4/rl_ac.py` module."
   ]
  },
  {
   "cell_type": "code",
   "execution_count": 28,
   "metadata": {
    "pycharm": {
     "is_executing": false
    }
   },
   "outputs": [
    {
     "name": "stdout",
     "output_type": "stream",
     "text": [
      "loss_t = tensor(975.2316)\n"
     ]
    }
   ],
   "source": [
    "loss_fn_aac = hw4ac.AACPolicyGradientLoss(delta=1.)\n",
    "test_state_values = torch.ones(test_action_scores.shape[0], 1)\n",
    "loss_t, _ = loss_fn_aac(test_batch, (test_action_scores, test_state_values))\n",
    "\n",
    "print('loss_t =', loss_t)\n",
    "test.assertAlmostEqual(loss_t.item(), 975.230895, delta=1e-3)"
   ]
  },
  {
   "cell_type": "markdown",
   "metadata": {},
   "source": [
    "### Experimentation"
   ]
  },
  {
   "cell_type": "markdown",
   "metadata": {},
   "source": [
    "Let's run the same experiment as before, but with the AAC method and compare the results."
   ]
  },
  {
   "cell_type": "code",
   "execution_count": 29,
   "metadata": {
    "pycharm": {
     "is_executing": false
    }
   },
   "outputs": [],
   "source": [
    "def train_aac(hp, baseline=False, entropy=False, **train_kwargs):\n",
    "    loss_fns = [hw4ac.AACPolicyGradientLoss(hp['delta']), hw4pg.ActionEntropyLoss(ENV_N_ACTIONS, hp['beta'])]\n",
    "    return train_rl(hw4ac.AACPolicyAgent, hw4ac.AACPolicyNet, loss_fns, hp, **train_kwargs)"
   ]
  },
  {
   "cell_type": "code",
   "execution_count": null,
   "metadata": {
    "pycharm": {
     "is_executing": false
    }
   },
   "outputs": [
    {
     "name": "stdout",
     "output_type": "stream",
     "text": [
      "=== Running AAC experiment\n",
      "hyperparams: {'batch_size': 4, 'gamma': 0.99, 'beta': 0.9, 'delta': 0.001, 'learn_rate': 0.001, 'eps': 1e-08, 'hidden_dim': 32}\n",
      "=== Training...\n",
      "#999: step=00417903, loss_p=-34.00, loss_v=  1.42, adv_m=-21.77, loss_e= -0.70, m_reward(100)= -71.6 (best= -45.3): 100%|██████████| 4000/4000 [01:32<00:00, 43.29it/s] \n",
      "\n",
      "=== STOPPING - Max episode reached\n",
      "hyperparams: {'batch_size': 4, 'gamma': 0.99, 'beta': 0.9, 'delta': 0.001, 'learn_rate': 0.001, 'eps': 1e-08, 'hidden_dim': 64}\n",
      "=== Training...\n",
      "#999: step=00402379, loss_p=-13.72, loss_v= 52.73, adv_m=-206.35, loss_e= -0.00, m_reward(100)=-574.4 (best= -49.3): 100%|██████████| 4000/4000 [01:32<00:00, 43.39it/s] \n",
      "\n",
      "=== STOPPING - Max episode reached\n",
      "hyperparams: {'batch_size': 8, 'gamma': 0.99, 'beta': 0.9, 'delta': 0.001, 'learn_rate': 0.001, 'eps': 1e-08, 'hidden_dim': 32}\n",
      "=== Training...\n",
      "#499: step=00362177, loss_p=-75.90, loss_v=  3.41, adv_m=-54.04, loss_e= -0.78, m_reward(100)= -91.1 (best= -76.7): 100%|██████████| 4000/4000 [01:14<00:00, 53.45it/s] \n",
      "\n",
      "=== STOPPING - Max episode reached\n",
      "hyperparams: {'batch_size': 8, 'gamma': 0.99, 'beta': 0.9, 'delta': 0.001, 'learn_rate': 0.001, 'eps': 1e-08, 'hidden_dim': 64}\n",
      "=== Training...\n",
      "#499: step=00433762, loss_p=-31.60, loss_v=  1.44, adv_m=-23.40, loss_e= -0.70, m_reward(100)= -39.1 (best= -32.3): 100%|██████████| 4000/4000 [01:40<00:00, 39.81it/s] \n",
      "\n",
      "=== STOPPING - Max episode reached\n",
      "hyperparams: {'batch_size': 16, 'gamma': 0.99, 'beta': 0.9, 'delta': 0.001, 'learn_rate': 0.001, 'eps': 1e-08, 'hidden_dim': 32}\n",
      "=== Training...\n",
      "#249: step=00418510, loss_p=-77.48, loss_v=  4.48, adv_m=-58.13, loss_e= -0.85, m_reward(100)=-104.2 (best= -91.6): 100%|██████████| 4000/4000 [01:29<00:00, 44.56it/s]  \n",
      "\n",
      "=== STOPPING - Max episode reached\n",
      "hyperparams: {'batch_size': 16, 'gamma': 0.99, 'beta': 0.9, 'delta': 0.001, 'learn_rate': 0.001, 'eps': 1e-08, 'hidden_dim': 64}\n",
      "=== Training...\n",
      "#249: step=00418303, loss_p=-38.25, loss_v=  1.57, adv_m=-30.99, loss_e= -0.75, m_reward(100)= -55.5 (best= -52.1): 100%|██████████| 4000/4000 [01:31<00:00, 43.48it/s] \n",
      "\n",
      "=== STOPPING - Max episode reached\n",
      "hyperparams: {'batch_size': 4, 'gamma': 0.99, 'beta': 0.9, 'delta': 0.002, 'learn_rate': 0.001, 'eps': 1e-08, 'hidden_dim': 32}\n",
      "=== Training...\n",
      "#999: step=00482086, loss_p= -6.10, loss_v=  1.71, adv_m= -4.66, loss_e= -0.67, m_reward(100)= -62.1 (best= -36.7): 100%|██████████| 4000/4000 [01:52<00:00, 35.71it/s]  \n",
      "\n",
      "=== STOPPING - Max episode reached\n",
      "hyperparams: {'batch_size': 4, 'gamma': 0.99, 'beta': 0.9, 'delta': 0.002, 'learn_rate': 0.001, 'eps': 1e-08, 'hidden_dim': 64}\n",
      "=== Training...\n",
      "#999: step=00620724, loss_p= -7.19, loss_v=  3.41, adv_m= -7.49, loss_e= -0.63, m_reward(100)=  11.4 (best=  24.5): 100%|██████████| 4000/4000 [02:42<00:00, 24.65it/s]  \n",
      "\n",
      "=== STOPPING - Max episode reached\n",
      "hyperparams: {'batch_size': 8, 'gamma': 0.99, 'beta': 0.9, 'delta': 0.002, 'learn_rate': 0.001, 'eps': 1e-08, 'hidden_dim': 32}\n",
      "=== Training...\n",
      "#499: step=00376281, loss_p=-79.38, loss_v= 10.91, adv_m=-60.99, loss_e= -0.77, m_reward(100)= -90.1 (best= -77.8): 100%|██████████| 4000/4000 [01:19<00:00, 50.54it/s]  \n",
      "\n",
      "=== STOPPING - Max episode reached\n",
      "hyperparams: {'batch_size': 8, 'gamma': 0.99, 'beta': 0.9, 'delta': 0.002, 'learn_rate': 0.001, 'eps': 1e-08, 'hidden_dim': 64}\n",
      "=== Training...\n",
      "#499: step=00423001, loss_p=-48.42, loss_v=  3.61, adv_m=-31.21, loss_e= -0.75, m_reward(100)= -66.0 (best= -64.0): 100%|██████████| 4000/4000 [01:33<00:00, 42.98it/s] \n",
      "\n",
      "=== STOPPING - Max episode reached\n",
      "hyperparams: {'batch_size': 16, 'gamma': 0.99, 'beta': 0.9, 'delta': 0.002, 'learn_rate': 0.001, 'eps': 1e-08, 'hidden_dim': 32}\n",
      "=== Training...\n",
      "#249: step=00373943, loss_p=-86.56, loss_v= 12.57, adv_m=-62.76, loss_e= -0.87, m_reward(100)=-104.8 (best= -98.1): 100%|██████████| 4000/4000 [01:17<00:00, 51.70it/s] \n",
      "\n",
      "=== STOPPING - Max episode reached\n",
      "hyperparams: {'batch_size': 16, 'gamma': 0.99, 'beta': 0.9, 'delta': 0.002, 'learn_rate': 0.001, 'eps': 1e-08, 'hidden_dim': 64}\n",
      "=== Training...\n",
      "#249: step=00376725, loss_p=-65.84, loss_v=  5.57, adv_m=-48.12, loss_e= -0.85, m_reward(100)= -92.3 (best= -80.8): 100%|██████████| 4000/4000 [01:18<00:00, 50.73it/s] \n",
      "\n",
      "=== STOPPING - Max episode reached\n",
      "hyperparams: {'batch_size': 4, 'gamma': 0.99, 'beta': 0.9, 'delta': 0.003, 'learn_rate': 0.001, 'eps': 1e-08, 'hidden_dim': 32}\n",
      "=== Training...\n",
      "#999: step=00486402, loss_p=-19.07, loss_v=  3.35, adv_m=-11.06, loss_e= -0.71, m_reward(100)= -13.9 (best= -13.4): 100%|██████████| 4000/4000 [01:53<00:00, 35.38it/s]  \n",
      "\n",
      "=== STOPPING - Max episode reached\n",
      "hyperparams: {'batch_size': 4, 'gamma': 0.99, 'beta': 0.9, 'delta': 0.003, 'learn_rate': 0.001, 'eps': 1e-08, 'hidden_dim': 64}\n",
      "=== Training...\n",
      "#999: step=00447084, loss_p=-65.00, loss_v=  9.27, adv_m=-36.75, loss_e= -0.61, m_reward(100)= -74.1 (best= -54.6): 100%|██████████| 4000/4000 [01:44<00:00, 38.20it/s]  \n",
      "\n",
      "=== STOPPING - Max episode reached\n",
      "hyperparams: {'batch_size': 8, 'gamma': 0.99, 'beta': 0.9, 'delta': 0.003, 'learn_rate': 0.001, 'eps': 1e-08, 'hidden_dim': 32}\n",
      "=== Training...\n",
      "#499: step=00519282, loss_p= -8.01, loss_v=  3.56, adv_m= -6.77, loss_e= -0.73, m_reward(100)= -13.4 (best=  -8.0): 100%|██████████| 4000/4000 [02:10<00:00, 30.75it/s] \n",
      "\n",
      "=== STOPPING - Max episode reached\n",
      "hyperparams: {'batch_size': 8, 'gamma': 0.99, 'beta': 0.9, 'delta': 0.003, 'learn_rate': 0.001, 'eps': 1e-08, 'hidden_dim': 64}\n",
      "=== Training...\n",
      "#499: step=00489043, loss_p= -9.83, loss_v=  2.69, adv_m= -8.47, loss_e= -0.70, m_reward(100)= -22.2 (best= -18.1): 100%|██████████| 4000/4000 [02:00<00:00, 33.16it/s] \n",
      "\n",
      "=== STOPPING - Max episode reached\n",
      "hyperparams: {'batch_size': 16, 'gamma': 0.99, 'beta': 0.9, 'delta': 0.003, 'learn_rate': 0.001, 'eps': 1e-08, 'hidden_dim': 32}\n",
      "=== Training...\n",
      "#249: step=00382941, loss_p=-65.07, loss_v=  8.32, adv_m=-47.10, loss_e= -0.84, m_reward(100)= -81.7 (best= -82.9): 100%|██████████| 4000/4000 [01:20<00:00, 49.62it/s] \n",
      "\n",
      "=== STOPPING - Max episode reached\n",
      "hyperparams: {'batch_size': 16, 'gamma': 0.99, 'beta': 0.9, 'delta': 0.003, 'learn_rate': 0.001, 'eps': 1e-08, 'hidden_dim': 64}\n",
      "=== Training...\n",
      "#249: step=00355851, loss_p=-45.65, loss_v=  5.21, adv_m=-34.67, loss_e= -0.76, m_reward(100)= -65.5 (best= -65.2): 100%|██████████| 4000/4000 [01:15<00:00, 52.93it/s] \n",
      "\n",
      "=== STOPPING - Max episode reached\n",
      "hyperparams: {'batch_size': 4, 'gamma': 0.99, 'beta': 0.9, 'delta': 0.004, 'learn_rate': 0.001, 'eps': 1e-08, 'hidden_dim': 32}\n",
      "=== Training...\n",
      "#999: step=00444638, loss_p=-51.12, loss_v=  7.83, adv_m=-35.38, loss_e= -0.65, m_reward(100)= -81.5 (best= -42.7): 100%|██████████| 4000/4000 [01:44<00:00, 38.33it/s]  \n",
      "\n",
      "=== STOPPING - Max episode reached\n",
      "hyperparams: {'batch_size': 4, 'gamma': 0.99, 'beta': 0.9, 'delta': 0.004, 'learn_rate': 0.001, 'eps': 1e-08, 'hidden_dim': 64}\n",
      "=== Training...\n",
      "#999: step=00528263, loss_p= -0.00, loss_v=389.82, adv_m=-242.32, loss_e= -0.00, m_reward(100)=-582.2 (best= -18.7): 100%|██████████| 4000/4000 [02:16<00:00, 29.37it/s] \n",
      "\n",
      "=== STOPPING - Max episode reached\n",
      "hyperparams: {'batch_size': 8, 'gamma': 0.99, 'beta': 0.9, 'delta': 0.004, 'learn_rate': 0.001, 'eps': 1e-08, 'hidden_dim': 32}\n",
      "=== Training...\n",
      "#499: step=00386328, loss_p=-51.65, loss_v= 10.16, adv_m=-37.59, loss_e= -0.74, m_reward(100)= -76.4 (best= -70.3): 100%|██████████| 4000/4000 [01:22<00:00, 48.51it/s]  \n",
      "\n",
      "=== STOPPING - Max episode reached\n",
      "hyperparams: {'batch_size': 8, 'gamma': 0.99, 'beta': 0.9, 'delta': 0.004, 'learn_rate': 0.001, 'eps': 1e-08, 'hidden_dim': 64}\n",
      "=== Training...\n",
      "#499: step=00445133, loss_p=-41.95, loss_v=  6.91, adv_m=-32.58, loss_e= -0.71, m_reward(100)= -60.8 (best= -25.4): 100%|██████████| 4000/4000 [01:42<00:00, 38.94it/s] \n",
      "\n",
      "=== STOPPING - Max episode reached\n",
      "hyperparams: {'batch_size': 16, 'gamma': 0.99, 'beta': 0.9, 'delta': 0.004, 'learn_rate': 0.001, 'eps': 1e-08, 'hidden_dim': 32}\n",
      "=== Training...\n",
      "#249: step=00398663, loss_p=-55.57, loss_v= 11.66, adv_m=-42.06, loss_e= -0.83, m_reward(100)= -84.6 (best= -81.5): 100%|██████████| 4000/4000 [01:23<00:00, 47.76it/s]  \n",
      "\n",
      "=== STOPPING - Max episode reached\n",
      "hyperparams: {'batch_size': 16, 'gamma': 0.99, 'beta': 0.9, 'delta': 0.004, 'learn_rate': 0.001, 'eps': 1e-08, 'hidden_dim': 64}\n",
      "=== Training...\n",
      "#249: step=00486112, loss_p= -9.53, loss_v=  4.31, adv_m= -8.18, loss_e= -0.76, m_reward(100)= -31.3 (best= -26.1): 100%|██████████| 4000/4000 [01:52<00:00, 35.43it/s] \n",
      "\n",
      "=== STOPPING - Max episode reached\n",
      "hyperparams: {'batch_size': 4, 'gamma': 0.99, 'beta': 0.9, 'delta': 0.005, 'learn_rate': 0.001, 'eps': 1e-08, 'hidden_dim': 32}\n",
      "=== Training...\n",
      "#999: step=00536366, loss_p=-12.72, loss_v=  4.58, adv_m= -7.60, loss_e= -0.70, m_reward(100)= -15.6 (best=  -9.2): 100%|██████████| 4000/4000 [02:17<00:00, 29.09it/s] \n",
      "\n",
      "=== STOPPING - Max episode reached\n",
      "hyperparams: {'batch_size': 4, 'gamma': 0.99, 'beta': 0.9, 'delta': 0.005, 'learn_rate': 0.001, 'eps': 1e-08, 'hidden_dim': 64}\n",
      "=== Training...\n",
      "#999: step=00423060, loss_p= -0.00, loss_v=180.98, adv_m=-122.70, loss_e= -0.00, m_reward(100)=-601.4 (best= -37.9): 100%|██████████| 4000/4000 [01:40<00:00, 39.71it/s] \n",
      "\n",
      "=== STOPPING - Max episode reached\n",
      "hyperparams: {'batch_size': 8, 'gamma': 0.99, 'beta': 0.9, 'delta': 0.005, 'learn_rate': 0.001, 'eps': 1e-08, 'hidden_dim': 32}\n",
      "=== Training...\n",
      "#499: step=00454322, loss_p= -3.01, loss_v=  5.67, adv_m= -2.23, loss_e= -0.77, m_reward(100)= -37.9 (best= -34.9): 100%|██████████| 4000/4000 [01:45<00:00, 37.79it/s]  \n",
      "\n",
      "=== STOPPING - Max episode reached\n",
      "hyperparams: {'batch_size': 8, 'gamma': 0.99, 'beta': 0.9, 'delta': 0.005, 'learn_rate': 0.001, 'eps': 1e-08, 'hidden_dim': 64}\n",
      "=== Training...\n",
      "#499: step=00427525, loss_p=-21.74, loss_v=  5.13, adv_m=-15.31, loss_e= -0.64, m_reward(100)= -52.5 (best= -47.5): 100%|██████████| 4000/4000 [01:34<00:00, 42.43it/s] \n",
      "\n",
      "=== STOPPING - Max episode reached\n",
      "hyperparams: {'batch_size': 16, 'gamma': 0.99, 'beta': 0.9, 'delta': 0.005, 'learn_rate': 0.001, 'eps': 1e-08, 'hidden_dim': 32}\n",
      "=== Training...\n",
      "#249: step=00410506, loss_p=-58.41, loss_v= 13.36, adv_m=-43.92, loss_e= -0.82, m_reward(100)= -79.1 (best= -79.9): 100%|██████████| 4000/4000 [01:25<00:00, 46.78it/s] \n",
      "\n",
      "=== STOPPING - Max episode reached\n",
      "hyperparams: {'batch_size': 16, 'gamma': 0.99, 'beta': 0.9, 'delta': 0.005, 'learn_rate': 0.001, 'eps': 1e-08, 'hidden_dim': 64}\n",
      "=== Training...\n",
      "#249: step=00405381, loss_p=-28.51, loss_v=  6.47, adv_m=-22.66, loss_e= -0.74, m_reward(100)= -57.3 (best= -52.6): 100%|██████████| 4000/4000 [01:26<00:00, 46.19it/s] \n",
      "\n",
      "=== STOPPING - Max episode reached\n",
      "hyperparams: {'batch_size': 4, 'gamma': 0.99, 'beta': 0.9, 'delta': 0.006, 'learn_rate': 0.001, 'eps': 1e-08, 'hidden_dim': 32}\n",
      "=== Training...\n",
      "#999: step=00503912, loss_p=  7.18, loss_v=  6.77, adv_m=  5.68, loss_e= -0.72, m_reward(100)= -38.6 (best= -27.0): 100%|██████████| 4000/4000 [01:55<00:00, 34.76it/s]  \n",
      "\n",
      "=== STOPPING - Max episode reached\n",
      "hyperparams: {'batch_size': 4, 'gamma': 0.99, 'beta': 0.9, 'delta': 0.006, 'learn_rate': 0.001, 'eps': 1e-08, 'hidden_dim': 64}\n",
      "=== Training...\n",
      "#999: step=00475056, loss_p=-49.78, loss_v= 18.50, adv_m=-12.53, loss_e= -0.59, m_reward(100)= -70.7 (best= -31.4): 100%|██████████| 4000/4000 [01:48<00:00, 36.72it/s]  \n",
      "\n",
      "=== STOPPING - Max episode reached\n",
      "hyperparams: {'batch_size': 8, 'gamma': 0.99, 'beta': 0.9, 'delta': 0.006, 'learn_rate': 0.001, 'eps': 1e-08, 'hidden_dim': 32}\n",
      "=== Training...\n",
      "#499: step=00410916, loss_p=-37.00, loss_v= 12.45, adv_m=-31.78, loss_e= -0.69, m_reward(100)= -90.4 (best= -78.6): 100%|██████████| 4000/4000 [01:32<00:00, 43.40it/s]  \n",
      "\n",
      "=== STOPPING - Max episode reached\n",
      "hyperparams: {'batch_size': 8, 'gamma': 0.99, 'beta': 0.9, 'delta': 0.006, 'learn_rate': 0.001, 'eps': 1e-08, 'hidden_dim': 64}\n",
      "=== Training...\n",
      "#499: step=00456894, loss_p=-14.33, loss_v=  7.82, adv_m=-11.95, loss_e= -0.71, m_reward(100)= -34.6 (best= -25.2): 100%|██████████| 4000/4000 [01:45<00:00, 37.99it/s] \n",
      "\n",
      "=== STOPPING - Max episode reached\n",
      "hyperparams: {'batch_size': 16, 'gamma': 0.99, 'beta': 0.9, 'delta': 0.006, 'learn_rate': 0.001, 'eps': 1e-08, 'hidden_dim': 32}\n",
      "=== Training...\n",
      "#249: step=00375657, loss_p=-59.85, loss_v= 14.26, adv_m=-42.55, loss_e= -0.84, m_reward(100)= -79.0 (best= -77.8): 100%|██████████| 4000/4000 [01:19<00:00, 50.47it/s] \n",
      "\n",
      "=== STOPPING - Max episode reached\n",
      "hyperparams: {'batch_size': 16, 'gamma': 0.99, 'beta': 0.9, 'delta': 0.006, 'learn_rate': 0.001, 'eps': 1e-08, 'hidden_dim': 64}\n",
      "=== Training...\n",
      "#249: step=00381360, loss_p=-37.23, loss_v= 10.72, adv_m=-29.07, loss_e= -0.74, m_reward(100)= -59.7 (best= -56.7): 100%|██████████| 4000/4000 [01:24<00:00, 47.57it/s] \n",
      "\n",
      "=== STOPPING - Max episode reached\n",
      "hyperparams: {'batch_size': 4, 'gamma': 0.99, 'beta': 0.9, 'delta': 0.007, 'learn_rate': 0.001, 'eps': 1e-08, 'hidden_dim': 32}\n",
      "=== Training...\n",
      "#999: step=00528537, loss_p=  3.26, loss_v=  6.60, adv_m=  3.16, loss_e= -0.69, m_reward(100)=  -9.7 (best=  -9.3): 100%|██████████| 4000/4000 [02:14<00:00, 29.70it/s] \n",
      "\n",
      "=== STOPPING - Max episode reached\n",
      "hyperparams: {'batch_size': 4, 'gamma': 0.99, 'beta': 0.9, 'delta': 0.007, 'learn_rate': 0.001, 'eps': 1e-08, 'hidden_dim': 64}\n",
      "=== Training...\n",
      "#999: step=00492771, loss_p= -8.85, loss_v=  5.47, adv_m= -4.17, loss_e= -0.64, m_reward(100)= -78.0 (best= -53.0): 100%|██████████| 4000/4000 [01:58<00:00, 33.79it/s] \n",
      "\n",
      "=== STOPPING - Max episode reached\n",
      "hyperparams: {'batch_size': 8, 'gamma': 0.99, 'beta': 0.9, 'delta': 0.007, 'learn_rate': 0.001, 'eps': 1e-08, 'hidden_dim': 32}\n",
      "=== Training...\n",
      "#499: step=00438394, loss_p=-24.35, loss_v=  7.38, adv_m=-18.11, loss_e= -0.75, m_reward(100)= -54.5 (best= -46.9): 100%|██████████| 4000/4000 [01:37<00:00, 41.18it/s]  \n",
      "\n",
      "=== STOPPING - Max episode reached\n",
      "hyperparams: {'batch_size': 8, 'gamma': 0.99, 'beta': 0.9, 'delta': 0.007, 'learn_rate': 0.001, 'eps': 1e-08, 'hidden_dim': 64}\n",
      "=== Training...\n",
      "#499: step=00415037, loss_p=-27.82, loss_v=  9.85, adv_m=-22.52, loss_e= -0.73, m_reward(100)= -58.4 (best= -51.6): 100%|██████████| 4000/4000 [01:24<00:00, 47.50it/s]  \n",
      "\n",
      "=== STOPPING - Max episode reached\n",
      "hyperparams: {'batch_size': 16, 'gamma': 0.99, 'beta': 0.9, 'delta': 0.007, 'learn_rate': 0.001, 'eps': 1e-08, 'hidden_dim': 32}\n",
      "=== Training...\n",
      "#249: step=00376121, loss_p=-75.72, loss_v= 26.38, adv_m=-55.57, loss_e= -0.83, m_reward(100)=-100.1 (best= -92.4): 100%|██████████| 4000/4000 [01:09<00:00, 57.35it/s] \n",
      "\n",
      "=== STOPPING - Max episode reached\n",
      "hyperparams: {'batch_size': 16, 'gamma': 0.99, 'beta': 0.9, 'delta': 0.007, 'learn_rate': 0.001, 'eps': 1e-08, 'hidden_dim': 64}\n",
      "=== Training...\n",
      "#249: step=00419794, loss_p=-27.00, loss_v=  9.54, adv_m=-20.84, loss_e= -0.79, m_reward(100)= -46.2 (best= -45.3): 100%|██████████| 4000/4000 [01:25<00:00, 46.88it/s] \n",
      "\n",
      "=== STOPPING - Max episode reached\n",
      "hyperparams: {'batch_size': 4, 'gamma': 0.99, 'beta': 0.9, 'delta': 0.008, 'learn_rate': 0.001, 'eps': 1e-08, 'hidden_dim': 32}\n",
      "=== Training...\n",
      "#999: step=00488256, loss_p= -2.53, loss_v=  6.56, adv_m= -2.75, loss_e= -0.67, m_reward(100)= -32.8 (best= -26.4): 100%|██████████| 4000/4000 [01:47<00:00, 37.08it/s]  \n",
      "\n",
      "=== STOPPING - Max episode reached\n",
      "hyperparams: {'batch_size': 4, 'gamma': 0.99, 'beta': 0.9, 'delta': 0.008, 'learn_rate': 0.001, 'eps': 1e-08, 'hidden_dim': 64}\n",
      "=== Training...\n",
      "#999: step=00498233, loss_p=-10.76, loss_v= 10.07, adv_m=  0.25, loss_e= -0.63, m_reward(100)= -62.1 (best= -17.1): 100%|██████████| 4000/4000 [01:54<00:00, 34.85it/s] \n",
      "\n",
      "=== STOPPING - Max episode reached\n",
      "hyperparams: {'batch_size': 8, 'gamma': 0.99, 'beta': 0.9, 'delta': 0.008, 'learn_rate': 0.001, 'eps': 1e-08, 'hidden_dim': 32}\n",
      "=== Training...\n",
      "#499: step=00474366, loss_p=-14.34, loss_v= 11.48, adv_m=-12.13, loss_e= -0.77, m_reward(100)= -32.6 (best= -28.5): 100%|██████████| 4000/4000 [01:41<00:00, 39.39it/s]  \n",
      "\n",
      "=== STOPPING - Max episode reached\n",
      "hyperparams: {'batch_size': 8, 'gamma': 0.99, 'beta': 0.9, 'delta': 0.008, 'learn_rate': 0.001, 'eps': 1e-08, 'hidden_dim': 64}\n",
      "=== Training...\n",
      "#499: step=00480670, loss_p=-15.44, loss_v=  7.51, adv_m=-11.75, loss_e= -0.73, m_reward(100)= -43.7 (best= -30.8): 100%|██████████| 4000/4000 [01:45<00:00, 37.79it/s] \n",
      "\n",
      "=== STOPPING - Max episode reached\n",
      "hyperparams: {'batch_size': 16, 'gamma': 0.99, 'beta': 0.9, 'delta': 0.008, 'learn_rate': 0.001, 'eps': 1e-08, 'hidden_dim': 32}\n",
      "=== Training...\n",
      "#249: step=00407778, loss_p=-48.62, loss_v= 32.26, adv_m=-37.15, loss_e= -0.83, m_reward(100)= -89.3 (best= -87.2): 100%|██████████| 4000/4000 [01:19<00:00, 50.24it/s]  \n",
      "\n",
      "=== STOPPING - Max episode reached\n",
      "hyperparams: {'batch_size': 16, 'gamma': 0.99, 'beta': 0.9, 'delta': 0.008, 'learn_rate': 0.001, 'eps': 1e-08, 'hidden_dim': 64}\n",
      "=== Training...\n",
      "#249: step=00397928, loss_p=-26.01, loss_v=  8.91, adv_m=-19.66, loss_e= -0.78, m_reward(100)= -47.5 (best= -47.5): 100%|██████████| 4000/4000 [01:15<00:00, 53.02it/s] \n",
      "\n",
      "=== STOPPING - Max episode reached\n",
      "hyperparams: {'batch_size': 4, 'gamma': 0.99, 'beta': 0.9, 'delta': 0.009000000000000001, 'learn_rate': 0.001, 'eps': 1e-08, 'hidden_dim': 32}\n",
      "=== Training...\n",
      "#999: step=00463579, loss_p=-24.09, loss_v= 10.01, adv_m=-16.33, loss_e= -0.68, m_reward(100)= -59.3 (best= -41.9): 100%|██████████| 4000/4000 [01:45<00:00, 38.09it/s] \n",
      "\n",
      "=== STOPPING - Max episode reached\n",
      "hyperparams: {'batch_size': 4, 'gamma': 0.99, 'beta': 0.9, 'delta': 0.009000000000000001, 'learn_rate': 0.001, 'eps': 1e-08, 'hidden_dim': 64}\n",
      "=== Training...\n",
      "#999: step=00515190, loss_p= -0.00, loss_v=857.85, adv_m=-255.23, loss_e= -0.00, m_reward(100)=-567.6 (best= -25.9): 100%|██████████| 4000/4000 [02:05<00:00, 31.93it/s] \n",
      "\n",
      "=== STOPPING - Max episode reached\n",
      "hyperparams: {'batch_size': 8, 'gamma': 0.99, 'beta': 0.9, 'delta': 0.009000000000000001, 'learn_rate': 0.001, 'eps': 1e-08, 'hidden_dim': 32}\n",
      "=== Training...\n",
      "#499: step=00417784, loss_p=-34.24, loss_v= 14.10, adv_m=-24.78, loss_e= -0.80, m_reward(100)= -73.9 (best= -69.2): 100%|██████████| 4000/4000 [01:24<00:00, 47.31it/s]  \n",
      "\n",
      "=== STOPPING - Max episode reached\n",
      "hyperparams: {'batch_size': 8, 'gamma': 0.99, 'beta': 0.9, 'delta': 0.009000000000000001, 'learn_rate': 0.001, 'eps': 1e-08, 'hidden_dim': 64}\n",
      "=== Training...\n",
      "#499: step=00448021, loss_p=  1.11, loss_v=  8.40, adv_m=  0.13, loss_e= -0.76, m_reward(100)= -43.7 (best= -44.9): 100%|██████████| 4000/4000 [01:35<00:00, 41.85it/s] \n",
      "\n",
      "=== STOPPING - Max episode reached\n",
      "hyperparams: {'batch_size': 16, 'gamma': 0.99, 'beta': 0.9, 'delta': 0.009000000000000001, 'learn_rate': 0.001, 'eps': 1e-08, 'hidden_dim': 32}\n",
      "=== Training...\n",
      "#249: step=00386725, loss_p=-56.74, loss_v= 21.37, adv_m=-40.86, loss_e= -0.84, m_reward(100)= -81.0 (best= -77.7): 100%|██████████| 4000/4000 [01:16<00:00, 52.20it/s] \n",
      "\n",
      "=== STOPPING - Max episode reached\n",
      "hyperparams: {'batch_size': 16, 'gamma': 0.99, 'beta': 0.9, 'delta': 0.009000000000000001, 'learn_rate': 0.001, 'eps': 1e-08, 'hidden_dim': 64}\n",
      "=== Training...\n",
      "#249: step=00384716, loss_p=-43.07, loss_v= 18.06, adv_m=-34.07, loss_e= -0.75, m_reward(100)= -56.7 (best= -56.6): 100%|██████████| 4000/4000 [01:24<00:00, 47.56it/s] \n",
      "\n",
      "=== STOPPING - Max episode reached\n",
      "hyperparams: {'batch_size': 4, 'gamma': 0.99, 'beta': 0.9, 'delta': 0.01, 'learn_rate': 0.001, 'eps': 1e-08, 'hidden_dim': 32}\n",
      "=== Training...\n",
      "#999: step=00506861, loss_p= -8.57, loss_v= 10.09, adv_m= -5.45, loss_e= -0.76, m_reward(100)= -22.2 (best= -15.7): 100%|██████████| 4000/4000 [01:56<00:00, 34.21it/s]  \n",
      "\n",
      "=== STOPPING - Max episode reached\n",
      "hyperparams: {'batch_size': 4, 'gamma': 0.99, 'beta': 0.9, 'delta': 0.01, 'learn_rate': 0.001, 'eps': 1e-08, 'hidden_dim': 64}\n",
      "=== Training...\n",
      "#999: step=00551360, loss_p=-12.35, loss_v=  9.40, adv_m= -5.33, loss_e= -0.73, m_reward(100)= -21.3 (best=  -5.1): 100%|██████████| 4000/4000 [02:16<00:00, 29.39it/s] \n",
      "\n",
      "=== STOPPING - Max episode reached\n",
      "hyperparams: {'batch_size': 8, 'gamma': 0.99, 'beta': 0.9, 'delta': 0.01, 'learn_rate': 0.001, 'eps': 1e-08, 'hidden_dim': 32}\n",
      "=== Training...\n",
      "#499: step=00387149, loss_p=-28.10, loss_v= 13.70, adv_m=-19.23, loss_e= -0.73, m_reward(100)= -79.9 (best= -63.4): 100%|██████████| 4000/4000 [01:22<00:00, 48.58it/s] \n",
      "\n",
      "=== STOPPING - Max episode reached\n",
      "hyperparams: {'batch_size': 8, 'gamma': 0.99, 'beta': 0.9, 'delta': 0.01, 'learn_rate': 0.001, 'eps': 1e-08, 'hidden_dim': 64}\n",
      "=== Training...\n",
      "#499: step=00535758, loss_p= -5.21, loss_v= 11.87, adv_m= -5.34, loss_e= -0.76, m_reward(100)= -10.8 (best=  -5.0): 100%|██████████| 4000/4000 [02:01<00:00, 33.02it/s]  \n",
      "\n",
      "=== STOPPING - Max episode reached\n",
      "hyperparams: {'batch_size': 16, 'gamma': 0.99, 'beta': 0.9, 'delta': 0.01, 'learn_rate': 0.001, 'eps': 1e-08, 'hidden_dim': 32}\n",
      "=== Training...\n",
      "#249: step=00371154, loss_p=-62.20, loss_v= 24.35, adv_m=-44.03, loss_e= -0.83, m_reward(100)= -75.7 (best= -72.8): 100%|██████████| 4000/4000 [01:10<00:00, 56.97it/s] \n",
      "\n",
      "=== STOPPING - Max episode reached\n",
      "hyperparams: {'batch_size': 16, 'gamma': 0.99, 'beta': 0.9, 'delta': 0.01, 'learn_rate': 0.001, 'eps': 1e-08, 'hidden_dim': 64}\n",
      "=== Training...\n",
      "#249: step=00443236, loss_p=-31.20, loss_v= 14.74, adv_m=-24.11, loss_e= -0.75, m_reward(100)= -48.5 (best= -39.5): 100%|██████████| 4000/4000 [01:32<00:00, 43.07it/s]\n",
      "\n",
      "=== STOPPING - Max episode reached\n",
      "hyperparams: {'batch_size': 4, 'gamma': 0.99, 'beta': 0.9, 'delta': 0.001, 'learn_rate': 0.0012222222222222222, 'eps': 1e-08, 'hidden_dim': 32}\n",
      "=== Training...\n",
      "#999: step=00411240, loss_p= -0.00, loss_v= 81.26, adv_m=-246.34, loss_e= -0.00, m_reward(100)=-546.3 (best= -74.5): 100%|██████████| 4000/4000 [01:25<00:00, 46.78it/s] \n",
      "\n",
      "=== STOPPING - Max episode reached\n",
      "hyperparams: {'batch_size': 4, 'gamma': 0.99, 'beta': 0.9, 'delta': 0.001, 'learn_rate': 0.0012222222222222222, 'eps': 1e-08, 'hidden_dim': 64}\n",
      "=== Training...\n",
      "#999: step=00304498, loss_p= -0.00, loss_v= 36.67, adv_m=-79.13, loss_e= -0.00, m_reward(100)=-579.8 (best= -93.3): 100%|██████████| 4000/4000 [00:57<00:00, 69.34it/s]  \n",
      "\n",
      "=== STOPPING - Max episode reached\n",
      "hyperparams: {'batch_size': 8, 'gamma': 0.99, 'beta': 0.9, 'delta': 0.001, 'learn_rate': 0.0012222222222222222, 'eps': 1e-08, 'hidden_dim': 32}\n",
      "=== Training...\n",
      "#499: step=00464799, loss_p=-29.28, loss_v=  1.54, adv_m=-20.26, loss_e= -0.69, m_reward(100)= -41.0 (best= -35.6): 100%|██████████| 4000/4000 [01:41<00:00, 39.58it/s] \n",
      "\n",
      "=== STOPPING - Max episode reached\n",
      "hyperparams: {'batch_size': 8, 'gamma': 0.99, 'beta': 0.9, 'delta': 0.001, 'learn_rate': 0.0012222222222222222, 'eps': 1e-08, 'hidden_dim': 64}\n",
      "=== Training...\n",
      "#499: step=00464284, loss_p=-18.88, loss_v=  1.03, adv_m=-12.79, loss_e= -0.69, m_reward(100)= -29.8 (best= -23.9): 100%|██████████| 4000/4000 [01:38<00:00, 40.66it/s] \n",
      "\n",
      "=== STOPPING - Max episode reached\n",
      "hyperparams: {'batch_size': 16, 'gamma': 0.99, 'beta': 0.9, 'delta': 0.001, 'learn_rate': 0.0012222222222222222, 'eps': 1e-08, 'hidden_dim': 32}\n",
      "=== Training...\n",
      "#249: step=00359770, loss_p=-92.79, loss_v=  4.77, adv_m=-67.68, loss_e= -0.82, m_reward(100)=-115.3 (best=-103.5): 100%|██████████| 4000/4000 [01:07<00:00, 59.51it/s] \n",
      "\n",
      "=== STOPPING - Max episode reached\n",
      "hyperparams: {'batch_size': 16, 'gamma': 0.99, 'beta': 0.9, 'delta': 0.001, 'learn_rate': 0.0012222222222222222, 'eps': 1e-08, 'hidden_dim': 64}\n",
      "=== Training...\n",
      "#249: step=00482643, loss_p= -7.98, loss_v=  1.43, adv_m= -6.62, loss_e= -0.76, m_reward(100)= -24.2 (best= -11.7): 100%|██████████| 4000/4000 [01:41<00:00, 39.58it/s] \n",
      "\n",
      "=== STOPPING - Max episode reached\n",
      "hyperparams: {'batch_size': 4, 'gamma': 0.99, 'beta': 0.9, 'delta': 0.002, 'learn_rate': 0.0012222222222222222, 'eps': 1e-08, 'hidden_dim': 32}\n",
      "=== Training...\n",
      "#999: step=00557009, loss_p= 17.49, loss_v=  2.26, adv_m= 14.10, loss_e= -0.61, m_reward(100)= -38.1 (best= -26.3): 100%|██████████| 4000/4000 [02:10<00:00, 30.54it/s] \n",
      "\n",
      "=== STOPPING - Max episode reached\n",
      "hyperparams: {'batch_size': 4, 'gamma': 0.99, 'beta': 0.9, 'delta': 0.002, 'learn_rate': 0.0012222222222222222, 'eps': 1e-08, 'hidden_dim': 64}\n",
      "=== Training...\n",
      "#999: step=00477655, loss_p= -0.00, loss_v=184.43, adv_m=-231.48, loss_e= -0.00, m_reward(100)=-584.1 (best= -10.0): 100%|██████████| 4000/4000 [01:55<00:00, 34.70it/s] \n",
      "\n",
      "=== STOPPING - Max episode reached\n",
      "hyperparams: {'batch_size': 8, 'gamma': 0.99, 'beta': 0.9, 'delta': 0.002, 'learn_rate': 0.0012222222222222222, 'eps': 1e-08, 'hidden_dim': 32}\n",
      "=== Training...\n",
      "#499: step=00492809, loss_p=-13.06, loss_v=  2.57, adv_m=-11.48, loss_e= -0.73, m_reward(100)= -15.2 (best=  -3.9): 100%|██████████| 4000/4000 [01:55<00:00, 34.54it/s]  \n",
      "\n",
      "=== STOPPING - Max episode reached\n",
      "hyperparams: {'batch_size': 8, 'gamma': 0.99, 'beta': 0.9, 'delta': 0.002, 'learn_rate': 0.0012222222222222222, 'eps': 1e-08, 'hidden_dim': 64}\n",
      "=== Training...\n",
      "#499: step=00439997, loss_p=-118.44, loss_v=119.56, adv_m=-213.51, loss_e= -0.16, m_reward(100)=-425.4 (best= -46.3): 100%|██████████| 4000/4000 [01:38<00:00, 40.62it/s]\n",
      "\n",
      "=== STOPPING - Max episode reached\n",
      "hyperparams: {'batch_size': 16, 'gamma': 0.99, 'beta': 0.9, 'delta': 0.002, 'learn_rate': 0.0012222222222222222, 'eps': 1e-08, 'hidden_dim': 32}\n",
      "=== Training...\n",
      "#249: step=00373322, loss_p=-48.46, loss_v=  4.39, adv_m=-37.97, loss_e= -0.79, m_reward(100)= -73.1 (best= -71.0): 100%|██████████| 4000/4000 [01:16<00:00, 52.48it/s] \n",
      "\n",
      "=== STOPPING - Max episode reached\n",
      "hyperparams: {'batch_size': 16, 'gamma': 0.99, 'beta': 0.9, 'delta': 0.002, 'learn_rate': 0.0012222222222222222, 'eps': 1e-08, 'hidden_dim': 64}\n",
      "=== Training...\n",
      "#249: step=00392803, loss_p=-47.02, loss_v=  3.77, adv_m=-34.92, loss_e= -0.80, m_reward(100)= -65.4 (best= -67.4): 100%|██████████| 4000/4000 [01:19<00:00, 50.13it/s] \n",
      "\n",
      "=== STOPPING - Max episode reached\n",
      "hyperparams: {'batch_size': 4, 'gamma': 0.99, 'beta': 0.9, 'delta': 0.003, 'learn_rate': 0.0012222222222222222, 'eps': 1e-08, 'hidden_dim': 32}\n",
      "=== Training...\n",
      "#999: step=00311713, loss_p=  0.00, loss_v=171.19, adv_m=-143.18, loss_e= -0.00, m_reward(100)=-586.3 (best= -99.9): 100%|██████████| 4000/4000 [01:04<00:00, 62.15it/s] \n",
      "\n",
      "=== STOPPING - Max episode reached\n",
      "hyperparams: {'batch_size': 4, 'gamma': 0.99, 'beta': 0.9, 'delta': 0.003, 'learn_rate': 0.0012222222222222222, 'eps': 1e-08, 'hidden_dim': 64}\n",
      "=== Training...\n",
      "#999: step=00505502, loss_p=-33.38, loss_v=  3.01, adv_m=-11.00, loss_e= -0.66, m_reward(100)= -27.5 (best= -14.0): 100%|██████████| 4000/4000 [02:02<00:00, 32.62it/s] \n",
      "\n",
      "=== STOPPING - Max episode reached\n",
      "hyperparams: {'batch_size': 8, 'gamma': 0.99, 'beta': 0.9, 'delta': 0.003, 'learn_rate': 0.0012222222222222222, 'eps': 1e-08, 'hidden_dim': 32}\n",
      "=== Training...\n",
      "#499: step=00415825, loss_p= 13.33, loss_v=  3.47, adv_m=  9.86, loss_e= -0.68, m_reward(100)= -18.2 (best= -21.0): 100%|██████████| 4000/4000 [01:32<00:00, 43.09it/s]  \n",
      "\n",
      "=== STOPPING - Max episode reached\n",
      "hyperparams: {'batch_size': 8, 'gamma': 0.99, 'beta': 0.9, 'delta': 0.003, 'learn_rate': 0.0012222222222222222, 'eps': 1e-08, 'hidden_dim': 64}\n",
      "=== Training...\n",
      "#499: step=00433661, loss_p=-48.32, loss_v=  6.06, adv_m=-34.72, loss_e= -0.66, m_reward(100)= -74.1 (best= -42.1): 100%|██████████| 4000/4000 [01:35<00:00, 41.77it/s] \n",
      "\n",
      "=== STOPPING - Max episode reached\n",
      "hyperparams: {'batch_size': 16, 'gamma': 0.99, 'beta': 0.9, 'delta': 0.003, 'learn_rate': 0.0012222222222222222, 'eps': 1e-08, 'hidden_dim': 32}\n",
      "=== Training...\n",
      "#249: step=00400936, loss_p=-75.08, loss_v= 18.53, adv_m=-60.41, loss_e= -0.79, m_reward(100)=-113.2 (best=-104.5): 100%|██████████| 4000/4000 [01:20<00:00, 49.75it/s]  \n",
      "\n",
      "=== STOPPING - Max episode reached\n",
      "hyperparams: {'batch_size': 16, 'gamma': 0.99, 'beta': 0.9, 'delta': 0.003, 'learn_rate': 0.0012222222222222222, 'eps': 1e-08, 'hidden_dim': 64}\n",
      "=== Training...\n",
      "#249: step=00398543, loss_p=-40.01, loss_v=  5.33, adv_m=-30.41, loss_e= -0.78, m_reward(100)= -68.9 (best= -68.4): 100%|██████████| 4000/4000 [01:21<00:00, 49.28it/s] \n",
      "\n",
      "=== STOPPING - Max episode reached\n",
      "hyperparams: {'batch_size': 4, 'gamma': 0.99, 'beta': 0.9, 'delta': 0.004, 'learn_rate': 0.0012222222222222222, 'eps': 1e-08, 'hidden_dim': 32}\n",
      "=== Training...\n",
      "#999: step=00432500, loss_p=  4.54, loss_v=311.50, adv_m=-220.79, loss_e= -0.00, m_reward(100)=-585.9 (best= -50.4): 100%|██████████| 4000/4000 [01:40<00:00, 39.82it/s] \n",
      "\n",
      "=== STOPPING - Max episode reached\n",
      "hyperparams: {'batch_size': 4, 'gamma': 0.99, 'beta': 0.9, 'delta': 0.004, 'learn_rate': 0.0012222222222222222, 'eps': 1e-08, 'hidden_dim': 64}\n",
      "=== Training...\n",
      "#999: step=00482930, loss_p= -0.00, loss_v=349.90, adv_m=-201.10, loss_e= -0.00, m_reward(100)=-597.9 (best= -34.9): 100%|██████████| 4000/4000 [01:57<00:00, 33.99it/s] \n",
      "\n",
      "=== STOPPING - Max episode reached\n",
      "hyperparams: {'batch_size': 8, 'gamma': 0.99, 'beta': 0.9, 'delta': 0.004, 'learn_rate': 0.0012222222222222222, 'eps': 1e-08, 'hidden_dim': 32}\n",
      "=== Training...\n",
      "#499: step=00432198, loss_p=-34.40, loss_v=  5.78, adv_m=-26.76, loss_e= -0.70, m_reward(100)= -59.2 (best= -54.8): 100%|██████████| 4000/4000 [01:39<00:00, 40.34it/s] \n",
      "\n",
      "=== STOPPING - Max episode reached\n",
      "hyperparams: {'batch_size': 8, 'gamma': 0.99, 'beta': 0.9, 'delta': 0.004, 'learn_rate': 0.0012222222222222222, 'eps': 1e-08, 'hidden_dim': 64}\n",
      "=== Training...\n",
      "#499: step=00408136, loss_p=-56.72, loss_v= 21.48, adv_m=-40.41, loss_e= -0.60, m_reward(100)=-101.5 (best= -31.7): 100%|██████████| 4000/4000 [01:32<00:00, 43.38it/s]\n",
      "\n",
      "=== STOPPING - Max episode reached\n",
      "hyperparams: {'batch_size': 16, 'gamma': 0.99, 'beta': 0.9, 'delta': 0.004, 'learn_rate': 0.0012222222222222222, 'eps': 1e-08, 'hidden_dim': 32}\n",
      "=== Training...\n",
      "#249: step=00382101, loss_p=-46.35, loss_v=  7.06, adv_m=-34.37, loss_e= -0.79, m_reward(100)= -52.9 (best= -55.1): 100%|██████████| 4000/4000 [01:17<00:00, 51.47it/s] \n",
      "\n",
      "=== STOPPING - Max episode reached\n",
      "hyperparams: {'batch_size': 16, 'gamma': 0.99, 'beta': 0.9, 'delta': 0.004, 'learn_rate': 0.0012222222222222222, 'eps': 1e-08, 'hidden_dim': 64}\n",
      "=== Training...\n",
      "#249: step=00347646, loss_p=-86.99, loss_v= 18.66, adv_m=-65.95, loss_e= -0.69, m_reward(100)=-120.3 (best= -92.4): 100%|██████████| 4000/4000 [01:04<00:00, 61.62it/s] \n",
      "\n",
      "=== STOPPING - Max episode reached\n",
      "hyperparams: {'batch_size': 4, 'gamma': 0.99, 'beta': 0.9, 'delta': 0.005, 'learn_rate': 0.0012222222222222222, 'eps': 1e-08, 'hidden_dim': 32}\n",
      "=== Training...\n",
      "#999: step=00455157, loss_p= -2.86, loss_v=253.05, adv_m=-201.03, loss_e= -0.00, m_reward(100)=-567.4 (best= -20.2): 100%|██████████| 4000/4000 [01:44<00:00, 38.36it/s] \n",
      "\n",
      "=== STOPPING - Max episode reached\n",
      "hyperparams: {'batch_size': 4, 'gamma': 0.99, 'beta': 0.9, 'delta': 0.005, 'learn_rate': 0.0012222222222222222, 'eps': 1e-08, 'hidden_dim': 64}\n",
      "=== Training...\n",
      "#999: step=00474348, loss_p= -0.00, loss_v=210.15, adv_m=-118.06, loss_e= -0.00, m_reward(100)=-601.9 (best= -34.3): 100%|██████████| 4000/4000 [01:54<00:00, 34.79it/s] \n",
      "\n",
      "=== STOPPING - Max episode reached\n",
      "hyperparams: {'batch_size': 8, 'gamma': 0.99, 'beta': 0.9, 'delta': 0.005, 'learn_rate': 0.0012222222222222222, 'eps': 1e-08, 'hidden_dim': 32}\n",
      "=== Training...\n",
      "#499: step=00394772, loss_p=-21.79, loss_v=  5.76, adv_m=-16.74, loss_e= -0.69, m_reward(100)= -31.2 (best= -29.4): 100%|██████████| 4000/4000 [01:25<00:00, 46.84it/s]  \n",
      "\n",
      "=== STOPPING - Max episode reached\n",
      "hyperparams: {'batch_size': 8, 'gamma': 0.99, 'beta': 0.9, 'delta': 0.005, 'learn_rate': 0.0012222222222222222, 'eps': 1e-08, 'hidden_dim': 64}\n",
      "=== Training...\n",
      "#499: step=00460597, loss_p=-55.07, loss_v= 10.92, adv_m=-30.70, loss_e= -0.61, m_reward(100)= -80.0 (best= -40.2): 100%|██████████| 4000/4000 [01:46<00:00, 37.73it/s] \n",
      "\n",
      "=== STOPPING - Max episode reached\n",
      "hyperparams: {'batch_size': 16, 'gamma': 0.99, 'beta': 0.9, 'delta': 0.005, 'learn_rate': 0.0012222222222222222, 'eps': 1e-08, 'hidden_dim': 32}\n",
      "=== Training...\n",
      "#249: step=00362629, loss_p=-70.98, loss_v= 14.96, adv_m=-50.05, loss_e= -0.85, m_reward(100)= -89.4 (best= -84.9): 100%|██████████| 4000/4000 [01:11<00:00, 55.89it/s] \n",
      "\n",
      "=== STOPPING - Max episode reached\n",
      "hyperparams: {'batch_size': 16, 'gamma': 0.99, 'beta': 0.9, 'delta': 0.005, 'learn_rate': 0.0012222222222222222, 'eps': 1e-08, 'hidden_dim': 64}\n",
      "=== Training...\n",
      "#249: step=00359085, loss_p=-136.43, loss_v= 74.34, adv_m=-114.56, loss_e= -0.60, m_reward(100)=-193.0 (best= -90.4): 100%|██████████| 4000/4000 [01:17<00:00, 51.76it/s]\n",
      "\n",
      "=== STOPPING - Max episode reached\n",
      "hyperparams: {'batch_size': 4, 'gamma': 0.99, 'beta': 0.9, 'delta': 0.006, 'learn_rate': 0.0012222222222222222, 'eps': 1e-08, 'hidden_dim': 32}\n",
      "=== Training...\n",
      "#999: step=00645912, loss_p= 20.26, loss_v= 10.61, adv_m= 14.76, loss_e= -0.69, m_reward(100)=  21.6 (best=  31.0): 100%|██████████| 4000/4000 [02:56<00:00, 22.67it/s]  \n",
      "\n",
      "=== STOPPING - Max episode reached\n",
      "hyperparams: {'batch_size': 4, 'gamma': 0.99, 'beta': 0.9, 'delta': 0.006, 'learn_rate': 0.0012222222222222222, 'eps': 1e-08, 'hidden_dim': 64}\n",
      "=== Training...\n",
      "#999: step=00434204, loss_p= -0.00, loss_v=153.37, adv_m=-68.52, loss_e= -0.00, m_reward(100)=-582.3 (best= -29.6): 100%|██████████| 4000/4000 [01:37<00:00, 41.18it/s]  \n",
      "\n",
      "=== STOPPING - Max episode reached\n",
      "hyperparams: {'batch_size': 8, 'gamma': 0.99, 'beta': 0.9, 'delta': 0.006, 'learn_rate': 0.0012222222222222222, 'eps': 1e-08, 'hidden_dim': 32}\n",
      "=== Training...\n",
      "#499: step=00544345, loss_p=  3.39, loss_v=  7.32, adv_m= -0.03, loss_e= -0.70, m_reward(100)= -11.1 (best= -12.4): 100%|██████████| 4000/4000 [02:05<00:00, 31.78it/s]  \n",
      "\n",
      "=== STOPPING - Max episode reached\n",
      "hyperparams: {'batch_size': 8, 'gamma': 0.99, 'beta': 0.9, 'delta': 0.006, 'learn_rate': 0.0012222222222222222, 'eps': 1e-08, 'hidden_dim': 64}\n",
      "=== Training...\n",
      "#499: step=00339557, loss_p= -0.00, loss_v=334.85, adv_m=-203.92, loss_e= -0.00, m_reward(100)=-577.4 (best= -63.2): 100%|██████████| 4000/4000 [01:10<00:00, 56.98it/s] \n",
      "\n",
      "=== STOPPING - Max episode reached\n",
      "hyperparams: {'batch_size': 16, 'gamma': 0.99, 'beta': 0.9, 'delta': 0.006, 'learn_rate': 0.0012222222222222222, 'eps': 1e-08, 'hidden_dim': 32}\n",
      "=== Training...\n",
      "#249: step=00382964, loss_p=-39.72, loss_v=  9.50, adv_m=-29.20, loss_e= -0.81, m_reward(100)= -66.8 (best= -59.9): 100%|██████████| 4000/4000 [01:19<00:00, 50.39it/s] \n",
      "\n",
      "=== STOPPING - Max episode reached\n",
      "hyperparams: {'batch_size': 16, 'gamma': 0.99, 'beta': 0.9, 'delta': 0.006, 'learn_rate': 0.0012222222222222222, 'eps': 1e-08, 'hidden_dim': 64}\n",
      "=== Training...\n",
      "#249: step=00405932, loss_p=-18.17, loss_v=  8.29, adv_m=-15.13, loss_e= -0.71, m_reward(100)= -31.7 (best= -31.6): 100%|██████████| 4000/4000 [01:21<00:00, 48.79it/s]\n",
      "\n",
      "=== STOPPING - Max episode reached\n",
      "hyperparams: {'batch_size': 4, 'gamma': 0.99, 'beta': 0.9, 'delta': 0.007, 'learn_rate': 0.0012222222222222222, 'eps': 1e-08, 'hidden_dim': 32}\n",
      "=== Training...\n",
      "#999: step=00481270, loss_p= -0.00, loss_v=564.35, adv_m=-221.68, loss_e= -0.00, m_reward(100)=-607.4 (best= -30.0): 100%|██████████| 4000/4000 [01:53<00:00, 35.32it/s] \n",
      "\n",
      "=== STOPPING - Max episode reached\n",
      "hyperparams: {'batch_size': 4, 'gamma': 0.99, 'beta': 0.9, 'delta': 0.007, 'learn_rate': 0.0012222222222222222, 'eps': 1e-08, 'hidden_dim': 64}\n",
      "=== Training...\n",
      "#999: step=00488929, loss_p=-15.75, loss_v=  5.61, adv_m= -7.34, loss_e= -0.72, m_reward(100)= -58.4 (best= -21.0): 100%|██████████| 4000/4000 [01:47<00:00, 37.15it/s]  \n",
      "\n",
      "=== STOPPING - Max episode reached\n",
      "hyperparams: {'batch_size': 8, 'gamma': 0.99, 'beta': 0.9, 'delta': 0.007, 'learn_rate': 0.0012222222222222222, 'eps': 1e-08, 'hidden_dim': 32}\n",
      "=== Training...\n",
      "#499: step=00491528, loss_p= -7.81, loss_v=  8.90, adv_m= -4.51, loss_e= -0.71, m_reward(100)= -27.3 (best= -20.1): 100%|██████████| 4000/4000 [01:54<00:00, 34.96it/s]  \n",
      "\n",
      "=== STOPPING - Max episode reached\n",
      "hyperparams: {'batch_size': 8, 'gamma': 0.99, 'beta': 0.9, 'delta': 0.007, 'learn_rate': 0.0012222222222222222, 'eps': 1e-08, 'hidden_dim': 64}\n",
      "=== Training...\n",
      "#499: step=00525139, loss_p=-43.79, loss_v= 11.69, adv_m=-29.05, loss_e= -0.70, m_reward(100)= -53.8 (best= -22.4): 100%|██████████| 4000/4000 [02:00<00:00, 33.08it/s] \n",
      "\n",
      "=== STOPPING - Max episode reached\n",
      "hyperparams: {'batch_size': 16, 'gamma': 0.99, 'beta': 0.9, 'delta': 0.007, 'learn_rate': 0.0012222222222222222, 'eps': 1e-08, 'hidden_dim': 32}\n",
      "=== Training...\n",
      "#249: step=00346027, loss_p=-68.80, loss_v= 30.22, adv_m=-63.69, loss_e= -0.67, m_reward(100)=-120.1 (best=-107.8): 100%|██████████| 4000/4000 [01:03<00:00, 62.65it/s]  \n",
      "\n",
      "=== STOPPING - Max episode reached\n",
      "hyperparams: {'batch_size': 16, 'gamma': 0.99, 'beta': 0.9, 'delta': 0.007, 'learn_rate': 0.0012222222222222222, 'eps': 1e-08, 'hidden_dim': 64}\n",
      "=== Training...\n",
      "#249: step=00379548, loss_p=-115.42, loss_v= 81.10, adv_m=-95.81, loss_e= -0.65, m_reward(100)=-145.1 (best= -72.2): 100%|██████████| 4000/4000 [01:21<00:00, 48.82it/s] \n",
      "\n",
      "=== STOPPING - Max episode reached\n",
      "hyperparams: {'batch_size': 4, 'gamma': 0.99, 'beta': 0.9, 'delta': 0.008, 'learn_rate': 0.0012222222222222222, 'eps': 1e-08, 'hidden_dim': 32}\n",
      "=== Training...\n",
      "#999: step=00561964, loss_p= -6.27, loss_v=  8.11, adv_m= -3.81, loss_e= -0.68, m_reward(100)= -40.5 (best= -17.0): 100%|██████████| 4000/4000 [02:21<00:00, 28.21it/s]  \n",
      "\n",
      "=== STOPPING - Max episode reached\n",
      "hyperparams: {'batch_size': 4, 'gamma': 0.99, 'beta': 0.9, 'delta': 0.008, 'learn_rate': 0.0012222222222222222, 'eps': 1e-08, 'hidden_dim': 64}\n",
      "=== Training...\n",
      "#999: step=00405193, loss_p=  0.00, loss_v= 98.09, adv_m=-25.88, loss_e= -0.00, m_reward(100)=-580.6 (best= -17.6): 100%|██████████| 4000/4000 [01:33<00:00, 42.99it/s]  \n",
      "\n",
      "=== STOPPING - Max episode reached\n",
      "hyperparams: {'batch_size': 8, 'gamma': 0.99, 'beta': 0.9, 'delta': 0.008, 'learn_rate': 0.0012222222222222222, 'eps': 1e-08, 'hidden_dim': 32}\n",
      "=== Training...\n",
      "#499: step=00382209, loss_p=-90.69, loss_v= 32.76, adv_m=-61.23, loss_e= -0.52, m_reward(100)=-142.0 (best= -78.3): 100%|██████████| 4000/4000 [01:20<00:00, 49.73it/s]  \n",
      "\n",
      "=== STOPPING - Max episode reached\n",
      "hyperparams: {'batch_size': 8, 'gamma': 0.99, 'beta': 0.9, 'delta': 0.008, 'learn_rate': 0.0012222222222222222, 'eps': 1e-08, 'hidden_dim': 64}\n",
      "=== Training...\n",
      "#499: step=00403232, loss_p=  0.00, loss_v=495.96, adv_m=-197.31, loss_e= -0.00, m_reward(100)=-584.5 (best= -64.3): 100%|██████████| 4000/4000 [01:23<00:00, 47.73it/s] \n",
      "\n",
      "=== STOPPING - Max episode reached\n",
      "hyperparams: {'batch_size': 16, 'gamma': 0.99, 'beta': 0.9, 'delta': 0.008, 'learn_rate': 0.0012222222222222222, 'eps': 1e-08, 'hidden_dim': 32}\n",
      "=== Training...\n",
      "#249: step=00399786, loss_p=-50.56, loss_v= 23.68, adv_m=-40.61, loss_e= -0.79, m_reward(100)= -77.9 (best= -73.7): 100%|██████████| 4000/4000 [01:27<00:00, 45.50it/s] \n",
      "\n",
      "=== STOPPING - Max episode reached\n",
      "hyperparams: {'batch_size': 16, 'gamma': 0.99, 'beta': 0.9, 'delta': 0.008, 'learn_rate': 0.0012222222222222222, 'eps': 1e-08, 'hidden_dim': 64}\n",
      "=== Training...\n",
      "#249: step=00447769, loss_p=-16.80, loss_v= 10.64, adv_m=-14.22, loss_e= -0.71, m_reward(100)= -28.9 (best= -24.4): 100%|██████████| 4000/4000 [01:37<00:00, 41.09it/s] \n",
      "\n",
      "=== STOPPING - Max episode reached\n",
      "hyperparams: {'batch_size': 4, 'gamma': 0.99, 'beta': 0.9, 'delta': 0.009000000000000001, 'learn_rate': 0.0012222222222222222, 'eps': 1e-08, 'hidden_dim': 32}\n",
      "=== Training...\n",
      "#999: step=00556106, loss_p=-27.65, loss_v= 12.40, adv_m=-22.02, loss_e= -0.66, m_reward(100)= -40.8 (best=  -4.7): 100%|██████████| 4000/4000 [02:21<00:00, 28.19it/s]  \n",
      "\n",
      "=== STOPPING - Max episode reached\n",
      "hyperparams: {'batch_size': 4, 'gamma': 0.99, 'beta': 0.9, 'delta': 0.009000000000000001, 'learn_rate': 0.0012222222222222222, 'eps': 1e-08, 'hidden_dim': 64}\n",
      "=== Training...\n",
      "#999: step=00490604, loss_p= -0.00, loss_v=620.22, adv_m=-184.46, loss_e= -0.00, m_reward(100)=-605.3 (best= -23.4): 100%|██████████| 4000/4000 [01:54<00:00, 34.83it/s] \n",
      "\n",
      "=== STOPPING - Max episode reached\n",
      "hyperparams: {'batch_size': 8, 'gamma': 0.99, 'beta': 0.9, 'delta': 0.009000000000000001, 'learn_rate': 0.0012222222222222222, 'eps': 1e-08, 'hidden_dim': 32}\n",
      "=== Training...\n",
      "#499: step=00451701, loss_p=-17.66, loss_v= 10.25, adv_m=-12.85, loss_e= -0.73, m_reward(100)= -29.9 (best= -30.5): 100%|██████████| 4000/4000 [01:34<00:00, 42.32it/s] \n",
      "\n",
      "=== STOPPING - Max episode reached\n",
      "hyperparams: {'batch_size': 8, 'gamma': 0.99, 'beta': 0.9, 'delta': 0.009000000000000001, 'learn_rate': 0.0012222222222222222, 'eps': 1e-08, 'hidden_dim': 64}\n",
      "=== Training...\n",
      "#499: step=00552698, loss_p=-15.81, loss_v=  7.12, adv_m=-11.10, loss_e= -0.70, m_reward(100)= -38.8 (best= -14.7): 100%|██████████| 4000/4000 [02:19<00:00, 28.70it/s]\n",
      "\n",
      "=== STOPPING - Max episode reached\n",
      "hyperparams: {'batch_size': 16, 'gamma': 0.99, 'beta': 0.9, 'delta': 0.009000000000000001, 'learn_rate': 0.0012222222222222222, 'eps': 1e-08, 'hidden_dim': 32}\n",
      "=== Training...\n",
      "#249: step=00441342, loss_p=-33.78, loss_v= 18.43, adv_m=-26.34, loss_e= -0.78, m_reward(100)= -60.1 (best= -52.8): 100%|██████████| 4000/4000 [01:35<00:00, 41.76it/s] \n",
      "\n",
      "=== STOPPING - Max episode reached\n",
      "hyperparams: {'batch_size': 16, 'gamma': 0.99, 'beta': 0.9, 'delta': 0.009000000000000001, 'learn_rate': 0.0012222222222222222, 'eps': 1e-08, 'hidden_dim': 64}\n",
      "=== Training...\n",
      "#249: step=00468338, loss_p= -8.00, loss_v= 12.79, adv_m= -6.62, loss_e= -0.63, m_reward(100)= -35.6 (best= -38.0): 100%|██████████| 4000/4000 [01:51<00:00, 35.79it/s]\n",
      "\n",
      "=== STOPPING - Max episode reached\n",
      "hyperparams: {'batch_size': 4, 'gamma': 0.99, 'beta': 0.9, 'delta': 0.01, 'learn_rate': 0.0012222222222222222, 'eps': 1e-08, 'hidden_dim': 32}\n",
      "=== Training...\n",
      "#999: step=00505688, loss_p=-53.40, loss_v= 24.18, adv_m=-37.21, loss_e= -0.67, m_reward(100)= -76.8 (best= -32.0): 100%|██████████| 4000/4000 [02:05<00:00, 31.97it/s] \n",
      "\n",
      "=== STOPPING - Max episode reached\n",
      "hyperparams: {'batch_size': 4, 'gamma': 0.99, 'beta': 0.9, 'delta': 0.01, 'learn_rate': 0.0012222222222222222, 'eps': 1e-08, 'hidden_dim': 64}\n",
      "=== Training...\n",
      "#999: step=00292821, loss_p= -0.00, loss_v=  7.96, adv_m=-23.39, loss_e= -0.00, m_reward(100)=-134.1 (best=-115.2): 100%|██████████| 4000/4000 [00:45<00:00, 87.86it/s] \n",
      "\n",
      "=== STOPPING - Max episode reached\n",
      "hyperparams: {'batch_size': 8, 'gamma': 0.99, 'beta': 0.9, 'delta': 0.01, 'learn_rate': 0.0012222222222222222, 'eps': 1e-08, 'hidden_dim': 32}\n",
      "=== Training...\n",
      "#499: step=00532433, loss_p= -6.74, loss_v=  9.50, adv_m= -5.29, loss_e= -0.73, m_reward(100)=  -0.0 (best=   9.8): 100%|██████████| 4000/4000 [02:07<00:00, 31.33it/s] \n",
      "\n",
      "=== STOPPING - Max episode reached\n",
      "hyperparams: {'batch_size': 8, 'gamma': 0.99, 'beta': 0.9, 'delta': 0.01, 'learn_rate': 0.0012222222222222222, 'eps': 1e-08, 'hidden_dim': 64}\n",
      "=== Training...\n",
      "#499: step=00453891, loss_p= -0.10, loss_v=  9.94, adv_m=  1.59, loss_e= -0.70, m_reward(100)= -27.1 (best= -21.5): 100%|██████████| 4000/4000 [01:46<00:00, 37.50it/s] \n",
      "\n",
      "=== STOPPING - Max episode reached\n",
      "hyperparams: {'batch_size': 16, 'gamma': 0.99, 'beta': 0.9, 'delta': 0.01, 'learn_rate': 0.0012222222222222222, 'eps': 1e-08, 'hidden_dim': 32}\n",
      "=== Training...\n",
      "#249: step=00445218, loss_p=-22.48, loss_v= 12.23, adv_m=-17.07, loss_e= -0.78, m_reward(100)= -58.2 (best= -58.1): 100%|██████████| 4000/4000 [01:40<00:00, 39.77it/s] \n",
      "\n",
      "=== STOPPING - Max episode reached\n",
      "hyperparams: {'batch_size': 16, 'gamma': 0.99, 'beta': 0.9, 'delta': 0.01, 'learn_rate': 0.0012222222222222222, 'eps': 1e-08, 'hidden_dim': 64}\n",
      "=== Training...\n",
      "#249: step=00437178, loss_p=-34.87, loss_v= 15.16, adv_m=-27.83, loss_e= -0.72, m_reward(100)= -62.7 (best= -54.4): 100%|██████████| 4000/4000 [01:37<00:00, 40.83it/s]\n",
      "\n",
      "=== STOPPING - Max episode reached\n",
      "hyperparams: {'batch_size': 4, 'gamma': 0.99, 'beta': 0.9, 'delta': 0.001, 'learn_rate': 0.0014444444444444444, 'eps': 1e-08, 'hidden_dim': 32}\n",
      "=== Training...\n",
      "#999: step=00582248, loss_p= 20.01, loss_v=  2.26, adv_m= 17.37, loss_e= -0.54, m_reward(100)=   4.7 (best=  21.0): 100%|██████████| 4000/4000 [02:30<00:00, 26.58it/s] \n",
      "\n",
      "=== STOPPING - Max episode reached\n",
      "hyperparams: {'batch_size': 4, 'gamma': 0.99, 'beta': 0.9, 'delta': 0.001, 'learn_rate': 0.0014444444444444444, 'eps': 1e-08, 'hidden_dim': 64}\n",
      "=== Training...\n",
      "#999: step=00381562, loss_p=  0.01, loss_v= 33.32, adv_m=-100.74, loss_e= -0.00, m_reward(100)=-571.2 (best= -28.9): 100%|██████████| 4000/4000 [01:22<00:00, 48.34it/s] \n",
      "\n",
      "=== STOPPING - Max episode reached\n",
      "hyperparams: {'batch_size': 8, 'gamma': 0.99, 'beta': 0.9, 'delta': 0.001, 'learn_rate': 0.0014444444444444444, 'eps': 1e-08, 'hidden_dim': 32}\n",
      "=== Training...\n",
      "#499: step=00497025, loss_p=-23.92, loss_v=  1.11, adv_m=-16.95, loss_e= -0.71, m_reward(100)= -32.8 (best= -31.4): 100%|██████████| 4000/4000 [01:57<00:00, 33.99it/s] \n",
      "\n",
      "=== STOPPING - Max episode reached\n",
      "hyperparams: {'batch_size': 8, 'gamma': 0.99, 'beta': 0.9, 'delta': 0.001, 'learn_rate': 0.0014444444444444444, 'eps': 1e-08, 'hidden_dim': 64}\n",
      "=== Training...\n",
      "#499: step=00466047, loss_p= -0.00, loss_v= 83.18, adv_m=-253.96, loss_e= -0.00, m_reward(100)=-564.1 (best= -40.7): 100%|██████████| 4000/4000 [01:47<00:00, 37.33it/s] \n",
      "\n",
      "=== STOPPING - Max episode reached\n",
      "hyperparams: {'batch_size': 16, 'gamma': 0.99, 'beta': 0.9, 'delta': 0.001, 'learn_rate': 0.0014444444444444444, 'eps': 1e-08, 'hidden_dim': 32}\n",
      "=== Training...\n",
      "#249: step=00386882, loss_p=-36.32, loss_v=  1.58, adv_m=-28.86, loss_e= -0.74, m_reward(100)= -62.5 (best= -60.7): 100%|██████████| 4000/4000 [01:21<00:00, 48.86it/s] \n",
      "\n",
      "=== STOPPING - Max episode reached\n",
      "hyperparams: {'batch_size': 16, 'gamma': 0.99, 'beta': 0.9, 'delta': 0.001, 'learn_rate': 0.0014444444444444444, 'eps': 1e-08, 'hidden_dim': 64}\n",
      "=== Training...\n",
      "#249: step=00400583, loss_p=-120.74, loss_v=  8.72, adv_m=-81.64, loss_e= -0.78, m_reward(100)=-115.8 (best= -60.8): 100%|██████████| 4000/4000 [01:21<00:00, 48.84it/s]\n",
      "\n",
      "=== STOPPING - Max episode reached\n",
      "hyperparams: {'batch_size': 4, 'gamma': 0.99, 'beta': 0.9, 'delta': 0.002, 'learn_rate': 0.0014444444444444444, 'eps': 1e-08, 'hidden_dim': 32}\n",
      "=== Training...\n",
      "#999: step=00457339, loss_p= -0.19, loss_v=305.55, adv_m=-343.82, loss_e= -0.00, m_reward(100)=-880.9 (best= -37.2): 100%|██████████| 4000/4000 [01:51<00:00, 36.02it/s] \n",
      "\n",
      "=== STOPPING - Max episode reached\n",
      "hyperparams: {'batch_size': 4, 'gamma': 0.99, 'beta': 0.9, 'delta': 0.002, 'learn_rate': 0.0014444444444444444, 'eps': 1e-08, 'hidden_dim': 64}\n",
      "=== Training...\n",
      "#999: step=00454290, loss_p= 17.14, loss_v= 95.42, adv_m=-124.45, loss_e= -0.00, m_reward(100)=-579.6 (best= -35.5): 100%|██████████| 4000/4000 [01:45<00:00, 37.80it/s] \n",
      "\n",
      "=== STOPPING - Max episode reached\n",
      "hyperparams: {'batch_size': 8, 'gamma': 0.99, 'beta': 0.9, 'delta': 0.002, 'learn_rate': 0.0014444444444444444, 'eps': 1e-08, 'hidden_dim': 32}\n",
      "=== Training...\n",
      "#499: step=00382595, loss_p=-32.54, loss_v=  2.17, adv_m=-20.66, loss_e= -0.69, m_reward(100)= -79.7 (best= -68.7): 100%|██████████| 4000/4000 [01:19<00:00, 50.30it/s]  \n",
      "\n",
      "=== STOPPING - Max episode reached\n",
      "hyperparams: {'batch_size': 8, 'gamma': 0.99, 'beta': 0.9, 'delta': 0.002, 'learn_rate': 0.0014444444444444444, 'eps': 1e-08, 'hidden_dim': 64}\n",
      "=== Training...\n",
      "#499: step=00392459, loss_p=  0.09, loss_v=138.36, adv_m=-215.07, loss_e= -0.00, m_reward(100)=-596.8 (best= -62.5): 100%|██████████| 4000/4000 [01:19<00:00, 50.35it/s] \n",
      "\n",
      "=== STOPPING - Max episode reached\n",
      "hyperparams: {'batch_size': 16, 'gamma': 0.99, 'beta': 0.9, 'delta': 0.002, 'learn_rate': 0.0014444444444444444, 'eps': 1e-08, 'hidden_dim': 32}\n",
      "=== Training...\n",
      "#249: step=00423873, loss_p=-48.11, loss_v=  5.46, adv_m=-37.26, loss_e= -0.77, m_reward(100)= -61.3 (best= -56.3): 100%|██████████| 4000/4000 [01:23<00:00, 47.86it/s] \n",
      "\n",
      "=== STOPPING - Max episode reached\n",
      "hyperparams: {'batch_size': 16, 'gamma': 0.99, 'beta': 0.9, 'delta': 0.002, 'learn_rate': 0.0014444444444444444, 'eps': 1e-08, 'hidden_dim': 64}\n",
      "=== Training...\n",
      "#249: step=00463354, loss_p=-30.76, loss_v=  2.96, adv_m=-24.44, loss_e= -0.71, m_reward(100)= -44.8 (best= -27.7): 100%|██████████| 4000/4000 [01:33<00:00, 42.58it/s]\n",
      "\n",
      "=== STOPPING - Max episode reached\n",
      "hyperparams: {'batch_size': 4, 'gamma': 0.99, 'beta': 0.9, 'delta': 0.003, 'learn_rate': 0.0014444444444444444, 'eps': 1e-08, 'hidden_dim': 32}\n",
      "=== Training...\n",
      "#999: step=00450486, loss_p= -0.00, loss_v=240.43, adv_m=-220.87, loss_e= -0.00, m_reward(100)=-593.6 (best= -27.3): 100%|██████████| 4000/4000 [01:39<00:00, 40.09it/s] \n",
      "\n",
      "=== STOPPING - Max episode reached\n",
      "hyperparams: {'batch_size': 4, 'gamma': 0.99, 'beta': 0.9, 'delta': 0.003, 'learn_rate': 0.0014444444444444444, 'eps': 1e-08, 'hidden_dim': 64}\n",
      "=== Training...\n",
      "#999: step=00413894, loss_p=  0.00, loss_v=139.85, adv_m=-119.70, loss_e= -0.00, m_reward(100)=-576.7 (best= -28.0): 100%|██████████| 4000/4000 [01:29<00:00, 44.75it/s] \n",
      "\n",
      "=== STOPPING - Max episode reached\n",
      "hyperparams: {'batch_size': 8, 'gamma': 0.99, 'beta': 0.9, 'delta': 0.003, 'learn_rate': 0.0014444444444444444, 'eps': 1e-08, 'hidden_dim': 32}\n",
      "=== Training...\n",
      "#499: step=00481796, loss_p=-11.02, loss_v=  2.87, adv_m= -8.33, loss_e= -0.66, m_reward(100)= -27.6 (best= -27.4): 100%|██████████| 4000/4000 [01:45<00:00, 37.88it/s]  \n",
      "\n",
      "=== STOPPING - Max episode reached\n",
      "hyperparams: {'batch_size': 8, 'gamma': 0.99, 'beta': 0.9, 'delta': 0.003, 'learn_rate': 0.0014444444444444444, 'eps': 1e-08, 'hidden_dim': 64}\n",
      "=== Training...\n",
      "#499: step=00459438, loss_p= -0.00, loss_v=271.07, adv_m=-270.77, loss_e= -0.00, m_reward(100)=-552.9 (best= -18.0): 100%|██████████| 4000/4000 [01:39<00:00, 40.04it/s] \n",
      "\n",
      "=== STOPPING - Max episode reached\n",
      "hyperparams: {'batch_size': 16, 'gamma': 0.99, 'beta': 0.9, 'delta': 0.003, 'learn_rate': 0.0014444444444444444, 'eps': 1e-08, 'hidden_dim': 32}\n",
      "=== Training...\n",
      "#249: step=00381253, loss_p=-57.86, loss_v=  7.30, adv_m=-42.96, loss_e= -0.73, m_reward(100)= -73.2 (best= -68.1): 100%|██████████| 4000/4000 [01:15<00:00, 53.07it/s] \n",
      "\n",
      "=== STOPPING - Max episode reached\n",
      "hyperparams: {'batch_size': 16, 'gamma': 0.99, 'beta': 0.9, 'delta': 0.003, 'learn_rate': 0.0014444444444444444, 'eps': 1e-08, 'hidden_dim': 64}\n",
      "=== Training...\n",
      "#249: step=00392367, loss_p=-17.98, loss_v=  3.55, adv_m=-14.28, loss_e= -0.70, m_reward(100)= -26.5 (best= -26.2): 100%|██████████| 4000/4000 [01:21<00:00, 49.28it/s] \n",
      "\n",
      "=== STOPPING - Max episode reached\n",
      "hyperparams: {'batch_size': 4, 'gamma': 0.99, 'beta': 0.9, 'delta': 0.004, 'learn_rate': 0.0014444444444444444, 'eps': 1e-08, 'hidden_dim': 32}\n",
      "=== Training...\n",
      "#999: step=00685635, loss_p= 24.22, loss_v=  7.39, adv_m= 17.42, loss_e= -0.63, m_reward(100)=  22.7 (best=  32.8): 100%|██████████| 4000/4000 [03:03<00:00, 21.85it/s] \n",
      "\n",
      "=== STOPPING - Max episode reached\n",
      "hyperparams: {'batch_size': 4, 'gamma': 0.99, 'beta': 0.9, 'delta': 0.004, 'learn_rate': 0.0014444444444444444, 'eps': 1e-08, 'hidden_dim': 64}\n",
      "=== Training...\n",
      "#999: step=00472777, loss_p= -0.00, loss_v= 71.85, adv_m=  3.55, loss_e= -0.00, m_reward(100)=-560.6 (best= -19.0): 100%|██████████| 4000/4000 [01:48<00:00, 36.95it/s]  \n",
      "\n",
      "=== STOPPING - Max episode reached\n",
      "hyperparams: {'batch_size': 8, 'gamma': 0.99, 'beta': 0.9, 'delta': 0.004, 'learn_rate': 0.0014444444444444444, 'eps': 1e-08, 'hidden_dim': 32}\n",
      "=== Training...\n",
      "#499: step=00486438, loss_p= -9.73, loss_v=  3.29, adv_m= -8.05, loss_e= -0.73, m_reward(100)= -22.4 (best= -20.4): 100%|██████████| 4000/4000 [01:43<00:00, 38.81it/s] \n",
      "\n",
      "=== STOPPING - Max episode reached\n",
      "hyperparams: {'batch_size': 8, 'gamma': 0.99, 'beta': 0.9, 'delta': 0.004, 'learn_rate': 0.0014444444444444444, 'eps': 1e-08, 'hidden_dim': 64}\n",
      "=== Training...\n",
      "#499: step=00557650, loss_p=-23.59, loss_v=  5.66, adv_m=-13.59, loss_e= -0.68, m_reward(100)= -67.2 (best= -23.2): 100%|██████████| 4000/4000 [02:09<00:00, 30.87it/s]\n",
      "\n",
      "=== STOPPING - Max episode reached\n",
      "hyperparams: {'batch_size': 16, 'gamma': 0.99, 'beta': 0.9, 'delta': 0.004, 'learn_rate': 0.0014444444444444444, 'eps': 1e-08, 'hidden_dim': 32}\n",
      "=== Training...\n",
      "#249: step=00489789, loss_p=-19.16, loss_v=  4.69, adv_m=-15.42, loss_e= -0.74, m_reward(100)= -27.4 (best= -22.7): 100%|██████████| 4000/4000 [01:50<00:00, 36.27it/s] \n",
      "\n",
      "=== STOPPING - Max episode reached\n",
      "hyperparams: {'batch_size': 16, 'gamma': 0.99, 'beta': 0.9, 'delta': 0.004, 'learn_rate': 0.0014444444444444444, 'eps': 1e-08, 'hidden_dim': 64}\n",
      "=== Training...\n",
      "#249: step=00469020, loss_p=-18.00, loss_v=  4.50, adv_m=-14.30, loss_e= -0.71, m_reward(100)= -38.9 (best= -33.7): 100%|██████████| 4000/4000 [01:44<00:00, 38.40it/s]\n",
      "\n",
      "=== STOPPING - Max episode reached\n",
      "hyperparams: {'batch_size': 4, 'gamma': 0.99, 'beta': 0.9, 'delta': 0.005, 'learn_rate': 0.0014444444444444444, 'eps': 1e-08, 'hidden_dim': 32}\n",
      "=== Training...\n",
      "#999: step=00296069, loss_p= -0.00, loss_v=202.11, adv_m=-111.24, loss_e= -0.00, m_reward(100)=-574.0 (best=-103.3): 100%|██████████| 4000/4000 [00:58<00:00, 68.87it/s] \n",
      "\n",
      "=== STOPPING - Max episode reached\n",
      "hyperparams: {'batch_size': 4, 'gamma': 0.99, 'beta': 0.9, 'delta': 0.005, 'learn_rate': 0.0014444444444444444, 'eps': 1e-08, 'hidden_dim': 64}\n",
      "=== Training...\n",
      "#999: step=00461795, loss_p= -0.00, loss_v=181.34, adv_m=-70.30, loss_e= -0.00, m_reward(100)=-555.2 (best= -31.4): 100%|██████████| 4000/4000 [01:44<00:00, 38.42it/s]  \n",
      "\n",
      "=== STOPPING - Max episode reached\n",
      "hyperparams: {'batch_size': 8, 'gamma': 0.99, 'beta': 0.9, 'delta': 0.005, 'learn_rate': 0.0014444444444444444, 'eps': 1e-08, 'hidden_dim': 32}\n",
      "=== Training...\n",
      "#499: step=00496012, loss_p=-59.07, loss_v= 21.11, adv_m=-50.19, loss_e= -0.69, m_reward(100)=-100.3 (best= -23.6): 100%|██████████| 4000/4000 [01:53<00:00, 35.11it/s]  \n",
      "\n",
      "=== STOPPING - Max episode reached\n",
      "hyperparams: {'batch_size': 8, 'gamma': 0.99, 'beta': 0.9, 'delta': 0.005, 'learn_rate': 0.0014444444444444444, 'eps': 1e-08, 'hidden_dim': 64}\n",
      "=== Training...\n",
      "#499: step=00535616, loss_p=-13.21, loss_v=  4.22, adv_m= -6.34, loss_e= -0.72, m_reward(100)= -21.9 (best= -14.2): 100%|██████████| 4000/4000 [02:02<00:00, 32.58it/s]\n",
      "\n",
      "=== STOPPING - Max episode reached\n",
      "hyperparams: {'batch_size': 16, 'gamma': 0.99, 'beta': 0.9, 'delta': 0.005, 'learn_rate': 0.0014444444444444444, 'eps': 1e-08, 'hidden_dim': 32}\n",
      "=== Training...\n",
      "#249: step=00483726, loss_p=-27.74, loss_v=  7.77, adv_m=-22.82, loss_e= -0.76, m_reward(100)= -32.0 (best= -26.9): 100%|██████████| 4000/4000 [01:47<00:00, 37.25it/s] \n",
      "\n",
      "=== STOPPING - Max episode reached\n",
      "hyperparams: {'batch_size': 16, 'gamma': 0.99, 'beta': 0.9, 'delta': 0.005, 'learn_rate': 0.0014444444444444444, 'eps': 1e-08, 'hidden_dim': 64}\n",
      "=== Training...\n",
      "#249: step=00442164, loss_p=-36.49, loss_v=  9.61, adv_m=-29.82, loss_e= -0.70, m_reward(100)= -59.3 (best= -40.8): 100%|██████████| 4000/4000 [01:37<00:00, 41.18it/s] \n",
      "\n",
      "=== STOPPING - Max episode reached\n",
      "hyperparams: {'batch_size': 4, 'gamma': 0.99, 'beta': 0.9, 'delta': 0.006, 'learn_rate': 0.0014444444444444444, 'eps': 1e-08, 'hidden_dim': 32}\n",
      "=== Training...\n",
      "#999: step=00487976, loss_p= 14.95, loss_v=  4.10, adv_m=  9.37, loss_e= -0.58, m_reward(100)= -73.4 (best= -24.9): 100%|██████████| 4000/4000 [01:55<00:00, 34.68it/s] \n",
      "\n",
      "=== STOPPING - Max episode reached\n",
      "hyperparams: {'batch_size': 4, 'gamma': 0.99, 'beta': 0.9, 'delta': 0.006, 'learn_rate': 0.0014444444444444444, 'eps': 1e-08, 'hidden_dim': 64}\n",
      "=== Training...\n",
      "#999: step=00382622, loss_p=  0.00, loss_v=208.98, adv_m=-113.10, loss_e= -0.00, m_reward(100)=-577.4 (best= -29.7): 100%|██████████| 4000/4000 [01:26<00:00, 46.17it/s] \n",
      "\n",
      "=== STOPPING - Max episode reached\n",
      "hyperparams: {'batch_size': 8, 'gamma': 0.99, 'beta': 0.9, 'delta': 0.006, 'learn_rate': 0.0014444444444444444, 'eps': 1e-08, 'hidden_dim': 32}\n",
      "=== Training...\n",
      "#499: step=00418271, loss_p= -3.33, loss_v=  5.92, adv_m= -3.08, loss_e= -0.72, m_reward(100)= -31.7 (best= -30.7): 100%|██████████| 4000/4000 [01:30<00:00, 44.08it/s]  \n",
      "\n",
      "=== STOPPING - Max episode reached\n",
      "hyperparams: {'batch_size': 8, 'gamma': 0.99, 'beta': 0.9, 'delta': 0.006, 'learn_rate': 0.0014444444444444444, 'eps': 1e-08, 'hidden_dim': 64}\n",
      "=== Training...\n",
      "#499: step=00375036, loss_p=  4.52, loss_v=311.75, adv_m=-163.14, loss_e= -0.00, m_reward(100)=-580.7 (best= -40.7): 100%|██████████| 4000/4000 [01:21<00:00, 49.23it/s] \n",
      "\n",
      "=== STOPPING - Max episode reached\n",
      "hyperparams: {'batch_size': 16, 'gamma': 0.99, 'beta': 0.9, 'delta': 0.006, 'learn_rate': 0.0014444444444444444, 'eps': 1e-08, 'hidden_dim': 32}\n",
      "=== Training...\n",
      "#249: step=00360502, loss_p=-48.06, loss_v= 16.59, adv_m=-39.93, loss_e= -0.72, m_reward(100)= -65.7 (best= -58.8): 100%|██████████| 4000/4000 [01:17<00:00, 51.29it/s] \n",
      "\n",
      "=== STOPPING - Max episode reached\n",
      "hyperparams: {'batch_size': 16, 'gamma': 0.99, 'beta': 0.9, 'delta': 0.006, 'learn_rate': 0.0014444444444444444, 'eps': 1e-08, 'hidden_dim': 64}\n",
      "=== Training...\n",
      "#249: step=00457124, loss_p=-26.11, loss_v=  9.69, adv_m=-21.18, loss_e= -0.69, m_reward(100)= -42.3 (best= -28.3): 100%|██████████| 4000/4000 [01:35<00:00, 41.79it/s] \n",
      "\n",
      "=== STOPPING - Max episode reached\n",
      "hyperparams: {'batch_size': 4, 'gamma': 0.99, 'beta': 0.9, 'delta': 0.007, 'learn_rate': 0.0014444444444444444, 'eps': 1e-08, 'hidden_dim': 32}\n",
      "=== Training...\n",
      "#999: step=00533365, loss_p=-16.46, loss_v=  3.03, adv_m=-10.52, loss_e= -0.66, m_reward(100)= -65.2 (best= -25.3): 100%|██████████| 4000/4000 [02:10<00:00, 30.74it/s] \n",
      "\n",
      "=== STOPPING - Max episode reached\n",
      "hyperparams: {'batch_size': 4, 'gamma': 0.99, 'beta': 0.9, 'delta': 0.007, 'learn_rate': 0.0014444444444444444, 'eps': 1e-08, 'hidden_dim': 64}\n",
      "=== Training...\n",
      "#999: step=00508830, loss_p= 10.28, loss_v=552.67, adv_m=-210.10, loss_e= -0.00, m_reward(100)=-565.2 (best= -31.2): 100%|██████████| 4000/4000 [01:57<00:00, 34.05it/s] \n",
      "\n",
      "=== STOPPING - Max episode reached\n",
      "hyperparams: {'batch_size': 8, 'gamma': 0.99, 'beta': 0.9, 'delta': 0.007, 'learn_rate': 0.0014444444444444444, 'eps': 1e-08, 'hidden_dim': 32}\n",
      "=== Training...\n",
      "#499: step=00426108, loss_p=-27.25, loss_v=  7.46, adv_m=-18.38, loss_e= -0.71, m_reward(100)= -55.5 (best= -49.6): 100%|██████████| 4000/4000 [01:34<00:00, 42.51it/s]  \n",
      "\n",
      "=== STOPPING - Max episode reached\n",
      "hyperparams: {'batch_size': 8, 'gamma': 0.99, 'beta': 0.9, 'delta': 0.007, 'learn_rate': 0.0014444444444444444, 'eps': 1e-08, 'hidden_dim': 64}\n",
      "=== Training...\n",
      "#499: step=00458546, loss_p= -0.00, loss_v=653.98, adv_m=-257.27, loss_e= -0.00, m_reward(100)=-592.4 (best= -26.0): 100%|██████████| 4000/4000 [01:47<00:00, 37.11it/s] \n",
      "\n",
      "=== STOPPING - Max episode reached\n",
      "hyperparams: {'batch_size': 16, 'gamma': 0.99, 'beta': 0.9, 'delta': 0.007, 'learn_rate': 0.0014444444444444444, 'eps': 1e-08, 'hidden_dim': 32}\n",
      "=== Training...\n",
      "#249: step=00408102, loss_p=-28.09, loss_v=  7.60, adv_m=-20.65, loss_e= -0.77, m_reward(100)= -51.6 (best= -51.6): 100%|██████████| 4000/4000 [01:21<00:00, 48.95it/s] \n",
      "\n",
      "=== STOPPING - Max episode reached\n",
      "hyperparams: {'batch_size': 16, 'gamma': 0.99, 'beta': 0.9, 'delta': 0.007, 'learn_rate': 0.0014444444444444444, 'eps': 1e-08, 'hidden_dim': 64}\n",
      "=== Training...\n",
      "#249: step=00483985, loss_p=-20.98, loss_v=  7.12, adv_m=-16.88, loss_e= -0.72, m_reward(100)= -35.3 (best= -24.9): 100%|██████████| 4000/4000 [01:54<00:00, 34.90it/s] \n",
      "\n",
      "=== STOPPING - Max episode reached\n",
      "hyperparams: {'batch_size': 4, 'gamma': 0.99, 'beta': 0.9, 'delta': 0.008, 'learn_rate': 0.0014444444444444444, 'eps': 1e-08, 'hidden_dim': 32}\n",
      "=== Training...\n",
      "#999: step=00478955, loss_p= 11.89, loss_v=  7.85, adv_m= 10.09, loss_e= -0.62, m_reward(100)= -72.5 (best= -51.0): 100%|██████████| 4000/4000 [01:47<00:00, 37.32it/s]  \n",
      "\n",
      "=== STOPPING - Max episode reached\n",
      "hyperparams: {'batch_size': 4, 'gamma': 0.99, 'beta': 0.9, 'delta': 0.008, 'learn_rate': 0.0014444444444444444, 'eps': 1e-08, 'hidden_dim': 64}\n",
      "=== Training...\n",
      "#999: step=00424881, loss_p=  0.00, loss_v=213.50, adv_m=-87.80, loss_e= -0.00, m_reward(100)=-564.7 (best= -20.4): 100%|██████████| 4000/4000 [01:42<00:00, 38.91it/s]  \n",
      "\n",
      "=== STOPPING - Max episode reached\n",
      "hyperparams: {'batch_size': 8, 'gamma': 0.99, 'beta': 0.9, 'delta': 0.008, 'learn_rate': 0.0014444444444444444, 'eps': 1e-08, 'hidden_dim': 32}\n",
      "=== Training...\n",
      "#499: step=00498995, loss_p=-10.10, loss_v=  7.72, adv_m= -7.62, loss_e= -0.72, m_reward(100)= -58.5 (best= -42.2): 100%|██████████| 4000/4000 [02:00<00:00, 33.09it/s] \n",
      "\n",
      "=== STOPPING - Max episode reached\n",
      "hyperparams: {'batch_size': 8, 'gamma': 0.99, 'beta': 0.9, 'delta': 0.008, 'learn_rate': 0.0014444444444444444, 'eps': 1e-08, 'hidden_dim': 64}\n",
      "=== Training...\n",
      "#499: step=00467889, loss_p= -2.51, loss_v=571.36, adv_m=-233.91, loss_e= -0.00, m_reward(100)=-581.6 (best= -29.9): 100%|██████████| 4000/4000 [01:42<00:00, 39.14it/s] \n",
      "\n",
      "=== STOPPING - Max episode reached\n",
      "hyperparams: {'batch_size': 16, 'gamma': 0.99, 'beta': 0.9, 'delta': 0.008, 'learn_rate': 0.0014444444444444444, 'eps': 1e-08, 'hidden_dim': 32}\n",
      "=== Training...\n",
      "#249: step=00554990, loss_p=-17.80, loss_v= 41.03, adv_m=-17.43, loss_e= -0.74, m_reward(100)= -32.9 (best= -13.0): 100%|██████████| 4000/4000 [02:13<00:00, 29.96it/s] \n",
      "\n",
      "=== STOPPING - Max episode reached\n",
      "hyperparams: {'batch_size': 16, 'gamma': 0.99, 'beta': 0.9, 'delta': 0.008, 'learn_rate': 0.0014444444444444444, 'eps': 1e-08, 'hidden_dim': 64}\n",
      "=== Training...\n",
      "#249: step=00426186, loss_p= -9.31, loss_v=  9.84, adv_m= -7.16, loss_e= -0.73, m_reward(100)= -30.9 (best= -28.2): 100%|██████████| 4000/4000 [01:21<00:00, 48.85it/s] \n",
      "\n",
      "=== STOPPING - Max episode reached\n",
      "hyperparams: {'batch_size': 4, 'gamma': 0.99, 'beta': 0.9, 'delta': 0.009000000000000001, 'learn_rate': 0.0014444444444444444, 'eps': 1e-08, 'hidden_dim': 32}\n",
      "=== Training...\n",
      "#999: step=00466444, loss_p= 12.80, loss_v=395.74, adv_m=-159.09, loss_e= -0.00, m_reward(100)=-565.9 (best= -43.9): 100%|██████████| 4000/4000 [01:48<00:00, 36.81it/s] \n",
      "\n",
      "=== STOPPING - Max episode reached\n",
      "hyperparams: {'batch_size': 4, 'gamma': 0.99, 'beta': 0.9, 'delta': 0.009000000000000001, 'learn_rate': 0.0014444444444444444, 'eps': 1e-08, 'hidden_dim': 64}\n",
      "=== Training...\n",
      "#999: step=00635106, loss_p=-85.97, loss_v= 73.82, adv_m=-50.26, loss_e= -0.51, m_reward(100)=  -7.8 (best=  36.4): 100%|██████████| 4000/4000 [03:03<00:00, 21.83it/s] \n",
      "\n",
      "=== STOPPING - Max episode reached\n",
      "hyperparams: {'batch_size': 8, 'gamma': 0.99, 'beta': 0.9, 'delta': 0.009000000000000001, 'learn_rate': 0.0014444444444444444, 'eps': 1e-08, 'hidden_dim': 32}\n",
      "=== Training...\n",
      "#499: step=00399463, loss_p= -0.69, loss_v=834.12, adv_m=-271.78, loss_e= -0.00, m_reward(100)=-581.7 (best= -69.0): 100%|██████████| 4000/4000 [01:29<00:00, 44.51it/s] \n",
      "\n",
      "=== STOPPING - Max episode reached\n",
      "hyperparams: {'batch_size': 8, 'gamma': 0.99, 'beta': 0.9, 'delta': 0.009000000000000001, 'learn_rate': 0.0014444444444444444, 'eps': 1e-08, 'hidden_dim': 64}\n",
      "=== Training...\n",
      "#499: step=00431780, loss_p=  0.11, loss_v=550.87, adv_m=-193.16, loss_e= -0.00, m_reward(100)=-579.4 (best= -38.2): 100%|██████████| 4000/4000 [01:41<00:00, 39.55it/s]  \n",
      "\n",
      "=== STOPPING - Max episode reached\n",
      "hyperparams: {'batch_size': 16, 'gamma': 0.99, 'beta': 0.9, 'delta': 0.009000000000000001, 'learn_rate': 0.0014444444444444444, 'eps': 1e-08, 'hidden_dim': 32}\n",
      "=== Training...\n",
      "#249: step=00386856, loss_p=-18.75, loss_v= 11.19, adv_m=-15.91, loss_e= -0.72, m_reward(100)= -51.1 (best= -46.7): 100%|██████████| 4000/4000 [01:23<00:00, 47.96it/s] \n",
      "\n",
      "=== STOPPING - Max episode reached\n",
      "hyperparams: {'batch_size': 16, 'gamma': 0.99, 'beta': 0.9, 'delta': 0.009000000000000001, 'learn_rate': 0.0014444444444444444, 'eps': 1e-08, 'hidden_dim': 64}\n",
      "=== Training...\n",
      "#116: step=00185695, loss_p=-61.77, loss_v= 36.67, adv_m=-47.57, loss_e= -0.81, m_reward(100)=-112.8 (best= -97.4):  46%|████▋     | 1856/4000 [00:36<01:03, 33.57it/s] "
     ]
    }
   ],
   "source": [
    "training_data_filename = os.path.join('results', f'part1_exp_aac.dat')\n",
    "\n",
    "# Set to True to force re-run (careful, will delete old experiment results)\n",
    "force_run = True\n",
    "\n",
    "if os.path.isfile(training_data_filename) and not force_run:\n",
    "    print(f'=== results file {training_data_filename} exists, skipping experiments.')\n",
    "    results_aac = load_training_data(training_data_filename)\n",
    "    \n",
    "else:\n",
    "    hp = hw4.answers.part1_aac_hyperparams()\n",
    "    print(f'=== Running AAC experiment')\n",
    "    for lr in np.linspace(0.001, 0.003, 10):\n",
    "        for delta in np.linspace(0.001, 0.01, 10):\n",
    "            for i in range(2,5):\n",
    "                for j in range(5,7):\n",
    "                    hp['hidden_dim'] = 2**j\n",
    "                    hp['batch_size'] = 2**i\n",
    "                    hp['learn_rate'] = lr\n",
    "                    hp['delta'] = delta\n",
    "                    training_data = train_aac(hp, max_episodes=exp_max_episodes)\n",
    "                    results_aac = dict(aac=training_data)\n",
    "                    dump_training_data(results_aac, training_data_filename)"
   ]
  },
  {
   "cell_type": "code",
   "execution_count": null,
   "metadata": {
    "pycharm": {
     "is_executing": false
    }
   },
   "outputs": [],
   "source": [
    "experiments_results_fig = plot_experiment_results(results)\n",
    "plot_experiment_results(results_aac, fig=experiments_results_fig);"
   ]
  },
  {
   "cell_type": "markdown",
   "metadata": {},
   "source": [
    "You should get better results with the AAC method, so this time the bar is higher (again, you should aim for a mean reward of 100+).\n",
    "Compare the graphs with combined PG method and see if they make sense."
   ]
  },
  {
   "cell_type": "code",
   "execution_count": null,
   "metadata": {
    "pycharm": {
     "is_executing": false
    }
   },
   "outputs": [],
   "source": [
    "best_aac_mean_reward = max(results_aac['aac']['mean_reward'])\n",
    "print(f'Best AAC mean reward: {best_aac_mean_reward:.2f}')\n",
    "\n",
    "test.assertGreater(best_aac_mean_reward, 50)"
   ]
  },
  {
   "cell_type": "markdown",
   "metadata": {},
   "source": [
    "### Final model training and visualization"
   ]
  },
  {
   "cell_type": "markdown",
   "metadata": {},
   "source": [
    "Now, using your best model and hyperparams, let's train model for much longer and see the performance.\n",
    "Just for fun, we'll also visualize an episode every now and then so that we can see how well the agent is playing."
   ]
  },
  {
   "cell_type": "markdown",
   "metadata": {},
   "source": [
    "**TODO**:\n",
    "- Run the following block to train.\n",
    "- Tweak model or hyperparams as necessary.\n",
    "- Aim for high mean reward, at least 150+. It's possible to get over 200.\n",
    "- When training is done and you're satisfied with the model's outputs, rename the checkpoint file by adding `_final` to the file name.\n",
    "  This will cause the block to skip training and instead load your saved model when running the homework submission script.\n",
    "  Note that your submission zip file will not include the checkpoint file. This is OK."
   ]
  },
  {
   "cell_type": "code",
   "execution_count": null,
   "metadata": {
    "pycharm": {
     "is_executing": false
    }
   },
   "outputs": [],
   "source": [
    "import IPython.display\n",
    "\n",
    "CHECKPOINTS_FILE = f'checkpoints/{ENV_NAME}-ac.dat'\n",
    "CHECKPOINTS_FILE_FINAL = f'checkpoints/{ENV_NAME}-ac_final.dat'\n",
    "TARGET_REWARD = 125\n",
    "MAX_EPISODES = 15_000\n",
    "\n",
    "def post_batch_fn(batch_idx, p_net, batch, print_every=20, final=False):\n",
    "    if not final and batch_idx % print_every != 0:\n",
    "        return\n",
    "    env, n_steps, reward = hw4ac.AACPolicyAgent.monitor_episode(ENV_NAME, p_net)\n",
    "    html = show_monitor_video(env, width=\"500\")\n",
    "    IPython.display.clear_output(wait=True)\n",
    "    print(f'Monitor@#{batch_idx}: n_steps={n_steps}, total_reward={reward:.3f}, final={final}')\n",
    "    IPython.display.display_html(html)\n",
    "    \n",
    "    \n",
    "if os.path.isfile(CHECKPOINTS_FILE_FINAL):\n",
    "    print(f'=== {CHECKPOINTS_FILE_FINAL} exists, skipping training...')\n",
    "    checkpoint_data = torch.load(CHECKPOINTS_FILE_FINAL)\n",
    "    hp = hw4.answers.part1_aac_hyperparams()\n",
    "    pv_net = hw4ac.AACPolicyNet.build_for_env(env, **hp)\n",
    "    pv_net.load_state_dict(checkpoint_data['params'])\n",
    "    print(f'=== Running best model...')\n",
    "    env, n_steps, reward = hw4ac.AACPolicyAgent.monitor_episode(ENV_NAME, pv_net)\n",
    "    print(f'=== Best model ran for {n_steps} steps. Total reward: {reward:.2f}')\n",
    "    IPython.display.display_html(show_monitor_video(env))\n",
    "    best_mean_reward = checkpoint_data[\"best_mean_reward\"]\n",
    "else:\n",
    "    print(f'=== Starting training...')\n",
    "    train_data = train_aac(TARGET_REWARD, max_episodes=MAX_EPISODES,\n",
    "                           seed=None, checkpoints_file=CHECKPOINTS_FILE, post_batch_fn=post_batch_fn)\n",
    "    print(f'=== Done, ', end='')\n",
    "    best_mean_reward = train_data[\"best_mean_reward\"][-1]\n",
    "    print(f'num_episodes={train_data[\"episode_num\"][-1]}, best_mean_reward={best_mean_reward:.1f}')\n",
    "          \n",
    "test.assertGreaterEqual(best_mean_reward, TARGET_REWARD)"
   ]
  },
  {
   "cell_type": "markdown",
   "metadata": {},
   "source": [
    "## Questions\n",
    "<a id=part1_3></a>"
   ]
  },
  {
   "cell_type": "markdown",
   "metadata": {},
   "source": [
    "**TODO**: Answer the following questions. Write your answers in the appropriate variables in the module `hw4/answers.py`."
   ]
  },
  {
   "cell_type": "code",
   "execution_count": null,
   "metadata": {
    "pycharm": {
     "is_executing": false
    }
   },
   "outputs": [],
   "source": [
    "from cs236781.answers import display_answer\n",
    "import hw4.answers"
   ]
  },
  {
   "cell_type": "markdown",
   "metadata": {},
   "source": [
    "### Question 1\n",
    "\n",
    "Explain qualitatively why subtracting a baseline in the policy-gradient helps reduce it's variance.\n",
    "Specifically, give an example where it helps."
   ]
  },
  {
   "cell_type": "code",
   "execution_count": null,
   "metadata": {
    "pycharm": {
     "is_executing": false
    }
   },
   "outputs": [],
   "source": [
    "display_answer(hw4.answers.part1_q1)"
   ]
  },
  {
   "cell_type": "markdown",
   "metadata": {},
   "source": [
    "### Question 2\n",
    "\n",
    "In AAC, when using the estimated q-values as regression targets for our state-values, why do we get a valid approximation?\n",
    "Hint: how is $v_\\pi(s)$ expressed in terms of $q_\\pi(s,a)$?"
   ]
  },
  {
   "cell_type": "code",
   "execution_count": null,
   "metadata": {
    "pycharm": {
     "is_executing": false
    }
   },
   "outputs": [],
   "source": [
    "display_answer(hw4.answers.part1_q2)"
   ]
  },
  {
   "cell_type": "markdown",
   "metadata": {},
   "source": [
    "### Question 3\n",
    "\n",
    "1. Analyze and explain the graphs you got in first experiment run.\n",
    "2. Compare the experiment graphs you got with the AAC method to the regular PG method (`cpg`)."
   ]
  },
  {
   "cell_type": "code",
   "execution_count": null,
   "metadata": {
    "pycharm": {
     "is_executing": false
    }
   },
   "outputs": [],
   "source": [
    "display_answer(hw4.answers.part1_q3)"
   ]
  }
 ],
 "metadata": {
  "kernelspec": {
   "display_name": "Python 3",
   "language": "python",
   "name": "python3"
  },
  "language_info": {
   "codemirror_mode": {
    "name": "ipython",
    "version": 3
   },
   "file_extension": ".py",
   "mimetype": "text/x-python",
   "name": "python",
   "nbconvert_exporter": "python",
   "pygments_lexer": "ipython3",
   "version": "3.7.4"
  },
  "pycharm": {
   "stem_cell": {
    "cell_type": "raw",
    "metadata": {
     "collapsed": false
    },
    "source": []
   }
  }
 },
 "nbformat": 4,
 "nbformat_minor": 4
}
