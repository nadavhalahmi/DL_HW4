{
 "cells": [
  {
   "cell_type": "markdown",
   "metadata": {},
   "source": [
    "$$\n",
    "\\newcommand{\\mat}[1]{\\boldsymbol {#1}}\n",
    "\\newcommand{\\mattr}[1]{\\boldsymbol {#1}^\\top}\n",
    "\\newcommand{\\matinv}[1]{\\boldsymbol {#1}^{-1}}\n",
    "\\newcommand{\\vec}[1]{\\boldsymbol {#1}}\n",
    "\\newcommand{\\vectr}[1]{\\boldsymbol {#1}^\\top}\n",
    "\\newcommand{\\rvar}[1]{\\mathrm {#1}}\n",
    "\\newcommand{\\rvec}[1]{\\boldsymbol{\\mathrm{#1}}}\n",
    "\\newcommand{\\diag}{\\mathop{\\mathrm {diag}}}\n",
    "\\newcommand{\\set}[1]{\\mathbb {#1}}\n",
    "\\newcommand{\\cset}[1]{\\mathcal{#1}}\n",
    "\\newcommand{\\norm}[1]{\\left\\lVert#1\\right\\rVert}\n",
    "\\newcommand{\\pderiv}[2]{\\frac{\\partial #1}{\\partial #2}}\n",
    "\\newcommand{\\bb}[1]{\\boldsymbol{#1}}\n",
    "\\newcommand{\\E}[2][]{\\mathbb{E}_{#1}\\left[#2\\right]}\n",
    "\\newcommand{\\ip}[3]{\\left<#1,#2\\right>_{#3}}\n",
    "\\newcommand{\\given}[]{\\,\\middle\\vert\\,}\n",
    "\\newcommand{\\DKL}[2]{\\cset{D}_{\\text{KL}}\\left(#1\\,\\Vert\\, #2\\right)}\n",
    "\\newcommand{\\grad}[]{\\nabla}\n",
    "$$\n",
    "# Part 1: Deep Reinforcement Learning\n",
    "<a id=part1></a>"
   ]
  },
  {
   "cell_type": "markdown",
   "metadata": {},
   "source": [
    "In the tutorial we have seen value-based reinforcement learning, in which we learn to approximate the action-value function $q(s,a)$.\n",
    "\n",
    "In this exercise we'll explore a different approach, directly learning the agent's policy distribution, $\\pi(a|s)$\n",
    "by using *policy gradients*, in order to safely land on the moon!"
   ]
  },
  {
   "cell_type": "code",
   "execution_count": 77,
   "metadata": {
    "pycharm": {
     "is_executing": false
    }
   },
   "outputs": [
    {
     "name": "stdout",
     "output_type": "stream",
     "text": [
      "The autoreload extension is already loaded. To reload it, use:\n",
      "  %reload_ext autoreload\n"
     ]
    }
   ],
   "source": [
    "%load_ext autoreload\n",
    "%autoreload 2\n",
    "%matplotlib inline\n",
    "\n",
    "import unittest\n",
    "import os\n",
    "import sys\n",
    "import pathlib\n",
    "import urllib\n",
    "import shutil\n",
    "import re\n",
    "\n",
    "import numpy as np\n",
    "import torch\n",
    "import torch.nn as nn\n",
    "import torch.optim as optim\n",
    "import matplotlib.pyplot as plt"
   ]
  },
  {
   "cell_type": "code",
   "execution_count": 78,
   "metadata": {
    "pycharm": {
     "is_executing": false
    }
   },
   "outputs": [
    {
     "name": "stdout",
     "output_type": "stream",
     "text": [
      "Using device: cpu\n"
     ]
    }
   ],
   "source": [
    "test = unittest.TestCase()\n",
    "plt.rcParams.update({'font.size': 12})\n",
    "device = torch.device('cuda' if torch.cuda.is_available() else 'cpu')\n",
    "\n",
    "# Prefer CPU, GPU won't help much in this assignment\n",
    "device = 'cpu'\n",
    "print('Using device:', device)\n",
    "\n",
    "# Seed for deterministic tests\n",
    "SEED = 42"
   ]
  },
  {
   "cell_type": "markdown",
   "metadata": {},
   "source": [
    "Some technical notes before we begin:\n",
    "\n",
    "- This part does not require a GPU. We won't need large models, and the computation bottleneck will be the generation of episodes to train on.\n",
    "- In order to run this notebook on the server, you must prepend the `xvfb-run` command to create a virtual screen. For example,\n",
    "    - to run the jupyter lab script with `srun` do\n",
    "        ```\n",
    "        srun -c2 --gres=gpu:1 xvfb-run -a -s \"-screen 0 1440x900x24\" ./jupyter-lab.sh\n",
    "        ```\n",
    "    - To run the submission script, do\n",
    "        ```\n",
    "        srun -c2 xvfb-run -a -s \"-screen 0 1440x900x24\" python main.py prepare-submission ...\n",
    "        ```\n",
    "    and so on.\n",
    "- The OpenAI `gym` library is not officially supported on windows. However it should be possible to install and run the necessary environment for this exercise. However, we cannot provide you with technical support for this. If you have trouble installing locally, we suggest running on the course server."
   ]
  },
  {
   "cell_type": "markdown",
   "metadata": {},
   "source": [
    "## Policy gradients\n",
    "<a id=part1_1></a>"
   ]
  },
  {
   "cell_type": "markdown",
   "metadata": {},
   "source": [
    "Recall from the tutorial that we define the **policy** of an agent as the conditional distribution,\n",
    "$$\n",
    "\\pi(a|s) = \\Pr(a_t=a\\vert s_t=s),\n",
    "$$\n",
    "which defines how likely the agent is to take action $a$ at state $s$.\n",
    "\n",
    "Furthermore we define the action-value function,\n",
    "$$\n",
    "q_{\\pi}(s,a) = \\E{g_t(\\tau)|s_t = s,a_t=a,\\pi}\n",
    "$$\n",
    "where \n",
    "$$\n",
    "g_t(\\tau) = r_{t+1}+\\gamma r_{t+2} + \\dots = \\sum_{k=0}^{\\infty} \\gamma^k r_{t+1+k},\n",
    "$$\n",
    "is the total discounted reward of a specific trajectory $\\tau$ from time $t$, and the expectation in $q$ is over all possible\n",
    "trajectories,\n",
    "$\n",
    "\\tau=\\left\\{ (s_0,a_0,r_1,s_1), \\dots (s_T,a_T,r_{T+1},s_{T+1}) \\right\\}.\n",
    "$"
   ]
  },
  {
   "cell_type": "markdown",
   "metadata": {},
   "source": [
    "In the tutorial we saw that we can learn a value function starting with some random function and\n",
    "updating it iteratively by using the **Bellman optimality equation**.\n",
    "Given that we have some action-value function, we can immediately create a policy based on that\n",
    "by simply selecting an action which maximize the action-value at the current state, i.e.\n",
    "$$\n",
    "\\pi(a|s) =\n",
    "\\begin{cases}\n",
    "1, & a = \\arg\\max_{a'\\in\\cset{A}} q(s,a') \\\\\n",
    "0, & \\text{else}\n",
    "\\end{cases}.\n",
    "$$\n",
    "This is called $q$-learning. This approach aims to obtain a policy indirectly through the action-value function.\n",
    "Yet, in most cases we don't actually care about knowing the value of particular states,\n",
    "since all we need is a good policy for our agent. \n",
    "\n",
    "Here we'll take a different approach and learn a policy distribution $\\pi(a|s)$ directly - by using **policy gradients**."
   ]
  },
  {
   "cell_type": "markdown",
   "metadata": {},
   "source": [
    "### Formalism"
   ]
  },
  {
   "cell_type": "markdown",
   "metadata": {},
   "source": [
    "We define a parametric policy, $\\pi_\\vec{\\theta}(a|s)$, and maximize total discounted reward (or minimize the negative reward):\n",
    "$$\n",
    "\\mathcal{L}(\\vec{\\theta})=\\E[\\tau]{-g(\\tau)|\\pi_\\vec{\\theta}} = -\\int g(\\tau)p(\\tau|\\vec{\\theta})d\\tau,\n",
    "$$\n",
    "where $p(\\tau|\\vec{\\theta})$ is the probability of a specific trajectory $\\tau$ under the policy defined by $\\vec{\\theta}$.\n"
   ]
  },
  {
   "cell_type": "markdown",
   "metadata": {},
   "source": [
    "Since we want to find the parameters $\\vec{\\theta}$ which minimize $\\mathcal{L}(\\vec{\\theta})$, we'll compute the gradient w.r.t. $\\vec{\\theta}$:\n",
    "$$\n",
    "\\grad\\mathcal{L}(\\vec{\\theta}) = -\\int g(\\tau)\\grad p(\\tau|\\vec{\\theta})d\\tau.\n",
    "$$\n",
    "\n",
    "Unfortunately, if we try to write $p(\\tau|\\vec{\\theta})$ explicitly,\n",
    "we find that computing it's gradient with respect to $\\vec{\\theta}$ is\n",
    "quite intractable due to a huge product of terms depending on $\\vec{\\theta}$:\n",
    "$$\n",
    "p(\\tau|\\vec{\\theta})=p\\left(\\left\\{ (s_t,a_t,r_{t+1},s_{t+1})\\right\\}_{t\\geq0}\\given\\vec{\\theta}\\right)\n",
    "=p(s_0)\\prod_{t\\geq0} \\pi_{\\vec{\\theta}}(a_t|s_t)p(s_{t+1}|s_t,a_t).\n",
    "$$"
   ]
  },
  {
   "cell_type": "markdown",
   "metadata": {},
   "source": [
    "However, by using the fact that $\\grad_{x}\\log(f(x))=\\frac{\\grad_{x}f(x)}{f(x)}$, we can convert the product into a sum:\n",
    "$$\n",
    "\\begin{align}\n",
    "\\grad\\mathcal{L}(\\vec{\\theta})\n",
    "&= -\\int g(\\tau)\\grad p(\\tau|\\vec{\\theta})d\\tau\n",
    "= -\\int g(\\tau)\\frac{\\grad p(\\tau|\\vec{\\theta})}{p(\\tau|\\vec{\\theta})}p(\\tau|\\vec{\\theta})d\\tau \\\\\n",
    "&= -\\int g(\\tau)\\grad\\log\\left(p(\\tau|\\vec{\\theta})\\right)p(\\tau|\\vec{\\theta})d\\tau \\\\\n",
    "&= -\\int g(\\tau)\\grad\\log\\left( p(s_0)\\prod_{t\\geq0} \\pi_{\\vec{\\theta}}(a_t|s_t)p(s_{t+1}|s_t,a_t) \\right)\n",
    "p(\\tau|\\vec{\\theta})d\\tau \\\\\n",
    "&= -\\int g(\\tau)\\grad\\left( \\log p(s_0) + \\sum_{t\\geq0} \\log \\pi_{\\vec{\\theta}}(a_t|s_t) + \n",
    "\\sum_{t\\geq0}\\log p(s_{t+1}|s_t,a_t) \\right) p(\\tau|\\vec{\\theta})d\\tau \\\\\n",
    "&= -\\int g(\\tau)\\sum_{t\\geq0} \\grad\\log \\pi_{\\vec{\\theta}}(a_t|s_t) p(\\tau|\\vec{\\theta})d\\tau \\\\\n",
    "&= \\E[\\tau]{-g(\\tau)\\sum_{t\\geq0} \\grad\\log \\pi_{\\vec{\\theta}}(a_t|s_t)}.\n",
    "\\end{align}\n",
    "$$"
   ]
  },
  {
   "cell_type": "markdown",
   "metadata": {},
   "source": [
    "This is the \"vanilla\" version of the policy gradient. We can interpret is as a weighted log-likelihood function.\n",
    "The log-policy is the log-likelihood term we wish to maximize and the total discounted reward acts as a weight: high-return positive\n",
    "trajectories will cause the probability of actions taken during them to increase, and negative-return trajectories will cause the\n",
    "probabilities of actions taken to decrease.\n",
    "\n",
    "In the following figures we see three trajectories: high-return positive-reward (green), low-return positive-reward (yellow) and negative-return (red) and the action probabilities along the trajectories after the update. Credit: Sergey Levine.\n",
    "\n",
    "|<strong></strong>||\n",
    "|-----| ----|\n",
    "|<img src=\"imgs/pg1.png\" height=\"200\">|<img src=\"imgs/pg2.png\" height=\"200\">|\n"
   ]
  },
  {
   "cell_type": "markdown",
   "metadata": {},
   "source": [
    "The major drawback of the policy-gradient is it's high variance, which causes erratic optimization behavior and therefore slow convergence.\n",
    "One reason for this is that the log-policy weight term, $g(\\tau)$ can vary wildly between different trajectories, even if they're similar in\n",
    "actions. Later on we'll implement the loss and explore some methods of variance reduction."
   ]
  },
  {
   "cell_type": "markdown",
   "metadata": {},
   "source": [
    "### Landing on the moon with policy gradients"
   ]
  },
  {
   "cell_type": "markdown",
   "metadata": {},
   "source": [
    "In the spirit of the recent achievements of the Israeli space industry,\n",
    "we'll apply our reinforcement learning skills to solve a simple game called **LunarLander**.\n",
    "\n",
    "This game is available as an `environment` in OpenAI `gym`.\n",
    "\n",
    "<video loop autoplay src=\"http://gym.openai.com/videos/2019-04-06--My9IiAbqha/LunarLander-v2/original.mp4\" />"
   ]
  },
  {
   "cell_type": "markdown",
   "metadata": {},
   "source": [
    "In this environment, you need to control the lander and get it to land safely on the moon.\n",
    "To do so, you must apply bottom, right or left thrusters (each are either fully on or fully off)\n",
    "and get it to land within the designated zone as quickly as possible and with minimal wasted fuel."
   ]
  },
  {
   "cell_type": "code",
   "execution_count": 79,
   "metadata": {
    "pycharm": {
     "is_executing": false
    }
   },
   "outputs": [],
   "source": [
    "import gym\n",
    "\n",
    "# Just for fun :) ... but also to re-define the default max number of steps\n",
    "ENV_NAME = 'Beresheet-v2'\n",
    "MAX_EPISODE_STEPS = 300\n",
    "if ENV_NAME not in gym.envs.registry.env_specs:\n",
    "    gym.register(\n",
    "        id=ENV_NAME,\n",
    "        entry_point='gym.envs.box2d:LunarLander',\n",
    "        max_episode_steps=MAX_EPISODE_STEPS,\n",
    "        reward_threshold=200,\n",
    "    )"
   ]
  },
  {
   "cell_type": "code",
   "execution_count": 80,
   "metadata": {
    "pycharm": {
     "is_executing": false
    }
   },
   "outputs": [
    {
     "name": "stdout",
     "output_type": "stream",
     "text": [
      "<TimeLimit<LunarLander<Beresheet-v2>>>\n",
      "observations space: Box(8,)\n",
      "action space: Discrete(4)\n"
     ]
    }
   ],
   "source": [
    "import gym\n",
    "\n",
    "env = gym.make(ENV_NAME)\n",
    "\n",
    "print(env)\n",
    "print(f'observations space: {env.observation_space}')\n",
    "print(f'action space: {env.action_space}')\n",
    "\n",
    "ENV_N_ACTIONS = env.action_space.n\n",
    "ENV_N_OBSERVATIONS = env.observation_space.shape[0]"
   ]
  },
  {
   "cell_type": "markdown",
   "metadata": {},
   "source": [
    "The observations at each step is the Lander's position, velocity, angle, angular velocity and ground contact state.\n",
    "The actions are no-op, fire left truster, bottom thruster and right thruster.\n",
    "\n",
    "You are **highly encouraged** to read the [documentation](https://github.com/openai/gym/blob/master/gym/envs/box2d/lunar_lander.py) in the source code of the `LunarLander` environment to understand the reward system,\n",
    "and see how the actions and observations are created."
   ]
  },
  {
   "cell_type": "markdown",
   "metadata": {},
   "source": [
    "### Policy network and Agent"
   ]
  },
  {
   "cell_type": "markdown",
   "metadata": {},
   "source": [
    "Let's start with our policy-model. This will be a simple neural net, which should take an observation and return a score for each possible action."
   ]
  },
  {
   "cell_type": "markdown",
   "metadata": {},
   "source": [
    "**TODO**:\n",
    "1. Implement all methods in the `PolicyNet` class in the `hw4/rl_pg.py` module.\n",
    "   Start small. A simple MLP with a few hidden layers is a good starting point. You can come back and change it later based on the the experiments. The we'll use the `build_for_env` method to instantiate a `PolicyNet` based on the configuration of a given environment.\n",
    "2. If you need hyperparameters to configure your model (e.g. number of hidden layers, sizes, etc.), add them in `part1_pg_hyperparams()` in `hw4/answers.py`."
   ]
  },
  {
   "cell_type": "code",
   "execution_count": 81,
   "metadata": {
    "pycharm": {
     "is_executing": false
    }
   },
   "outputs": [
    {
     "data": {
      "text/plain": [
       "PolicyNet(\n",
       "  (our_net): Sequential(\n",
       "    (0): Linear(in_features=8, out_features=4, bias=True)\n",
       "    (1): LogSoftmax()\n",
       "  )\n",
       ")"
      ]
     },
     "execution_count": 81,
     "metadata": {},
     "output_type": "execute_result"
    }
   ],
   "source": [
    "import hw4.rl_pg as hw4pg\n",
    "import hw4.answers\n",
    "\n",
    "hp = hw4.answers.part1_pg_hyperparams()\n",
    "\n",
    "# You can add keyword-args to this function which will be populated from the hyperparameters dict.\n",
    "p_net = hw4pg.PolicyNet.build_for_env(env, device, **hp)\n",
    "p_net"
   ]
  },
  {
   "cell_type": "markdown",
   "metadata": {},
   "source": [
    "Now we need an **agent**. The purpose of our agent will be to act according to the current policy and generate experiences.\n",
    "Our `PolicyAgent` will use a `PolicyNet` as the current policy function.\n",
    "\n",
    "\n",
    "We'll also define some extra datatypes to help us represent the data generated by our agent.\n",
    "You can find the `Experience`, `Episode` and `TrainBatch` datatypes in the `hw4/rl_data.py` module."
   ]
  },
  {
   "cell_type": "markdown",
   "metadata": {},
   "source": [
    "**TODO**: Implement the `current_action_distribution()` method of the `PolicyAgent` class in the `hw4/rl_pg.py` module."
   ]
  },
  {
   "cell_type": "code",
   "execution_count": 82,
   "metadata": {
    "pycharm": {
     "is_executing": false
    }
   },
   "outputs": [
    {
     "name": "stdout",
     "output_type": "stream",
     "text": [
      "tensor([0.1726, 0.4376, 0.1842, 0.2057])\n"
     ]
    }
   ],
   "source": [
    "for i in range (10):\n",
    "    agent = hw4pg.PolicyAgent(env, p_net, device)\n",
    "    d = agent.current_action_distribution()\n",
    "    test.assertSequenceEqual(d.shape, (env.action_space.n,))\n",
    "    test.assertAlmostEqual(d.sum(), 1.0, delta=1e-5)\n",
    "    \n",
    "print(d)"
   ]
  },
  {
   "cell_type": "markdown",
   "metadata": {},
   "source": [
    "**TODO**: Implement the `step()` method of the `PolicyAgent`."
   ]
  },
  {
   "cell_type": "code",
   "execution_count": 83,
   "metadata": {
    "pycharm": {
     "is_executing": false
    }
   },
   "outputs": [
    {
     "name": "stdout",
     "output_type": "stream",
     "text": [
      "Experience(state=array([-0.01531067,  1.4309325 , -0.76882166,  0.4318621 ,  0.01578546,\n",
      "        0.1373258 ,  0.        ,  0.        ], dtype=float32), action=3, reward=0.47546369801401167, is_done=False)\n"
     ]
    }
   ],
   "source": [
    "agent = hw4pg.PolicyAgent(env, p_net, device)\n",
    "exp = agent.step()\n",
    "\n",
    "test.assertIsInstance(exp, hw4pg.Experience)\n",
    "print(exp)"
   ]
  },
  {
   "cell_type": "markdown",
   "metadata": {},
   "source": [
    "To test our agent, we'll write some code that allows it to play an environment. We'll use the `Monitor`\n",
    "wrapper in `gym` to generate a video of the episode for visual debugging."
   ]
  },
  {
   "cell_type": "markdown",
   "metadata": {},
   "source": [
    "**TODO**: Complete the implementation of the `monitor_episode()` method of the `PolicyAgent`."
   ]
  },
  {
   "cell_type": "code",
   "execution_count": 84,
   "metadata": {
    "pycharm": {
     "is_executing": false
    }
   },
   "outputs": [],
   "source": [
    "env, n_steps, reward = agent.monitor_episode(ENV_NAME, p_net, device=device)"
   ]
  },
  {
   "cell_type": "markdown",
   "metadata": {},
   "source": [
    "To display the Monitor video in this notebook, we'll use a helper function from our `jupyter_utils` and a small wrapper that extracts the path of the last video file. "
   ]
  },
  {
   "cell_type": "code",
   "execution_count": 85,
   "metadata": {
    "pycharm": {
     "is_executing": false
    }
   },
   "outputs": [],
   "source": [
    "import cs236781.jupyter_utils as jupyter_utils\n",
    "\n",
    "def show_monitor_video(monitor_env, idx=0, **kw):\n",
    "    # Extract video path\n",
    "    video_path = monitor_env.videos[idx][0]\n",
    "    video_path = os.path.relpath(video_path, start=os.path.curdir)\n",
    "    \n",
    "    # Use helper function to embed the video\n",
    "    return jupyter_utils.show_video_in_notebook(video_path, **kw)"
   ]
  },
  {
   "cell_type": "code",
   "execution_count": 86,
   "metadata": {
    "pycharm": {
     "is_executing": false
    }
   },
   "outputs": [
    {
     "name": "stdout",
     "output_type": "stream",
     "text": [
      "Episode ran for 66 steps. Total reward: -97.27\n"
     ]
    },
    {
     "data": {
      "text/html": [
       "<video src=\"data:video/mp4;base64,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\" controls autoplay width=\"500\" height=\"auto\" />"
      ],
      "text/plain": [
       "<IPython.core.display.HTML object>"
      ]
     },
     "execution_count": 86,
     "metadata": {},
     "output_type": "execute_result"
    }
   ],
   "source": [
    "print(f'Episode ran for {n_steps} steps. Total reward: {reward:.2f}')\n",
    "\n",
    "show_monitor_video(env, -1)"
   ]
  },
  {
   "cell_type": "markdown",
   "metadata": {},
   "source": [
    "### Training data"
   ]
  },
  {
   "cell_type": "markdown",
   "metadata": {},
   "source": [
    "The next step is to create data to train on.\n",
    "We need to train on batches of state-action pairs, so that our network can learn to predict the actions.\n",
    "\n",
    "We'll split this task into three parts:\n",
    "1. Generate a batch of `Episode`s, by using an `Agent` that's playing according to our current policy network.\n",
    "   Each `Episode` object contains the `Experience` objects created by the agent.\n",
    "2. Calculate the total discounted reward for each state we encountered and action we took. This is our action-value estimate.\n",
    "3. Convert the `Episode`s into a batch of tensors to train on.\n",
    "   Each batch will contain states, action taken per state, reward accrued, and the calculated estimated state-values.\n",
    "   These will be stored in a `TrainBatch` object.\n"
   ]
  },
  {
   "cell_type": "markdown",
   "metadata": {},
   "source": [
    "**TODO**: Complete the implementation of the `episode_batch_generator()` method in the `TrainBatchDataset` class within the `hw4.rl_data` module. This will address part 1 in the list above."
   ]
  },
  {
   "cell_type": "code",
   "execution_count": 87,
   "metadata": {
    "pycharm": {
     "is_executing": true
    }
   },
   "outputs": [
    {
     "name": "stdout",
     "output_type": "stream",
     "text": [
      "First episode: Episode(total_reward=-432.87, #experences=84)\n"
     ]
    }
   ],
   "source": [
    "import hw4.rl_data as hw4data\n",
    "\n",
    "def agent_fn():\n",
    "    env = gym.make(ENV_NAME)\n",
    "    hp = hw4.answers.part1_pg_hyperparams()\n",
    "    p_net = hw4pg.PolicyNet.build_for_env(env, device, **hp)\n",
    "    return hw4pg.PolicyAgent(env, p_net, device)\n",
    "    \n",
    "ds = hw4data.TrainBatchDataset(agent_fn, episode_batch_size=8, gamma=0.9)\n",
    "batch_gen = ds.episode_batch_generator()\n",
    "b = next(batch_gen)\n",
    "print('First episode:', b[0])\n",
    "\n",
    "test.assertEqual(len(b), 8)\n",
    "for ep in b:\n",
    "    test.assertIsInstance(ep, hw4data.Episode)\n",
    "    \n",
    "    # Check that it's a full episode\n",
    "    is_done = [exp.is_done for exp in ep.experiences]\n",
    "    test.assertFalse(any(is_done[0:-1]))\n",
    "    test.assertTrue(is_done[-1])"
   ]
  },
  {
   "cell_type": "markdown",
   "metadata": {},
   "source": [
    "**TODO**: Complete the implementation of the `calc_qvals()` method in the `Episode` class.\n",
    "This will address part 2.\n",
    "These q-values are an estimate of the actual action value function: $$\\hat{q}_{t} = \\sum_{t'\\geq t} \\gamma^{t'-t}r_{t'+1}.$$"
   ]
  },
  {
   "cell_type": "code",
   "execution_count": 88,
   "metadata": {
    "pycharm": {
     "is_executing": false
    }
   },
   "outputs": [],
   "source": [
    "np.random.seed(SEED)\n",
    "test_rewards = np.random.randint(-10, 10, 100)\n",
    "test_experiences = [hw4pg.Experience(None,None,r,False) for r in test_rewards] \n",
    "test_episode = hw4data.Episode(np.sum(test_rewards), test_experiences)\n",
    "\n",
    "qvals = test_episode.calc_qvals(0.9)\n",
    "qvals = list(qvals)\n",
    "\n",
    "expected_qvals = np.load(os.path.join('tests', 'assets', 'part1_expected_qvals.npy'))\n",
    "for i in range(len(test_rewards)):\n",
    "    test.assertAlmostEqual(expected_qvals[i], qvals[i], delta=1e-3)"
   ]
  },
  {
   "cell_type": "markdown",
   "metadata": {},
   "source": [
    "**TODO**: Complete the implementation of the `from_episodes()` method in the `TrainBatch` class.\n",
    "This will address part 3.\n",
    "\n",
    "Notes:\n",
    "- The `TrainBatchDataset` class provides a generator function that will use the above function to lazily generate batches of training samples and labels on demand.\n",
    "- This allows us to use a standard `PyTorch` dataloader to wrap our Dataset and provide us with parallel data loading for free!\n",
    "  This means we can run multiple environments with multiple agents in separate background processes to generate data for training and thus prevent the data loading bottleneck which is caused by the fact that we must generate full Episodes to train on in order to calculate the q-values.\n",
    "- We'll set the `DataLoader`'s `batch_size` to `None` because we have already implemented custom batching in our dataset."
   ]
  },
  {
   "cell_type": "code",
   "execution_count": 89,
   "metadata": {
    "pycharm": {
     "is_executing": false
    }
   },
   "outputs": [
    {
     "name": "stdout",
     "output_type": "stream",
     "text": [
      "#0: TrainBatch(states: torch.Size([712, 8]), actions: torch.Size([712]), q_vals: torch.Size([712])), num_episodes: 712)\n",
      "#1: TrainBatch(states: torch.Size([689, 8]), actions: torch.Size([689]), q_vals: torch.Size([689])), num_episodes: 689)\n",
      "#2: TrainBatch(states: torch.Size([610, 8]), actions: torch.Size([610]), q_vals: torch.Size([610])), num_episodes: 610)\n",
      "#3: TrainBatch(states: torch.Size([679, 8]), actions: torch.Size([679]), q_vals: torch.Size([679])), num_episodes: 679)\n",
      "#4: TrainBatch(states: torch.Size([680, 8]), actions: torch.Size([680]), q_vals: torch.Size([680])), num_episodes: 680)\n",
      "#5: TrainBatch(states: torch.Size([613, 8]), actions: torch.Size([613]), q_vals: torch.Size([613])), num_episodes: 613)\n",
      "#6: TrainBatch(states: torch.Size([658, 8]), actions: torch.Size([658]), q_vals: torch.Size([658])), num_episodes: 658)\n"
     ]
    }
   ],
   "source": [
    "from torch.utils.data import DataLoader\n",
    "\n",
    "ds = hw4data.TrainBatchDataset(agent_fn, episode_batch_size=8, gamma=0.9)\n",
    "dl = DataLoader(ds, batch_size=None, num_workers=0) # Run multiple agents/env in separate worker process\n",
    "\n",
    "\n",
    "for i, train_batch in enumerate(dl):\n",
    "    states, actions, qvals, reward_mean = train_batch\n",
    "    print(f'#{i}: {train_batch}')\n",
    "    test.assertEqual(states.shape[0], actions.shape[0])\n",
    "    test.assertEqual(qvals.shape[0], actions.shape[0])\n",
    "    test.assertEqual(states.shape[1], env.observation_space.shape[0])\n",
    "    if i > 5:\n",
    "        break"
   ]
  },
  {
   "cell_type": "markdown",
   "metadata": {},
   "source": [
    "### Loss functions"
   ]
  },
  {
   "cell_type": "markdown",
   "metadata": {},
   "source": [
    "As usual, we need a loss function to optimize over.\n",
    "We'll calculate three types of losses:\n",
    "1. The causal vanilla policy gradient loss.\n",
    "1. The policy gradient loss, with a baseline to reduce variance.\n",
    "2. An entropy-based loss whos purpose is to diversify the agent's action selection,\n",
    "   and prevent it from being \"too sure\" about its actions.\n",
    "   This loss will be used together with one of the above losses."
   ]
  },
  {
   "cell_type": "markdown",
   "metadata": {},
   "source": [
    "#### Causal vanilla policy-gradient"
   ]
  },
  {
   "cell_type": "markdown",
   "metadata": {},
   "source": [
    "We have derived the policy-gradient as\n",
    "$$\n",
    "\\grad\\mathcal{L}(\\vec{\\theta}) = \\E[\\tau]{-g(\\tau)\\sum_{t\\geq0} \\grad\\log \\pi_{\\vec{\\theta}}(a_t|s_t)}.\n",
    "$$\n",
    "\n",
    "By writing the discounted reward explicitly and enforcing causality, i.e. the action taken at time $t$ can't affect\n",
    "the reward at time $t'<t$, we can get a slightly lower-variance version of the policy gradient:\n",
    "\n",
    "$$\n",
    "\\grad\\mathcal{L}_{\\text{PG}}(\\vec{\\theta}) = \n",
    "\\E[\\tau]{-\\sum_{t\\geq0} \\left(\\sum_{t'\\geq t} \\gamma^{t'}r_{t'+1} \\right)\\grad\\log \\pi_{\\vec{\\theta}}(a_t|s_t)}.\n",
    "$$"
   ]
  },
  {
   "cell_type": "markdown",
   "metadata": {},
   "source": [
    "In practice, the expectation over trajectories is calculated using a Monte-Carlo approach, i.e. simply sampling $N$\n",
    "trajectories and average the term inside the expectation. Therefore, we will use the following estimated version of the policy gradient:\n",
    "\n",
    "$$\n",
    "\\begin{align}\n",
    "\\hat\\grad\\mathcal{L}_{\\text{PG}}(\\vec{\\theta})\n",
    "&=-\\frac{1}{N}\\sum_{i=1}^{N}\\sum_{t\\geq0} \\left(\\sum_{t'\\geq t} \\gamma^{t'}r_{i,t'+1} \\right)\\grad\\log \\pi_{\\vec{\\theta}}(a_{i,t}|s_{i,t}) \\\\\n",
    "&=-\\frac{1}{N}\\sum_{i=1}^{N}\\sum_{t\\geq0} \\hat{q}_{i,t} \\grad\\log \\pi_{\\vec{\\theta}}(a_{i,t}|s_{i,t}).\n",
    "\\end{align}\n",
    "$$\n",
    "\n",
    "Note the use of the notation $\\hat{q}_{i,t}$ to represent the estimated action-value at time $t$ in the sampled trajectory $i$.\n",
    "Here $\\hat{q}_{i,t}$ is acting as the weight-term for the policy gradient."
   ]
  },
  {
   "cell_type": "markdown",
   "metadata": {},
   "source": [
    "**TODO**: Complete the implementation of the `VanillaPolicyGradientLoss` class in the `hw4/rl_pg.py` module."
   ]
  },
  {
   "cell_type": "code",
   "execution_count": 90,
   "metadata": {
    "pycharm": {
     "is_executing": false
    }
   },
   "outputs": [
    {
     "name": "stdout",
     "output_type": "stream",
     "text": [
      "loss = tensor(-35.5355)\n"
     ]
    }
   ],
   "source": [
    "# Ensure deterministic run\n",
    "env = gym.make(ENV_NAME)\n",
    "env.seed(SEED)\n",
    "torch.manual_seed(SEED)\n",
    "\n",
    "def agent_fn():\n",
    "    # Use a simple \"network\" here, so that this test doesn't depend on your specific PolicyNet implementation\n",
    "    p_net_test = nn.Linear(8, 4)\n",
    "    agent = hw4pg.PolicyAgent(env, p_net_test)\n",
    "    return agent\n",
    "\n",
    "dataloader = hw4data.TrainBatchDataset(agent_fn, gamma=0.9, episode_batch_size=4)\n",
    "\n",
    "test_batch = next(iter(dataloader))\n",
    "test_action_scores = torch.randn(len(test_batch), env.action_space.n)\n",
    "\n",
    "loss_fn_p = hw4pg.VanillaPolicyGradientLoss()\n",
    "loss_p, _ = loss_fn_p(test_batch, test_action_scores)\n",
    "\n",
    "print('loss =', loss_p)\n",
    "test.assertAlmostEqual(loss_p.item(), -35.535522, delta=1e-3)"
   ]
  },
  {
   "cell_type": "markdown",
   "metadata": {},
   "source": [
    "#### Policy-gradient with baseline"
   ]
  },
  {
   "cell_type": "markdown",
   "metadata": {},
   "source": [
    "Another way to reduce the variance of our gradient is to use relative weighting of the log-policy instead of absolute reward values.\n",
    "$$\n",
    "\\hat\\grad\\mathcal{L}_{\\text{BPG}}(\\vec{\\theta})\n",
    "=-\\frac{1}{N}\\sum_{i=1}^{N}\\sum_{t\\geq0} \\left(\\hat{q}_{i,t}-b\\right) \\grad\\log \\pi_{\\vec{\\theta}}(a_{i,t}|s_{i,t}).\n",
    "$$\n",
    "In other words, we don't measure a trajectory's worth by it's total reward, but by how much better that total reward is relative to some\n",
    "expected (\"baseline\") reward value, denoted above by $b$.\n",
    "Note that subtracting a baseline has no effect on the expected value of the policy gradient. It's easy to prove this directly by definition.\n",
    "\n",
    "Here we'll implement a very simple baseline (not optimal in terms of variance reduction): the average of the estimated state-values $\\hat{q}_{i,t}$."
   ]
  },
  {
   "cell_type": "markdown",
   "metadata": {},
   "source": [
    "**TODO**: Complete the implementation of the `BaselinePolicyGradientLoss` class in the `hw4/rl_pg.py` module."
   ]
  },
  {
   "cell_type": "code",
   "execution_count": 91,
   "metadata": {
    "pycharm": {
     "is_executing": false
    }
   },
   "outputs": [
    {
     "name": "stdout",
     "output_type": "stream",
     "text": [
      "loss = tensor(-2.4665)\n"
     ]
    }
   ],
   "source": [
    "# Using the same batch and action_scores from above cell\n",
    "loss_fn_p = hw4pg.BaselinePolicyGradientLoss()\n",
    "loss_p, _ = loss_fn_p(test_batch, test_action_scores)\n",
    "\n",
    "print('loss =', loss_p)\n",
    "test.assertAlmostEqual(loss_p.item(), -2.4665009, delta=1e-3)"
   ]
  },
  {
   "cell_type": "markdown",
   "metadata": {},
   "source": [
    "#### Entropy loss"
   ]
  },
  {
   "cell_type": "markdown",
   "metadata": {},
   "source": [
    "The entropy of a probability distribution (in our case the policy), is\n",
    "$$\n",
    "H(\\pi) = -\\sum_{a} \\pi(a|s)\\log\\pi(a|s).\n",
    "$$\n",
    "The entropy is always positive and obtains it's maximum for a uniform distribution.\n",
    "We'll use the entropy of the policy as a bonus, i.e. we'll try to maximize it.\n",
    "The idea is the prevent the policy distribution from becoming too narrow and thus promote the agent's exploration."
   ]
  },
  {
   "cell_type": "markdown",
   "metadata": {},
   "source": [
    "First, we'll calculate the maximal possible entropy value of the action distribution for a set number of possible actions.\n",
    "This will be used as a normalization term.\n",
    "\n",
    "**TODO**: Complete the implementation of the `calc_max_entropy()` method in the `ActionEntropyLoss` class."
   ]
  },
  {
   "cell_type": "code",
   "execution_count": 92,
   "metadata": {
    "pycharm": {
     "is_executing": false
    }
   },
   "outputs": [
    {
     "name": "stdout",
     "output_type": "stream",
     "text": [
      "max_entropy =  tensor([1.3863])\n"
     ]
    }
   ],
   "source": [
    "loss_fn_e = hw4pg.ActionEntropyLoss(env.action_space.n)\n",
    "print('max_entropy = ', loss_fn_e.max_entropy)\n",
    "\n",
    "test.assertAlmostEqual(loss_fn_e.max_entropy, 1.38629436, delta=1e-3)"
   ]
  },
  {
   "cell_type": "markdown",
   "metadata": {},
   "source": [
    "**TODO**: Complete the implementation of the `forward()` method in the `ActionEntropyLoss` class."
   ]
  },
  {
   "cell_type": "code",
   "execution_count": 93,
   "metadata": {
    "pycharm": {
     "is_executing": false
    }
   },
   "outputs": [
    {
     "name": "stdout",
     "output_type": "stream",
     "text": [
      "loss =  tensor(-0.7927)\n"
     ]
    }
   ],
   "source": [
    "loss_e, _ = loss_fn_e(test_batch, test_action_scores)\n",
    "print('loss = ', loss_e)\n",
    "\n",
    "test.assertAlmostEqual(loss_e.item(), -0.7927002, delta=1e-3)"
   ]
  },
  {
   "cell_type": "markdown",
   "metadata": {},
   "source": [
    "### Training"
   ]
  },
  {
   "cell_type": "markdown",
   "metadata": {},
   "source": [
    "We'll implement our training procedure as follows:\n",
    "\n",
    "1. Initialize the current policy to be a random policy.\n",
    "1. Sample $N$ trajectories from the environment using the current policy.\n",
    "2. Calculate the estimated $q$-values, $\\hat{q}_{i,t} = \\sum_{t'\\geq t} \\gamma^{t'}r_{i,t'+1}$ for each trajectory $i$.\n",
    "3. Calculate policy gradient estimate $\\hat\\grad\\mathcal{L}(\\vec{\\theta})$ as defined above.\n",
    "4. Perform SGD update $\\vec{\\theta}\\leftarrow\\vec{\\theta}-\\eta\\hat\\grad\\mathcal{L}(\\vec{\\theta})$.\n",
    "5. Repeat from step 2.\n",
    "\n",
    "This is known as the **REINFORCE** algorithm."
   ]
  },
  {
   "cell_type": "markdown",
   "metadata": {},
   "source": [
    "Fortunately, we've already implemented everything we need for steps 1-4 so we need only a bit more code to put it all together.\n",
    "\n",
    "The following block implements a wrapper, `train_pg` to create all the objects we need in order to train our policy gradient model.\n"
   ]
  },
  {
   "cell_type": "code",
   "execution_count": 94,
   "metadata": {
    "pycharm": {
     "is_executing": false
    }
   },
   "outputs": [],
   "source": [
    "import hw4.answers\n",
    "from functools import partial\n",
    "\n",
    "ENV_NAME = \"Beresheet-v2\"\n",
    "\n",
    "def agent_fn_train(agent_type, p_net, seed, envs_dict):\n",
    "    winfo = torch.utils.data.get_worker_info()\n",
    "    wid = winfo.id if winfo else 0\n",
    "    seed = seed + wid if seed else wid\n",
    "\n",
    "    env = gym.make(ENV_NAME)\n",
    "    envs_dict[wid] = env\n",
    "    env.seed(seed)\n",
    "    np.random.seed(seed)\n",
    "    torch.manual_seed(seed)\n",
    "\n",
    "    return agent_type(env, p_net)\n",
    "\n",
    "def train_rl(agent_type, net_type, loss_fns, hp, seed=None, checkpoints_file=None, **train_kw):\n",
    "    print(f'hyperparams: {hp}')\n",
    "    \n",
    "    envs = {}\n",
    "    p_net = net_type(ENV_N_OBSERVATIONS, ENV_N_ACTIONS, **hp)\n",
    "    p_net.share_memory()\n",
    "    agent_fn = partial(agent_fn_train, agent_type, p_net, seed, envs)\n",
    "    \n",
    "    dataset = hw4data.TrainBatchDataset(agent_fn, hp['batch_size'], hp['gamma'])\n",
    "    dataloader = DataLoader(dataset, batch_size=None, num_workers=0)\n",
    "    optimizer = optim.Adam(p_net.parameters(), lr=hp['learn_rate'], eps=hp['eps'])\n",
    "    \n",
    "    trainer = hw4pg.PolicyTrainer(p_net, optimizer, loss_fns, dataloader, checkpoints_file)\n",
    "    try:\n",
    "        trainer.train(**train_kw)\n",
    "    except KeyboardInterrupt as e:\n",
    "        print('Training interrupted by user.')\n",
    "    finally:\n",
    "        for env in envs.values():\n",
    "            env.close()\n",
    "\n",
    "    # Include final model state\n",
    "    training_data = trainer.training_data\n",
    "    training_data['model_state'] = p_net.state_dict()\n",
    "    return training_data\n",
    "    \n",
    "def train_pg(baseline=False, entropy=False, **train_kwargs):\n",
    "    hp = hw4.answers.part1_pg_hyperparams()\n",
    "    \n",
    "    loss_fns = []\n",
    "    if baseline:\n",
    "        loss_fns.append(hw4pg.BaselinePolicyGradientLoss())\n",
    "    else:\n",
    "        loss_fns.append(hw4pg.VanillaPolicyGradientLoss())\n",
    "    if entropy:\n",
    "        loss_fns.append(hw4pg.ActionEntropyLoss(ENV_N_ACTIONS, hp['beta']))\n",
    "\n",
    "    return train_rl(hw4pg.PolicyAgent, hw4pg.PolicyNet, loss_fns, hp, **train_kwargs)"
   ]
  },
  {
   "cell_type": "markdown",
   "metadata": {},
   "source": [
    "The `PolicyTrainer` class implements the training loop, collects the losses and rewards and provides some useful checkpointing functionality.\n",
    "The training loop will generate batches of episodes and train on them until either:\n",
    "- The average total reward from the last `running_mean_len` episodes is greater than the `target_reward`, OR\n",
    "- The number of generated episodes reached `max_episodes`.\n",
    "\n",
    "Most of this class is already implemented for you. "
   ]
  },
  {
   "cell_type": "markdown",
   "metadata": {},
   "source": [
    "**TODO**:\n",
    "1. Complete the training loop by implementing the `train_batch()` method of the `PolicyTrainer`.\n",
    "2. Tweak the hyperparameters in the `part1_pg_hyperparams()` function within the `hw4/answers.py` module as needed. You get some sane defaults."
   ]
  },
  {
   "cell_type": "markdown",
   "metadata": {},
   "source": [
    "Let's check whether our model is actually training.\n",
    "We'll try to reach a very low (bad) target reward, just as a sanity check to see that training works.\n",
    "Your model should be able to reach this target reward within a few batches.\n",
    "\n",
    "You can increase the target reward and use this block to manually tweak your model and hyperparameters a few times."
   ]
  },
  {
   "cell_type": "code",
   "execution_count": 65,
   "metadata": {
    "pycharm": {
     "is_executing": false
    }
   },
   "outputs": [
    {
     "name": "stdout",
     "text": [
      "hyperparams: {'batch_size': 32, 'gamma': 0.99, 'beta': 0.5, 'learn_rate': 0.001, 'eps': 1e-08}\n",
      "=== Training...\n",
      "  0%|          | 0/2000 [09:48<?, ?it/s]\n",
      "Training interrupted by user.\n"
     ],
     "output_type": "stream"
    },
    {
     "name": "stderr",
     "text": [
      "C:\\Users\\User\\Anaconda3\\envs\\cs236781-hw\\lib\\site-packages\\torch\\nn\\modules\\container.py:92: UserWarning: Implicit dimension choice for log_softmax has been deprecated. Change the call to include dim=X as an argument.\n",
      "  input = module(input)\n"
     ],
     "output_type": "stream"
    },
    {
     "traceback": [
      "\u001b[1;31m---------------------------------------------------------------------------\u001b[0m",
      "\u001b[1;31mKeyError\u001b[0m                                  Traceback (most recent call last)",
      "\u001b[1;32m<ipython-input-65-db82704df0be>\u001b[0m in \u001b[0;36m<module>\u001b[1;34m\u001b[0m\n\u001b[0;32m      3\u001b[0m \u001b[0mtrain_data\u001b[0m \u001b[1;33m=\u001b[0m \u001b[0mtrain_pg\u001b[0m\u001b[1;33m(\u001b[0m\u001b[0mtarget_reward\u001b[0m\u001b[1;33m=\u001b[0m\u001b[0mtarget_reward\u001b[0m\u001b[1;33m,\u001b[0m \u001b[0mseed\u001b[0m\u001b[1;33m=\u001b[0m\u001b[0mSEED\u001b[0m\u001b[1;33m,\u001b[0m \u001b[0mmax_episodes\u001b[0m\u001b[1;33m=\u001b[0m\u001b[1;36m2000\u001b[0m\u001b[1;33m,\u001b[0m \u001b[0mrunning_mean_len\u001b[0m\u001b[1;33m=\u001b[0m\u001b[1;36m10\u001b[0m\u001b[1;33m)\u001b[0m\u001b[1;33m\u001b[0m\u001b[1;33m\u001b[0m\u001b[0m\n\u001b[0;32m      4\u001b[0m \u001b[1;33m\u001b[0m\u001b[0m\n\u001b[1;32m----> 5\u001b[1;33m \u001b[0mtest\u001b[0m\u001b[1;33m.\u001b[0m\u001b[0massertGreater\u001b[0m\u001b[1;33m(\u001b[0m\u001b[0mtrain_data\u001b[0m\u001b[1;33m[\u001b[0m\u001b[1;34m'mean_reward'\u001b[0m\u001b[1;33m]\u001b[0m\u001b[1;33m[\u001b[0m\u001b[1;33m-\u001b[0m\u001b[1;36m1\u001b[0m\u001b[1;33m]\u001b[0m\u001b[1;33m,\u001b[0m \u001b[0mtarget_reward\u001b[0m\u001b[1;33m)\u001b[0m\u001b[1;33m\u001b[0m\u001b[1;33m\u001b[0m\u001b[0m\n\u001b[0m\u001b[0;32m      6\u001b[0m \u001b[1;33m\u001b[0m\u001b[0m\n",
      "\u001b[1;31mKeyError\u001b[0m: 'mean_reward'"
     ],
     "ename": "KeyError",
     "evalue": "'mean_reward'",
     "output_type": "error"
    }
   ],
   "source": [
    "target_reward = -150 # VERY LOW target\n",
    "train_data = train_pg(target_reward=target_reward, seed=SEED, max_episodes=2000, running_mean_len=10)\n",
    "\n",
    "test.assertGreater(train_data['mean_reward'][-1], target_reward)"
   ]
  },
  {
   "cell_type": "markdown",
   "metadata": {},
   "source": [
    "### Experimenting with different losses"
   ]
  },
  {
   "cell_type": "markdown",
   "metadata": {},
   "source": [
    "We'll now run a few experiments to see the effect of diferent loss functions on the training dynamics. Namely, we'll try:\n",
    "1. Vanilla PG (`vpg`): No baseline, no entropy\n",
    "2. Baseline PG (`bpg`): Baseline, no entropy loss\n",
    "3. Entropy PG (`epg`): No baseline, with entropy loss\n",
    "3. Combined PG (`cpg`): Baseline, with entropy loss"
   ]
  },
  {
   "cell_type": "code",
   "execution_count": null,
   "metadata": {
    "pycharm": {
     "is_executing": false
    }
   },
   "outputs": [],
   "source": [
    "from collections import namedtuple\n",
    "from pprint import pprint\n",
    "import itertools as it\n",
    "\n",
    "\n",
    "ExpConfig = namedtuple('ExpConfig', ('name','baseline','entropy'))\n",
    "\n",
    "def exp_configs():\n",
    "    exp_names = ('vpg', 'epg', 'bpg', 'cpg')\n",
    "    z = zip(exp_names, it.product((False, True), (False, True)))\n",
    "    return (ExpConfig(n, b, e) for (n, (b, e)) in z)\n",
    "\n",
    "pprint(list(exp_configs()))"
   ]
  },
  {
   "cell_type": "markdown",
   "metadata": {},
   "source": [
    "We'll save the training data from each experiment for plotting."
   ]
  },
  {
   "cell_type": "code",
   "execution_count": null,
   "metadata": {
    "pycharm": {
     "is_executing": false
    }
   },
   "outputs": [],
   "source": [
    "import pickle\n",
    "\n",
    "def dump_training_data(data, filename):\n",
    "    os.makedirs(os.path.dirname(filename), exist_ok=True)\n",
    "    with open(filename, mode='wb') as file:\n",
    "        pickle.dump(data, file)\n",
    "        \n",
    "def load_training_data(filename):\n",
    "    with open(filename, mode='rb') as file:\n",
    "        return pickle.load(file)"
   ]
  },
  {
   "cell_type": "markdown",
   "metadata": {},
   "source": [
    "Let's run the experiments! We'll run each configuration for a fixed number of episodes so that we can compare them.\n",
    "\n",
    "Notes:\n",
    "1. Until your models start working, you can decrease the number of episodes for each experiment, or only run one experiment.\n",
    "2.  The results will be saved in a file. To re-run the experiments, you can set `force_run` to `True`."
   ]
  },
  {
   "cell_type": "code",
   "execution_count": null,
   "metadata": {
    "pycharm": {
     "is_executing": false
    }
   },
   "outputs": [],
   "source": [
    "import math\n",
    "\n",
    "exp_max_episodes = 4000\n",
    "\n",
    "results = {}\n",
    "training_data_filename = os.path.join('results', f'part1_exp.dat')\n",
    "\n",
    "# Set to True to force re-run (careful, will delete old experiment results)\n",
    "force_run = False\n",
    "\n",
    "# Skip running if results file exists.\n",
    "if os.path.isfile(training_data_filename) and not force_run:\n",
    "    print(f'=== results file {training_data_filename} exists, skipping experiments.')\n",
    "    results = load_training_data(training_data_filename)\n",
    "    \n",
    "else:\n",
    "    for n, b, e in exp_configs():\n",
    "        print(f'=== Experiment {n}')\n",
    "        results[n] = train_pg(baseline=b, entropy=e, max_episodes=exp_max_episodes, post_batch_fn=None)\n",
    "        \n",
    "    dump_training_data(results, training_data_filename)"
   ]
  },
  {
   "cell_type": "code",
   "execution_count": null,
   "metadata": {
    "pycharm": {
     "is_executing": false
    }
   },
   "outputs": [],
   "source": [
    "def plot_experiment_results(results, fig=None):\n",
    "    if fig is None:\n",
    "        fig, _ = plt.subplots(nrows=2, ncols=2, sharex=True, figsize=(18,12))\n",
    "    for i, plot_type in enumerate(('loss_p', 'baseline', 'loss_e', 'mean_reward')):\n",
    "        ax = fig.axes[i]\n",
    "        for exp_name, exp_res in results.items():\n",
    "            if plot_type not in exp_res:\n",
    "                continue\n",
    "            ax.plot(exp_res['episode_num'], exp_res[plot_type], label=exp_name)\n",
    "        ax.set_title(plot_type)\n",
    "        ax.set_xlabel('episode')\n",
    "        ax.legend()\n",
    "    return fig\n",
    "    \n",
    "experiments_results_fig = plot_experiment_results(results)"
   ]
  },
  {
   "cell_type": "markdown",
   "metadata": {},
   "source": [
    "You should see positive training dynamics in the graphs (reward going up).\n",
    "If you don't, use them to further update your model or hyperparams.\n",
    "\n",
    "To pass the test, you'll need to get a best total mean reward of at least 10 in the fixed number of epochs using the combined loss.\n",
    "It's possible to get much higher (over 100)."
   ]
  },
  {
   "cell_type": "code",
   "execution_count": null,
   "metadata": {
    "pycharm": {
     "is_executing": false
    }
   },
   "outputs": [],
   "source": [
    "best_cpg_mean_reward = max(results['cpg']['mean_reward'])\n",
    "print(f'Best CPG mean reward: {best_cpg_mean_reward:.2f}')\n",
    "\n",
    "test.assertGreater(best_cpg_mean_reward, 10)"
   ]
  },
  {
   "cell_type": "markdown",
   "metadata": {},
   "source": [
    "Now let's take a look at a gameplay video of our `cpg` model after the short training!"
   ]
  },
  {
   "cell_type": "code",
   "execution_count": null,
   "metadata": {
    "pycharm": {
     "is_executing": false
    }
   },
   "outputs": [],
   "source": [
    "hp = hw4.answers.part1_pg_hyperparams()\n",
    "p_net_cpg = hw4pg.PolicyNet.build_for_env(env, **hp)\n",
    "p_net_cpg.load_state_dict(results['cpg']['model_state'])\n",
    "\n",
    "env, n_steps, reward = hw4pg.PolicyAgent.monitor_episode(ENV_NAME, p_net_cpg)\n",
    "print(f'{n_steps} steps, total reward: {reward:.2f}')\n",
    "show_monitor_video(env)"
   ]
  },
  {
   "cell_type": "markdown",
   "metadata": {},
   "source": [
    "## Advantage Actor-Critic (AAC)\n",
    "<a id=part1_2></a>"
   ]
  },
  {
   "cell_type": "markdown",
   "metadata": {},
   "source": [
    "We have seen that the policy-gradient loss can be interpreted as a log-likelihood of the policy term\n",
    "(selecting a specific action at a specific state), weighted by the future rewards of that choice of action.\n",
    "\n",
    "However, naïvely weighting by rewards has significant drawbacks in terms of the variance of the resulting gradient.\n",
    "We addressed this by adding a simple baseline term which represented our \"expected reward\" so that we increase probability of actions\n",
    "leading to trajectories which exceed this expectation and vice-versa.\n",
    "\n",
    "In this part we'll explore a more powerful baseline, which is the idea behind the AAC method."
   ]
  },
  {
   "cell_type": "markdown",
   "metadata": {},
   "source": [
    "### The advantage function"
   ]
  },
  {
   "cell_type": "markdown",
   "metadata": {},
   "source": [
    "Recall the definition of the state-value function $v_{\\pi}(s)$ and action-value function $q_{\\pi}(s,a)$:\n",
    "\n",
    "$$\n",
    "\\begin{align}\n",
    "v_{\\pi}(s) &= \\E{g(\\tau)|s_0 = s,\\pi} \\\\\n",
    "q_{\\pi}(s,a) &= \\E{g(\\tau)|s_0 = s,a_0=a,\\pi}.\n",
    "\\end{align}\n",
    "$$\n",
    "\n",
    "Both these functions represent the value of the state $s$. However, $v_\\pi$ averages over the first action according to the policy,\n",
    "while $q_\\pi$ fixes the first action and then continues according to the policy."
   ]
  },
  {
   "cell_type": "markdown",
   "metadata": {},
   "source": [
    "Their difference is known as the **advantage function**:\n",
    "$$\n",
    "a_\\pi(s,a) = q_\\pi(s,a)-v_\\pi(s).\n",
    "$$\n",
    "\n",
    "If $a_\\pi(s,a)>0$ it means that it's better (in expectation) to take action $a$ in state $s$ compared to the average action.\n",
    "In other words, $a_\\pi(s,a)$ represents the *advantage* of using action $a$ in state $s$ compared to the others."
   ]
  },
  {
   "cell_type": "markdown",
   "metadata": {},
   "source": [
    "So far we have used an estimate for $q_\\pi$ as our weighting term for the log-policy, with a fixed baseline per batch.\n",
    "\n",
    "$$\n",
    "\\hat\\grad\\mathcal{L}_{\\text{BPG}}(\\vec{\\theta})\n",
    "=-\\frac{1}{N}\\sum_{i=1}^{N}\\sum_{t\\geq0} \\left(\\hat{q}_{i,t}-b\\right) \\grad\\log \\pi_{\\vec{\\theta}}(a_{i,t}|s_{i,t}).\n",
    "$$\n"
   ]
  },
  {
   "cell_type": "markdown",
   "metadata": {},
   "source": [
    "Now, we will use the state value as a baseline, so that an estimate of the advantage function is our weighting term:\n",
    "\n",
    "$$\n",
    "\\hat\\grad\\mathcal{L}_{\\text{AAC}}(\\vec{\\theta})\n",
    "=-\\frac{1}{N}\\sum_{i=1}^{N}\\sum_{t\\geq0} \\left(\\hat{q}_{i,t}-v_\\pi(s_t)\\right) \\grad\\log \\pi_{\\vec{\\theta}}(a_{i,t}|s_{i,t}).\n",
    "$$\n",
    "\n",
    "Intuitively, using the advantage function makes sense because it means we're weighting our policy's actions according to\n",
    "how advantageous they are compared to other possible actions."
   ]
  },
  {
   "cell_type": "markdown",
   "metadata": {},
   "source": [
    "But how will we know $v_\\pi(s)$? We'll learn it of course, using another neural network.\n",
    "This is known as actor-critic learning. We simultaneously learn the policy (actor) and the value of states (critic).\n",
    "We'll treat it as a regression task: given a state $s_t$, our state-value network will output $\\hat{v}_\\pi(s_t)$,\n",
    "an estimate of the actual unknown state-value.\n",
    "Our regression targets will be the discounted rewards, $\\hat{q}_{i,t}$ (see question 2),\n",
    "and we can use a simple MSE as the loss function,\n",
    "$$\n",
    "\\mathcal{L}_{\\text{SV}} = \\frac{1}{N}\\sum_{i=1}^{N}\\sum_{t\\geq0}\\left(\\hat{v}_\\pi(s_t) - \\hat{q}_{i,t}\\right)^2.\n",
    "$$\n"
   ]
  },
  {
   "cell_type": "markdown",
   "metadata": {},
   "source": [
    "### Implementation"
   ]
  },
  {
   "cell_type": "markdown",
   "metadata": {},
   "source": [
    "We'll build heavily on our implementation of the regular policy-gradient method, and just add a new model class and a new loss class, with a small modification to the agent."
   ]
  },
  {
   "cell_type": "markdown",
   "metadata": {},
   "source": [
    "Let's start with the model. It will accept a state, and return action scores (as before), but also the value of that state.\n",
    "You can experiment with a dual-head network that has a shared base, or implement two separate parts within the network.\n",
    "\n",
    "**TODO**:\n",
    "1. Implement the model as the `AACPolicyNet` class in the `hw4/rl_ac.py` module.\n",
    "1. Set the hyperparameters in the `part1_aac_hyperparams()` function of the `hw4.answers` module."
   ]
  },
  {
   "cell_type": "code",
   "execution_count": null,
   "metadata": {
    "pycharm": {
     "is_executing": false
    }
   },
   "outputs": [],
   "source": [
    "import hw4.rl_ac as hw4ac\n",
    "\n",
    "hp = hw4.answers.part1_aac_hyperparams()\n",
    "pv_net = hw4ac.AACPolicyNet.build_for_env(env, device, **hp)\n",
    "pv_net"
   ]
  },
  {
   "cell_type": "markdown",
   "metadata": {},
   "source": [
    "**TODO**: Complete the implementation of the agent class, `AACPolicyAgent`, in the `hw4/rl_ac.py` module."
   ]
  },
  {
   "cell_type": "code",
   "execution_count": null,
   "metadata": {
    "pycharm": {
     "is_executing": false
    }
   },
   "outputs": [],
   "source": [
    "agent = hw4ac.AACPolicyAgent(env, pv_net, device)\n",
    "exp = agent.step()\n",
    "\n",
    "test.assertIsInstance(exp, hw4pg.Experience)\n",
    "print(exp)"
   ]
  },
  {
   "cell_type": "markdown",
   "metadata": {},
   "source": [
    "**TODO**: Implement the AAC loss function as the class `AACPolicyGradientLoss` in the `hw4/rl_ac.py` module."
   ]
  },
  {
   "cell_type": "code",
   "execution_count": null,
   "metadata": {
    "pycharm": {
     "is_executing": false
    }
   },
   "outputs": [],
   "source": [
    "loss_fn_aac = hw4ac.AACPolicyGradientLoss(delta=1.)\n",
    "test_state_values = torch.ones(test_action_scores.shape[0], 1)\n",
    "loss_t, _ = loss_fn_aac(test_batch, (test_action_scores, test_state_values))\n",
    "\n",
    "print('loss_t =', loss_t)\n",
    "test.assertAlmostEqual(loss_t.item(), 975.230895, delta=1e-3)"
   ]
  },
  {
   "cell_type": "markdown",
   "metadata": {},
   "source": [
    "### Experimentation"
   ]
  },
  {
   "cell_type": "markdown",
   "metadata": {},
   "source": [
    "Let's run the same experiment as before, but with the AAC method and compare the results."
   ]
  },
  {
   "cell_type": "code",
   "execution_count": null,
   "metadata": {
    "pycharm": {
     "is_executing": false
    }
   },
   "outputs": [],
   "source": [
    "def train_aac(baseline=False, entropy=False, **train_kwargs):\n",
    "    hp = hw4.answers.part1_aac_hyperparams()\n",
    "    loss_fns = [hw4ac.AACPolicyGradientLoss(hp['delta']), hw4pg.ActionEntropyLoss(ENV_N_ACTIONS, hp['beta'])]\n",
    "    return train_rl(hw4ac.AACPolicyAgent, hw4ac.AACPolicyNet, loss_fns, hp, **train_kwargs)"
   ]
  },
  {
   "cell_type": "code",
   "execution_count": null,
   "metadata": {
    "pycharm": {
     "is_executing": false
    }
   },
   "outputs": [],
   "source": [
    "training_data_filename = os.path.join('results', f'part1_exp_aac.dat')\n",
    "\n",
    "# Set to True to force re-run (careful, will delete old experiment results)\n",
    "force_run = False\n",
    "\n",
    "if os.path.isfile(training_data_filename) and not force_run:\n",
    "    print(f'=== results file {training_data_filename} exists, skipping experiments.')\n",
    "    results_aac = load_training_data(training_data_filename)\n",
    "    \n",
    "else:\n",
    "    print(f'=== Running AAC experiment')\n",
    "    training_data = train_aac(max_episodes=exp_max_episodes)\n",
    "    results_aac = dict(aac=training_data)\n",
    "    dump_training_data(results_aac, training_data_filename)"
   ]
  },
  {
   "cell_type": "code",
   "execution_count": null,
   "metadata": {
    "pycharm": {
     "is_executing": false
    }
   },
   "outputs": [],
   "source": [
    "experiments_results_fig = plot_experiment_results(results)\n",
    "plot_experiment_results(results_aac, fig=experiments_results_fig);"
   ]
  },
  {
   "cell_type": "markdown",
   "metadata": {},
   "source": [
    "You should get better results with the AAC method, so this time the bar is higher (again, you should aim for a mean reward of 100+).\n",
    "Compare the graphs with combined PG method and see if they make sense."
   ]
  },
  {
   "cell_type": "code",
   "execution_count": null,
   "metadata": {
    "pycharm": {
     "is_executing": false
    }
   },
   "outputs": [],
   "source": [
    "best_aac_mean_reward = max(results_aac['aac']['mean_reward'])\n",
    "print(f'Best AAC mean reward: {best_aac_mean_reward:.2f}')\n",
    "\n",
    "test.assertGreater(best_aac_mean_reward, 50)"
   ]
  },
  {
   "cell_type": "markdown",
   "metadata": {},
   "source": [
    "### Final model training and visualization"
   ]
  },
  {
   "cell_type": "markdown",
   "metadata": {},
   "source": [
    "Now, using your best model and hyperparams, let's train model for much longer and see the performance.\n",
    "Just for fun, we'll also visualize an episode every now and then so that we can see how well the agent is playing."
   ]
  },
  {
   "cell_type": "markdown",
   "metadata": {},
   "source": [
    "**TODO**:\n",
    "- Run the following block to train.\n",
    "- Tweak model or hyperparams as necessary.\n",
    "- Aim for high mean reward, at least 150+. It's possible to get over 200.\n",
    "- When training is done and you're satisfied with the model's outputs, rename the checkpoint file by adding `_final` to the file name.\n",
    "  This will cause the block to skip training and instead load your saved model when running the homework submission script.\n",
    "  Note that your submission zip file will not include the checkpoint file. This is OK."
   ]
  },
  {
   "cell_type": "code",
   "execution_count": null,
   "metadata": {
    "pycharm": {
     "is_executing": false
    }
   },
   "outputs": [],
   "source": [
    "import IPython.display\n",
    "\n",
    "CHECKPOINTS_FILE = f'checkpoints/{ENV_NAME}-ac.dat'\n",
    "CHECKPOINTS_FILE_FINAL = f'checkpoints/{ENV_NAME}-ac_final.dat'\n",
    "TARGET_REWARD = 125\n",
    "MAX_EPISODES = 15_000\n",
    "\n",
    "def post_batch_fn(batch_idx, p_net, batch, print_every=20, final=False):\n",
    "    if not final and batch_idx % print_every != 0:\n",
    "        return\n",
    "    env, n_steps, reward = hw4ac.AACPolicyAgent.monitor_episode(ENV_NAME, p_net)\n",
    "    html = show_monitor_video(env, width=\"500\")\n",
    "    IPython.display.clear_output(wait=True)\n",
    "    print(f'Monitor@#{batch_idx}: n_steps={n_steps}, total_reward={reward:.3f}, final={final}')\n",
    "    IPython.display.display_html(html)\n",
    "    \n",
    "    \n",
    "if os.path.isfile(CHECKPOINTS_FILE_FINAL):\n",
    "    print(f'=== {CHECKPOINTS_FILE_FINAL} exists, skipping training...')\n",
    "    checkpoint_data = torch.load(CHECKPOINTS_FILE_FINAL)\n",
    "    hp = hw4.answers.part1_aac_hyperparams()\n",
    "    pv_net = hw4ac.AACPolicyNet.build_for_env(env, **hp)\n",
    "    pv_net.load_state_dict(checkpoint_data['params'])\n",
    "    print(f'=== Running best model...')\n",
    "    env, n_steps, reward = hw4ac.AACPolicyAgent.monitor_episode(ENV_NAME, pv_net)\n",
    "    print(f'=== Best model ran for {n_steps} steps. Total reward: {reward:.2f}')\n",
    "    IPython.display.display_html(show_monitor_video(env))\n",
    "    best_mean_reward = checkpoint_data[\"best_mean_reward\"]\n",
    "else:\n",
    "    print(f'=== Starting training...')\n",
    "    train_data = train_aac(TARGET_REWARD, max_episodes=MAX_EPISODES,\n",
    "                           seed=None, checkpoints_file=CHECKPOINTS_FILE, post_batch_fn=post_batch_fn)\n",
    "    print(f'=== Done, ', end='')\n",
    "    best_mean_reward = train_data[\"best_mean_reward\"][-1]\n",
    "    print(f'num_episodes={train_data[\"episode_num\"][-1]}, best_mean_reward={best_mean_reward:.1f}')\n",
    "          \n",
    "test.assertGreaterEqual(best_mean_reward, TARGET_REWARD)"
   ]
  },
  {
   "cell_type": "markdown",
   "metadata": {},
   "source": [
    "## Questions\n",
    "<a id=part1_3></a>"
   ]
  },
  {
   "cell_type": "markdown",
   "metadata": {},
   "source": [
    "**TODO**: Answer the following questions. Write your answers in the appropriate variables in the module `hw4/answers.py`."
   ]
  },
  {
   "cell_type": "code",
   "execution_count": null,
   "metadata": {
    "pycharm": {
     "is_executing": false
    }
   },
   "outputs": [],
   "source": [
    "from cs236781.answers import display_answer\n",
    "import hw4.answers"
   ]
  },
  {
   "cell_type": "markdown",
   "metadata": {},
   "source": [
    "### Question 1\n",
    "\n",
    "Explain qualitatively why subtracting a baseline in the policy-gradient helps reduce it's variance.\n",
    "Specifically, give an example where it helps."
   ]
  },
  {
   "cell_type": "code",
   "execution_count": null,
   "metadata": {
    "pycharm": {
     "is_executing": false
    }
   },
   "outputs": [],
   "source": [
    "display_answer(hw4.answers.part1_q1)"
   ]
  },
  {
   "cell_type": "markdown",
   "metadata": {},
   "source": [
    "### Question 2\n",
    "\n",
    "In AAC, when using the estimated q-values as regression targets for our state-values, why do we get a valid approximation?\n",
    "Hint: how is $v_\\pi(s)$ expressed in terms of $q_\\pi(s,a)$?"
   ]
  },
  {
   "cell_type": "code",
   "execution_count": null,
   "metadata": {
    "pycharm": {
     "is_executing": false
    }
   },
   "outputs": [],
   "source": [
    "display_answer(hw4.answers.part1_q2)"
   ]
  },
  {
   "cell_type": "markdown",
   "metadata": {},
   "source": [
    "### Question 3\n",
    "\n",
    "1. Analyze and explain the graphs you got in first experiment run.\n",
    "2. Compare the experiment graphs you got with the AAC method to the regular PG method (`cpg`)."
   ]
  },
  {
   "cell_type": "code",
   "execution_count": null,
   "metadata": {
    "pycharm": {
     "is_executing": false
    }
   },
   "outputs": [],
   "source": [
    "display_answer(hw4.answers.part1_q3)"
   ]
  }
 ],
 "metadata": {
  "kernelspec": {
   "display_name": "Python 3",
   "language": "python",
   "name": "python3"
  },
  "language_info": {
   "codemirror_mode": {
    "name": "ipython",
    "version": 3
   },
   "file_extension": ".py",
   "mimetype": "text/x-python",
   "name": "python",
   "nbconvert_exporter": "python",
   "pygments_lexer": "ipython3",
   "version": "3.7.4"
  },
  "pycharm": {
   "stem_cell": {
    "cell_type": "raw",
    "metadata": {
     "collapsed": false
    },
    "source": []
   }
  }
 },
 "nbformat": 4,
 "nbformat_minor": 4
}