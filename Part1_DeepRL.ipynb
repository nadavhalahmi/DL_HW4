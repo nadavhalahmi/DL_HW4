{
 "cells": [
  {
   "cell_type": "markdown",
   "metadata": {},
   "source": [
    "$$\n",
    "\\newcommand{\\mat}[1]{\\boldsymbol {#1}}\n",
    "\\newcommand{\\mattr}[1]{\\boldsymbol {#1}^\\top}\n",
    "\\newcommand{\\matinv}[1]{\\boldsymbol {#1}^{-1}}\n",
    "\\newcommand{\\vec}[1]{\\boldsymbol {#1}}\n",
    "\\newcommand{\\vectr}[1]{\\boldsymbol {#1}^\\top}\n",
    "\\newcommand{\\rvar}[1]{\\mathrm {#1}}\n",
    "\\newcommand{\\rvec}[1]{\\boldsymbol{\\mathrm{#1}}}\n",
    "\\newcommand{\\diag}{\\mathop{\\mathrm {diag}}}\n",
    "\\newcommand{\\set}[1]{\\mathbb {#1}}\n",
    "\\newcommand{\\cset}[1]{\\mathcal{#1}}\n",
    "\\newcommand{\\norm}[1]{\\left\\lVert#1\\right\\rVert}\n",
    "\\newcommand{\\pderiv}[2]{\\frac{\\partial #1}{\\partial #2}}\n",
    "\\newcommand{\\bb}[1]{\\boldsymbol{#1}}\n",
    "\\newcommand{\\E}[2][]{\\mathbb{E}_{#1}\\left[#2\\right]}\n",
    "\\newcommand{\\ip}[3]{\\left<#1,#2\\right>_{#3}}\n",
    "\\newcommand{\\given}[]{\\,\\middle\\vert\\,}\n",
    "\\newcommand{\\DKL}[2]{\\cset{D}_{\\text{KL}}\\left(#1\\,\\Vert\\, #2\\right)}\n",
    "\\newcommand{\\grad}[]{\\nabla}\n",
    "$$\n",
    "# Part 1: Deep Reinforcement Learning\n",
    "<a id=part1></a>"
   ]
  },
  {
   "cell_type": "markdown",
   "metadata": {},
   "source": [
    "In the tutorial we have seen value-based reinforcement learning, in which we learn to approximate the action-value function $q(s,a)$.\n",
    "\n",
    "In this exercise we'll explore a different approach, directly learning the agent's policy distribution, $\\pi(a|s)$\n",
    "by using *policy gradients*, in order to safely land on the moon!"
   ]
  },
  {
   "cell_type": "code",
   "execution_count": 1,
   "metadata": {
    "pycharm": {
     "is_executing": false
    }
   },
   "outputs": [],
   "source": [
    "%load_ext autoreload\n",
    "%autoreload 2\n",
    "%matplotlib inline\n",
    "\n",
    "import unittest\n",
    "import os\n",
    "import sys\n",
    "import pathlib\n",
    "import urllib\n",
    "import shutil\n",
    "import re\n",
    "\n",
    "import numpy as np\n",
    "import torch\n",
    "import torch.nn as nn\n",
    "import torch.optim as optim\n",
    "import matplotlib.pyplot as plt"
   ]
  },
  {
   "cell_type": "code",
   "execution_count": 2,
   "metadata": {
    "pycharm": {
     "is_executing": false
    }
   },
   "outputs": [
    {
     "name": "stdout",
     "output_type": "stream",
     "text": [
      "Using device: cpu\n"
     ]
    }
   ],
   "source": [
    "test = unittest.TestCase()\n",
    "plt.rcParams.update({'font.size': 12})\n",
    "device = torch.device('cuda' if torch.cuda.is_available() else 'cpu')\n",
    "\n",
    "# Prefer CPU, GPU won't help much in this assignment\n",
    "device = 'cpu'\n",
    "print('Using device:', device)\n",
    "\n",
    "# Seed for deterministic tests\n",
    "SEED = 42"
   ]
  },
  {
   "cell_type": "markdown",
   "metadata": {},
   "source": [
    "Some technical notes before we begin:\n",
    "\n",
    "- This part does not require a GPU. We won't need large models, and the computation bottleneck will be the generation of episodes to train on.\n",
    "- In order to run this notebook on the server, you must prepend the `xvfb-run` command to create a virtual screen. For example,\n",
    "    - to run the jupyter lab script with `srun` do\n",
    "        ```\n",
    "        srun -c2 --gres=gpu:1 xvfb-run -a -s \"-screen 0 1440x900x24\" ./jupyter-lab.sh\n",
    "        ```\n",
    "    - To run the submission script, do\n",
    "        ```\n",
    "        srun -c2 xvfb-run -a -s \"-screen 0 1440x900x24\" python main.py prepare-submission ...\n",
    "        ```\n",
    "    and so on.\n",
    "- The OpenAI `gym` library is not officially supported on windows. However it should be possible to install and run the necessary environment for this exercise. However, we cannot provide you with technical support for this. If you have trouble installing locally, we suggest running on the course server."
   ]
  },
  {
   "cell_type": "markdown",
   "metadata": {},
   "source": [
    "## Policy gradients\n",
    "<a id=part1_1></a>"
   ]
  },
  {
   "cell_type": "markdown",
   "metadata": {},
   "source": [
    "Recall from the tutorial that we define the **policy** of an agent as the conditional distribution,\n",
    "$$\n",
    "\\pi(a|s) = \\Pr(a_t=a\\vert s_t=s),\n",
    "$$\n",
    "which defines how likely the agent is to take action $a$ at state $s$.\n",
    "\n",
    "Furthermore we define the action-value function,\n",
    "$$\n",
    "q_{\\pi}(s,a) = \\E{g_t(\\tau)|s_t = s,a_t=a,\\pi}\n",
    "$$\n",
    "where \n",
    "$$\n",
    "g_t(\\tau) = r_{t+1}+\\gamma r_{t+2} + \\dots = \\sum_{k=0}^{\\infty} \\gamma^k r_{t+1+k},\n",
    "$$\n",
    "is the total discounted reward of a specific trajectory $\\tau$ from time $t$, and the expectation in $q$ is over all possible\n",
    "trajectories,\n",
    "$\n",
    "\\tau=\\left\\{ (s_0,a_0,r_1,s_1), \\dots (s_T,a_T,r_{T+1},s_{T+1}) \\right\\}.\n",
    "$"
   ]
  },
  {
   "cell_type": "markdown",
   "metadata": {},
   "source": [
    "In the tutorial we saw that we can learn a value function starting with some random function and\n",
    "updating it iteratively by using the **Bellman optimality equation**.\n",
    "Given that we have some action-value function, we can immediately create a policy based on that\n",
    "by simply selecting an action which maximize the action-value at the current state, i.e.\n",
    "$$\n",
    "\\pi(a|s) =\n",
    "\\begin{cases}\n",
    "1, & a = \\arg\\max_{a'\\in\\cset{A}} q(s,a') \\\\\n",
    "0, & \\text{else}\n",
    "\\end{cases}.\n",
    "$$\n",
    "This is called $q$-learning. This approach aims to obtain a policy indirectly through the action-value function.\n",
    "Yet, in most cases we don't actually care about knowing the value of particular states,\n",
    "since all we need is a good policy for our agent. \n",
    "\n",
    "Here we'll take a different approach and learn a policy distribution $\\pi(a|s)$ directly - by using **policy gradients**."
   ]
  },
  {
   "cell_type": "markdown",
   "metadata": {},
   "source": [
    "### Formalism"
   ]
  },
  {
   "cell_type": "markdown",
   "metadata": {},
   "source": [
    "We define a parametric policy, $\\pi_\\vec{\\theta}(a|s)$, and maximize total discounted reward (or minimize the negative reward):\n",
    "$$\n",
    "\\mathcal{L}(\\vec{\\theta})=\\E[\\tau]{-g(\\tau)|\\pi_\\vec{\\theta}} = -\\int g(\\tau)p(\\tau|\\vec{\\theta})d\\tau,\n",
    "$$\n",
    "where $p(\\tau|\\vec{\\theta})$ is the probability of a specific trajectory $\\tau$ under the policy defined by $\\vec{\\theta}$.\n"
   ]
  },
  {
   "cell_type": "markdown",
   "metadata": {},
   "source": [
    "Since we want to find the parameters $\\vec{\\theta}$ which minimize $\\mathcal{L}(\\vec{\\theta})$, we'll compute the gradient w.r.t. $\\vec{\\theta}$:\n",
    "$$\n",
    "\\grad\\mathcal{L}(\\vec{\\theta}) = -\\int g(\\tau)\\grad p(\\tau|\\vec{\\theta})d\\tau.\n",
    "$$\n",
    "\n",
    "Unfortunately, if we try to write $p(\\tau|\\vec{\\theta})$ explicitly,\n",
    "we find that computing it's gradient with respect to $\\vec{\\theta}$ is\n",
    "quite intractable due to a huge product of terms depending on $\\vec{\\theta}$:\n",
    "$$\n",
    "p(\\tau|\\vec{\\theta})=p\\left(\\left\\{ (s_t,a_t,r_{t+1},s_{t+1})\\right\\}_{t\\geq0}\\given\\vec{\\theta}\\right)\n",
    "=p(s_0)\\prod_{t\\geq0} \\pi_{\\vec{\\theta}}(a_t|s_t)p(s_{t+1}|s_t,a_t).\n",
    "$$"
   ]
  },
  {
   "cell_type": "markdown",
   "metadata": {},
   "source": [
    "However, by using the fact that $\\grad_{x}\\log(f(x))=\\frac{\\grad_{x}f(x)}{f(x)}$, we can convert the product into a sum:\n",
    "$$\n",
    "\\begin{align}\n",
    "\\grad\\mathcal{L}(\\vec{\\theta})\n",
    "&= -\\int g(\\tau)\\grad p(\\tau|\\vec{\\theta})d\\tau\n",
    "= -\\int g(\\tau)\\frac{\\grad p(\\tau|\\vec{\\theta})}{p(\\tau|\\vec{\\theta})}p(\\tau|\\vec{\\theta})d\\tau \\\\\n",
    "&= -\\int g(\\tau)\\grad\\log\\left(p(\\tau|\\vec{\\theta})\\right)p(\\tau|\\vec{\\theta})d\\tau \\\\\n",
    "&= -\\int g(\\tau)\\grad\\log\\left( p(s_0)\\prod_{t\\geq0} \\pi_{\\vec{\\theta}}(a_t|s_t)p(s_{t+1}|s_t,a_t) \\right)\n",
    "p(\\tau|\\vec{\\theta})d\\tau \\\\\n",
    "&= -\\int g(\\tau)\\grad\\left( \\log p(s_0) + \\sum_{t\\geq0} \\log \\pi_{\\vec{\\theta}}(a_t|s_t) + \n",
    "\\sum_{t\\geq0}\\log p(s_{t+1}|s_t,a_t) \\right) p(\\tau|\\vec{\\theta})d\\tau \\\\\n",
    "&= -\\int g(\\tau)\\sum_{t\\geq0} \\grad\\log \\pi_{\\vec{\\theta}}(a_t|s_t) p(\\tau|\\vec{\\theta})d\\tau \\\\\n",
    "&= \\E[\\tau]{-g(\\tau)\\sum_{t\\geq0} \\grad\\log \\pi_{\\vec{\\theta}}(a_t|s_t)}.\n",
    "\\end{align}\n",
    "$$"
   ]
  },
  {
   "cell_type": "markdown",
   "metadata": {},
   "source": [
    "This is the \"vanilla\" version of the policy gradient. We can interpret is as a weighted log-likelihood function.\n",
    "The log-policy is the log-likelihood term we wish to maximize and the total discounted reward acts as a weight: high-return positive\n",
    "trajectories will cause the probability of actions taken during them to increase, and negative-return trajectories will cause the\n",
    "probabilities of actions taken to decrease.\n",
    "\n",
    "In the following figures we see three trajectories: high-return positive-reward (green), low-return positive-reward (yellow) and negative-return (red) and the action probabilities along the trajectories after the update. Credit: Sergey Levine.\n",
    "\n",
    "|<strong></strong>||\n",
    "|-----| ----|\n",
    "|<img src=\"imgs/pg1.png\" height=\"200\">|<img src=\"imgs/pg2.png\" height=\"200\">|\n"
   ]
  },
  {
   "cell_type": "markdown",
   "metadata": {},
   "source": [
    "The major drawback of the policy-gradient is it's high variance, which causes erratic optimization behavior and therefore slow convergence.\n",
    "One reason for this is that the log-policy weight term, $g(\\tau)$ can vary wildly between different trajectories, even if they're similar in\n",
    "actions. Later on we'll implement the loss and explore some methods of variance reduction."
   ]
  },
  {
   "cell_type": "markdown",
   "metadata": {},
   "source": [
    "### Landing on the moon with policy gradients"
   ]
  },
  {
   "cell_type": "markdown",
   "metadata": {},
   "source": [
    "In the spirit of the recent achievements of the Israeli space industry,\n",
    "we'll apply our reinforcement learning skills to solve a simple game called **LunarLander**.\n",
    "\n",
    "This game is available as an `environment` in OpenAI `gym`.\n",
    "\n",
    "<video loop autoplay src=\"http://gym.openai.com/videos/2019-04-06--My9IiAbqha/LunarLander-v2/original.mp4\" />"
   ]
  },
  {
   "cell_type": "markdown",
   "metadata": {},
   "source": [
    "In this environment, you need to control the lander and get it to land safely on the moon.\n",
    "To do so, you must apply bottom, right or left thrusters (each are either fully on or fully off)\n",
    "and get it to land within the designated zone as quickly as possible and with minimal wasted fuel."
   ]
  },
  {
   "cell_type": "code",
   "execution_count": 3,
   "metadata": {
    "pycharm": {
     "is_executing": false
    }
   },
   "outputs": [],
   "source": [
    "import gym\n",
    "\n",
    "# Just for fun :) ... but also to re-define the default max number of steps\n",
    "ENV_NAME = 'Beresheet-v2'\n",
    "MAX_EPISODE_STEPS = 300\n",
    "if ENV_NAME not in gym.envs.registry.env_specs:\n",
    "    gym.register(\n",
    "        id=ENV_NAME,\n",
    "        entry_point='gym.envs.box2d:LunarLander',\n",
    "        max_episode_steps=MAX_EPISODE_STEPS,\n",
    "        reward_threshold=200,\n",
    "    )"
   ]
  },
  {
   "cell_type": "code",
   "execution_count": 4,
   "metadata": {
    "pycharm": {
     "is_executing": false
    }
   },
   "outputs": [
    {
     "name": "stdout",
     "output_type": "stream",
     "text": [
      "<TimeLimit<LunarLander<Beresheet-v2>>>\n",
      "observations space: Box(8,)\n",
      "action space: Discrete(4)\n"
     ]
    }
   ],
   "source": [
    "import gym\n",
    "\n",
    "env = gym.make(ENV_NAME)\n",
    "\n",
    "print(env)\n",
    "print(f'observations space: {env.observation_space}')\n",
    "print(f'action space: {env.action_space}')\n",
    "\n",
    "ENV_N_ACTIONS = env.action_space.n\n",
    "ENV_N_OBSERVATIONS = env.observation_space.shape[0]"
   ]
  },
  {
   "cell_type": "markdown",
   "metadata": {},
   "source": [
    "The observations at each step is the Lander's position, velocity, angle, angular velocity and ground contact state.\n",
    "The actions are no-op, fire left truster, bottom thruster and right thruster.\n",
    "\n",
    "You are **highly encouraged** to read the [documentation](https://github.com/openai/gym/blob/master/gym/envs/box2d/lunar_lander.py) in the source code of the `LunarLander` environment to understand the reward system,\n",
    "and see how the actions and observations are created."
   ]
  },
  {
   "cell_type": "markdown",
   "metadata": {},
   "source": [
    "### Policy network and Agent"
   ]
  },
  {
   "cell_type": "markdown",
   "metadata": {},
   "source": [
    "Let's start with our policy-model. This will be a simple neural net, which should take an observation and return a score for each possible action."
   ]
  },
  {
   "cell_type": "markdown",
   "metadata": {},
   "source": [
    "**TODO**:\n",
    "1. Implement all methods in the `PolicyNet` class in the `hw4/rl_pg.py` module.\n",
    "   Start small. A simple MLP with a few hidden layers is a good starting point. You can come back and change it later based on the the experiments. The we'll use the `build_for_env` method to instantiate a `PolicyNet` based on the configuration of a given environment.\n",
    "2. If you need hyperparameters to configure your model (e.g. number of hidden layers, sizes, etc.), add them in `part1_pg_hyperparams()` in `hw4/answers.py`."
   ]
  },
  {
   "cell_type": "code",
   "execution_count": 5,
   "metadata": {
    "pycharm": {
     "is_executing": false
    }
   },
   "outputs": [
    {
     "data": {
      "text/plain": [
       "PolicyNet(\n",
       "  (our_net): Sequential(\n",
       "    (0): Linear(in_features=8, out_features=4, bias=True)\n",
       "    (1): LogSoftmax()\n",
       "  )\n",
       ")"
      ]
     },
     "execution_count": 5,
     "metadata": {},
     "output_type": "execute_result"
    }
   ],
   "source": [
    "import hw4.rl_pg as hw4pg\n",
    "import hw4.answers\n",
    "\n",
    "hp = hw4.answers.part1_pg_hyperparams()\n",
    "\n",
    "# You can add keyword-args to this function which will be populated from the hyperparameters dict.\n",
    "p_net = hw4pg.PolicyNet.build_for_env(env, device, **hp)\n",
    "p_net"
   ]
  },
  {
   "cell_type": "markdown",
   "metadata": {},
   "source": [
    "Now we need an **agent**. The purpose of our agent will be to act according to the current policy and generate experiences.\n",
    "Our `PolicyAgent` will use a `PolicyNet` as the current policy function.\n",
    "\n",
    "\n",
    "We'll also define some extra datatypes to help us represent the data generated by our agent.\n",
    "You can find the `Experience`, `Episode` and `TrainBatch` datatypes in the `hw4/rl_data.py` module."
   ]
  },
  {
   "cell_type": "markdown",
   "metadata": {},
   "source": [
    "**TODO**: Implement the `current_action_distribution()` method of the `PolicyAgent` class in the `hw4/rl_pg.py` module."
   ]
  },
  {
   "cell_type": "code",
   "execution_count": 6,
   "metadata": {
    "pycharm": {
     "is_executing": false
    }
   },
   "outputs": [
    {
     "name": "stdout",
     "output_type": "stream",
     "text": [
      "tensor([0.2710, 0.2970, 0.2027, 0.2293], grad_fn=<ExpBackward>)\n"
     ]
    },
    {
     "name": "stderr",
     "output_type": "stream",
     "text": [
      "C:\\Users\\User\\Anaconda3\\envs\\cs236781-hw\\lib\\site-packages\\torch\\nn\\modules\\container.py:92: UserWarning: Implicit dimension choice for log_softmax has been deprecated. Change the call to include dim=X as an argument.\n",
      "  input = module(input)\n"
     ]
    }
   ],
   "source": [
    "for i in range (10):\n",
    "    agent = hw4pg.PolicyAgent(env, p_net, device)\n",
    "    d = agent.current_action_distribution()\n",
    "    test.assertSequenceEqual(d.shape, (env.action_space.n,))\n",
    "    test.assertAlmostEqual(d.sum(), 1.0, delta=1e-5)\n",
    "    \n",
    "print(d)"
   ]
  },
  {
   "cell_type": "markdown",
   "metadata": {},
   "source": [
    "**TODO**: Implement the `step()` method of the `PolicyAgent`."
   ]
  },
  {
   "cell_type": "code",
   "execution_count": 7,
   "metadata": {
    "pycharm": {
     "is_executing": false
    }
   },
   "outputs": [
    {
     "name": "stdout",
     "output_type": "stream",
     "text": [
      "Experience(state=array([ 0.00964966,  1.385893  ,  0.48325986, -0.5689693 , -0.00952682,\n",
      "       -0.07812844,  0.        ,  0.        ], dtype=float32), action=1, reward=-0.4976247463314667, is_done=False)\n"
     ]
    }
   ],
   "source": [
    "agent = hw4pg.PolicyAgent(env, p_net, device)\n",
    "exp = agent.step()\n",
    "\n",
    "test.assertIsInstance(exp, hw4pg.Experience)\n",
    "print(exp)"
   ]
  },
  {
   "cell_type": "markdown",
   "metadata": {},
   "source": [
    "To test our agent, we'll write some code that allows it to play an environment. We'll use the `Monitor`\n",
    "wrapper in `gym` to generate a video of the episode for visual debugging."
   ]
  },
  {
   "cell_type": "markdown",
   "metadata": {},
   "source": [
    "**TODO**: Complete the implementation of the `monitor_episode()` method of the `PolicyAgent`."
   ]
  },
  {
   "cell_type": "code",
   "execution_count": 8,
   "metadata": {
    "pycharm": {
     "is_executing": false
    }
   },
   "outputs": [],
   "source": [
    "env, n_steps, reward = agent.monitor_episode(ENV_NAME, p_net, device=device)"
   ]
  },
  {
   "cell_type": "markdown",
   "metadata": {},
   "source": [
    "To display the Monitor video in this notebook, we'll use a helper function from our `jupyter_utils` and a small wrapper that extracts the path of the last video file. "
   ]
  },
  {
   "cell_type": "code",
   "execution_count": 9,
   "metadata": {
    "pycharm": {
     "is_executing": false
    }
   },
   "outputs": [],
   "source": [
    "import cs236781.jupyter_utils as jupyter_utils\n",
    "\n",
    "def show_monitor_video(monitor_env, idx=0, **kw):\n",
    "    # Extract video path\n",
    "    video_path = monitor_env.videos[idx][0]\n",
    "    video_path = os.path.relpath(video_path, start=os.path.curdir)\n",
    "    \n",
    "    # Use helper function to embed the video\n",
    "    return jupyter_utils.show_video_in_notebook(video_path, **kw)"
   ]
  },
  {
   "cell_type": "code",
   "execution_count": 10,
   "metadata": {
    "pycharm": {
     "is_executing": false
    }
   },
   "outputs": [
    {
     "name": "stdout",
     "output_type": "stream",
     "text": [
      "Episode ran for 80 steps. Total reward: -451.58\n"
     ]
    },
    {
     "data": {
      "text/html": [
       "<video src=\"data:video/mp4;base64,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\" controls autoplay width=\"500\" height=\"auto\" />"
      ],
      "text/plain": [
       "<IPython.core.display.HTML object>"
      ]
     },
     "execution_count": 10,
     "metadata": {},
     "output_type": "execute_result"
    }
   ],
   "source": [
    "print(f'Episode ran for {n_steps} steps. Total reward: {reward:.2f}')\n",
    "\n",
    "show_monitor_video(env, -1)"
   ]
  },
  {
   "cell_type": "markdown",
   "metadata": {},
   "source": [
    "### Training data"
   ]
  },
  {
   "cell_type": "markdown",
   "metadata": {},
   "source": [
    "The next step is to create data to train on.\n",
    "We need to train on batches of state-action pairs, so that our network can learn to predict the actions.\n",
    "\n",
    "We'll split this task into three parts:\n",
    "1. Generate a batch of `Episode`s, by using an `Agent` that's playing according to our current policy network.\n",
    "   Each `Episode` object contains the `Experience` objects created by the agent.\n",
    "2. Calculate the total discounted reward for each state we encountered and action we took. This is our action-value estimate.\n",
    "3. Convert the `Episode`s into a batch of tensors to train on.\n",
    "   Each batch will contain states, action taken per state, reward accrued, and the calculated estimated state-values.\n",
    "   These will be stored in a `TrainBatch` object.\n"
   ]
  },
  {
   "cell_type": "markdown",
   "metadata": {},
   "source": [
    "**TODO**: Complete the implementation of the `episode_batch_generator()` method in the `TrainBatchDataset` class within the `hw4.rl_data` module. This will address part 1 in the list above."
   ]
  },
  {
   "cell_type": "code",
   "execution_count": 11,
   "metadata": {
    "pycharm": {
     "is_executing": true
    }
   },
   "outputs": [
    {
     "name": "stdout",
     "output_type": "stream",
     "text": [
      "First episode: Episode(total_reward=-606.21, #experences=73)\n"
     ]
    }
   ],
   "source": [
    "import hw4.rl_data as hw4data\n",
    "\n",
    "def agent_fn():\n",
    "    env = gym.make(ENV_NAME)\n",
    "    hp = hw4.answers.part1_pg_hyperparams()\n",
    "    p_net = hw4pg.PolicyNet.build_for_env(env, device, **hp)\n",
    "    return hw4pg.PolicyAgent(env, p_net, device)\n",
    "    \n",
    "ds = hw4data.TrainBatchDataset(agent_fn, episode_batch_size=8, gamma=0.9)\n",
    "batch_gen = ds.episode_batch_generator()\n",
    "b = next(batch_gen)\n",
    "print('First episode:', b[0])\n",
    "\n",
    "test.assertEqual(len(b), 8)\n",
    "for ep in b:\n",
    "    test.assertIsInstance(ep, hw4data.Episode)\n",
    "    \n",
    "    # Check that it's a full episode\n",
    "    is_done = [exp.is_done for exp in ep.experiences]\n",
    "    test.assertFalse(any(is_done[0:-1]))\n",
    "    test.assertTrue(is_done[-1])"
   ]
  },
  {
   "cell_type": "markdown",
   "metadata": {},
   "source": [
    "**TODO**: Complete the implementation of the `calc_qvals()` method in the `Episode` class.\n",
    "This will address part 2.\n",
    "These q-values are an estimate of the actual action value function: $$\\hat{q}_{t} = \\sum_{t'\\geq t} \\gamma^{t'-t}r_{t'+1}.$$"
   ]
  },
  {
   "cell_type": "code",
   "execution_count": 12,
   "metadata": {
    "pycharm": {
     "is_executing": false
    }
   },
   "outputs": [],
   "source": [
    "np.random.seed(SEED)\n",
    "test_rewards = np.random.randint(-10, 10, 100)\n",
    "test_experiences = [hw4pg.Experience(None,None,r,False) for r in test_rewards] \n",
    "test_episode = hw4data.Episode(np.sum(test_rewards), test_experiences)\n",
    "\n",
    "qvals = test_episode.calc_qvals(0.9)\n",
    "qvals = list(qvals)\n",
    "\n",
    "expected_qvals = np.load(os.path.join('tests', 'assets', 'part1_expected_qvals.npy'))\n",
    "for i in range(len(test_rewards)):\n",
    "    test.assertAlmostEqual(expected_qvals[i], qvals[i], delta=1e-3)"
   ]
  },
  {
   "cell_type": "markdown",
   "metadata": {},
   "source": [
    "**TODO**: Complete the implementation of the `from_episodes()` method in the `TrainBatch` class.\n",
    "This will address part 3.\n",
    "\n",
    "Notes:\n",
    "- The `TrainBatchDataset` class provides a generator function that will use the above function to lazily generate batches of training samples and labels on demand.\n",
    "- This allows us to use a standard `PyTorch` dataloader to wrap our Dataset and provide us with parallel data loading for free!\n",
    "  This means we can run multiple environments with multiple agents in separate background processes to generate data for training and thus prevent the data loading bottleneck which is caused by the fact that we must generate full Episodes to train on in order to calculate the q-values.\n",
    "- We'll set the `DataLoader`'s `batch_size` to `None` because we have already implemented custom batching in our dataset."
   ]
  },
  {
   "cell_type": "code",
   "execution_count": 13,
   "metadata": {
    "pycharm": {
     "is_executing": false
    }
   },
   "outputs": [
    {
     "name": "stdout",
     "output_type": "stream",
     "text": [
      "#0: TrainBatch(states: torch.Size([53, 8]), actions: torch.Size([53]), q_vals: torch.Size([53])), num_episodes: 53)\n",
      "#1: TrainBatch(states: torch.Size([65, 8]), actions: torch.Size([65]), q_vals: torch.Size([65])), num_episodes: 65)\n",
      "#2: TrainBatch(states: torch.Size([72, 8]), actions: torch.Size([72]), q_vals: torch.Size([72])), num_episodes: 72)\n",
      "#3: TrainBatch(states: torch.Size([63, 8]), actions: torch.Size([63]), q_vals: torch.Size([63])), num_episodes: 63)\n",
      "#4: TrainBatch(states: torch.Size([55, 8]), actions: torch.Size([55]), q_vals: torch.Size([55])), num_episodes: 55)\n",
      "#5: TrainBatch(states: torch.Size([63, 8]), actions: torch.Size([63]), q_vals: torch.Size([63])), num_episodes: 63)\n",
      "#6: TrainBatch(states: torch.Size([56, 8]), actions: torch.Size([56]), q_vals: torch.Size([56])), num_episodes: 56)\n"
     ]
    }
   ],
   "source": [
    "from torch.utils.data import DataLoader\n",
    "\n",
    "ds = hw4data.TrainBatchDataset(agent_fn, episode_batch_size=8, gamma=0.9)\n",
    "dl = DataLoader(ds, batch_size=None, num_workers=0) # Run multiple agents/env in separate worker process\n",
    "\n",
    "\n",
    "for i, train_batch in enumerate(dl):\n",
    "    states, actions, qvals, reward_mean = train_batch\n",
    "    print(f'#{i}: {train_batch}')\n",
    "    test.assertEqual(states.shape[0], actions.shape[0])\n",
    "    test.assertEqual(qvals.shape[0], actions.shape[0])\n",
    "    test.assertEqual(states.shape[1], env.observation_space.shape[0])\n",
    "    if i > 5:\n",
    "        break"
   ]
  },
  {
   "cell_type": "markdown",
   "metadata": {},
   "source": [
    "### Loss functions"
   ]
  },
  {
   "cell_type": "markdown",
   "metadata": {},
   "source": [
    "As usual, we need a loss function to optimize over.\n",
    "We'll calculate three types of losses:\n",
    "1. The causal vanilla policy gradient loss.\n",
    "1. The policy gradient loss, with a baseline to reduce variance.\n",
    "2. An entropy-based loss whos purpose is to diversify the agent's action selection,\n",
    "   and prevent it from being \"too sure\" about its actions.\n",
    "   This loss will be used together with one of the above losses."
   ]
  },
  {
   "cell_type": "markdown",
   "metadata": {},
   "source": [
    "#### Causal vanilla policy-gradient"
   ]
  },
  {
   "cell_type": "markdown",
   "metadata": {},
   "source": [
    "We have derived the policy-gradient as\n",
    "$$\n",
    "\\grad\\mathcal{L}(\\vec{\\theta}) = \\E[\\tau]{-g(\\tau)\\sum_{t\\geq0} \\grad\\log \\pi_{\\vec{\\theta}}(a_t|s_t)}.\n",
    "$$\n",
    "\n",
    "By writing the discounted reward explicitly and enforcing causality, i.e. the action taken at time $t$ can't affect\n",
    "the reward at time $t'<t$, we can get a slightly lower-variance version of the policy gradient:\n",
    "\n",
    "$$\n",
    "\\grad\\mathcal{L}_{\\text{PG}}(\\vec{\\theta}) = \n",
    "\\E[\\tau]{-\\sum_{t\\geq0} \\left(\\sum_{t'\\geq t} \\gamma^{t'}r_{t'+1} \\right)\\grad\\log \\pi_{\\vec{\\theta}}(a_t|s_t)}.\n",
    "$$"
   ]
  },
  {
   "cell_type": "markdown",
   "metadata": {},
   "source": [
    "In practice, the expectation over trajectories is calculated using a Monte-Carlo approach, i.e. simply sampling $N$\n",
    "trajectories and average the term inside the expectation. Therefore, we will use the following estimated version of the policy gradient:\n",
    "\n",
    "$$\n",
    "\\begin{align}\n",
    "\\hat\\grad\\mathcal{L}_{\\text{PG}}(\\vec{\\theta})\n",
    "&=-\\frac{1}{N}\\sum_{i=1}^{N}\\sum_{t\\geq0} \\left(\\sum_{t'\\geq t} \\gamma^{t'}r_{i,t'+1} \\right)\\grad\\log \\pi_{\\vec{\\theta}}(a_{i,t}|s_{i,t}) \\\\\n",
    "&=-\\frac{1}{N}\\sum_{i=1}^{N}\\sum_{t\\geq0} \\hat{q}_{i,t} \\grad\\log \\pi_{\\vec{\\theta}}(a_{i,t}|s_{i,t}).\n",
    "\\end{align}\n",
    "$$\n",
    "\n",
    "Note the use of the notation $\\hat{q}_{i,t}$ to represent the estimated action-value at time $t$ in the sampled trajectory $i$.\n",
    "Here $\\hat{q}_{i,t}$ is acting as the weight-term for the policy gradient."
   ]
  },
  {
   "cell_type": "markdown",
   "metadata": {},
   "source": [
    "**TODO**: Complete the implementation of the `VanillaPolicyGradientLoss` class in the `hw4/rl_pg.py` module."
   ]
  },
  {
   "cell_type": "code",
   "execution_count": 14,
   "metadata": {
    "pycharm": {
     "is_executing": false
    }
   },
   "outputs": [
    {
     "ename": "ValueError",
     "evalue": "only one element tensors can be converted to Python scalars",
     "output_type": "error",
     "traceback": [
      "\u001b[1;31m---------------------------------------------------------------------------\u001b[0m",
      "\u001b[1;31mValueError\u001b[0m                                Traceback (most recent call last)",
      "\u001b[1;32m<ipython-input-15-225b3566f036>\u001b[0m in \u001b[0;36m<module>\u001b[1;34m\u001b[0m\n\u001b[0;32m     16\u001b[0m \u001b[1;33m\u001b[0m\u001b[0m\n\u001b[0;32m     17\u001b[0m \u001b[0mloss_fn_p\u001b[0m \u001b[1;33m=\u001b[0m \u001b[0mhw4pg\u001b[0m\u001b[1;33m.\u001b[0m\u001b[0mVanillaPolicyGradientLoss\u001b[0m\u001b[1;33m(\u001b[0m\u001b[1;33m)\u001b[0m\u001b[1;33m\u001b[0m\u001b[1;33m\u001b[0m\u001b[0m\n\u001b[1;32m---> 18\u001b[1;33m \u001b[0mloss_p\u001b[0m\u001b[1;33m,\u001b[0m \u001b[0m_\u001b[0m \u001b[1;33m=\u001b[0m \u001b[0mloss_fn_p\u001b[0m\u001b[1;33m(\u001b[0m\u001b[0mtest_batch\u001b[0m\u001b[1;33m,\u001b[0m \u001b[0mtest_action_scores\u001b[0m\u001b[1;33m)\u001b[0m\u001b[1;33m\u001b[0m\u001b[1;33m\u001b[0m\u001b[0m\n\u001b[0m\u001b[0;32m     19\u001b[0m \u001b[1;33m\u001b[0m\u001b[0m\n\u001b[0;32m     20\u001b[0m \u001b[0mprint\u001b[0m\u001b[1;33m(\u001b[0m\u001b[1;34m'loss ='\u001b[0m\u001b[1;33m,\u001b[0m \u001b[0mloss_p\u001b[0m\u001b[1;33m)\u001b[0m\u001b[1;33m\u001b[0m\u001b[1;33m\u001b[0m\u001b[0m\n",
      "\u001b[1;32m~\\Anaconda3\\envs\\cs236781-hw\\lib\\site-packages\\torch\\nn\\modules\\module.py\u001b[0m in \u001b[0;36m__call__\u001b[1;34m(self, *input, **kwargs)\u001b[0m\n\u001b[0;32m    539\u001b[0m             \u001b[0mresult\u001b[0m \u001b[1;33m=\u001b[0m \u001b[0mself\u001b[0m\u001b[1;33m.\u001b[0m\u001b[0m_slow_forward\u001b[0m\u001b[1;33m(\u001b[0m\u001b[1;33m*\u001b[0m\u001b[0minput\u001b[0m\u001b[1;33m,\u001b[0m \u001b[1;33m**\u001b[0m\u001b[0mkwargs\u001b[0m\u001b[1;33m)\u001b[0m\u001b[1;33m\u001b[0m\u001b[1;33m\u001b[0m\u001b[0m\n\u001b[0;32m    540\u001b[0m         \u001b[1;32melse\u001b[0m\u001b[1;33m:\u001b[0m\u001b[1;33m\u001b[0m\u001b[1;33m\u001b[0m\u001b[0m\n\u001b[1;32m--> 541\u001b[1;33m             \u001b[0mresult\u001b[0m \u001b[1;33m=\u001b[0m \u001b[0mself\u001b[0m\u001b[1;33m.\u001b[0m\u001b[0mforward\u001b[0m\u001b[1;33m(\u001b[0m\u001b[1;33m*\u001b[0m\u001b[0minput\u001b[0m\u001b[1;33m,\u001b[0m \u001b[1;33m**\u001b[0m\u001b[0mkwargs\u001b[0m\u001b[1;33m)\u001b[0m\u001b[1;33m\u001b[0m\u001b[1;33m\u001b[0m\u001b[0m\n\u001b[0m\u001b[0;32m    542\u001b[0m         \u001b[1;32mfor\u001b[0m \u001b[0mhook\u001b[0m \u001b[1;32min\u001b[0m \u001b[0mself\u001b[0m\u001b[1;33m.\u001b[0m\u001b[0m_forward_hooks\u001b[0m\u001b[1;33m.\u001b[0m\u001b[0mvalues\u001b[0m\u001b[1;33m(\u001b[0m\u001b[1;33m)\u001b[0m\u001b[1;33m:\u001b[0m\u001b[1;33m\u001b[0m\u001b[1;33m\u001b[0m\u001b[0m\n\u001b[0;32m    543\u001b[0m             \u001b[0mhook_result\u001b[0m \u001b[1;33m=\u001b[0m \u001b[0mhook\u001b[0m\u001b[1;33m(\u001b[0m\u001b[0mself\u001b[0m\u001b[1;33m,\u001b[0m \u001b[0minput\u001b[0m\u001b[1;33m,\u001b[0m \u001b[0mresult\u001b[0m\u001b[1;33m)\u001b[0m\u001b[1;33m\u001b[0m\u001b[1;33m\u001b[0m\u001b[0m\n",
      "\u001b[1;32m~\\OneDrive - Technion\\Semester H\\DL\\hw4\\hw4\\rl_pg.py\u001b[0m in \u001b[0;36mforward\u001b[1;34m(self, batch, action_scores, **kw)\u001b[0m\n\u001b[0;32m    178\u001b[0m         \u001b[0mloss_p\u001b[0m \u001b[1;33m=\u001b[0m \u001b[0mself\u001b[0m\u001b[1;33m.\u001b[0m\u001b[0m_policy_loss\u001b[0m\u001b[1;33m(\u001b[0m\u001b[0mbatch\u001b[0m\u001b[1;33m,\u001b[0m \u001b[0maction_scores\u001b[0m\u001b[1;33m,\u001b[0m \u001b[0mself\u001b[0m\u001b[1;33m.\u001b[0m\u001b[0m_policy_weight\u001b[0m\u001b[1;33m(\u001b[0m\u001b[0mbatch\u001b[0m\u001b[1;33m)\u001b[0m\u001b[1;33m)\u001b[0m\u001b[1;33m\u001b[0m\u001b[1;33m\u001b[0m\u001b[0m\n\u001b[0;32m    179\u001b[0m         \u001b[1;31m# ========================\u001b[0m\u001b[1;33m\u001b[0m\u001b[1;33m\u001b[0m\u001b[1;33m\u001b[0m\u001b[0m\n\u001b[1;32m--> 180\u001b[1;33m         \u001b[1;32mreturn\u001b[0m \u001b[0mloss_p\u001b[0m\u001b[1;33m,\u001b[0m \u001b[0mdict\u001b[0m\u001b[1;33m(\u001b[0m\u001b[0mloss_p\u001b[0m\u001b[1;33m=\u001b[0m\u001b[0mloss_p\u001b[0m\u001b[1;33m.\u001b[0m\u001b[0mitem\u001b[0m\u001b[1;33m(\u001b[0m\u001b[1;33m)\u001b[0m\u001b[1;33m)\u001b[0m\u001b[1;33m\u001b[0m\u001b[1;33m\u001b[0m\u001b[0m\n\u001b[0m\u001b[0;32m    181\u001b[0m \u001b[1;33m\u001b[0m\u001b[0m\n\u001b[0;32m    182\u001b[0m     \u001b[1;32mdef\u001b[0m \u001b[0m_policy_weight\u001b[0m\u001b[1;33m(\u001b[0m\u001b[0mself\u001b[0m\u001b[1;33m,\u001b[0m \u001b[0mbatch\u001b[0m\u001b[1;33m:\u001b[0m \u001b[0mTrainBatch\u001b[0m\u001b[1;33m)\u001b[0m\u001b[1;33m:\u001b[0m\u001b[1;33m\u001b[0m\u001b[1;33m\u001b[0m\u001b[0m\n",
      "\u001b[1;31mValueError\u001b[0m: only one element tensors can be converted to Python scalars"
     ]
    },
    {
     "traceback": [
      "\u001b[1;31m---------------------------------------------------------------------------\u001b[0m",
      "\u001b[1;31mKeyboardInterrupt\u001b[0m                         Traceback (most recent call last)",
      "\u001b[1;32m<ipython-input-14-3a3f77778ec4>\u001b[0m in \u001b[0;36m<module>\u001b[1;34m\u001b[0m\n\u001b[0;32m     17\u001b[0m \u001b[1;33m\u001b[0m\u001b[0m\n\u001b[0;32m     18\u001b[0m \u001b[0mloss_fn_p\u001b[0m \u001b[1;33m=\u001b[0m \u001b[0mhw4pg\u001b[0m\u001b[1;33m.\u001b[0m\u001b[0mVanillaPolicyGradientLoss\u001b[0m\u001b[1;33m(\u001b[0m\u001b[1;33m)\u001b[0m\u001b[1;33m\u001b[0m\u001b[1;33m\u001b[0m\u001b[0m\n\u001b[1;32m---> 19\u001b[1;33m \u001b[0mloss_p\u001b[0m\u001b[1;33m,\u001b[0m \u001b[0m_\u001b[0m \u001b[1;33m=\u001b[0m \u001b[0mloss_fn_p\u001b[0m\u001b[1;33m(\u001b[0m\u001b[0mtest_batch\u001b[0m\u001b[1;33m,\u001b[0m \u001b[0mtest_action_scores\u001b[0m\u001b[1;33m)\u001b[0m\u001b[1;33m\u001b[0m\u001b[1;33m\u001b[0m\u001b[0m\n\u001b[0m\u001b[0;32m     20\u001b[0m \u001b[1;33m\u001b[0m\u001b[0m\n\u001b[0;32m     21\u001b[0m \u001b[0mprint\u001b[0m\u001b[1;33m(\u001b[0m\u001b[1;34m'loss ='\u001b[0m\u001b[1;33m,\u001b[0m \u001b[0mloss_p\u001b[0m\u001b[1;33m)\u001b[0m\u001b[1;33m\u001b[0m\u001b[1;33m\u001b[0m\u001b[0m\n",
      "\u001b[1;32m~\\Anaconda3\\envs\\cs236781-hw\\lib\\site-packages\\torch\\nn\\modules\\module.py\u001b[0m in \u001b[0;36m__call__\u001b[1;34m(self, *input, **kwargs)\u001b[0m\n\u001b[0;32m    539\u001b[0m             \u001b[0mresult\u001b[0m \u001b[1;33m=\u001b[0m \u001b[0mself\u001b[0m\u001b[1;33m.\u001b[0m\u001b[0m_slow_forward\u001b[0m\u001b[1;33m(\u001b[0m\u001b[1;33m*\u001b[0m\u001b[0minput\u001b[0m\u001b[1;33m,\u001b[0m \u001b[1;33m**\u001b[0m\u001b[0mkwargs\u001b[0m\u001b[1;33m)\u001b[0m\u001b[1;33m\u001b[0m\u001b[1;33m\u001b[0m\u001b[0m\n\u001b[0;32m    540\u001b[0m         \u001b[1;32melse\u001b[0m\u001b[1;33m:\u001b[0m\u001b[1;33m\u001b[0m\u001b[1;33m\u001b[0m\u001b[0m\n\u001b[1;32m--> 541\u001b[1;33m             \u001b[0mresult\u001b[0m \u001b[1;33m=\u001b[0m \u001b[0mself\u001b[0m\u001b[1;33m.\u001b[0m\u001b[0mforward\u001b[0m\u001b[1;33m(\u001b[0m\u001b[1;33m*\u001b[0m\u001b[0minput\u001b[0m\u001b[1;33m,\u001b[0m \u001b[1;33m**\u001b[0m\u001b[0mkwargs\u001b[0m\u001b[1;33m)\u001b[0m\u001b[1;33m\u001b[0m\u001b[1;33m\u001b[0m\u001b[0m\n\u001b[0m\u001b[0;32m    542\u001b[0m         \u001b[1;32mfor\u001b[0m \u001b[0mhook\u001b[0m \u001b[1;32min\u001b[0m \u001b[0mself\u001b[0m\u001b[1;33m.\u001b[0m\u001b[0m_forward_hooks\u001b[0m\u001b[1;33m.\u001b[0m\u001b[0mvalues\u001b[0m\u001b[1;33m(\u001b[0m\u001b[1;33m)\u001b[0m\u001b[1;33m:\u001b[0m\u001b[1;33m\u001b[0m\u001b[1;33m\u001b[0m\u001b[0m\n\u001b[0;32m    543\u001b[0m             \u001b[0mhook_result\u001b[0m \u001b[1;33m=\u001b[0m \u001b[0mhook\u001b[0m\u001b[1;33m(\u001b[0m\u001b[0mself\u001b[0m\u001b[1;33m,\u001b[0m \u001b[0minput\u001b[0m\u001b[1;33m,\u001b[0m \u001b[0mresult\u001b[0m\u001b[1;33m)\u001b[0m\u001b[1;33m\u001b[0m\u001b[1;33m\u001b[0m\u001b[0m\n",
      "\u001b[1;32m~\\OneDrive - Technion\\Semester H\\DL\\hw4\\hw4\\rl_pg.py\u001b[0m in \u001b[0;36mforward\u001b[1;34m(self, batch, action_scores, **kw)\u001b[0m\n\u001b[0;32m    176\u001b[0m         \u001b[1;31m#  and then the loss using the weights and action scores.\u001b[0m\u001b[1;33m\u001b[0m\u001b[1;33m\u001b[0m\u001b[1;33m\u001b[0m\u001b[0m\n\u001b[0;32m    177\u001b[0m         \u001b[1;31m# ====== YOUR CODE: ======\u001b[0m\u001b[1;33m\u001b[0m\u001b[1;33m\u001b[0m\u001b[1;33m\u001b[0m\u001b[0m\n\u001b[1;32m--> 178\u001b[1;33m         \u001b[0mloss_p\u001b[0m \u001b[1;33m=\u001b[0m \u001b[0mself\u001b[0m\u001b[1;33m.\u001b[0m\u001b[0m_policy_loss\u001b[0m\u001b[1;33m(\u001b[0m\u001b[0mbatch\u001b[0m\u001b[1;33m,\u001b[0m \u001b[0maction_scores\u001b[0m\u001b[1;33m,\u001b[0m \u001b[0mself\u001b[0m\u001b[1;33m.\u001b[0m\u001b[0m_policy_weight\u001b[0m\u001b[1;33m(\u001b[0m\u001b[0mbatch\u001b[0m\u001b[1;33m)\u001b[0m\u001b[1;33m)\u001b[0m\u001b[1;33m\u001b[0m\u001b[1;33m\u001b[0m\u001b[0m\n\u001b[0m\u001b[0;32m    179\u001b[0m         \u001b[1;31m# ========================\u001b[0m\u001b[1;33m\u001b[0m\u001b[1;33m\u001b[0m\u001b[1;33m\u001b[0m\u001b[0m\n\u001b[0;32m    180\u001b[0m         \u001b[1;32mreturn\u001b[0m \u001b[0mloss_p\u001b[0m\u001b[1;33m,\u001b[0m \u001b[0mdict\u001b[0m\u001b[1;33m(\u001b[0m\u001b[0mloss_p\u001b[0m\u001b[1;33m=\u001b[0m\u001b[0mloss_p\u001b[0m\u001b[1;33m.\u001b[0m\u001b[0mitem\u001b[0m\u001b[1;33m(\u001b[0m\u001b[1;33m)\u001b[0m\u001b[1;33m)\u001b[0m\u001b[1;33m\u001b[0m\u001b[1;33m\u001b[0m\u001b[0m\n",
      "\u001b[1;32m~\\OneDrive - Technion\\Semester H\\DL\\hw4\\hw4\\rl_pg.py\u001b[0m in \u001b[0;36m_policy_loss\u001b[1;34m(self, batch, action_scores, policy_weight)\u001b[0m\n\u001b[0;32m    200\u001b[0m         \u001b[1;31m#   of total experiences in our batch.\u001b[0m\u001b[1;33m\u001b[0m\u001b[1;33m\u001b[0m\u001b[1;33m\u001b[0m\u001b[0m\n\u001b[0;32m    201\u001b[0m         \u001b[1;31m# ====== YOUR CODE: ======\u001b[0m\u001b[1;33m\u001b[0m\u001b[1;33m\u001b[0m\u001b[1;33m\u001b[0m\u001b[0m\n\u001b[1;32m--> 202\u001b[1;33m         \u001b[0mchosen_actions_scores\u001b[0m \u001b[1;33m=\u001b[0m \u001b[1;33m[\u001b[0m\u001b[0maction_scores\u001b[0m\u001b[1;33m[\u001b[0m\u001b[0mi\u001b[0m\u001b[1;33m]\u001b[0m\u001b[1;33m[\u001b[0m\u001b[0mint\u001b[0m\u001b[1;33m(\u001b[0m\u001b[0mbatch\u001b[0m\u001b[1;33m.\u001b[0m\u001b[0mactions\u001b[0m\u001b[1;33m[\u001b[0m\u001b[0mi\u001b[0m\u001b[1;33m]\u001b[0m\u001b[1;33m.\u001b[0m\u001b[0mitem\u001b[0m\u001b[1;33m(\u001b[0m\u001b[1;33m)\u001b[0m\u001b[1;33m)\u001b[0m\u001b[1;33m]\u001b[0m \u001b[1;32mfor\u001b[0m \u001b[0mi\u001b[0m \u001b[1;32min\u001b[0m \u001b[0mrange\u001b[0m\u001b[1;33m(\u001b[0m\u001b[0mlen\u001b[0m\u001b[1;33m(\u001b[0m\u001b[0mbatch\u001b[0m\u001b[1;33m.\u001b[0m\u001b[0mactions\u001b[0m\u001b[1;33m)\u001b[0m\u001b[1;33m)\u001b[0m\u001b[1;33m]\u001b[0m\u001b[1;33m\u001b[0m\u001b[1;33m\u001b[0m\u001b[0m\n\u001b[0m\u001b[0;32m    203\u001b[0m         \u001b[0mlog_proba\u001b[0m \u001b[1;33m=\u001b[0m \u001b[0mtorch\u001b[0m\u001b[1;33m.\u001b[0m\u001b[0mlog_softmax\u001b[0m\u001b[1;33m(\u001b[0m\u001b[0mchosen_actions_scores\u001b[0m\u001b[1;33m,\u001b[0m \u001b[0mdim\u001b[0m\u001b[1;33m=\u001b[0m\u001b[1;36m1\u001b[0m\u001b[1;33m)\u001b[0m\u001b[1;33m\u001b[0m\u001b[1;33m\u001b[0m\u001b[0m\n\u001b[0;32m    204\u001b[0m         \u001b[0mweighted_average\u001b[0m \u001b[1;33m=\u001b[0m \u001b[0mpolicy_weight\u001b[0m\u001b[1;33m*\u001b[0m\u001b[0mlog_proba\u001b[0m\u001b[1;33m\u001b[0m\u001b[1;33m\u001b[0m\u001b[0m\n",
      "\u001b[1;32m~\\OneDrive - Technion\\Semester H\\DL\\hw4\\hw4\\rl_pg.py\u001b[0m in \u001b[0;36m_policy_loss\u001b[1;34m(self, batch, action_scores, policy_weight)\u001b[0m\n\u001b[0;32m    200\u001b[0m         \u001b[1;31m#   of total experiences in our batch.\u001b[0m\u001b[1;33m\u001b[0m\u001b[1;33m\u001b[0m\u001b[1;33m\u001b[0m\u001b[0m\n\u001b[0;32m    201\u001b[0m         \u001b[1;31m# ====== YOUR CODE: ======\u001b[0m\u001b[1;33m\u001b[0m\u001b[1;33m\u001b[0m\u001b[1;33m\u001b[0m\u001b[0m\n\u001b[1;32m--> 202\u001b[1;33m         \u001b[0mchosen_actions_scores\u001b[0m \u001b[1;33m=\u001b[0m \u001b[1;33m[\u001b[0m\u001b[0maction_scores\u001b[0m\u001b[1;33m[\u001b[0m\u001b[0mi\u001b[0m\u001b[1;33m]\u001b[0m\u001b[1;33m[\u001b[0m\u001b[0mint\u001b[0m\u001b[1;33m(\u001b[0m\u001b[0mbatch\u001b[0m\u001b[1;33m.\u001b[0m\u001b[0mactions\u001b[0m\u001b[1;33m[\u001b[0m\u001b[0mi\u001b[0m\u001b[1;33m]\u001b[0m\u001b[1;33m.\u001b[0m\u001b[0mitem\u001b[0m\u001b[1;33m(\u001b[0m\u001b[1;33m)\u001b[0m\u001b[1;33m)\u001b[0m\u001b[1;33m]\u001b[0m \u001b[1;32mfor\u001b[0m \u001b[0mi\u001b[0m \u001b[1;32min\u001b[0m \u001b[0mrange\u001b[0m\u001b[1;33m(\u001b[0m\u001b[0mlen\u001b[0m\u001b[1;33m(\u001b[0m\u001b[0mbatch\u001b[0m\u001b[1;33m.\u001b[0m\u001b[0mactions\u001b[0m\u001b[1;33m)\u001b[0m\u001b[1;33m)\u001b[0m\u001b[1;33m]\u001b[0m\u001b[1;33m\u001b[0m\u001b[1;33m\u001b[0m\u001b[0m\n\u001b[0m\u001b[0;32m    203\u001b[0m         \u001b[0mlog_proba\u001b[0m \u001b[1;33m=\u001b[0m \u001b[0mtorch\u001b[0m\u001b[1;33m.\u001b[0m\u001b[0mlog_softmax\u001b[0m\u001b[1;33m(\u001b[0m\u001b[0mchosen_actions_scores\u001b[0m\u001b[1;33m,\u001b[0m \u001b[0mdim\u001b[0m\u001b[1;33m=\u001b[0m\u001b[1;36m1\u001b[0m\u001b[1;33m)\u001b[0m\u001b[1;33m\u001b[0m\u001b[1;33m\u001b[0m\u001b[0m\n\u001b[0;32m    204\u001b[0m         \u001b[0mweighted_average\u001b[0m \u001b[1;33m=\u001b[0m \u001b[0mpolicy_weight\u001b[0m\u001b[1;33m*\u001b[0m\u001b[0mlog_proba\u001b[0m\u001b[1;33m\u001b[0m\u001b[1;33m\u001b[0m\u001b[0m\n",
      "\u001b[1;32m_pydevd_bundle\\pydevd_cython_win32_37_64.pyx\u001b[0m in \u001b[0;36m_pydevd_bundle.pydevd_cython_win32_37_64.SafeCallWrapper.__call__\u001b[1;34m()\u001b[0m\n",
      "\u001b[1;32m_pydevd_bundle\\pydevd_cython_win32_37_64.pyx\u001b[0m in \u001b[0;36m_pydevd_bundle.pydevd_cython_win32_37_64.PyDBFrame.trace_dispatch\u001b[1;34m()\u001b[0m\n",
      "\u001b[1;32m_pydevd_bundle\\pydevd_cython_win32_37_64.pyx\u001b[0m in \u001b[0;36m_pydevd_bundle.pydevd_cython_win32_37_64.PyDBFrame.trace_dispatch\u001b[1;34m()\u001b[0m\n",
      "\u001b[1;32m_pydevd_bundle\\pydevd_cython_win32_37_64.pyx\u001b[0m in \u001b[0;36m_pydevd_bundle.pydevd_cython_win32_37_64.PyDBFrame.trace_dispatch\u001b[1;34m()\u001b[0m\n",
      "\u001b[1;32m_pydevd_bundle\\pydevd_cython_win32_37_64.pyx\u001b[0m in \u001b[0;36m_pydevd_bundle.pydevd_cython_win32_37_64.PyDBFrame.do_wait_suspend\u001b[1;34m()\u001b[0m\n",
      "\u001b[1;32mC:\\Program Files\\JetBrains\\PyCharm Professional Edition with Anaconda plugin 2019.3.1\\plugins\\python\\helpers\\pydev\\pydevd.py\u001b[0m in \u001b[0;36mdo_wait_suspend\u001b[1;34m(self, thread, frame, event, arg, send_suspend_message, is_unhandled_exception)\u001b[0m\n\u001b[0;32m   1097\u001b[0m \u001b[1;33m\u001b[0m\u001b[0m\n\u001b[0;32m   1098\u001b[0m         \u001b[1;32mwith\u001b[0m \u001b[0mself\u001b[0m\u001b[1;33m.\u001b[0m\u001b[0m_threads_suspended_single_notification\u001b[0m\u001b[1;33m.\u001b[0m\u001b[0mnotify_thread_suspended\u001b[0m\u001b[1;33m(\u001b[0m\u001b[0mthread_id\u001b[0m\u001b[1;33m,\u001b[0m \u001b[0mstop_reason\u001b[0m\u001b[1;33m)\u001b[0m\u001b[1;33m:\u001b[0m\u001b[1;33m\u001b[0m\u001b[1;33m\u001b[0m\u001b[0m\n\u001b[1;32m-> 1099\u001b[1;33m             \u001b[0mself\u001b[0m\u001b[1;33m.\u001b[0m\u001b[0m_do_wait_suspend\u001b[0m\u001b[1;33m(\u001b[0m\u001b[0mthread\u001b[0m\u001b[1;33m,\u001b[0m \u001b[0mframe\u001b[0m\u001b[1;33m,\u001b[0m \u001b[0mevent\u001b[0m\u001b[1;33m,\u001b[0m \u001b[0marg\u001b[0m\u001b[1;33m,\u001b[0m \u001b[0msuspend_type\u001b[0m\u001b[1;33m,\u001b[0m \u001b[0mfrom_this_thread\u001b[0m\u001b[1;33m)\u001b[0m\u001b[1;33m\u001b[0m\u001b[1;33m\u001b[0m\u001b[0m\n\u001b[0m\u001b[0;32m   1100\u001b[0m \u001b[1;33m\u001b[0m\u001b[0m\n\u001b[0;32m   1101\u001b[0m     \u001b[1;32mdef\u001b[0m \u001b[0m_do_wait_suspend\u001b[0m\u001b[1;33m(\u001b[0m\u001b[0mself\u001b[0m\u001b[1;33m,\u001b[0m \u001b[0mthread\u001b[0m\u001b[1;33m,\u001b[0m \u001b[0mframe\u001b[0m\u001b[1;33m,\u001b[0m \u001b[0mevent\u001b[0m\u001b[1;33m,\u001b[0m \u001b[0marg\u001b[0m\u001b[1;33m,\u001b[0m \u001b[0msuspend_type\u001b[0m\u001b[1;33m,\u001b[0m \u001b[0mfrom_this_thread\u001b[0m\u001b[1;33m)\u001b[0m\u001b[1;33m:\u001b[0m\u001b[1;33m\u001b[0m\u001b[1;33m\u001b[0m\u001b[0m\n",
      "\u001b[1;32mC:\\Program Files\\JetBrains\\PyCharm Professional Edition with Anaconda plugin 2019.3.1\\plugins\\python\\helpers\\pydev\\pydevd.py\u001b[0m in \u001b[0;36m_do_wait_suspend\u001b[1;34m(self, thread, frame, event, arg, suspend_type, from_this_thread)\u001b[0m\n\u001b[0;32m   1112\u001b[0m \u001b[1;33m\u001b[0m\u001b[0m\n\u001b[0;32m   1113\u001b[0m                 \u001b[0mself\u001b[0m\u001b[1;33m.\u001b[0m\u001b[0mprocess_internal_commands\u001b[0m\u001b[1;33m(\u001b[0m\u001b[1;33m)\u001b[0m\u001b[1;33m\u001b[0m\u001b[1;33m\u001b[0m\u001b[0m\n\u001b[1;32m-> 1114\u001b[1;33m                 \u001b[0mtime\u001b[0m\u001b[1;33m.\u001b[0m\u001b[0msleep\u001b[0m\u001b[1;33m(\u001b[0m\u001b[1;36m0.01\u001b[0m\u001b[1;33m)\u001b[0m\u001b[1;33m\u001b[0m\u001b[1;33m\u001b[0m\u001b[0m\n\u001b[0m\u001b[0;32m   1115\u001b[0m \u001b[1;33m\u001b[0m\u001b[0m\n\u001b[0;32m   1116\u001b[0m         \u001b[0mself\u001b[0m\u001b[1;33m.\u001b[0m\u001b[0mcancel_async_evaluation\u001b[0m\u001b[1;33m(\u001b[0m\u001b[0mget_current_thread_id\u001b[0m\u001b[1;33m(\u001b[0m\u001b[0mthread\u001b[0m\u001b[1;33m)\u001b[0m\u001b[1;33m,\u001b[0m \u001b[0mstr\u001b[0m\u001b[1;33m(\u001b[0m\u001b[0mid\u001b[0m\u001b[1;33m(\u001b[0m\u001b[0mframe\u001b[0m\u001b[1;33m)\u001b[0m\u001b[1;33m)\u001b[0m\u001b[1;33m)\u001b[0m\u001b[1;33m\u001b[0m\u001b[1;33m\u001b[0m\u001b[0m\n",
      "\u001b[1;31mKeyboardInterrupt\u001b[0m: "
     ],
     "ename": "KeyboardInterrupt",
     "evalue": "",
     "output_type": "error"
    }
   ],
   "source": [
    "# Ensure deterministic run\n",
    "env = gym.make(ENV_NAME)\n",
    "env.seed(SEED)\n",
    "torch.manual_seed(SEED)\n",
    "\n",
    "def agent_fn():\n",
    "    # Use a simple \"network\" here, so that this test doesn't depend on your specific PolicyNet implementation\n",
    "    p_net_test = nn.Linear(8, 4)\n",
    "    agent = hw4pg.PolicyAgent(env, p_net_test)\n",
    "    return agent\n",
    "\n",
    "dataloader = hw4data.TrainBatchDataset(agent_fn, gamma=0.9, episode_batch_size=4)\n",
    "\n",
    "test_batch = next(iter(dataloader))\n",
    "test_action_scores = torch.randn(len(test_batch), env.action_space.n)\n",
    "\n",
    "loss_fn_p = hw4pg.VanillaPolicyGradientLoss()\n",
    "loss_p, _ = loss_fn_p(test_batch, test_action_scores)\n",
    "\n",
    "print('loss =', loss_p)\n",
    "test.assertAlmostEqual(loss_p.item(), -35.535522, delta=1e-3)"
   ]
  },
  {
   "cell_type": "markdown",
   "metadata": {},
   "source": [
    "#### Policy-gradient with baseline"
   ]
  },
  {
   "cell_type": "markdown",
   "metadata": {},
   "source": [
    "Another way to reduce the variance of our gradient is to use relative weighting of the log-policy instead of absolute reward values.\n",
    "$$\n",
    "\\hat\\grad\\mathcal{L}_{\\text{BPG}}(\\vec{\\theta})\n",
    "=-\\frac{1}{N}\\sum_{i=1}^{N}\\sum_{t\\geq0} \\left(\\hat{q}_{i,t}-b\\right) \\grad\\log \\pi_{\\vec{\\theta}}(a_{i,t}|s_{i,t}).\n",
    "$$\n",
    "In other words, we don't measure a trajectory's worth by it's total reward, but by how much better that total reward is relative to some\n",
    "expected (\"baseline\") reward value, denoted above by $b$.\n",
    "Note that subtracting a baseline has no effect on the expected value of the policy gradient. It's easy to prove this directly by definition.\n",
    "\n",
    "Here we'll implement a very simple baseline (not optimal in terms of variance reduction): the average of the estimated state-values $\\hat{q}_{i,t}$."
   ]
  },
  {
   "cell_type": "markdown",
   "metadata": {},
   "source": [
    "**TODO**: Complete the implementation of the `BaselinePolicyGradientLoss` class in the `hw4/rl_pg.py` module."
   ]
  },
  {
   "cell_type": "code",
   "execution_count": null,
   "metadata": {
    "pycharm": {
     "is_executing": false
    }
   },
   "outputs": [],
   "source": [
    "# Using the same batch and action_scores from above cell\n",
    "loss_fn_p = hw4pg.BaselinePolicyGradientLoss()\n",
    "loss_p, _ = loss_fn_p(test_batch, test_action_scores)\n",
    "\n",
    "print('loss =', loss_p)\n",
    "test.assertAlmostEqual(loss_p.item(), -2.4665009, delta=1e-3)"
   ]
  },
  {
   "cell_type": "markdown",
   "metadata": {},
   "source": [
    "#### Entropy loss"
   ]
  },
  {
   "cell_type": "markdown",
   "metadata": {},
   "source": [
    "The entropy of a probability distribution (in our case the policy), is\n",
    "$$\n",
    "H(\\pi) = -\\sum_{a} \\pi(a|s)\\log\\pi(a|s).\n",
    "$$\n",
    "The entropy is always positive and obtains it's maximum for a uniform distribution.\n",
    "We'll use the entropy of the policy as a bonus, i.e. we'll try to maximize it.\n",
    "The idea is the prevent the policy distribution from becoming too narrow and thus promote the agent's exploration."
   ]
  },
  {
   "cell_type": "markdown",
   "metadata": {},
   "source": [
    "First, we'll calculate the maximal possible entropy value of the action distribution for a set number of possible actions.\n",
    "This will be used as a normalization term.\n",
    "\n",
    "**TODO**: Complete the implementation of the `calc_max_entropy()` method in the `ActionEntropyLoss` class."
   ]
  },
  {
   "cell_type": "code",
   "execution_count": null,
   "metadata": {
    "pycharm": {
     "is_executing": false
    }
   },
   "outputs": [],
   "source": [
    "loss_fn_e = hw4pg.ActionEntropyLoss(env.action_space.n)\n",
    "print('max_entropy = ', loss_fn_e.max_entropy)\n",
    "\n",
    "test.assertAlmostEqual(loss_fn_e.max_entropy, 1.38629436, delta=1e-3)"
   ]
  },
  {
   "cell_type": "markdown",
   "metadata": {},
   "source": [
    "**TODO**: Complete the implementation of the `forward()` method in the `ActionEntropyLoss` class."
   ]
  },
  {
   "cell_type": "code",
   "execution_count": null,
   "metadata": {
    "pycharm": {
     "is_executing": false
    }
   },
   "outputs": [],
   "source": [
    "loss_e, _ = loss_fn_e(test_batch, test_action_scores)\n",
    "print('loss = ', loss_e)\n",
    "\n",
    "test.assertAlmostEqual(loss_e.item(), -0.7927002, delta=1e-3)"
   ]
  },
  {
   "cell_type": "markdown",
   "metadata": {},
   "source": [
    "### Training"
   ]
  },
  {
   "cell_type": "markdown",
   "metadata": {},
   "source": [
    "We'll implement our training procedure as follows:\n",
    "\n",
    "1. Initialize the current policy to be a random policy.\n",
    "1. Sample $N$ trajectories from the environment using the current policy.\n",
    "2. Calculate the estimated $q$-values, $\\hat{q}_{i,t} = \\sum_{t'\\geq t} \\gamma^{t'}r_{i,t'+1}$ for each trajectory $i$.\n",
    "3. Calculate policy gradient estimate $\\hat\\grad\\mathcal{L}(\\vec{\\theta})$ as defined above.\n",
    "4. Perform SGD update $\\vec{\\theta}\\leftarrow\\vec{\\theta}-\\eta\\hat\\grad\\mathcal{L}(\\vec{\\theta})$.\n",
    "5. Repeat from step 2.\n",
    "\n",
    "This is known as the **REINFORCE** algorithm."
   ]
  },
  {
   "cell_type": "markdown",
   "metadata": {},
   "source": [
    "Fortunately, we've already implemented everything we need for steps 1-4 so we need only a bit more code to put it all together.\n",
    "\n",
    "The following block implements a wrapper, `train_pg` to create all the objects we need in order to train our policy gradient model.\n"
   ]
  },
  {
   "cell_type": "code",
   "execution_count": null,
   "metadata": {
    "pycharm": {
     "is_executing": false
    }
   },
   "outputs": [],
   "source": [
    "import hw4.answers\n",
    "from functools import partial\n",
    "\n",
    "ENV_NAME = \"Beresheet-v2\"\n",
    "\n",
    "def agent_fn_train(agent_type, p_net, seed, envs_dict):\n",
    "    winfo = torch.utils.data.get_worker_info()\n",
    "    wid = winfo.id if winfo else 0\n",
    "    seed = seed + wid if seed else wid\n",
    "\n",
    "    env = gym.make(ENV_NAME)\n",
    "    envs_dict[wid] = env\n",
    "    env.seed(seed)\n",
    "    np.random.seed(seed)\n",
    "    torch.manual_seed(seed)\n",
    "\n",
    "    return agent_type(env, p_net)\n",
    "\n",
    "def train_rl(agent_type, net_type, loss_fns, hp, seed=None, checkpoints_file=None, **train_kw):\n",
    "    print(f'hyperparams: {hp}')\n",
    "    \n",
    "    envs = {}\n",
    "    p_net = net_type(ENV_N_OBSERVATIONS, ENV_N_ACTIONS, **hp)\n",
    "    p_net.share_memory()\n",
    "    agent_fn = partial(agent_fn_train, agent_type, p_net, seed, envs)\n",
    "    \n",
    "    dataset = hw4data.TrainBatchDataset(agent_fn, hp['batch_size'], hp['gamma'])\n",
    "    dataloader = DataLoader(dataset, batch_size=None, num_workers=2)\n",
    "    optimizer = optim.Adam(p_net.parameters(), lr=hp['learn_rate'], eps=hp['eps'])\n",
    "    \n",
    "    trainer = hw4pg.PolicyTrainer(p_net, optimizer, loss_fns, dataloader, checkpoints_file)\n",
    "    try:\n",
    "        trainer.train(**train_kw)\n",
    "    except KeyboardInterrupt as e:\n",
    "        print('Training interrupted by user.')\n",
    "    finally:\n",
    "        for env in envs.values():\n",
    "            env.close()\n",
    "\n",
    "    # Include final model state\n",
    "    training_data = trainer.training_data\n",
    "    training_data['model_state'] = p_net.state_dict()\n",
    "    return training_data\n",
    "    \n",
    "def train_pg(baseline=False, entropy=False, **train_kwargs):\n",
    "    hp = hw4.answers.part1_pg_hyperparams()\n",
    "    \n",
    "    loss_fns = []\n",
    "    if baseline:\n",
    "        loss_fns.append(hw4pg.BaselinePolicyGradientLoss())\n",
    "    else:\n",
    "        loss_fns.append(hw4pg.VanillaPolicyGradientLoss())\n",
    "    if entropy:\n",
    "        loss_fns.append(hw4pg.ActionEntropyLoss(ENV_N_ACTIONS, hp['beta']))\n",
    "\n",
    "    return train_rl(hw4pg.PolicyAgent, hw4pg.PolicyNet, loss_fns, hp, **train_kwargs)"
   ]
  },
  {
   "cell_type": "markdown",
   "metadata": {},
   "source": [
    "The `PolicyTrainer` class implements the training loop, collects the losses and rewards and provides some useful checkpointing functionality.\n",
    "The training loop will generate batches of episodes and train on them until either:\n",
    "- The average total reward from the last `running_mean_len` episodes is greater than the `target_reward`, OR\n",
    "- The number of generated episodes reached `max_episodes`.\n",
    "\n",
    "Most of this class is already implemented for you. "
   ]
  },
  {
   "cell_type": "markdown",
   "metadata": {},
   "source": [
    "**TODO**:\n",
    "1. Complete the training loop by implementing the `train_batch()` method of the `PolicyTrainer`.\n",
    "2. Tweak the hyperparameters in the `part1_pg_hyperparams()` function within the `hw4/answers.py` module as needed. You get some sane defaults."
   ]
  },
  {
   "cell_type": "markdown",
   "metadata": {},
   "source": [
    "Let's check whether our model is actually training.\n",
    "We'll try to reach a very low (bad) target reward, just as a sanity check to see that training works.\n",
    "Your model should be able to reach this target reward within a few batches.\n",
    "\n",
    "You can increase the target reward and use this block to manually tweak your model and hyperparameters a few times."
   ]
  },
  {
   "cell_type": "code",
   "execution_count": null,
   "metadata": {
    "pycharm": {
     "is_executing": false
    }
   },
   "outputs": [],
   "source": [
    "target_reward = -150 # VERY LOW target\n",
    "train_data = train_pg(target_reward=target_reward, seed=SEED, max_episodes=2000, running_mean_len=10)\n",
    "\n",
    "test.assertGreater(train_data['mean_reward'][-1], target_reward)"
   ]
  },
  {
   "cell_type": "markdown",
   "metadata": {},
   "source": [
    "### Experimenting with different losses"
   ]
  },
  {
   "cell_type": "markdown",
   "metadata": {},
   "source": [
    "We'll now run a few experiments to see the effect of diferent loss functions on the training dynamics. Namely, we'll try:\n",
    "1. Vanilla PG (`vpg`): No baseline, no entropy\n",
    "2. Baseline PG (`bpg`): Baseline, no entropy loss\n",
    "3. Entropy PG (`epg`): No baseline, with entropy loss\n",
    "3. Combined PG (`cpg`): Baseline, with entropy loss"
   ]
  },
  {
   "cell_type": "code",
   "execution_count": null,
   "metadata": {
    "pycharm": {
     "is_executing": false
    }
   },
   "outputs": [],
   "source": [
    "from collections import namedtuple\n",
    "from pprint import pprint\n",
    "import itertools as it\n",
    "\n",
    "\n",
    "ExpConfig = namedtuple('ExpConfig', ('name','baseline','entropy'))\n",
    "\n",
    "def exp_configs():\n",
    "    exp_names = ('vpg', 'epg', 'bpg', 'cpg')\n",
    "    z = zip(exp_names, it.product((False, True), (False, True)))\n",
    "    return (ExpConfig(n, b, e) for (n, (b, e)) in z)\n",
    "\n",
    "pprint(list(exp_configs()))"
   ]
  },
  {
   "cell_type": "markdown",
   "metadata": {},
   "source": [
    "We'll save the training data from each experiment for plotting."
   ]
  },
  {
   "cell_type": "code",
   "execution_count": null,
   "metadata": {
    "pycharm": {
     "is_executing": false
    }
   },
   "outputs": [],
   "source": [
    "import pickle\n",
    "\n",
    "def dump_training_data(data, filename):\n",
    "    os.makedirs(os.path.dirname(filename), exist_ok=True)\n",
    "    with open(filename, mode='wb') as file:\n",
    "        pickle.dump(data, file)\n",
    "        \n",
    "def load_training_data(filename):\n",
    "    with open(filename, mode='rb') as file:\n",
    "        return pickle.load(file)"
   ]
  },
  {
   "cell_type": "markdown",
   "metadata": {},
   "source": [
    "Let's run the experiments! We'll run each configuration for a fixed number of episodes so that we can compare them.\n",
    "\n",
    "Notes:\n",
    "1. Until your models start working, you can decrease the number of episodes for each experiment, or only run one experiment.\n",
    "2.  The results will be saved in a file. To re-run the experiments, you can set `force_run` to `True`."
   ]
  },
  {
   "cell_type": "code",
   "execution_count": null,
   "metadata": {
    "pycharm": {
     "is_executing": false
    }
   },
   "outputs": [],
   "source": [
    "import math\n",
    "\n",
    "exp_max_episodes = 4000\n",
    "\n",
    "results = {}\n",
    "training_data_filename = os.path.join('results', f'part1_exp.dat')\n",
    "\n",
    "# Set to True to force re-run (careful, will delete old experiment results)\n",
    "force_run = False\n",
    "\n",
    "# Skip running if results file exists.\n",
    "if os.path.isfile(training_data_filename) and not force_run:\n",
    "    print(f'=== results file {training_data_filename} exists, skipping experiments.')\n",
    "    results = load_training_data(training_data_filename)\n",
    "    \n",
    "else:\n",
    "    for n, b, e in exp_configs():\n",
    "        print(f'=== Experiment {n}')\n",
    "        results[n] = train_pg(baseline=b, entropy=e, max_episodes=exp_max_episodes, post_batch_fn=None)\n",
    "        \n",
    "    dump_training_data(results, training_data_filename)"
   ]
  },
  {
   "cell_type": "code",
   "execution_count": null,
   "metadata": {
    "pycharm": {
     "is_executing": false
    }
   },
   "outputs": [],
   "source": [
    "def plot_experiment_results(results, fig=None):\n",
    "    if fig is None:\n",
    "        fig, _ = plt.subplots(nrows=2, ncols=2, sharex=True, figsize=(18,12))\n",
    "    for i, plot_type in enumerate(('loss_p', 'baseline', 'loss_e', 'mean_reward')):\n",
    "        ax = fig.axes[i]\n",
    "        for exp_name, exp_res in results.items():\n",
    "            if plot_type not in exp_res:\n",
    "                continue\n",
    "            ax.plot(exp_res['episode_num'], exp_res[plot_type], label=exp_name)\n",
    "        ax.set_title(plot_type)\n",
    "        ax.set_xlabel('episode')\n",
    "        ax.legend()\n",
    "    return fig\n",
    "    \n",
    "experiments_results_fig = plot_experiment_results(results)"
   ]
  },
  {
   "cell_type": "markdown",
   "metadata": {},
   "source": [
    "You should see positive training dynamics in the graphs (reward going up).\n",
    "If you don't, use them to further update your model or hyperparams.\n",
    "\n",
    "To pass the test, you'll need to get a best total mean reward of at least 10 in the fixed number of epochs using the combined loss.\n",
    "It's possible to get much higher (over 100)."
   ]
  },
  {
   "cell_type": "code",
   "execution_count": null,
   "metadata": {
    "pycharm": {
     "is_executing": false
    }
   },
   "outputs": [],
   "source": [
    "best_cpg_mean_reward = max(results['cpg']['mean_reward'])\n",
    "print(f'Best CPG mean reward: {best_cpg_mean_reward:.2f}')\n",
    "\n",
    "test.assertGreater(best_cpg_mean_reward, 10)"
   ]
  },
  {
   "cell_type": "markdown",
   "metadata": {},
   "source": [
    "Now let's take a look at a gameplay video of our `cpg` model after the short training!"
   ]
  },
  {
   "cell_type": "code",
   "execution_count": null,
   "metadata": {
    "pycharm": {
     "is_executing": false
    }
   },
   "outputs": [],
   "source": [
    "hp = hw4.answers.part1_pg_hyperparams()\n",
    "p_net_cpg = hw4pg.PolicyNet.build_for_env(env, **hp)\n",
    "p_net_cpg.load_state_dict(results['cpg']['model_state'])\n",
    "\n",
    "env, n_steps, reward = hw4pg.PolicyAgent.monitor_episode(ENV_NAME, p_net_cpg)\n",
    "print(f'{n_steps} steps, total reward: {reward:.2f}')\n",
    "show_monitor_video(env)"
   ]
  },
  {
   "cell_type": "markdown",
   "metadata": {},
   "source": [
    "## Advantage Actor-Critic (AAC)\n",
    "<a id=part1_2></a>"
   ]
  },
  {
   "cell_type": "markdown",
   "metadata": {},
   "source": [
    "We have seen that the policy-gradient loss can be interpreted as a log-likelihood of the policy term\n",
    "(selecting a specific action at a specific state), weighted by the future rewards of that choice of action.\n",
    "\n",
    "However, naïvely weighting by rewards has significant drawbacks in terms of the variance of the resulting gradient.\n",
    "We addressed this by adding a simple baseline term which represented our \"expected reward\" so that we increase probability of actions\n",
    "leading to trajectories which exceed this expectation and vice-versa.\n",
    "\n",
    "In this part we'll explore a more powerful baseline, which is the idea behind the AAC method."
   ]
  },
  {
   "cell_type": "markdown",
   "metadata": {},
   "source": [
    "### The advantage function"
   ]
  },
  {
   "cell_type": "markdown",
   "metadata": {},
   "source": [
    "Recall the definition of the state-value function $v_{\\pi}(s)$ and action-value function $q_{\\pi}(s,a)$:\n",
    "\n",
    "$$\n",
    "\\begin{align}\n",
    "v_{\\pi}(s) &= \\E{g(\\tau)|s_0 = s,\\pi} \\\\\n",
    "q_{\\pi}(s,a) &= \\E{g(\\tau)|s_0 = s,a_0=a,\\pi}.\n",
    "\\end{align}\n",
    "$$\n",
    "\n",
    "Both these functions represent the value of the state $s$. However, $v_\\pi$ averages over the first action according to the policy,\n",
    "while $q_\\pi$ fixes the first action and then continues according to the policy."
   ]
  },
  {
   "cell_type": "markdown",
   "metadata": {},
   "source": [
    "Their difference is known as the **advantage function**:\n",
    "$$\n",
    "a_\\pi(s,a) = q_\\pi(s,a)-v_\\pi(s).\n",
    "$$\n",
    "\n",
    "If $a_\\pi(s,a)>0$ it means that it's better (in expectation) to take action $a$ in state $s$ compared to the average action.\n",
    "In other words, $a_\\pi(s,a)$ represents the *advantage* of using action $a$ in state $s$ compared to the others."
   ]
  },
  {
   "cell_type": "markdown",
   "metadata": {},
   "source": [
    "So far we have used an estimate for $q_\\pi$ as our weighting term for the log-policy, with a fixed baseline per batch.\n",
    "\n",
    "$$\n",
    "\\hat\\grad\\mathcal{L}_{\\text{BPG}}(\\vec{\\theta})\n",
    "=-\\frac{1}{N}\\sum_{i=1}^{N}\\sum_{t\\geq0} \\left(\\hat{q}_{i,t}-b\\right) \\grad\\log \\pi_{\\vec{\\theta}}(a_{i,t}|s_{i,t}).\n",
    "$$\n"
   ]
  },
  {
   "cell_type": "markdown",
   "metadata": {},
   "source": [
    "Now, we will use the state value as a baseline, so that an estimate of the advantage function is our weighting term:\n",
    "\n",
    "$$\n",
    "\\hat\\grad\\mathcal{L}_{\\text{AAC}}(\\vec{\\theta})\n",
    "=-\\frac{1}{N}\\sum_{i=1}^{N}\\sum_{t\\geq0} \\left(\\hat{q}_{i,t}-v_\\pi(s_t)\\right) \\grad\\log \\pi_{\\vec{\\theta}}(a_{i,t}|s_{i,t}).\n",
    "$$\n",
    "\n",
    "Intuitively, using the advantage function makes sense because it means we're weighting our policy's actions according to\n",
    "how advantageous they are compared to other possible actions."
   ]
  },
  {
   "cell_type": "markdown",
   "metadata": {},
   "source": [
    "But how will we know $v_\\pi(s)$? We'll learn it of course, using another neural network.\n",
    "This is known as actor-critic learning. We simultaneously learn the policy (actor) and the value of states (critic).\n",
    "We'll treat it as a regression task: given a state $s_t$, our state-value network will output $\\hat{v}_\\pi(s_t)$,\n",
    "an estimate of the actual unknown state-value.\n",
    "Our regression targets will be the discounted rewards, $\\hat{q}_{i,t}$ (see question 2),\n",
    "and we can use a simple MSE as the loss function,\n",
    "$$\n",
    "\\mathcal{L}_{\\text{SV}} = \\frac{1}{N}\\sum_{i=1}^{N}\\sum_{t\\geq0}\\left(\\hat{v}_\\pi(s_t) - \\hat{q}_{i,t}\\right)^2.\n",
    "$$\n"
   ]
  },
  {
   "cell_type": "markdown",
   "metadata": {},
   "source": [
    "### Implementation"
   ]
  },
  {
   "cell_type": "markdown",
   "metadata": {},
   "source": [
    "We'll build heavily on our implementation of the regular policy-gradient method, and just add a new model class and a new loss class, with a small modification to the agent."
   ]
  },
  {
   "cell_type": "markdown",
   "metadata": {},
   "source": [
    "Let's start with the model. It will accept a state, and return action scores (as before), but also the value of that state.\n",
    "You can experiment with a dual-head network that has a shared base, or implement two separate parts within the network.\n",
    "\n",
    "**TODO**:\n",
    "1. Implement the model as the `AACPolicyNet` class in the `hw4/rl_ac.py` module.\n",
    "1. Set the hyperparameters in the `part1_aac_hyperparams()` function of the `hw4.answers` module."
   ]
  },
  {
   "cell_type": "code",
   "execution_count": null,
   "metadata": {
    "pycharm": {
     "is_executing": false
    }
   },
   "outputs": [],
   "source": [
    "import hw4.rl_ac as hw4ac\n",
    "\n",
    "hp = hw4.answers.part1_aac_hyperparams()\n",
    "pv_net = hw4ac.AACPolicyNet.build_for_env(env, device, **hp)\n",
    "pv_net"
   ]
  },
  {
   "cell_type": "markdown",
   "metadata": {},
   "source": [
    "**TODO**: Complete the implementation of the agent class, `AACPolicyAgent`, in the `hw4/rl_ac.py` module."
   ]
  },
  {
   "cell_type": "code",
   "execution_count": null,
   "metadata": {
    "pycharm": {
     "is_executing": false
    }
   },
   "outputs": [],
   "source": [
    "agent = hw4ac.AACPolicyAgent(env, pv_net, device)\n",
    "exp = agent.step()\n",
    "\n",
    "test.assertIsInstance(exp, hw4pg.Experience)\n",
    "print(exp)"
   ]
  },
  {
   "cell_type": "markdown",
   "metadata": {},
   "source": [
    "**TODO**: Implement the AAC loss function as the class `AACPolicyGradientLoss` in the `hw4/rl_ac.py` module."
   ]
  },
  {
   "cell_type": "code",
   "execution_count": null,
   "metadata": {
    "pycharm": {
     "is_executing": false
    }
   },
   "outputs": [],
   "source": [
    "loss_fn_aac = hw4ac.AACPolicyGradientLoss(delta=1.)\n",
    "test_state_values = torch.ones(test_action_scores.shape[0], 1)\n",
    "loss_t, _ = loss_fn_aac(test_batch, (test_action_scores, test_state_values))\n",
    "\n",
    "print('loss_t =', loss_t)\n",
    "test.assertAlmostEqual(loss_t.item(), 975.230895, delta=1e-3)"
   ]
  },
  {
   "cell_type": "markdown",
   "metadata": {},
   "source": [
    "### Experimentation"
   ]
  },
  {
   "cell_type": "markdown",
   "metadata": {},
   "source": [
    "Let's run the same experiment as before, but with the AAC method and compare the results."
   ]
  },
  {
   "cell_type": "code",
   "execution_count": null,
   "metadata": {
    "pycharm": {
     "is_executing": false
    }
   },
   "outputs": [],
   "source": [
    "def train_aac(baseline=False, entropy=False, **train_kwargs):\n",
    "    hp = hw4.answers.part1_aac_hyperparams()\n",
    "    loss_fns = [hw4ac.AACPolicyGradientLoss(hp['delta']), hw4pg.ActionEntropyLoss(ENV_N_ACTIONS, hp['beta'])]\n",
    "    return train_rl(hw4ac.AACPolicyAgent, hw4ac.AACPolicyNet, loss_fns, hp, **train_kwargs)"
   ]
  },
  {
   "cell_type": "code",
   "execution_count": null,
   "metadata": {
    "pycharm": {
     "is_executing": false
    }
   },
   "outputs": [],
   "source": [
    "training_data_filename = os.path.join('results', f'part1_exp_aac.dat')\n",
    "\n",
    "# Set to True to force re-run (careful, will delete old experiment results)\n",
    "force_run = False\n",
    "\n",
    "if os.path.isfile(training_data_filename) and not force_run:\n",
    "    print(f'=== results file {training_data_filename} exists, skipping experiments.')\n",
    "    results_aac = load_training_data(training_data_filename)\n",
    "    \n",
    "else:\n",
    "    print(f'=== Running AAC experiment')\n",
    "    training_data = train_aac(max_episodes=exp_max_episodes)\n",
    "    results_aac = dict(aac=training_data)\n",
    "    dump_training_data(results_aac, training_data_filename)"
   ]
  },
  {
   "cell_type": "code",
   "execution_count": null,
   "metadata": {
    "pycharm": {
     "is_executing": false
    }
   },
   "outputs": [],
   "source": [
    "experiments_results_fig = plot_experiment_results(results)\n",
    "plot_experiment_results(results_aac, fig=experiments_results_fig);"
   ]
  },
  {
   "cell_type": "markdown",
   "metadata": {},
   "source": [
    "You should get better results with the AAC method, so this time the bar is higher (again, you should aim for a mean reward of 100+).\n",
    "Compare the graphs with combined PG method and see if they make sense."
   ]
  },
  {
   "cell_type": "code",
   "execution_count": null,
   "metadata": {
    "pycharm": {
     "is_executing": false
    }
   },
   "outputs": [],
   "source": [
    "best_aac_mean_reward = max(results_aac['aac']['mean_reward'])\n",
    "print(f'Best AAC mean reward: {best_aac_mean_reward:.2f}')\n",
    "\n",
    "test.assertGreater(best_aac_mean_reward, 50)"
   ]
  },
  {
   "cell_type": "markdown",
   "metadata": {},
   "source": [
    "### Final model training and visualization"
   ]
  },
  {
   "cell_type": "markdown",
   "metadata": {},
   "source": [
    "Now, using your best model and hyperparams, let's train model for much longer and see the performance.\n",
    "Just for fun, we'll also visualize an episode every now and then so that we can see how well the agent is playing."
   ]
  },
  {
   "cell_type": "markdown",
   "metadata": {},
   "source": [
    "**TODO**:\n",
    "- Run the following block to train.\n",
    "- Tweak model or hyperparams as necessary.\n",
    "- Aim for high mean reward, at least 150+. It's possible to get over 200.\n",
    "- When training is done and you're satisfied with the model's outputs, rename the checkpoint file by adding `_final` to the file name.\n",
    "  This will cause the block to skip training and instead load your saved model when running the homework submission script.\n",
    "  Note that your submission zip file will not include the checkpoint file. This is OK."
   ]
  },
  {
   "cell_type": "code",
   "execution_count": null,
   "metadata": {
    "pycharm": {
     "is_executing": false
    }
   },
   "outputs": [],
   "source": [
    "import IPython.display\n",
    "\n",
    "CHECKPOINTS_FILE = f'checkpoints/{ENV_NAME}-ac.dat'\n",
    "CHECKPOINTS_FILE_FINAL = f'checkpoints/{ENV_NAME}-ac_final.dat'\n",
    "TARGET_REWARD = 125\n",
    "MAX_EPISODES = 15_000\n",
    "\n",
    "def post_batch_fn(batch_idx, p_net, batch, print_every=20, final=False):\n",
    "    if not final and batch_idx % print_every != 0:\n",
    "        return\n",
    "    env, n_steps, reward = hw4ac.AACPolicyAgent.monitor_episode(ENV_NAME, p_net)\n",
    "    html = show_monitor_video(env, width=\"500\")\n",
    "    IPython.display.clear_output(wait=True)\n",
    "    print(f'Monitor@#{batch_idx}: n_steps={n_steps}, total_reward={reward:.3f}, final={final}')\n",
    "    IPython.display.display_html(html)\n",
    "    \n",
    "    \n",
    "if os.path.isfile(CHECKPOINTS_FILE_FINAL):\n",
    "    print(f'=== {CHECKPOINTS_FILE_FINAL} exists, skipping training...')\n",
    "    checkpoint_data = torch.load(CHECKPOINTS_FILE_FINAL)\n",
    "    hp = hw4.answers.part1_aac_hyperparams()\n",
    "    pv_net = hw4ac.AACPolicyNet.build_for_env(env, **hp)\n",
    "    pv_net.load_state_dict(checkpoint_data['params'])\n",
    "    print(f'=== Running best model...')\n",
    "    env, n_steps, reward = hw4ac.AACPolicyAgent.monitor_episode(ENV_NAME, pv_net)\n",
    "    print(f'=== Best model ran for {n_steps} steps. Total reward: {reward:.2f}')\n",
    "    IPython.display.display_html(show_monitor_video(env))\n",
    "    best_mean_reward = checkpoint_data[\"best_mean_reward\"]\n",
    "else:\n",
    "    print(f'=== Starting training...')\n",
    "    train_data = train_aac(TARGET_REWARD, max_episodes=MAX_EPISODES,\n",
    "                           seed=None, checkpoints_file=CHECKPOINTS_FILE, post_batch_fn=post_batch_fn)\n",
    "    print(f'=== Done, ', end='')\n",
    "    best_mean_reward = train_data[\"best_mean_reward\"][-1]\n",
    "    print(f'num_episodes={train_data[\"episode_num\"][-1]}, best_mean_reward={best_mean_reward:.1f}')\n",
    "          \n",
    "test.assertGreaterEqual(best_mean_reward, TARGET_REWARD)"
   ]
  },
  {
   "cell_type": "markdown",
   "metadata": {},
   "source": [
    "## Questions\n",
    "<a id=part1_3></a>"
   ]
  },
  {
   "cell_type": "markdown",
   "metadata": {},
   "source": [
    "**TODO**: Answer the following questions. Write your answers in the appropriate variables in the module `hw4/answers.py`."
   ]
  },
  {
   "cell_type": "code",
   "execution_count": null,
   "metadata": {
    "pycharm": {
     "is_executing": false
    }
   },
   "outputs": [],
   "source": [
    "from cs236781.answers import display_answer\n",
    "import hw4.answers"
   ]
  },
  {
   "cell_type": "markdown",
   "metadata": {},
   "source": [
    "### Question 1\n",
    "\n",
    "Explain qualitatively why subtracting a baseline in the policy-gradient helps reduce it's variance.\n",
    "Specifically, give an example where it helps."
   ]
  },
  {
   "cell_type": "code",
   "execution_count": null,
   "metadata": {
    "pycharm": {
     "is_executing": false
    }
   },
   "outputs": [],
   "source": [
    "display_answer(hw4.answers.part1_q1)"
   ]
  },
  {
   "cell_type": "markdown",
   "metadata": {},
   "source": [
    "### Question 2\n",
    "\n",
    "In AAC, when using the estimated q-values as regression targets for our state-values, why do we get a valid approximation?\n",
    "Hint: how is $v_\\pi(s)$ expressed in terms of $q_\\pi(s,a)$?"
   ]
  },
  {
   "cell_type": "code",
   "execution_count": null,
   "metadata": {
    "pycharm": {
     "is_executing": false
    }
   },
   "outputs": [],
   "source": [
    "display_answer(hw4.answers.part1_q2)"
   ]
  },
  {
   "cell_type": "markdown",
   "metadata": {},
   "source": [
    "### Question 3\n",
    "\n",
    "1. Analyze and explain the graphs you got in first experiment run.\n",
    "2. Compare the experiment graphs you got with the AAC method to the regular PG method (`cpg`)."
   ]
  },
  {
   "cell_type": "code",
   "execution_count": null,
   "metadata": {
    "pycharm": {
     "is_executing": false
    }
   },
   "outputs": [],
   "source": [
    "display_answer(hw4.answers.part1_q3)"
   ]
  }
 ],
 "metadata": {
  "kernelspec": {
   "display_name": "Python 3",
   "language": "python",
   "name": "python3"
  },
  "language_info": {
   "codemirror_mode": {
    "name": "ipython",
    "version": 3
   },
   "file_extension": ".py",
   "mimetype": "text/x-python",
   "name": "python",
   "nbconvert_exporter": "python",
   "pygments_lexer": "ipython3",
   "version": "3.7.4"
  },
  "pycharm": {
   "stem_cell": {
    "cell_type": "raw",
    "metadata": {
     "collapsed": false
    },
    "source": []
   }
  }
 },
 "nbformat": 4,
 "nbformat_minor": 4
}